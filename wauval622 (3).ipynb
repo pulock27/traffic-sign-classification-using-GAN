{
 "cells": [
  {
   "cell_type": "code",
   "execution_count": 1,
   "id": "2251a530",
   "metadata": {
    "execution": {
     "iopub.execute_input": "2024-05-22T19:53:23.731293Z",
     "iopub.status.busy": "2024-05-22T19:53:23.730874Z",
     "iopub.status.idle": "2024-05-22T19:53:35.920795Z",
     "shell.execute_reply": "2024-05-22T19:53:35.919826Z"
    },
    "papermill": {
     "duration": 12.200239,
     "end_time": "2024-05-22T19:53:35.923162",
     "exception": false,
     "start_time": "2024-05-22T19:53:23.722923",
     "status": "completed"
    },
    "tags": []
   },
   "outputs": [
    {
     "name": "stderr",
     "output_type": "stream",
     "text": [
      "2024-05-22 19:53:25.432492: E external/local_xla/xla/stream_executor/cuda/cuda_dnn.cc:9261] Unable to register cuDNN factory: Attempting to register factory for plugin cuDNN when one has already been registered\n",
      "2024-05-22 19:53:25.432593: E external/local_xla/xla/stream_executor/cuda/cuda_fft.cc:607] Unable to register cuFFT factory: Attempting to register factory for plugin cuFFT when one has already been registered\n",
      "2024-05-22 19:53:25.557451: E external/local_xla/xla/stream_executor/cuda/cuda_blas.cc:1515] Unable to register cuBLAS factory: Attempting to register factory for plugin cuBLAS when one has already been registered\n"
     ]
    }
   ],
   "source": [
    "import tensorflow as tf\n",
    "import os\n",
    "import numpy as np\n",
    "from pathlib import Path\n",
    "from tensorflow import keras\n",
    "from tensorflow.keras import layers\n",
    "from tqdm import tqdm"
   ]
  },
  {
   "cell_type": "code",
   "execution_count": 2,
   "id": "9bd03d56",
   "metadata": {
    "execution": {
     "iopub.execute_input": "2024-05-22T19:53:35.945850Z",
     "iopub.status.busy": "2024-05-22T19:53:35.944930Z",
     "iopub.status.idle": "2024-05-22T19:53:35.950194Z",
     "shell.execute_reply": "2024-05-22T19:53:35.949218Z"
    },
    "papermill": {
     "duration": 0.016825,
     "end_time": "2024-05-22T19:53:35.952225",
     "exception": false,
     "start_time": "2024-05-22T19:53:35.935400",
     "status": "completed"
    },
    "tags": []
   },
   "outputs": [],
   "source": [
    "import os\n",
    "# Define the path for the empty folder\n",
    "folder_path = '/kaggle/working/empty_folderf3/'\n",
    "\n",
    "# Create the empty folder\n",
    "os.makedirs(folder_path, exist_ok=True)\n",
    "save_dir = ('/kaggle/working/empty_folderf3')\n"
   ]
  },
  {
   "cell_type": "code",
   "execution_count": 3,
   "id": "14ee3394",
   "metadata": {
    "execution": {
     "iopub.execute_input": "2024-05-22T19:53:35.965855Z",
     "iopub.status.busy": "2024-05-22T19:53:35.965309Z",
     "iopub.status.idle": "2024-05-22T19:53:51.457648Z",
     "shell.execute_reply": "2024-05-22T19:53:51.456888Z"
    },
    "papermill": {
     "duration": 15.501401,
     "end_time": "2024-05-22T19:53:51.459802",
     "exception": false,
     "start_time": "2024-05-22T19:53:35.958401",
     "status": "completed"
    },
    "tags": []
   },
   "outputs": [
    {
     "name": "stdout",
     "output_type": "stream",
     "text": [
      "Found 39209 files belonging to 43 classes.\n",
      "Using 31368 files for training.\n",
      "Found 39209 files belonging to 43 classes.\n",
      "Using 7841 files for validation.\n"
     ]
    }
   ],
   "source": [
    "from sklearn.model_selection import train_test_split\n",
    "\n",
    "# Split dataset into training and validation sets\n",
    "train_dir = '/kaggle/input/gtsrb-train/Train'\n",
    "train_data, val_data = train_test_split(os.listdir(train_dir), test_size=0.2, random_state=42)\n",
    "\n",
    "# Create training and validation datasets\n",
    "train_dataset = keras.preprocessing.image_dataset_from_directory(\n",
    "    directory=train_dir, \n",
    "    labels='inferred',  # Use inferred labels from directory structure\n",
    "    label_mode='categorical', \n",
    "    image_size=(64,64), \n",
    "    batch_size=64,\n",
    "    shuffle=True,\n",
    "    validation_split=0.2,  # Percentage of data to use for validation\n",
    "    subset=\"training\",\n",
    "    seed=42  # Specify seed for reproducibility\n",
    ").map(lambda x, y: (x/255.0, y))  # Normalize the pixel values to [0, 1]\n",
    "\n",
    "val_dataset = keras.preprocessing.image_dataset_from_directory(\n",
    "    directory=train_dir, \n",
    "    labels='inferred',  # Use inferred labels from directory structure\n",
    "    label_mode='categorical', \n",
    "    image_size=(64,64), \n",
    "    batch_size=64,\n",
    "    shuffle=True,\n",
    "    validation_split=0.2,  # Percentage of data to use for validation\n",
    "    subset=\"validation\",\n",
    "    seed=42  # Specify seed for reproducibility\n",
    ").map(lambda x, y: (x/255.0, y))  # Normalize the pixel values to [0, 1])\n"
   ]
  },
  {
   "cell_type": "code",
   "execution_count": 4,
   "id": "e3d5a7c0",
   "metadata": {
    "execution": {
     "iopub.execute_input": "2024-05-22T19:53:51.473904Z",
     "iopub.status.busy": "2024-05-22T19:53:51.473626Z",
     "iopub.status.idle": "2024-05-22T19:53:51.477246Z",
     "shell.execute_reply": "2024-05-22T19:53:51.476394Z"
    },
    "papermill": {
     "duration": 0.012841,
     "end_time": "2024-05-22T19:53:51.479186",
     "exception": false,
     "start_time": "2024-05-22T19:53:51.466345",
     "status": "completed"
    },
    "tags": []
   },
   "outputs": [],
   "source": [
    "#nnnnnnneeeeewwwwwwwwww   mmmmooodeeel"
   ]
  },
  {
   "cell_type": "code",
   "execution_count": 5,
   "id": "0324f6d3",
   "metadata": {
    "execution": {
     "iopub.execute_input": "2024-05-22T19:53:51.492872Z",
     "iopub.status.busy": "2024-05-22T19:53:51.492515Z",
     "iopub.status.idle": "2024-05-22T19:53:51.628616Z",
     "shell.execute_reply": "2024-05-22T19:53:51.627797Z"
    },
    "papermill": {
     "duration": 0.145426,
     "end_time": "2024-05-22T19:53:51.630878",
     "exception": false,
     "start_time": "2024-05-22T19:53:51.485452",
     "status": "completed"
    },
    "tags": []
   },
   "outputs": [],
   "source": [
    "latent_dim = 128\n",
    "\n",
    "# Encoder\n",
    "encoder = keras.Sequential([\n",
    "    layers.Input(shape=(64,64, 3)),\n",
    "    layers.Conv2D(64, kernel_size=4, strides=2, padding=\"same\"),\n",
    "    layers.LeakyReLU(0.2),\n",
    "    layers.Conv2D(128, kernel_size=4, strides=2, padding=\"same\"),\n",
    "    layers.LeakyReLU(0.2),\n",
    "    layers.Conv2D(256, kernel_size=4, strides=2, padding=\"same\"),\n",
    "    layers.LeakyReLU(0.2),\n",
    "    layers.Conv2D(512, kernel_size=4, strides=2, padding=\"same\"),\n",
    "    layers.LeakyReLU(0.2),\n",
    "    layers.Flatten(),\n",
    "    layers.Dense(latent_dim)  # Latent representation\n",
    "])\n",
    "\n",
    "# Decoder\n",
    "decoder = keras.Sequential([\n",
    "    layers.Input(shape=(latent_dim,)),\n",
    "    layers.Dense(8*8*512),\n",
    "    layers.Reshape((8,8, 512)),\n",
    "    layers.Conv2DTranspose(256, kernel_size=4, strides=2, padding=\"same\"),\n",
    "    layers.LeakyReLU(0.2),\n",
    "    layers.Conv2DTranspose(128, kernel_size=4, strides=2, padding=\"same\"),\n",
    "    layers.LeakyReLU(0.2),\n",
    "    layers.Conv2DTranspose(64, kernel_size=4, strides=2, padding=\"same\"),\n",
    "    layers.LeakyReLU(0.2),\n",
    "    layers.Conv2DTranspose(3, kernel_size=4,  padding=\"same\", activation=\"tanh\"),\n",
    "])\n",
    "\n",
    "# Full autoencoder model\n",
    "autoencoder = keras.Sequential([\n",
    "    layers.Input(shape=(64,64,3)),\n",
    "    encoder,\n",
    "    decoder\n",
    "])\n"
   ]
  },
  {
   "cell_type": "code",
   "execution_count": 6,
   "id": "250ad0a3",
   "metadata": {
    "execution": {
     "iopub.execute_input": "2024-05-22T19:53:51.645371Z",
     "iopub.status.busy": "2024-05-22T19:53:51.645076Z",
     "iopub.status.idle": "2024-05-22T19:53:51.649083Z",
     "shell.execute_reply": "2024-05-22T19:53:51.648226Z"
    },
    "papermill": {
     "duration": 0.013266,
     "end_time": "2024-05-22T19:53:51.650970",
     "exception": false,
     "start_time": "2024-05-22T19:53:51.637704",
     "status": "completed"
    },
    "tags": []
   },
   "outputs": [],
   "source": [
    "from tensorflow.keras import layers, models, optimizers"
   ]
  },
  {
   "cell_type": "code",
   "execution_count": 7,
   "id": "015ecc27",
   "metadata": {
    "execution": {
     "iopub.execute_input": "2024-05-22T19:53:51.664740Z",
     "iopub.status.busy": "2024-05-22T19:53:51.664451Z",
     "iopub.status.idle": "2024-05-22T19:53:51.734225Z",
     "shell.execute_reply": "2024-05-22T19:53:51.733553Z"
    },
    "papermill": {
     "duration": 0.078918,
     "end_time": "2024-05-22T19:53:51.736157",
     "exception": false,
     "start_time": "2024-05-22T19:53:51.657239",
     "status": "completed"
    },
    "tags": []
   },
   "outputs": [],
   "source": [
    "import tensorflow as tf\n",
    "\n",
    "def create_model():\n",
    "    inputs = tf.keras.Input(shape=(64, 64, 3))\n",
    "    \n",
    "    x = tf.keras.layers.Conv2D(200, kernel_size=3, activation='relu', padding='same')(inputs)\n",
    "    x = tf.keras.layers.MaxPooling2D(pool_size=2, padding='same')(x)  # Output shape: (24, 24, 250)\n",
    "    \n",
    "    x = tf.keras.layers.Conv2D(300, kernel_size=3, activation='relu', padding='same')(x)\n",
    "    x = tf.keras.layers.MaxPooling2D(pool_size=2, padding='same')(x)  # Output shape: (12, 12, 300)\n",
    "   \n",
    "    \n",
    "    x = tf.keras.layers.Conv2D(450, kernel_size=3, activation='relu', padding='same')(x)\n",
    "    x = tf.keras.layers.MaxPooling2D(pool_size=2, padding='same')(x)  # Output shape: (3, 3, 400)\n",
    "    \n",
    "    x = tf.keras.layers.Flatten()(x)\n",
    "\n",
    "    x = tf.keras.layers.Dense(600, activation='relu')(x)\n",
    "    x = tf.keras.layers.Dropout(0.4)(x)\n",
    "    x = tf.keras.layers.Dense(400, activation='relu')(x)\n",
    "    x = tf.keras.layers.Dropout(0.5)(x)   \n",
    "    outputs = tf.keras.layers.Dense(43, activation='softmax')(x)\n",
    "    \n",
    "    model = tf.keras.Model(inputs=inputs, outputs=outputs)\n",
    "    \n",
    "    return model\n",
    "\n",
    "# Create an instance of the model\n",
    "discriminator = create_model()\n",
    "\n",
    "\n"
   ]
  },
  {
   "cell_type": "code",
   "execution_count": 8,
   "id": "8448ffe5",
   "metadata": {
    "execution": {
     "iopub.execute_input": "2024-05-22T19:53:51.750219Z",
     "iopub.status.busy": "2024-05-22T19:53:51.749367Z",
     "iopub.status.idle": "2024-05-22T19:53:51.765298Z",
     "shell.execute_reply": "2024-05-22T19:53:51.764647Z"
    },
    "papermill": {
     "duration": 0.024842,
     "end_time": "2024-05-22T19:53:51.767185",
     "exception": false,
     "start_time": "2024-05-22T19:53:51.742343",
     "status": "completed"
    },
    "tags": []
   },
   "outputs": [],
   "source": [
    "# Loss functions\n",
    "loss_fn_auto = tf.keras.losses.MeanSquaredError()\n",
    "loss_fn_disc = tf.keras.losses.CategoricalCrossentropy()\n",
    "\n",
    "# Optimizers\n",
    "opt_autoencoder = tf.keras.optimizers.Adam(learning_rate=0.0001, beta_1=0.5)\n",
    "opt_disc = tf.keras.optimizers.Adam(learning_rate=0.0001, beta_1=0.5)\n",
    "\n",
    "\n",
    "# Compile the autoencoder model\n",
    "autoencoder.compile(optimizer=opt_autoencoder, loss=loss_fn_auto)\n",
    "\n",
    "# Compile the discriminator model\n",
    "discriminator.compile(optimizer=opt_disc, loss=loss_fn_disc, metrics=['accuracy'])"
   ]
  },
  {
   "cell_type": "code",
   "execution_count": 9,
   "id": "267ed7fe",
   "metadata": {
    "execution": {
     "iopub.execute_input": "2024-05-22T19:53:51.780798Z",
     "iopub.status.busy": "2024-05-22T19:53:51.780524Z",
     "iopub.status.idle": "2024-05-22T23:52:59.080665Z",
     "shell.execute_reply": "2024-05-22T23:52:59.079668Z"
    },
    "papermill": {
     "duration": 14351.49026,
     "end_time": "2024-05-22T23:53:03.263688",
     "exception": false,
     "start_time": "2024-05-22T19:53:51.773428",
     "status": "completed"
    },
    "tags": []
   },
   "outputs": [
    {
     "name": "stderr",
     "output_type": "stream",
     "text": [
      "100%|██████████| 491/491 [02:25<00:00,  3.37it/s]\n"
     ]
    },
    {
     "name": "stdout",
     "output_type": "stream",
     "text": [
      "Epoch 0, Autoencoder Loss: 0.02562890015542507, Discriminator Loss: 2.4329752922058105, Discriminator Accuracy: 0.20773930847644806\n",
      "Validation - Autoencoder Loss: 0.01622704789042473, Discriminator Loss: 1.5611485242843628, Discriminator Accuracy: 0.32460272312164307\n"
     ]
    },
    {
     "name": "stderr",
     "output_type": "stream",
     "text": [
      "100%|██████████| 491/491 [02:12<00:00,  3.70it/s]\n"
     ]
    },
    {
     "name": "stdout",
     "output_type": "stream",
     "text": [
      "Epoch 1, Autoencoder Loss: 0.012059391476213932, Discriminator Loss: 0.8298531174659729, Discriminator Accuracy: 0.7226005792617798\n",
      "Validation - Autoencoder Loss: 0.009913565590977669, Discriminator Loss: 0.5017353892326355, Discriminator Accuracy: 0.7561591267585754\n"
     ]
    },
    {
     "name": "stderr",
     "output_type": "stream",
     "text": [
      "100%|██████████| 491/491 [02:12<00:00,  3.69it/s]\n"
     ]
    },
    {
     "name": "stdout",
     "output_type": "stream",
     "text": [
      "Epoch 2, Autoencoder Loss: 0.008283442817628384, Discriminator Loss: 0.29829591512680054, Discriminator Accuracy: 0.9376273155212402\n",
      "Validation - Autoencoder Loss: 0.00733199855312705, Discriminator Loss: 0.23194271326065063, Discriminator Accuracy: 0.8941164612770081\n"
     ]
    },
    {
     "name": "stderr",
     "output_type": "stream",
     "text": [
      "100%|██████████| 491/491 [02:13<00:00,  3.69it/s]\n"
     ]
    },
    {
     "name": "stdout",
     "output_type": "stream",
     "text": [
      "Epoch 3, Autoencoder Loss: 0.006399688310921192, Discriminator Loss: 0.14185796678066254, Discriminator Accuracy: 0.9846295714378357\n",
      "Validation - Autoencoder Loss: 0.006034767255187035, Discriminator Loss: 0.13647064566612244, Discriminator Accuracy: 0.9376347064971924\n"
     ]
    },
    {
     "name": "stderr",
     "output_type": "stream",
     "text": [
      "100%|██████████| 491/491 [02:13<00:00,  3.67it/s]\n"
     ]
    },
    {
     "name": "stdout",
     "output_type": "stream",
     "text": [
      "Epoch 4, Autoencoder Loss: 0.005423857364803553, Discriminator Loss: 0.07658615708351135, Discriminator Accuracy: 0.995703935623169\n",
      "Validation - Autoencoder Loss: 0.005060652270913124, Discriminator Loss: 0.09460370242595673, Discriminator Accuracy: 0.963676393032074\n"
     ]
    },
    {
     "name": "stderr",
     "output_type": "stream",
     "text": [
      "100%|██████████| 491/491 [02:14<00:00,  3.65it/s]\n"
     ]
    },
    {
     "name": "stdout",
     "output_type": "stream",
     "text": [
      "Epoch 5, Autoencoder Loss: 0.004733656533062458, Discriminator Loss: 0.04844636097550392, Discriminator Accuracy: 0.998440682888031\n",
      "Validation - Autoencoder Loss: 0.004652007948607206, Discriminator Loss: 0.07869140803813934, Discriminator Accuracy: 0.9669946432113647\n"
     ]
    },
    {
     "name": "stderr",
     "output_type": "stream",
     "text": [
      "100%|██████████| 491/491 [02:14<00:00,  3.66it/s]\n"
     ]
    },
    {
     "name": "stdout",
     "output_type": "stream",
     "text": [
      "Epoch 6, Autoencoder Loss: 0.004342320375144482, Discriminator Loss: 0.03799554333090782, Discriminator Accuracy: 0.9986634254455566\n",
      "Validation - Autoencoder Loss: 0.0042749023996293545, Discriminator Loss: 0.08826197683811188, Discriminator Accuracy: 0.9606276154518127\n"
     ]
    },
    {
     "name": "stderr",
     "output_type": "stream",
     "text": [
      "100%|██████████| 491/491 [02:14<00:00,  3.65it/s]\n"
     ]
    },
    {
     "name": "stdout",
     "output_type": "stream",
     "text": [
      "Epoch 7, Autoencoder Loss: 0.003910668194293976, Discriminator Loss: 0.023312145844101906, Discriminator Accuracy: 0.999554455280304\n",
      "Validation - Autoencoder Loss: 0.005172803066670895, Discriminator Loss: 0.06450717896223068, Discriminator Accuracy: 0.9762449264526367\n"
     ]
    },
    {
     "name": "stderr",
     "output_type": "stream",
     "text": [
      "100%|██████████| 491/491 [02:14<00:00,  3.66it/s]\n"
     ]
    },
    {
     "name": "stdout",
     "output_type": "stream",
     "text": [
      "Epoch 8, Autoencoder Loss: 0.0036434107460081577, Discriminator Loss: 0.026433724910020828, Discriminator Accuracy: 0.9994908571243286\n",
      "Validation - Autoencoder Loss: 0.0047317128628492355, Discriminator Loss: 0.09276878088712692, Discriminator Accuracy: 0.9691464900970459\n"
     ]
    },
    {
     "name": "stderr",
     "output_type": "stream",
     "text": [
      "100%|██████████| 491/491 [02:14<00:00,  3.66it/s]\n"
     ]
    },
    {
     "name": "stdout",
     "output_type": "stream",
     "text": [
      "Epoch 9, Autoencoder Loss: 0.004114853218197823, Discriminator Loss: 0.04669318348169327, Discriminator Accuracy: 0.995703935623169\n",
      "Validation - Autoencoder Loss: 0.003751551266759634, Discriminator Loss: 0.05647124722599983, Discriminator Accuracy: 0.9803099632263184\n"
     ]
    },
    {
     "name": "stderr",
     "output_type": "stream",
     "text": [
      "100%|██████████| 491/491 [02:14<00:00,  3.65it/s]\n"
     ]
    },
    {
     "name": "stdout",
     "output_type": "stream",
     "text": [
      "Epoch 10, Autoencoder Loss: 0.0032800131011754274, Discriminator Loss: 0.007483114488422871, Discriminator Accuracy: 0.9999681711196899\n",
      "Validation - Autoencoder Loss: 0.003294857684522867, Discriminator Loss: 0.05267946422100067, Discriminator Accuracy: 0.9841209053993225\n"
     ]
    },
    {
     "name": "stderr",
     "output_type": "stream",
     "text": [
      "100%|██████████| 491/491 [02:14<00:00,  3.65it/s]\n"
     ]
    },
    {
     "name": "stdout",
     "output_type": "stream",
     "text": [
      "Epoch 11, Autoencoder Loss: 0.0031540768686681986, Discriminator Loss: 0.009072983637452126, Discriminator Accuracy: 0.9998726844787598\n",
      "Validation - Autoencoder Loss: 0.0031659258529543877, Discriminator Loss: 0.0493423156440258, Discriminator Accuracy: 0.9874314665794373\n"
     ]
    },
    {
     "name": "stderr",
     "output_type": "stream",
     "text": [
      "100%|██████████| 491/491 [02:14<00:00,  3.65it/s]\n"
     ]
    },
    {
     "name": "stdout",
     "output_type": "stream",
     "text": [
      "Epoch 12, Autoencoder Loss: 0.0030281052459031343, Discriminator Loss: 0.011143431067466736, Discriminator Accuracy: 0.9998726844787598\n",
      "Validation - Autoencoder Loss: 0.003178513143211603, Discriminator Loss: 0.04579897224903107, Discriminator Accuracy: 0.986026406288147\n"
     ]
    },
    {
     "name": "stderr",
     "output_type": "stream",
     "text": [
      "100%|██████████| 491/491 [02:15<00:00,  3.64it/s]\n"
     ]
    },
    {
     "name": "stdout",
     "output_type": "stream",
     "text": [
      "Epoch 13, Autoencoder Loss: 0.0038596733938902617, Discriminator Loss: 0.06344570219516754, Discriminator Accuracy: 0.9916624426841736\n",
      "Validation - Autoencoder Loss: 0.003143951063975692, Discriminator Loss: 0.05918761342763901, Discriminator Accuracy: 0.9815802574157715\n"
     ]
    },
    {
     "name": "stderr",
     "output_type": "stream",
     "text": [
      "100%|██████████| 491/491 [02:14<00:00,  3.64it/s]\n"
     ]
    },
    {
     "name": "stdout",
     "output_type": "stream",
     "text": [
      "Epoch 14, Autoencoder Loss: 0.002842408837750554, Discriminator Loss: 0.008757290430366993, Discriminator Accuracy: 0.9999363422393799\n",
      "Validation - Autoencoder Loss: 0.0029842087533324957, Discriminator Loss: 0.0411127470433712, Discriminator Accuracy: 0.9876855611801147\n"
     ]
    },
    {
     "name": "stderr",
     "output_type": "stream",
     "text": [
      "100%|██████████| 491/491 [02:15<00:00,  3.63it/s]\n"
     ]
    },
    {
     "name": "stdout",
     "output_type": "stream",
     "text": [
      "Epoch 15, Autoencoder Loss: 0.002747052116319537, Discriminator Loss: 0.0025382526218891144, Discriminator Accuracy: 1.0\n",
      "Validation - Autoencoder Loss: 0.003154325531795621, Discriminator Loss: 0.03940078243613243, Discriminator Accuracy: 0.9895910024642944\n"
     ]
    },
    {
     "name": "stderr",
     "output_type": "stream",
     "text": [
      "100%|██████████| 491/491 [02:15<00:00,  3.62it/s]\n"
     ]
    },
    {
     "name": "stdout",
     "output_type": "stream",
     "text": [
      "Epoch 16, Autoencoder Loss: 0.002708749147132039, Discriminator Loss: 0.002668273402377963, Discriminator Accuracy: 1.0\n",
      "Validation - Autoencoder Loss: 0.00467357924208045, Discriminator Loss: 0.2022833228111267, Discriminator Accuracy: 0.9443674683570862\n"
     ]
    },
    {
     "name": "stderr",
     "output_type": "stream",
     "text": [
      "100%|██████████| 491/491 [02:15<00:00,  3.63it/s]\n"
     ]
    },
    {
     "name": "stdout",
     "output_type": "stream",
     "text": [
      "Epoch 17, Autoencoder Loss: 0.0026268388610333204, Discriminator Loss: 0.01804867945611477, Discriminator Accuracy: 0.9993953704833984\n",
      "Validation - Autoencoder Loss: 0.0028760861605405807, Discriminator Loss: 0.049098901450634, Discriminator Accuracy: 0.9855259656906128\n"
     ]
    },
    {
     "name": "stderr",
     "output_type": "stream",
     "text": [
      "100%|██████████| 491/491 [02:14<00:00,  3.65it/s]\n"
     ]
    },
    {
     "name": "stdout",
     "output_type": "stream",
     "text": [
      "Epoch 18, Autoencoder Loss: 0.002541859168559313, Discriminator Loss: 0.0050749583169817924, Discriminator Accuracy: 0.9998409152030945\n",
      "Validation - Autoencoder Loss: 0.002862588269636035, Discriminator Loss: 0.048881951719522476, Discriminator Accuracy: 0.9847561120986938\n"
     ]
    },
    {
     "name": "stderr",
     "output_type": "stream",
     "text": [
      "100%|██████████| 491/491 [02:15<00:00,  3.63it/s]\n"
     ]
    },
    {
     "name": "stdout",
     "output_type": "stream",
     "text": [
      "Epoch 19, Autoencoder Loss: 0.0025209023151546717, Discriminator Loss: 0.009511947631835938, Discriminator Accuracy: 0.9998409152030945\n",
      "Validation - Autoencoder Loss: 0.0028681857511401176, Discriminator Loss: 0.04478435963392258, Discriminator Accuracy: 0.9878048896789551\n"
     ]
    },
    {
     "name": "stderr",
     "output_type": "stream",
     "text": [
      "100%|██████████| 491/491 [02:15<00:00,  3.63it/s]\n"
     ]
    },
    {
     "name": "stdout",
     "output_type": "stream",
     "text": [
      "Epoch 20, Autoencoder Loss: 0.002414439804852009, Discriminator Loss: 0.007359762210398912, Discriminator Accuracy: 0.9999045133590698\n",
      "Validation - Autoencoder Loss: 0.004045405890792608, Discriminator Loss: 0.06121980771422386, Discriminator Accuracy: 0.9786585569381714\n"
     ]
    },
    {
     "name": "stderr",
     "output_type": "stream",
     "text": [
      "100%|██████████| 491/491 [02:14<00:00,  3.64it/s]\n"
     ]
    },
    {
     "name": "stdout",
     "output_type": "stream",
     "text": [
      "Epoch 21, Autoencoder Loss: 0.002364028012380004, Discriminator Loss: 0.002099834382534027, Discriminator Accuracy: 1.0\n",
      "Validation - Autoencoder Loss: 0.00276307319290936, Discriminator Loss: 0.047112107276916504, Discriminator Accuracy: 0.9871774315834045\n"
     ]
    },
    {
     "name": "stderr",
     "output_type": "stream",
     "text": [
      "100%|██████████| 491/491 [02:14<00:00,  3.65it/s]\n"
     ]
    },
    {
     "name": "stdout",
     "output_type": "stream",
     "text": [
      "Epoch 22, Autoencoder Loss: 0.002283829962834716, Discriminator Loss: 0.0072786761447787285, Discriminator Accuracy: 0.9997772574424744\n",
      "Validation - Autoencoder Loss: 0.0026893976610153913, Discriminator Loss: 0.04323113337159157, Discriminator Accuracy: 0.9902185201644897\n"
     ]
    },
    {
     "name": "stderr",
     "output_type": "stream",
     "text": [
      "100%|██████████| 491/491 [02:14<00:00,  3.66it/s]\n"
     ]
    },
    {
     "name": "stdout",
     "output_type": "stream",
     "text": [
      "Epoch 23, Autoencoder Loss: 0.002241183305159211, Discriminator Loss: 0.006824488285928965, Discriminator Accuracy: 0.9999363422393799\n",
      "Validation - Autoencoder Loss: 0.002750949701294303, Discriminator Loss: 0.047504521906375885, Discriminator Accuracy: 0.9866693019866943\n"
     ]
    },
    {
     "name": "stderr",
     "output_type": "stream",
     "text": [
      "100%|██████████| 491/491 [02:14<00:00,  3.66it/s]\n"
     ]
    },
    {
     "name": "stdout",
     "output_type": "stream",
     "text": [
      "Epoch 24, Autoencoder Loss: 0.0021898841951042414, Discriminator Loss: 0.003799936966970563, Discriminator Accuracy: 0.9999045133590698\n",
      "Validation - Autoencoder Loss: 0.00268120807595551, Discriminator Loss: 0.04932187497615814, Discriminator Accuracy: 0.9872967600822449\n"
     ]
    },
    {
     "name": "stderr",
     "output_type": "stream",
     "text": [
      "100%|██████████| 491/491 [02:13<00:00,  3.67it/s]\n"
     ]
    },
    {
     "name": "stdout",
     "output_type": "stream",
     "text": [
      "Epoch 25, Autoencoder Loss: 0.002159086987376213, Discriminator Loss: 0.002731580752879381, Discriminator Accuracy: 0.9997135996818542\n",
      "Validation - Autoencoder Loss: 0.009266067296266556, Discriminator Loss: 0.19646315276622772, Discriminator Accuracy: 0.939151406288147\n"
     ]
    },
    {
     "name": "stderr",
     "output_type": "stream",
     "text": [
      "100%|██████████| 491/491 [02:13<00:00,  3.67it/s]\n"
     ]
    },
    {
     "name": "stdout",
     "output_type": "stream",
     "text": [
      "Epoch 26, Autoencoder Loss: 0.0022560511715710163, Discriminator Loss: 0.015347008593380451, Discriminator Accuracy: 0.9990453124046326\n",
      "Validation - Autoencoder Loss: 0.002712876070290804, Discriminator Loss: 0.04188472032546997, Discriminator Accuracy: 0.9892022609710693\n"
     ]
    },
    {
     "name": "stderr",
     "output_type": "stream",
     "text": [
      "100%|██████████| 491/491 [02:13<00:00,  3.67it/s]\n"
     ]
    },
    {
     "name": "stdout",
     "output_type": "stream",
     "text": [
      "Epoch 27, Autoencoder Loss: 0.002010171301662922, Discriminator Loss: 0.0008774748421274126, Discriminator Accuracy: 1.0\n",
      "Validation - Autoencoder Loss: 0.0027917686384171247, Discriminator Loss: 0.039119794964790344, Discriminator Accuracy: 0.9903609156608582\n"
     ]
    },
    {
     "name": "stderr",
     "output_type": "stream",
     "text": [
      "100%|██████████| 491/491 [02:14<00:00,  3.65it/s]\n"
     ]
    },
    {
     "name": "stdout",
     "output_type": "stream",
     "text": [
      "Epoch 28, Autoencoder Loss: 0.0019988149870187044, Discriminator Loss: 0.005506422370672226, Discriminator Accuracy: 0.9998726844787598\n",
      "Validation - Autoencoder Loss: 0.0026151323691010475, Discriminator Loss: 0.03904663771390915, Discriminator Accuracy: 0.9899644255638123\n"
     ]
    },
    {
     "name": "stderr",
     "output_type": "stream",
     "text": [
      "100%|██████████| 491/491 [02:12<00:00,  3.69it/s]\n"
     ]
    },
    {
     "name": "stdout",
     "output_type": "stream",
     "text": [
      "Epoch 29, Autoencoder Loss: 0.0020044660195708275, Discriminator Loss: 0.007395000196993351, Discriminator Accuracy: 0.9999363422393799\n",
      "Validation - Autoencoder Loss: 0.002581814769655466, Discriminator Loss: 0.06365156173706055, Discriminator Accuracy: 0.986026406288147\n"
     ]
    },
    {
     "name": "stderr",
     "output_type": "stream",
     "text": [
      "100%|██████████| 491/491 [02:12<00:00,  3.69it/s]\n"
     ]
    },
    {
     "name": "stdout",
     "output_type": "stream",
     "text": [
      "Epoch 30, Autoencoder Loss: 0.00192039436660707, Discriminator Loss: 0.0059174541383981705, Discriminator Accuracy: 0.9999363422393799\n",
      "Validation - Autoencoder Loss: 0.0025838338769972324, Discriminator Loss: 0.09122732281684875, Discriminator Accuracy: 0.9718064665794373\n"
     ]
    },
    {
     "name": "stderr",
     "output_type": "stream",
     "text": [
      "100%|██████████| 491/491 [02:12<00:00,  3.70it/s]\n"
     ]
    },
    {
     "name": "stdout",
     "output_type": "stream",
     "text": [
      "Epoch 31, Autoencoder Loss: 0.0018627342069521546, Discriminator Loss: 0.0008624114561825991, Discriminator Accuracy: 1.0\n",
      "Validation - Autoencoder Loss: 0.0025775693356990814, Discriminator Loss: 0.04822908341884613, Discriminator Accuracy: 0.9893292784690857\n"
     ]
    },
    {
     "name": "stderr",
     "output_type": "stream",
     "text": [
      "100%|██████████| 491/491 [02:13<00:00,  3.69it/s]\n"
     ]
    },
    {
     "name": "stdout",
     "output_type": "stream",
     "text": [
      "Epoch 32, Autoencoder Loss: 0.0019898018799722195, Discriminator Loss: 0.014039645902812481, Discriminator Accuracy: 0.9992044568061829\n",
      "Validation - Autoencoder Loss: 0.0026073032058775425, Discriminator Loss: 0.04221896454691887, Discriminator Accuracy: 0.9884400367736816\n"
     ]
    },
    {
     "name": "stderr",
     "output_type": "stream",
     "text": [
      "100%|██████████| 491/491 [02:12<00:00,  3.70it/s]\n"
     ]
    },
    {
     "name": "stdout",
     "output_type": "stream",
     "text": [
      "Epoch 33, Autoencoder Loss: 0.0017603342421352863, Discriminator Loss: 0.0027503317687660456, Discriminator Accuracy: 0.9999681711196899\n",
      "Validation - Autoencoder Loss: 0.002668708795681596, Discriminator Loss: 0.047179214656353, Discriminator Accuracy: 0.9897180795669556\n"
     ]
    },
    {
     "name": "stderr",
     "output_type": "stream",
     "text": [
      "100%|██████████| 491/491 [02:12<00:00,  3.69it/s]\n"
     ]
    },
    {
     "name": "stdout",
     "output_type": "stream",
     "text": [
      "Epoch 34, Autoencoder Loss: 0.0017746624071151018, Discriminator Loss: 0.0005138508859090507, Discriminator Accuracy: 1.0\n",
      "Validation - Autoencoder Loss: 0.0026976389344781637, Discriminator Loss: 0.04364808648824692, Discriminator Accuracy: 0.9897180795669556\n"
     ]
    },
    {
     "name": "stderr",
     "output_type": "stream",
     "text": [
      "100%|██████████| 491/491 [02:13<00:00,  3.68it/s]\n"
     ]
    },
    {
     "name": "stdout",
     "output_type": "stream",
     "text": [
      "Epoch 35, Autoencoder Loss: 0.001762707019224763, Discriminator Loss: 0.0008840405498631299, Discriminator Accuracy: 1.0\n",
      "Validation - Autoencoder Loss: 0.0030042845755815506, Discriminator Loss: 0.04556301236152649, Discriminator Accuracy: 0.9893292784690857\n"
     ]
    },
    {
     "name": "stderr",
     "output_type": "stream",
     "text": [
      "100%|██████████| 491/491 [02:13<00:00,  3.67it/s]\n"
     ]
    },
    {
     "name": "stdout",
     "output_type": "stream",
     "text": [
      "Epoch 36, Autoencoder Loss: 0.0017410006839782, Discriminator Loss: 0.0007336107082664967, Discriminator Accuracy: 1.0\n",
      "Validation - Autoencoder Loss: 0.002629354130476713, Discriminator Loss: 0.05516640469431877, Discriminator Accuracy: 0.9897103905677795\n"
     ]
    },
    {
     "name": "stderr",
     "output_type": "stream",
     "text": [
      "100%|██████████| 491/491 [02:14<00:00,  3.66it/s]\n"
     ]
    },
    {
     "name": "stdout",
     "output_type": "stream",
     "text": [
      "Epoch 37, Autoencoder Loss: 0.0017013917677104473, Discriminator Loss: 0.008121481165289879, Discriminator Accuracy: 0.9998726844787598\n",
      "Validation - Autoencoder Loss: 0.0028927905950695276, Discriminator Loss: 0.11774013936519623, Discriminator Accuracy: 0.9664711356163025\n"
     ]
    },
    {
     "name": "stderr",
     "output_type": "stream",
     "text": [
      "100%|██████████| 491/491 [02:13<00:00,  3.67it/s]\n"
     ]
    },
    {
     "name": "stdout",
     "output_type": "stream",
     "text": [
      "Epoch 38, Autoencoder Loss: 0.0016938085900619626, Discriminator Loss: 0.005678204819560051, Discriminator Accuracy: 0.9999045133590698\n",
      "Validation - Autoencoder Loss: 0.0027001453563570976, Discriminator Loss: 0.043018318712711334, Discriminator Accuracy: 0.9897103905677795\n"
     ]
    },
    {
     "name": "stderr",
     "output_type": "stream",
     "text": [
      "100%|██████████| 491/491 [02:14<00:00,  3.66it/s]\n"
     ]
    },
    {
     "name": "stdout",
     "output_type": "stream",
     "text": [
      "Epoch 39, Autoencoder Loss: 0.0016517143230885267, Discriminator Loss: 0.0017958219395950437, Discriminator Accuracy: 1.0\n",
      "Validation - Autoencoder Loss: 0.002673735609278083, Discriminator Loss: 0.03805205971002579, Discriminator Accuracy: 0.9912347793579102\n"
     ]
    },
    {
     "name": "stderr",
     "output_type": "stream",
     "text": [
      "100%|██████████| 491/491 [02:14<00:00,  3.66it/s]\n"
     ]
    },
    {
     "name": "stdout",
     "output_type": "stream",
     "text": [
      "Epoch 40, Autoencoder Loss: 0.0016320470022037625, Discriminator Loss: 7.111659942893311e-05, Discriminator Accuracy: 1.0\n",
      "Validation - Autoencoder Loss: 0.0026939972303807735, Discriminator Loss: 0.040263790637254715, Discriminator Accuracy: 0.9914888143539429\n"
     ]
    },
    {
     "name": "stderr",
     "output_type": "stream",
     "text": [
      "100%|██████████| 491/491 [02:14<00:00,  3.66it/s]\n"
     ]
    },
    {
     "name": "stdout",
     "output_type": "stream",
     "text": [
      "Epoch 41, Autoencoder Loss: 0.001608915627002716, Discriminator Loss: 0.0026070610620081425, Discriminator Accuracy: 0.9999681711196899\n",
      "Validation - Autoencoder Loss: 0.0026652205269783735, Discriminator Loss: 0.050187770277261734, Discriminator Accuracy: 0.9890751838684082\n"
     ]
    },
    {
     "name": "stderr",
     "output_type": "stream",
     "text": [
      "100%|██████████| 491/491 [02:14<00:00,  3.66it/s]\n"
     ]
    },
    {
     "name": "stdout",
     "output_type": "stream",
     "text": [
      "Epoch 42, Autoencoder Loss: 0.0015860844869166613, Discriminator Loss: 0.0032976639922708273, Discriminator Accuracy: 0.9999045133590698\n",
      "Validation - Autoencoder Loss: 0.00269237719476223, Discriminator Loss: 0.03878677263855934, Discriminator Accuracy: 0.9904725551605225\n"
     ]
    },
    {
     "name": "stderr",
     "output_type": "stream",
     "text": [
      "100%|██████████| 491/491 [02:14<00:00,  3.66it/s]\n"
     ]
    },
    {
     "name": "stdout",
     "output_type": "stream",
     "text": [
      "Epoch 43, Autoencoder Loss: 0.0016302959993481636, Discriminator Loss: 0.0017666196217760444, Discriminator Accuracy: 0.9999045133590698\n",
      "Validation - Autoencoder Loss: 0.002552350750193, Discriminator Loss: 0.03739124536514282, Discriminator Accuracy: 0.9917429089546204\n"
     ]
    },
    {
     "name": "stderr",
     "output_type": "stream",
     "text": [
      "100%|██████████| 491/491 [02:14<00:00,  3.66it/s]\n"
     ]
    },
    {
     "name": "stdout",
     "output_type": "stream",
     "text": [
      "Epoch 44, Autoencoder Loss: 0.0015190108679234982, Discriminator Loss: 0.005538885481655598, Discriminator Accuracy: 0.9999363422393799\n",
      "Validation - Autoencoder Loss: 0.0025586236733943224, Discriminator Loss: 0.0390961691737175, Discriminator Accuracy: 0.9908536672592163\n"
     ]
    },
    {
     "name": "stderr",
     "output_type": "stream",
     "text": [
      "100%|██████████| 491/491 [02:14<00:00,  3.65it/s]\n"
     ]
    },
    {
     "name": "stdout",
     "output_type": "stream",
     "text": [
      "Epoch 45, Autoencoder Loss: 0.0015153797576203942, Discriminator Loss: 0.0005723154754377902, Discriminator Accuracy: 1.0\n",
      "Validation - Autoencoder Loss: 0.002677902113646269, Discriminator Loss: 0.036710117012262344, Discriminator Accuracy: 0.9905995726585388\n"
     ]
    },
    {
     "name": "stderr",
     "output_type": "stream",
     "text": [
      "100%|██████████| 491/491 [02:14<00:00,  3.65it/s]\n"
     ]
    },
    {
     "name": "stdout",
     "output_type": "stream",
     "text": [
      "Epoch 46, Autoencoder Loss: 0.0015191262355074286, Discriminator Loss: 0.0008743784273974597, Discriminator Accuracy: 1.0\n",
      "Validation - Autoencoder Loss: 0.0028294119983911514, Discriminator Loss: 0.037618670612573624, Discriminator Accuracy: 0.9905995726585388\n"
     ]
    },
    {
     "name": "stderr",
     "output_type": "stream",
     "text": [
      "100%|██████████| 491/491 [02:14<00:00,  3.66it/s]\n"
     ]
    },
    {
     "name": "stdout",
     "output_type": "stream",
     "text": [
      "Epoch 47, Autoencoder Loss: 0.0014915525680407882, Discriminator Loss: 0.00010491752618690953, Discriminator Accuracy: 1.0\n",
      "Validation - Autoencoder Loss: 0.002574915299192071, Discriminator Loss: 0.03955462947487831, Discriminator Accuracy: 0.9929015636444092\n"
     ]
    },
    {
     "name": "stderr",
     "output_type": "stream",
     "text": [
      "100%|██████████| 491/491 [02:13<00:00,  3.67it/s]\n"
     ]
    },
    {
     "name": "stdout",
     "output_type": "stream",
     "text": [
      "Epoch 48, Autoencoder Loss: 0.0014791694702580571, Discriminator Loss: 0.007021017838269472, Discriminator Accuracy: 0.9998726844787598\n",
      "Validation - Autoencoder Loss: 0.0026122955605387688, Discriminator Loss: 0.03952939435839653, Discriminator Accuracy: 0.991107702255249\n"
     ]
    },
    {
     "name": "stderr",
     "output_type": "stream",
     "text": [
      "100%|██████████| 491/491 [02:13<00:00,  3.67it/s]\n"
     ]
    },
    {
     "name": "stdout",
     "output_type": "stream",
     "text": [
      "Epoch 49, Autoencoder Loss: 0.0014564900193363428, Discriminator Loss: 0.00013212632620707154, Discriminator Accuracy: 1.0\n",
      "Validation - Autoencoder Loss: 0.003089731326326728, Discriminator Loss: 0.04592374712228775, Discriminator Accuracy: 0.9907266497612\n"
     ]
    },
    {
     "name": "stderr",
     "output_type": "stream",
     "text": [
      "100%|██████████| 491/491 [02:13<00:00,  3.66it/s]\n"
     ]
    },
    {
     "name": "stdout",
     "output_type": "stream",
     "text": [
      "Epoch 50, Autoencoder Loss: 0.0014534159563481808, Discriminator Loss: 2.4622560886200517e-05, Discriminator Accuracy: 1.0\n",
      "Validation - Autoencoder Loss: 0.0025886071380227804, Discriminator Loss: 0.042353447526693344, Discriminator Accuracy: 0.9914888143539429\n"
     ]
    },
    {
     "name": "stderr",
     "output_type": "stream",
     "text": [
      "100%|██████████| 491/491 [02:13<00:00,  3.67it/s]\n"
     ]
    },
    {
     "name": "stdout",
     "output_type": "stream",
     "text": [
      "Epoch 51, Autoencoder Loss: 0.0014284398639574647, Discriminator Loss: 0.0041899774223566055, Discriminator Accuracy: 0.9998090863227844\n",
      "Validation - Autoencoder Loss: 0.0025945366360247135, Discriminator Loss: 0.047623973339796066, Discriminator Accuracy: 0.9840015769004822\n"
     ]
    },
    {
     "name": "stderr",
     "output_type": "stream",
     "text": [
      "100%|██████████| 491/491 [02:14<00:00,  3.66it/s]\n"
     ]
    },
    {
     "name": "stdout",
     "output_type": "stream",
     "text": [
      "Epoch 52, Autoencoder Loss: 0.0014209834625944495, Discriminator Loss: 0.001656676409766078, Discriminator Accuracy: 0.9999681711196899\n",
      "Validation - Autoencoder Loss: 0.003029636340215802, Discriminator Loss: 0.04948806390166283, Discriminator Accuracy: 0.988201379776001\n"
     ]
    },
    {
     "name": "stderr",
     "output_type": "stream",
     "text": [
      "100%|██████████| 491/491 [02:14<00:00,  3.66it/s]\n"
     ]
    },
    {
     "name": "stdout",
     "output_type": "stream",
     "text": [
      "Epoch 53, Autoencoder Loss: 0.0014149757334962487, Discriminator Loss: 0.0005500969127751887, Discriminator Accuracy: 1.0\n",
      "Validation - Autoencoder Loss: 0.0030039993580430746, Discriminator Loss: 0.04766851291060448, Discriminator Accuracy: 0.9898374080657959\n"
     ]
    },
    {
     "name": "stderr",
     "output_type": "stream",
     "text": [
      "100%|██████████| 491/491 [02:14<00:00,  3.66it/s]\n"
     ]
    },
    {
     "name": "stdout",
     "output_type": "stream",
     "text": [
      "Epoch 54, Autoencoder Loss: 0.0013910762500017881, Discriminator Loss: 0.0002509930054657161, Discriminator Accuracy: 1.0\n",
      "Validation - Autoencoder Loss: 0.003620388451963663, Discriminator Loss: 0.04416578635573387, Discriminator Accuracy: 0.9907266497612\n"
     ]
    },
    {
     "name": "stderr",
     "output_type": "stream",
     "text": [
      "100%|██████████| 491/491 [02:14<00:00,  3.65it/s]\n"
     ]
    },
    {
     "name": "stdout",
     "output_type": "stream",
     "text": [
      "Epoch 55, Autoencoder Loss: 0.0013984598917886615, Discriminator Loss: 0.0026725835632532835, Discriminator Accuracy: 0.9998090863227844\n",
      "Validation - Autoencoder Loss: 0.002697040094062686, Discriminator Loss: 0.04422888532280922, Discriminator Accuracy: 0.9900914430618286\n"
     ]
    },
    {
     "name": "stderr",
     "output_type": "stream",
     "text": [
      "100%|██████████| 491/491 [02:21<00:00,  3.46it/s]\n"
     ]
    },
    {
     "name": "stdout",
     "output_type": "stream",
     "text": [
      "Epoch 56, Autoencoder Loss: 0.0013642830308526754, Discriminator Loss: 0.0027234626468271017, Discriminator Accuracy: 0.9998726844787598\n",
      "Validation - Autoencoder Loss: 0.002615269273519516, Discriminator Loss: 0.03732804208993912, Discriminator Accuracy: 0.9899644255638123\n"
     ]
    },
    {
     "name": "stderr",
     "output_type": "stream",
     "text": [
      "100%|██████████| 491/491 [02:14<00:00,  3.66it/s]\n"
     ]
    },
    {
     "name": "stdout",
     "output_type": "stream",
     "text": [
      "Epoch 57, Autoencoder Loss: 0.001350055681541562, Discriminator Loss: 7.543374522356316e-05, Discriminator Accuracy: 1.0\n",
      "Validation - Autoencoder Loss: 0.002618122613057494, Discriminator Loss: 0.051216162741184235, Discriminator Accuracy: 0.9888211488723755\n"
     ]
    },
    {
     "name": "stderr",
     "output_type": "stream",
     "text": [
      "100%|██████████| 491/491 [02:14<00:00,  3.66it/s]\n"
     ]
    },
    {
     "name": "stdout",
     "output_type": "stream",
     "text": [
      "Epoch 58, Autoencoder Loss: 0.0013497545151039958, Discriminator Loss: 4.327188435127027e-05, Discriminator Accuracy: 1.0\n",
      "Validation - Autoencoder Loss: 0.0026577047538012266, Discriminator Loss: 0.04435722529888153, Discriminator Accuracy: 0.9895910024642944\n"
     ]
    },
    {
     "name": "stderr",
     "output_type": "stream",
     "text": [
      "100%|██████████| 491/491 [02:14<00:00,  3.66it/s]\n"
     ]
    },
    {
     "name": "stdout",
     "output_type": "stream",
     "text": [
      "Epoch 59, Autoencoder Loss: 0.0013348398497328162, Discriminator Loss: 1.9440234609646723e-05, Discriminator Accuracy: 1.0\n",
      "Validation - Autoencoder Loss: 0.0029895908664911985, Discriminator Loss: 0.046005979180336, Discriminator Accuracy: 0.9904725551605225\n"
     ]
    },
    {
     "name": "stderr",
     "output_type": "stream",
     "text": [
      "100%|██████████| 491/491 [02:14<00:00,  3.66it/s]\n"
     ]
    },
    {
     "name": "stdout",
     "output_type": "stream",
     "text": [
      "Epoch 60, Autoencoder Loss: 0.0013241595588624477, Discriminator Loss: 1.7394138922099955e-05, Discriminator Accuracy: 1.0\n",
      "Validation - Autoencoder Loss: 0.002868159208446741, Discriminator Loss: 0.04863609001040459, Discriminator Accuracy: 0.9912347793579102\n"
     ]
    },
    {
     "name": "stderr",
     "output_type": "stream",
     "text": [
      "100%|██████████| 491/491 [02:13<00:00,  3.67it/s]\n"
     ]
    },
    {
     "name": "stdout",
     "output_type": "stream",
     "text": [
      "Epoch 61, Autoencoder Loss: 0.0013159394729882479, Discriminator Loss: 0.009500066749751568, Discriminator Accuracy: 0.9996181130409241\n",
      "Validation - Autoencoder Loss: 0.0028681322000920773, Discriminator Loss: 0.041662488132715225, Discriminator Accuracy: 0.9879319071769714\n"
     ]
    },
    {
     "name": "stderr",
     "output_type": "stream",
     "text": [
      "100%|██████████| 491/491 [02:13<00:00,  3.68it/s]\n"
     ]
    },
    {
     "name": "stdout",
     "output_type": "stream",
     "text": [
      "Epoch 62, Autoencoder Loss: 0.0013108085840940475, Discriminator Loss: 0.00042881714762188494, Discriminator Accuracy: 1.0\n",
      "Validation - Autoencoder Loss: 0.002741738222539425, Discriminator Loss: 0.04252731800079346, Discriminator Accuracy: 0.9913617968559265\n"
     ]
    },
    {
     "name": "stderr",
     "output_type": "stream",
     "text": [
      "100%|██████████| 491/491 [02:14<00:00,  3.66it/s]\n"
     ]
    },
    {
     "name": "stdout",
     "output_type": "stream",
     "text": [
      "Epoch 63, Autoencoder Loss: 0.0012959850719198585, Discriminator Loss: 0.0008820551447570324, Discriminator Accuracy: 0.9999363422393799\n",
      "Validation - Autoencoder Loss: 0.0027140756137669086, Discriminator Loss: 0.04220601171255112, Discriminator Accuracy: 0.9858993887901306\n"
     ]
    },
    {
     "name": "stderr",
     "output_type": "stream",
     "text": [
      "100%|██████████| 491/491 [02:13<00:00,  3.67it/s]\n"
     ]
    },
    {
     "name": "stdout",
     "output_type": "stream",
     "text": [
      "Epoch 64, Autoencoder Loss: 0.0012812220957130194, Discriminator Loss: 0.00041343647171743214, Discriminator Accuracy: 1.0\n",
      "Validation - Autoencoder Loss: 0.002683659316971898, Discriminator Loss: 0.039012592285871506, Discriminator Accuracy: 0.9903532266616821\n"
     ]
    },
    {
     "name": "stderr",
     "output_type": "stream",
     "text": [
      "100%|██████████| 491/491 [02:13<00:00,  3.68it/s]\n"
     ]
    },
    {
     "name": "stdout",
     "output_type": "stream",
     "text": [
      "Epoch 65, Autoencoder Loss: 0.0012718852376565337, Discriminator Loss: 3.647110133897513e-05, Discriminator Accuracy: 1.0\n",
      "Validation - Autoencoder Loss: 0.0025954677257686853, Discriminator Loss: 0.04021447151899338, Discriminator Accuracy: 0.991107702255249\n"
     ]
    },
    {
     "name": "stderr",
     "output_type": "stream",
     "text": [
      "100%|██████████| 491/491 [02:13<00:00,  3.68it/s]\n"
     ]
    },
    {
     "name": "stdout",
     "output_type": "stream",
     "text": [
      "Epoch 66, Autoencoder Loss: 0.0012705023400485516, Discriminator Loss: 1.1431936400185805e-05, Discriminator Accuracy: 1.0\n",
      "Validation - Autoencoder Loss: 0.0026130005717277527, Discriminator Loss: 0.04212542623281479, Discriminator Accuracy: 0.991107702255249\n"
     ]
    },
    {
     "name": "stderr",
     "output_type": "stream",
     "text": [
      "100%|██████████| 491/491 [02:13<00:00,  3.68it/s]\n"
     ]
    },
    {
     "name": "stdout",
     "output_type": "stream",
     "text": [
      "Epoch 67, Autoencoder Loss: 0.0012538243317976594, Discriminator Loss: 0.0029836201574653387, Discriminator Accuracy: 0.9998090863227844\n",
      "Validation - Autoencoder Loss: 0.0026824786327779293, Discriminator Loss: 0.05223982036113739, Discriminator Accuracy: 0.9862805008888245\n"
     ]
    },
    {
     "name": "stderr",
     "output_type": "stream",
     "text": [
      "100%|██████████| 491/491 [02:13<00:00,  3.69it/s]\n"
     ]
    },
    {
     "name": "stdout",
     "output_type": "stream",
     "text": [
      "Epoch 68, Autoencoder Loss: 0.0012533572735264897, Discriminator Loss: 0.00033150429953821003, Discriminator Accuracy: 1.0\n",
      "Validation - Autoencoder Loss: 0.002611506497487426, Discriminator Loss: 0.042768195271492004, Discriminator Accuracy: 0.9909806847572327\n"
     ]
    },
    {
     "name": "stderr",
     "output_type": "stream",
     "text": [
      "100%|██████████| 491/491 [02:13<00:00,  3.69it/s]\n"
     ]
    },
    {
     "name": "stdout",
     "output_type": "stream",
     "text": [
      "Epoch 69, Autoencoder Loss: 0.0012356762308627367, Discriminator Loss: 3.6152228858554736e-05, Discriminator Accuracy: 1.0\n",
      "Validation - Autoencoder Loss: 0.002750969026237726, Discriminator Loss: 0.041237860918045044, Discriminator Accuracy: 0.9908536672592163\n"
     ]
    },
    {
     "name": "stderr",
     "output_type": "stream",
     "text": [
      "100%|██████████| 491/491 [02:13<00:00,  3.67it/s]\n"
     ]
    },
    {
     "name": "stdout",
     "output_type": "stream",
     "text": [
      "Epoch 70, Autoencoder Loss: 0.0012378362007439137, Discriminator Loss: 6.239404228836065e-06, Discriminator Accuracy: 1.0\n",
      "Validation - Autoencoder Loss: 0.0027607956435531378, Discriminator Loss: 0.047349702566862106, Discriminator Accuracy: 0.9895910024642944\n"
     ]
    },
    {
     "name": "stderr",
     "output_type": "stream",
     "text": [
      "100%|██████████| 491/491 [02:13<00:00,  3.69it/s]\n"
     ]
    },
    {
     "name": "stdout",
     "output_type": "stream",
     "text": [
      "Epoch 71, Autoencoder Loss: 0.0012282864190638065, Discriminator Loss: 0.0032697056885808706, Discriminator Accuracy: 0.9999363422393799\n",
      "Validation - Autoencoder Loss: 0.002657670760527253, Discriminator Loss: 0.04455012455582619, Discriminator Accuracy: 0.9892022609710693\n"
     ]
    },
    {
     "name": "stderr",
     "output_type": "stream",
     "text": [
      "100%|██████████| 491/491 [02:13<00:00,  3.68it/s]\n"
     ]
    },
    {
     "name": "stdout",
     "output_type": "stream",
     "text": [
      "Epoch 72, Autoencoder Loss: 0.0012180641060695052, Discriminator Loss: 0.0035236768890172243, Discriminator Accuracy: 0.9999681711196899\n",
      "Validation - Autoencoder Loss: 0.002615876728668809, Discriminator Loss: 0.049983855336904526, Discriminator Accuracy: 0.9892022609710693\n"
     ]
    },
    {
     "name": "stderr",
     "output_type": "stream",
     "text": [
      "100%|██████████| 491/491 [02:12<00:00,  3.70it/s]\n"
     ]
    },
    {
     "name": "stdout",
     "output_type": "stream",
     "text": [
      "Epoch 73, Autoencoder Loss: 0.0012090776581317186, Discriminator Loss: 0.0001600761170266196, Discriminator Accuracy: 1.0\n",
      "Validation - Autoencoder Loss: 0.002649811329320073, Discriminator Loss: 0.046457961201667786, Discriminator Accuracy: 0.9903532266616821\n"
     ]
    },
    {
     "name": "stderr",
     "output_type": "stream",
     "text": [
      "100%|██████████| 491/491 [02:13<00:00,  3.68it/s]\n"
     ]
    },
    {
     "name": "stdout",
     "output_type": "stream",
     "text": [
      "Epoch 74, Autoencoder Loss: 0.0011953116627410054, Discriminator Loss: 1.2000564311165363e-05, Discriminator Accuracy: 1.0\n",
      "Validation - Autoencoder Loss: 0.002682579681277275, Discriminator Loss: 0.048780325800180435, Discriminator Accuracy: 0.9895910024642944\n"
     ]
    },
    {
     "name": "stderr",
     "output_type": "stream",
     "text": [
      "100%|██████████| 491/491 [02:12<00:00,  3.70it/s]\n"
     ]
    },
    {
     "name": "stdout",
     "output_type": "stream",
     "text": [
      "Epoch 75, Autoencoder Loss: 0.0012011770159006119, Discriminator Loss: 5.765459263784578e-06, Discriminator Accuracy: 1.0\n",
      "Validation - Autoencoder Loss: 0.0025862702168524265, Discriminator Loss: 0.04813486710190773, Discriminator Accuracy: 0.991107702255249\n"
     ]
    },
    {
     "name": "stderr",
     "output_type": "stream",
     "text": [
      "100%|██████████| 491/491 [02:13<00:00,  3.69it/s]\n"
     ]
    },
    {
     "name": "stdout",
     "output_type": "stream",
     "text": [
      "Epoch 76, Autoencoder Loss: 0.0011985950404778123, Discriminator Loss: 3.3394296679034596e-06, Discriminator Accuracy: 1.0\n",
      "Validation - Autoencoder Loss: 0.0026188138872385025, Discriminator Loss: 0.049447085708379745, Discriminator Accuracy: 0.9907266497612\n"
     ]
    },
    {
     "name": "stderr",
     "output_type": "stream",
     "text": [
      "100%|██████████| 491/491 [02:13<00:00,  3.69it/s]\n"
     ]
    },
    {
     "name": "stdout",
     "output_type": "stream",
     "text": [
      "Epoch 77, Autoencoder Loss: 0.0011800987413153052, Discriminator Loss: 0.003439280902966857, Discriminator Accuracy: 0.9999045133590698\n",
      "Validation - Autoencoder Loss: 0.0026668431237339973, Discriminator Loss: 0.048786960542201996, Discriminator Accuracy: 0.9858993887901306\n"
     ]
    },
    {
     "name": "stderr",
     "output_type": "stream",
     "text": [
      "100%|██████████| 491/491 [02:13<00:00,  3.69it/s]\n"
     ]
    },
    {
     "name": "stdout",
     "output_type": "stream",
     "text": [
      "Epoch 78, Autoencoder Loss: 0.0011711220722645521, Discriminator Loss: 0.0006811741623096168, Discriminator Accuracy: 1.0\n",
      "Validation - Autoencoder Loss: 0.0026715495623648167, Discriminator Loss: 0.05256360024213791, Discriminator Accuracy: 0.9902185201644897\n"
     ]
    },
    {
     "name": "stderr",
     "output_type": "stream",
     "text": [
      "100%|██████████| 491/491 [02:13<00:00,  3.68it/s]\n"
     ]
    },
    {
     "name": "stdout",
     "output_type": "stream",
     "text": [
      "Epoch 79, Autoencoder Loss: 0.0011657141149044037, Discriminator Loss: 2.4277651391457766e-05, Discriminator Accuracy: 1.0\n",
      "Validation - Autoencoder Loss: 0.0027323442045599222, Discriminator Loss: 0.05439015105366707, Discriminator Accuracy: 0.9898374080657959\n"
     ]
    },
    {
     "name": "stderr",
     "output_type": "stream",
     "text": [
      "100%|██████████| 491/491 [02:13<00:00,  3.67it/s]\n"
     ]
    },
    {
     "name": "stdout",
     "output_type": "stream",
     "text": [
      "Epoch 80, Autoencoder Loss: 0.001169434399344027, Discriminator Loss: 0.0002757174370344728, Discriminator Accuracy: 1.0\n",
      "Validation - Autoencoder Loss: 0.0026599960401654243, Discriminator Loss: 0.04253418371081352, Discriminator Accuracy: 0.9922587275505066\n"
     ]
    },
    {
     "name": "stderr",
     "output_type": "stream",
     "text": [
      "100%|██████████| 491/491 [02:13<00:00,  3.68it/s]\n"
     ]
    },
    {
     "name": "stdout",
     "output_type": "stream",
     "text": [
      "Epoch 81, Autoencoder Loss: 0.001153501565568149, Discriminator Loss: 2.009974377870094e-05, Discriminator Accuracy: 1.0\n",
      "Validation - Autoencoder Loss: 0.0026745127979665995, Discriminator Loss: 0.045532580465078354, Discriminator Accuracy: 0.9918776154518127\n"
     ]
    },
    {
     "name": "stderr",
     "output_type": "stream",
     "text": [
      "100%|██████████| 491/491 [02:13<00:00,  3.67it/s]\n"
     ]
    },
    {
     "name": "stdout",
     "output_type": "stream",
     "text": [
      "Epoch 82, Autoencoder Loss: 0.0011568146292120218, Discriminator Loss: 9.003607374324929e-06, Discriminator Accuracy: 1.0\n",
      "Validation - Autoencoder Loss: 0.002639430807903409, Discriminator Loss: 0.04611407220363617, Discriminator Accuracy: 0.9917429089546204\n"
     ]
    },
    {
     "name": "stderr",
     "output_type": "stream",
     "text": [
      "100%|██████████| 491/491 [02:14<00:00,  3.64it/s]\n"
     ]
    },
    {
     "name": "stdout",
     "output_type": "stream",
     "text": [
      "Epoch 83, Autoencoder Loss: 0.0011397068155929446, Discriminator Loss: 4.683842689701123e-06, Discriminator Accuracy: 1.0\n",
      "Validation - Autoencoder Loss: 0.0026374312583357096, Discriminator Loss: 0.0471312589943409, Discriminator Accuracy: 0.9921239614486694\n"
     ]
    },
    {
     "name": "stderr",
     "output_type": "stream",
     "text": [
      "100%|██████████| 491/491 [02:21<00:00,  3.46it/s]\n"
     ]
    },
    {
     "name": "stdout",
     "output_type": "stream",
     "text": [
      "Epoch 84, Autoencoder Loss: 0.0011335365707054734, Discriminator Loss: 0.005432050675153732, Discriminator Accuracy: 0.9997135996818542\n",
      "Validation - Autoencoder Loss: 0.002612203825265169, Discriminator Loss: 0.06265053898096085, Discriminator Accuracy: 0.9850101470947266\n"
     ]
    },
    {
     "name": "stderr",
     "output_type": "stream",
     "text": [
      "100%|██████████| 491/491 [02:14<00:00,  3.66it/s]\n"
     ]
    },
    {
     "name": "stdout",
     "output_type": "stream",
     "text": [
      "Epoch 85, Autoencoder Loss: 0.001139992382377386, Discriminator Loss: 0.0016664968570694327, Discriminator Accuracy: 0.9999681711196899\n",
      "Validation - Autoencoder Loss: 0.002620360814034939, Discriminator Loss: 0.04849031940102577, Discriminator Accuracy: 0.9888288378715515\n"
     ]
    },
    {
     "name": "stderr",
     "output_type": "stream",
     "text": [
      "100%|██████████| 491/491 [02:14<00:00,  3.66it/s]\n"
     ]
    },
    {
     "name": "stdout",
     "output_type": "stream",
     "text": [
      "Epoch 86, Autoencoder Loss: 0.0011318223550915718, Discriminator Loss: 5.712256097467616e-05, Discriminator Accuracy: 1.0\n",
      "Validation - Autoencoder Loss: 0.002713235793635249, Discriminator Loss: 0.04678934067487717, Discriminator Accuracy: 0.9903455376625061\n"
     ]
    },
    {
     "name": "stderr",
     "output_type": "stream",
     "text": [
      "100%|██████████| 491/491 [02:14<00:00,  3.66it/s]\n"
     ]
    },
    {
     "name": "stdout",
     "output_type": "stream",
     "text": [
      "Epoch 87, Autoencoder Loss: 0.0011292987037450075, Discriminator Loss: 8.371315743715968e-06, Discriminator Accuracy: 1.0\n",
      "Validation - Autoencoder Loss: 0.0029435993637889624, Discriminator Loss: 0.05128181725740433, Discriminator Accuracy: 0.9884400367736816\n"
     ]
    },
    {
     "name": "stderr",
     "output_type": "stream",
     "text": [
      "100%|██████████| 491/491 [02:14<00:00,  3.65it/s]\n"
     ]
    },
    {
     "name": "stdout",
     "output_type": "stream",
     "text": [
      "Epoch 88, Autoencoder Loss: 0.001109231961891055, Discriminator Loss: 4.089647518412676e-06, Discriminator Accuracy: 1.0\n",
      "Validation - Autoencoder Loss: 0.0025776808615773916, Discriminator Loss: 0.04692511260509491, Discriminator Accuracy: 0.9905995726585388\n"
     ]
    },
    {
     "name": "stderr",
     "output_type": "stream",
     "text": [
      "100%|██████████| 491/491 [02:14<00:00,  3.65it/s]\n"
     ]
    },
    {
     "name": "stdout",
     "output_type": "stream",
     "text": [
      "Epoch 89, Autoencoder Loss: 0.0011126125464215875, Discriminator Loss: 4.78009860671591e-06, Discriminator Accuracy: 1.0\n",
      "Validation - Autoencoder Loss: 0.002677394077181816, Discriminator Loss: 0.050871849060058594, Discriminator Accuracy: 0.9895833134651184\n"
     ]
    },
    {
     "name": "stderr",
     "output_type": "stream",
     "text": [
      "100%|██████████| 491/491 [02:14<00:00,  3.65it/s]\n"
     ]
    },
    {
     "name": "stdout",
     "output_type": "stream",
     "text": [
      "Epoch 90, Autoencoder Loss: 0.0011118033435195684, Discriminator Loss: 2.51482651947299e-06, Discriminator Accuracy: 1.0\n",
      "Validation - Autoencoder Loss: 0.002687007188796997, Discriminator Loss: 0.05017559975385666, Discriminator Accuracy: 0.9900914430618286\n"
     ]
    },
    {
     "name": "stderr",
     "output_type": "stream",
     "text": [
      "100%|██████████| 491/491 [02:14<00:00,  3.65it/s]\n"
     ]
    },
    {
     "name": "stdout",
     "output_type": "stream",
     "text": [
      "Epoch 91, Autoencoder Loss: 0.001095095183700323, Discriminator Loss: 0.003980329260230064, Discriminator Accuracy: 0.9999681711196899\n",
      "Validation - Autoencoder Loss: 0.0026403290685266256, Discriminator Loss: 0.05267047882080078, Discriminator Accuracy: 0.9874237775802612\n"
     ]
    },
    {
     "name": "stderr",
     "output_type": "stream",
     "text": [
      "100%|██████████| 491/491 [02:13<00:00,  3.67it/s]\n"
     ]
    },
    {
     "name": "stdout",
     "output_type": "stream",
     "text": [
      "Epoch 92, Autoencoder Loss: 0.0010912520810961723, Discriminator Loss: 0.002427823608741164, Discriminator Accuracy: 1.0\n",
      "Validation - Autoencoder Loss: 0.0026458001229912043, Discriminator Loss: 0.050453100353479385, Discriminator Accuracy: 0.9881860017776489\n"
     ]
    },
    {
     "name": "stderr",
     "output_type": "stream",
     "text": [
      "100%|██████████| 491/491 [02:14<00:00,  3.65it/s]\n"
     ]
    },
    {
     "name": "stdout",
     "output_type": "stream",
     "text": [
      "Epoch 93, Autoencoder Loss: 0.0011016238713636994, Discriminator Loss: 0.0001274586102226749, Discriminator Accuracy: 1.0\n",
      "Validation - Autoencoder Loss: 0.0026262961328029633, Discriminator Loss: 0.049884360283613205, Discriminator Accuracy: 0.9909806847572327\n"
     ]
    },
    {
     "name": "stderr",
     "output_type": "stream",
     "text": [
      "100%|██████████| 491/491 [02:14<00:00,  3.66it/s]\n"
     ]
    },
    {
     "name": "stdout",
     "output_type": "stream",
     "text": [
      "Epoch 94, Autoencoder Loss: 0.001083994866348803, Discriminator Loss: 1.5611045455443673e-05, Discriminator Accuracy: 1.0\n",
      "Validation - Autoencoder Loss: 0.0025950060226023197, Discriminator Loss: 0.048104383051395416, Discriminator Accuracy: 0.991107702255249\n"
     ]
    },
    {
     "name": "stderr",
     "output_type": "stream",
     "text": [
      "100%|██████████| 491/491 [02:14<00:00,  3.66it/s]\n"
     ]
    },
    {
     "name": "stdout",
     "output_type": "stream",
     "text": [
      "Epoch 95, Autoencoder Loss: 0.0010810816893354058, Discriminator Loss: 3.5633725019579288e-06, Discriminator Accuracy: 1.0\n",
      "Validation - Autoencoder Loss: 0.002725552301853895, Discriminator Loss: 0.048013538122177124, Discriminator Accuracy: 0.9908536672592163\n"
     ]
    },
    {
     "name": "stderr",
     "output_type": "stream",
     "text": [
      "100%|██████████| 491/491 [02:14<00:00,  3.66it/s]\n"
     ]
    },
    {
     "name": "stdout",
     "output_type": "stream",
     "text": [
      "Epoch 96, Autoencoder Loss: 0.0010796411661431193, Discriminator Loss: 2.1030946300015785e-06, Discriminator Accuracy: 1.0\n",
      "Validation - Autoencoder Loss: 0.0026676750276237726, Discriminator Loss: 0.0499257892370224, Discriminator Accuracy: 0.9917505979537964\n"
     ]
    },
    {
     "name": "stderr",
     "output_type": "stream",
     "text": [
      "100%|██████████| 491/491 [02:14<00:00,  3.66it/s]\n"
     ]
    },
    {
     "name": "stdout",
     "output_type": "stream",
     "text": [
      "Epoch 97, Autoencoder Loss: 0.0010736355325207114, Discriminator Loss: 1.3967422773930593e-06, Discriminator Accuracy: 1.0\n",
      "Validation - Autoencoder Loss: 0.002578727202489972, Discriminator Loss: 0.05134115368127823, Discriminator Accuracy: 0.9905995726585388\n"
     ]
    },
    {
     "name": "stderr",
     "output_type": "stream",
     "text": [
      "100%|██████████| 491/491 [02:13<00:00,  3.67it/s]\n"
     ]
    },
    {
     "name": "stdout",
     "output_type": "stream",
     "text": [
      "Epoch 98, Autoencoder Loss: 0.001062027527950704, Discriminator Loss: 9.534363698548987e-07, Discriminator Accuracy: 1.0\n",
      "Validation - Autoencoder Loss: 0.0027505673933774233, Discriminator Loss: 0.051504503935575485, Discriminator Accuracy: 0.9908536672592163\n"
     ]
    },
    {
     "name": "stderr",
     "output_type": "stream",
     "text": [
      "100%|██████████| 491/491 [02:12<00:00,  3.69it/s]\n"
     ]
    },
    {
     "name": "stdout",
     "output_type": "stream",
     "text": [
      "Epoch 99, Autoencoder Loss: 0.0010656069498509169, Discriminator Loss: 1.6880577504707617e-06, Discriminator Accuracy: 1.0\n",
      "Validation - Autoencoder Loss: 0.003088481957092881, Discriminator Loss: 0.05719570815563202, Discriminator Accuracy: 0.9897103905677795\n"
     ]
    }
   ],
   "source": [
    "autoencoder_losses_epoch = []\n",
    "discriminator_losses_epoch = []\n",
    "discriminator_acc_epoch = []\n",
    "val_autoencoder_losses_epoch = []\n",
    "val_discriminator_losses_epoch = []\n",
    "val_discriminator_acc_epoch = []\n",
    "\n",
    "for epoch in range(100):\n",
    "    # Initialize epoch-wise metrics\n",
    "    epoch_autoencoder_losses = []\n",
    "    epoch_discriminator_losses = []\n",
    "    epoch_discriminator_acc = []\n",
    "    epoch_val_autoencoder_losses = []\n",
    "    epoch_val_discriminator_losses = []\n",
    "    epoch_val_discriminator_acc = []\n",
    "\n",
    "    # Training loop\n",
    "    for idx, (batch_real, batch_label) in enumerate(tqdm(train_dataset)):\n",
    "        # Training steps\n",
    "        with tf.GradientTape() as autoencoder_tape, tf.GradientTape() as disc_tape:\n",
    "            latent_representation = encoder(batch_real)\n",
    "            generated_image = decoder(latent_representation)\n",
    "            loss_autoencoder = loss_fn_auto(batch_real, generated_image)\n",
    "            \n",
    "            fake = generated_image\n",
    "            loss_disc_real = loss_fn_disc(batch_label, discriminator(batch_real))\n",
    "            loss_disc_fake = loss_fn_disc(batch_label, discriminator(fake))\n",
    "            loss_disc = (loss_disc_real + loss_disc_fake) / 2\n",
    "\n",
    "        grads_autoencoder = autoencoder_tape.gradient(loss_autoencoder, autoencoder.trainable_weights)\n",
    "        opt_autoencoder.apply_gradients(zip(grads_autoencoder, autoencoder.trainable_weights))\n",
    "\n",
    "        grads_discriminator = disc_tape.gradient(loss_disc, discriminator.trainable_weights)\n",
    "        opt_disc.apply_gradients(zip(grads_discriminator, discriminator.trainable_weights))\n",
    "\n",
    "        # Store batch-wise metrics\n",
    "        epoch_autoencoder_losses.append(loss_autoencoder.numpy())\n",
    "        epoch_discriminator_losses.append(loss_disc.numpy())\n",
    "        epoch_discriminator_acc.append(tf.reduce_mean(tf.keras.metrics.categorical_accuracy(batch_label, discriminator(fake))).numpy())\n",
    "        if idx % 200 == 0:\n",
    "            img = tf.keras.preprocessing.image.array_to_img(fake[0])\n",
    "            img.save(f\"{save_dir}/generated_img_epoch_{epoch}_batch_{idx}.png\")\n",
    "\n",
    "    # Validation loop\n",
    "    for val_batch_real, val_batch_label in val_dataset:\n",
    "        val_latent_representation = encoder(val_batch_real)\n",
    "        val_generated_image = decoder(val_latent_representation)\n",
    "        val_loss_autoencoder = loss_fn_auto(val_batch_real, val_generated_image)\n",
    "        val_loss_disc_real = loss_fn_disc(val_batch_label, discriminator(val_batch_real))\n",
    "        val_loss_disc_fake = loss_fn_disc(val_batch_label, discriminator(val_generated_image))\n",
    "        val_loss_disc = (val_loss_disc_real + val_loss_disc_fake) / 2\n",
    "\n",
    "        # Calculate accuracy\n",
    "        val_discriminator_accuracy = tf.reduce_mean(tf.keras.metrics.categorical_accuracy(val_batch_label, discriminator(val_generated_image)))\n",
    "\n",
    "        # Store validation metrics\n",
    "        epoch_val_autoencoder_losses.append(val_loss_autoencoder.numpy())\n",
    "        epoch_val_discriminator_losses.append(val_loss_disc.numpy())\n",
    "        epoch_val_discriminator_acc.append(val_discriminator_accuracy.numpy())\n",
    "\n",
    "    # Calculate epoch-wise averages and append to the lists\n",
    "    avg_autoencoder_loss = np.mean(epoch_autoencoder_losses)\n",
    "    avg_discriminator_loss = np.mean(epoch_discriminator_losses)\n",
    "    avg_discriminator_acc = np.mean(epoch_discriminator_acc)\n",
    "    avg_val_autoencoder_loss = np.mean(epoch_val_autoencoder_losses)\n",
    "    avg_val_discriminator_loss = np.mean(epoch_val_discriminator_losses)\n",
    "    avg_val_discriminator_acc = np.mean(epoch_val_discriminator_acc)\n",
    "\n",
    "    autoencoder_losses_epoch.append(avg_autoencoder_loss)\n",
    "    discriminator_losses_epoch.append(avg_discriminator_loss)\n",
    "    discriminator_acc_epoch.append(avg_discriminator_acc)\n",
    "    val_autoencoder_losses_epoch.append(avg_val_autoencoder_loss)\n",
    "    val_discriminator_losses_epoch.append(avg_val_discriminator_loss)\n",
    "    val_discriminator_acc_epoch.append(avg_val_discriminator_acc)\n",
    "\n",
    "    # Print epoch-wise metrics\n",
    "    print(f\"Epoch {epoch}, Autoencoder Loss: {avg_autoencoder_loss}, Discriminator Loss: {avg_discriminator_loss}, Discriminator Accuracy: {avg_discriminator_acc}\")\n",
    "    print(f\"Validation - Autoencoder Loss: {avg_val_autoencoder_loss}, Discriminator Loss: {avg_val_discriminator_loss}, Discriminator Accuracy: {avg_val_discriminator_acc}\")\n"
   ]
  },
  {
   "cell_type": "code",
   "execution_count": 10,
   "id": "9b09e3ac",
   "metadata": {
    "execution": {
     "iopub.execute_input": "2024-05-22T23:53:11.330051Z",
     "iopub.status.busy": "2024-05-22T23:53:11.328893Z",
     "iopub.status.idle": "2024-05-22T23:53:12.729750Z",
     "shell.execute_reply": "2024-05-22T23:53:12.728796Z"
    },
    "papermill": {
     "duration": 5.418895,
     "end_time": "2024-05-22T23:53:12.732447",
     "exception": false,
     "start_time": "2024-05-22T23:53:07.313552",
     "status": "completed"
    },
    "tags": []
   },
   "outputs": [
    {
     "data": {
      "image/png": "[encoded data removed]",
      "text/plain": [
       "<Figure size 1200x600 with 1 Axes>"
      ]
     },
     "metadata": {},
     "output_type": "display_data"
    },
    {
     "data": {
      "image/png": "[encoded data removed]",
      "text/plain": [
       "<Figure size 1200x600 with 1 Axes>"
      ]
     },
     "metadata": {},
     "output_type": "display_data"
    },
    {
     "data": {
      "image/png": "[encoded data removed]",
      "text/plain": [
       "<Figure size 1200x600 with 1 Axes>"
      ]
     },
     "metadata": {},
     "output_type": "display_data"
    }
   ],
   "source": [
    "import matplotlib.pyplot as plt\n",
    "\n",
    "# Plot autoencoder losses\n",
    "plt.figure(figsize=(12, 6))\n",
    "plt.plot(autoencoder_losses_epoch, label='Training Autoencoder Loss')\n",
    "plt.plot(val_autoencoder_losses_epoch, label='Validation Autoencoder Loss')\n",
    "plt.xlabel('Epoch')\n",
    "plt.ylabel('Loss')\n",
    "plt.title('Training and Validation Autoencoder Losses')\n",
    "plt.legend()\n",
    "plt.savefig('autoencoder_losses.png')  # Save the plot as an image\n",
    "plt.show()\n",
    "\n",
    "# Plot discriminator losses\n",
    "plt.figure(figsize=(12, 6))\n",
    "plt.plot(discriminator_losses_epoch, label='Training Discriminator Loss')\n",
    "plt.plot(val_discriminator_losses_epoch, label='Validation Discriminator Loss')\n",
    "plt.xlabel('Epoch')\n",
    "plt.ylabel('Loss')\n",
    "plt.title('Training and Validation Discriminator Losses')\n",
    "plt.legend()\n",
    "plt.savefig('discriminator_losses.png')  # Save the plot as an image\n",
    "plt.show()\n",
    "\n",
    "# Plot discriminator accuracy\n",
    "plt.figure(figsize=(12, 6))\n",
    "plt.plot(discriminator_acc_epoch, label='Training Discriminator Accuracy')\n",
    "plt.plot(val_discriminator_acc_epoch, label='Validation Discriminator Accuracy')\n",
    "plt.xlabel('Epoch')\n",
    "plt.ylabel('Accuracy')\n",
    "plt.title('Training and Validation Discriminator Accuracy')\n",
    "plt.legend()\n",
    "plt.savefig('discriminator_accuracy.png')  # Save the plot as an image\n",
    "plt.show()\n"
   ]
  },
  {
   "cell_type": "code",
   "execution_count": 11,
   "id": "0076a62b",
   "metadata": {
    "execution": {
     "iopub.execute_input": "2024-05-22T23:53:20.940941Z",
     "iopub.status.busy": "2024-05-22T23:53:20.940223Z",
     "iopub.status.idle": "2024-05-22T23:53:23.274959Z",
     "shell.execute_reply": "2024-05-22T23:53:23.274232Z"
    },
    "papermill": {
     "duration": 6.501919,
     "end_time": "2024-05-22T23:53:23.276807",
     "exception": false,
     "start_time": "2024-05-22T23:53:16.774888",
     "status": "completed"
    },
    "tags": []
   },
   "outputs": [
    {
     "data": {
      "image/png": "[encoded data removed]",
      "text/plain": [
       "<Figure size 600x400 with 1 Axes>"
      ]
     },
     "metadata": {},
     "output_type": "display_data"
    },
    {
     "data": {
      "image/png": "[encoded data removed]",
      "text/plain": [
       "<Figure size 600x400 with 1 Axes>"
      ]
     },
     "metadata": {},
     "output_type": "display_data"
    },
    {
     "data": {
      "image/png": "[encoded data removed]",
      "text/plain": [
       "<Figure size 600x400 with 1 Axes>"
      ]
     },
     "metadata": {},
     "output_type": "display_data"
    }
   ],
   "source": [
    "import matplotlib.pyplot as plt\n",
    "\n",
    "# Set the font properties\n",
    "plt.rcParams['font.family'] = 'Calibri'\n",
    "plt.rcParams['font.size'] = 11  # Set font size to 11\n",
    "\n",
    "# Plot autoencoder losses\n",
    "plt.figure(figsize=(6, 4))  # Adjust figure size as needed\n",
    "plt.plot(autoencoder_losses_epoch, label='Training Autoencoder Loss', linewidth=2)\n",
    "plt.plot(val_autoencoder_losses_epoch, label='Validation Autoencoder Loss', linewidth=2)\n",
    "plt.xlabel('Epoch')\n",
    "plt.ylabel('Loss')\n",
    "plt.title('Training and Validation Autoencoder Losses')\n",
    "plt.legend()\n",
    "plt.tight_layout()  # Adjust layout for better fit\n",
    "plt.savefig('autoencoder_losses11.png', dpi=300)  # Save the plot as a high-resolution PNG\n",
    "plt.show()\n",
    "# Plot discriminator losses\n",
    "plt.figure(figsize=(6, 4))  # Adjust figure size as needed\n",
    "plt.plot(discriminator_losses_epoch, label='Training Discriminator Loss', linewidth=2)\n",
    "plt.plot(val_discriminator_losses_epoch, label='Validation Discriminator Loss', linewidth=2)\n",
    "plt.xlabel('Epoch')\n",
    "plt.ylabel('Loss')\n",
    "plt.title('Training and Validation Discriminator Losses')\n",
    "plt.legend()\n",
    "plt.tight_layout()  # Adjust layout for better fit\n",
    "plt.savefig('discriminator_losses11.png', dpi=300)  # Save the plot as a high-resolution PNG\n",
    "plt.show()\n",
    "# Plot discriminator accuracy\n",
    "plt.figure(figsize=(6, 4))  # Adjust figure size as needed\n",
    "plt.plot(discriminator_acc_epoch, label='Training Discriminator Accuracy', linewidth=2)\n",
    "plt.plot(val_discriminator_acc_epoch, label='Validation Discriminator Accuracy', linewidth=2)\n",
    "plt.xlabel('Epoch')\n",
    "plt.ylabel('Accuracy')\n",
    "plt.title('Training and Validation Discriminator Accuracy')\n",
    "plt.legend()\n",
    "plt.tight_layout()  # Adjust layout for better fit\n",
    "plt.savefig('discriminator_accuracy11.png', dpi=300)  # Save the plot as a high-resolution PNG\n",
    "plt.show()"
   ]
  },
  {
   "cell_type": "code",
   "execution_count": 12,
   "id": "df9b88ac",
   "metadata": {
    "execution": {
     "iopub.execute_input": "2024-05-22T23:53:31.506211Z",
     "iopub.status.busy": "2024-05-22T23:53:31.505047Z",
     "iopub.status.idle": "2024-05-22T23:53:45.693235Z",
     "shell.execute_reply": "2024-05-22T23:53:45.692360Z"
    },
    "papermill": {
     "duration": 18.350272,
     "end_time": "2024-05-22T23:53:45.695178",
     "exception": false,
     "start_time": "2024-05-22T23:53:27.344906",
     "status": "completed"
    },
    "tags": []
   },
   "outputs": [
    {
     "name": "stdout",
     "output_type": "stream",
     "text": [
      "\u001b[1m 14/491\u001b[0m \u001b[37m━━━━━━━━━━━━━━━━━━━━\u001b[0m \u001b[1m6s\u001b[0m 13ms/step - accuracy: 1.0000 - loss: 8.0874e-08"
     ]
    },
    {
     "name": "stderr",
     "output_type": "stream",
     "text": [
      "WARNING: All log messages before absl::InitializeLog() is called are written to STDERR\n",
      "I0000 00:00:1716422015.422672      73 device_compiler.h:186] Compiled cluster using XLA!  This line is logged at most once for the lifetime of the process.\n"
     ]
    },
    {
     "name": "stdout",
     "output_type": "stream",
     "text": [
      "\u001b[1m491/491\u001b[0m \u001b[32m━━━━━━━━━━━━━━━━━━━━\u001b[0m\u001b[37m\u001b[0m \u001b[1m14s\u001b[0m 21ms/step - accuracy: 1.0000 - loss: 3.3851e-05\n",
      "Train Result: [0.00828511081635952, 0.9999043345451355]\n"
     ]
    }
   ],
   "source": [
    "# Evaluate the discriminator on the train data\n",
    "result = discriminator.evaluate(train_dataset)\n",
    "\n",
    "# Print the result\n",
    "print(f'Train Result: {result}')\n"
   ]
  },
  {
   "cell_type": "code",
   "execution_count": 13,
   "id": "e270c886",
   "metadata": {
    "execution": {
     "iopub.execute_input": "2024-05-22T23:53:53.915260Z",
     "iopub.status.busy": "2024-05-22T23:53:53.914927Z",
     "iopub.status.idle": "2024-05-22T23:55:57.830309Z",
     "shell.execute_reply": "2024-05-22T23:55:57.829308Z"
    },
    "papermill": {
     "duration": 128.023249,
     "end_time": "2024-05-22T23:55:57.832798",
     "exception": false,
     "start_time": "2024-05-22T23:53:49.809549",
     "status": "completed"
    },
    "tags": []
   },
   "outputs": [
    {
     "name": "stdout",
     "output_type": "stream",
     "text": [
      "Found 12630 validated image filenames belonging to 43 classes.\n"
     ]
    }
   ],
   "source": [
    "from tensorflow.keras.preprocessing.image import ImageDataGenerator\n",
    "\n",
    "# Convert numerical class labels to strings\n",
    "# Define the path to the test images\n",
    "import pandas as pd\n",
    "df = pd.read_csv('/kaggle/input/gtsrb-german-traffic-sign/Test.csv')\n",
    "test_dir = '/kaggle/input/gtsrb-german-traffic-sign/'\n",
    "\n",
    "df['ClassId'] = df['ClassId'].astype(str)\n",
    "\n",
    "# Define image data generator with preprocessing steps for test data\n",
    "test_datagen = ImageDataGenerator(rescale=1./255)\n",
    "\n",
    "# Flow from dataframe to preprocess test images\n",
    "test_generator = test_datagen.flow_from_dataframe(\n",
    "    df,\n",
    "    directory=test_dir,\n",
    "    x_col='Path',\n",
    "    y_col='ClassId',\n",
    "    target_size=(64,64),\n",
    "    batch_size=len(df),\n",
    "    class_mode='categorical',  # 'categorical' returns one-hot encoded labels\n",
    "    shuffle=False  # Do not shuffle for evaluation\n",
    ")\n",
    "\n",
    "# Get preprocessed test images and labels\n",
    "X_test, y_test = next(test_generator)\n"
   ]
  },
  {
   "cell_type": "code",
   "execution_count": 14,
   "id": "00da0ab2",
   "metadata": {
    "execution": {
     "iopub.execute_input": "2024-05-22T23:56:05.949463Z",
     "iopub.status.busy": "2024-05-22T23:56:05.949114Z",
     "iopub.status.idle": "2024-05-22T23:56:05.953071Z",
     "shell.execute_reply": "2024-05-22T23:56:05.952205Z"
    },
    "papermill": {
     "duration": 4.037872,
     "end_time": "2024-05-22T23:56:05.954937",
     "exception": false,
     "start_time": "2024-05-22T23:56:01.917065",
     "status": "completed"
    },
    "tags": []
   },
   "outputs": [],
   "source": [
    "#130 epoch 93 percent"
   ]
  },
  {
   "cell_type": "code",
   "execution_count": 15,
   "id": "07e0f5f3",
   "metadata": {
    "execution": {
     "iopub.execute_input": "2024-05-22T23:56:14.214114Z",
     "iopub.status.busy": "2024-05-22T23:56:14.213766Z",
     "iopub.status.idle": "2024-05-22T23:56:21.603177Z",
     "shell.execute_reply": "2024-05-22T23:56:21.602234Z"
    },
    "papermill": {
     "duration": 11.521048,
     "end_time": "2024-05-22T23:56:21.605208",
     "exception": false,
     "start_time": "2024-05-22T23:56:10.084160",
     "status": "completed"
    },
    "tags": []
   },
   "outputs": [
    {
     "name": "stdout",
     "output_type": "stream",
     "text": [
      "\u001b[1m395/395\u001b[0m \u001b[32m━━━━━━━━━━━━━━━━━━━━\u001b[0m\u001b[37m\u001b[0m \u001b[1m6s\u001b[0m 10ms/step - accuracy: 0.9596 - loss: 0.3484\n",
      "Test Result: [0.43556779623031616, 0.9573238492012024]\n"
     ]
    }
   ],
   "source": [
    "# Evaluate the discriminator on the test data   ##100 epoch\n",
    "result = discriminator.evaluate(X_test, y_test)\n",
    "\n",
    "# Print the result\n",
    "print(f'Test Result: {result}')\n"
   ]
  },
  {
   "cell_type": "code",
   "execution_count": 16,
   "id": "e5a28e2b",
   "metadata": {
    "execution": {
     "iopub.execute_input": "2024-05-22T23:56:29.821964Z",
     "iopub.status.busy": "2024-05-22T23:56:29.820993Z",
     "iopub.status.idle": "2024-05-22T23:56:33.642367Z",
     "shell.execute_reply": "2024-05-22T23:56:33.641464Z"
    },
    "papermill": {
     "duration": 7.953418,
     "end_time": "2024-05-22T23:56:33.644398",
     "exception": false,
     "start_time": "2024-05-22T23:56:25.690980",
     "status": "completed"
    },
    "tags": []
   },
   "outputs": [
    {
     "name": "stdout",
     "output_type": "stream",
     "text": [
      "\u001b[1m395/395\u001b[0m \u001b[32m━━━━━━━━━━━━━━━━━━━━\u001b[0m\u001b[37m\u001b[0m \u001b[1m2s\u001b[0m 6ms/step - accuracy: 0.9596 - loss: 0.3484\n",
      "Test Result: [0.43556779623031616, 0.9573238492012024]\n"
     ]
    }
   ],
   "source": [
    "# Evaluate the discriminator on the test data   #125 epoch\n",
    "result = discriminator.evaluate(X_test, y_test)\n",
    "\n",
    "# Print the result\n",
    "print(f'Test Result: {result}')\n"
   ]
  },
  {
   "cell_type": "code",
   "execution_count": 17,
   "id": "79fb68d7",
   "metadata": {
    "collapsed": true,
    "execution": {
     "iopub.execute_input": "2024-05-22T23:56:41.817470Z",
     "iopub.status.busy": "2024-05-22T23:56:41.817101Z",
     "iopub.status.idle": "2024-05-22T23:56:45.634268Z",
     "shell.execute_reply": "2024-05-22T23:56:45.633379Z"
    },
    "jupyter": {
     "outputs_hidden": true
    },
    "papermill": {
     "duration": 7.917364,
     "end_time": "2024-05-22T23:56:45.636228",
     "exception": false,
     "start_time": "2024-05-22T23:56:37.718864",
     "status": "completed"
    },
    "tags": []
   },
   "outputs": [
    {
     "name": "stdout",
     "output_type": "stream",
     "text": [
      "\u001b[1m395/395\u001b[0m \u001b[32m━━━━━━━━━━━━━━━━━━━━\u001b[0m\u001b[37m\u001b[0m \u001b[1m2s\u001b[0m 6ms/step - accuracy: 0.9596 - loss: 0.3484\n",
      "Test Result: [0.43556779623031616, 0.9573238492012024]\n"
     ]
    }
   ],
   "source": [
    "# Evaluate the discriminator on the test data  ##145 epoch\n",
    "result = discriminator.evaluate(X_test, y_test)\n",
    "\n",
    "# Print the result\n",
    "print(f'Test Result: {result}')\n"
   ]
  },
  {
   "cell_type": "code",
   "execution_count": 18,
   "id": "21c6dcb0",
   "metadata": {
    "execution": {
     "iopub.execute_input": "2024-05-22T23:56:53.783267Z",
     "iopub.status.busy": "2024-05-22T23:56:53.782905Z",
     "iopub.status.idle": "2024-05-22T23:56:53.882342Z",
     "shell.execute_reply": "2024-05-22T23:56:53.881413Z"
    },
    "papermill": {
     "duration": 4.150575,
     "end_time": "2024-05-22T23:56:53.884349",
     "exception": false,
     "start_time": "2024-05-22T23:56:49.733774",
     "status": "completed"
    },
    "tags": []
   },
   "outputs": [
    {
     "data": {
      "text/plain": [
       "'/kaggle/working/without_aug2.zip'"
      ]
     },
     "execution_count": 18,
     "metadata": {},
     "output_type": "execute_result"
    }
   ],
   "source": [
    "import shutil\n",
    "import os\n",
    "\n",
    "# Specify the folder path\n",
    "folder_path = '/kaggle/working/empty_folderf3'\n",
    "\n",
    "# Create a zip file\n",
    "shutil.make_archive(folder_path, 'zip', folder_path)\n",
    "\n",
    "# Move the zip file to the output directory\n",
    "output_path = '/kaggle/working/without_aug2.zip'\n",
    "shutil.move(folder_path + '.zip', output_path)\n",
    "\n",
    "# Display the download link\n",
    "output_path\n",
    "   "
   ]
  },
  {
   "cell_type": "code",
   "execution_count": 19,
   "id": "5e6277b9",
   "metadata": {
    "execution": {
     "iopub.execute_input": "2024-05-22T23:57:02.130858Z",
     "iopub.status.busy": "2024-05-22T23:57:02.130464Z",
     "iopub.status.idle": "2024-05-22T23:57:02.606044Z",
     "shell.execute_reply": "2024-05-22T23:57:02.605242Z"
    },
    "papermill": {
     "duration": 4.551631,
     "end_time": "2024-05-22T23:57:02.608404",
     "exception": false,
     "start_time": "2024-05-22T23:56:58.056773",
     "status": "completed"
    },
    "tags": []
   },
   "outputs": [],
   "source": [
    "discriminator.save('d_aug_valf.h5')"
   ]
  },
  {
   "cell_type": "code",
   "execution_count": 20,
   "id": "f3c5bcf1",
   "metadata": {
    "execution": {
     "iopub.execute_input": "2024-05-22T23:57:10.945745Z",
     "iopub.status.busy": "2024-05-22T23:57:10.945347Z",
     "iopub.status.idle": "2024-05-22T23:57:15.226981Z",
     "shell.execute_reply": "2024-05-22T23:57:15.225860Z"
    },
    "papermill": {
     "duration": 8.395555,
     "end_time": "2024-05-22T23:57:15.229231",
     "exception": false,
     "start_time": "2024-05-22T23:57:06.833676",
     "status": "completed"
    },
    "tags": []
   },
   "outputs": [
    {
     "name": "stdout",
     "output_type": "stream",
     "text": [
      "\u001b[1m395/395\u001b[0m \u001b[32m━━━━━━━━━━━━━━━━━━━━\u001b[0m\u001b[37m\u001b[0m \u001b[1m3s\u001b[0m 6ms/step\n",
      "Precision: [0.95       0.95564516 0.98940998 0.85921325 0.98559078 0.99167822\n",
      " 1.         0.94545455 1.         1.         0.95702006 0.81081081\n",
      " 0.97343958 0.76271186 0.94915254 0.97457627 0.90196078 0.91304348\n",
      " 0.95116773 0.92307692 0.67857143 0.93464052 0.90721649 0.96875\n",
      " 0.86486486 0.97463768 0.9375     0.96313364 0.952      0.99485861\n",
      " 0.98319328 1.         0.98699422 0.98863636 0.97706422 0.98863636\n",
      " 0.97297297 0.8317757  0.96440129 1.         0.94859813 0.89830508\n",
      " 0.94820717]\n",
      "Recall: [0.95       0.9875     0.99090909 0.98809524 0.99130435 0.99305556\n",
      " 1.         0.99047619 0.99333333 0.99722222 0.85641026 1.\n",
      " 0.97733333 1.         0.62222222 0.95833333 0.92       0.93333333\n",
      " 0.93333333 0.86666667 0.63333333 0.95333333 0.97777778 0.96444444\n",
      " 0.64       0.9962963  1.         0.9952381  0.99166667 0.99230769\n",
      " 0.975      1.         0.98985507 0.96666667 0.96818182 0.96666667\n",
      " 0.6        0.98888889 0.94603175 0.74666667 0.90222222 0.94222222\n",
      " 0.99166667]\n",
      "F1 Score: [0.95       0.97131148 0.99015897 0.91915836 0.98843931 0.99236641\n",
      " 1.         0.96744186 0.99665552 0.99860918 0.90392422 0.89552239\n",
      " 0.97538257 0.86538462 0.75167785 0.96638655 0.91089109 0.92307692\n",
      " 0.94216614 0.89398281 0.65517241 0.94389439 0.94117647 0.96659243\n",
      " 0.73563218 0.98534799 0.96774194 0.97892272 0.97142857 0.99358151\n",
      " 0.9790795  1.         0.98842258 0.97752809 0.97260274 0.97752809\n",
      " 0.74226804 0.9035533  0.95512821 0.85496183 0.92482916 0.9197397\n",
      " 0.9694501 ]\n",
      "Support: [ 60 720 660 420 690 720 270 210 150 360 390  60 750  90  90 120 150  90\n",
      " 480 180  60 150  90 450 150 270  60 210 120 390 120  60 690  90 660  90\n",
      "  60  90 630 150 450 450 480]\n",
      "Average Precision: 0.9409048842871804\n",
      "Average Recall: 0.9320463891424458\n",
      "Average F1 Score: 0.9327236786284061\n"
     ]
    }
   ],
   "source": [
    "from sklearn.metrics import precision_recall_fscore_support\n",
    "\n",
    "# Assuming you have test data predictions stored in y_pred and true labels in y_true\n",
    "y_pred = discriminator.predict(X_test)\n",
    "y_true = np.argmax(y_test, axis=1)  # Convert one-hot encoded labels to class labels\n",
    "\n",
    "# Convert predicted probabilities to class labels\n",
    "y_pred_labels = np.argmax(y_pred, axis=1)\n",
    "\n",
    "# Calculate precision, recall, f1-score, and support for each class\n",
    "precision, recall, f1_score, support = precision_recall_fscore_support(y_true, y_pred_labels)\n",
    "\n",
    "# Average precision, recall, f1-score across all classes\n",
    "avg_precision = np.mean(precision)\n",
    "avg_recall = np.mean(recall)\n",
    "avg_f1_score = np.mean(f1_score)\n",
    "\n",
    "# Print results\n",
    "print(\"Precision:\", precision)\n",
    "print(\"Recall:\", recall)\n",
    "print(\"F1 Score:\", f1_score)\n",
    "print(\"Support:\", support)\n",
    "print(\"Average Precision:\", avg_precision)\n",
    "print(\"Average Recall:\", avg_recall)\n",
    "print(\"Average F1 Score:\", avg_f1_score)\n"
   ]
  }
 ],
 "metadata": {
  "kaggle": {
   "accelerator": "gpu",
   "dataSources": [
    {
     "datasetId": 82373,
     "sourceId": 191501,
     "sourceType": "datasetVersion"
    },
    {
     "datasetId": 3820936,
     "sourceId": 6620552,
     "sourceType": "datasetVersion"
    }
   ],
   "dockerImageVersionId": 30699,
   "isGpuEnabled": true,
   "isInternetEnabled": true,
   "language": "python",
   "sourceType": "notebook"
  },
  "kernelspec": {
   "display_name": "Python 3",
   "language": "python",
   "name": "python3"
  },
  "language_info": {
   "codemirror_mode": {
    "name": "ipython",
    "version": 3
   },
   "file_extension": ".py",
   "mimetype": "text/x-python",
   "name": "python",
   "nbconvert_exporter": "python",
   "pygments_lexer": "ipython3",
   "version": "3.10.13"
  },
  "papermill": {
   "default_parameters": {},
   "duration": 14641.226329,
   "end_time": "2024-05-22T23:57:22.189152",
   "environment_variables": {},
   "exception": null,
   "input_path": "__notebook__.ipynb",
   "output_path": "__notebook__.ipynb",
   "parameters": {},
   "start_time": "2024-05-22T19:53:20.962823",
   "version": "2.5.0"
  }
 },
 "nbformat": 4,
 "nbformat_minor": 5
}
