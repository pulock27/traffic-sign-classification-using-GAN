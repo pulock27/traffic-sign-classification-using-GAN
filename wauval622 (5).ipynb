{
 "cells": [
  {
   "cell_type": "code",
   "execution_count": 1,
   "id": "3faf6182",
   "metadata": {
    "execution": {
     "iopub.execute_input": "2024-05-20T19:45:27.714232Z",
     "iopub.status.busy": "2024-05-20T19:45:27.713581Z",
     "iopub.status.idle": "2024-05-20T19:45:40.132116Z",
     "shell.execute_reply": "2024-05-20T19:45:40.131129Z"
    },
    "papermill": {
     "duration": 12.429744,
     "end_time": "2024-05-20T19:45:40.135019",
     "exception": false,
     "start_time": "2024-05-20T19:45:27.705275",
     "status": "completed"
    },
    "tags": []
   },
   "outputs": [
    {
     "name": "stderr",
     "output_type": "stream",
     "text": [
      "2024-05-20 19:45:29.462308: E external/local_xla/xla/stream_executor/cuda/cuda_dnn.cc:9261] Unable to register cuDNN factory: Attempting to register factory for plugin cuDNN when one has already been registered\n",
      "2024-05-20 19:45:29.462418: E external/local_xla/xla/stream_executor/cuda/cuda_fft.cc:607] Unable to register cuFFT factory: Attempting to register factory for plugin cuFFT when one has already been registered\n",
      "2024-05-20 19:45:29.596560: E external/local_xla/xla/stream_executor/cuda/cuda_blas.cc:1515] Unable to register cuBLAS factory: Attempting to register factory for plugin cuBLAS when one has already been registered\n"
     ]
    }
   ],
   "source": [
    "import tensorflow as tf\n",
    "import os\n",
    "import numpy as np\n",
    "from pathlib import Path\n",
    "from tensorflow import keras\n",
    "from tensorflow.keras import layers\n",
    "from tqdm import tqdm"
   ]
  },
  {
   "cell_type": "code",
   "execution_count": 2,
   "id": "21852dc4",
   "metadata": {
    "execution": {
     "iopub.execute_input": "2024-05-20T19:45:40.148956Z",
     "iopub.status.busy": "2024-05-20T19:45:40.148421Z",
     "iopub.status.idle": "2024-05-20T19:45:40.153297Z",
     "shell.execute_reply": "2024-05-20T19:45:40.152431Z"
    },
    "papermill": {
     "duration": 0.013871,
     "end_time": "2024-05-20T19:45:40.155266",
     "exception": false,
     "start_time": "2024-05-20T19:45:40.141395",
     "status": "completed"
    },
    "tags": []
   },
   "outputs": [],
   "source": [
    "import os\n",
    "# Define the path for the empty folder\n",
    "folder_path = '/kaggle/working/empty_folderf3/'\n",
    "\n",
    "# Create the empty folder\n",
    "os.makedirs(folder_path, exist_ok=True)\n",
    "save_dir = ('/kaggle/working/empty_folderf3')\n"
   ]
  },
  {
   "cell_type": "code",
   "execution_count": 3,
   "id": "9f210ceb",
   "metadata": {
    "execution": {
     "iopub.execute_input": "2024-05-20T19:45:40.168308Z",
     "iopub.status.busy": "2024-05-20T19:45:40.168040Z",
     "iopub.status.idle": "2024-05-20T19:46:07.329175Z",
     "shell.execute_reply": "2024-05-20T19:46:07.328407Z"
    },
    "papermill": {
     "duration": 27.170112,
     "end_time": "2024-05-20T19:46:07.331302",
     "exception": false,
     "start_time": "2024-05-20T19:45:40.161190",
     "status": "completed"
    },
    "tags": []
   },
   "outputs": [
    {
     "name": "stdout",
     "output_type": "stream",
     "text": [
      "Found 39209 files belonging to 43 classes.\n",
      "Using 31368 files for training.\n",
      "Found 39209 files belonging to 43 classes.\n",
      "Using 7841 files for validation.\n"
     ]
    }
   ],
   "source": [
    "from sklearn.model_selection import train_test_split\n",
    "\n",
    "# Split dataset into training and validation sets\n",
    "train_dir = '/kaggle/input/gtsrb-train/Train'\n",
    "train_data, val_data = train_test_split(os.listdir(train_dir), test_size=0.2, random_state=42)\n",
    "\n",
    "# Create training and validation datasets\n",
    "train_dataset = keras.preprocessing.image_dataset_from_directory(\n",
    "    directory=train_dir, \n",
    "    labels='inferred',  # Use inferred labels from directory structure\n",
    "    label_mode='categorical', \n",
    "    image_size=(64,64), \n",
    "    batch_size=64,\n",
    "    shuffle=True,\n",
    "    validation_split=0.2,  # Percentage of data to use for validation\n",
    "    subset=\"training\",\n",
    "    seed=42  # Specify seed for reproducibility\n",
    ").map(lambda x, y: (x/255.0, y))  # Normalize the pixel values to [0, 1]\n",
    "\n",
    "val_dataset = keras.preprocessing.image_dataset_from_directory(\n",
    "    directory=train_dir, \n",
    "    labels='inferred',  # Use inferred labels from directory structure\n",
    "    label_mode='categorical', \n",
    "    image_size=(64,64), \n",
    "    batch_size=64,\n",
    "    shuffle=True,\n",
    "    validation_split=0.2,  # Percentage of data to use for validation\n",
    "    subset=\"validation\",\n",
    "    seed=42  # Specify seed for reproducibility\n",
    ").map(lambda x, y: (x/255.0, y))  # Normalize the pixel values to [0, 1])\n"
   ]
  },
  {
   "cell_type": "code",
   "execution_count": 4,
   "id": "6cc627cf",
   "metadata": {
    "execution": {
     "iopub.execute_input": "2024-05-20T19:46:07.345367Z",
     "iopub.status.busy": "2024-05-20T19:46:07.345089Z",
     "iopub.status.idle": "2024-05-20T19:46:07.348731Z",
     "shell.execute_reply": "2024-05-20T19:46:07.347961Z"
    },
    "papermill": {
     "duration": 0.012501,
     "end_time": "2024-05-20T19:46:07.350514",
     "exception": false,
     "start_time": "2024-05-20T19:46:07.338013",
     "status": "completed"
    },
    "tags": []
   },
   "outputs": [],
   "source": [
    "#nnnnnnneeeeewwwwwwwwww   mmmmooodeeel"
   ]
  },
  {
   "cell_type": "code",
   "execution_count": 5,
   "id": "592d1030",
   "metadata": {
    "execution": {
     "iopub.execute_input": "2024-05-20T19:46:07.365030Z",
     "iopub.status.busy": "2024-05-20T19:46:07.364652Z",
     "iopub.status.idle": "2024-05-20T19:46:07.496962Z",
     "shell.execute_reply": "2024-05-20T19:46:07.496179Z"
    },
    "papermill": {
     "duration": 0.142837,
     "end_time": "2024-05-20T19:46:07.499553",
     "exception": false,
     "start_time": "2024-05-20T19:46:07.356716",
     "status": "completed"
    },
    "tags": []
   },
   "outputs": [],
   "source": [
    "latent_dim = 128\n",
    "\n",
    "# Encoder\n",
    "encoder = keras.Sequential([\n",
    "    layers.Input(shape=(64,64, 3)),\n",
    "    layers.Conv2D(64, kernel_size=4, strides=2, padding=\"same\"),\n",
    "    layers.LeakyReLU(0.2),\n",
    "    layers.Conv2D(128, kernel_size=4, strides=2, padding=\"same\"),\n",
    "    layers.LeakyReLU(0.2),\n",
    "    layers.Conv2D(256, kernel_size=4, strides=2, padding=\"same\"),\n",
    "    layers.LeakyReLU(0.2),\n",
    "    layers.Conv2D(512, kernel_size=4, strides=2, padding=\"same\"),\n",
    "    layers.LeakyReLU(0.2),\n",
    "    layers.Flatten(),\n",
    "    layers.Dense(latent_dim)  # Latent representation\n",
    "])\n",
    "\n",
    "# Decoder\n",
    "decoder = keras.Sequential([\n",
    "    layers.Input(shape=(latent_dim,)),\n",
    "    layers.Dense(8*8*512),\n",
    "    layers.Reshape((8,8, 512)),\n",
    "    layers.Conv2DTranspose(256, kernel_size=4, strides=2, padding=\"same\"),\n",
    "    layers.LeakyReLU(0.2),\n",
    "    layers.Conv2DTranspose(128, kernel_size=4, strides=2, padding=\"same\"),\n",
    "    layers.LeakyReLU(0.2),\n",
    "    layers.Conv2DTranspose(64, kernel_size=4, strides=2, padding=\"same\"),\n",
    "    layers.LeakyReLU(0.2),\n",
    "    layers.Conv2DTranspose(3, kernel_size=4,  padding=\"same\", activation=\"tanh\"),\n",
    "])\n",
    "\n",
    "# Full autoencoder model\n",
    "autoencoder = keras.Sequential([\n",
    "    layers.Input(shape=(64,64,3)),\n",
    "    encoder,\n",
    "    decoder\n",
    "])\n"
   ]
  },
  {
   "cell_type": "code",
   "execution_count": 6,
   "id": "d25a9e50",
   "metadata": {
    "execution": {
     "iopub.execute_input": "2024-05-20T19:46:07.516696Z",
     "iopub.status.busy": "2024-05-20T19:46:07.516162Z",
     "iopub.status.idle": "2024-05-20T19:46:07.522024Z",
     "shell.execute_reply": "2024-05-20T19:46:07.520887Z"
    },
    "papermill": {
     "duration": 0.017873,
     "end_time": "2024-05-20T19:46:07.524518",
     "exception": false,
     "start_time": "2024-05-20T19:46:07.506645",
     "status": "completed"
    },
    "tags": []
   },
   "outputs": [],
   "source": [
    "from tensorflow.keras import layers, models, optimizers"
   ]
  },
  {
   "cell_type": "code",
   "execution_count": 7,
   "id": "78006849",
   "metadata": {
    "execution": {
     "iopub.execute_input": "2024-05-20T19:46:07.543275Z",
     "iopub.status.busy": "2024-05-20T19:46:07.542623Z",
     "iopub.status.idle": "2024-05-20T19:46:07.603230Z",
     "shell.execute_reply": "2024-05-20T19:46:07.602555Z"
    },
    "papermill": {
     "duration": 0.070714,
     "end_time": "2024-05-20T19:46:07.605197",
     "exception": false,
     "start_time": "2024-05-20T19:46:07.534483",
     "status": "completed"
    },
    "tags": []
   },
   "outputs": [],
   "source": [
    "import tensorflow as tf\n",
    "\n",
    "def create_model():\n",
    "    inputs = tf.keras.Input(shape=(64, 64, 3))\n",
    "    \n",
    "    x = tf.keras.layers.Conv2D(250, kernel_size=3, activation='relu', padding='same')(inputs)\n",
    "    x = tf.keras.layers.MaxPooling2D(pool_size=2, padding='same')(x)  # Output shape: (24, 24, 250)\n",
    "    \n",
    "    x = tf.keras.layers.Conv2D(300, kernel_size=3, activation='relu', padding='same')(x)\n",
    "    x = tf.keras.layers.MaxPooling2D(pool_size=2, padding='same')(x)  # Output shape: (12, 12, 300)\n",
    "   \n",
    "    \n",
    "    x = tf.keras.layers.Conv2D(400, kernel_size=3, activation='relu', padding='same')(x)\n",
    "    x = tf.keras.layers.MaxPooling2D(pool_size=2, padding='same')(x)  # Output shape: (3, 3, 400)\n",
    "    \n",
    "    x = tf.keras.layers.Flatten()(x)\n",
    "\n",
    "    x = tf.keras.layers.Dense(300, activation='relu')(x)\n",
    "    x = tf.keras.layers.Dropout(0.25)(x)\n",
    "    \n",
    "    outputs = tf.keras.layers.Dense(43, activation='softmax')(x)\n",
    "    \n",
    "    model = tf.keras.Model(inputs=inputs, outputs=outputs)\n",
    "    \n",
    "    return model\n",
    "\n",
    "# Create an instance of the model\n",
    "discriminator = create_model()\n",
    "\n",
    "\n"
   ]
  },
  {
   "cell_type": "code",
   "execution_count": 8,
   "id": "93d16820",
   "metadata": {
    "execution": {
     "iopub.execute_input": "2024-05-20T19:46:07.618670Z",
     "iopub.status.busy": "2024-05-20T19:46:07.618416Z",
     "iopub.status.idle": "2024-05-20T19:46:07.634466Z",
     "shell.execute_reply": "2024-05-20T19:46:07.633797Z"
    },
    "papermill": {
     "duration": 0.025003,
     "end_time": "2024-05-20T19:46:07.636432",
     "exception": false,
     "start_time": "2024-05-20T19:46:07.611429",
     "status": "completed"
    },
    "tags": []
   },
   "outputs": [],
   "source": [
    "# Loss functions\n",
    "loss_fn_auto = tf.keras.losses.MeanSquaredError()\n",
    "loss_fn_disc = tf.keras.losses.CategoricalCrossentropy()\n",
    "\n",
    "# Optimizers\n",
    "opt_autoencoder = tf.keras.optimizers.Adam(learning_rate=0.0001, beta_1=0.5)\n",
    "opt_disc = tf.keras.optimizers.Adam(learning_rate=0.0001, beta_1=0.5)\n",
    "\n",
    "\n",
    "# Compile the autoencoder model\n",
    "autoencoder.compile(optimizer=opt_autoencoder, loss=loss_fn_auto)\n",
    "\n",
    "# Compile the discriminator model\n",
    "discriminator.compile(optimizer=opt_disc, loss=loss_fn_disc, metrics=['accuracy'])"
   ]
  },
  {
   "cell_type": "code",
   "execution_count": 9,
   "id": "7826bd8b",
   "metadata": {
    "execution": {
     "iopub.execute_input": "2024-05-20T19:46:07.650350Z",
     "iopub.status.busy": "2024-05-20T19:46:07.650032Z",
     "iopub.status.idle": "2024-05-20T23:51:49.984925Z",
     "shell.execute_reply": "2024-05-20T23:51:49.983963Z"
    },
    "papermill": {
     "duration": 14746.344566,
     "end_time": "2024-05-20T23:51:53.987238",
     "exception": false,
     "start_time": "2024-05-20T19:46:07.642672",
     "status": "completed"
    },
    "tags": []
   },
   "outputs": [
    {
     "name": "stderr",
     "output_type": "stream",
     "text": [
      "100%|██████████| 491/491 [02:32<00:00,  3.23it/s]\n"
     ]
    },
    {
     "name": "stdout",
     "output_type": "stream",
     "text": [
      "Epoch 0, Autoencoder Loss: 0.02526790276169777, Discriminator Loss: 2.414665937423706, Discriminator Accuracy: 0.21493126451969147\n",
      "Validation - Autoencoder Loss: 0.016950951889157295, Discriminator Loss: 1.7468247413635254, Discriminator Accuracy: 0.2951466143131256\n"
     ]
    },
    {
     "name": "stderr",
     "output_type": "stream",
     "text": [
      "100%|██████████| 491/491 [02:15<00:00,  3.63it/s]\n"
     ]
    },
    {
     "name": "stdout",
     "output_type": "stream",
     "text": [
      "Epoch 1, Autoencoder Loss: 0.01138612162321806, Discriminator Loss: 0.7796961069107056, Discriminator Accuracy: 0.7370480895042419\n",
      "Validation - Autoencoder Loss: 0.009694013744592667, Discriminator Loss: 0.4884658455848694, Discriminator Accuracy: 0.767449676990509\n"
     ]
    },
    {
     "name": "stderr",
     "output_type": "stream",
     "text": [
      "100%|██████████| 491/491 [02:16<00:00,  3.60it/s]\n"
     ]
    },
    {
     "name": "stdout",
     "output_type": "stream",
     "text": [
      "Epoch 2, Autoencoder Loss: 0.008074579760432243, Discriminator Loss: 0.30660122632980347, Discriminator Accuracy: 0.9303398728370667\n",
      "Validation - Autoencoder Loss: 0.007531899493187666, Discriminator Loss: 0.27322307229042053, Discriminator Accuracy: 0.8645409941673279\n"
     ]
    },
    {
     "name": "stderr",
     "output_type": "stream",
     "text": [
      "100%|██████████| 491/491 [02:15<00:00,  3.64it/s]\n"
     ]
    },
    {
     "name": "stdout",
     "output_type": "stream",
     "text": [
      "Epoch 3, Autoencoder Loss: 0.006331800948828459, Discriminator Loss: 0.14580899477005005, Discriminator Accuracy: 0.9805562496185303\n",
      "Validation - Autoencoder Loss: 0.005776667036116123, Discriminator Loss: 0.13987460732460022, Discriminator Accuracy: 0.945510745048523\n"
     ]
    },
    {
     "name": "stderr",
     "output_type": "stream",
     "text": [
      "100%|██████████| 491/491 [02:15<00:00,  3.63it/s]\n"
     ]
    },
    {
     "name": "stdout",
     "output_type": "stream",
     "text": [
      "Epoch 4, Autoencoder Loss: 0.005312172695994377, Discriminator Loss: 0.08023514598608017, Discriminator Accuracy: 0.9936672449111938\n",
      "Validation - Autoencoder Loss: 0.005381252150982618, Discriminator Loss: 0.1346019208431244, Discriminator Accuracy: 0.9475509524345398\n"
     ]
    },
    {
     "name": "stderr",
     "output_type": "stream",
     "text": [
      "100%|██████████| 491/491 [02:14<00:00,  3.64it/s]\n"
     ]
    },
    {
     "name": "stdout",
     "output_type": "stream",
     "text": [
      "Epoch 5, Autoencoder Loss: 0.004683210514485836, Discriminator Loss: 0.05352836847305298, Discriminator Accuracy: 0.9972632527351379\n",
      "Validation - Autoencoder Loss: 0.004824040457606316, Discriminator Loss: 0.1068887785077095, Discriminator Accuracy: 0.9573556184768677\n"
     ]
    },
    {
     "name": "stderr",
     "output_type": "stream",
     "text": [
      "100%|██████████| 491/491 [02:15<00:00,  3.63it/s]\n"
     ]
    },
    {
     "name": "stdout",
     "output_type": "stream",
     "text": [
      "Epoch 6, Autoencoder Loss: 0.004253861494362354, Discriminator Loss: 0.035168495029211044, Discriminator Accuracy: 0.9987907409667969\n",
      "Validation - Autoencoder Loss: 0.0045425123535096645, Discriminator Loss: 0.10079457610845566, Discriminator Accuracy: 0.968757688999176\n"
     ]
    },
    {
     "name": "stderr",
     "output_type": "stream",
     "text": [
      "100%|██████████| 491/491 [02:14<00:00,  3.64it/s]\n"
     ]
    },
    {
     "name": "stdout",
     "output_type": "stream",
     "text": [
      "Epoch 7, Autoencoder Loss: 0.005540189333260059, Discriminator Loss: 0.09841720014810562, Discriminator Accuracy: 0.9856797456741333\n",
      "Validation - Autoencoder Loss: 0.005297850351780653, Discriminator Loss: 0.08302690833806992, Discriminator Accuracy: 0.9672333002090454\n"
     ]
    },
    {
     "name": "stderr",
     "output_type": "stream",
     "text": [
      "100%|██████████| 491/491 [02:14<00:00,  3.64it/s]\n"
     ]
    },
    {
     "name": "stdout",
     "output_type": "stream",
     "text": [
      "Epoch 8, Autoencoder Loss: 0.0037873529363423586, Discriminator Loss: 0.02017967216670513, Discriminator Accuracy: 0.9996499419212341\n",
      "Validation - Autoencoder Loss: 0.004236867185682058, Discriminator Loss: 0.061251141130924225, Discriminator Accuracy: 0.9819690585136414\n"
     ]
    },
    {
     "name": "stderr",
     "output_type": "stream",
     "text": [
      "100%|██████████| 491/491 [02:15<00:00,  3.63it/s]\n"
     ]
    },
    {
     "name": "stdout",
     "output_type": "stream",
     "text": [
      "Epoch 9, Autoencoder Loss: 0.005068022757768631, Discriminator Loss: 0.11985927820205688, Discriminator Accuracy: 0.9835476279258728\n",
      "Validation - Autoencoder Loss: 0.0038836230523884296, Discriminator Loss: 0.08234769850969315, Discriminator Accuracy: 0.9717987775802612\n"
     ]
    },
    {
     "name": "stderr",
     "output_type": "stream",
     "text": [
      "100%|██████████| 491/491 [02:14<00:00,  3.64it/s]\n"
     ]
    },
    {
     "name": "stdout",
     "output_type": "stream",
     "text": [
      "Epoch 10, Autoencoder Loss: 0.0035270501393824816, Discriminator Loss: 0.014670927077531815, Discriminator Accuracy: 0.9996817708015442\n",
      "Validation - Autoencoder Loss: 0.0036270548589527607, Discriminator Loss: 0.061720479279756546, Discriminator Accuracy: 0.9819613695144653\n"
     ]
    },
    {
     "name": "stderr",
     "output_type": "stream",
     "text": [
      "100%|██████████| 491/491 [02:21<00:00,  3.46it/s]\n"
     ]
    },
    {
     "name": "stdout",
     "output_type": "stream",
     "text": [
      "Epoch 11, Autoencoder Loss: 0.003363601630553603, Discriminator Loss: 0.008461201563477516, Discriminator Accuracy: 0.9999045133590698\n",
      "Validation - Autoencoder Loss: 0.003459640545770526, Discriminator Loss: 0.06408298015594482, Discriminator Accuracy: 0.9828506112098694\n"
     ]
    },
    {
     "name": "stderr",
     "output_type": "stream",
     "text": [
      "100%|██████████| 491/491 [02:14<00:00,  3.64it/s]\n"
     ]
    },
    {
     "name": "stdout",
     "output_type": "stream",
     "text": [
      "Epoch 12, Autoencoder Loss: 0.0032314083073288202, Discriminator Loss: 0.01298888772726059, Discriminator Accuracy: 0.9998726844787598\n",
      "Validation - Autoencoder Loss: 0.00332912290468812, Discriminator Loss: 0.051638584583997726, Discriminator Accuracy: 0.9846290946006775\n"
     ]
    },
    {
     "name": "stderr",
     "output_type": "stream",
     "text": [
      "100%|██████████| 491/491 [02:14<00:00,  3.64it/s]\n"
     ]
    },
    {
     "name": "stdout",
     "output_type": "stream",
     "text": [
      "Epoch 13, Autoencoder Loss: 0.0031292159110307693, Discriminator Loss: 0.01888130232691765, Discriminator Accuracy: 0.9993635416030884\n",
      "Validation - Autoencoder Loss: 0.003567316336557269, Discriminator Loss: 0.06035385653376579, Discriminator Accuracy: 0.980182945728302\n"
     ]
    },
    {
     "name": "stderr",
     "output_type": "stream",
     "text": [
      "100%|██████████| 491/491 [02:15<00:00,  3.64it/s]\n"
     ]
    },
    {
     "name": "stdout",
     "output_type": "stream",
     "text": [
      "Epoch 14, Autoencoder Loss: 0.0030117235146462917, Discriminator Loss: 0.006196397822350264, Discriminator Accuracy: 0.9999363422393799\n",
      "Validation - Autoencoder Loss: 0.0031358280684798956, Discriminator Loss: 0.05367298051714897, Discriminator Accuracy: 0.9867963194847107\n"
     ]
    },
    {
     "name": "stderr",
     "output_type": "stream",
     "text": [
      "100%|██████████| 491/491 [02:14<00:00,  3.65it/s]\n"
     ]
    },
    {
     "name": "stdout",
     "output_type": "stream",
     "text": [
      "Epoch 15, Autoencoder Loss: 0.002922632498666644, Discriminator Loss: 0.012630444951355457, Discriminator Accuracy: 0.9998726844787598\n",
      "Validation - Autoencoder Loss: 0.0035210310015827417, Discriminator Loss: 0.08322382718324661, Discriminator Accuracy: 0.9758715033531189\n"
     ]
    },
    {
     "name": "stderr",
     "output_type": "stream",
     "text": [
      "100%|██████████| 491/491 [02:15<00:00,  3.63it/s]\n"
     ]
    },
    {
     "name": "stdout",
     "output_type": "stream",
     "text": [
      "Epoch 16, Autoencoder Loss: 0.0028442186303436756, Discriminator Loss: 0.011563158594071865, Discriminator Accuracy: 0.9997454285621643\n",
      "Validation - Autoencoder Loss: 0.00305342604406178, Discriminator Loss: 0.05767856910824776, Discriminator Accuracy: 0.9853912591934204\n"
     ]
    },
    {
     "name": "stderr",
     "output_type": "stream",
     "text": [
      "100%|██████████| 491/491 [02:15<00:00,  3.63it/s]\n"
     ]
    },
    {
     "name": "stdout",
     "output_type": "stream",
     "text": [
      "Epoch 17, Autoencoder Loss: 0.0027477345429360867, Discriminator Loss: 0.009793927893042564, Discriminator Accuracy: 0.999554455280304\n",
      "Validation - Autoencoder Loss: 0.0029711700044572353, Discriminator Loss: 0.05681506171822548, Discriminator Accuracy: 0.986026406288147\n"
     ]
    },
    {
     "name": "stderr",
     "output_type": "stream",
     "text": [
      "100%|██████████| 491/491 [02:16<00:00,  3.60it/s]\n"
     ]
    },
    {
     "name": "stdout",
     "output_type": "stream",
     "text": [
      "Epoch 18, Autoencoder Loss: 0.0026469137519598007, Discriminator Loss: 0.004838158376514912, Discriminator Accuracy: 0.9999363422393799\n",
      "Validation - Autoencoder Loss: 0.002924499800428748, Discriminator Loss: 0.058270275592803955, Discriminator Accuracy: 0.9841209053993225\n"
     ]
    },
    {
     "name": "stderr",
     "output_type": "stream",
     "text": [
      "100%|██████████| 491/491 [02:14<00:00,  3.64it/s]\n"
     ]
    },
    {
     "name": "stdout",
     "output_type": "stream",
     "text": [
      "Epoch 19, Autoencoder Loss: 0.00259687309153378, Discriminator Loss: 0.004416544921696186, Discriminator Accuracy: 0.9998409152030945\n",
      "Validation - Autoencoder Loss: 0.003031916683539748, Discriminator Loss: 0.08026792854070663, Discriminator Accuracy: 0.9770147800445557\n"
     ]
    },
    {
     "name": "stderr",
     "output_type": "stream",
     "text": [
      "100%|██████████| 491/491 [02:14<00:00,  3.64it/s]\n"
     ]
    },
    {
     "name": "stdout",
     "output_type": "stream",
     "text": [
      "Epoch 20, Autoencoder Loss: 0.0025157881900668144, Discriminator Loss: 0.013993432745337486, Discriminator Accuracy: 0.9996499419212341\n",
      "Validation - Autoencoder Loss: 0.004768477752804756, Discriminator Loss: 0.07712181657552719, Discriminator Accuracy: 0.9688770174980164\n"
     ]
    },
    {
     "name": "stderr",
     "output_type": "stream",
     "text": [
      "100%|██████████| 491/491 [02:14<00:00,  3.64it/s]\n"
     ]
    },
    {
     "name": "stdout",
     "output_type": "stream",
     "text": [
      "Epoch 21, Autoencoder Loss: 0.002451881067827344, Discriminator Loss: 0.006606724578887224, Discriminator Accuracy: 0.9999363422393799\n",
      "Validation - Autoencoder Loss: 0.0028470936231315136, Discriminator Loss: 0.05054242163896561, Discriminator Accuracy: 0.9865345358848572\n"
     ]
    },
    {
     "name": "stderr",
     "output_type": "stream",
     "text": [
      "100%|██████████| 491/491 [02:14<00:00,  3.65it/s]\n"
     ]
    },
    {
     "name": "stdout",
     "output_type": "stream",
     "text": [
      "Epoch 22, Autoencoder Loss: 0.002357442630454898, Discriminator Loss: 0.0028215423226356506, Discriminator Accuracy: 0.9999681711196899\n",
      "Validation - Autoencoder Loss: 0.00273954588919878, Discriminator Loss: 0.061734747141599655, Discriminator Accuracy: 0.986915647983551\n"
     ]
    },
    {
     "name": "stderr",
     "output_type": "stream",
     "text": [
      "100%|██████████| 491/491 [02:16<00:00,  3.59it/s]\n"
     ]
    },
    {
     "name": "stdout",
     "output_type": "stream",
     "text": [
      "Epoch 23, Autoencoder Loss: 0.0022928782273083925, Discriminator Loss: 0.004462313372641802, Discriminator Accuracy: 0.9999363422393799\n",
      "Validation - Autoencoder Loss: 0.0028330350760370493, Discriminator Loss: 0.048535894602537155, Discriminator Accuracy: 0.9893292784690857\n"
     ]
    },
    {
     "name": "stderr",
     "output_type": "stream",
     "text": [
      "100%|██████████| 491/491 [02:17<00:00,  3.57it/s]\n"
     ]
    },
    {
     "name": "stdout",
     "output_type": "stream",
     "text": [
      "Epoch 24, Autoencoder Loss: 0.0022579256910830736, Discriminator Loss: 0.011821340769529343, Discriminator Accuracy: 0.9996499419212341\n",
      "Validation - Autoencoder Loss: 0.0029229954816401005, Discriminator Loss: 0.06026335805654526, Discriminator Accuracy: 0.9829776287078857\n"
     ]
    },
    {
     "name": "stderr",
     "output_type": "stream",
     "text": [
      "100%|██████████| 491/491 [02:17<00:00,  3.56it/s]\n"
     ]
    },
    {
     "name": "stdout",
     "output_type": "stream",
     "text": [
      "Epoch 25, Autoencoder Loss: 0.002270517870783806, Discriminator Loss: 0.012269125320017338, Discriminator Accuracy: 0.9993953704833984\n",
      "Validation - Autoencoder Loss: 0.0026781721971929073, Discriminator Loss: 0.05775752663612366, Discriminator Accuracy: 0.9847561120986938\n"
     ]
    },
    {
     "name": "stderr",
     "output_type": "stream",
     "text": [
      "100%|██████████| 491/491 [02:18<00:00,  3.54it/s]\n"
     ]
    },
    {
     "name": "stdout",
     "output_type": "stream",
     "text": [
      "Epoch 26, Autoencoder Loss: 0.0021215612068772316, Discriminator Loss: 0.0017749581020325422, Discriminator Accuracy: 0.9999681711196899\n",
      "Validation - Autoencoder Loss: 0.002818516455590725, Discriminator Loss: 0.0581045038998127, Discriminator Accuracy: 0.9876778721809387\n"
     ]
    },
    {
     "name": "stderr",
     "output_type": "stream",
     "text": [
      "100%|██████████| 491/491 [02:17<00:00,  3.56it/s]\n"
     ]
    },
    {
     "name": "stdout",
     "output_type": "stream",
     "text": [
      "Epoch 27, Autoencoder Loss: 0.0020815928000956774, Discriminator Loss: 0.0008955295197665691, Discriminator Accuracy: 1.0\n",
      "Validation - Autoencoder Loss: 0.00259687309153378, Discriminator Loss: 0.05398596450686455, Discriminator Accuracy: 0.9897180795669556\n"
     ]
    },
    {
     "name": "stderr",
     "output_type": "stream",
     "text": [
      "100%|██████████| 491/491 [02:18<00:00,  3.55it/s]\n"
     ]
    },
    {
     "name": "stdout",
     "output_type": "stream",
     "text": [
      "Epoch 28, Autoencoder Loss: 0.0020379647612571716, Discriminator Loss: 0.001185690052807331, Discriminator Accuracy: 0.9999363422393799\n",
      "Validation - Autoencoder Loss: 0.0026856567710638046, Discriminator Loss: 0.06286188960075378, Discriminator Accuracy: 0.9874237775802612\n"
     ]
    },
    {
     "name": "stderr",
     "output_type": "stream",
     "text": [
      "100%|██████████| 491/491 [02:18<00:00,  3.55it/s]\n"
     ]
    },
    {
     "name": "stdout",
     "output_type": "stream",
     "text": [
      "Epoch 29, Autoencoder Loss: 0.0020497096702456474, Discriminator Loss: 0.011704126372933388, Discriminator Accuracy: 0.9998090863227844\n",
      "Validation - Autoencoder Loss: 0.0028245942667126656, Discriminator Loss: 0.052200254052877426, Discriminator Accuracy: 0.9864152073860168\n"
     ]
    },
    {
     "name": "stderr",
     "output_type": "stream",
     "text": [
      "100%|██████████| 491/491 [02:18<00:00,  3.56it/s]\n"
     ]
    },
    {
     "name": "stdout",
     "output_type": "stream",
     "text": [
      "Epoch 30, Autoencoder Loss: 0.0020020962692797184, Discriminator Loss: 0.004643425345420837, Discriminator Accuracy: 0.9998409152030945\n",
      "Validation - Autoencoder Loss: 0.0025449541863054037, Discriminator Loss: 0.04372032359242439, Discriminator Accuracy: 0.9903455376625061\n"
     ]
    },
    {
     "name": "stderr",
     "output_type": "stream",
     "text": [
      "100%|██████████| 491/491 [02:18<00:00,  3.55it/s]\n"
     ]
    },
    {
     "name": "stdout",
     "output_type": "stream",
     "text": [
      "Epoch 31, Autoencoder Loss: 0.0018974484410136938, Discriminator Loss: 0.0004306044429540634, Discriminator Accuracy: 1.0\n",
      "Validation - Autoencoder Loss: 0.002738031093031168, Discriminator Loss: 0.05752899870276451, Discriminator Accuracy: 0.9895833134651184\n"
     ]
    },
    {
     "name": "stderr",
     "output_type": "stream",
     "text": [
      "100%|██████████| 491/491 [02:17<00:00,  3.56it/s]\n"
     ]
    },
    {
     "name": "stdout",
     "output_type": "stream",
     "text": [
      "Epoch 32, Autoencoder Loss: 0.001875871792435646, Discriminator Loss: 0.00024199664767365903, Discriminator Accuracy: 1.0\n",
      "Validation - Autoencoder Loss: 0.0028461467009037733, Discriminator Loss: 0.057013966143131256, Discriminator Accuracy: 0.9897103905677795\n"
     ]
    },
    {
     "name": "stderr",
     "output_type": "stream",
     "text": [
      "100%|██████████| 491/491 [02:17<00:00,  3.56it/s]\n"
     ]
    },
    {
     "name": "stdout",
     "output_type": "stream",
     "text": [
      "Epoch 33, Autoencoder Loss: 0.0018466371111571789, Discriminator Loss: 0.006389531306922436, Discriminator Accuracy: 0.9996499419212341\n",
      "Validation - Autoencoder Loss: 0.003355642082169652, Discriminator Loss: 0.06097414344549179, Discriminator Accuracy: 0.9864075183868408\n"
     ]
    },
    {
     "name": "stderr",
     "output_type": "stream",
     "text": [
      "100%|██████████| 491/491 [02:17<00:00,  3.57it/s]\n"
     ]
    },
    {
     "name": "stdout",
     "output_type": "stream",
     "text": [
      "Epoch 34, Autoencoder Loss: 0.0018214021110907197, Discriminator Loss: 0.006578877102583647, Discriminator Accuracy: 0.9998090863227844\n",
      "Validation - Autoencoder Loss: 0.002666460582986474, Discriminator Loss: 0.061380188912153244, Discriminator Accuracy: 0.9846367835998535\n"
     ]
    },
    {
     "name": "stderr",
     "output_type": "stream",
     "text": [
      "100%|██████████| 491/491 [02:17<00:00,  3.58it/s]\n"
     ]
    },
    {
     "name": "stdout",
     "output_type": "stream",
     "text": [
      "Epoch 35, Autoencoder Loss: 0.0017843752866610885, Discriminator Loss: 0.00305798533372581, Discriminator Accuracy: 1.0\n",
      "Validation - Autoencoder Loss: 0.002863251371309161, Discriminator Loss: 0.046412501484155655, Discriminator Accuracy: 0.9888288378715515\n"
     ]
    },
    {
     "name": "stderr",
     "output_type": "stream",
     "text": [
      "100%|██████████| 491/491 [02:17<00:00,  3.57it/s]\n"
     ]
    },
    {
     "name": "stdout",
     "output_type": "stream",
     "text": [
      "Epoch 36, Autoencoder Loss: 0.0017461905954405665, Discriminator Loss: 0.0006580617045983672, Discriminator Accuracy: 1.0\n",
      "Validation - Autoencoder Loss: 0.002571308286860585, Discriminator Loss: 0.04591669142246246, Discriminator Accuracy: 0.9904802441596985\n"
     ]
    },
    {
     "name": "stderr",
     "output_type": "stream",
     "text": [
      "100%|██████████| 491/491 [02:17<00:00,  3.57it/s]\n"
     ]
    },
    {
     "name": "stdout",
     "output_type": "stream",
     "text": [
      "Epoch 37, Autoencoder Loss: 0.0017410004511475563, Discriminator Loss: 0.00016687398601789027, Discriminator Accuracy: 1.0\n",
      "Validation - Autoencoder Loss: 0.002982388250529766, Discriminator Loss: 0.05267900973558426, Discriminator Accuracy: 0.986026406288147\n"
     ]
    },
    {
     "name": "stderr",
     "output_type": "stream",
     "text": [
      "100%|██████████| 491/491 [02:19<00:00,  3.53it/s]\n"
     ]
    },
    {
     "name": "stdout",
     "output_type": "stream",
     "text": [
      "Epoch 38, Autoencoder Loss: 0.0017058274243026972, Discriminator Loss: 0.005440023727715015, Discriminator Accuracy: 0.9999363422393799\n",
      "Validation - Autoencoder Loss: 0.002709142630919814, Discriminator Loss: 0.05332430824637413, Discriminator Accuracy: 0.9847561120986938\n"
     ]
    },
    {
     "name": "stderr",
     "output_type": "stream",
     "text": [
      "100%|██████████| 491/491 [02:19<00:00,  3.53it/s]\n"
     ]
    },
    {
     "name": "stdout",
     "output_type": "stream",
     "text": [
      "Epoch 39, Autoencoder Loss: 0.0016600241651758552, Discriminator Loss: 0.00396744767203927, Discriminator Accuracy: 0.9999681711196899\n",
      "Validation - Autoencoder Loss: 0.0026584819424897432, Discriminator Loss: 0.04427165910601616, Discriminator Accuracy: 0.9902185201644897\n"
     ]
    },
    {
     "name": "stderr",
     "output_type": "stream",
     "text": [
      "100%|██████████| 491/491 [02:18<00:00,  3.55it/s]\n"
     ]
    },
    {
     "name": "stdout",
     "output_type": "stream",
     "text": [
      "Epoch 40, Autoencoder Loss: 0.001644942443817854, Discriminator Loss: 0.0009147896780632436, Discriminator Accuracy: 1.0\n",
      "Validation - Autoencoder Loss: 0.002684935461729765, Discriminator Loss: 0.053368568420410156, Discriminator Accuracy: 0.986915647983551\n"
     ]
    },
    {
     "name": "stderr",
     "output_type": "stream",
     "text": [
      "100%|██████████| 491/491 [02:21<00:00,  3.46it/s]\n"
     ]
    },
    {
     "name": "stdout",
     "output_type": "stream",
     "text": [
      "Epoch 41, Autoencoder Loss: 0.0016298270784318447, Discriminator Loss: 0.0016783318715170026, Discriminator Accuracy: 1.0\n",
      "Validation - Autoencoder Loss: 0.0025992682203650475, Discriminator Loss: 0.050870418548583984, Discriminator Accuracy: 0.9908536672592163\n"
     ]
    },
    {
     "name": "stderr",
     "output_type": "stream",
     "text": [
      "100%|██████████| 491/491 [02:18<00:00,  3.55it/s]\n"
     ]
    },
    {
     "name": "stdout",
     "output_type": "stream",
     "text": [
      "Epoch 42, Autoencoder Loss: 0.0016619220841675997, Discriminator Loss: 0.00604674406349659, Discriminator Accuracy: 0.9998409152030945\n",
      "Validation - Autoencoder Loss: 0.0025555866304785013, Discriminator Loss: 0.042146842926740646, Discriminator Accuracy: 0.9892022609710693\n"
     ]
    },
    {
     "name": "stderr",
     "output_type": "stream",
     "text": [
      "100%|██████████| 491/491 [02:17<00:00,  3.57it/s]\n"
     ]
    },
    {
     "name": "stdout",
     "output_type": "stream",
     "text": [
      "Epoch 43, Autoencoder Loss: 0.0015276273479685187, Discriminator Loss: 0.0008133695228025317, Discriminator Accuracy: 1.0\n",
      "Validation - Autoencoder Loss: 0.002547926502302289, Discriminator Loss: 0.051992516964673996, Discriminator Accuracy: 0.9899644255638123\n"
     ]
    },
    {
     "name": "stderr",
     "output_type": "stream",
     "text": [
      "100%|██████████| 491/491 [02:17<00:00,  3.56it/s]\n"
     ]
    },
    {
     "name": "stdout",
     "output_type": "stream",
     "text": [
      "Epoch 44, Autoencoder Loss: 0.0015541657339781523, Discriminator Loss: 7.736113911960274e-05, Discriminator Accuracy: 1.0\n",
      "Validation - Autoencoder Loss: 0.002549754222854972, Discriminator Loss: 0.05325663834810257, Discriminator Accuracy: 0.9914888143539429\n"
     ]
    },
    {
     "name": "stderr",
     "output_type": "stream",
     "text": [
      "100%|██████████| 491/491 [02:17<00:00,  3.56it/s]\n"
     ]
    },
    {
     "name": "stdout",
     "output_type": "stream",
     "text": [
      "Epoch 45, Autoencoder Loss: 0.0015307158464565873, Discriminator Loss: 7.325039041461423e-05, Discriminator Accuracy: 1.0\n",
      "Validation - Autoencoder Loss: 0.002557355212047696, Discriminator Loss: 0.05509023368358612, Discriminator Accuracy: 0.9907266497612\n"
     ]
    },
    {
     "name": "stderr",
     "output_type": "stream",
     "text": [
      "100%|██████████| 491/491 [02:21<00:00,  3.46it/s]\n"
     ]
    },
    {
     "name": "stdout",
     "output_type": "stream",
     "text": [
      "Epoch 46, Autoencoder Loss: 0.0015219295164570212, Discriminator Loss: 2.905986548285e-05, Discriminator Accuracy: 1.0\n",
      "Validation - Autoencoder Loss: 0.0026347085367888212, Discriminator Loss: 0.05739883705973625, Discriminator Accuracy: 0.9903455376625061\n"
     ]
    },
    {
     "name": "stderr",
     "output_type": "stream",
     "text": [
      "100%|██████████| 491/491 [02:17<00:00,  3.57it/s]\n"
     ]
    },
    {
     "name": "stdout",
     "output_type": "stream",
     "text": [
      "Epoch 47, Autoencoder Loss: 0.0014927058946341276, Discriminator Loss: 0.0070212907157838345, Discriminator Accuracy: 0.9999045133590698\n",
      "Validation - Autoencoder Loss: 0.0027372564654797316, Discriminator Loss: 0.052749745547771454, Discriminator Accuracy: 0.9868040084838867\n"
     ]
    },
    {
     "name": "stderr",
     "output_type": "stream",
     "text": [
      "100%|██████████| 491/491 [02:17<00:00,  3.56it/s]\n"
     ]
    },
    {
     "name": "stdout",
     "output_type": "stream",
     "text": [
      "Epoch 48, Autoencoder Loss: 0.0014804686652496457, Discriminator Loss: 0.0021656218450516462, Discriminator Accuracy: 0.9999045133590698\n",
      "Validation - Autoencoder Loss: 0.002570144133642316, Discriminator Loss: 0.039923228323459625, Discriminator Accuracy: 0.9902185201644897\n"
     ]
    },
    {
     "name": "stderr",
     "output_type": "stream",
     "text": [
      "100%|██████████| 491/491 [02:17<00:00,  3.57it/s]\n"
     ]
    },
    {
     "name": "stdout",
     "output_type": "stream",
     "text": [
      "Epoch 49, Autoencoder Loss: 0.001466390211135149, Discriminator Loss: 0.00018272506713401526, Discriminator Accuracy: 1.0\n",
      "Validation - Autoencoder Loss: 0.0025885531213134527, Discriminator Loss: 0.05092053860425949, Discriminator Accuracy: 0.9889481663703918\n"
     ]
    },
    {
     "name": "stderr",
     "output_type": "stream",
     "text": [
      "100%|██████████| 491/491 [02:18<00:00,  3.56it/s]\n"
     ]
    },
    {
     "name": "stdout",
     "output_type": "stream",
     "text": [
      "Epoch 50, Autoencoder Loss: 0.0014488983433693647, Discriminator Loss: 0.002422152552753687, Discriminator Accuracy: 0.9999681711196899\n",
      "Validation - Autoencoder Loss: 0.00260833278298378, Discriminator Loss: 0.04545467719435692, Discriminator Accuracy: 0.9893369674682617\n"
     ]
    },
    {
     "name": "stderr",
     "output_type": "stream",
     "text": [
      "100%|██████████| 491/491 [02:17<00:00,  3.56it/s]\n"
     ]
    },
    {
     "name": "stdout",
     "output_type": "stream",
     "text": [
      "Epoch 51, Autoencoder Loss: 0.0014326516538858414, Discriminator Loss: 0.00031467797816731036, Discriminator Accuracy: 1.0\n",
      "Validation - Autoencoder Loss: 0.0025914970319718122, Discriminator Loss: 0.048642877489328384, Discriminator Accuracy: 0.9898450970649719\n"
     ]
    },
    {
     "name": "stderr",
     "output_type": "stream",
     "text": [
      "100%|██████████| 491/491 [02:17<00:00,  3.56it/s]\n"
     ]
    },
    {
     "name": "stdout",
     "output_type": "stream",
     "text": [
      "Epoch 52, Autoencoder Loss: 0.0014205726329237223, Discriminator Loss: 9.65207364060916e-05, Discriminator Accuracy: 1.0\n",
      "Validation - Autoencoder Loss: 0.0027772043831646442, Discriminator Loss: 0.05737793445587158, Discriminator Accuracy: 0.9878048896789551\n"
     ]
    },
    {
     "name": "stderr",
     "output_type": "stream",
     "text": [
      "100%|██████████| 491/491 [02:17<00:00,  3.56it/s]\n"
     ]
    },
    {
     "name": "stdout",
     "output_type": "stream",
     "text": [
      "Epoch 53, Autoencoder Loss: 0.0014024797128513455, Discriminator Loss: 2.563583620940335e-05, Discriminator Accuracy: 1.0\n",
      "Validation - Autoencoder Loss: 0.0027705137617886066, Discriminator Loss: 0.05152439698576927, Discriminator Accuracy: 0.9898374080657959\n"
     ]
    },
    {
     "name": "stderr",
     "output_type": "stream",
     "text": [
      "100%|██████████| 491/491 [02:17<00:00,  3.57it/s]\n"
     ]
    },
    {
     "name": "stdout",
     "output_type": "stream",
     "text": [
      "Epoch 54, Autoencoder Loss: 0.0014032695908099413, Discriminator Loss: 0.009006590582430363, Discriminator Accuracy: 0.9997135996818542\n",
      "Validation - Autoencoder Loss: 0.002624112879857421, Discriminator Loss: 0.052560798823833466, Discriminator Accuracy: 0.9898374080657959\n"
     ]
    },
    {
     "name": "stderr",
     "output_type": "stream",
     "text": [
      "100%|██████████| 491/491 [02:18<00:00,  3.56it/s]\n"
     ]
    },
    {
     "name": "stdout",
     "output_type": "stream",
     "text": [
      "Epoch 55, Autoencoder Loss: 0.0013821326429024339, Discriminator Loss: 0.00019383170001674443, Discriminator Accuracy: 1.0\n",
      "Validation - Autoencoder Loss: 0.002655968302860856, Discriminator Loss: 0.05280541256070137, Discriminator Accuracy: 0.9912347793579102\n"
     ]
    },
    {
     "name": "stderr",
     "output_type": "stream",
     "text": [
      "100%|██████████| 491/491 [02:17<00:00,  3.57it/s]\n"
     ]
    },
    {
     "name": "stdout",
     "output_type": "stream",
     "text": [
      "Epoch 56, Autoencoder Loss: 0.0013615621719509363, Discriminator Loss: 4.962879029335454e-05, Discriminator Accuracy: 1.0\n",
      "Validation - Autoencoder Loss: 0.002581571927294135, Discriminator Loss: 0.05835027992725372, Discriminator Accuracy: 0.9905995726585388\n"
     ]
    },
    {
     "name": "stderr",
     "output_type": "stream",
     "text": [
      "100%|██████████| 491/491 [02:17<00:00,  3.57it/s]\n"
     ]
    },
    {
     "name": "stdout",
     "output_type": "stream",
     "text": [
      "Epoch 57, Autoencoder Loss: 0.0013574939221143723, Discriminator Loss: 6.466299237217754e-05, Discriminator Accuracy: 0.9999681711196899\n",
      "Validation - Autoencoder Loss: 0.0027004198636859655, Discriminator Loss: 0.05680672079324722, Discriminator Accuracy: 0.9912347793579102\n"
     ]
    },
    {
     "name": "stderr",
     "output_type": "stream",
     "text": [
      "100%|██████████| 491/491 [02:18<00:00,  3.53it/s]\n"
     ]
    },
    {
     "name": "stdout",
     "output_type": "stream",
     "text": [
      "Epoch 58, Autoencoder Loss: 0.0013586884597316384, Discriminator Loss: 0.0030432576313614845, Discriminator Accuracy: 0.9999363422393799\n",
      "Validation - Autoencoder Loss: 0.0025997005868703127, Discriminator Loss: 0.05441637709736824, Discriminator Accuracy: 0.9881860017776489\n"
     ]
    },
    {
     "name": "stderr",
     "output_type": "stream",
     "text": [
      "100%|██████████| 491/491 [02:18<00:00,  3.54it/s]\n"
     ]
    },
    {
     "name": "stdout",
     "output_type": "stream",
     "text": [
      "Epoch 59, Autoencoder Loss: 0.0013219377724453807, Discriminator Loss: 0.002307064365595579, Discriminator Accuracy: 1.0\n",
      "Validation - Autoencoder Loss: 0.0026608582120388746, Discriminator Loss: 0.0438014455139637, Discriminator Accuracy: 0.9898374080657959\n"
     ]
    },
    {
     "name": "stderr",
     "output_type": "stream",
     "text": [
      "100%|██████████| 491/491 [02:17<00:00,  3.56it/s]\n"
     ]
    },
    {
     "name": "stdout",
     "output_type": "stream",
     "text": [
      "Epoch 60, Autoencoder Loss: 0.0013229709584265947, Discriminator Loss: 0.0023204281460493803, Discriminator Accuracy: 1.0\n",
      "Validation - Autoencoder Loss: 0.0027755764313042164, Discriminator Loss: 0.047018781304359436, Discriminator Accuracy: 0.9900991320610046\n"
     ]
    },
    {
     "name": "stderr",
     "output_type": "stream",
     "text": [
      "100%|██████████| 491/491 [02:17<00:00,  3.58it/s]\n"
     ]
    },
    {
     "name": "stdout",
     "output_type": "stream",
     "text": [
      "Epoch 61, Autoencoder Loss: 0.0013234425568953156, Discriminator Loss: 0.0001362204784527421, Discriminator Accuracy: 1.0\n",
      "Validation - Autoencoder Loss: 0.002650278154760599, Discriminator Loss: 0.0500880666077137, Discriminator Accuracy: 0.9916158318519592\n"
     ]
    },
    {
     "name": "stderr",
     "output_type": "stream",
     "text": [
      "100%|██████████| 491/491 [02:17<00:00,  3.58it/s]\n"
     ]
    },
    {
     "name": "stdout",
     "output_type": "stream",
     "text": [
      "Epoch 62, Autoencoder Loss: 0.0012979746097698808, Discriminator Loss: 2.2380581867764704e-05, Discriminator Accuracy: 1.0\n",
      "Validation - Autoencoder Loss: 0.0027066823095083237, Discriminator Loss: 0.04986464977264404, Discriminator Accuracy: 0.9908536672592163\n"
     ]
    },
    {
     "name": "stderr",
     "output_type": "stream",
     "text": [
      "100%|██████████| 491/491 [02:16<00:00,  3.59it/s]\n"
     ]
    },
    {
     "name": "stdout",
     "output_type": "stream",
     "text": [
      "Epoch 63, Autoencoder Loss: 0.0012923667673021555, Discriminator Loss: 0.0027243406511843204, Discriminator Accuracy: 0.9999045133590698\n",
      "Validation - Autoencoder Loss: 0.0026770683471113443, Discriminator Loss: 0.04695182293653488, Discriminator Accuracy: 0.9880589246749878\n"
     ]
    },
    {
     "name": "stderr",
     "output_type": "stream",
     "text": [
      "100%|██████████| 491/491 [02:18<00:00,  3.53it/s]\n"
     ]
    },
    {
     "name": "stdout",
     "output_type": "stream",
     "text": [
      "Epoch 64, Autoencoder Loss: 0.0012792617781087756, Discriminator Loss: 0.0016237642848864198, Discriminator Accuracy: 1.0\n",
      "Validation - Autoencoder Loss: 0.002608556766062975, Discriminator Loss: 0.0433027446269989, Discriminator Accuracy: 0.9909960627555847\n"
     ]
    },
    {
     "name": "stderr",
     "output_type": "stream",
     "text": [
      "100%|██████████| 491/491 [02:22<00:00,  3.45it/s]\n"
     ]
    },
    {
     "name": "stdout",
     "output_type": "stream",
     "text": [
      "Epoch 65, Autoencoder Loss: 0.001274205045774579, Discriminator Loss: 0.0033962703309953213, Discriminator Accuracy: 0.9999363422393799\n",
      "Validation - Autoencoder Loss: 0.002579626627266407, Discriminator Loss: 0.04581497609615326, Discriminator Accuracy: 0.9903532266616821\n"
     ]
    },
    {
     "name": "stderr",
     "output_type": "stream",
     "text": [
      "100%|██████████| 491/491 [02:22<00:00,  3.44it/s]\n"
     ]
    },
    {
     "name": "stdout",
     "output_type": "stream",
     "text": [
      "Epoch 66, Autoencoder Loss: 0.0012592491693794727, Discriminator Loss: 0.00245239632204175, Discriminator Accuracy: 1.0\n",
      "Validation - Autoencoder Loss: 0.002561043482273817, Discriminator Loss: 0.04789187014102936, Discriminator Accuracy: 0.9900914430618286\n"
     ]
    },
    {
     "name": "stderr",
     "output_type": "stream",
     "text": [
      "100%|██████████| 491/491 [02:21<00:00,  3.46it/s]\n"
     ]
    },
    {
     "name": "stdout",
     "output_type": "stream",
     "text": [
      "Epoch 67, Autoencoder Loss: 0.0012530299136415124, Discriminator Loss: 0.0002849382581189275, Discriminator Accuracy: 1.0\n",
      "Validation - Autoencoder Loss: 0.0026443847455084324, Discriminator Loss: 0.044068850576877594, Discriminator Accuracy: 0.9925050735473633\n"
     ]
    },
    {
     "name": "stderr",
     "output_type": "stream",
     "text": [
      "100%|██████████| 491/491 [02:22<00:00,  3.45it/s]\n"
     ]
    },
    {
     "name": "stdout",
     "output_type": "stream",
     "text": [
      "Epoch 68, Autoencoder Loss: 0.0012534273555502295, Discriminator Loss: 0.002364732325077057, Discriminator Accuracy: 0.9999363422393799\n",
      "Validation - Autoencoder Loss: 0.0025909426622092724, Discriminator Loss: 0.04732287675142288, Discriminator Accuracy: 0.9908536672592163\n"
     ]
    },
    {
     "name": "stderr",
     "output_type": "stream",
     "text": [
      "100%|██████████| 491/491 [02:18<00:00,  3.55it/s]\n"
     ]
    },
    {
     "name": "stdout",
     "output_type": "stream",
     "text": [
      "Epoch 69, Autoencoder Loss: 0.0012389033799991012, Discriminator Loss: 0.00016045717347878963, Discriminator Accuracy: 1.0\n",
      "Validation - Autoencoder Loss: 0.002676752395927906, Discriminator Loss: 0.04605352506041527, Discriminator Accuracy: 0.9905995726585388\n"
     ]
    },
    {
     "name": "stderr",
     "output_type": "stream",
     "text": [
      "100%|██████████| 491/491 [02:21<00:00,  3.47it/s]\n"
     ]
    },
    {
     "name": "stdout",
     "output_type": "stream",
     "text": [
      "Epoch 70, Autoencoder Loss: 0.0012235726462677121, Discriminator Loss: 2.4138180378940888e-05, Discriminator Accuracy: 1.0\n",
      "Validation - Autoencoder Loss: 0.003071834333240986, Discriminator Loss: 0.04980135336518288, Discriminator Accuracy: 0.9913617968559265\n"
     ]
    },
    {
     "name": "stderr",
     "output_type": "stream",
     "text": [
      "100%|██████████| 491/491 [02:17<00:00,  3.57it/s]\n"
     ]
    },
    {
     "name": "stdout",
     "output_type": "stream",
     "text": [
      "Epoch 71, Autoencoder Loss: 0.0012205637758597732, Discriminator Loss: 1.6013606000342406e-05, Discriminator Accuracy: 1.0\n",
      "Validation - Autoencoder Loss: 0.00266396370716393, Discriminator Loss: 0.05030117928981781, Discriminator Accuracy: 0.9907266497612\n"
     ]
    },
    {
     "name": "stderr",
     "output_type": "stream",
     "text": [
      "100%|██████████| 491/491 [02:17<00:00,  3.58it/s]\n"
     ]
    },
    {
     "name": "stdout",
     "output_type": "stream",
     "text": [
      "Epoch 72, Autoencoder Loss: 0.001208827132359147, Discriminator Loss: 1.0072533768834546e-05, Discriminator Accuracy: 1.0\n",
      "Validation - Autoencoder Loss: 0.0026051525492221117, Discriminator Loss: 0.0516919381916523, Discriminator Accuracy: 0.991107702255249\n"
     ]
    },
    {
     "name": "stderr",
     "output_type": "stream",
     "text": [
      "100%|██████████| 491/491 [02:18<00:00,  3.55it/s]\n"
     ]
    },
    {
     "name": "stdout",
     "output_type": "stream",
     "text": [
      "Epoch 73, Autoencoder Loss: 0.0012244896497577429, Discriminator Loss: 0.006969583220779896, Discriminator Accuracy: 0.9997454285621643\n",
      "Validation - Autoencoder Loss: 0.002602557186037302, Discriminator Loss: 0.045040495693683624, Discriminator Accuracy: 0.9903532266616821\n"
     ]
    },
    {
     "name": "stderr",
     "output_type": "stream",
     "text": [
      "100%|██████████| 491/491 [02:19<00:00,  3.52it/s]\n"
     ]
    },
    {
     "name": "stdout",
     "output_type": "stream",
     "text": [
      "Epoch 74, Autoencoder Loss: 0.0011882090475410223, Discriminator Loss: 4.6525674406439066e-05, Discriminator Accuracy: 1.0\n",
      "Validation - Autoencoder Loss: 0.002600461943075061, Discriminator Loss: 0.042169347405433655, Discriminator Accuracy: 0.9914888143539429\n"
     ]
    },
    {
     "name": "stderr",
     "output_type": "stream",
     "text": [
      "100%|██████████| 491/491 [02:17<00:00,  3.56it/s]\n"
     ]
    },
    {
     "name": "stdout",
     "output_type": "stream",
     "text": [
      "Epoch 75, Autoencoder Loss: 0.0011947577586397529, Discriminator Loss: 1.734593024593778e-05, Discriminator Accuracy: 1.0\n",
      "Validation - Autoencoder Loss: 0.0025448293890804052, Discriminator Loss: 0.04579959437251091, Discriminator Accuracy: 0.9921239614486694\n"
     ]
    },
    {
     "name": "stderr",
     "output_type": "stream",
     "text": [
      "100%|██████████| 491/491 [02:21<00:00,  3.46it/s]\n"
     ]
    },
    {
     "name": "stdout",
     "output_type": "stream",
     "text": [
      "Epoch 76, Autoencoder Loss: 0.0011849505826830864, Discriminator Loss: 0.0010586458956822753, Discriminator Accuracy: 1.0\n",
      "Validation - Autoencoder Loss: 0.002689796034246683, Discriminator Loss: 0.04414241760969162, Discriminator Accuracy: 0.9898450970649719\n"
     ]
    },
    {
     "name": "stderr",
     "output_type": "stream",
     "text": [
      "100%|██████████| 491/491 [02:18<00:00,  3.54it/s]\n"
     ]
    },
    {
     "name": "stdout",
     "output_type": "stream",
     "text": [
      "Epoch 77, Autoencoder Loss: 0.0011933959322050214, Discriminator Loss: 3.129485048702918e-05, Discriminator Accuracy: 1.0\n",
      "Validation - Autoencoder Loss: 0.0025374835822731256, Discriminator Loss: 0.04648230969905853, Discriminator Accuracy: 0.9914888143539429\n"
     ]
    },
    {
     "name": "stderr",
     "output_type": "stream",
     "text": [
      "100%|██████████| 491/491 [02:21<00:00,  3.46it/s]\n"
     ]
    },
    {
     "name": "stdout",
     "output_type": "stream",
     "text": [
      "Epoch 78, Autoencoder Loss: 0.0011630310909822583, Discriminator Loss: 1.2352425983408466e-05, Discriminator Accuracy: 1.0\n",
      "Validation - Autoencoder Loss: 0.002686156192794442, Discriminator Loss: 0.048273518681526184, Discriminator Accuracy: 0.9909806847572327\n"
     ]
    },
    {
     "name": "stderr",
     "output_type": "stream",
     "text": [
      "100%|██████████| 491/491 [02:18<00:00,  3.55it/s]\n"
     ]
    },
    {
     "name": "stdout",
     "output_type": "stream",
     "text": [
      "Epoch 79, Autoencoder Loss: 0.0011610081419348717, Discriminator Loss: 0.0042795403860509396, Discriminator Accuracy: 0.9999363422393799\n",
      "Validation - Autoencoder Loss: 0.0026402808725833893, Discriminator Loss: 0.04276302456855774, Discriminator Accuracy: 0.9886941313743591\n"
     ]
    },
    {
     "name": "stderr",
     "output_type": "stream",
     "text": [
      "100%|██████████| 491/491 [02:21<00:00,  3.46it/s]\n"
     ]
    },
    {
     "name": "stdout",
     "output_type": "stream",
     "text": [
      "Epoch 80, Autoencoder Loss: 0.001166153117083013, Discriminator Loss: 0.00030929900822229683, Discriminator Accuracy: 1.0\n",
      "Validation - Autoencoder Loss: 0.002868669806048274, Discriminator Loss: 0.043501775711774826, Discriminator Accuracy: 0.9899721145629883\n"
     ]
    },
    {
     "name": "stderr",
     "output_type": "stream",
     "text": [
      "100%|██████████| 491/491 [02:18<00:00,  3.55it/s]\n"
     ]
    },
    {
     "name": "stdout",
     "output_type": "stream",
     "text": [
      "Epoch 81, Autoencoder Loss: 0.0011554991360753775, Discriminator Loss: 2.4662058422109112e-05, Discriminator Accuracy: 1.0\n",
      "Validation - Autoencoder Loss: 0.002676044823601842, Discriminator Loss: 0.0449555404484272, Discriminator Accuracy: 0.9917505979537964\n"
     ]
    },
    {
     "name": "stderr",
     "output_type": "stream",
     "text": [
      "100%|██████████| 491/491 [02:18<00:00,  3.56it/s]\n"
     ]
    },
    {
     "name": "stdout",
     "output_type": "stream",
     "text": [
      "Epoch 82, Autoencoder Loss: 0.0011627698550000787, Discriminator Loss: 0.003419051179662347, Discriminator Accuracy: 0.9999681711196899\n",
      "Validation - Autoencoder Loss: 0.0026452599558979273, Discriminator Loss: 0.047225553542375565, Discriminator Accuracy: 0.9908536672592163\n"
     ]
    },
    {
     "name": "stderr",
     "output_type": "stream",
     "text": [
      "100%|██████████| 491/491 [02:17<00:00,  3.57it/s]\n"
     ]
    },
    {
     "name": "stdout",
     "output_type": "stream",
     "text": [
      "Epoch 83, Autoencoder Loss: 0.0011312698479741812, Discriminator Loss: 0.000149157625855878, Discriminator Accuracy: 1.0\n",
      "Validation - Autoencoder Loss: 0.0026123682036995888, Discriminator Loss: 0.048406705260276794, Discriminator Accuracy: 0.9912347793579102\n"
     ]
    },
    {
     "name": "stderr",
     "output_type": "stream",
     "text": [
      "100%|██████████| 491/491 [02:17<00:00,  3.57it/s]\n"
     ]
    },
    {
     "name": "stdout",
     "output_type": "stream",
     "text": [
      "Epoch 84, Autoencoder Loss: 0.0011297437595203519, Discriminator Loss: 3.188248228980228e-05, Discriminator Accuracy: 1.0\n",
      "Validation - Autoencoder Loss: 0.002530579222366214, Discriminator Loss: 0.049233708530664444, Discriminator Accuracy: 0.9916158318519592\n"
     ]
    },
    {
     "name": "stderr",
     "output_type": "stream",
     "text": [
      "100%|██████████| 491/491 [02:21<00:00,  3.46it/s]\n"
     ]
    },
    {
     "name": "stdout",
     "output_type": "stream",
     "text": [
      "Epoch 85, Autoencoder Loss: 0.0011342567158862948, Discriminator Loss: 1.4083101632422768e-05, Discriminator Accuracy: 1.0\n",
      "Validation - Autoencoder Loss: 0.0026096561923623085, Discriminator Loss: 0.0488971546292305, Discriminator Accuracy: 0.9912347793579102\n"
     ]
    },
    {
     "name": "stderr",
     "output_type": "stream",
     "text": [
      "100%|██████████| 491/491 [02:17<00:00,  3.56it/s]\n"
     ]
    },
    {
     "name": "stdout",
     "output_type": "stream",
     "text": [
      "Epoch 86, Autoencoder Loss: 0.001125054550357163, Discriminator Loss: 6.7833893808710855e-06, Discriminator Accuracy: 1.0\n",
      "Validation - Autoencoder Loss: 0.0027115102857351303, Discriminator Loss: 0.051916882395744324, Discriminator Accuracy: 0.9913617968559265\n"
     ]
    },
    {
     "name": "stderr",
     "output_type": "stream",
     "text": [
      "100%|██████████| 491/491 [02:16<00:00,  3.59it/s]\n"
     ]
    },
    {
     "name": "stdout",
     "output_type": "stream",
     "text": [
      "Epoch 87, Autoencoder Loss: 0.0011249916860833764, Discriminator Loss: 5.47328681932413e-06, Discriminator Accuracy: 1.0\n",
      "Validation - Autoencoder Loss: 0.002727900631725788, Discriminator Loss: 0.05571144074201584, Discriminator Accuracy: 0.9903455376625061\n"
     ]
    },
    {
     "name": "stderr",
     "output_type": "stream",
     "text": [
      "100%|██████████| 491/491 [02:18<00:00,  3.56it/s]\n"
     ]
    },
    {
     "name": "stdout",
     "output_type": "stream",
     "text": [
      "Epoch 88, Autoencoder Loss: 0.0011051986366510391, Discriminator Loss: 3.4774593586917035e-06, Discriminator Accuracy: 1.0\n",
      "Validation - Autoencoder Loss: 0.002532636048272252, Discriminator Loss: 0.0551319345831871, Discriminator Accuracy: 0.9921239614486694\n"
     ]
    },
    {
     "name": "stderr",
     "output_type": "stream",
     "text": [
      "100%|██████████| 491/491 [02:16<00:00,  3.59it/s]\n"
     ]
    },
    {
     "name": "stdout",
     "output_type": "stream",
     "text": [
      "Epoch 89, Autoencoder Loss: 0.0011158426059409976, Discriminator Loss: 0.004503792151808739, Discriminator Accuracy: 0.9998726844787598\n",
      "Validation - Autoencoder Loss: 0.002679566154256463, Discriminator Loss: 0.055061448365449905, Discriminator Accuracy: 0.9884400367736816\n"
     ]
    },
    {
     "name": "stderr",
     "output_type": "stream",
     "text": [
      "100%|██████████| 491/491 [02:13<00:00,  3.67it/s]\n"
     ]
    },
    {
     "name": "stdout",
     "output_type": "stream",
     "text": [
      "Epoch 90, Autoencoder Loss: 0.0010992885800078511, Discriminator Loss: 0.0006740181124769151, Discriminator Accuracy: 1.0\n",
      "Validation - Autoencoder Loss: 0.0026352452114224434, Discriminator Loss: 0.04013868793845177, Discriminator Accuracy: 0.9921239614486694\n"
     ]
    },
    {
     "name": "stderr",
     "output_type": "stream",
     "text": [
      "100%|██████████| 491/491 [02:15<00:00,  3.62it/s]\n"
     ]
    },
    {
     "name": "stdout",
     "output_type": "stream",
     "text": [
      "Epoch 91, Autoencoder Loss: 0.0010967995040118694, Discriminator Loss: 1.5674304449930787e-05, Discriminator Accuracy: 1.0\n",
      "Validation - Autoencoder Loss: 0.0025500142946839333, Discriminator Loss: 0.04396679624915123, Discriminator Accuracy: 0.9922510385513306\n"
     ]
    },
    {
     "name": "stderr",
     "output_type": "stream",
     "text": [
      "100%|██████████| 491/491 [02:13<00:00,  3.67it/s]\n"
     ]
    },
    {
     "name": "stdout",
     "output_type": "stream",
     "text": [
      "Epoch 92, Autoencoder Loss: 0.0010920347413048148, Discriminator Loss: 8.159952813002747e-06, Discriminator Accuracy: 1.0\n",
      "Validation - Autoencoder Loss: 0.002654619049280882, Discriminator Loss: 0.04720085859298706, Discriminator Accuracy: 0.9921239614486694\n"
     ]
    },
    {
     "name": "stderr",
     "output_type": "stream",
     "text": [
      "100%|██████████| 491/491 [02:14<00:00,  3.66it/s]\n"
     ]
    },
    {
     "name": "stdout",
     "output_type": "stream",
     "text": [
      "Epoch 93, Autoencoder Loss: 0.001093488303013146, Discriminator Loss: 0.0005171937518753111, Discriminator Accuracy: 0.9999681711196899\n",
      "Validation - Autoencoder Loss: 0.0026613858062773943, Discriminator Loss: 0.042579054832458496, Discriminator Accuracy: 0.9923780560493469\n"
     ]
    },
    {
     "name": "stderr",
     "output_type": "stream",
     "text": [
      "100%|██████████| 491/491 [02:15<00:00,  3.63it/s]\n"
     ]
    },
    {
     "name": "stdout",
     "output_type": "stream",
     "text": [
      "Epoch 94, Autoencoder Loss: 0.0010776593117043376, Discriminator Loss: 2.0208084606565535e-05, Discriminator Accuracy: 1.0\n",
      "Validation - Autoencoder Loss: 0.002563105896115303, Discriminator Loss: 0.04404255375266075, Discriminator Accuracy: 0.9926320910453796\n"
     ]
    },
    {
     "name": "stderr",
     "output_type": "stream",
     "text": [
      "100%|██████████| 491/491 [02:15<00:00,  3.62it/s]\n"
     ]
    },
    {
     "name": "stdout",
     "output_type": "stream",
     "text": [
      "Epoch 95, Autoencoder Loss: 0.0010838069720193744, Discriminator Loss: 0.00012228736886754632, Discriminator Accuracy: 1.0\n",
      "Validation - Autoencoder Loss: 0.002626139670610428, Discriminator Loss: 0.043918900191783905, Discriminator Accuracy: 0.9913617968559265\n"
     ]
    },
    {
     "name": "stderr",
     "output_type": "stream",
     "text": [
      "100%|██████████| 491/491 [02:15<00:00,  3.62it/s]\n"
     ]
    },
    {
     "name": "stdout",
     "output_type": "stream",
     "text": [
      "Epoch 96, Autoencoder Loss: 0.0010661105625331402, Discriminator Loss: 1.3955437680124305e-05, Discriminator Accuracy: 1.0\n",
      "Validation - Autoencoder Loss: 0.0028861917089670897, Discriminator Loss: 0.04779665544629097, Discriminator Accuracy: 0.9909883737564087\n"
     ]
    },
    {
     "name": "stderr",
     "output_type": "stream",
     "text": [
      "100%|██████████| 491/491 [02:14<00:00,  3.64it/s]\n"
     ]
    },
    {
     "name": "stdout",
     "output_type": "stream",
     "text": [
      "Epoch 97, Autoencoder Loss: 0.0010766745544970036, Discriminator Loss: 5.581629920925479e-06, Discriminator Accuracy: 1.0\n",
      "Validation - Autoencoder Loss: 0.002909499453380704, Discriminator Loss: 0.05265415459871292, Discriminator Accuracy: 0.9908536672592163\n"
     ]
    },
    {
     "name": "stderr",
     "output_type": "stream",
     "text": [
      "100%|██████████| 491/491 [02:15<00:00,  3.63it/s]\n"
     ]
    },
    {
     "name": "stdout",
     "output_type": "stream",
     "text": [
      "Epoch 98, Autoencoder Loss: 0.0010609255405142903, Discriminator Loss: 3.5705761547433212e-06, Discriminator Accuracy: 1.0\n",
      "Validation - Autoencoder Loss: 0.0026981106493622065, Discriminator Loss: 0.05162133648991585, Discriminator Accuracy: 0.9916235208511353\n"
     ]
    },
    {
     "name": "stderr",
     "output_type": "stream",
     "text": [
      "100%|██████████| 491/491 [02:14<00:00,  3.66it/s]\n"
     ]
    },
    {
     "name": "stdout",
     "output_type": "stream",
     "text": [
      "Epoch 99, Autoencoder Loss: 0.0010711096692830324, Discriminator Loss: 1.4930319593986496e-06, Discriminator Accuracy: 1.0\n",
      "Validation - Autoencoder Loss: 0.0027308547869324684, Discriminator Loss: 0.0534207709133625, Discriminator Accuracy: 0.9918699264526367\n"
     ]
    }
   ],
   "source": [
    "autoencoder_losses_epoch = []\n",
    "discriminator_losses_epoch = []\n",
    "discriminator_acc_epoch = []\n",
    "val_autoencoder_losses_epoch = []\n",
    "val_discriminator_losses_epoch = []\n",
    "val_discriminator_acc_epoch = []\n",
    "\n",
    "for epoch in range(100):\n",
    "    # Initialize epoch-wise metrics\n",
    "    epoch_autoencoder_losses = []\n",
    "    epoch_discriminator_losses = []\n",
    "    epoch_discriminator_acc = []\n",
    "    epoch_val_autoencoder_losses = []\n",
    "    epoch_val_discriminator_losses = []\n",
    "    epoch_val_discriminator_acc = []\n",
    "\n",
    "    # Training loop\n",
    "    for idx, (batch_real, batch_label) in enumerate(tqdm(train_dataset)):\n",
    "        # Training steps\n",
    "        with tf.GradientTape() as autoencoder_tape, tf.GradientTape() as disc_tape:\n",
    "            latent_representation = encoder(batch_real)\n",
    "            generated_image = decoder(latent_representation)\n",
    "            loss_autoencoder = loss_fn_auto(batch_real, generated_image)\n",
    "            \n",
    "            fake = generated_image\n",
    "            loss_disc_real = loss_fn_disc(batch_label, discriminator(batch_real))\n",
    "            loss_disc_fake = loss_fn_disc(batch_label, discriminator(fake))\n",
    "            loss_disc = (loss_disc_real + loss_disc_fake) / 2\n",
    "\n",
    "        grads_autoencoder = autoencoder_tape.gradient(loss_autoencoder, autoencoder.trainable_weights)\n",
    "        opt_autoencoder.apply_gradients(zip(grads_autoencoder, autoencoder.trainable_weights))\n",
    "\n",
    "        grads_discriminator = disc_tape.gradient(loss_disc, discriminator.trainable_weights)\n",
    "        opt_disc.apply_gradients(zip(grads_discriminator, discriminator.trainable_weights))\n",
    "\n",
    "        # Store batch-wise metrics\n",
    "        epoch_autoencoder_losses.append(loss_autoencoder.numpy())\n",
    "        epoch_discriminator_losses.append(loss_disc.numpy())\n",
    "        epoch_discriminator_acc.append(tf.reduce_mean(tf.keras.metrics.categorical_accuracy(batch_label, discriminator(fake))).numpy())\n",
    "        if idx % 200 == 0:\n",
    "            img = tf.keras.preprocessing.image.array_to_img(fake[0])\n",
    "            img.save(f\"{save_dir}/generated_img_epoch_{epoch}_batch_{idx}.png\")\n",
    "\n",
    "    # Validation loop\n",
    "    for val_batch_real, val_batch_label in val_dataset:\n",
    "        val_latent_representation = encoder(val_batch_real)\n",
    "        val_generated_image = decoder(val_latent_representation)\n",
    "        val_loss_autoencoder = loss_fn_auto(val_batch_real, val_generated_image)\n",
    "        val_loss_disc_real = loss_fn_disc(val_batch_label, discriminator(val_batch_real))\n",
    "        val_loss_disc_fake = loss_fn_disc(val_batch_label, discriminator(val_generated_image))\n",
    "        val_loss_disc = (val_loss_disc_real + val_loss_disc_fake) / 2\n",
    "\n",
    "        # Calculate accuracy\n",
    "        val_discriminator_accuracy = tf.reduce_mean(tf.keras.metrics.categorical_accuracy(val_batch_label, discriminator(val_generated_image)))\n",
    "\n",
    "        # Store validation metrics\n",
    "        epoch_val_autoencoder_losses.append(val_loss_autoencoder.numpy())\n",
    "        epoch_val_discriminator_losses.append(val_loss_disc.numpy())\n",
    "        epoch_val_discriminator_acc.append(val_discriminator_accuracy.numpy())\n",
    "\n",
    "    # Calculate epoch-wise averages and append to the lists\n",
    "    avg_autoencoder_loss = np.mean(epoch_autoencoder_losses)\n",
    "    avg_discriminator_loss = np.mean(epoch_discriminator_losses)\n",
    "    avg_discriminator_acc = np.mean(epoch_discriminator_acc)\n",
    "    avg_val_autoencoder_loss = np.mean(epoch_val_autoencoder_losses)\n",
    "    avg_val_discriminator_loss = np.mean(epoch_val_discriminator_losses)\n",
    "    avg_val_discriminator_acc = np.mean(epoch_val_discriminator_acc)\n",
    "\n",
    "    autoencoder_losses_epoch.append(avg_autoencoder_loss)\n",
    "    discriminator_losses_epoch.append(avg_discriminator_loss)\n",
    "    discriminator_acc_epoch.append(avg_discriminator_acc)\n",
    "    val_autoencoder_losses_epoch.append(avg_val_autoencoder_loss)\n",
    "    val_discriminator_losses_epoch.append(avg_val_discriminator_loss)\n",
    "    val_discriminator_acc_epoch.append(avg_val_discriminator_acc)\n",
    "\n",
    "    # Print epoch-wise metrics\n",
    "    print(f\"Epoch {epoch}, Autoencoder Loss: {avg_autoencoder_loss}, Discriminator Loss: {avg_discriminator_loss}, Discriminator Accuracy: {avg_discriminator_acc}\")\n",
    "    print(f\"Validation - Autoencoder Loss: {avg_val_autoencoder_loss}, Discriminator Loss: {avg_val_discriminator_loss}, Discriminator Accuracy: {avg_val_discriminator_acc}\")\n"
   ]
  },
  {
   "cell_type": "code",
   "execution_count": 10,
   "id": "625df789",
   "metadata": {
    "execution": {
     "iopub.execute_input": "2024-05-20T23:52:02.087172Z",
     "iopub.status.busy": "2024-05-20T23:52:02.086797Z",
     "iopub.status.idle": "2024-05-20T23:52:03.447330Z",
     "shell.execute_reply": "2024-05-20T23:52:03.446336Z"
    },
    "papermill": {
     "duration": 5.354716,
     "end_time": "2024-05-20T23:52:03.449716",
     "exception": false,
     "start_time": "2024-05-20T23:51:58.095000",
     "status": "completed"
    },
    "tags": []
   },
   "outputs": [
    {
     "data": {
      "image/png": "[encoded data removed]",
      "text/plain": [
       "<Figure size 1200x600 with 1 Axes>"
      ]
     },
     "metadata": {},
     "output_type": "display_data"
    },
    {
     "data": {
      "image/png": "[encoded data removed]",
      "text/plain": [
       "<Figure size 1200x600 with 1 Axes>"
      ]
     },
     "metadata": {},
     "output_type": "display_data"
    },
    {
     "data": {
      "image/png": "[encoded data removed]",
      "text/plain": [
       "<Figure size 1200x600 with 1 Axes>"
      ]
     },
     "metadata": {},
     "output_type": "display_data"
    }
   ],
   "source": [
    "import matplotlib.pyplot as plt\n",
    "\n",
    "# Plot autoencoder losses\n",
    "plt.figure(figsize=(12, 6))\n",
    "plt.plot(autoencoder_losses_epoch, label='Training Autoencoder Loss')\n",
    "plt.plot(val_autoencoder_losses_epoch, label='Validation Autoencoder Loss')\n",
    "plt.xlabel('Epoch')\n",
    "plt.ylabel('Loss')\n",
    "plt.title('Training and Validation Autoencoder Losses')\n",
    "plt.legend()\n",
    "plt.savefig('autoencoder_losses.png')  # Save the plot as an image\n",
    "plt.show()\n",
    "\n",
    "# Plot discriminator losses\n",
    "plt.figure(figsize=(12, 6))\n",
    "plt.plot(discriminator_losses_epoch, label='Training Discriminator Loss')\n",
    "plt.plot(val_discriminator_losses_epoch, label='Validation Discriminator Loss')\n",
    "plt.xlabel('Epoch')\n",
    "plt.ylabel('Loss')\n",
    "plt.title('Training and Validation Discriminator Losses')\n",
    "plt.legend()\n",
    "plt.savefig('discriminator_losses.png')  # Save the plot as an image\n",
    "plt.show()\n",
    "\n",
    "# Plot discriminator accuracy\n",
    "plt.figure(figsize=(12, 6))\n",
    "plt.plot(discriminator_acc_epoch, label='Training Discriminator Accuracy')\n",
    "plt.plot(val_discriminator_acc_epoch, label='Validation Discriminator Accuracy')\n",
    "plt.xlabel('Epoch')\n",
    "plt.ylabel('Accuracy')\n",
    "plt.title('Training and Validation Discriminator Accuracy')\n",
    "plt.legend()\n",
    "plt.savefig('discriminator_accuracy.png')  # Save the plot as an image\n",
    "plt.show()\n"
   ]
  },
  {
   "cell_type": "code",
   "execution_count": 11,
   "id": "e8169799",
   "metadata": {
    "execution": {
     "iopub.execute_input": "2024-05-20T23:52:11.448193Z",
     "iopub.status.busy": "2024-05-20T23:52:11.447383Z",
     "iopub.status.idle": "2024-05-20T23:52:13.622110Z",
     "shell.execute_reply": "2024-05-20T23:52:13.621274Z"
    },
    "papermill": {
     "duration": 6.172609,
     "end_time": "2024-05-20T23:52:13.624387",
     "exception": false,
     "start_time": "2024-05-20T23:52:07.451778",
     "status": "completed"
    },
    "tags": []
   },
   "outputs": [
    {
     "data": {
      "image/png": "[encoded data removed]",
      "text/plain": [
       "<Figure size 600x400 with 1 Axes>"
      ]
     },
     "metadata": {},
     "output_type": "display_data"
    },
    {
     "data": {
      "image/png": "[encoded data removed]",
      "text/plain": [
       "<Figure size 600x400 with 1 Axes>"
      ]
     },
     "metadata": {},
     "output_type": "display_data"
    },
    {
     "data": {
      "image/png": "[encoded data removed]",
      "text/plain": [
       "<Figure size 600x400 with 1 Axes>"
      ]
     },
     "metadata": {},
     "output_type": "display_data"
    }
   ],
   "source": [
    "import matplotlib.pyplot as plt\n",
    "\n",
    "# Set the font properties\n",
    "plt.rcParams['font.family'] = 'Calibri'\n",
    "plt.rcParams['font.size'] = 11  # Set font size to 11\n",
    "\n",
    "# Plot autoencoder losses\n",
    "plt.figure(figsize=(6, 4))  # Adjust figure size as needed\n",
    "plt.plot(autoencoder_losses_epoch, label='Training Autoencoder Loss', linewidth=2)\n",
    "plt.plot(val_autoencoder_losses_epoch, label='Validation Autoencoder Loss', linewidth=2)\n",
    "plt.xlabel('Epoch')\n",
    "plt.ylabel('Loss')\n",
    "plt.title('Training and Validation Autoencoder Losses')\n",
    "plt.legend()\n",
    "plt.tight_layout()  # Adjust layout for better fit\n",
    "plt.savefig('autoencoder_losses11.png', dpi=300)  # Save the plot as a high-resolution PNG\n",
    "plt.show()\n",
    "# Plot discriminator losses\n",
    "plt.figure(figsize=(6, 4))  # Adjust figure size as needed\n",
    "plt.plot(discriminator_losses_epoch, label='Training Discriminator Loss', linewidth=2)\n",
    "plt.plot(val_discriminator_losses_epoch, label='Validation Discriminator Loss', linewidth=2)\n",
    "plt.xlabel('Epoch')\n",
    "plt.ylabel('Loss')\n",
    "plt.title('Training and Validation Discriminator Losses')\n",
    "plt.legend()\n",
    "plt.tight_layout()  # Adjust layout for better fit\n",
    "plt.savefig('discriminator_losses11.png', dpi=300)  # Save the plot as a high-resolution PNG\n",
    "plt.show()\n",
    "# Plot discriminator accuracy\n",
    "plt.figure(figsize=(6, 4))  # Adjust figure size as needed\n",
    "plt.plot(discriminator_acc_epoch, label='Training Discriminator Accuracy', linewidth=2)\n",
    "plt.plot(val_discriminator_acc_epoch, label='Validation Discriminator Accuracy', linewidth=2)\n",
    "plt.xlabel('Epoch')\n",
    "plt.ylabel('Accuracy')\n",
    "plt.title('Training and Validation Discriminator Accuracy')\n",
    "plt.legend()\n",
    "plt.tight_layout()  # Adjust layout for better fit\n",
    "plt.savefig('discriminator_accuracy11.png', dpi=300)  # Save the plot as a high-resolution PNG\n",
    "plt.show()"
   ]
  },
  {
   "cell_type": "code",
   "execution_count": 12,
   "id": "d5a452de",
   "metadata": {
    "execution": {
     "iopub.execute_input": "2024-05-20T23:52:21.611490Z",
     "iopub.status.busy": "2024-05-20T23:52:21.611145Z",
     "iopub.status.idle": "2024-05-20T23:52:37.299434Z",
     "shell.execute_reply": "2024-05-20T23:52:37.298448Z"
    },
    "papermill": {
     "duration": 19.681549,
     "end_time": "2024-05-20T23:52:37.301386",
     "exception": false,
     "start_time": "2024-05-20T23:52:17.619837",
     "status": "completed"
    },
    "tags": []
   },
   "outputs": [
    {
     "name": "stdout",
     "output_type": "stream",
     "text": [
      "\u001b[1m 13/491\u001b[0m \u001b[37m━━━━━━━━━━━━━━━━━━━━\u001b[0m \u001b[1m6s\u001b[0m 14ms/step - accuracy: 1.0000 - loss: 1.1377e-07"
     ]
    },
    {
     "name": "stderr",
     "output_type": "stream",
     "text": [
      "WARNING: All log messages before absl::InitializeLog() is called are written to STDERR\n",
      "I0000 00:00:1716249145.829608      76 device_compiler.h:186] Compiled cluster using XLA!  This line is logged at most once for the lifetime of the process.\n"
     ]
    },
    {
     "name": "stdout",
     "output_type": "stream",
     "text": [
      "\u001b[1m491/491\u001b[0m \u001b[32m━━━━━━━━━━━━━━━━━━━━\u001b[0m\u001b[37m\u001b[0m \u001b[1m16s\u001b[0m 23ms/step - accuracy: 1.0000 - loss: 8.3822e-05\n",
      "Train Result: [0.020571250468492508, 0.9998725056648254]\n"
     ]
    }
   ],
   "source": [
    "# Evaluate the discriminator on the train data\n",
    "result = discriminator.evaluate(train_dataset)\n",
    "\n",
    "# Print the result\n",
    "print(f'Train Result: {result}')\n"
   ]
  },
  {
   "cell_type": "code",
   "execution_count": 13,
   "id": "991842f8",
   "metadata": {
    "execution": {
     "iopub.execute_input": "2024-05-20T23:52:45.537564Z",
     "iopub.status.busy": "2024-05-20T23:52:45.537208Z",
     "iopub.status.idle": "2024-05-20T23:54:21.983886Z",
     "shell.execute_reply": "2024-05-20T23:54:21.983080Z"
    },
    "papermill": {
     "duration": 100.633863,
     "end_time": "2024-05-20T23:54:21.986325",
     "exception": false,
     "start_time": "2024-05-20T23:52:41.352462",
     "status": "completed"
    },
    "tags": []
   },
   "outputs": [
    {
     "name": "stdout",
     "output_type": "stream",
     "text": [
      "Found 12630 validated image filenames belonging to 43 classes.\n"
     ]
    }
   ],
   "source": [
    "from tensorflow.keras.preprocessing.image import ImageDataGenerator\n",
    "\n",
    "# Convert numerical class labels to strings\n",
    "# Define the path to the test images\n",
    "import pandas as pd\n",
    "df = pd.read_csv('/kaggle/input/gtsrb-german-traffic-sign/Test.csv')\n",
    "test_dir = '/kaggle/input/gtsrb-german-traffic-sign/'\n",
    "\n",
    "df['ClassId'] = df['ClassId'].astype(str)\n",
    "\n",
    "# Define image data generator with preprocessing steps for test data\n",
    "test_datagen = ImageDataGenerator(rescale=1./255)\n",
    "\n",
    "# Flow from dataframe to preprocess test images\n",
    "test_generator = test_datagen.flow_from_dataframe(\n",
    "    df,\n",
    "    directory=test_dir,\n",
    "    x_col='Path',\n",
    "    y_col='ClassId',\n",
    "    target_size=(64,64),\n",
    "    batch_size=len(df),\n",
    "    class_mode='categorical',  # 'categorical' returns one-hot encoded labels\n",
    "    shuffle=False  # Do not shuffle for evaluation\n",
    ")\n",
    "\n",
    "# Get preprocessed test images and labels\n",
    "X_test, y_test = next(test_generator)\n"
   ]
  },
  {
   "cell_type": "code",
   "execution_count": 14,
   "id": "4bfbe2db",
   "metadata": {
    "execution": {
     "iopub.execute_input": "2024-05-20T23:54:30.129545Z",
     "iopub.status.busy": "2024-05-20T23:54:30.129187Z",
     "iopub.status.idle": "2024-05-20T23:54:30.133211Z",
     "shell.execute_reply": "2024-05-20T23:54:30.132268Z"
    },
    "papermill": {
     "duration": 4.071204,
     "end_time": "2024-05-20T23:54:30.135027",
     "exception": false,
     "start_time": "2024-05-20T23:54:26.063823",
     "status": "completed"
    },
    "tags": []
   },
   "outputs": [],
   "source": [
    "#130 epoch 93 percent"
   ]
  },
  {
   "cell_type": "code",
   "execution_count": 15,
   "id": "add668b1",
   "metadata": {
    "execution": {
     "iopub.execute_input": "2024-05-20T23:54:38.403989Z",
     "iopub.status.busy": "2024-05-20T23:54:38.403515Z",
     "iopub.status.idle": "2024-05-20T23:54:46.004990Z",
     "shell.execute_reply": "2024-05-20T23:54:46.003977Z"
    },
    "papermill": {
     "duration": 11.734353,
     "end_time": "2024-05-20T23:54:46.006934",
     "exception": false,
     "start_time": "2024-05-20T23:54:34.272581",
     "status": "completed"
    },
    "tags": []
   },
   "outputs": [
    {
     "name": "stdout",
     "output_type": "stream",
     "text": [
      "\u001b[1m395/395\u001b[0m \u001b[32m━━━━━━━━━━━━━━━━━━━━\u001b[0m\u001b[37m\u001b[0m \u001b[1m6s\u001b[0m 10ms/step - accuracy: 0.9575 - loss: 0.3301\n",
      "Test Result: [0.4421135187149048, 0.9565320611000061]\n"
     ]
    }
   ],
   "source": [
    "# Evaluate the discriminator on the test data   ##100 epoch\n",
    "result = discriminator.evaluate(X_test, y_test)\n",
    "\n",
    "# Print the result\n",
    "print(f'Test Result: {result}')\n"
   ]
  },
  {
   "cell_type": "code",
   "execution_count": 16,
   "id": "72f7bd1d",
   "metadata": {
    "execution": {
     "iopub.execute_input": "2024-05-20T23:54:54.126509Z",
     "iopub.status.busy": "2024-05-20T23:54:54.126144Z",
     "iopub.status.idle": "2024-05-20T23:54:57.947454Z",
     "shell.execute_reply": "2024-05-20T23:54:57.946552Z"
    },
    "papermill": {
     "duration": 7.878296,
     "end_time": "2024-05-20T23:54:57.949420",
     "exception": false,
     "start_time": "2024-05-20T23:54:50.071124",
     "status": "completed"
    },
    "tags": []
   },
   "outputs": [
    {
     "name": "stdout",
     "output_type": "stream",
     "text": [
      "\u001b[1m395/395\u001b[0m \u001b[32m━━━━━━━━━━━━━━━━━━━━\u001b[0m\u001b[37m\u001b[0m \u001b[1m2s\u001b[0m 6ms/step - accuracy: 0.9575 - loss: 0.3301\n",
      "Test Result: [0.4421135187149048, 0.9565320611000061]\n"
     ]
    }
   ],
   "source": [
    "# Evaluate the discriminator on the test data   #125 epoch\n",
    "result = discriminator.evaluate(X_test, y_test)\n",
    "\n",
    "# Print the result\n",
    "print(f'Test Result: {result}')\n"
   ]
  },
  {
   "cell_type": "code",
   "execution_count": 17,
   "id": "82090cb5",
   "metadata": {
    "collapsed": true,
    "execution": {
     "iopub.execute_input": "2024-05-20T23:55:06.341158Z",
     "iopub.status.busy": "2024-05-20T23:55:06.340469Z",
     "iopub.status.idle": "2024-05-20T23:55:10.107925Z",
     "shell.execute_reply": "2024-05-20T23:55:10.107006Z"
    },
    "jupyter": {
     "outputs_hidden": true
    },
    "papermill": {
     "duration": 7.980544,
     "end_time": "2024-05-20T23:55:10.109812",
     "exception": false,
     "start_time": "2024-05-20T23:55:02.129268",
     "status": "completed"
    },
    "tags": []
   },
   "outputs": [
    {
     "name": "stdout",
     "output_type": "stream",
     "text": [
      "\u001b[1m395/395\u001b[0m \u001b[32m━━━━━━━━━━━━━━━━━━━━\u001b[0m\u001b[37m\u001b[0m \u001b[1m2s\u001b[0m 6ms/step - accuracy: 0.9575 - loss: 0.3301\n",
      "Test Result: [0.4421135187149048, 0.9565320611000061]\n"
     ]
    }
   ],
   "source": [
    "# Evaluate the discriminator on the test data  ##145 epoch\n",
    "result = discriminator.evaluate(X_test, y_test)\n",
    "\n",
    "# Print the result\n",
    "print(f'Test Result: {result}')\n"
   ]
  },
  {
   "cell_type": "code",
   "execution_count": 18,
   "id": "af022b64",
   "metadata": {
    "execution": {
     "iopub.execute_input": "2024-05-20T23:55:18.216726Z",
     "iopub.status.busy": "2024-05-20T23:55:18.216109Z",
     "iopub.status.idle": "2024-05-20T23:55:18.318333Z",
     "shell.execute_reply": "2024-05-20T23:55:18.317403Z"
    },
    "papermill": {
     "duration": 4.15152,
     "end_time": "2024-05-20T23:55:18.320307",
     "exception": false,
     "start_time": "2024-05-20T23:55:14.168787",
     "status": "completed"
    },
    "tags": []
   },
   "outputs": [
    {
     "data": {
      "text/plain": [
       "'/kaggle/working/without_aug2.zip'"
      ]
     },
     "execution_count": 18,
     "metadata": {},
     "output_type": "execute_result"
    }
   ],
   "source": [
    "import shutil\n",
    "import os\n",
    "\n",
    "# Specify the folder path\n",
    "folder_path = '/kaggle/working/empty_folderf3'\n",
    "\n",
    "# Create a zip file\n",
    "shutil.make_archive(folder_path, 'zip', folder_path)\n",
    "\n",
    "# Move the zip file to the output directory\n",
    "output_path = '/kaggle/working/without_aug2.zip'\n",
    "shutil.move(folder_path + '.zip', output_path)\n",
    "\n",
    "# Display the download link\n",
    "output_path\n",
    "   "
   ]
  },
  {
   "cell_type": "code",
   "execution_count": 19,
   "id": "6f45ff0f",
   "metadata": {
    "execution": {
     "iopub.execute_input": "2024-05-20T23:55:26.559220Z",
     "iopub.status.busy": "2024-05-20T23:55:26.558602Z",
     "iopub.status.idle": "2024-05-20T23:55:26.799612Z",
     "shell.execute_reply": "2024-05-20T23:55:26.798655Z"
    },
    "papermill": {
     "duration": 4.30288,
     "end_time": "2024-05-20T23:55:26.802021",
     "exception": false,
     "start_time": "2024-05-20T23:55:22.499141",
     "status": "completed"
    },
    "tags": []
   },
   "outputs": [],
   "source": [
    "discriminator.save('d_aug_valf.h5')"
   ]
  },
  {
   "cell_type": "code",
   "execution_count": 20,
   "id": "e4f9b0db",
   "metadata": {
    "execution": {
     "iopub.execute_input": "2024-05-20T23:55:35.012118Z",
     "iopub.status.busy": "2024-05-20T23:55:35.011720Z",
     "iopub.status.idle": "2024-05-20T23:55:39.247130Z",
     "shell.execute_reply": "2024-05-20T23:55:39.246031Z"
    },
    "papermill": {
     "duration": 8.37007,
     "end_time": "2024-05-20T23:55:39.249339",
     "exception": false,
     "start_time": "2024-05-20T23:55:30.879269",
     "status": "completed"
    },
    "tags": []
   },
   "outputs": [
    {
     "name": "stdout",
     "output_type": "stream",
     "text": [
      "\u001b[1m395/395\u001b[0m \u001b[32m━━━━━━━━━━━━━━━━━━━━\u001b[0m\u001b[37m\u001b[0m \u001b[1m3s\u001b[0m 5ms/step\n",
      "Precision: [0.97916667 0.91968912 0.98795181 0.95704057 0.96438746 0.98491084\n",
      " 1.         0.96759259 0.99333333 1.         0.98255814 0.70588235\n",
      " 0.97994652 0.77586207 0.95238095 0.97435897 0.89285714 0.89361702\n",
      " 0.96390658 0.90425532 0.62       0.91082803 0.94623656 0.91631799\n",
      " 0.91071429 0.95357143 0.95238095 0.98584906 1.         0.98727735\n",
      " 0.99145299 1.         0.99278499 0.94565217 0.96101949 0.95698925\n",
      " 1.         0.81818182 0.94753577 1.         0.96601942 0.9287257\n",
      " 0.9498998 ]\n",
      "Recall: [0.78333333 0.98611111 0.99393939 0.9547619  0.98115942 0.99722222\n",
      " 1.         0.9952381  0.99333333 0.99166667 0.86666667 1.\n",
      " 0.97733333 1.         0.66666667 0.95       0.83333333 0.93333333\n",
      " 0.94583333 0.94444444 0.51666667 0.95333333 0.97777778 0.97333333\n",
      " 0.68       0.98888889 1.         0.9952381  0.99166667 0.99487179\n",
      " 0.96666667 0.93333333 0.99710145 0.96666667 0.97121212 0.98888889\n",
      " 0.63333333 1.         0.94603175 0.74       0.88444444 0.95555556\n",
      " 0.9875    ]\n",
      "F1 Score: [0.87037037 0.95174263 0.99093656 0.95589988 0.97270115 0.9910283\n",
      " 1.         0.98122066 0.99333333 0.9958159  0.92098093 0.82758621\n",
      " 0.97863818 0.87378641 0.78431373 0.96202532 0.86206897 0.91304348\n",
      " 0.95478444 0.92391304 0.56363636 0.93159609 0.96174863 0.94396552\n",
      " 0.77862595 0.97090909 0.97560976 0.99052133 0.9958159  0.99106003\n",
      " 0.97890295 0.96551724 0.99493854 0.95604396 0.96608892 0.9726776\n",
      " 0.7755102  0.9        0.94678316 0.85057471 0.92343387 0.94194962\n",
      " 0.96833504]\n",
      "Support: [ 60 720 660 420 690 720 270 210 150 360 390  60 750  90  90 120 150  90\n",
      " 480 180  60 150  90 450 150 270  60 210 120 390 120  60 690  90 660  90\n",
      "  60  90 630 150 450 450 480]\n",
      "Average Precision: 0.9400263843580731\n",
      "Average Recall: 0.9264392407951558\n",
      "Average F1 Score: 0.9290333473068401\n"
     ]
    }
   ],
   "source": [
    "from sklearn.metrics import precision_recall_fscore_support\n",
    "\n",
    "# Assuming you have test data predictions stored in y_pred and true labels in y_true\n",
    "y_pred = discriminator.predict(X_test)\n",
    "y_true = np.argmax(y_test, axis=1)  # Convert one-hot encoded labels to class labels\n",
    "\n",
    "# Convert predicted probabilities to class labels\n",
    "y_pred_labels = np.argmax(y_pred, axis=1)\n",
    "\n",
    "# Calculate precision, recall, f1-score, and support for each class\n",
    "precision, recall, f1_score, support = precision_recall_fscore_support(y_true, y_pred_labels)\n",
    "\n",
    "# Average precision, recall, f1-score across all classes\n",
    "avg_precision = np.mean(precision)\n",
    "avg_recall = np.mean(recall)\n",
    "avg_f1_score = np.mean(f1_score)\n",
    "\n",
    "# Print results\n",
    "print(\"Precision:\", precision)\n",
    "print(\"Recall:\", recall)\n",
    "print(\"F1 Score:\", f1_score)\n",
    "print(\"Support:\", support)\n",
    "print(\"Average Precision:\", avg_precision)\n",
    "print(\"Average Recall:\", avg_recall)\n",
    "print(\"Average F1 Score:\", avg_f1_score)\n"
   ]
  }
 ],
 "metadata": {
  "kaggle": {
   "accelerator": "gpu",
   "dataSources": [
    {
     "datasetId": 82373,
     "sourceId": 191501,
     "sourceType": "datasetVersion"
    },
    {
     "datasetId": 3820936,
     "sourceId": 6620552,
     "sourceType": "datasetVersion"
    }
   ],
   "dockerImageVersionId": 30699,
   "isGpuEnabled": true,
   "isInternetEnabled": true,
   "language": "python",
   "sourceType": "notebook"
  },
  "kernelspec": {
   "display_name": "Python 3",
   "language": "python",
   "name": "python3"
  },
  "language_info": {
   "codemirror_mode": {
    "name": "ipython",
    "version": 3
   },
   "file_extension": ".py",
   "mimetype": "text/x-python",
   "name": "python",
   "nbconvert_exporter": "python",
   "pygments_lexer": "ipython3",
   "version": "3.10.13"
  },
  "papermill": {
   "default_parameters": {},
   "duration": 15021.060441,
   "end_time": "2024-05-20T23:55:45.992336",
   "environment_variables": {},
   "exception": null,
   "input_path": "__notebook__.ipynb",
   "output_path": "__notebook__.ipynb",
   "parameters": {},
   "start_time": "2024-05-20T19:45:24.931895",
   "version": "2.5.0"
  }
 },
 "nbformat": 4,
 "nbformat_minor": 5
}
