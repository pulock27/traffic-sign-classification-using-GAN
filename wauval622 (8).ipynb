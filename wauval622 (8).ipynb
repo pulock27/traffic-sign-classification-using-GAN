{
 "cells": [
  {
   "cell_type": "code",
   "execution_count": 1,
   "id": "69cc070d",
   "metadata": {
    "execution": {
     "iopub.execute_input": "2024-05-16T04:12:47.585097Z",
     "iopub.status.busy": "2024-05-16T04:12:47.584741Z",
     "iopub.status.idle": "2024-05-16T04:13:00.702845Z",
     "shell.execute_reply": "2024-05-16T04:13:00.702060Z"
    },
    "papermill": {
     "duration": 13.128487,
     "end_time": "2024-05-16T04:13:00.705218",
     "exception": false,
     "start_time": "2024-05-16T04:12:47.576731",
     "status": "completed"
    },
    "tags": []
   },
   "outputs": [
    {
     "name": "stderr",
     "output_type": "stream",
     "text": [
      "2024-05-16 04:12:49.418977: E external/local_xla/xla/stream_executor/cuda/cuda_dnn.cc:9261] Unable to register cuDNN factory: Attempting to register factory for plugin cuDNN when one has already been registered\n",
      "2024-05-16 04:12:49.419115: E external/local_xla/xla/stream_executor/cuda/cuda_fft.cc:607] Unable to register cuFFT factory: Attempting to register factory for plugin cuFFT when one has already been registered\n",
      "2024-05-16 04:12:49.578711: E external/local_xla/xla/stream_executor/cuda/cuda_blas.cc:1515] Unable to register cuBLAS factory: Attempting to register factory for plugin cuBLAS when one has already been registered\n"
     ]
    }
   ],
   "source": [
    "import tensorflow as tf\n",
    "import os\n",
    "import numpy as np\n",
    "from pathlib import Path\n",
    "from tensorflow import keras\n",
    "from tensorflow.keras import layers\n",
    "from tqdm import tqdm"
   ]
  },
  {
   "cell_type": "code",
   "execution_count": 2,
   "id": "af0826d0",
   "metadata": {
    "execution": {
     "iopub.execute_input": "2024-05-16T04:13:00.719746Z",
     "iopub.status.busy": "2024-05-16T04:13:00.719158Z",
     "iopub.status.idle": "2024-05-16T04:13:00.724309Z",
     "shell.execute_reply": "2024-05-16T04:13:00.723516Z"
    },
    "papermill": {
     "duration": 0.014662,
     "end_time": "2024-05-16T04:13:00.726358",
     "exception": false,
     "start_time": "2024-05-16T04:13:00.711696",
     "status": "completed"
    },
    "tags": []
   },
   "outputs": [],
   "source": [
    "import os\n",
    "# Define the path for the empty folder\n",
    "folder_path = '/kaggle/working/empty_folderf3/'\n",
    "\n",
    "# Create the empty folder\n",
    "os.makedirs(folder_path, exist_ok=True)\n",
    "save_dir = ('/kaggle/working/empty_folderf3')\n"
   ]
  },
  {
   "cell_type": "code",
   "execution_count": 3,
   "id": "f415334f",
   "metadata": {
    "execution": {
     "iopub.execute_input": "2024-05-16T04:13:00.739936Z",
     "iopub.status.busy": "2024-05-16T04:13:00.739621Z",
     "iopub.status.idle": "2024-05-16T04:13:24.305359Z",
     "shell.execute_reply": "2024-05-16T04:13:24.304366Z"
    },
    "papermill": {
     "duration": 23.575242,
     "end_time": "2024-05-16T04:13:24.307735",
     "exception": false,
     "start_time": "2024-05-16T04:13:00.732493",
     "status": "completed"
    },
    "tags": []
   },
   "outputs": [
    {
     "name": "stdout",
     "output_type": "stream",
     "text": [
      "Found 39209 files belonging to 43 classes.\n",
      "Using 31368 files for training.\n",
      "Found 39209 files belonging to 43 classes.\n",
      "Using 7841 files for validation.\n"
     ]
    }
   ],
   "source": [
    "from sklearn.model_selection import train_test_split\n",
    "\n",
    "# Split dataset into training and validation sets\n",
    "train_dir = '/kaggle/input/gtsrb-train/Train'\n",
    "train_data, val_data = train_test_split(os.listdir(train_dir), test_size=0.2, random_state=42)\n",
    "\n",
    "# Create training and validation datasets\n",
    "train_dataset = keras.preprocessing.image_dataset_from_directory(\n",
    "    directory=train_dir, \n",
    "    labels='inferred',  # Use inferred labels from directory structure\n",
    "    label_mode='categorical', \n",
    "    image_size=(64, 64), \n",
    "    batch_size=64,\n",
    "    shuffle=True,\n",
    "    validation_split=0.2,  # Percentage of data to use for validation\n",
    "    subset=\"training\",\n",
    "    seed=42  # Specify seed for reproducibility\n",
    ").map(lambda x, y: (x/255.0, y))  # Normalize the pixel values to [0, 1]\n",
    "\n",
    "val_dataset = keras.preprocessing.image_dataset_from_directory(\n",
    "    directory=train_dir, \n",
    "    labels='inferred',  # Use inferred labels from directory structure\n",
    "    label_mode='categorical', \n",
    "    image_size=(64, 64), \n",
    "    batch_size=64,\n",
    "    shuffle=True,\n",
    "    validation_split=0.2,  # Percentage of data to use for validation\n",
    "    subset=\"validation\",\n",
    "    seed=42  # Specify seed for reproducibility\n",
    ").map(lambda x, y: (x/255.0, y))  # Normalize the pixel values to [0, 1])\n"
   ]
  },
  {
   "cell_type": "code",
   "execution_count": 4,
   "id": "7678af77",
   "metadata": {
    "execution": {
     "iopub.execute_input": "2024-05-16T04:13:24.322868Z",
     "iopub.status.busy": "2024-05-16T04:13:24.322488Z",
     "iopub.status.idle": "2024-05-16T04:13:24.326627Z",
     "shell.execute_reply": "2024-05-16T04:13:24.325734Z"
    },
    "papermill": {
     "duration": 0.01407,
     "end_time": "2024-05-16T04:13:24.328545",
     "exception": false,
     "start_time": "2024-05-16T04:13:24.314475",
     "status": "completed"
    },
    "tags": []
   },
   "outputs": [],
   "source": [
    "#nnnnnnneeeeewwwwwwwwww   mmmmooodeeel"
   ]
  },
  {
   "cell_type": "code",
   "execution_count": 5,
   "id": "6f95e01a",
   "metadata": {
    "execution": {
     "iopub.execute_input": "2024-05-16T04:13:24.343314Z",
     "iopub.status.busy": "2024-05-16T04:13:24.342610Z",
     "iopub.status.idle": "2024-05-16T04:13:24.482131Z",
     "shell.execute_reply": "2024-05-16T04:13:24.481312Z"
    },
    "papermill": {
     "duration": 0.149332,
     "end_time": "2024-05-16T04:13:24.484444",
     "exception": false,
     "start_time": "2024-05-16T04:13:24.335112",
     "status": "completed"
    },
    "tags": []
   },
   "outputs": [],
   "source": [
    "latent_dim = 128\n",
    "\n",
    "# Encoder\n",
    "encoder = keras.Sequential([\n",
    "    layers.Input(shape=(64, 64, 3)),\n",
    "    layers.Conv2D(64, kernel_size=4, strides=2, padding=\"same\"),\n",
    "    layers.LeakyReLU(0.2),\n",
    "    layers.Conv2D(128, kernel_size=4, strides=2, padding=\"same\"),\n",
    "    layers.LeakyReLU(0.2),\n",
    "    layers.Conv2D(256, kernel_size=4, strides=2, padding=\"same\"),\n",
    "    layers.LeakyReLU(0.2),\n",
    "    layers.Conv2D(512, kernel_size=4, strides=2, padding=\"same\"),\n",
    "    layers.LeakyReLU(0.2),\n",
    "    layers.Flatten(),\n",
    "    layers.Dense(latent_dim)  # Latent representation\n",
    "])\n",
    "\n",
    "# Decoder\n",
    "decoder = keras.Sequential([\n",
    "    layers.Input(shape=(latent_dim,)),\n",
    "    layers.Dense(8*8*512),\n",
    "    layers.Reshape((8, 8, 512)),\n",
    "    layers.Conv2DTranspose(256, kernel_size=4, strides=2, padding=\"same\"),\n",
    "    layers.LeakyReLU(0.2),\n",
    "    layers.Conv2DTranspose(128, kernel_size=4, strides=2, padding=\"same\"),\n",
    "    layers.LeakyReLU(0.2),\n",
    "    layers.Conv2DTranspose(64, kernel_size=4, strides=2, padding=\"same\"),\n",
    "    layers.LeakyReLU(0.2),\n",
    "    layers.Conv2DTranspose(3, kernel_size=4,  padding=\"same\", activation=\"tanh\"),\n",
    "])\n",
    "\n",
    "# Full autoencoder model\n",
    "autoencoder = keras.Sequential([\n",
    "    layers.Input(shape=(64, 64, 3)),\n",
    "    encoder,\n",
    "    decoder\n",
    "])\n"
   ]
  },
  {
   "cell_type": "code",
   "execution_count": 6,
   "id": "430bd12a",
   "metadata": {
    "execution": {
     "iopub.execute_input": "2024-05-16T04:13:24.499581Z",
     "iopub.status.busy": "2024-05-16T04:13:24.498888Z",
     "iopub.status.idle": "2024-05-16T04:13:24.503169Z",
     "shell.execute_reply": "2024-05-16T04:13:24.502236Z"
    },
    "papermill": {
     "duration": 0.013809,
     "end_time": "2024-05-16T04:13:24.505053",
     "exception": false,
     "start_time": "2024-05-16T04:13:24.491244",
     "status": "completed"
    },
    "tags": []
   },
   "outputs": [],
   "source": [
    "from tensorflow.keras import layers, models, optimizers"
   ]
  },
  {
   "cell_type": "code",
   "execution_count": 7,
   "id": "844a9b86",
   "metadata": {
    "execution": {
     "iopub.execute_input": "2024-05-16T04:13:24.519717Z",
     "iopub.status.busy": "2024-05-16T04:13:24.519370Z",
     "iopub.status.idle": "2024-05-16T04:13:24.553428Z",
     "shell.execute_reply": "2024-05-16T04:13:24.552496Z"
    },
    "papermill": {
     "duration": 0.043706,
     "end_time": "2024-05-16T04:13:24.555392",
     "exception": false,
     "start_time": "2024-05-16T04:13:24.511686",
     "status": "completed"
    },
    "tags": []
   },
   "outputs": [
    {
     "name": "stderr",
     "output_type": "stream",
     "text": [
      "/opt/conda/lib/python3.10/site-packages/keras/src/layers/convolutional/base_conv.py:99: UserWarning: Do not pass an `input_shape`/`input_dim` argument to a layer. When using Sequential models, prefer using an `Input(shape)` object as the first layer in the model instead.\n",
      "  super().__init__(\n"
     ]
    }
   ],
   "source": [
    "import tensorflow as tf\n",
    "\n",
    "class CustomModel(tf.keras.Model):\n",
    "    def __init__(self):\n",
    "        super(CustomModel, self).__init__()\n",
    "        \n",
    "        # Define layers\n",
    "        self.conv1 = tf.keras.layers.Conv2D(250, kernel_size=7, activation='relu', input_shape=(48, 48, 3))\n",
    "        self.pool1 = tf.keras.layers.MaxPooling2D(pool_size=2)\n",
    "        #self.norm1 = tf.keras.layers.BatchNormalization()\n",
    "        \n",
    "        self.conv2 = tf.keras.layers.Conv2D(300, kernel_size=4, activation='relu')\n",
    "        self.pool2 = tf.keras.layers.MaxPooling2D(pool_size=2)\n",
    "       # self.norm2 = tf.keras.layers.BatchNormalization()\n",
    "        \n",
    "        self.conv3 = tf.keras.layers.Conv2D(350, kernel_size=4, activation='relu')\n",
    "        self.pool3 = tf.keras.layers.MaxPooling2D(pool_size=2)\n",
    "        #self.norm3 = tf.keras.layers.BatchNormalization()\n",
    "        \n",
    "        self.conv4 = tf.keras.layers.Conv2D(400, kernel_size=4, activation='relu')\n",
    "        self.pool4 = tf.keras.layers.MaxPooling2D(pool_size=2)\n",
    "        #self.norm4 = tf.keras.layers.BatchNormalization()\n",
    "        \n",
    "        self.flatten = tf.keras.layers.Flatten()\n",
    "    \n",
    "        self.fc1 = tf.keras.layers.Dense(400, activation='relu')\n",
    "        self.dropout1 = tf.keras.layers.Dropout(0.5)  # Dropout layer\n",
    "        self.fc2 = tf.keras.layers.Dense(200, activation='relu')\n",
    "        self.dropout2 = tf.keras.layers.Dropout(0.5)  # Dropout layer\n",
    "        self.fc3 = tf.keras.layers.Dense(43, activation='softmax')\n",
    "    \n",
    "    def call(self, inputs):\n",
    "        # Forward pass\n",
    "        x = self.conv1(inputs)\n",
    "        x = self.pool1(x)\n",
    "        #x = self.norm1(x)\n",
    "        x = self.conv2(x)\n",
    "        x = self.pool2(x)\n",
    "        #x = self.norm2(x)\n",
    "        x = self.conv3(x)\n",
    "        x = self.pool3(x)\n",
    "        #x = self.norm3(x)\n",
    "        x = self.conv4(x)\n",
    "        x = self.pool4(x)\n",
    "        #x = self.norm4(x)\n",
    "        x = self.flatten(x)\n",
    "        x = self.fc1(x)\n",
    "        x = self.dropout1(x)  # Dropout layer\n",
    "        x = self.fc2(x)\n",
    "        x = self.dropout2(x)  # Dropout layer\n",
    "        x = self.fc3(x)\n",
    "        return x\n",
    "\n",
    "# Create an instance of the model\n",
    "discriminator = CustomModel()\n"
   ]
  },
  {
   "cell_type": "code",
   "execution_count": 8,
   "id": "88aa5aea",
   "metadata": {
    "execution": {
     "iopub.execute_input": "2024-05-16T04:13:24.570431Z",
     "iopub.status.busy": "2024-05-16T04:13:24.569698Z",
     "iopub.status.idle": "2024-05-16T04:13:24.587719Z",
     "shell.execute_reply": "2024-05-16T04:13:24.586960Z"
    },
    "papermill": {
     "duration": 0.027805,
     "end_time": "2024-05-16T04:13:24.589911",
     "exception": false,
     "start_time": "2024-05-16T04:13:24.562106",
     "status": "completed"
    },
    "tags": []
   },
   "outputs": [],
   "source": [
    "# Loss functions\n",
    "loss_fn_auto = tf.keras.losses.MeanSquaredError()\n",
    "loss_fn_disc = tf.keras.losses.CategoricalCrossentropy()\n",
    "\n",
    "# Optimizers\n",
    "opt_autoencoder = tf.keras.optimizers.Adam(learning_rate=0.0001, beta_1=0.5)\n",
    "opt_disc = tf.keras.optimizers.Adam(learning_rate=0.0001, beta_1=0.5)\n",
    "\n",
    "\n",
    "# Compile the autoencoder model\n",
    "autoencoder.compile(optimizer=opt_autoencoder, loss=loss_fn_auto)\n",
    "\n",
    "# Compile the discriminator model\n",
    "discriminator.compile(optimizer=opt_disc, loss=loss_fn_disc, metrics=['accuracy'])"
   ]
  },
  {
   "cell_type": "code",
   "execution_count": 9,
   "id": "5fd4c8c9",
   "metadata": {
    "execution": {
     "iopub.execute_input": "2024-05-16T04:13:24.604941Z",
     "iopub.status.busy": "2024-05-16T04:13:24.604595Z",
     "iopub.status.idle": "2024-05-16T08:17:43.000514Z",
     "shell.execute_reply": "2024-05-16T08:17:42.999481Z"
    },
    "papermill": {
     "duration": 14658.406132,
     "end_time": "2024-05-16T08:17:43.002646",
     "exception": false,
     "start_time": "2024-05-16T04:13:24.596514",
     "status": "completed"
    },
    "tags": []
   },
   "outputs": [
    {
     "name": "stderr",
     "output_type": "stream",
     "text": [
      "100%|██████████| 491/491 [02:33<00:00,  3.19it/s]\n"
     ]
    },
    {
     "name": "stdout",
     "output_type": "stream",
     "text": [
      "Epoch 0, Autoencoder Loss: 0.025012409314513206, Discriminator Loss: 2.670342445373535, Discriminator Accuracy: 0.1847314089536667\n",
      "Validation - Autoencoder Loss: 0.015880052000284195, Discriminator Loss: 1.6161775588989258, Discriminator Accuracy: 0.3498745262622833\n"
     ]
    },
    {
     "name": "stderr",
     "output_type": "stream",
     "text": [
      "100%|██████████| 491/491 [02:21<00:00,  3.46it/s]\n"
     ]
    },
    {
     "name": "stdout",
     "output_type": "stream",
     "text": [
      "Epoch 1, Autoencoder Loss: 0.011586194857954979, Discriminator Loss: 0.8168476819992065, Discriminator Accuracy: 0.7275649309158325\n",
      "Validation - Autoencoder Loss: 0.009750123135745525, Discriminator Loss: 0.4755973219871521, Discriminator Accuracy: 0.7662909030914307\n"
     ]
    },
    {
     "name": "stderr",
     "output_type": "stream",
     "text": [
      "100%|██████████| 491/491 [02:18<00:00,  3.56it/s]\n"
     ]
    },
    {
     "name": "stdout",
     "output_type": "stream",
     "text": [
      "Epoch 2, Autoencoder Loss: 0.008034310303628445, Discriminator Loss: 0.31378963589668274, Discriminator Accuracy: 0.9236570596694946\n",
      "Validation - Autoencoder Loss: 0.00720693776383996, Discriminator Loss: 0.30175235867500305, Discriminator Accuracy: 0.8542128801345825\n"
     ]
    },
    {
     "name": "stderr",
     "output_type": "stream",
     "text": [
      "100%|██████████| 491/491 [02:18<00:00,  3.54it/s]\n"
     ]
    },
    {
     "name": "stdout",
     "output_type": "stream",
     "text": [
      "Epoch 3, Autoencoder Loss: 0.0069634267129004, Discriminator Loss: 0.21536630392074585, Discriminator Accuracy: 0.9622263312339783\n",
      "Validation - Autoencoder Loss: 0.005913097877055407, Discriminator Loss: 0.16037943959236145, Discriminator Accuracy: 0.9318143129348755\n"
     ]
    },
    {
     "name": "stderr",
     "output_type": "stream",
     "text": [
      "100%|██████████| 491/491 [02:17<00:00,  3.57it/s]\n"
     ]
    },
    {
     "name": "stdout",
     "output_type": "stream",
     "text": [
      "Epoch 4, Autoencoder Loss: 0.005680262576788664, Discriminator Loss: 0.0911780297756195, Discriminator Accuracy: 0.9905167818069458\n",
      "Validation - Autoencoder Loss: 0.0052251797169446945, Discriminator Loss: 0.09629115462303162, Discriminator Accuracy: 0.9610087275505066\n"
     ]
    },
    {
     "name": "stderr",
     "output_type": "stream",
     "text": [
      "100%|██████████| 491/491 [02:19<00:00,  3.51it/s]\n"
     ]
    },
    {
     "name": "stdout",
     "output_type": "stream",
     "text": [
      "Epoch 5, Autoencoder Loss: 0.004877409432083368, Discriminator Loss: 0.05588562414050102, Discriminator Accuracy: 0.9965631365776062\n",
      "Validation - Autoencoder Loss: 0.004716604482382536, Discriminator Loss: 0.10310281813144684, Discriminator Accuracy: 0.9576019048690796\n"
     ]
    },
    {
     "name": "stderr",
     "output_type": "stream",
     "text": [
      "100%|██████████| 491/491 [02:18<00:00,  3.55it/s]\n"
     ]
    },
    {
     "name": "stdout",
     "output_type": "stream",
     "text": [
      "Epoch 6, Autoencoder Loss: 0.005041379481554031, Discriminator Loss: 0.06926286220550537, Discriminator Accuracy: 0.99019855260849\n",
      "Validation - Autoencoder Loss: 0.004425878170877695, Discriminator Loss: 0.309792160987854, Discriminator Accuracy: 0.9294006824493408\n"
     ]
    },
    {
     "name": "stderr",
     "output_type": "stream",
     "text": [
      "100%|██████████| 491/491 [02:16<00:00,  3.60it/s]\n"
     ]
    },
    {
     "name": "stdout",
     "output_type": "stream",
     "text": [
      "Epoch 7, Autoencoder Loss: 0.00402470026165247, Discriminator Loss: 0.028258830308914185, Discriminator Accuracy: 0.9992998838424683\n",
      "Validation - Autoencoder Loss: 0.01659145951271057, Discriminator Loss: 0.1131390705704689, Discriminator Accuracy: 0.9466540217399597\n"
     ]
    },
    {
     "name": "stderr",
     "output_type": "stream",
     "text": [
      "100%|██████████| 491/491 [02:17<00:00,  3.57it/s]\n"
     ]
    },
    {
     "name": "stdout",
     "output_type": "stream",
     "text": [
      "Epoch 8, Autoencoder Loss: 0.0038548321463167667, Discriminator Loss: 0.024436993524432182, Discriminator Accuracy: 0.9995226860046387\n",
      "Validation - Autoencoder Loss: 0.005285164341330528, Discriminator Loss: 0.1046927347779274, Discriminator Accuracy: 0.9587374925613403\n"
     ]
    },
    {
     "name": "stderr",
     "output_type": "stream",
     "text": [
      "100%|██████████| 491/491 [02:17<00:00,  3.56it/s]\n"
     ]
    },
    {
     "name": "stdout",
     "output_type": "stream",
     "text": [
      "Epoch 9, Autoencoder Loss: 0.0036009999457746744, Discriminator Loss: 0.024594778195023537, Discriminator Accuracy: 0.9991089701652527\n",
      "Validation - Autoencoder Loss: 0.0038477261550724506, Discriminator Loss: 0.0624549426138401, Discriminator Accuracy: 0.9740853905677795\n"
     ]
    },
    {
     "name": "stderr",
     "output_type": "stream",
     "text": [
      "100%|██████████| 491/491 [02:16<00:00,  3.59it/s]\n"
     ]
    },
    {
     "name": "stdout",
     "output_type": "stream",
     "text": [
      "Epoch 10, Autoencoder Loss: 0.003348090685904026, Discriminator Loss: 0.015734141692519188, Discriminator Accuracy: 0.9994590282440186\n",
      "Validation - Autoencoder Loss: 0.0034072345588356256, Discriminator Loss: 0.03312850743532181, Discriminator Accuracy: 0.9858993887901306\n"
     ]
    },
    {
     "name": "stderr",
     "output_type": "stream",
     "text": [
      "100%|██████████| 491/491 [02:16<00:00,  3.59it/s]\n"
     ]
    },
    {
     "name": "stdout",
     "output_type": "stream",
     "text": [
      "Epoch 11, Autoencoder Loss: 0.0032118207309395075, Discriminator Loss: 0.014624550938606262, Discriminator Accuracy: 0.9996499419212341\n",
      "Validation - Autoencoder Loss: 0.003260950092226267, Discriminator Loss: 0.05226936936378479, Discriminator Accuracy: 0.9823501706123352\n"
     ]
    },
    {
     "name": "stderr",
     "output_type": "stream",
     "text": [
      "100%|██████████| 491/491 [02:16<00:00,  3.58it/s]\n"
     ]
    },
    {
     "name": "stdout",
     "output_type": "stream",
     "text": [
      "Epoch 12, Autoencoder Loss: 0.0030486604664474726, Discriminator Loss: 0.0115944379940629, Discriminator Accuracy: 0.9993953704833984\n",
      "Validation - Autoencoder Loss: 0.003153130877763033, Discriminator Loss: 0.07084847241640091, Discriminator Accuracy: 0.973831295967102\n"
     ]
    },
    {
     "name": "stderr",
     "output_type": "stream",
     "text": [
      "100%|██████████| 491/491 [02:17<00:00,  3.58it/s]\n"
     ]
    },
    {
     "name": "stdout",
     "output_type": "stream",
     "text": [
      "Epoch 13, Autoencoder Loss: 0.0029772454872727394, Discriminator Loss: 0.011584405787289143, Discriminator Accuracy: 0.9998090863227844\n",
      "Validation - Autoencoder Loss: 0.0033385891001671553, Discriminator Loss: 0.04023697227239609, Discriminator Accuracy: 0.9837398529052734\n"
     ]
    },
    {
     "name": "stderr",
     "output_type": "stream",
     "text": [
      "100%|██████████| 491/491 [02:16<00:00,  3.59it/s]\n"
     ]
    },
    {
     "name": "stdout",
     "output_type": "stream",
     "text": [
      "Epoch 14, Autoencoder Loss: 0.002869062591344118, Discriminator Loss: 0.01872868277132511, Discriminator Accuracy: 0.9989816546440125\n",
      "Validation - Autoencoder Loss: 0.003001822391524911, Discriminator Loss: 0.032938193529844284, Discriminator Accuracy: 0.9892099499702454\n"
     ]
    },
    {
     "name": "stderr",
     "output_type": "stream",
     "text": [
      "100%|██████████| 491/491 [02:17<00:00,  3.58it/s]\n"
     ]
    },
    {
     "name": "stdout",
     "output_type": "stream",
     "text": [
      "Epoch 15, Autoencoder Loss: 0.002697032643482089, Discriminator Loss: 0.007242947816848755, Discriminator Accuracy: 0.9997454285621643\n",
      "Validation - Autoencoder Loss: 0.0033158876467496157, Discriminator Loss: 0.028963079676032066, Discriminator Accuracy: 0.9883130192756653\n"
     ]
    },
    {
     "name": "stderr",
     "output_type": "stream",
     "text": [
      "100%|██████████| 491/491 [02:17<00:00,  3.58it/s]\n"
     ]
    },
    {
     "name": "stdout",
     "output_type": "stream",
     "text": [
      "Epoch 16, Autoencoder Loss: 0.0028290788177400827, Discriminator Loss: 0.022203123196959496, Discriminator Accuracy: 0.9988225698471069\n",
      "Validation - Autoencoder Loss: 0.002938805613666773, Discriminator Loss: 0.03029213845729828, Discriminator Accuracy: 0.9897103905677795\n"
     ]
    },
    {
     "name": "stderr",
     "output_type": "stream",
     "text": [
      "100%|██████████| 491/491 [02:17<00:00,  3.58it/s]\n"
     ]
    },
    {
     "name": "stdout",
     "output_type": "stream",
     "text": [
      "Epoch 17, Autoencoder Loss: 0.0025578122586011887, Discriminator Loss: 0.010930418968200684, Discriminator Accuracy: 0.9998409152030945\n",
      "Validation - Autoencoder Loss: 0.0028380502481013536, Discriminator Loss: 0.02721935324370861, Discriminator Accuracy: 0.989456295967102\n"
     ]
    },
    {
     "name": "stderr",
     "output_type": "stream",
     "text": [
      "100%|██████████| 491/491 [02:17<00:00,  3.56it/s]\n"
     ]
    },
    {
     "name": "stdout",
     "output_type": "stream",
     "text": [
      "Epoch 18, Autoencoder Loss: 0.0024634641595184803, Discriminator Loss: 0.004006716422736645, Discriminator Accuracy: 0.9999681711196899\n",
      "Validation - Autoencoder Loss: 0.0028237449005246162, Discriminator Loss: 0.033602677285671234, Discriminator Accuracy: 0.9880589246749878\n"
     ]
    },
    {
     "name": "stderr",
     "output_type": "stream",
     "text": [
      "100%|██████████| 491/491 [02:17<00:00,  3.58it/s]\n"
     ]
    },
    {
     "name": "stdout",
     "output_type": "stream",
     "text": [
      "Epoch 19, Autoencoder Loss: 0.0024103873874992132, Discriminator Loss: 0.007827216759324074, Discriminator Accuracy: 0.9997454285621643\n",
      "Validation - Autoencoder Loss: 0.003576749237254262, Discriminator Loss: 0.05790809914469719, Discriminator Accuracy: 0.9796825051307678\n"
     ]
    },
    {
     "name": "stderr",
     "output_type": "stream",
     "text": [
      "100%|██████████| 491/491 [02:21<00:00,  3.46it/s]\n"
     ]
    },
    {
     "name": "stdout",
     "output_type": "stream",
     "text": [
      "Epoch 20, Autoencoder Loss: 0.002365982858464122, Discriminator Loss: 0.008991414681077003, Discriminator Accuracy: 0.9999681711196899\n",
      "Validation - Autoencoder Loss: 0.00295009883120656, Discriminator Loss: 0.02429973892867565, Discriminator Accuracy: 0.9907266497612\n"
     ]
    },
    {
     "name": "stderr",
     "output_type": "stream",
     "text": [
      "100%|██████████| 491/491 [02:17<00:00,  3.57it/s]\n"
     ]
    },
    {
     "name": "stdout",
     "output_type": "stream",
     "text": [
      "Epoch 21, Autoencoder Loss: 0.002290939213708043, Discriminator Loss: 0.006220110226422548, Discriminator Accuracy: 0.9998726844787598\n",
      "Validation - Autoencoder Loss: 0.0027429736219346523, Discriminator Loss: 0.023776430636644363, Discriminator Accuracy: 0.9893292784690857\n"
     ]
    },
    {
     "name": "stderr",
     "output_type": "stream",
     "text": [
      "100%|██████████| 491/491 [02:17<00:00,  3.57it/s]\n"
     ]
    },
    {
     "name": "stdout",
     "output_type": "stream",
     "text": [
      "Epoch 22, Autoencoder Loss: 0.00222654826939106, Discriminator Loss: 0.013342803344130516, Discriminator Accuracy: 0.999586284160614\n",
      "Validation - Autoencoder Loss: 0.002686477033421397, Discriminator Loss: 0.020103158429265022, Discriminator Accuracy: 0.9928861856460571\n"
     ]
    },
    {
     "name": "stderr",
     "output_type": "stream",
     "text": [
      "100%|██████████| 491/491 [02:17<00:00,  3.56it/s]\n"
     ]
    },
    {
     "name": "stdout",
     "output_type": "stream",
     "text": [
      "Epoch 23, Autoencoder Loss: 0.002176737179979682, Discriminator Loss: 0.007380960509181023, Discriminator Accuracy: 0.9998090863227844\n",
      "Validation - Autoencoder Loss: 0.0027882601134479046, Discriminator Loss: 0.026757247745990753, Discriminator Accuracy: 0.989456295967102\n"
     ]
    },
    {
     "name": "stderr",
     "output_type": "stream",
     "text": [
      "100%|██████████| 491/491 [02:17<00:00,  3.56it/s]\n"
     ]
    },
    {
     "name": "stdout",
     "output_type": "stream",
     "text": [
      "Epoch 24, Autoencoder Loss: 0.0021416028030216694, Discriminator Loss: 0.002767212688922882, Discriminator Accuracy: 0.9998726844787598\n",
      "Validation - Autoencoder Loss: 0.002632584422826767, Discriminator Loss: 0.02720733731985092, Discriminator Accuracy: 0.9907266497612\n"
     ]
    },
    {
     "name": "stderr",
     "output_type": "stream",
     "text": [
      "100%|██████████| 491/491 [02:17<00:00,  3.56it/s]\n"
     ]
    },
    {
     "name": "stdout",
     "output_type": "stream",
     "text": [
      "Epoch 25, Autoencoder Loss: 0.0020988783799111843, Discriminator Loss: 0.00976791325956583, Discriminator Accuracy: 0.9995226860046387\n",
      "Validation - Autoencoder Loss: 0.002732731867581606, Discriminator Loss: 0.028682878240942955, Discriminator Accuracy: 0.9880589246749878\n"
     ]
    },
    {
     "name": "stderr",
     "output_type": "stream",
     "text": [
      "100%|██████████| 491/491 [02:17<00:00,  3.56it/s]\n"
     ]
    },
    {
     "name": "stdout",
     "output_type": "stream",
     "text": [
      "Epoch 26, Autoencoder Loss: 0.0020167024340480566, Discriminator Loss: 0.004655514843761921, Discriminator Accuracy: 0.9999363422393799\n",
      "Validation - Autoencoder Loss: 0.0034682105761021376, Discriminator Loss: 0.047875046730041504, Discriminator Accuracy: 0.9803176522254944\n"
     ]
    },
    {
     "name": "stderr",
     "output_type": "stream",
     "text": [
      "100%|██████████| 491/491 [02:17<00:00,  3.57it/s]\n"
     ]
    },
    {
     "name": "stdout",
     "output_type": "stream",
     "text": [
      "Epoch 27, Autoencoder Loss: 0.0019909022375941277, Discriminator Loss: 0.0034349949564784765, Discriminator Accuracy: 0.9999363422393799\n",
      "Validation - Autoencoder Loss: 0.002593437908217311, Discriminator Loss: 0.02912457101047039, Discriminator Accuracy: 0.9903532266616821\n"
     ]
    },
    {
     "name": "stderr",
     "output_type": "stream",
     "text": [
      "100%|██████████| 491/491 [02:17<00:00,  3.57it/s]\n"
     ]
    },
    {
     "name": "stdout",
     "output_type": "stream",
     "text": [
      "Epoch 28, Autoencoder Loss: 0.0019519537454470992, Discriminator Loss: 0.008510001003742218, Discriminator Accuracy: 0.9994908571243286\n",
      "Validation - Autoencoder Loss: 0.0026361101772636175, Discriminator Loss: 0.031163426116108894, Discriminator Accuracy: 0.9903455376625061\n"
     ]
    },
    {
     "name": "stderr",
     "output_type": "stream",
     "text": [
      "100%|██████████| 491/491 [02:17<00:00,  3.56it/s]\n"
     ]
    },
    {
     "name": "stdout",
     "output_type": "stream",
     "text": [
      "Epoch 29, Autoencoder Loss: 0.0019046809757128358, Discriminator Loss: 0.0030809950549155474, Discriminator Accuracy: 1.0\n",
      "Validation - Autoencoder Loss: 0.0031747454777359962, Discriminator Loss: 0.02120148204267025, Discriminator Accuracy: 0.9927668571472168\n"
     ]
    },
    {
     "name": "stderr",
     "output_type": "stream",
     "text": [
      "100%|██████████| 491/491 [02:18<00:00,  3.56it/s]\n"
     ]
    },
    {
     "name": "stdout",
     "output_type": "stream",
     "text": [
      "Epoch 30, Autoencoder Loss: 0.001882512355223298, Discriminator Loss: 0.0018123864429071546, Discriminator Accuracy: 1.0\n",
      "Validation - Autoencoder Loss: 0.002564515918493271, Discriminator Loss: 0.03183215484023094, Discriminator Accuracy: 0.9902185201644897\n"
     ]
    },
    {
     "name": "stderr",
     "output_type": "stream",
     "text": [
      "100%|██████████| 491/491 [02:17<00:00,  3.57it/s]\n"
     ]
    },
    {
     "name": "stdout",
     "output_type": "stream",
     "text": [
      "Epoch 31, Autoencoder Loss: 0.0018285767873749137, Discriminator Loss: 0.010148170404136181, Discriminator Accuracy: 0.9994908571243286\n",
      "Validation - Autoencoder Loss: 0.0026914780028164387, Discriminator Loss: 0.02626066841185093, Discriminator Accuracy: 0.9893292784690857\n"
     ]
    },
    {
     "name": "stderr",
     "output_type": "stream",
     "text": [
      "100%|██████████| 491/491 [02:16<00:00,  3.59it/s]\n"
     ]
    },
    {
     "name": "stdout",
     "output_type": "stream",
     "text": [
      "Epoch 32, Autoencoder Loss: 0.001903547323308885, Discriminator Loss: 0.006321819499135017, Discriminator Accuracy: 0.9996817708015442\n",
      "Validation - Autoencoder Loss: 0.0027060729917138815, Discriminator Loss: 0.024294719099998474, Discriminator Accuracy: 0.9902185201644897\n"
     ]
    },
    {
     "name": "stderr",
     "output_type": "stream",
     "text": [
      "100%|██████████| 491/491 [02:16<00:00,  3.59it/s]\n"
     ]
    },
    {
     "name": "stdout",
     "output_type": "stream",
     "text": [
      "Epoch 33, Autoencoder Loss: 0.001730317366309464, Discriminator Loss: 0.0028832934331148863, Discriminator Accuracy: 0.9999681711196899\n",
      "Validation - Autoencoder Loss: 0.0027361137326806784, Discriminator Loss: 0.019359709694981575, Discriminator Accuracy: 0.9919969439506531\n"
     ]
    },
    {
     "name": "stderr",
     "output_type": "stream",
     "text": [
      "100%|██████████| 491/491 [02:17<00:00,  3.58it/s]\n"
     ]
    },
    {
     "name": "stdout",
     "output_type": "stream",
     "text": [
      "Epoch 34, Autoencoder Loss: 0.001732961623929441, Discriminator Loss: 0.005328988190740347, Discriminator Accuracy: 0.9996817708015442\n",
      "Validation - Autoencoder Loss: 0.0027899020351469517, Discriminator Loss: 0.039326418191194534, Discriminator Accuracy: 0.9867886304855347\n"
     ]
    },
    {
     "name": "stderr",
     "output_type": "stream",
     "text": [
      "100%|██████████| 491/491 [02:17<00:00,  3.58it/s]\n"
     ]
    },
    {
     "name": "stdout",
     "output_type": "stream",
     "text": [
      "Epoch 35, Autoencoder Loss: 0.0017189161153510213, Discriminator Loss: 0.003460220294073224, Discriminator Accuracy: 0.9999363422393799\n",
      "Validation - Autoencoder Loss: 0.002595372963696718, Discriminator Loss: 0.024052206426858902, Discriminator Accuracy: 0.9914965033531189\n"
     ]
    },
    {
     "name": "stderr",
     "output_type": "stream",
     "text": [
      "100%|██████████| 491/491 [02:17<00:00,  3.57it/s]\n"
     ]
    },
    {
     "name": "stdout",
     "output_type": "stream",
     "text": [
      "Epoch 36, Autoencoder Loss: 0.001689448719844222, Discriminator Loss: 0.0008875752100721002, Discriminator Accuracy: 1.0\n",
      "Validation - Autoencoder Loss: 0.002565299393609166, Discriminator Loss: 0.019914930686354637, Discriminator Accuracy: 0.9936483502388\n"
     ]
    },
    {
     "name": "stderr",
     "output_type": "stream",
     "text": [
      "100%|██████████| 491/491 [02:17<00:00,  3.57it/s]\n"
     ]
    },
    {
     "name": "stdout",
     "output_type": "stream",
     "text": [
      "Epoch 37, Autoencoder Loss: 0.0016683527501299977, Discriminator Loss: 0.003821874503046274, Discriminator Accuracy: 0.9998409152030945\n",
      "Validation - Autoencoder Loss: 0.0028456570580601692, Discriminator Loss: 0.052704472094774246, Discriminator Accuracy: 0.9806910753250122\n"
     ]
    },
    {
     "name": "stderr",
     "output_type": "stream",
     "text": [
      "100%|██████████| 491/491 [02:16<00:00,  3.60it/s]\n"
     ]
    },
    {
     "name": "stdout",
     "output_type": "stream",
     "text": [
      "Epoch 38, Autoencoder Loss: 0.001641531358473003, Discriminator Loss: 0.007889899425208569, Discriminator Accuracy: 0.9997772574424744\n",
      "Validation - Autoencoder Loss: 0.0029254285618662834, Discriminator Loss: 0.03328441083431244, Discriminator Accuracy: 0.9880589246749878\n"
     ]
    },
    {
     "name": "stderr",
     "output_type": "stream",
     "text": [
      "100%|██████████| 491/491 [02:16<00:00,  3.59it/s]\n"
     ]
    },
    {
     "name": "stdout",
     "output_type": "stream",
     "text": [
      "Epoch 39, Autoencoder Loss: 0.0016821834724396467, Discriminator Loss: 0.004127943888306618, Discriminator Accuracy: 0.9999363422393799\n",
      "Validation - Autoencoder Loss: 0.002647035289555788, Discriminator Loss: 0.021555624902248383, Discriminator Accuracy: 0.9923780560493469\n"
     ]
    },
    {
     "name": "stderr",
     "output_type": "stream",
     "text": [
      "100%|██████████| 491/491 [02:16<00:00,  3.59it/s]\n"
     ]
    },
    {
     "name": "stdout",
     "output_type": "stream",
     "text": [
      "Epoch 40, Autoencoder Loss: 0.0015740464441478252, Discriminator Loss: 0.0024712004233151674, Discriminator Accuracy: 0.9999045133590698\n",
      "Validation - Autoencoder Loss: 0.0030156380962580442, Discriminator Loss: 0.022613542154431343, Discriminator Accuracy: 0.9917429089546204\n"
     ]
    },
    {
     "name": "stderr",
     "output_type": "stream",
     "text": [
      "100%|██████████| 491/491 [02:16<00:00,  3.61it/s]\n"
     ]
    },
    {
     "name": "stdout",
     "output_type": "stream",
     "text": [
      "Epoch 41, Autoencoder Loss: 0.0015820757253095508, Discriminator Loss: 0.0011452276958152652, Discriminator Accuracy: 1.0\n",
      "Validation - Autoencoder Loss: 0.0027839732356369495, Discriminator Loss: 0.04035329818725586, Discriminator Accuracy: 0.9856530427932739\n"
     ]
    },
    {
     "name": "stderr",
     "output_type": "stream",
     "text": [
      "100%|██████████| 491/491 [02:16<00:00,  3.60it/s]\n"
     ]
    },
    {
     "name": "stdout",
     "output_type": "stream",
     "text": [
      "Epoch 42, Autoencoder Loss: 0.0015486085321754217, Discriminator Loss: 0.000559853739105165, Discriminator Accuracy: 1.0\n",
      "Validation - Autoencoder Loss: 0.0025887349620461464, Discriminator Loss: 0.01741115376353264, Discriminator Accuracy: 0.9942835569381714\n"
     ]
    },
    {
     "name": "stderr",
     "output_type": "stream",
     "text": [
      "100%|██████████| 491/491 [02:16<00:00,  3.61it/s]\n"
     ]
    },
    {
     "name": "stdout",
     "output_type": "stream",
     "text": [
      "Epoch 43, Autoencoder Loss: 0.0015407659811899066, Discriminator Loss: 0.008263609372079372, Discriminator Accuracy: 0.9994908571243286\n",
      "Validation - Autoencoder Loss: 0.0025799646973609924, Discriminator Loss: 0.03697768598794937, Discriminator Accuracy: 0.9862805008888245\n"
     ]
    },
    {
     "name": "stderr",
     "output_type": "stream",
     "text": [
      "100%|██████████| 491/491 [02:16<00:00,  3.61it/s]\n"
     ]
    },
    {
     "name": "stdout",
     "output_type": "stream",
     "text": [
      "Epoch 44, Autoencoder Loss: 0.0015210292767733335, Discriminator Loss: 0.0019436300499364734, Discriminator Accuracy: 1.0\n",
      "Validation - Autoencoder Loss: 0.002602122724056244, Discriminator Loss: 0.022076549008488655, Discriminator Accuracy: 0.9907266497612\n"
     ]
    },
    {
     "name": "stderr",
     "output_type": "stream",
     "text": [
      "100%|██████████| 491/491 [02:15<00:00,  3.62it/s]\n"
     ]
    },
    {
     "name": "stdout",
     "output_type": "stream",
     "text": [
      "Epoch 45, Autoencoder Loss: 0.0014967292081564665, Discriminator Loss: 0.003294217400252819, Discriminator Accuracy: 0.9999045133590698\n",
      "Validation - Autoencoder Loss: 0.0026045585982501507, Discriminator Loss: 0.03166136145591736, Discriminator Accuracy: 0.9900914430618286\n"
     ]
    },
    {
     "name": "stderr",
     "output_type": "stream",
     "text": [
      "100%|██████████| 491/491 [02:17<00:00,  3.56it/s]\n"
     ]
    },
    {
     "name": "stdout",
     "output_type": "stream",
     "text": [
      "Epoch 46, Autoencoder Loss: 0.0014904693234711885, Discriminator Loss: 0.002570335054770112, Discriminator Accuracy: 1.0\n",
      "Validation - Autoencoder Loss: 0.002840686123818159, Discriminator Loss: 0.02822127565741539, Discriminator Accuracy: 0.9919969439506531\n"
     ]
    },
    {
     "name": "stderr",
     "output_type": "stream",
     "text": [
      "100%|██████████| 491/491 [02:15<00:00,  3.61it/s]\n"
     ]
    },
    {
     "name": "stdout",
     "output_type": "stream",
     "text": [
      "Epoch 47, Autoencoder Loss: 0.0014775458257645369, Discriminator Loss: 0.001797005534172058, Discriminator Accuracy: 1.0\n",
      "Validation - Autoencoder Loss: 0.0027237138710916042, Discriminator Loss: 0.024728434160351753, Discriminator Accuracy: 0.9927745461463928\n"
     ]
    },
    {
     "name": "stderr",
     "output_type": "stream",
     "text": [
      "100%|██████████| 491/491 [02:15<00:00,  3.61it/s]\n"
     ]
    },
    {
     "name": "stdout",
     "output_type": "stream",
     "text": [
      "Epoch 48, Autoencoder Loss: 0.0014542307471856475, Discriminator Loss: 0.00012823239376302809, Discriminator Accuracy: 1.0\n",
      "Validation - Autoencoder Loss: 0.0026512457989156246, Discriminator Loss: 0.026333969086408615, Discriminator Accuracy: 0.9927591681480408\n"
     ]
    },
    {
     "name": "stderr",
     "output_type": "stream",
     "text": [
      "100%|██████████| 491/491 [02:15<00:00,  3.61it/s]\n"
     ]
    },
    {
     "name": "stdout",
     "output_type": "stream",
     "text": [
      "Epoch 49, Autoencoder Loss: 0.0014393196906894445, Discriminator Loss: 2.740722084126901e-05, Discriminator Accuracy: 1.0\n",
      "Validation - Autoencoder Loss: 0.0027019097469747066, Discriminator Loss: 0.023837953805923462, Discriminator Accuracy: 0.993274986743927\n"
     ]
    },
    {
     "name": "stderr",
     "output_type": "stream",
     "text": [
      "100%|██████████| 491/491 [02:16<00:00,  3.61it/s]\n"
     ]
    },
    {
     "name": "stdout",
     "output_type": "stream",
     "text": [
      "Epoch 50, Autoencoder Loss: 0.002115638693794608, Discriminator Loss: 0.03255283832550049, Discriminator Accuracy: 0.9950674772262573\n",
      "Validation - Autoencoder Loss: 0.002659682184457779, Discriminator Loss: 0.022747976705431938, Discriminator Accuracy: 0.9918699264526367\n"
     ]
    },
    {
     "name": "stderr",
     "output_type": "stream",
     "text": [
      "100%|██████████| 491/491 [02:15<00:00,  3.62it/s]\n"
     ]
    },
    {
     "name": "stdout",
     "output_type": "stream",
     "text": [
      "Epoch 51, Autoencoder Loss: 0.0014389180578291416, Discriminator Loss: 0.0005750417476519942, Discriminator Accuracy: 1.0\n",
      "Validation - Autoencoder Loss: 0.002537510124966502, Discriminator Loss: 0.020739588886499405, Discriminator Accuracy: 0.9935290217399597\n"
     ]
    },
    {
     "name": "stderr",
     "output_type": "stream",
     "text": [
      "100%|██████████| 491/491 [02:16<00:00,  3.60it/s]\n"
     ]
    },
    {
     "name": "stdout",
     "output_type": "stream",
     "text": [
      "Epoch 52, Autoencoder Loss: 0.0013522651279345155, Discriminator Loss: 7.78373796492815e-05, Discriminator Accuracy: 1.0\n",
      "Validation - Autoencoder Loss: 0.0025951724965125322, Discriminator Loss: 0.02110656537115574, Discriminator Accuracy: 0.9935367107391357\n"
     ]
    },
    {
     "name": "stderr",
     "output_type": "stream",
     "text": [
      "100%|██████████| 491/491 [02:16<00:00,  3.61it/s]\n"
     ]
    },
    {
     "name": "stdout",
     "output_type": "stream",
     "text": [
      "Epoch 53, Autoencoder Loss: 0.0013543865643441677, Discriminator Loss: 4.0244853153126314e-05, Discriminator Accuracy: 1.0\n",
      "Validation - Autoencoder Loss: 0.0027636117301881313, Discriminator Loss: 0.020161280408501625, Discriminator Accuracy: 0.9940294623374939\n"
     ]
    },
    {
     "name": "stderr",
     "output_type": "stream",
     "text": [
      "100%|██████████| 491/491 [02:21<00:00,  3.46it/s]\n"
     ]
    },
    {
     "name": "stdout",
     "output_type": "stream",
     "text": [
      "Epoch 54, Autoencoder Loss: 0.0013633337803184986, Discriminator Loss: 1.2403266737237573e-05, Discriminator Accuracy: 1.0\n",
      "Validation - Autoencoder Loss: 0.004977703094482422, Discriminator Loss: 0.02132120169699192, Discriminator Accuracy: 0.9937754273414612\n"
     ]
    },
    {
     "name": "stderr",
     "output_type": "stream",
     "text": [
      "100%|██████████| 491/491 [02:17<00:00,  3.57it/s]\n"
     ]
    },
    {
     "name": "stdout",
     "output_type": "stream",
     "text": [
      "Epoch 55, Autoencoder Loss: 0.0013890997506678104, Discriminator Loss: 0.008271855302155018, Discriminator Accuracy: 0.9997454285621643\n",
      "Validation - Autoencoder Loss: 0.0026133449282497168, Discriminator Loss: 0.031771220266819, Discriminator Accuracy: 0.9909806847572327\n"
     ]
    },
    {
     "name": "stderr",
     "output_type": "stream",
     "text": [
      "100%|██████████| 491/491 [02:17<00:00,  3.57it/s]\n"
     ]
    },
    {
     "name": "stdout",
     "output_type": "stream",
     "text": [
      "Epoch 56, Autoencoder Loss: 0.001355487504042685, Discriminator Loss: 0.0021035922691226006, Discriminator Accuracy: 1.0\n",
      "Validation - Autoencoder Loss: 0.0026756192091852427, Discriminator Loss: 0.06063436344265938, Discriminator Accuracy: 0.984375\n"
     ]
    },
    {
     "name": "stderr",
     "output_type": "stream",
     "text": [
      "100%|██████████| 491/491 [02:21<00:00,  3.46it/s]\n"
     ]
    },
    {
     "name": "stdout",
     "output_type": "stream",
     "text": [
      "Epoch 57, Autoencoder Loss: 0.0013495382154360414, Discriminator Loss: 0.0012971902033314109, Discriminator Accuracy: 1.0\n",
      "Validation - Autoencoder Loss: 0.0026825868990272284, Discriminator Loss: 0.027620695531368256, Discriminator Accuracy: 0.9923780560493469\n"
     ]
    },
    {
     "name": "stderr",
     "output_type": "stream",
     "text": [
      "100%|██████████| 491/491 [02:15<00:00,  3.62it/s]\n"
     ]
    },
    {
     "name": "stdout",
     "output_type": "stream",
     "text": [
      "Epoch 58, Autoencoder Loss: 0.00135000457521528, Discriminator Loss: 0.0005225297645665705, Discriminator Accuracy: 1.0\n",
      "Validation - Autoencoder Loss: 0.002748495899140835, Discriminator Loss: 0.05113241448998451, Discriminator Accuracy: 0.9823424816131592\n"
     ]
    },
    {
     "name": "stderr",
     "output_type": "stream",
     "text": [
      "100%|██████████| 491/491 [02:15<00:00,  3.62it/s]\n"
     ]
    },
    {
     "name": "stdout",
     "output_type": "stream",
     "text": [
      "Epoch 59, Autoencoder Loss: 0.0013352470705285668, Discriminator Loss: 0.003019699826836586, Discriminator Accuracy: 0.9999681711196899\n",
      "Validation - Autoencoder Loss: 0.0037487635854631662, Discriminator Loss: 0.0549510158598423, Discriminator Accuracy: 0.980190634727478\n"
     ]
    },
    {
     "name": "stderr",
     "output_type": "stream",
     "text": [
      "100%|██████████| 491/491 [02:15<00:00,  3.61it/s]\n"
     ]
    },
    {
     "name": "stdout",
     "output_type": "stream",
     "text": [
      "Epoch 60, Autoencoder Loss: 0.001334976521320641, Discriminator Loss: 0.002765072276815772, Discriminator Accuracy: 1.0\n",
      "Validation - Autoencoder Loss: 0.002733187982812524, Discriminator Loss: 0.027006590738892555, Discriminator Accuracy: 0.9928861856460571\n"
     ]
    },
    {
     "name": "stderr",
     "output_type": "stream",
     "text": [
      "100%|██████████| 491/491 [02:15<00:00,  3.62it/s]\n"
     ]
    },
    {
     "name": "stdout",
     "output_type": "stream",
     "text": [
      "Epoch 61, Autoencoder Loss: 0.0013134987093508244, Discriminator Loss: 0.0011765926610678434, Discriminator Accuracy: 1.0\n",
      "Validation - Autoencoder Loss: 0.002730573760345578, Discriminator Loss: 0.02474942058324814, Discriminator Accuracy: 0.9916158318519592\n"
     ]
    },
    {
     "name": "stderr",
     "output_type": "stream",
     "text": [
      "100%|██████████| 491/491 [02:15<00:00,  3.62it/s]\n"
     ]
    },
    {
     "name": "stdout",
     "output_type": "stream",
     "text": [
      "Epoch 62, Autoencoder Loss: 0.001310679828748107, Discriminator Loss: 0.00040622701635584235, Discriminator Accuracy: 0.9999681711196899\n",
      "Validation - Autoencoder Loss: 0.002936700591817498, Discriminator Loss: 0.02114272303879261, Discriminator Accuracy: 0.9936483502388\n"
     ]
    },
    {
     "name": "stderr",
     "output_type": "stream",
     "text": [
      "100%|██████████| 491/491 [02:15<00:00,  3.62it/s]\n"
     ]
    },
    {
     "name": "stdout",
     "output_type": "stream",
     "text": [
      "Epoch 63, Autoencoder Loss: 0.001295663183555007, Discriminator Loss: 0.000988153857178986, Discriminator Accuracy: 1.0\n",
      "Validation - Autoencoder Loss: 0.002670727204531431, Discriminator Loss: 0.023182103410363197, Discriminator Accuracy: 0.9927591681480408\n"
     ]
    },
    {
     "name": "stderr",
     "output_type": "stream",
     "text": [
      "100%|██████████| 491/491 [02:15<00:00,  3.62it/s]\n"
     ]
    },
    {
     "name": "stdout",
     "output_type": "stream",
     "text": [
      "Epoch 64, Autoencoder Loss: 0.0012914425460621715, Discriminator Loss: 0.004939110018312931, Discriminator Accuracy: 0.9997135996818542\n",
      "Validation - Autoencoder Loss: 0.002614234574139118, Discriminator Loss: 0.03904588893055916, Discriminator Accuracy: 0.988574743270874\n"
     ]
    },
    {
     "name": "stderr",
     "output_type": "stream",
     "text": [
      "100%|██████████| 491/491 [02:15<00:00,  3.62it/s]\n"
     ]
    },
    {
     "name": "stdout",
     "output_type": "stream",
     "text": [
      "Epoch 65, Autoencoder Loss: 0.0012767701409757137, Discriminator Loss: 0.0012736206408590078, Discriminator Accuracy: 0.9999681711196899\n",
      "Validation - Autoencoder Loss: 0.002639882266521454, Discriminator Loss: 0.02502380684018135, Discriminator Accuracy: 0.9930132031440735\n"
     ]
    },
    {
     "name": "stderr",
     "output_type": "stream",
     "text": [
      "100%|██████████| 491/491 [02:17<00:00,  3.57it/s]\n"
     ]
    },
    {
     "name": "stdout",
     "output_type": "stream",
     "text": [
      "Epoch 66, Autoencoder Loss: 0.001276783412322402, Discriminator Loss: 0.0008054897771216929, Discriminator Accuracy: 1.0\n",
      "Validation - Autoencoder Loss: 0.0026439952198415995, Discriminator Loss: 0.02539936639368534, Discriminator Accuracy: 0.9918699264526367\n"
     ]
    },
    {
     "name": "stderr",
     "output_type": "stream",
     "text": [
      "100%|██████████| 491/491 [02:16<00:00,  3.59it/s]\n"
     ]
    },
    {
     "name": "stdout",
     "output_type": "stream",
     "text": [
      "Epoch 67, Autoencoder Loss: 0.0012522247852757573, Discriminator Loss: 0.00016073600272648036, Discriminator Accuracy: 1.0\n",
      "Validation - Autoencoder Loss: 0.0027720152866095304, Discriminator Loss: 0.02557986229658127, Discriminator Accuracy: 0.9918776154518127\n"
     ]
    },
    {
     "name": "stderr",
     "output_type": "stream",
     "text": [
      "100%|██████████| 491/491 [02:19<00:00,  3.53it/s]\n"
     ]
    },
    {
     "name": "stdout",
     "output_type": "stream",
     "text": [
      "Epoch 68, Autoencoder Loss: 0.0012646454852074385, Discriminator Loss: 1.0453704817336984e-05, Discriminator Accuracy: 1.0\n",
      "Validation - Autoencoder Loss: 0.0026518176309764385, Discriminator Loss: 0.02463180385529995, Discriminator Accuracy: 0.9928861856460571\n"
     ]
    },
    {
     "name": "stderr",
     "output_type": "stream",
     "text": [
      "100%|██████████| 491/491 [02:18<00:00,  3.54it/s]\n"
     ]
    },
    {
     "name": "stdout",
     "output_type": "stream",
     "text": [
      "Epoch 69, Autoencoder Loss: 0.00124579097609967, Discriminator Loss: 4.328850991441868e-06, Discriminator Accuracy: 1.0\n",
      "Validation - Autoencoder Loss: 0.0026343080680817366, Discriminator Loss: 0.022759277373552322, Discriminator Accuracy: 0.9939024448394775\n"
     ]
    },
    {
     "name": "stderr",
     "output_type": "stream",
     "text": [
      "100%|██████████| 491/491 [02:18<00:00,  3.54it/s]\n"
     ]
    },
    {
     "name": "stdout",
     "output_type": "stream",
     "text": [
      "Epoch 70, Autoencoder Loss: 0.0012374629732221365, Discriminator Loss: 0.0072836680337786674, Discriminator Accuracy: 0.9996499419212341\n",
      "Validation - Autoencoder Loss: 0.0027191555127501488, Discriminator Loss: 0.036097388714551926, Discriminator Accuracy: 0.9909806847572327\n"
     ]
    },
    {
     "name": "stderr",
     "output_type": "stream",
     "text": [
      "100%|██████████| 491/491 [02:18<00:00,  3.55it/s]\n"
     ]
    },
    {
     "name": "stdout",
     "output_type": "stream",
     "text": [
      "Epoch 71, Autoencoder Loss: 0.0012248237617313862, Discriminator Loss: 0.0013433103449642658, Discriminator Accuracy: 1.0\n",
      "Validation - Autoencoder Loss: 0.0026283953338861465, Discriminator Loss: 0.023113412782549858, Discriminator Accuracy: 0.9926320910453796\n"
     ]
    },
    {
     "name": "stderr",
     "output_type": "stream",
     "text": [
      "100%|██████████| 491/491 [02:21<00:00,  3.46it/s]\n"
     ]
    },
    {
     "name": "stdout",
     "output_type": "stream",
     "text": [
      "Epoch 72, Autoencoder Loss: 0.0012190161505714059, Discriminator Loss: 0.00039177871076390147, Discriminator Accuracy: 1.0\n",
      "Validation - Autoencoder Loss: 0.002624588320031762, Discriminator Loss: 0.026459140703082085, Discriminator Accuracy: 0.9927668571472168\n"
     ]
    },
    {
     "name": "stderr",
     "output_type": "stream",
     "text": [
      "100%|██████████| 491/491 [02:18<00:00,  3.54it/s]\n"
     ]
    },
    {
     "name": "stdout",
     "output_type": "stream",
     "text": [
      "Epoch 73, Autoencoder Loss: 0.0012308028526604176, Discriminator Loss: 0.0032333903945982456, Discriminator Accuracy: 1.0\n",
      "Validation - Autoencoder Loss: 0.0026787281967699528, Discriminator Loss: 0.021836362779140472, Discriminator Accuracy: 0.9942835569381714\n"
     ]
    },
    {
     "name": "stderr",
     "output_type": "stream",
     "text": [
      "100%|██████████| 491/491 [02:18<00:00,  3.54it/s]\n"
     ]
    },
    {
     "name": "stdout",
     "output_type": "stream",
     "text": [
      "Epoch 74, Autoencoder Loss: 0.0011964313453063369, Discriminator Loss: 0.0010923317167907953, Discriminator Accuracy: 1.0\n",
      "Validation - Autoencoder Loss: 0.0026343544013798237, Discriminator Loss: 0.023938613012433052, Discriminator Accuracy: 0.993267297744751\n"
     ]
    },
    {
     "name": "stderr",
     "output_type": "stream",
     "text": [
      "100%|██████████| 491/491 [02:18<00:00,  3.56it/s]\n"
     ]
    },
    {
     "name": "stdout",
     "output_type": "stream",
     "text": [
      "Epoch 75, Autoencoder Loss: 0.0012023820308968425, Discriminator Loss: 0.0004589947930071503, Discriminator Accuracy: 1.0\n",
      "Validation - Autoencoder Loss: 0.0025536392349749804, Discriminator Loss: 0.022152146324515343, Discriminator Accuracy: 0.9933943152427673\n"
     ]
    },
    {
     "name": "stderr",
     "output_type": "stream",
     "text": [
      "100%|██████████| 491/491 [02:18<00:00,  3.54it/s]\n"
     ]
    },
    {
     "name": "stdout",
     "output_type": "stream",
     "text": [
      "Epoch 76, Autoencoder Loss: 0.0011933535570278764, Discriminator Loss: 0.002861643908545375, Discriminator Accuracy: 0.9999681711196899\n",
      "Validation - Autoencoder Loss: 0.002687806263566017, Discriminator Loss: 0.02429458312690258, Discriminator Accuracy: 0.9926397800445557\n"
     ]
    },
    {
     "name": "stderr",
     "output_type": "stream",
     "text": [
      "100%|██████████| 491/491 [02:18<00:00,  3.55it/s]\n"
     ]
    },
    {
     "name": "stdout",
     "output_type": "stream",
     "text": [
      "Epoch 77, Autoencoder Loss: 0.0011998354457318783, Discriminator Loss: 0.004011060111224651, Discriminator Accuracy: 0.9999363422393799\n",
      "Validation - Autoencoder Loss: 0.0025376782286912203, Discriminator Loss: 0.07261888682842255, Discriminator Accuracy: 0.9806910753250122\n"
     ]
    },
    {
     "name": "stderr",
     "output_type": "stream",
     "text": [
      "100%|██████████| 491/491 [02:16<00:00,  3.60it/s]\n"
     ]
    },
    {
     "name": "stdout",
     "output_type": "stream",
     "text": [
      "Epoch 78, Autoencoder Loss: 0.001165409805253148, Discriminator Loss: 0.0027532768435776234, Discriminator Accuracy: 0.9999681711196899\n",
      "Validation - Autoencoder Loss: 0.002738824812695384, Discriminator Loss: 0.02542930841445923, Discriminator Accuracy: 0.9922510385513306\n"
     ]
    },
    {
     "name": "stderr",
     "output_type": "stream",
     "text": [
      "100%|██████████| 491/491 [02:15<00:00,  3.62it/s]\n"
     ]
    },
    {
     "name": "stdout",
     "output_type": "stream",
     "text": [
      "Epoch 79, Autoencoder Loss: 0.0011704899370670319, Discriminator Loss: 0.00022133623133413494, Discriminator Accuracy: 1.0\n",
      "Validation - Autoencoder Loss: 0.002691727364435792, Discriminator Loss: 0.025931626558303833, Discriminator Accuracy: 0.9916158318519592\n"
     ]
    },
    {
     "name": "stderr",
     "output_type": "stream",
     "text": [
      "100%|██████████| 491/491 [02:16<00:00,  3.60it/s]\n"
     ]
    },
    {
     "name": "stdout",
     "output_type": "stream",
     "text": [
      "Epoch 80, Autoencoder Loss: 0.0011673524277284741, Discriminator Loss: 4.4292730308370665e-05, Discriminator Accuracy: 1.0\n",
      "Validation - Autoencoder Loss: 0.002680470235645771, Discriminator Loss: 0.02771732397377491, Discriminator Accuracy: 0.991107702255249\n"
     ]
    },
    {
     "name": "stderr",
     "output_type": "stream",
     "text": [
      "100%|██████████| 491/491 [02:15<00:00,  3.62it/s]\n"
     ]
    },
    {
     "name": "stdout",
     "output_type": "stream",
     "text": [
      "Epoch 81, Autoencoder Loss: 0.0011793022276833653, Discriminator Loss: 0.0019570118747651577, Discriminator Accuracy: 0.9999045133590698\n",
      "Validation - Autoencoder Loss: 0.0026419071946293116, Discriminator Loss: 0.02793795056641102, Discriminator Accuracy: 0.9912424683570862\n"
     ]
    },
    {
     "name": "stderr",
     "output_type": "stream",
     "text": [
      "100%|██████████| 491/491 [02:15<00:00,  3.62it/s]\n"
     ]
    },
    {
     "name": "stdout",
     "output_type": "stream",
     "text": [
      "Epoch 82, Autoencoder Loss: 0.0011467969743534923, Discriminator Loss: 0.001698606531135738, Discriminator Accuracy: 0.9999681711196899\n",
      "Validation - Autoencoder Loss: 0.0026629692874848843, Discriminator Loss: 0.03276172652840614, Discriminator Accuracy: 0.9907266497612\n"
     ]
    },
    {
     "name": "stderr",
     "output_type": "stream",
     "text": [
      "100%|██████████| 491/491 [02:15<00:00,  3.64it/s]\n"
     ]
    },
    {
     "name": "stdout",
     "output_type": "stream",
     "text": [
      "Epoch 83, Autoencoder Loss: 0.0011453765910118818, Discriminator Loss: 0.0020545334555208683, Discriminator Accuracy: 1.0\n",
      "Validation - Autoencoder Loss: 0.0026010063011199236, Discriminator Loss: 0.022499674931168556, Discriminator Accuracy: 0.9919969439506531\n"
     ]
    },
    {
     "name": "stderr",
     "output_type": "stream",
     "text": [
      "100%|██████████| 491/491 [02:15<00:00,  3.63it/s]\n"
     ]
    },
    {
     "name": "stdout",
     "output_type": "stream",
     "text": [
      "Epoch 84, Autoencoder Loss: 0.0011390165891498327, Discriminator Loss: 9.810338087845594e-05, Discriminator Accuracy: 1.0\n",
      "Validation - Autoencoder Loss: 0.0026082051917910576, Discriminator Loss: 0.021981533616781235, Discriminator Accuracy: 0.9935213327407837\n"
     ]
    },
    {
     "name": "stderr",
     "output_type": "stream",
     "text": [
      "100%|██████████| 491/491 [02:15<00:00,  3.62it/s]\n"
     ]
    },
    {
     "name": "stdout",
     "output_type": "stream",
     "text": [
      "Epoch 85, Autoencoder Loss: 0.0011363666271790862, Discriminator Loss: 1.2405432244122494e-05, Discriminator Accuracy: 1.0\n",
      "Validation - Autoencoder Loss: 0.0027296370826661587, Discriminator Loss: 0.025437230244278908, Discriminator Accuracy: 0.9927591681480408\n"
     ]
    },
    {
     "name": "stderr",
     "output_type": "stream",
     "text": [
      "100%|██████████| 491/491 [02:15<00:00,  3.64it/s]\n"
     ]
    },
    {
     "name": "stdout",
     "output_type": "stream",
     "text": [
      "Epoch 86, Autoencoder Loss: 0.0011367921251803637, Discriminator Loss: 1.834547038015444e-05, Discriminator Accuracy: 1.0\n",
      "Validation - Autoencoder Loss: 0.002760226372629404, Discriminator Loss: 0.02317962422966957, Discriminator Accuracy: 0.9944105744361877\n"
     ]
    },
    {
     "name": "stderr",
     "output_type": "stream",
     "text": [
      "100%|██████████| 491/491 [02:15<00:00,  3.63it/s]\n"
     ]
    },
    {
     "name": "stdout",
     "output_type": "stream",
     "text": [
      "Epoch 87, Autoencoder Loss: 0.0011273464187979698, Discriminator Loss: 2.5642777927714633e-06, Discriminator Accuracy: 1.0\n",
      "Validation - Autoencoder Loss: 0.002607029862701893, Discriminator Loss: 0.0239558182656765, Discriminator Accuracy: 0.9935213327407837\n"
     ]
    },
    {
     "name": "stderr",
     "output_type": "stream",
     "text": [
      "100%|██████████| 491/491 [02:15<00:00,  3.63it/s]\n"
     ]
    },
    {
     "name": "stdout",
     "output_type": "stream",
     "text": [
      "Epoch 88, Autoencoder Loss: 0.0011149044148623943, Discriminator Loss: 0.0037073814310133457, Discriminator Accuracy: 0.9997454285621643\n",
      "Validation - Autoencoder Loss: 0.002700341632589698, Discriminator Loss: 0.03112955018877983, Discriminator Accuracy: 0.9900991320610046\n"
     ]
    },
    {
     "name": "stderr",
     "output_type": "stream",
     "text": [
      "100%|██████████| 491/491 [02:15<00:00,  3.63it/s]\n"
     ]
    },
    {
     "name": "stdout",
     "output_type": "stream",
     "text": [
      "Epoch 89, Autoencoder Loss: 0.0011213218094781041, Discriminator Loss: 0.001934352214448154, Discriminator Accuracy: 0.9999681711196899\n",
      "Validation - Autoencoder Loss: 0.002654817420989275, Discriminator Loss: 0.024894533678889275, Discriminator Accuracy: 0.9925127625465393\n"
     ]
    },
    {
     "name": "stderr",
     "output_type": "stream",
     "text": [
      "100%|██████████| 491/491 [02:14<00:00,  3.64it/s]\n"
     ]
    },
    {
     "name": "stdout",
     "output_type": "stream",
     "text": [
      "Epoch 90, Autoencoder Loss: 0.0011231863172724843, Discriminator Loss: 0.0007595755159854889, Discriminator Accuracy: 1.0\n",
      "Validation - Autoencoder Loss: 0.002777863061055541, Discriminator Loss: 0.027138080447912216, Discriminator Accuracy: 0.9931402206420898\n"
     ]
    },
    {
     "name": "stderr",
     "output_type": "stream",
     "text": [
      "100%|██████████| 491/491 [02:15<00:00,  3.63it/s]\n"
     ]
    },
    {
     "name": "stdout",
     "output_type": "stream",
     "text": [
      "Epoch 91, Autoencoder Loss: 0.0011015060590580106, Discriminator Loss: 0.0006594390142709017, Discriminator Accuracy: 1.0\n",
      "Validation - Autoencoder Loss: 0.002583099063485861, Discriminator Loss: 0.02598264440894127, Discriminator Accuracy: 0.9933943152427673\n"
     ]
    },
    {
     "name": "stderr",
     "output_type": "stream",
     "text": [
      "100%|██████████| 491/491 [02:15<00:00,  3.64it/s]\n"
     ]
    },
    {
     "name": "stdout",
     "output_type": "stream",
     "text": [
      "Epoch 92, Autoencoder Loss: 0.0010887670796364546, Discriminator Loss: 0.00011190178338438272, Discriminator Accuracy: 1.0\n",
      "Validation - Autoencoder Loss: 0.0028268727473914623, Discriminator Loss: 0.02650216966867447, Discriminator Accuracy: 0.993267297744751\n"
     ]
    },
    {
     "name": "stderr",
     "output_type": "stream",
     "text": [
      "100%|██████████| 491/491 [02:15<00:00,  3.63it/s]\n"
     ]
    },
    {
     "name": "stdout",
     "output_type": "stream",
     "text": [
      "Epoch 93, Autoencoder Loss: 0.0010973653988912702, Discriminator Loss: 0.0036698076874017715, Discriminator Accuracy: 0.9999681711196899\n",
      "Validation - Autoencoder Loss: 0.0026839859783649445, Discriminator Loss: 0.036699675023555756, Discriminator Accuracy: 0.9898374080657959\n"
     ]
    },
    {
     "name": "stderr",
     "output_type": "stream",
     "text": [
      "100%|██████████| 491/491 [02:14<00:00,  3.64it/s]\n"
     ]
    },
    {
     "name": "stdout",
     "output_type": "stream",
     "text": [
      "Epoch 94, Autoencoder Loss: 0.0010897339088842273, Discriminator Loss: 0.000705418293364346, Discriminator Accuracy: 1.0\n",
      "Validation - Autoencoder Loss: 0.002631046809256077, Discriminator Loss: 0.03177942335605621, Discriminator Accuracy: 0.9919969439506531\n"
     ]
    },
    {
     "name": "stderr",
     "output_type": "stream",
     "text": [
      "100%|██████████| 491/491 [02:15<00:00,  3.61it/s]\n"
     ]
    },
    {
     "name": "stdout",
     "output_type": "stream",
     "text": [
      "Epoch 95, Autoencoder Loss: 0.0010892103891819715, Discriminator Loss: 0.00025659380480647087, Discriminator Accuracy: 1.0\n",
      "Validation - Autoencoder Loss: 0.002662037033587694, Discriminator Loss: 0.030088597908616066, Discriminator Accuracy: 0.9926320910453796\n"
     ]
    },
    {
     "name": "stderr",
     "output_type": "stream",
     "text": [
      "100%|██████████| 491/491 [02:16<00:00,  3.61it/s]\n"
     ]
    },
    {
     "name": "stdout",
     "output_type": "stream",
     "text": [
      "Epoch 96, Autoencoder Loss: 0.0010792785324156284, Discriminator Loss: 0.00017965261940844357, Discriminator Accuracy: 1.0\n",
      "Validation - Autoencoder Loss: 0.002688185777515173, Discriminator Loss: 0.03265129774808884, Discriminator Accuracy: 0.9920046329498291\n"
     ]
    },
    {
     "name": "stderr",
     "output_type": "stream",
     "text": [
      "100%|██████████| 491/491 [02:15<00:00,  3.64it/s]\n"
     ]
    },
    {
     "name": "stdout",
     "output_type": "stream",
     "text": [
      "Epoch 97, Autoencoder Loss: 0.001104293973185122, Discriminator Loss: 0.0020955423824489117, Discriminator Accuracy: 0.9999681711196899\n",
      "Validation - Autoencoder Loss: 0.002576342551037669, Discriminator Loss: 0.031149931252002716, Discriminator Accuracy: 0.9903455376625061\n"
     ]
    },
    {
     "name": "stderr",
     "output_type": "stream",
     "text": [
      "100%|██████████| 491/491 [02:14<00:00,  3.64it/s]\n"
     ]
    },
    {
     "name": "stdout",
     "output_type": "stream",
     "text": [
      "Epoch 98, Autoencoder Loss: 0.0010531636653468013, Discriminator Loss: 0.003681598464027047, Discriminator Accuracy: 1.0\n",
      "Validation - Autoencoder Loss: 0.0026153887156397104, Discriminator Loss: 0.032696399837732315, Discriminator Accuracy: 0.9902185201644897\n"
     ]
    },
    {
     "name": "stderr",
     "output_type": "stream",
     "text": [
      "100%|██████████| 491/491 [02:21<00:00,  3.46it/s]\n"
     ]
    },
    {
     "name": "stdout",
     "output_type": "stream",
     "text": [
      "Epoch 99, Autoencoder Loss: 0.001069620018824935, Discriminator Loss: 0.0019890107214450836, Discriminator Accuracy: 0.9998090863227844\n",
      "Validation - Autoencoder Loss: 0.002797710010781884, Discriminator Loss: 0.05056334659457207, Discriminator Accuracy: 0.9878048896789551\n"
     ]
    }
   ],
   "source": [
    "autoencoder_losses_epoch = []\n",
    "discriminator_losses_epoch = []\n",
    "discriminator_acc_epoch = []\n",
    "val_autoencoder_losses_epoch = []\n",
    "val_discriminator_losses_epoch = []\n",
    "val_discriminator_acc_epoch = []\n",
    "\n",
    "for epoch in range(100):\n",
    "    # Initialize epoch-wise metrics\n",
    "    epoch_autoencoder_losses = []\n",
    "    epoch_discriminator_losses = []\n",
    "    epoch_discriminator_acc = []\n",
    "    epoch_val_autoencoder_losses = []\n",
    "    epoch_val_discriminator_losses = []\n",
    "    epoch_val_discriminator_acc = []\n",
    "\n",
    "    # Training loop\n",
    "    for idx, (batch_real, batch_label) in enumerate(tqdm(train_dataset)):\n",
    "        # Training steps\n",
    "        with tf.GradientTape() as autoencoder_tape, tf.GradientTape() as disc_tape:\n",
    "            latent_representation = encoder(batch_real)\n",
    "            generated_image = decoder(latent_representation)\n",
    "            loss_autoencoder = loss_fn_auto(batch_real, generated_image)\n",
    "            \n",
    "            fake = generated_image\n",
    "            loss_disc_real = loss_fn_disc(batch_label, discriminator(batch_real))\n",
    "            loss_disc_fake = loss_fn_disc(batch_label, discriminator(fake))\n",
    "            loss_disc = (loss_disc_real + loss_disc_fake) / 2\n",
    "\n",
    "        grads_autoencoder = autoencoder_tape.gradient(loss_autoencoder, autoencoder.trainable_weights)\n",
    "        opt_autoencoder.apply_gradients(zip(grads_autoencoder, autoencoder.trainable_weights))\n",
    "\n",
    "        grads_discriminator = disc_tape.gradient(loss_disc, discriminator.trainable_weights)\n",
    "        opt_disc.apply_gradients(zip(grads_discriminator, discriminator.trainable_weights))\n",
    "\n",
    "        # Store batch-wise metrics\n",
    "        epoch_autoencoder_losses.append(loss_autoencoder.numpy())\n",
    "        epoch_discriminator_losses.append(loss_disc.numpy())\n",
    "        epoch_discriminator_acc.append(tf.reduce_mean(tf.keras.metrics.categorical_accuracy(batch_label, discriminator(fake))).numpy())\n",
    "        if idx % 200 == 0:\n",
    "            img = tf.keras.preprocessing.image.array_to_img(fake[0])\n",
    "            img.save(f\"{save_dir}/generated_img_epoch_{epoch}_batch_{idx}.png\")\n",
    "\n",
    "    # Validation loop\n",
    "    for val_batch_real, val_batch_label in val_dataset:\n",
    "        val_latent_representation = encoder(val_batch_real)\n",
    "        val_generated_image = decoder(val_latent_representation)\n",
    "        val_loss_autoencoder = loss_fn_auto(val_batch_real, val_generated_image)\n",
    "        val_loss_disc_real = loss_fn_disc(val_batch_label, discriminator(val_batch_real))\n",
    "        val_loss_disc_fake = loss_fn_disc(val_batch_label, discriminator(val_generated_image))\n",
    "        val_loss_disc = (val_loss_disc_real + val_loss_disc_fake) / 2\n",
    "\n",
    "        # Calculate accuracy\n",
    "        val_discriminator_accuracy = tf.reduce_mean(tf.keras.metrics.categorical_accuracy(val_batch_label, discriminator(val_generated_image)))\n",
    "\n",
    "        # Store validation metrics\n",
    "        epoch_val_autoencoder_losses.append(val_loss_autoencoder.numpy())\n",
    "        epoch_val_discriminator_losses.append(val_loss_disc.numpy())\n",
    "        epoch_val_discriminator_acc.append(val_discriminator_accuracy.numpy())\n",
    "\n",
    "    # Calculate epoch-wise averages and append to the lists\n",
    "    avg_autoencoder_loss = np.mean(epoch_autoencoder_losses)\n",
    "    avg_discriminator_loss = np.mean(epoch_discriminator_losses)\n",
    "    avg_discriminator_acc = np.mean(epoch_discriminator_acc)\n",
    "    avg_val_autoencoder_loss = np.mean(epoch_val_autoencoder_losses)\n",
    "    avg_val_discriminator_loss = np.mean(epoch_val_discriminator_losses)\n",
    "    avg_val_discriminator_acc = np.mean(epoch_val_discriminator_acc)\n",
    "\n",
    "    autoencoder_losses_epoch.append(avg_autoencoder_loss)\n",
    "    discriminator_losses_epoch.append(avg_discriminator_loss)\n",
    "    discriminator_acc_epoch.append(avg_discriminator_acc)\n",
    "    val_autoencoder_losses_epoch.append(avg_val_autoencoder_loss)\n",
    "    val_discriminator_losses_epoch.append(avg_val_discriminator_loss)\n",
    "    val_discriminator_acc_epoch.append(avg_val_discriminator_acc)\n",
    "\n",
    "    # Print epoch-wise metrics\n",
    "    print(f\"Epoch {epoch}, Autoencoder Loss: {avg_autoencoder_loss}, Discriminator Loss: {avg_discriminator_loss}, Discriminator Accuracy: {avg_discriminator_acc}\")\n",
    "    print(f\"Validation - Autoencoder Loss: {avg_val_autoencoder_loss}, Discriminator Loss: {avg_val_discriminator_loss}, Discriminator Accuracy: {avg_val_discriminator_acc}\")\n"
   ]
  },
  {
   "cell_type": "code",
   "execution_count": 10,
   "id": "880a4236",
   "metadata": {
    "execution": {
     "iopub.execute_input": "2024-05-16T08:17:50.985603Z",
     "iopub.status.busy": "2024-05-16T08:17:50.985265Z",
     "iopub.status.idle": "2024-05-16T08:17:52.330783Z",
     "shell.execute_reply": "2024-05-16T08:17:52.329875Z"
    },
    "papermill": {
     "duration": 5.327677,
     "end_time": "2024-05-16T08:17:52.332780",
     "exception": false,
     "start_time": "2024-05-16T08:17:47.005103",
     "status": "completed"
    },
    "tags": []
   },
   "outputs": [
    {
     "data": {
      "image/png": "[encoded data removed]",
      "text/plain": [
       "<Figure size 1200x600 with 1 Axes>"
      ]
     },
     "metadata": {},
     "output_type": "display_data"
    },
    {
     "data": {
      "image/png": "[encoded data removed]",
      "text/plain": [
       "<Figure size 1200x600 with 1 Axes>"
      ]
     },
     "metadata": {},
     "output_type": "display_data"
    },
    {
     "data": {
      "image/png": "[encoded data removed]",
      "text/plain": [
       "<Figure size 1200x600 with 1 Axes>"
      ]
     },
     "metadata": {},
     "output_type": "display_data"
    }
   ],
   "source": [
    "import matplotlib.pyplot as plt\n",
    "\n",
    "# Plot autoencoder losses\n",
    "plt.figure(figsize=(12, 6))\n",
    "plt.plot(autoencoder_losses_epoch, label='Training Autoencoder Loss')\n",
    "plt.plot(val_autoencoder_losses_epoch, label='Validation Autoencoder Loss')\n",
    "plt.xlabel('Epoch')\n",
    "plt.ylabel('Loss')\n",
    "plt.title('Training and Validation Autoencoder Losses')\n",
    "plt.legend()\n",
    "plt.savefig('autoencoder_losses.png')  # Save the plot as an image\n",
    "plt.show()\n",
    "\n",
    "# Plot discriminator losses\n",
    "plt.figure(figsize=(12, 6))\n",
    "plt.plot(discriminator_losses_epoch, label='Training Discriminator Loss')\n",
    "plt.plot(val_discriminator_losses_epoch, label='Validation Discriminator Loss')\n",
    "plt.xlabel('Epoch')\n",
    "plt.ylabel('Loss')\n",
    "plt.title('Training and Validation Discriminator Losses')\n",
    "plt.legend()\n",
    "plt.savefig('discriminator_losses.png')  # Save the plot as an image\n",
    "plt.show()\n",
    "\n",
    "# Plot discriminator accuracy\n",
    "plt.figure(figsize=(12, 6))\n",
    "plt.plot(discriminator_acc_epoch, label='Training Discriminator Accuracy')\n",
    "plt.plot(val_discriminator_acc_epoch, label='Validation Discriminator Accuracy')\n",
    "plt.xlabel('Epoch')\n",
    "plt.ylabel('Accuracy')\n",
    "plt.title('Training and Validation Discriminator Accuracy')\n",
    "plt.legend()\n",
    "plt.savefig('discriminator_accuracy.png')  # Save the plot as an image\n",
    "plt.show()\n"
   ]
  },
  {
   "cell_type": "code",
   "execution_count": 11,
   "id": "70702caf",
   "metadata": {
    "execution": {
     "iopub.execute_input": "2024-05-16T08:18:00.368740Z",
     "iopub.status.busy": "2024-05-16T08:18:00.367893Z",
     "iopub.status.idle": "2024-05-16T08:18:01.597210Z",
     "shell.execute_reply": "2024-05-16T08:18:01.596298Z"
    },
    "papermill": {
     "duration": 5.223802,
     "end_time": "2024-05-16T08:18:01.599329",
     "exception": false,
     "start_time": "2024-05-16T08:17:56.375527",
     "status": "completed"
    },
    "tags": []
   },
   "outputs": [
    {
     "data": {
      "image/png": "[encoded data removed]",
      "text/plain": [
       "<Figure size 1200x600 with 1 Axes>"
      ]
     },
     "metadata": {},
     "output_type": "display_data"
    },
    {
     "data": {
      "image/png": "[encoded data removed]",
      "text/plain": [
       "<Figure size 1200x600 with 1 Axes>"
      ]
     },
     "metadata": {},
     "output_type": "display_data"
    },
    {
     "data": {
      "image/png": "[encoded data removed]",
      "text/plain": [
       "<Figure size 1200x600 with 1 Axes>"
      ]
     },
     "metadata": {},
     "output_type": "display_data"
    }
   ],
   "source": [
    "import matplotlib.pyplot as plt\n",
    "from matplotlib import rcParams\n",
    "\n",
    "# Set font properties\n",
    "rcParams['font.family'] = 'Times New Roman'\n",
    "rcParams['font.size'] = 12\n",
    "\n",
    "# Plot autoencoder losses\n",
    "plt.figure(figsize=(12, 6))\n",
    "plt.plot(autoencoder_losses_epoch, label='Training Autoencoder Loss')\n",
    "plt.plot(val_autoencoder_losses_epoch, label='Validation Autoencoder Loss')\n",
    "plt.xlabel('Epoch')\n",
    "plt.ylabel('Loss')\n",
    "plt.title('Training and Validation Autoencoder Losses')\n",
    "plt.legend()\n",
    "plt.savefig('autoencoder_losses12.png')  # Save the plot as an image\n",
    "plt.show()\n",
    "\n",
    "# Plot discriminator losses\n",
    "plt.figure(figsize=(12, 6))\n",
    "plt.plot(discriminator_losses_epoch, label='Training Discriminator Loss')\n",
    "plt.plot(val_discriminator_losses_epoch, label='Validation Discriminator Loss')\n",
    "plt.xlabel('Epoch')\n",
    "plt.ylabel('Loss')\n",
    "plt.title('Training and Validation Discriminator Losses')\n",
    "plt.legend()\n",
    "plt.savefig('discriminator_losses12.png')  # Save the plot as an image\n",
    "plt.show()\n",
    "\n",
    "# Plot discriminator accuracy\n",
    "plt.figure(figsize=(12, 6))\n",
    "plt.plot(discriminator_acc_epoch, label='Training Discriminator Accuracy')\n",
    "plt.plot(val_discriminator_acc_epoch, label='Validation Discriminator Accuracy')\n",
    "plt.xlabel('Epoch')\n",
    "plt.ylabel('Accuracy')\n",
    "plt.title('Training and Validation Discriminator Accuracy')\n",
    "plt.legend()\n",
    "plt.savefig('discriminator_accuracy12.png')  # Save the plot as an image\n",
    "plt.show()\n"
   ]
  },
  {
   "cell_type": "code",
   "execution_count": 12,
   "id": "82477116",
   "metadata": {
    "execution": {
     "iopub.execute_input": "2024-05-16T08:18:09.631957Z",
     "iopub.status.busy": "2024-05-16T08:18:09.631582Z",
     "iopub.status.idle": "2024-05-16T08:18:24.559628Z",
     "shell.execute_reply": "2024-05-16T08:18:24.558629Z"
    },
    "papermill": {
     "duration": 18.926337,
     "end_time": "2024-05-16T08:18:24.561515",
     "exception": false,
     "start_time": "2024-05-16T08:18:05.635178",
     "status": "completed"
    },
    "tags": []
   },
   "outputs": [
    {
     "name": "stdout",
     "output_type": "stream",
     "text": [
      "\u001b[1m 14/491\u001b[0m \u001b[37m━━━━━━━━━━━━━━━━━━━━\u001b[0m \u001b[1m6s\u001b[0m 13ms/step - accuracy: 1.0000 - loss: 3.9616e-04"
     ]
    },
    {
     "name": "stderr",
     "output_type": "stream",
     "text": [
      "WARNING: All log messages before absl::InitializeLog() is called are written to STDERR\n",
      "I0000 00:00:1715847493.240420      75 device_compiler.h:186] Compiled cluster using XLA!  This line is logged at most once for the lifetime of the process.\n"
     ]
    },
    {
     "name": "stdout",
     "output_type": "stream",
     "text": [
      "\u001b[1m491/491\u001b[0m \u001b[32m━━━━━━━━━━━━━━━━━━━━\u001b[0m\u001b[37m\u001b[0m \u001b[1m15s\u001b[0m 23ms/step - accuracy: 0.9994 - loss: 0.0043\n",
      "Train Result: [0.0037476441357284784, 0.9993942975997925]\n"
     ]
    }
   ],
   "source": [
    "# Evaluate the discriminator on the train data\n",
    "result = discriminator.evaluate(train_dataset)\n",
    "\n",
    "# Print the result\n",
    "print(f'Train Result: {result}')\n"
   ]
  },
  {
   "cell_type": "code",
   "execution_count": 13,
   "id": "cb26f19d",
   "metadata": {
    "execution": {
     "iopub.execute_input": "2024-05-16T08:18:32.757511Z",
     "iopub.status.busy": "2024-05-16T08:18:32.756770Z",
     "iopub.status.idle": "2024-05-16T08:20:23.229234Z",
     "shell.execute_reply": "2024-05-16T08:20:23.228354Z"
    },
    "papermill": {
     "duration": 114.564605,
     "end_time": "2024-05-16T08:20:23.231648",
     "exception": false,
     "start_time": "2024-05-16T08:18:28.667043",
     "status": "completed"
    },
    "tags": []
   },
   "outputs": [
    {
     "name": "stdout",
     "output_type": "stream",
     "text": [
      "Found 12630 validated image filenames belonging to 43 classes.\n"
     ]
    }
   ],
   "source": [
    "from tensorflow.keras.preprocessing.image import ImageDataGenerator\n",
    "\n",
    "# Convert numerical class labels to strings\n",
    "# Define the path to the test images\n",
    "import pandas as pd\n",
    "df = pd.read_csv('/kaggle/input/gtsrb-german-traffic-sign/Test.csv')\n",
    "test_dir = '/kaggle/input/gtsrb-german-traffic-sign/'\n",
    "\n",
    "df['ClassId'] = df['ClassId'].astype(str)\n",
    "\n",
    "# Define image data generator with preprocessing steps for test data\n",
    "test_datagen = ImageDataGenerator(rescale=1./255)\n",
    "\n",
    "# Flow from dataframe to preprocess test images\n",
    "test_generator = test_datagen.flow_from_dataframe(\n",
    "    df,\n",
    "    directory=test_dir,\n",
    "    x_col='Path',\n",
    "    y_col='ClassId',\n",
    "    target_size=(64, 64),\n",
    "    batch_size=len(df),\n",
    "    class_mode='categorical',  # 'categorical' returns one-hot encoded labels\n",
    "    shuffle=False  # Do not shuffle for evaluation\n",
    ")\n",
    "\n",
    "# Get preprocessed test images and labels\n",
    "X_test, y_test = next(test_generator)\n"
   ]
  },
  {
   "cell_type": "code",
   "execution_count": 14,
   "id": "ba06238d",
   "metadata": {
    "execution": {
     "iopub.execute_input": "2024-05-16T08:20:31.493556Z",
     "iopub.status.busy": "2024-05-16T08:20:31.493192Z",
     "iopub.status.idle": "2024-05-16T08:20:31.497510Z",
     "shell.execute_reply": "2024-05-16T08:20:31.496531Z"
    },
    "papermill": {
     "duration": 4.097964,
     "end_time": "2024-05-16T08:20:31.499410",
     "exception": false,
     "start_time": "2024-05-16T08:20:27.401446",
     "status": "completed"
    },
    "tags": []
   },
   "outputs": [],
   "source": [
    "#130 epoch 93 percent"
   ]
  },
  {
   "cell_type": "code",
   "execution_count": 15,
   "id": "ee0018f0",
   "metadata": {
    "execution": {
     "iopub.execute_input": "2024-05-16T08:20:39.606613Z",
     "iopub.status.busy": "2024-05-16T08:20:39.606236Z",
     "iopub.status.idle": "2024-05-16T08:20:47.447703Z",
     "shell.execute_reply": "2024-05-16T08:20:47.446665Z"
    },
    "papermill": {
     "duration": 11.904086,
     "end_time": "2024-05-16T08:20:47.449702",
     "exception": false,
     "start_time": "2024-05-16T08:20:35.545616",
     "status": "completed"
    },
    "tags": []
   },
   "outputs": [
    {
     "name": "stdout",
     "output_type": "stream",
     "text": [
      "\u001b[1m395/395\u001b[0m \u001b[32m━━━━━━━━━━━━━━━━━━━━\u001b[0m\u001b[37m\u001b[0m \u001b[1m6s\u001b[0m 11ms/step - accuracy: 0.9587 - loss: 0.3063\n",
      "Test Result: [0.32673218846321106, 0.958748996257782]\n"
     ]
    }
   ],
   "source": [
    "# Evaluate the discriminator on the test data   ##100 epoch\n",
    "result = discriminator.evaluate(X_test, y_test)\n",
    "\n",
    "# Print the result\n",
    "print(f'Test Result: {result}')\n"
   ]
  },
  {
   "cell_type": "code",
   "execution_count": 16,
   "id": "9020e633",
   "metadata": {
    "execution": {
     "iopub.execute_input": "2024-05-16T08:20:55.525965Z",
     "iopub.status.busy": "2024-05-16T08:20:55.525580Z",
     "iopub.status.idle": "2024-05-16T08:20:59.944861Z",
     "shell.execute_reply": "2024-05-16T08:20:59.943879Z"
    },
    "papermill": {
     "duration": 8.477549,
     "end_time": "2024-05-16T08:20:59.946863",
     "exception": false,
     "start_time": "2024-05-16T08:20:51.469314",
     "status": "completed"
    },
    "tags": []
   },
   "outputs": [
    {
     "name": "stdout",
     "output_type": "stream",
     "text": [
      "\u001b[1m395/395\u001b[0m \u001b[32m━━━━━━━━━━━━━━━━━━━━\u001b[0m\u001b[37m\u001b[0m \u001b[1m3s\u001b[0m 7ms/step - accuracy: 0.9587 - loss: 0.3063\n",
      "Test Result: [0.32673218846321106, 0.958748996257782]\n"
     ]
    }
   ],
   "source": [
    "# Evaluate the discriminator on the test data   #125 epoch\n",
    "result = discriminator.evaluate(X_test, y_test)\n",
    "\n",
    "# Print the result\n",
    "print(f'Test Result: {result}')\n"
   ]
  },
  {
   "cell_type": "code",
   "execution_count": 17,
   "id": "c6a7f1ab",
   "metadata": {
    "collapsed": true,
    "execution": {
     "iopub.execute_input": "2024-05-16T08:21:08.158442Z",
     "iopub.status.busy": "2024-05-16T08:21:08.157725Z",
     "iopub.status.idle": "2024-05-16T08:21:12.531169Z",
     "shell.execute_reply": "2024-05-16T08:21:12.530202Z"
    },
    "jupyter": {
     "outputs_hidden": true,
     "source_hidden": true
    },
    "papermill": {
     "duration": 8.418935,
     "end_time": "2024-05-16T08:21:12.533109",
     "exception": false,
     "start_time": "2024-05-16T08:21:04.114174",
     "status": "completed"
    },
    "tags": []
   },
   "outputs": [
    {
     "name": "stdout",
     "output_type": "stream",
     "text": [
      "\u001b[1m395/395\u001b[0m \u001b[32m━━━━━━━━━━━━━━━━━━━━\u001b[0m\u001b[37m\u001b[0m \u001b[1m3s\u001b[0m 7ms/step - accuracy: 0.9587 - loss: 0.3063\n",
      "Test Result: [0.32673218846321106, 0.958748996257782]\n"
     ]
    }
   ],
   "source": [
    "# Evaluate the discriminator on the test data  ##145 epoch\n",
    "result = discriminator.evaluate(X_test, y_test)\n",
    "\n",
    "# Print the result\n",
    "print(f'Test Result: {result}')\n"
   ]
  },
  {
   "cell_type": "code",
   "execution_count": 18,
   "id": "90f5a869",
   "metadata": {
    "execution": {
     "iopub.execute_input": "2024-05-16T08:21:20.685642Z",
     "iopub.status.busy": "2024-05-16T08:21:20.685285Z",
     "iopub.status.idle": "2024-05-16T08:21:20.784708Z",
     "shell.execute_reply": "2024-05-16T08:21:20.783821Z"
    },
    "papermill": {
     "duration": 4.205057,
     "end_time": "2024-05-16T08:21:20.786660",
     "exception": false,
     "start_time": "2024-05-16T08:21:16.581603",
     "status": "completed"
    },
    "tags": []
   },
   "outputs": [
    {
     "data": {
      "text/plain": [
       "'/kaggle/working/without_aug2.zip'"
      ]
     },
     "execution_count": 18,
     "metadata": {},
     "output_type": "execute_result"
    }
   ],
   "source": [
    "import shutil\n",
    "import os\n",
    "\n",
    "# Specify the folder path\n",
    "folder_path = '/kaggle/working/empty_folderf3'\n",
    "\n",
    "# Create a zip file\n",
    "shutil.make_archive(folder_path, 'zip', folder_path)\n",
    "\n",
    "# Move the zip file to the output directory\n",
    "output_path = '/kaggle/working/without_aug2.zip'\n",
    "shutil.move(folder_path + '.zip', output_path)\n",
    "\n",
    "# Display the download link\n",
    "output_path\n",
    "   "
   ]
  },
  {
   "cell_type": "code",
   "execution_count": 19,
   "id": "d5707a49",
   "metadata": {
    "execution": {
     "iopub.execute_input": "2024-05-16T08:21:28.884214Z",
     "iopub.status.busy": "2024-05-16T08:21:28.883853Z",
     "iopub.status.idle": "2024-05-16T08:21:29.041610Z",
     "shell.execute_reply": "2024-05-16T08:21:29.040597Z"
    },
    "papermill": {
     "duration": 4.194786,
     "end_time": "2024-05-16T08:21:29.044079",
     "exception": false,
     "start_time": "2024-05-16T08:21:24.849293",
     "status": "completed"
    },
    "tags": []
   },
   "outputs": [],
   "source": [
    "discriminator.save('d_aug_valf.h5')"
   ]
  },
  {
   "cell_type": "code",
   "execution_count": 20,
   "id": "adc10595",
   "metadata": {
    "execution": {
     "iopub.execute_input": "2024-05-16T08:21:37.216247Z",
     "iopub.status.busy": "2024-05-16T08:21:37.215899Z",
     "iopub.status.idle": "2024-05-16T08:21:42.151129Z",
     "shell.execute_reply": "2024-05-16T08:21:42.149878Z"
    },
    "papermill": {
     "duration": 8.97708,
     "end_time": "2024-05-16T08:21:42.153353",
     "exception": false,
     "start_time": "2024-05-16T08:21:33.176273",
     "status": "completed"
    },
    "tags": []
   },
   "outputs": [
    {
     "name": "stdout",
     "output_type": "stream",
     "text": [
      "\u001b[1m395/395\u001b[0m \u001b[32m━━━━━━━━━━━━━━━━━━━━\u001b[0m\u001b[37m\u001b[0m \u001b[1m3s\u001b[0m 7ms/step\n",
      "Precision: [0.95238095 0.90302267 0.99389313 0.97270471 0.98542274 0.99860335\n",
      " 1.         0.93243243 1.         1.         1.         0.92592593\n",
      " 0.98655914 0.76923077 1.         0.95967742 0.97916667 0.90909091\n",
      " 0.98910675 0.91752577 0.83333333 0.97202797 0.58992806 0.9628821\n",
      " 0.8        0.78635015 0.8        0.99056604 0.96774194 0.99481865\n",
      " 1.         0.95238095 0.99564586 0.92553191 0.99224806 0.90721649\n",
      " 0.80597015 0.9625     0.97470489 1.         0.96774194 0.91446029\n",
      " 0.99377593]\n",
      "Recall: [1.         0.99583333 0.98636364 0.93333333 0.97971014 0.99305556\n",
      " 1.         0.98571429 1.         0.99166667 0.87179487 0.83333333\n",
      " 0.97866667 1.         0.47777778 0.99166667 0.94       0.77777778\n",
      " 0.94583333 0.98888889 0.5        0.92666667 0.91111111 0.98\n",
      " 0.72       0.98148148 1.         1.         1.         0.98461538\n",
      " 0.925      1.         0.9942029  0.96666667 0.96969697 0.97777778\n",
      " 0.9        0.85555556 0.91746032 0.84666667 0.93333333 0.99777778\n",
      " 0.99791667]\n",
      "F1 Score: [0.97560976 0.94715984 0.99011407 0.95261239 0.98255814 0.99582173\n",
      " 1.         0.95833333 1.         0.9958159  0.93150685 0.87719298\n",
      " 0.98259705 0.86956522 0.64661654 0.97540984 0.95918367 0.83832335\n",
      " 0.96698616 0.95187166 0.625      0.94880546 0.71615721 0.97136564\n",
      " 0.75789474 0.87314662 0.88888889 0.99526066 0.98360656 0.98969072\n",
      " 0.96103896 0.97560976 0.99492386 0.94565217 0.98084291 0.94117647\n",
      " 0.8503937  0.90588235 0.94521668 0.91696751 0.95022624 0.95430393\n",
      " 0.995842  ]\n",
      "Support: [ 60 720 660 420 690 720 270 210 150 360 390  60 750  90  90 120 150  90\n",
      " 480 180  60 150  90 450 150 270  60 210 120 390 120  60 690  90 660  90\n",
      "  60  90 630 150 450 450 480]\n",
      "Average Precision: 0.9363853038090373\n",
      "Average Recall: 0.9292405940967619\n",
      "Average F1 Score: 0.9270970121627826\n"
     ]
    }
   ],
   "source": [
    "from sklearn.metrics import precision_recall_fscore_support\n",
    "\n",
    "# Assuming you have test data predictions stored in y_pred and true labels in y_true\n",
    "y_pred = discriminator.predict(X_test)\n",
    "y_true = np.argmax(y_test, axis=1)  # Convert one-hot encoded labels to class labels\n",
    "\n",
    "# Convert predicted probabilities to class labels\n",
    "y_pred_labels = np.argmax(y_pred, axis=1)\n",
    "\n",
    "# Calculate precision, recall, f1-score, and support for each class\n",
    "precision, recall, f1_score, support = precision_recall_fscore_support(y_true, y_pred_labels)\n",
    "\n",
    "# Average precision, recall, f1-score across all classes\n",
    "avg_precision = np.mean(precision)\n",
    "avg_recall = np.mean(recall)\n",
    "avg_f1_score = np.mean(f1_score)\n",
    "\n",
    "# Print results\n",
    "print(\"Precision:\", precision)\n",
    "print(\"Recall:\", recall)\n",
    "print(\"F1 Score:\", f1_score)\n",
    "print(\"Support:\", support)\n",
    "print(\"Average Precision:\", avg_precision)\n",
    "print(\"Average Recall:\", avg_recall)\n",
    "print(\"Average F1 Score:\", avg_f1_score)\n"
   ]
  }
 ],
 "metadata": {
  "kaggle": {
   "accelerator": "gpu",
   "dataSources": [
    {
     "datasetId": 82373,
     "sourceId": 191501,
     "sourceType": "datasetVersion"
    },
    {
     "datasetId": 3820936,
     "sourceId": 6620552,
     "sourceType": "datasetVersion"
    }
   ],
   "dockerImageVersionId": 30699,
   "isGpuEnabled": true,
   "isInternetEnabled": true,
   "language": "python",
   "sourceType": "notebook"
  },
  "kernelspec": {
   "display_name": "Python 3",
   "language": "python",
   "name": "python3"
  },
  "language_info": {
   "codemirror_mode": {
    "name": "ipython",
    "version": 3
   },
   "file_extension": ".py",
   "mimetype": "text/x-python",
   "name": "python",
   "nbconvert_exporter": "python",
   "pygments_lexer": "ipython3",
   "version": "3.10.13"
  },
  "papermill": {
   "default_parameters": {},
   "duration": 14943.554814,
   "end_time": "2024-05-16T08:21:48.158294",
   "environment_variables": {},
   "exception": null,
   "input_path": "__notebook__.ipynb",
   "output_path": "__notebook__.ipynb",
   "parameters": {},
   "start_time": "2024-05-16T04:12:44.603480",
   "version": "2.5.0"
  }
 },
 "nbformat": 4,
 "nbformat_minor": 5
}
