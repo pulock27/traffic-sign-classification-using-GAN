{
 "cells": [
  {
   "cell_type": "code",
   "execution_count": 1,
   "id": "5525bc27",
   "metadata": {
    "execution": {
     "iopub.execute_input": "2024-05-18T16:53:58.900488Z",
     "iopub.status.busy": "2024-05-18T16:53:58.900113Z",
     "iopub.status.idle": "2024-05-18T16:54:11.126037Z",
     "shell.execute_reply": "2024-05-18T16:54:11.125193Z"
    },
    "papermill": {
     "duration": 12.236103,
     "end_time": "2024-05-18T16:54:11.128483",
     "exception": false,
     "start_time": "2024-05-18T16:53:58.892380",
     "status": "completed"
    },
    "tags": []
   },
   "outputs": [
    {
     "name": "stderr",
     "output_type": "stream",
     "text": [
      "2024-05-18 16:54:00.635743: E external/local_xla/xla/stream_executor/cuda/cuda_dnn.cc:9261] Unable to register cuDNN factory: Attempting to register factory for plugin cuDNN when one has already been registered\n",
      "2024-05-18 16:54:00.635835: E external/local_xla/xla/stream_executor/cuda/cuda_fft.cc:607] Unable to register cuFFT factory: Attempting to register factory for plugin cuFFT when one has already been registered\n",
      "2024-05-18 16:54:00.768419: E external/local_xla/xla/stream_executor/cuda/cuda_blas.cc:1515] Unable to register cuBLAS factory: Attempting to register factory for plugin cuBLAS when one has already been registered\n"
     ]
    }
   ],
   "source": [
    "import tensorflow as tf\n",
    "import os\n",
    "import numpy as np\n",
    "from pathlib import Path\n",
    "from tensorflow import keras\n",
    "from tensorflow.keras import layers\n",
    "from tqdm import tqdm"
   ]
  },
  {
   "cell_type": "code",
   "execution_count": 2,
   "id": "b76ee15a",
   "metadata": {
    "execution": {
     "iopub.execute_input": "2024-05-18T16:54:11.142654Z",
     "iopub.status.busy": "2024-05-18T16:54:11.142069Z",
     "iopub.status.idle": "2024-05-18T16:54:11.147243Z",
     "shell.execute_reply": "2024-05-18T16:54:11.146472Z"
    },
    "papermill": {
     "duration": 0.014387,
     "end_time": "2024-05-18T16:54:11.149300",
     "exception": false,
     "start_time": "2024-05-18T16:54:11.134913",
     "status": "completed"
    },
    "tags": []
   },
   "outputs": [],
   "source": [
    "import os\n",
    "# Define the path for the empty folder\n",
    "folder_path = '/kaggle/working/empty_folderf3/'\n",
    "\n",
    "# Create the empty folder\n",
    "os.makedirs(folder_path, exist_ok=True)\n",
    "save_dir = ('/kaggle/working/empty_folderf3')\n"
   ]
  },
  {
   "cell_type": "code",
   "execution_count": 3,
   "id": "17d916f9",
   "metadata": {
    "execution": {
     "iopub.execute_input": "2024-05-18T16:54:11.162432Z",
     "iopub.status.busy": "2024-05-18T16:54:11.162132Z",
     "iopub.status.idle": "2024-05-18T16:54:33.241932Z",
     "shell.execute_reply": "2024-05-18T16:54:33.241156Z"
    },
    "papermill": {
     "duration": 22.089158,
     "end_time": "2024-05-18T16:54:33.244363",
     "exception": false,
     "start_time": "2024-05-18T16:54:11.155205",
     "status": "completed"
    },
    "tags": []
   },
   "outputs": [
    {
     "name": "stdout",
     "output_type": "stream",
     "text": [
      "Found 39209 files belonging to 43 classes.\n",
      "Using 31368 files for training.\n",
      "Found 39209 files belonging to 43 classes.\n",
      "Using 7841 files for validation.\n"
     ]
    }
   ],
   "source": [
    "from sklearn.model_selection import train_test_split\n",
    "\n",
    "# Split dataset into training and validation sets\n",
    "train_dir = '/kaggle/input/gtsrb-train/Train'\n",
    "train_data, val_data = train_test_split(os.listdir(train_dir), test_size=0.2, random_state=42)\n",
    "\n",
    "# Create training and validation datasets\n",
    "train_dataset = keras.preprocessing.image_dataset_from_directory(\n",
    "    directory=train_dir, \n",
    "    labels='inferred',  # Use inferred labels from directory structure\n",
    "    label_mode='categorical', \n",
    "    image_size=(64, 64), \n",
    "    batch_size=64,\n",
    "    shuffle=True,\n",
    "    validation_split=0.2,  # Percentage of data to use for validation\n",
    "    subset=\"training\",\n",
    "    seed=42  # Specify seed for reproducibility\n",
    ").map(lambda x, y: (x/255.0, y))  # Normalize the pixel values to [0, 1]\n",
    "\n",
    "val_dataset = keras.preprocessing.image_dataset_from_directory(\n",
    "    directory=train_dir, \n",
    "    labels='inferred',  # Use inferred labels from directory structure\n",
    "    label_mode='categorical', \n",
    "    image_size=(64, 64), \n",
    "    batch_size=64,\n",
    "    shuffle=True,\n",
    "    validation_split=0.2,  # Percentage of data to use for validation\n",
    "    subset=\"validation\",\n",
    "    seed=42  # Specify seed for reproducibility\n",
    ").map(lambda x, y: (x/255.0, y))  # Normalize the pixel values to [0, 1])\n"
   ]
  },
  {
   "cell_type": "code",
   "execution_count": 4,
   "id": "41f1cd6b",
   "metadata": {
    "execution": {
     "iopub.execute_input": "2024-05-18T16:54:33.259372Z",
     "iopub.status.busy": "2024-05-18T16:54:33.258862Z",
     "iopub.status.idle": "2024-05-18T16:54:33.262824Z",
     "shell.execute_reply": "2024-05-18T16:54:33.261951Z"
    },
    "papermill": {
     "duration": 0.013364,
     "end_time": "2024-05-18T16:54:33.264761",
     "exception": false,
     "start_time": "2024-05-18T16:54:33.251397",
     "status": "completed"
    },
    "tags": []
   },
   "outputs": [],
   "source": [
    "#nnnnnnneeeeewwwwwwwwww   mmmmooodeeel"
   ]
  },
  {
   "cell_type": "code",
   "execution_count": 5,
   "id": "89136920",
   "metadata": {
    "execution": {
     "iopub.execute_input": "2024-05-18T16:54:33.279333Z",
     "iopub.status.busy": "2024-05-18T16:54:33.278871Z",
     "iopub.status.idle": "2024-05-18T16:54:33.415840Z",
     "shell.execute_reply": "2024-05-18T16:54:33.414848Z"
    },
    "papermill": {
     "duration": 0.14693,
     "end_time": "2024-05-18T16:54:33.418239",
     "exception": false,
     "start_time": "2024-05-18T16:54:33.271309",
     "status": "completed"
    },
    "tags": []
   },
   "outputs": [],
   "source": [
    "latent_dim = 128\n",
    "\n",
    "# Encoder\n",
    "encoder = keras.Sequential([\n",
    "    layers.Input(shape=(64, 64, 3)),\n",
    "    layers.Conv2D(64, kernel_size=4, strides=2, padding=\"same\"),\n",
    "    layers.LeakyReLU(0.2),\n",
    "    layers.Conv2D(128, kernel_size=4, strides=2, padding=\"same\"),\n",
    "    layers.LeakyReLU(0.2),\n",
    "    layers.Conv2D(256, kernel_size=4, strides=2, padding=\"same\"),\n",
    "    layers.LeakyReLU(0.2),\n",
    "    layers.Conv2D(512, kernel_size=4, strides=2, padding=\"same\"),\n",
    "    layers.LeakyReLU(0.2),\n",
    "    layers.Flatten(),\n",
    "    layers.Dense(latent_dim)  # Latent representation\n",
    "])\n",
    "\n",
    "# Decoder\n",
    "decoder = keras.Sequential([\n",
    "    layers.Input(shape=(latent_dim,)),\n",
    "    layers.Dense(8*8*512),\n",
    "    layers.Reshape((8, 8, 512)),\n",
    "    layers.Conv2DTranspose(256, kernel_size=4, strides=2, padding=\"same\"),\n",
    "    layers.LeakyReLU(0.2),\n",
    "    layers.Conv2DTranspose(128, kernel_size=4, strides=2, padding=\"same\"),\n",
    "    layers.LeakyReLU(0.2),\n",
    "    layers.Conv2DTranspose(64, kernel_size=4, strides=2, padding=\"same\"),\n",
    "    layers.LeakyReLU(0.2),\n",
    "    layers.Conv2DTranspose(3, kernel_size=4,  padding=\"same\", activation=\"tanh\"),\n",
    "])\n",
    "\n",
    "# Full autoencoder model\n",
    "autoencoder = keras.Sequential([\n",
    "    layers.Input(shape=(64, 64, 3)),\n",
    "    encoder,\n",
    "    decoder\n",
    "])\n"
   ]
  },
  {
   "cell_type": "code",
   "execution_count": 6,
   "id": "976731af",
   "metadata": {
    "execution": {
     "iopub.execute_input": "2024-05-18T16:54:33.436262Z",
     "iopub.status.busy": "2024-05-18T16:54:33.435895Z",
     "iopub.status.idle": "2024-05-18T16:54:33.440088Z",
     "shell.execute_reply": "2024-05-18T16:54:33.439179Z"
    },
    "papermill": {
     "duration": 0.015554,
     "end_time": "2024-05-18T16:54:33.442260",
     "exception": false,
     "start_time": "2024-05-18T16:54:33.426706",
     "status": "completed"
    },
    "tags": []
   },
   "outputs": [],
   "source": [
    "from tensorflow.keras import layers, models, optimizers"
   ]
  },
  {
   "cell_type": "code",
   "execution_count": 7,
   "id": "6627bf8d",
   "metadata": {
    "execution": {
     "iopub.execute_input": "2024-05-18T16:54:33.456739Z",
     "iopub.status.busy": "2024-05-18T16:54:33.456456Z",
     "iopub.status.idle": "2024-05-18T16:54:33.486035Z",
     "shell.execute_reply": "2024-05-18T16:54:33.485092Z"
    },
    "papermill": {
     "duration": 0.039495,
     "end_time": "2024-05-18T16:54:33.488317",
     "exception": false,
     "start_time": "2024-05-18T16:54:33.448822",
     "status": "completed"
    },
    "tags": []
   },
   "outputs": [
    {
     "name": "stderr",
     "output_type": "stream",
     "text": [
      "/opt/conda/lib/python3.10/site-packages/keras/src/layers/convolutional/base_conv.py:99: UserWarning: Do not pass an `input_shape`/`input_dim` argument to a layer. When using Sequential models, prefer using an `Input(shape)` object as the first layer in the model instead.\n",
      "  super().__init__(\n"
     ]
    }
   ],
   "source": [
    "import tensorflow as tf\n",
    "\n",
    "class CustomModel(tf.keras.Model):\n",
    "    def __init__(self):\n",
    "        super(CustomModel, self).__init__()\n",
    "        \n",
    "        # Define layers\n",
    "        self.conv1 = tf.keras.layers.Conv2D(250, kernel_size=7, activation='relu', input_shape=(48, 48, 3))\n",
    "        self.pool1 = tf.keras.layers.MaxPooling2D(pool_size=2)\n",
    "        #self.norm1 = tf.keras.layers.BatchNormalization()\n",
    "        \n",
    "        self.conv2 = tf.keras.layers.Conv2D(300, kernel_size=4, activation='relu')\n",
    "        self.pool2 = tf.keras.layers.MaxPooling2D(pool_size=2)\n",
    "       # self.norm2 = tf.keras.layers.BatchNormalization()\n",
    "        \n",
    "        \n",
    "        self.conv4 = tf.keras.layers.Conv2D(400, kernel_size=4, activation='relu')\n",
    "        self.pool4 = tf.keras.layers.MaxPooling2D(pool_size=2)\n",
    "        #self.norm4 = tf.keras.layers.BatchNormalization()\n",
    "        \n",
    "        self.flatten = tf.keras.layers.Flatten()\n",
    "    \n",
    "        self.fc1 = tf.keras.layers.Dense(450, activation='relu')\n",
    "        self.dropout1 = tf.keras.layers.Dropout(0.4)  # Dropout layer\n",
    "        self.fc2 = tf.keras.layers.Dense(250, activation='relu')\n",
    "        self.dropout2 = tf.keras.layers.Dropout(0.4)  # Dropout layer\n",
    "        self.fc3 = tf.keras.layers.Dense(43, activation='softmax')\n",
    "    \n",
    "    def call(self, inputs):\n",
    "        # Forward pass\n",
    "        x = self.conv1(inputs)\n",
    "        x = self.pool1(x)\n",
    "        #x = self.norm1(x)\n",
    "        x = self.conv2(x)\n",
    "        x = self.pool2(x)\n",
    "        #x = self.norm2(x)\n",
    "        #x = self.conv3(x)\n",
    "        #x = self.pool3(x)\n",
    "        #x = self.norm3(x)\n",
    "        x = self.conv4(x)\n",
    "        x = self.pool4(x)\n",
    "        #x = self.norm4(x)\n",
    "        x = self.flatten(x)\n",
    "        x = self.fc1(x)\n",
    "        x = self.dropout1(x)  # Dropout layer\n",
    "        x = self.fc2(x)\n",
    "        x = self.dropout2(x)  # Dropout layer\n",
    "        x = self.fc3(x)\n",
    "        return x\n",
    "\n",
    "# Create an instance of the model\n",
    "discriminator = CustomModel()\n"
   ]
  },
  {
   "cell_type": "code",
   "execution_count": 8,
   "id": "acbf4338",
   "metadata": {
    "execution": {
     "iopub.execute_input": "2024-05-18T16:54:33.502866Z",
     "iopub.status.busy": "2024-05-18T16:54:33.502602Z",
     "iopub.status.idle": "2024-05-18T16:54:33.519619Z",
     "shell.execute_reply": "2024-05-18T16:54:33.518866Z"
    },
    "papermill": {
     "duration": 0.026552,
     "end_time": "2024-05-18T16:54:33.521566",
     "exception": false,
     "start_time": "2024-05-18T16:54:33.495014",
     "status": "completed"
    },
    "tags": []
   },
   "outputs": [],
   "source": [
    "# Loss functions\n",
    "loss_fn_auto = tf.keras.losses.MeanSquaredError()\n",
    "loss_fn_disc = tf.keras.losses.CategoricalCrossentropy()\n",
    "\n",
    "# Optimizers\n",
    "opt_autoencoder = tf.keras.optimizers.Adam(learning_rate=0.0001, beta_1=0.5)\n",
    "opt_disc = tf.keras.optimizers.Adam(learning_rate=0.0001, beta_1=0.5)\n",
    "\n",
    "\n",
    "# Compile the autoencoder model\n",
    "autoencoder.compile(optimizer=opt_autoencoder, loss=loss_fn_auto)\n",
    "\n",
    "# Compile the discriminator model\n",
    "discriminator.compile(optimizer=opt_disc, loss=loss_fn_disc, metrics=['accuracy'])"
   ]
  },
  {
   "cell_type": "code",
   "execution_count": 9,
   "id": "fb659210",
   "metadata": {
    "execution": {
     "iopub.execute_input": "2024-05-18T16:54:33.536518Z",
     "iopub.status.busy": "2024-05-18T16:54:33.536158Z",
     "iopub.status.idle": "2024-05-18T20:54:21.508429Z",
     "shell.execute_reply": "2024-05-18T20:54:21.507109Z"
    },
    "papermill": {
     "duration": 14387.98263,
     "end_time": "2024-05-18T20:54:21.510785",
     "exception": false,
     "start_time": "2024-05-18T16:54:33.528155",
     "status": "completed"
    },
    "tags": []
   },
   "outputs": [
    {
     "name": "stderr",
     "output_type": "stream",
     "text": [
      "100%|██████████| 491/491 [02:30<00:00,  3.25it/s]\n"
     ]
    },
    {
     "name": "stdout",
     "output_type": "stream",
     "text": [
      "Epoch 0, Autoencoder Loss: 0.025665726512670517, Discriminator Loss: 2.2451584339141846, Discriminator Accuracy: 0.23440682888031006\n",
      "Validation - Autoencoder Loss: 0.016789685934782028, Discriminator Loss: 1.6905790567398071, Discriminator Accuracy: 0.31190717220306396\n"
     ]
    },
    {
     "name": "stderr",
     "output_type": "stream",
     "text": [
      "100%|██████████| 491/491 [02:16<00:00,  3.59it/s]\n"
     ]
    },
    {
     "name": "stdout",
     "output_type": "stream",
     "text": [
      "Epoch 1, Autoencoder Loss: 0.011564072221517563, Discriminator Loss: 0.6923393607139587, Discriminator Accuracy: 0.7509546875953674\n",
      "Validation - Autoencoder Loss: 0.010234017856419086, Discriminator Loss: 0.5250333547592163, Discriminator Accuracy: 0.728577733039856\n"
     ]
    },
    {
     "name": "stderr",
     "output_type": "stream",
     "text": [
      "100%|██████████| 491/491 [02:15<00:00,  3.63it/s]\n"
     ]
    },
    {
     "name": "stdout",
     "output_type": "stream",
     "text": [
      "Epoch 2, Autoencoder Loss: 0.00795955304056406, Discriminator Loss: 0.2691417932510376, Discriminator Accuracy: 0.9360361695289612\n",
      "Validation - Autoencoder Loss: 0.007617279887199402, Discriminator Loss: 0.2382865995168686, Discriminator Accuracy: 0.8854628801345825\n"
     ]
    },
    {
     "name": "stderr",
     "output_type": "stream",
     "text": [
      "100%|██████████| 491/491 [02:16<00:00,  3.60it/s]\n"
     ]
    },
    {
     "name": "stdout",
     "output_type": "stream",
     "text": [
      "Epoch 3, Autoencoder Loss: 0.007448586635291576, Discriminator Loss: 0.169979989528656, Discriminator Accuracy: 0.9700547456741333\n",
      "Validation - Autoencoder Loss: 0.006099733989685774, Discriminator Loss: 0.25036150217056274, Discriminator Accuracy: 0.8943396806716919\n"
     ]
    },
    {
     "name": "stderr",
     "output_type": "stream",
     "text": [
      "100%|██████████| 491/491 [02:15<00:00,  3.63it/s]\n"
     ]
    },
    {
     "name": "stdout",
     "output_type": "stream",
     "text": [
      "Epoch 4, Autoencoder Loss: 0.005421276669949293, Discriminator Loss: 0.06851974874734879, Discriminator Accuracy: 0.9940491318702698\n",
      "Validation - Autoencoder Loss: 0.005218675825744867, Discriminator Loss: 0.0906168594956398, Discriminator Accuracy: 0.9644385576248169\n"
     ]
    },
    {
     "name": "stderr",
     "output_type": "stream",
     "text": [
      "100%|██████████| 491/491 [02:14<00:00,  3.64it/s]\n"
     ]
    },
    {
     "name": "stdout",
     "output_type": "stream",
     "text": [
      "Epoch 5, Autoencoder Loss: 0.004882578272372484, Discriminator Loss: 0.041703566908836365, Discriminator Accuracy: 0.9982497692108154\n",
      "Validation - Autoencoder Loss: 0.004668127745389938, Discriminator Loss: 0.0706077441573143, Discriminator Accuracy: 0.9715524315834045\n"
     ]
    },
    {
     "name": "stderr",
     "output_type": "stream",
     "text": [
      "100%|██████████| 491/491 [02:14<00:00,  3.64it/s]\n"
     ]
    },
    {
     "name": "stdout",
     "output_type": "stream",
     "text": [
      "Epoch 6, Autoencoder Loss: 0.004368133377283812, Discriminator Loss: 0.026782328262925148, Discriminator Accuracy: 0.9992998838424683\n",
      "Validation - Autoencoder Loss: 0.0043939449824392796, Discriminator Loss: 0.06037008762359619, Discriminator Accuracy: 0.9805639982223511\n"
     ]
    },
    {
     "name": "stderr",
     "output_type": "stream",
     "text": [
      "100%|██████████| 491/491 [02:15<00:00,  3.61it/s]\n"
     ]
    },
    {
     "name": "stdout",
     "output_type": "stream",
     "text": [
      "Epoch 7, Autoencoder Loss: 0.004066709894686937, Discriminator Loss: 0.028907321393489838, Discriminator Accuracy: 0.9991726279258728\n",
      "Validation - Autoencoder Loss: 0.004413619637489319, Discriminator Loss: 0.059834614396095276, Discriminator Accuracy: 0.9786585569381714\n"
     ]
    },
    {
     "name": "stderr",
     "output_type": "stream",
     "text": [
      "100%|██████████| 491/491 [02:16<00:00,  3.60it/s]\n"
     ]
    },
    {
     "name": "stdout",
     "output_type": "stream",
     "text": [
      "Epoch 8, Autoencoder Loss: 0.00371664110571146, Discriminator Loss: 0.014425596222281456, Discriminator Accuracy: 0.9998726844787598\n",
      "Validation - Autoencoder Loss: 0.0042547560296952724, Discriminator Loss: 0.05221359059214592, Discriminator Accuracy: 0.9832394123077393\n"
     ]
    },
    {
     "name": "stderr",
     "output_type": "stream",
     "text": [
      "100%|██████████| 491/491 [02:14<00:00,  3.64it/s]\n"
     ]
    },
    {
     "name": "stdout",
     "output_type": "stream",
     "text": [
      "Epoch 9, Autoencoder Loss: 0.003521110862493515, Discriminator Loss: 0.01053303387016058, Discriminator Accuracy: 0.9998090863227844\n",
      "Validation - Autoencoder Loss: 0.004972652066498995, Discriminator Loss: 0.06641414761543274, Discriminator Accuracy: 0.9726880192756653\n"
     ]
    },
    {
     "name": "stderr",
     "output_type": "stream",
     "text": [
      "100%|██████████| 491/491 [02:14<00:00,  3.64it/s]\n"
     ]
    },
    {
     "name": "stdout",
     "output_type": "stream",
     "text": [
      "Epoch 10, Autoencoder Loss: 0.006069631315767765, Discriminator Loss: 0.08463264256715775, Discriminator Accuracy: 0.9829429984092712\n",
      "Validation - Autoencoder Loss: 0.004167323000729084, Discriminator Loss: 0.08429557830095291, Discriminator Accuracy: 0.9696469306945801\n"
     ]
    },
    {
     "name": "stderr",
     "output_type": "stream",
     "text": [
      "100%|██████████| 491/491 [02:15<00:00,  3.63it/s]\n"
     ]
    },
    {
     "name": "stdout",
     "output_type": "stream",
     "text": [
      "Epoch 11, Autoencoder Loss: 0.003507397137582302, Discriminator Loss: 0.014474528841674328, Discriminator Accuracy: 0.9999681711196899\n",
      "Validation - Autoencoder Loss: 0.004051628988236189, Discriminator Loss: 0.05221286416053772, Discriminator Accuracy: 0.9845097064971924\n"
     ]
    },
    {
     "name": "stderr",
     "output_type": "stream",
     "text": [
      "100%|██████████| 491/491 [02:15<00:00,  3.64it/s]\n"
     ]
    },
    {
     "name": "stdout",
     "output_type": "stream",
     "text": [
      "Epoch 12, Autoencoder Loss: 0.003190096467733383, Discriminator Loss: 0.0061541055329144, Discriminator Accuracy: 0.9999363422393799\n",
      "Validation - Autoencoder Loss: 0.00360446167178452, Discriminator Loss: 0.045160047709941864, Discriminator Accuracy: 0.9890751838684082\n"
     ]
    },
    {
     "name": "stderr",
     "output_type": "stream",
     "text": [
      "100%|██████████| 491/491 [02:14<00:00,  3.64it/s]\n"
     ]
    },
    {
     "name": "stdout",
     "output_type": "stream",
     "text": [
      "Epoch 13, Autoencoder Loss: 0.003056736197322607, Discriminator Loss: 0.006413859780877829, Discriminator Accuracy: 0.9999045133590698\n",
      "Validation - Autoencoder Loss: 0.0032824287191033363, Discriminator Loss: 0.08518479019403458, Discriminator Accuracy: 0.9734578728675842\n"
     ]
    },
    {
     "name": "stderr",
     "output_type": "stream",
     "text": [
      "100%|██████████| 491/491 [02:14<00:00,  3.64it/s]\n"
     ]
    },
    {
     "name": "stdout",
     "output_type": "stream",
     "text": [
      "Epoch 14, Autoencoder Loss: 0.002978445263579488, Discriminator Loss: 0.01071255374699831, Discriminator Accuracy: 0.9997772574424744\n",
      "Validation - Autoencoder Loss: 0.003061693161725998, Discriminator Loss: 0.06609803438186646, Discriminator Accuracy: 0.9803176522254944\n"
     ]
    },
    {
     "name": "stderr",
     "output_type": "stream",
     "text": [
      "100%|██████████| 491/491 [02:14<00:00,  3.64it/s]\n"
     ]
    },
    {
     "name": "stdout",
     "output_type": "stream",
     "text": [
      "Epoch 15, Autoencoder Loss: 0.0028573116287589073, Discriminator Loss: 0.009760706685483456, Discriminator Accuracy: 0.9998090863227844\n",
      "Validation - Autoencoder Loss: 0.004595673643052578, Discriminator Loss: 0.0551597960293293, Discriminator Accuracy: 0.9799288511276245\n"
     ]
    },
    {
     "name": "stderr",
     "output_type": "stream",
     "text": [
      "100%|██████████| 491/491 [02:16<00:00,  3.59it/s]\n"
     ]
    },
    {
     "name": "stdout",
     "output_type": "stream",
     "text": [
      "Epoch 16, Autoencoder Loss: 0.0028047652449458838, Discriminator Loss: 0.008029776625335217, Discriminator Accuracy: 0.9998409152030945\n",
      "Validation - Autoencoder Loss: 0.004193279426544905, Discriminator Loss: 0.049700524657964706, Discriminator Accuracy: 0.9858993887901306\n"
     ]
    },
    {
     "name": "stderr",
     "output_type": "stream",
     "text": [
      "100%|██████████| 491/491 [02:15<00:00,  3.61it/s]\n"
     ]
    },
    {
     "name": "stdout",
     "output_type": "stream",
     "text": [
      "Epoch 17, Autoencoder Loss: 0.0026991618797183037, Discriminator Loss: 0.010995659045875072, Discriminator Accuracy: 0.9998726844787598\n",
      "Validation - Autoencoder Loss: 0.002896393183618784, Discriminator Loss: 0.036554329097270966, Discriminator Accuracy: 0.9888211488723755\n"
     ]
    },
    {
     "name": "stderr",
     "output_type": "stream",
     "text": [
      "100%|██████████| 491/491 [02:15<00:00,  3.62it/s]\n"
     ]
    },
    {
     "name": "stdout",
     "output_type": "stream",
     "text": [
      "Epoch 18, Autoencoder Loss: 0.002626554574817419, Discriminator Loss: 0.00567273236811161, Discriminator Accuracy: 0.9999681711196899\n",
      "Validation - Autoencoder Loss: 0.0029143246356397867, Discriminator Loss: 0.04146623983979225, Discriminator Accuracy: 0.9874237775802612\n"
     ]
    },
    {
     "name": "stderr",
     "output_type": "stream",
     "text": [
      "100%|██████████| 491/491 [02:15<00:00,  3.63it/s]\n"
     ]
    },
    {
     "name": "stdout",
     "output_type": "stream",
     "text": [
      "Epoch 19, Autoencoder Loss: 0.002557470928877592, Discriminator Loss: 0.00730725796893239, Discriminator Accuracy: 0.9997454285621643\n",
      "Validation - Autoencoder Loss: 0.002919637132436037, Discriminator Loss: 0.050480689853429794, Discriminator Accuracy: 0.986026406288147\n"
     ]
    },
    {
     "name": "stderr",
     "output_type": "stream",
     "text": [
      "100%|██████████| 491/491 [02:15<00:00,  3.63it/s]\n"
     ]
    },
    {
     "name": "stdout",
     "output_type": "stream",
     "text": [
      "Epoch 20, Autoencoder Loss: 0.002482207491993904, Discriminator Loss: 0.00448966771364212, Discriminator Accuracy: 0.9999363422393799\n",
      "Validation - Autoencoder Loss: 0.002847027499228716, Discriminator Loss: 0.04030746966600418, Discriminator Accuracy: 0.986026406288147\n"
     ]
    },
    {
     "name": "stderr",
     "output_type": "stream",
     "text": [
      "100%|██████████| 491/491 [02:15<00:00,  3.64it/s]\n"
     ]
    },
    {
     "name": "stdout",
     "output_type": "stream",
     "text": [
      "Epoch 21, Autoencoder Loss: 0.002417536685243249, Discriminator Loss: 0.013199306093156338, Discriminator Accuracy: 0.9998090863227844\n",
      "Validation - Autoencoder Loss: 0.002707497216761112, Discriminator Loss: 0.03382212296128273, Discriminator Accuracy: 0.989456295967102\n"
     ]
    },
    {
     "name": "stderr",
     "output_type": "stream",
     "text": [
      "100%|██████████| 491/491 [02:15<00:00,  3.64it/s]\n"
     ]
    },
    {
     "name": "stdout",
     "output_type": "stream",
     "text": [
      "Epoch 22, Autoencoder Loss: 0.0023706224747002125, Discriminator Loss: 0.0020404511597007513, Discriminator Accuracy: 1.0\n",
      "Validation - Autoencoder Loss: 0.00298885116353631, Discriminator Loss: 0.08068309724330902, Discriminator Accuracy: 0.9756097793579102\n"
     ]
    },
    {
     "name": "stderr",
     "output_type": "stream",
     "text": [
      "100%|██████████| 491/491 [02:15<00:00,  3.63it/s]\n"
     ]
    },
    {
     "name": "stdout",
     "output_type": "stream",
     "text": [
      "Epoch 23, Autoencoder Loss: 0.002272428246214986, Discriminator Loss: 0.005769012030214071, Discriminator Accuracy: 0.9998726844787598\n",
      "Validation - Autoencoder Loss: 0.003088792320340872, Discriminator Loss: 0.04122791811823845, Discriminator Accuracy: 0.9884400367736816\n"
     ]
    },
    {
     "name": "stderr",
     "output_type": "stream",
     "text": [
      "100%|██████████| 491/491 [02:21<00:00,  3.46it/s]\n"
     ]
    },
    {
     "name": "stdout",
     "output_type": "stream",
     "text": [
      "Epoch 24, Autoencoder Loss: 0.002235321793705225, Discriminator Loss: 0.0052253855392336845, Discriminator Accuracy: 0.9999045133590698\n",
      "Validation - Autoencoder Loss: 0.0026410063728690147, Discriminator Loss: 0.046919651329517365, Discriminator Accuracy: 0.9879319071769714\n"
     ]
    },
    {
     "name": "stderr",
     "output_type": "stream",
     "text": [
      "100%|██████████| 491/491 [02:14<00:00,  3.64it/s]\n"
     ]
    },
    {
     "name": "stdout",
     "output_type": "stream",
     "text": [
      "Epoch 25, Autoencoder Loss: 0.002180100418627262, Discriminator Loss: 0.008907106705009937, Discriminator Accuracy: 0.9998409152030945\n",
      "Validation - Autoencoder Loss: 0.0027318319771438837, Discriminator Loss: 0.0357031375169754, Discriminator Accuracy: 0.9884477257728577\n"
     ]
    },
    {
     "name": "stderr",
     "output_type": "stream",
     "text": [
      "100%|██████████| 491/491 [02:14<00:00,  3.65it/s]\n"
     ]
    },
    {
     "name": "stdout",
     "output_type": "stream",
     "text": [
      "Epoch 26, Autoencoder Loss: 0.0021292702294886112, Discriminator Loss: 0.0024877001997083426, Discriminator Accuracy: 1.0\n",
      "Validation - Autoencoder Loss: 0.0026778648607432842, Discriminator Loss: 0.035149503499269485, Discriminator Accuracy: 0.9909883737564087\n"
     ]
    },
    {
     "name": "stderr",
     "output_type": "stream",
     "text": [
      "100%|██████████| 491/491 [02:15<00:00,  3.63it/s]\n"
     ]
    },
    {
     "name": "stdout",
     "output_type": "stream",
     "text": [
      "Epoch 27, Autoencoder Loss: 0.0020649947691708803, Discriminator Loss: 0.0022204306442290545, Discriminator Accuracy: 0.9998090863227844\n",
      "Validation - Autoencoder Loss: 0.0026238986756652594, Discriminator Loss: 0.06293214112520218, Discriminator Accuracy: 0.9828583002090454\n"
     ]
    },
    {
     "name": "stderr",
     "output_type": "stream",
     "text": [
      "100%|██████████| 491/491 [02:15<00:00,  3.62it/s]\n"
     ]
    },
    {
     "name": "stdout",
     "output_type": "stream",
     "text": [
      "Epoch 28, Autoencoder Loss: 0.00203136820346117, Discriminator Loss: 0.005346809979528189, Discriminator Accuracy: 0.9999363422393799\n",
      "Validation - Autoencoder Loss: 0.0026198192499578, Discriminator Loss: 0.04876391589641571, Discriminator Accuracy: 0.9855182766914368\n"
     ]
    },
    {
     "name": "stderr",
     "output_type": "stream",
     "text": [
      "100%|██████████| 491/491 [02:15<00:00,  3.63it/s]\n"
     ]
    },
    {
     "name": "stdout",
     "output_type": "stream",
     "text": [
      "Epoch 29, Autoencoder Loss: 0.001971984514966607, Discriminator Loss: 0.0022317366674542427, Discriminator Accuracy: 1.0\n",
      "Validation - Autoencoder Loss: 0.0034540726337581873, Discriminator Loss: 0.04373902454972267, Discriminator Accuracy: 0.9878202676773071\n"
     ]
    },
    {
     "name": "stderr",
     "output_type": "stream",
     "text": [
      "100%|██████████| 491/491 [02:14<00:00,  3.66it/s]\n"
     ]
    },
    {
     "name": "stdout",
     "output_type": "stream",
     "text": [
      "Epoch 30, Autoencoder Loss: 0.001962555106729269, Discriminator Loss: 0.00273716077208519, Discriminator Accuracy: 0.9999363422393799\n",
      "Validation - Autoencoder Loss: 0.0026973923668265343, Discriminator Loss: 0.038350798189640045, Discriminator Accuracy: 0.9902185201644897\n"
     ]
    },
    {
     "name": "stderr",
     "output_type": "stream",
     "text": [
      "100%|██████████| 491/491 [02:13<00:00,  3.68it/s]\n"
     ]
    },
    {
     "name": "stdout",
     "output_type": "stream",
     "text": [
      "Epoch 31, Autoencoder Loss: 0.0018947131466120481, Discriminator Loss: 0.0038488430436700583, Discriminator Accuracy: 0.9999045133590698\n",
      "Validation - Autoencoder Loss: 0.002596189035102725, Discriminator Loss: 0.03656253218650818, Discriminator Accuracy: 0.989456295967102\n"
     ]
    },
    {
     "name": "stderr",
     "output_type": "stream",
     "text": [
      "100%|██████████| 491/491 [02:13<00:00,  3.68it/s]\n"
     ]
    },
    {
     "name": "stdout",
     "output_type": "stream",
     "text": [
      "Epoch 32, Autoencoder Loss: 0.0018530050292611122, Discriminator Loss: 0.0028785523027181625, Discriminator Accuracy: 0.9999045133590698\n",
      "Validation - Autoencoder Loss: 0.002891040872782469, Discriminator Loss: 0.0505303218960762, Discriminator Accuracy: 0.9876778721809387\n"
     ]
    },
    {
     "name": "stderr",
     "output_type": "stream",
     "text": [
      "100%|██████████| 491/491 [02:13<00:00,  3.68it/s]\n"
     ]
    },
    {
     "name": "stdout",
     "output_type": "stream",
     "text": [
      "Epoch 33, Autoencoder Loss: 0.0018423281144350767, Discriminator Loss: 0.007101410999894142, Discriminator Accuracy: 0.9998409152030945\n",
      "Validation - Autoencoder Loss: 0.00290304166264832, Discriminator Loss: 0.07442735880613327, Discriminator Accuracy: 0.9806910753250122\n"
     ]
    },
    {
     "name": "stderr",
     "output_type": "stream",
     "text": [
      "100%|██████████| 491/491 [02:12<00:00,  3.69it/s]\n"
     ]
    },
    {
     "name": "stdout",
     "output_type": "stream",
     "text": [
      "Epoch 34, Autoencoder Loss: 0.001796984113752842, Discriminator Loss: 0.003862612647935748, Discriminator Accuracy: 0.9999681711196899\n",
      "Validation - Autoencoder Loss: 0.002663734368979931, Discriminator Loss: 0.05288512259721756, Discriminator Accuracy: 0.9845250844955444\n"
     ]
    },
    {
     "name": "stderr",
     "output_type": "stream",
     "text": [
      "100%|██████████| 491/491 [02:13<00:00,  3.69it/s]\n"
     ]
    },
    {
     "name": "stdout",
     "output_type": "stream",
     "text": [
      "Epoch 35, Autoencoder Loss: 0.0017580982530489564, Discriminator Loss: 0.0008804454701021314, Discriminator Accuracy: 1.0\n",
      "Validation - Autoencoder Loss: 0.0027583912014961243, Discriminator Loss: 0.032614029943943024, Discriminator Accuracy: 0.9913617968559265\n"
     ]
    },
    {
     "name": "stderr",
     "output_type": "stream",
     "text": [
      "100%|██████████| 491/491 [02:13<00:00,  3.69it/s]\n"
     ]
    },
    {
     "name": "stdout",
     "output_type": "stream",
     "text": [
      "Epoch 36, Autoencoder Loss: 0.00173366186209023, Discriminator Loss: 0.00104042689781636, Discriminator Accuracy: 1.0\n",
      "Validation - Autoencoder Loss: 0.002558361738920212, Discriminator Loss: 0.03226353973150253, Discriminator Accuracy: 0.9921239614486694\n"
     ]
    },
    {
     "name": "stderr",
     "output_type": "stream",
     "text": [
      "100%|██████████| 491/491 [02:13<00:00,  3.68it/s]\n"
     ]
    },
    {
     "name": "stdout",
     "output_type": "stream",
     "text": [
      "Epoch 37, Autoencoder Loss: 0.001699470216408372, Discriminator Loss: 0.0035517618525773287, Discriminator Accuracy: 0.9999681711196899\n",
      "Validation - Autoencoder Loss: 0.0028101729694753885, Discriminator Loss: 0.061546530574560165, Discriminator Accuracy: 0.9842479825019836\n"
     ]
    },
    {
     "name": "stderr",
     "output_type": "stream",
     "text": [
      "100%|██████████| 491/491 [02:12<00:00,  3.70it/s]\n"
     ]
    },
    {
     "name": "stdout",
     "output_type": "stream",
     "text": [
      "Epoch 38, Autoencoder Loss: 0.0016963020898401737, Discriminator Loss: 0.002221483737230301, Discriminator Accuracy: 1.0\n",
      "Validation - Autoencoder Loss: 0.0026996219530701637, Discriminator Loss: 0.032838527113199234, Discriminator Accuracy: 0.9908613562583923\n"
     ]
    },
    {
     "name": "stderr",
     "output_type": "stream",
     "text": [
      "100%|██████████| 491/491 [02:13<00:00,  3.68it/s]\n"
     ]
    },
    {
     "name": "stdout",
     "output_type": "stream",
     "text": [
      "Epoch 39, Autoencoder Loss: 0.0016532887239009142, Discriminator Loss: 0.0004860752378590405, Discriminator Accuracy: 1.0\n",
      "Validation - Autoencoder Loss: 0.0029635147657245398, Discriminator Loss: 0.03662443161010742, Discriminator Accuracy: 0.9914965033531189\n"
     ]
    },
    {
     "name": "stderr",
     "output_type": "stream",
     "text": [
      "100%|██████████| 491/491 [02:13<00:00,  3.69it/s]\n"
     ]
    },
    {
     "name": "stdout",
     "output_type": "stream",
     "text": [
      "Epoch 40, Autoencoder Loss: 0.0016379704466089606, Discriminator Loss: 0.006643080152571201, Discriminator Accuracy: 0.9998090863227844\n",
      "Validation - Autoencoder Loss: 0.0031313530635088682, Discriminator Loss: 0.03701236844062805, Discriminator Accuracy: 0.989456295967102\n"
     ]
    },
    {
     "name": "stderr",
     "output_type": "stream",
     "text": [
      "100%|██████████| 491/491 [02:13<00:00,  3.69it/s]\n"
     ]
    },
    {
     "name": "stdout",
     "output_type": "stream",
     "text": [
      "Epoch 41, Autoencoder Loss: 0.001595756271854043, Discriminator Loss: 0.0017740483162924647, Discriminator Accuracy: 0.9999681711196899\n",
      "Validation - Autoencoder Loss: 0.0027103442698717117, Discriminator Loss: 0.033365827053785324, Discriminator Accuracy: 0.9919969439506531\n"
     ]
    },
    {
     "name": "stderr",
     "output_type": "stream",
     "text": [
      "100%|██████████| 491/491 [02:12<00:00,  3.70it/s]\n"
     ]
    },
    {
     "name": "stdout",
     "output_type": "stream",
     "text": [
      "Epoch 42, Autoencoder Loss: 0.0015823483699932694, Discriminator Loss: 0.0009805718436837196, Discriminator Accuracy: 1.0\n",
      "Validation - Autoencoder Loss: 0.0029295519925653934, Discriminator Loss: 0.028878988698124886, Discriminator Accuracy: 0.9923780560493469\n"
     ]
    },
    {
     "name": "stderr",
     "output_type": "stream",
     "text": [
      "100%|██████████| 491/491 [02:12<00:00,  3.69it/s]\n"
     ]
    },
    {
     "name": "stdout",
     "output_type": "stream",
     "text": [
      "Epoch 43, Autoencoder Loss: 0.0015619107289239764, Discriminator Loss: 0.001806234591640532, Discriminator Accuracy: 0.9999363422393799\n",
      "Validation - Autoencoder Loss: 0.002691336441785097, Discriminator Loss: 0.1395382285118103, Discriminator Accuracy: 0.9641845226287842\n"
     ]
    },
    {
     "name": "stderr",
     "output_type": "stream",
     "text": [
      "100%|██████████| 491/491 [02:13<00:00,  3.69it/s]\n"
     ]
    },
    {
     "name": "stdout",
     "output_type": "stream",
     "text": [
      "Epoch 44, Autoencoder Loss: 0.001538555370643735, Discriminator Loss: 0.004997510928660631, Discriminator Accuracy: 0.9999363422393799\n",
      "Validation - Autoencoder Loss: 0.0025628209114074707, Discriminator Loss: 0.03381507843732834, Discriminator Accuracy: 0.9933943152427673\n"
     ]
    },
    {
     "name": "stderr",
     "output_type": "stream",
     "text": [
      "100%|██████████| 491/491 [02:13<00:00,  3.69it/s]\n"
     ]
    },
    {
     "name": "stdout",
     "output_type": "stream",
     "text": [
      "Epoch 45, Autoencoder Loss: 0.0015196747845038772, Discriminator Loss: 0.001088188262656331, Discriminator Accuracy: 0.9999363422393799\n",
      "Validation - Autoencoder Loss: 0.0025572918821126223, Discriminator Loss: 0.022944940254092216, Discriminator Accuracy: 0.9923780560493469\n"
     ]
    },
    {
     "name": "stderr",
     "output_type": "stream",
     "text": [
      "100%|██████████| 491/491 [02:13<00:00,  3.69it/s]\n"
     ]
    },
    {
     "name": "stdout",
     "output_type": "stream",
     "text": [
      "Epoch 46, Autoencoder Loss: 0.0015092220855876803, Discriminator Loss: 0.0003156122984364629, Discriminator Accuracy: 1.0\n",
      "Validation - Autoencoder Loss: 0.0029006965924054384, Discriminator Loss: 0.031465280801057816, Discriminator Accuracy: 0.991107702255249\n"
     ]
    },
    {
     "name": "stderr",
     "output_type": "stream",
     "text": [
      "100%|██████████| 491/491 [02:12<00:00,  3.69it/s]\n"
     ]
    },
    {
     "name": "stdout",
     "output_type": "stream",
     "text": [
      "Epoch 47, Autoencoder Loss: 0.0014928288292139769, Discriminator Loss: 0.0006192587898112833, Discriminator Accuracy: 1.0\n",
      "Validation - Autoencoder Loss: 0.002600723411887884, Discriminator Loss: 0.03216275945305824, Discriminator Accuracy: 0.9912578463554382\n"
     ]
    },
    {
     "name": "stderr",
     "output_type": "stream",
     "text": [
      "100%|██████████| 491/491 [02:13<00:00,  3.68it/s]\n"
     ]
    },
    {
     "name": "stdout",
     "output_type": "stream",
     "text": [
      "Epoch 48, Autoencoder Loss: 0.0014631784288212657, Discriminator Loss: 0.00923875067383051, Discriminator Accuracy: 0.999554455280304\n",
      "Validation - Autoencoder Loss: 0.0026863333769142628, Discriminator Loss: 0.04492129758000374, Discriminator Accuracy: 0.989456295967102\n"
     ]
    },
    {
     "name": "stderr",
     "output_type": "stream",
     "text": [
      "100%|██████████| 491/491 [02:15<00:00,  3.62it/s]\n"
     ]
    },
    {
     "name": "stdout",
     "output_type": "stream",
     "text": [
      "Epoch 49, Autoencoder Loss: 0.0014599633868783712, Discriminator Loss: 0.0009949324885383248, Discriminator Accuracy: 0.9999681711196899\n",
      "Validation - Autoencoder Loss: 0.002677978714928031, Discriminator Loss: 0.03747585043311119, Discriminator Accuracy: 0.9913694858551025\n"
     ]
    },
    {
     "name": "stderr",
     "output_type": "stream",
     "text": [
      "100%|██████████| 491/491 [02:12<00:00,  3.69it/s]\n"
     ]
    },
    {
     "name": "stdout",
     "output_type": "stream",
     "text": [
      "Epoch 50, Autoencoder Loss: 0.0014356491155922413, Discriminator Loss: 0.001605596742592752, Discriminator Accuracy: 0.9999681711196899\n",
      "Validation - Autoencoder Loss: 0.0025754666421562433, Discriminator Loss: 0.04506658762693405, Discriminator Accuracy: 0.9886941313743591\n"
     ]
    },
    {
     "name": "stderr",
     "output_type": "stream",
     "text": [
      "100%|██████████| 491/491 [02:13<00:00,  3.69it/s]\n"
     ]
    },
    {
     "name": "stdout",
     "output_type": "stream",
     "text": [
      "Epoch 51, Autoencoder Loss: 0.0014323437353596091, Discriminator Loss: 0.005509111564606428, Discriminator Accuracy: 0.9999363422393799\n",
      "Validation - Autoencoder Loss: 0.0026256211567670107, Discriminator Loss: 0.03170057758688927, Discriminator Accuracy: 0.9909883737564087\n"
     ]
    },
    {
     "name": "stderr",
     "output_type": "stream",
     "text": [
      "100%|██████████| 491/491 [02:13<00:00,  3.67it/s]\n"
     ]
    },
    {
     "name": "stdout",
     "output_type": "stream",
     "text": [
      "Epoch 52, Autoencoder Loss: 0.001406910945661366, Discriminator Loss: 0.0008117746328935027, Discriminator Accuracy: 0.9999681711196899\n",
      "Validation - Autoencoder Loss: 0.0035012937150895596, Discriminator Loss: 0.0358523353934288, Discriminator Accuracy: 0.9888288378715515\n"
     ]
    },
    {
     "name": "stderr",
     "output_type": "stream",
     "text": [
      "100%|██████████| 491/491 [02:13<00:00,  3.68it/s]\n"
     ]
    },
    {
     "name": "stdout",
     "output_type": "stream",
     "text": [
      "Epoch 53, Autoencoder Loss: 0.0013958429917693138, Discriminator Loss: 0.0004578522057272494, Discriminator Accuracy: 1.0\n",
      "Validation - Autoencoder Loss: 0.0028262981213629246, Discriminator Loss: 0.0361856110394001, Discriminator Accuracy: 0.9905995726585388\n"
     ]
    },
    {
     "name": "stderr",
     "output_type": "stream",
     "text": [
      "100%|██████████| 491/491 [02:13<00:00,  3.68it/s]\n"
     ]
    },
    {
     "name": "stdout",
     "output_type": "stream",
     "text": [
      "Epoch 54, Autoencoder Loss: 0.0013988243881613016, Discriminator Loss: 3.076165376114659e-05, Discriminator Accuracy: 1.0\n",
      "Validation - Autoencoder Loss: 0.0028318397235125303, Discriminator Loss: 0.03614860028028488, Discriminator Accuracy: 0.9922510385513306\n"
     ]
    },
    {
     "name": "stderr",
     "output_type": "stream",
     "text": [
      "100%|██████████| 491/491 [02:13<00:00,  3.69it/s]\n"
     ]
    },
    {
     "name": "stdout",
     "output_type": "stream",
     "text": [
      "Epoch 55, Autoencoder Loss: 0.0013852338306605816, Discriminator Loss: 0.0035623498260974884, Discriminator Accuracy: 0.9999363422393799\n",
      "Validation - Autoencoder Loss: 0.0026644919998943806, Discriminator Loss: 0.0434192530810833, Discriminator Accuracy: 0.9916158318519592\n"
     ]
    },
    {
     "name": "stderr",
     "output_type": "stream",
     "text": [
      "100%|██████████| 491/491 [02:13<00:00,  3.67it/s]\n"
     ]
    },
    {
     "name": "stdout",
     "output_type": "stream",
     "text": [
      "Epoch 56, Autoencoder Loss: 0.0013551434967666864, Discriminator Loss: 0.006498096045106649, Discriminator Accuracy: 0.9999681711196899\n",
      "Validation - Autoencoder Loss: 0.0025844313204288483, Discriminator Loss: 0.048817235976457596, Discriminator Accuracy: 0.989456295967102\n"
     ]
    },
    {
     "name": "stderr",
     "output_type": "stream",
     "text": [
      "100%|██████████| 491/491 [02:13<00:00,  3.68it/s]\n"
     ]
    },
    {
     "name": "stdout",
     "output_type": "stream",
     "text": [
      "Epoch 57, Autoencoder Loss: 0.0013380569871515036, Discriminator Loss: 0.0010488230036571622, Discriminator Accuracy: 0.9999681711196899\n",
      "Validation - Autoencoder Loss: 0.0027062504086643457, Discriminator Loss: 0.039348453283309937, Discriminator Accuracy: 0.9917429089546204\n"
     ]
    },
    {
     "name": "stderr",
     "output_type": "stream",
     "text": [
      "100%|██████████| 491/491 [02:14<00:00,  3.65it/s]\n"
     ]
    },
    {
     "name": "stdout",
     "output_type": "stream",
     "text": [
      "Epoch 58, Autoencoder Loss: 0.0013387317303568125, Discriminator Loss: 4.118693686905317e-05, Discriminator Accuracy: 1.0\n",
      "Validation - Autoencoder Loss: 0.002648504450917244, Discriminator Loss: 0.03739077225327492, Discriminator Accuracy: 0.9923780560493469\n"
     ]
    },
    {
     "name": "stderr",
     "output_type": "stream",
     "text": [
      "100%|██████████| 491/491 [02:21<00:00,  3.46it/s]\n"
     ]
    },
    {
     "name": "stdout",
     "output_type": "stream",
     "text": [
      "Epoch 59, Autoencoder Loss: 0.0013259188272058964, Discriminator Loss: 2.876736289181281e-05, Discriminator Accuracy: 1.0\n",
      "Validation - Autoencoder Loss: 0.00296338670887053, Discriminator Loss: 0.047152575105428696, Discriminator Accuracy: 0.9899644255638123\n"
     ]
    },
    {
     "name": "stderr",
     "output_type": "stream",
     "text": [
      "100%|██████████| 491/491 [02:14<00:00,  3.66it/s]\n"
     ]
    },
    {
     "name": "stdout",
     "output_type": "stream",
     "text": [
      "Epoch 60, Autoencoder Loss: 0.0013198890956118703, Discriminator Loss: 7.202825145213865e-06, Discriminator Accuracy: 1.0\n",
      "Validation - Autoencoder Loss: 0.0026613560039550066, Discriminator Loss: 0.04148354008793831, Discriminator Accuracy: 0.9922510385513306\n"
     ]
    },
    {
     "name": "stderr",
     "output_type": "stream",
     "text": [
      "100%|██████████| 491/491 [02:14<00:00,  3.65it/s]\n"
     ]
    },
    {
     "name": "stdout",
     "output_type": "stream",
     "text": [
      "Epoch 61, Autoencoder Loss: 0.001307288883253932, Discriminator Loss: 0.0050053223967552185, Discriminator Accuracy: 0.9999045133590698\n",
      "Validation - Autoencoder Loss: 0.002568102441728115, Discriminator Loss: 0.037484221160411835, Discriminator Accuracy: 0.9904802441596985\n"
     ]
    },
    {
     "name": "stderr",
     "output_type": "stream",
     "text": [
      "100%|██████████| 491/491 [02:14<00:00,  3.66it/s]\n"
     ]
    },
    {
     "name": "stdout",
     "output_type": "stream",
     "text": [
      "Epoch 62, Autoencoder Loss: 0.0012853252701461315, Discriminator Loss: 0.002728945342823863, Discriminator Accuracy: 0.9999363422393799\n",
      "Validation - Autoencoder Loss: 0.002976413816213608, Discriminator Loss: 0.03347799554467201, Discriminator Accuracy: 0.9918699264526367\n"
     ]
    },
    {
     "name": "stderr",
     "output_type": "stream",
     "text": [
      "100%|██████████| 491/491 [02:14<00:00,  3.66it/s]\n"
     ]
    },
    {
     "name": "stdout",
     "output_type": "stream",
     "text": [
      "Epoch 63, Autoencoder Loss: 0.0013039264595136046, Discriminator Loss: 0.000499717949423939, Discriminator Accuracy: 0.9999681711196899\n",
      "Validation - Autoencoder Loss: 0.0026057655923068523, Discriminator Loss: 0.03150676190853119, Discriminator Accuracy: 0.9936483502388\n"
     ]
    },
    {
     "name": "stderr",
     "output_type": "stream",
     "text": [
      "100%|██████████| 491/491 [02:14<00:00,  3.65it/s]\n"
     ]
    },
    {
     "name": "stdout",
     "output_type": "stream",
     "text": [
      "Epoch 64, Autoencoder Loss: 0.0012727725552394986, Discriminator Loss: 4.568984513753094e-05, Discriminator Accuracy: 1.0\n",
      "Validation - Autoencoder Loss: 0.0025390749797225, Discriminator Loss: 0.03366739675402641, Discriminator Accuracy: 0.9931402206420898\n"
     ]
    },
    {
     "name": "stderr",
     "output_type": "stream",
     "text": [
      "100%|██████████| 491/491 [02:14<00:00,  3.66it/s]\n"
     ]
    },
    {
     "name": "stdout",
     "output_type": "stream",
     "text": [
      "Epoch 65, Autoencoder Loss: 0.0012756151845678687, Discriminator Loss: 0.007145917974412441, Discriminator Accuracy: 0.9998726844787598\n",
      "Validation - Autoencoder Loss: 0.0025723332073539495, Discriminator Loss: 0.03785219416022301, Discriminator Accuracy: 0.9890751838684082\n"
     ]
    },
    {
     "name": "stderr",
     "output_type": "stream",
     "text": [
      "100%|██████████| 491/491 [02:14<00:00,  3.66it/s]\n"
     ]
    },
    {
     "name": "stdout",
     "output_type": "stream",
     "text": [
      "Epoch 66, Autoencoder Loss: 0.0012452861992642283, Discriminator Loss: 0.0006234058528207242, Discriminator Accuracy: 1.0\n",
      "Validation - Autoencoder Loss: 0.0025585517287254333, Discriminator Loss: 0.035518866032361984, Discriminator Accuracy: 0.9919969439506531\n"
     ]
    },
    {
     "name": "stderr",
     "output_type": "stream",
     "text": [
      "100%|██████████| 491/491 [02:21<00:00,  3.46it/s]\n"
     ]
    },
    {
     "name": "stdout",
     "output_type": "stream",
     "text": [
      "Epoch 67, Autoencoder Loss: 0.0012385951122269034, Discriminator Loss: 0.0008245901553891599, Discriminator Accuracy: 0.9999681711196899\n",
      "Validation - Autoencoder Loss: 0.0026954193599522114, Discriminator Loss: 0.03749017044901848, Discriminator Accuracy: 0.9921239614486694\n"
     ]
    },
    {
     "name": "stderr",
     "output_type": "stream",
     "text": [
      "100%|██████████| 491/491 [02:14<00:00,  3.66it/s]\n"
     ]
    },
    {
     "name": "stdout",
     "output_type": "stream",
     "text": [
      "Epoch 68, Autoencoder Loss: 0.0012843358563259244, Discriminator Loss: 0.004809933248907328, Discriminator Accuracy: 0.9999045133590698\n",
      "Validation - Autoencoder Loss: 0.0026120736729353666, Discriminator Loss: 0.05325857549905777, Discriminator Accuracy: 0.9892022609710693\n"
     ]
    },
    {
     "name": "stderr",
     "output_type": "stream",
     "text": [
      "100%|██████████| 491/491 [02:14<00:00,  3.65it/s]\n"
     ]
    },
    {
     "name": "stdout",
     "output_type": "stream",
     "text": [
      "Epoch 69, Autoencoder Loss: 0.0012107067741453648, Discriminator Loss: 0.0001926655531860888, Discriminator Accuracy: 1.0\n",
      "Validation - Autoencoder Loss: 0.0026182241272181273, Discriminator Loss: 0.04370108246803284, Discriminator Accuracy: 0.9921239614486694\n"
     ]
    },
    {
     "name": "stderr",
     "output_type": "stream",
     "text": [
      "100%|██████████| 491/491 [02:14<00:00,  3.66it/s]\n"
     ]
    },
    {
     "name": "stdout",
     "output_type": "stream",
     "text": [
      "Epoch 70, Autoencoder Loss: 0.0012234264286234975, Discriminator Loss: 8.811068983050063e-05, Discriminator Accuracy: 1.0\n",
      "Validation - Autoencoder Loss: 0.0026311634574085474, Discriminator Loss: 0.04343535751104355, Discriminator Accuracy: 0.991115391254425\n"
     ]
    },
    {
     "name": "stderr",
     "output_type": "stream",
     "text": [
      "100%|██████████| 491/491 [02:14<00:00,  3.65it/s]\n"
     ]
    },
    {
     "name": "stdout",
     "output_type": "stream",
     "text": [
      "Epoch 71, Autoencoder Loss: 0.0012118977028876543, Discriminator Loss: 5.5864751629997045e-05, Discriminator Accuracy: 1.0\n",
      "Validation - Autoencoder Loss: 0.0026322323828935623, Discriminator Loss: 0.04352987930178642, Discriminator Accuracy: 0.9916158318519592\n"
     ]
    },
    {
     "name": "stderr",
     "output_type": "stream",
     "text": [
      "100%|██████████| 491/491 [02:14<00:00,  3.65it/s]\n"
     ]
    },
    {
     "name": "stdout",
     "output_type": "stream",
     "text": [
      "Epoch 72, Autoencoder Loss: 0.0012106846552342176, Discriminator Loss: 3.7250596506055444e-05, Discriminator Accuracy: 1.0\n",
      "Validation - Autoencoder Loss: 0.0025672961492091417, Discriminator Loss: 0.04196416586637497, Discriminator Accuracy: 0.9922510385513306\n"
     ]
    },
    {
     "name": "stderr",
     "output_type": "stream",
     "text": [
      "100%|██████████| 491/491 [02:13<00:00,  3.66it/s]\n"
     ]
    },
    {
     "name": "stdout",
     "output_type": "stream",
     "text": [
      "Epoch 73, Autoencoder Loss: 0.0011980904964730144, Discriminator Loss: 8.610495569882914e-06, Discriminator Accuracy: 1.0\n",
      "Validation - Autoencoder Loss: 0.0026506988797336817, Discriminator Loss: 0.04357040300965309, Discriminator Accuracy: 0.9926397800445557\n"
     ]
    },
    {
     "name": "stderr",
     "output_type": "stream",
     "text": [
      "100%|██████████| 491/491 [02:14<00:00,  3.66it/s]\n"
     ]
    },
    {
     "name": "stdout",
     "output_type": "stream",
     "text": [
      "Epoch 74, Autoencoder Loss: 0.0011926405131816864, Discriminator Loss: 2.2699882720189635e-06, Discriminator Accuracy: 1.0\n",
      "Validation - Autoencoder Loss: 0.0026362005155533552, Discriminator Loss: 0.04446839913725853, Discriminator Accuracy: 0.9923780560493469\n"
     ]
    },
    {
     "name": "stderr",
     "output_type": "stream",
     "text": [
      "100%|██████████| 491/491 [02:14<00:00,  3.66it/s]\n"
     ]
    },
    {
     "name": "stdout",
     "output_type": "stream",
     "text": [
      "Epoch 75, Autoencoder Loss: 0.0011922105913981795, Discriminator Loss: 0.004487842787057161, Discriminator Accuracy: 0.9998726844787598\n",
      "Validation - Autoencoder Loss: 0.0025949280243366957, Discriminator Loss: 0.05513865128159523, Discriminator Accuracy: 0.9902185201644897\n"
     ]
    },
    {
     "name": "stderr",
     "output_type": "stream",
     "text": [
      "100%|██████████| 491/491 [02:14<00:00,  3.66it/s]\n"
     ]
    },
    {
     "name": "stdout",
     "output_type": "stream",
     "text": [
      "Epoch 76, Autoencoder Loss: 0.0011740820482373238, Discriminator Loss: 0.0012160242768004537, Discriminator Accuracy: 1.0\n",
      "Validation - Autoencoder Loss: 0.0028987007681280375, Discriminator Loss: 0.03735808655619621, Discriminator Accuracy: 0.9908536672592163\n"
     ]
    },
    {
     "name": "stderr",
     "output_type": "stream",
     "text": [
      "100%|██████████| 491/491 [02:14<00:00,  3.66it/s]\n"
     ]
    },
    {
     "name": "stdout",
     "output_type": "stream",
     "text": [
      "Epoch 77, Autoencoder Loss: 0.0011856307974085212, Discriminator Loss: 0.000866816786583513, Discriminator Accuracy: 1.0\n",
      "Validation - Autoencoder Loss: 0.002532110083848238, Discriminator Loss: 0.054725948721170425, Discriminator Accuracy: 0.9907266497612\n"
     ]
    },
    {
     "name": "stderr",
     "output_type": "stream",
     "text": [
      "100%|██████████| 491/491 [02:14<00:00,  3.66it/s]\n"
     ]
    },
    {
     "name": "stdout",
     "output_type": "stream",
     "text": [
      "Epoch 78, Autoencoder Loss: 0.0011501680128276348, Discriminator Loss: 0.00024676191969774663, Discriminator Accuracy: 1.0\n",
      "Validation - Autoencoder Loss: 0.0025882008485496044, Discriminator Loss: 0.04187695309519768, Discriminator Accuracy: 0.993267297744751\n"
     ]
    },
    {
     "name": "stderr",
     "output_type": "stream",
     "text": [
      "100%|██████████| 491/491 [02:13<00:00,  3.69it/s]\n"
     ]
    },
    {
     "name": "stdout",
     "output_type": "stream",
     "text": [
      "Epoch 79, Autoencoder Loss: 0.0011749527184292674, Discriminator Loss: 0.0019710552878677845, Discriminator Accuracy: 0.9999363422393799\n",
      "Validation - Autoencoder Loss: 0.002698982832953334, Discriminator Loss: 0.036510348320007324, Discriminator Accuracy: 0.9926320910453796\n"
     ]
    },
    {
     "name": "stderr",
     "output_type": "stream",
     "text": [
      "100%|██████████| 491/491 [02:13<00:00,  3.69it/s]\n"
     ]
    },
    {
     "name": "stdout",
     "output_type": "stream",
     "text": [
      "Epoch 80, Autoencoder Loss: 0.0011462889378890395, Discriminator Loss: 0.0017553523648530245, Discriminator Accuracy: 1.0\n",
      "Validation - Autoencoder Loss: 0.002664708299562335, Discriminator Loss: 0.03579729050397873, Discriminator Accuracy: 0.9911230802536011\n"
     ]
    },
    {
     "name": "stderr",
     "output_type": "stream",
     "text": [
      "100%|██████████| 491/491 [02:13<00:00,  3.68it/s]\n"
     ]
    },
    {
     "name": "stdout",
     "output_type": "stream",
     "text": [
      "Epoch 81, Autoencoder Loss: 0.0011558959959074855, Discriminator Loss: 0.0008139224373735487, Discriminator Accuracy: 1.0\n",
      "Validation - Autoencoder Loss: 0.0027702937368303537, Discriminator Loss: 0.03986566141247749, Discriminator Accuracy: 0.9908613562583923\n"
     ]
    },
    {
     "name": "stderr",
     "output_type": "stream",
     "text": [
      "100%|██████████| 491/491 [02:13<00:00,  3.69it/s]\n"
     ]
    },
    {
     "name": "stdout",
     "output_type": "stream",
     "text": [
      "Epoch 82, Autoencoder Loss: 0.0011464852141216397, Discriminator Loss: 0.0005694617866538465, Discriminator Accuracy: 0.9999681711196899\n",
      "Validation - Autoencoder Loss: 0.0027510267682373524, Discriminator Loss: 0.042631227523088455, Discriminator Accuracy: 0.9899644255638123\n"
     ]
    },
    {
     "name": "stderr",
     "output_type": "stream",
     "text": [
      "100%|██████████| 491/491 [02:13<00:00,  3.67it/s]\n"
     ]
    },
    {
     "name": "stdout",
     "output_type": "stream",
     "text": [
      "Epoch 83, Autoencoder Loss: 0.0011298874160274863, Discriminator Loss: 0.00239701010286808, Discriminator Accuracy: 0.9999363422393799\n",
      "Validation - Autoencoder Loss: 0.0025857482105493546, Discriminator Loss: 0.045631784945726395, Discriminator Accuracy: 0.9914888143539429\n"
     ]
    },
    {
     "name": "stderr",
     "output_type": "stream",
     "text": [
      "100%|██████████| 491/491 [02:13<00:00,  3.68it/s]\n"
     ]
    },
    {
     "name": "stdout",
     "output_type": "stream",
     "text": [
      "Epoch 84, Autoencoder Loss: 0.0011240137973800302, Discriminator Loss: 0.0013242728309705853, Discriminator Accuracy: 1.0\n",
      "Validation - Autoencoder Loss: 0.002587801543995738, Discriminator Loss: 0.0450475849211216, Discriminator Accuracy: 0.9930208921432495\n"
     ]
    },
    {
     "name": "stderr",
     "output_type": "stream",
     "text": [
      "100%|██████████| 491/491 [02:14<00:00,  3.65it/s]\n"
     ]
    },
    {
     "name": "stdout",
     "output_type": "stream",
     "text": [
      "Epoch 85, Autoencoder Loss: 0.0011322646168991923, Discriminator Loss: 0.0008651713724248111, Discriminator Accuracy: 1.0\n",
      "Validation - Autoencoder Loss: 0.0026613245718181133, Discriminator Loss: 0.05738742649555206, Discriminator Accuracy: 0.9889558553695679\n"
     ]
    },
    {
     "name": "stderr",
     "output_type": "stream",
     "text": [
      "100%|██████████| 491/491 [02:13<00:00,  3.68it/s]\n"
     ]
    },
    {
     "name": "stdout",
     "output_type": "stream",
     "text": [
      "Epoch 86, Autoencoder Loss: 0.001115586026571691, Discriminator Loss: 0.00016293096996378154, Discriminator Accuracy: 1.0\n",
      "Validation - Autoencoder Loss: 0.0029550131876021624, Discriminator Loss: 0.06068899855017662, Discriminator Accuracy: 0.9902262091636658\n"
     ]
    },
    {
     "name": "stderr",
     "output_type": "stream",
     "text": [
      "100%|██████████| 491/491 [02:13<00:00,  3.68it/s]\n"
     ]
    },
    {
     "name": "stdout",
     "output_type": "stream",
     "text": [
      "Epoch 87, Autoencoder Loss: 0.0011172854574397206, Discriminator Loss: 0.0003808130859397352, Discriminator Accuracy: 0.9999681711196899\n",
      "Validation - Autoencoder Loss: 0.002668912522494793, Discriminator Loss: 0.06331150233745575, Discriminator Accuracy: 0.9866616129875183\n"
     ]
    },
    {
     "name": "stderr",
     "output_type": "stream",
     "text": [
      "100%|██████████| 491/491 [02:13<00:00,  3.69it/s]\n"
     ]
    },
    {
     "name": "stdout",
     "output_type": "stream",
     "text": [
      "Epoch 88, Autoencoder Loss: 0.0013356351992115378, Discriminator Loss: 0.008966479450464249, Discriminator Accuracy: 0.9992680549621582\n",
      "Validation - Autoencoder Loss: 0.002532826503738761, Discriminator Loss: 0.04967635124921799, Discriminator Accuracy: 0.9919969439506531\n"
     ]
    },
    {
     "name": "stderr",
     "output_type": "stream",
     "text": [
      "100%|██████████| 491/491 [02:13<00:00,  3.69it/s]\n"
     ]
    },
    {
     "name": "stdout",
     "output_type": "stream",
     "text": [
      "Epoch 89, Autoencoder Loss: 0.0010639348765835166, Discriminator Loss: 0.0017725025536492467, Discriminator Accuracy: 0.9999681711196899\n",
      "Validation - Autoencoder Loss: 0.0025968924164772034, Discriminator Loss: 0.04126150533556938, Discriminator Accuracy: 0.992385745048523\n"
     ]
    },
    {
     "name": "stderr",
     "output_type": "stream",
     "text": [
      "100%|██████████| 491/491 [02:13<00:00,  3.68it/s]\n"
     ]
    },
    {
     "name": "stdout",
     "output_type": "stream",
     "text": [
      "Epoch 90, Autoencoder Loss: 0.0010733332019299269, Discriminator Loss: 0.0009413722436875105, Discriminator Accuracy: 1.0\n",
      "Validation - Autoencoder Loss: 0.002633624477311969, Discriminator Loss: 0.050880659371614456, Discriminator Accuracy: 0.991115391254425\n"
     ]
    },
    {
     "name": "stderr",
     "output_type": "stream",
     "text": [
      "100%|██████████| 491/491 [02:13<00:00,  3.69it/s]\n"
     ]
    },
    {
     "name": "stdout",
     "output_type": "stream",
     "text": [
      "Epoch 91, Autoencoder Loss: 0.0010803117183968425, Discriminator Loss: 0.0004779549199156463, Discriminator Accuracy: 1.0\n",
      "Validation - Autoencoder Loss: 0.00260881707072258, Discriminator Loss: 0.035642001777887344, Discriminator Accuracy: 0.9941564798355103\n"
     ]
    },
    {
     "name": "stderr",
     "output_type": "stream",
     "text": [
      "100%|██████████| 491/491 [02:13<00:00,  3.68it/s]\n"
     ]
    },
    {
     "name": "stdout",
     "output_type": "stream",
     "text": [
      "Epoch 92, Autoencoder Loss: 0.001083443290553987, Discriminator Loss: 1.2951135431649163e-05, Discriminator Accuracy: 1.0\n",
      "Validation - Autoencoder Loss: 0.002638238715007901, Discriminator Loss: 0.036376096308231354, Discriminator Accuracy: 0.9944105744361877\n"
     ]
    },
    {
     "name": "stderr",
     "output_type": "stream",
     "text": [
      "100%|██████████| 491/491 [02:13<00:00,  3.68it/s]\n"
     ]
    },
    {
     "name": "stdout",
     "output_type": "stream",
     "text": [
      "Epoch 93, Autoencoder Loss: 0.00109085941221565, Discriminator Loss: 5.117747605254408e-06, Discriminator Accuracy: 1.0\n",
      "Validation - Autoencoder Loss: 0.0026063909754157066, Discriminator Loss: 0.03973250091075897, Discriminator Accuracy: 0.9939024448394775\n"
     ]
    },
    {
     "name": "stderr",
     "output_type": "stream",
     "text": [
      "100%|██████████| 491/491 [02:13<00:00,  3.67it/s]\n"
     ]
    },
    {
     "name": "stdout",
     "output_type": "stream",
     "text": [
      "Epoch 94, Autoencoder Loss: 0.0010810282547026873, Discriminator Loss: 3.202362904630718e-06, Discriminator Accuracy: 1.0\n",
      "Validation - Autoencoder Loss: 0.002687162021175027, Discriminator Loss: 0.03941754996776581, Discriminator Accuracy: 0.9940294623374939\n"
     ]
    },
    {
     "name": "stderr",
     "output_type": "stream",
     "text": [
      "100%|██████████| 491/491 [02:13<00:00,  3.68it/s]\n"
     ]
    },
    {
     "name": "stdout",
     "output_type": "stream",
     "text": [
      "Epoch 95, Autoencoder Loss: 0.0010766144841909409, Discriminator Loss: 2.1743362594861537e-06, Discriminator Accuracy: 1.0\n",
      "Validation - Autoencoder Loss: 0.002639348153024912, Discriminator Loss: 0.0412539578974247, Discriminator Accuracy: 0.9940294623374939\n"
     ]
    },
    {
     "name": "stderr",
     "output_type": "stream",
     "text": [
      "100%|██████████| 491/491 [02:21<00:00,  3.46it/s]\n"
     ]
    },
    {
     "name": "stdout",
     "output_type": "stream",
     "text": [
      "Epoch 96, Autoencoder Loss: 0.0010695599485188723, Discriminator Loss: 0.007265897933393717, Discriminator Accuracy: 0.999554455280304\n",
      "Validation - Autoencoder Loss: 0.0025872020050883293, Discriminator Loss: 0.040948182344436646, Discriminator Accuracy: 0.9917505979537964\n"
     ]
    },
    {
     "name": "stderr",
     "output_type": "stream",
     "text": [
      "100%|██████████| 491/491 [02:13<00:00,  3.68it/s]\n"
     ]
    },
    {
     "name": "stdout",
     "output_type": "stream",
     "text": [
      "Epoch 97, Autoencoder Loss: 0.0010665971785783768, Discriminator Loss: 0.0003848970227409154, Discriminator Accuracy: 0.9999681711196899\n",
      "Validation - Autoencoder Loss: 0.002605421468615532, Discriminator Loss: 0.03997147083282471, Discriminator Accuracy: 0.9926320910453796\n"
     ]
    },
    {
     "name": "stderr",
     "output_type": "stream",
     "text": [
      "100%|██████████| 491/491 [02:13<00:00,  3.67it/s]\n"
     ]
    },
    {
     "name": "stdout",
     "output_type": "stream",
     "text": [
      "Epoch 98, Autoencoder Loss: 0.0010615246137604117, Discriminator Loss: 2.8269872927921824e-05, Discriminator Accuracy: 1.0\n",
      "Validation - Autoencoder Loss: 0.0026200744323432446, Discriminator Loss: 0.040090832859277725, Discriminator Accuracy: 0.9927591681480408\n"
     ]
    },
    {
     "name": "stderr",
     "output_type": "stream",
     "text": [
      "100%|██████████| 491/491 [02:12<00:00,  3.69it/s]\n"
     ]
    },
    {
     "name": "stdout",
     "output_type": "stream",
     "text": [
      "Epoch 99, Autoencoder Loss: 0.001062121707946062, Discriminator Loss: 5.178497758606682e-06, Discriminator Accuracy: 1.0\n",
      "Validation - Autoencoder Loss: 0.0028937766328454018, Discriminator Loss: 0.04464566335082054, Discriminator Accuracy: 0.9923780560493469\n"
     ]
    }
   ],
   "source": [
    "autoencoder_losses_epoch = []\n",
    "discriminator_losses_epoch = []\n",
    "discriminator_acc_epoch = []\n",
    "val_autoencoder_losses_epoch = []\n",
    "val_discriminator_losses_epoch = []\n",
    "val_discriminator_acc_epoch = []\n",
    "\n",
    "for epoch in range(100):\n",
    "    # Initialize epoch-wise metrics\n",
    "    epoch_autoencoder_losses = []\n",
    "    epoch_discriminator_losses = []\n",
    "    epoch_discriminator_acc = []\n",
    "    epoch_val_autoencoder_losses = []\n",
    "    epoch_val_discriminator_losses = []\n",
    "    epoch_val_discriminator_acc = []\n",
    "\n",
    "    # Training loop\n",
    "    for idx, (batch_real, batch_label) in enumerate(tqdm(train_dataset)):\n",
    "        # Training steps\n",
    "        with tf.GradientTape() as autoencoder_tape, tf.GradientTape() as disc_tape:\n",
    "            latent_representation = encoder(batch_real)\n",
    "            generated_image = decoder(latent_representation)\n",
    "            loss_autoencoder = loss_fn_auto(batch_real, generated_image)\n",
    "            \n",
    "            fake = generated_image\n",
    "            loss_disc_real = loss_fn_disc(batch_label, discriminator(batch_real))\n",
    "            loss_disc_fake = loss_fn_disc(batch_label, discriminator(fake))\n",
    "            loss_disc = (loss_disc_real + loss_disc_fake) / 2\n",
    "\n",
    "        grads_autoencoder = autoencoder_tape.gradient(loss_autoencoder, autoencoder.trainable_weights)\n",
    "        opt_autoencoder.apply_gradients(zip(grads_autoencoder, autoencoder.trainable_weights))\n",
    "\n",
    "        grads_discriminator = disc_tape.gradient(loss_disc, discriminator.trainable_weights)\n",
    "        opt_disc.apply_gradients(zip(grads_discriminator, discriminator.trainable_weights))\n",
    "\n",
    "        # Store batch-wise metrics\n",
    "        epoch_autoencoder_losses.append(loss_autoencoder.numpy())\n",
    "        epoch_discriminator_losses.append(loss_disc.numpy())\n",
    "        epoch_discriminator_acc.append(tf.reduce_mean(tf.keras.metrics.categorical_accuracy(batch_label, discriminator(fake))).numpy())\n",
    "        if idx % 200 == 0:\n",
    "            img = tf.keras.preprocessing.image.array_to_img(fake[0])\n",
    "            img.save(f\"{save_dir}/generated_img_epoch_{epoch}_batch_{idx}.png\")\n",
    "\n",
    "    # Validation loop\n",
    "    for val_batch_real, val_batch_label in val_dataset:\n",
    "        val_latent_representation = encoder(val_batch_real)\n",
    "        val_generated_image = decoder(val_latent_representation)\n",
    "        val_loss_autoencoder = loss_fn_auto(val_batch_real, val_generated_image)\n",
    "        val_loss_disc_real = loss_fn_disc(val_batch_label, discriminator(val_batch_real))\n",
    "        val_loss_disc_fake = loss_fn_disc(val_batch_label, discriminator(val_generated_image))\n",
    "        val_loss_disc = (val_loss_disc_real + val_loss_disc_fake) / 2\n",
    "\n",
    "        # Calculate accuracy\n",
    "        val_discriminator_accuracy = tf.reduce_mean(tf.keras.metrics.categorical_accuracy(val_batch_label, discriminator(val_generated_image)))\n",
    "\n",
    "        # Store validation metrics\n",
    "        epoch_val_autoencoder_losses.append(val_loss_autoencoder.numpy())\n",
    "        epoch_val_discriminator_losses.append(val_loss_disc.numpy())\n",
    "        epoch_val_discriminator_acc.append(val_discriminator_accuracy.numpy())\n",
    "\n",
    "    # Calculate epoch-wise averages and append to the lists\n",
    "    avg_autoencoder_loss = np.mean(epoch_autoencoder_losses)\n",
    "    avg_discriminator_loss = np.mean(epoch_discriminator_losses)\n",
    "    avg_discriminator_acc = np.mean(epoch_discriminator_acc)\n",
    "    avg_val_autoencoder_loss = np.mean(epoch_val_autoencoder_losses)\n",
    "    avg_val_discriminator_loss = np.mean(epoch_val_discriminator_losses)\n",
    "    avg_val_discriminator_acc = np.mean(epoch_val_discriminator_acc)\n",
    "\n",
    "    autoencoder_losses_epoch.append(avg_autoencoder_loss)\n",
    "    discriminator_losses_epoch.append(avg_discriminator_loss)\n",
    "    discriminator_acc_epoch.append(avg_discriminator_acc)\n",
    "    val_autoencoder_losses_epoch.append(avg_val_autoencoder_loss)\n",
    "    val_discriminator_losses_epoch.append(avg_val_discriminator_loss)\n",
    "    val_discriminator_acc_epoch.append(avg_val_discriminator_acc)\n",
    "\n",
    "    # Print epoch-wise metrics\n",
    "    print(f\"Epoch {epoch}, Autoencoder Loss: {avg_autoencoder_loss}, Discriminator Loss: {avg_discriminator_loss}, Discriminator Accuracy: {avg_discriminator_acc}\")\n",
    "    print(f\"Validation - Autoencoder Loss: {avg_val_autoencoder_loss}, Discriminator Loss: {avg_val_discriminator_loss}, Discriminator Accuracy: {avg_val_discriminator_acc}\")\n"
   ]
  },
  {
   "cell_type": "code",
   "execution_count": 10,
   "id": "02fbe81f",
   "metadata": {
    "execution": {
     "iopub.execute_input": "2024-05-18T20:54:29.584822Z",
     "iopub.status.busy": "2024-05-18T20:54:29.583910Z",
     "iopub.status.idle": "2024-05-18T20:54:30.918743Z",
     "shell.execute_reply": "2024-05-18T20:54:30.917899Z"
    },
    "papermill": {
     "duration": 5.343444,
     "end_time": "2024-05-18T20:54:30.920969",
     "exception": false,
     "start_time": "2024-05-18T20:54:25.577525",
     "status": "completed"
    },
    "tags": []
   },
   "outputs": [
    {
     "data": {
      "image/png": "[encoded data removed]",
      "text/plain": [
       "<Figure size 1200x600 with 1 Axes>"
      ]
     },
     "metadata": {},
     "output_type": "display_data"
    },
    {
     "data": {
      "image/png": "[encoded data removed]",
      "text/plain": [
       "<Figure size 1200x600 with 1 Axes>"
      ]
     },
     "metadata": {},
     "output_type": "display_data"
    },
    {
     "data": {
      "image/png": "[encoded data removed]",
      "text/plain": [
       "<Figure size 1200x600 with 1 Axes>"
      ]
     },
     "metadata": {},
     "output_type": "display_data"
    }
   ],
   "source": [
    "import matplotlib.pyplot as plt\n",
    "\n",
    "# Plot autoencoder losses\n",
    "plt.figure(figsize=(12, 6))\n",
    "plt.plot(autoencoder_losses_epoch, label='Training Autoencoder Loss')\n",
    "plt.plot(val_autoencoder_losses_epoch, label='Validation Autoencoder Loss')\n",
    "plt.xlabel('Epoch')\n",
    "plt.ylabel('Loss')\n",
    "plt.title('Training and Validation Autoencoder Losses')\n",
    "plt.legend()\n",
    "plt.savefig('autoencoder_losses.png')  # Save the plot as an image\n",
    "plt.show()\n",
    "\n",
    "# Plot discriminator losses\n",
    "plt.figure(figsize=(12, 6))\n",
    "plt.plot(discriminator_losses_epoch, label='Training Discriminator Loss')\n",
    "plt.plot(val_discriminator_losses_epoch, label='Validation Discriminator Loss')\n",
    "plt.xlabel('Epoch')\n",
    "plt.ylabel('Loss')\n",
    "plt.title('Training and Validation Discriminator Losses')\n",
    "plt.legend()\n",
    "plt.savefig('discriminator_losses.png')  # Save the plot as an image\n",
    "plt.show()\n",
    "\n",
    "# Plot discriminator accuracy\n",
    "plt.figure(figsize=(12, 6))\n",
    "plt.plot(discriminator_acc_epoch, label='Training Discriminator Accuracy')\n",
    "plt.plot(val_discriminator_acc_epoch, label='Validation Discriminator Accuracy')\n",
    "plt.xlabel('Epoch')\n",
    "plt.ylabel('Accuracy')\n",
    "plt.title('Training and Validation Discriminator Accuracy')\n",
    "plt.legend()\n",
    "plt.savefig('discriminator_accuracy.png')  # Save the plot as an image\n",
    "plt.show()\n"
   ]
  },
  {
   "cell_type": "code",
   "execution_count": 11,
   "id": "1933e69f",
   "metadata": {
    "execution": {
     "iopub.execute_input": "2024-05-18T20:54:39.073868Z",
     "iopub.status.busy": "2024-05-18T20:54:39.073489Z",
     "iopub.status.idle": "2024-05-18T20:54:40.309036Z",
     "shell.execute_reply": "2024-05-18T20:54:40.308161Z"
    },
    "papermill": {
     "duration": 5.294804,
     "end_time": "2024-05-18T20:54:40.311303",
     "exception": false,
     "start_time": "2024-05-18T20:54:35.016499",
     "status": "completed"
    },
    "tags": []
   },
   "outputs": [
    {
     "data": {
      "image/png": "[encoded data removed]",
      "text/plain": [
       "<Figure size 1200x600 with 1 Axes>"
      ]
     },
     "metadata": {},
     "output_type": "display_data"
    },
    {
     "data": {
      "image/png": "[encoded data removed]",
      "text/plain": [
       "<Figure size 1200x600 with 1 Axes>"
      ]
     },
     "metadata": {},
     "output_type": "display_data"
    },
    {
     "data": {
      "image/png": "[encoded data removed]",
      "text/plain": [
       "<Figure size 1200x600 with 1 Axes>"
      ]
     },
     "metadata": {},
     "output_type": "display_data"
    }
   ],
   "source": [
    "import matplotlib.pyplot as plt\n",
    "from matplotlib import rcParams\n",
    "\n",
    "# Set font properties\n",
    "rcParams['font.family'] = 'Times New Roman'\n",
    "rcParams['font.size'] = 12\n",
    "\n",
    "# Plot autoencoder losses\n",
    "plt.figure(figsize=(12, 6))\n",
    "plt.plot(autoencoder_losses_epoch, label='Training Autoencoder Loss')\n",
    "plt.plot(val_autoencoder_losses_epoch, label='Validation Autoencoder Loss')\n",
    "plt.xlabel('Epoch')\n",
    "plt.ylabel('Loss')\n",
    "plt.title('Training and Validation Autoencoder Losses')\n",
    "plt.legend()\n",
    "plt.savefig('autoencoder_losses12.png')  # Save the plot as an image\n",
    "plt.show()\n",
    "\n",
    "# Plot discriminator losses\n",
    "plt.figure(figsize=(12, 6))\n",
    "plt.plot(discriminator_losses_epoch, label='Training Discriminator Loss')\n",
    "plt.plot(val_discriminator_losses_epoch, label='Validation Discriminator Loss')\n",
    "plt.xlabel('Epoch')\n",
    "plt.ylabel('Loss')\n",
    "plt.title('Training and Validation Discriminator Losses')\n",
    "plt.legend()\n",
    "plt.savefig('discriminator_losses12.png')  # Save the plot as an image\n",
    "plt.show()\n",
    "\n",
    "# Plot discriminator accuracy\n",
    "plt.figure(figsize=(12, 6))\n",
    "plt.plot(discriminator_acc_epoch, label='Training Discriminator Accuracy')\n",
    "plt.plot(val_discriminator_acc_epoch, label='Validation Discriminator Accuracy')\n",
    "plt.xlabel('Epoch')\n",
    "plt.ylabel('Accuracy')\n",
    "plt.title('Training and Validation Discriminator Accuracy')\n",
    "plt.legend()\n",
    "plt.savefig('discriminator_accuracy12.png')  # Save the plot as an image\n",
    "plt.show()\n"
   ]
  },
  {
   "cell_type": "code",
   "execution_count": 12,
   "id": "2cdbf6da",
   "metadata": {
    "execution": {
     "iopub.execute_input": "2024-05-18T20:54:48.414768Z",
     "iopub.status.busy": "2024-05-18T20:54:48.414400Z",
     "iopub.status.idle": "2024-05-18T20:55:03.298157Z",
     "shell.execute_reply": "2024-05-18T20:55:03.297126Z"
    },
    "papermill": {
     "duration": 18.901602,
     "end_time": "2024-05-18T20:55:03.300102",
     "exception": false,
     "start_time": "2024-05-18T20:54:44.398500",
     "status": "completed"
    },
    "tags": []
   },
   "outputs": [
    {
     "name": "stdout",
     "output_type": "stream",
     "text": [
      "\u001b[1m 11/491\u001b[0m \u001b[37m━━━━━━━━━━━━━━━━━━━━\u001b[0m \u001b[1m5s\u001b[0m 12ms/step - accuracy: 1.0000 - loss: 3.0496e-07"
     ]
    },
    {
     "name": "stderr",
     "output_type": "stream",
     "text": [
      "WARNING: All log messages before absl::InitializeLog() is called are written to STDERR\n",
      "I0000 00:00:1716065691.962000      75 device_compiler.h:186] Compiled cluster using XLA!  This line is logged at most once for the lifetime of the process.\n",
      "W0000 00:00:1716065691.980329      75 graph_launch.cc:671] Fallback to op-by-op mode because memset node breaks graph update\n"
     ]
    },
    {
     "name": "stdout",
     "output_type": "stream",
     "text": [
      "\u001b[1m491/491\u001b[0m \u001b[32m━━━━━━━━━━━━━━━━━━━━\u001b[0m\u001b[37m\u001b[0m \u001b[1m15s\u001b[0m 23ms/step - accuracy: 1.0000 - loss: 6.2075e-07\n",
      "Train Result: [6.058537564967992e-07, 1.0]\n"
     ]
    }
   ],
   "source": [
    "# Evaluate the discriminator on the train data\n",
    "result = discriminator.evaluate(train_dataset)\n",
    "\n",
    "# Print the result\n",
    "print(f'Train Result: {result}')\n"
   ]
  },
  {
   "cell_type": "code",
   "execution_count": 13,
   "id": "85044836",
   "metadata": {
    "execution": {
     "iopub.execute_input": "2024-05-18T20:55:11.472809Z",
     "iopub.status.busy": "2024-05-18T20:55:11.472452Z",
     "iopub.status.idle": "2024-05-18T20:56:17.271472Z",
     "shell.execute_reply": "2024-05-18T20:56:17.270591Z"
    },
    "papermill": {
     "duration": 70.002542,
     "end_time": "2024-05-18T20:56:17.273847",
     "exception": false,
     "start_time": "2024-05-18T20:55:07.271305",
     "status": "completed"
    },
    "tags": []
   },
   "outputs": [
    {
     "name": "stdout",
     "output_type": "stream",
     "text": [
      "Found 12630 validated image filenames belonging to 43 classes.\n"
     ]
    }
   ],
   "source": [
    "from tensorflow.keras.preprocessing.image import ImageDataGenerator\n",
    "\n",
    "# Convert numerical class labels to strings\n",
    "# Define the path to the test images\n",
    "import pandas as pd\n",
    "df = pd.read_csv('/kaggle/input/gtsrb-german-traffic-sign/Test.csv')\n",
    "test_dir = '/kaggle/input/gtsrb-german-traffic-sign/'\n",
    "\n",
    "df['ClassId'] = df['ClassId'].astype(str)\n",
    "\n",
    "# Define image data generator with preprocessing steps for test data\n",
    "test_datagen = ImageDataGenerator(rescale=1./255)\n",
    "\n",
    "# Flow from dataframe to preprocess test images\n",
    "test_generator = test_datagen.flow_from_dataframe(\n",
    "    df,\n",
    "    directory=test_dir,\n",
    "    x_col='Path',\n",
    "    y_col='ClassId',\n",
    "    target_size=(64, 64),\n",
    "    batch_size=len(df),\n",
    "    class_mode='categorical',  # 'categorical' returns one-hot encoded labels\n",
    "    shuffle=False  # Do not shuffle for evaluation\n",
    ")\n",
    "\n",
    "# Get preprocessed test images and labels\n",
    "X_test, y_test = next(test_generator)\n"
   ]
  },
  {
   "cell_type": "code",
   "execution_count": 14,
   "id": "eb8f2817",
   "metadata": {
    "execution": {
     "iopub.execute_input": "2024-05-18T20:56:25.484275Z",
     "iopub.status.busy": "2024-05-18T20:56:25.483536Z",
     "iopub.status.idle": "2024-05-18T20:56:25.487751Z",
     "shell.execute_reply": "2024-05-18T20:56:25.486813Z"
    },
    "papermill": {
     "duration": 4.092769,
     "end_time": "2024-05-18T20:56:25.489565",
     "exception": false,
     "start_time": "2024-05-18T20:56:21.396796",
     "status": "completed"
    },
    "tags": []
   },
   "outputs": [],
   "source": [
    "#130 epoch 93 percent"
   ]
  },
  {
   "cell_type": "code",
   "execution_count": 15,
   "id": "146b5885",
   "metadata": {
    "execution": {
     "iopub.execute_input": "2024-05-18T20:56:33.568871Z",
     "iopub.status.busy": "2024-05-18T20:56:33.568077Z",
     "iopub.status.idle": "2024-05-18T20:56:41.194436Z",
     "shell.execute_reply": "2024-05-18T20:56:41.193521Z"
    },
    "papermill": {
     "duration": 11.688372,
     "end_time": "2024-05-18T20:56:41.196406",
     "exception": false,
     "start_time": "2024-05-18T20:56:29.508034",
     "status": "completed"
    },
    "tags": []
   },
   "outputs": [
    {
     "name": "stdout",
     "output_type": "stream",
     "text": [
      "\u001b[1m395/395\u001b[0m \u001b[32m━━━━━━━━━━━━━━━━━━━━\u001b[0m\u001b[37m\u001b[0m \u001b[1m6s\u001b[0m 11ms/step - accuracy: 0.9658 - loss: 0.2940\n",
      "Test Result: [0.31979191303253174, 0.9656373858451843]\n"
     ]
    }
   ],
   "source": [
    "# Evaluate the discriminator on the test data   ##100 epoch\n",
    "result = discriminator.evaluate(X_test, y_test)\n",
    "\n",
    "# Print the result\n",
    "print(f'Test Result: {result}')\n"
   ]
  },
  {
   "cell_type": "code",
   "execution_count": 16,
   "id": "45f7812c",
   "metadata": {
    "execution": {
     "iopub.execute_input": "2024-05-18T20:56:49.456108Z",
     "iopub.status.busy": "2024-05-18T20:56:49.455161Z",
     "iopub.status.idle": "2024-05-18T20:56:53.776932Z",
     "shell.execute_reply": "2024-05-18T20:56:53.775924Z"
    },
    "papermill": {
     "duration": 8.510905,
     "end_time": "2024-05-18T20:56:53.778924",
     "exception": false,
     "start_time": "2024-05-18T20:56:45.268019",
     "status": "completed"
    },
    "tags": []
   },
   "outputs": [
    {
     "name": "stdout",
     "output_type": "stream",
     "text": [
      "\u001b[1m395/395\u001b[0m \u001b[32m━━━━━━━━━━━━━━━━━━━━\u001b[0m\u001b[37m\u001b[0m \u001b[1m3s\u001b[0m 7ms/step - accuracy: 0.9658 - loss: 0.2940\n",
      "Test Result: [0.31979191303253174, 0.9656373858451843]\n"
     ]
    }
   ],
   "source": [
    "# Evaluate the discriminator on the test data   #125 epoch\n",
    "result = discriminator.evaluate(X_test, y_test)\n",
    "\n",
    "# Print the result\n",
    "print(f'Test Result: {result}')\n"
   ]
  },
  {
   "cell_type": "code",
   "execution_count": 17,
   "id": "33b2414e",
   "metadata": {
    "collapsed": true,
    "execution": {
     "iopub.execute_input": "2024-05-18T20:57:01.968267Z",
     "iopub.status.busy": "2024-05-18T20:57:01.967862Z",
     "iopub.status.idle": "2024-05-18T20:57:06.287263Z",
     "shell.execute_reply": "2024-05-18T20:57:06.286239Z"
    },
    "jupyter": {
     "outputs_hidden": true,
     "source_hidden": true
    },
    "papermill": {
     "duration": 8.386497,
     "end_time": "2024-05-18T20:57:06.289339",
     "exception": false,
     "start_time": "2024-05-18T20:56:57.902842",
     "status": "completed"
    },
    "tags": []
   },
   "outputs": [
    {
     "name": "stdout",
     "output_type": "stream",
     "text": [
      "\u001b[1m395/395\u001b[0m \u001b[32m━━━━━━━━━━━━━━━━━━━━\u001b[0m\u001b[37m\u001b[0m \u001b[1m3s\u001b[0m 7ms/step - accuracy: 0.9658 - loss: 0.2940\n",
      "Test Result: [0.31979191303253174, 0.9656373858451843]\n"
     ]
    }
   ],
   "source": [
    "# Evaluate the discriminator on the test data  ##145 epoch\n",
    "result = discriminator.evaluate(X_test, y_test)\n",
    "\n",
    "# Print the result\n",
    "print(f'Test Result: {result}')\n"
   ]
  },
  {
   "cell_type": "code",
   "execution_count": 18,
   "id": "bdad7c7d",
   "metadata": {
    "execution": {
     "iopub.execute_input": "2024-05-18T20:57:14.493021Z",
     "iopub.status.busy": "2024-05-18T20:57:14.492108Z",
     "iopub.status.idle": "2024-05-18T20:57:14.593174Z",
     "shell.execute_reply": "2024-05-18T20:57:14.592257Z"
    },
    "papermill": {
     "duration": 4.184334,
     "end_time": "2024-05-18T20:57:14.595090",
     "exception": false,
     "start_time": "2024-05-18T20:57:10.410756",
     "status": "completed"
    },
    "tags": []
   },
   "outputs": [
    {
     "data": {
      "text/plain": [
       "'/kaggle/working/without_aug2.zip'"
      ]
     },
     "execution_count": 18,
     "metadata": {},
     "output_type": "execute_result"
    }
   ],
   "source": [
    "import shutil\n",
    "import os\n",
    "\n",
    "# Specify the folder path\n",
    "folder_path = '/kaggle/working/empty_folderf3'\n",
    "\n",
    "# Create a zip file\n",
    "shutil.make_archive(folder_path, 'zip', folder_path)\n",
    "\n",
    "# Move the zip file to the output directory\n",
    "output_path = '/kaggle/working/without_aug2.zip'\n",
    "shutil.move(folder_path + '.zip', output_path)\n",
    "\n",
    "# Display the download link\n",
    "output_path\n",
    "   "
   ]
  },
  {
   "cell_type": "code",
   "execution_count": 19,
   "id": "900567b4",
   "metadata": {
    "execution": {
     "iopub.execute_input": "2024-05-18T20:57:22.760061Z",
     "iopub.status.busy": "2024-05-18T20:57:22.759701Z",
     "iopub.status.idle": "2024-05-18T20:57:22.963639Z",
     "shell.execute_reply": "2024-05-18T20:57:22.962745Z"
    },
    "papermill": {
     "duration": 4.300859,
     "end_time": "2024-05-18T20:57:22.965848",
     "exception": false,
     "start_time": "2024-05-18T20:57:18.664989",
     "status": "completed"
    },
    "tags": []
   },
   "outputs": [],
   "source": [
    "discriminator.save('d_aug_valf.h5')"
   ]
  },
  {
   "cell_type": "code",
   "execution_count": 20,
   "id": "f256c1ec",
   "metadata": {
    "execution": {
     "iopub.execute_input": "2024-05-18T20:57:31.134924Z",
     "iopub.status.busy": "2024-05-18T20:57:31.134565Z",
     "iopub.status.idle": "2024-05-18T20:57:35.919701Z",
     "shell.execute_reply": "2024-05-18T20:57:35.918611Z"
    },
    "papermill": {
     "duration": 8.831253,
     "end_time": "2024-05-18T20:57:35.921781",
     "exception": false,
     "start_time": "2024-05-18T20:57:27.090528",
     "status": "completed"
    },
    "tags": []
   },
   "outputs": [
    {
     "name": "stdout",
     "output_type": "stream",
     "text": [
      "\u001b[1m395/395\u001b[0m \u001b[32m━━━━━━━━━━━━━━━━━━━━\u001b[0m\u001b[37m\u001b[0m \u001b[1m3s\u001b[0m 7ms/step\n",
      "Precision: [0.98333333 0.91094148 0.98798799 0.91048035 0.99409158 0.97554348\n",
      " 0.99264706 0.96759259 0.98675497 1.         1.         0.9375\n",
      " 0.96627756 0.9        0.97101449 0.99099099 0.97333333 0.95348837\n",
      " 0.93081761 0.83606557 0.66666667 0.99319728 0.96774194 0.94553377\n",
      " 0.9338843  0.99261993 0.98360656 0.9952381  0.96747967 0.97964377\n",
      " 0.975      1.         0.99124088 0.98837209 0.99375975 0.90526316\n",
      " 1.         0.92708333 0.96579805 1.         0.98604651 0.9379015\n",
      " 0.97363083]\n",
      "Recall: [0.98333333 0.99444444 0.9969697  0.99285714 0.97536232 0.99722222\n",
      " 1.         0.9952381  0.99333333 0.98888889 0.90512821 1.\n",
      " 0.99333333 1.         0.74444444 0.91666667 0.97333333 0.91111111\n",
      " 0.925      0.85       0.5        0.97333333 1.         0.96444444\n",
      " 0.75333333 0.9962963  1.         0.9952381  0.99166667 0.98717949\n",
      " 0.975      0.98333333 0.98405797 0.94444444 0.96515152 0.95555556\n",
      " 0.8        0.98888889 0.94126984 0.87333333 0.94222222 0.97333333\n",
      " 1.        ]\n",
      "F1 Score: [0.98333333 0.95086321 0.99245852 0.9498861  0.98463789 0.98626374\n",
      " 0.99630996 0.98122066 0.99003322 0.99441341 0.95020188 0.96774194\n",
      " 0.97961867 0.94736842 0.8427673  0.95238095 0.97333333 0.93181818\n",
      " 0.92789969 0.84297521 0.57142857 0.98316498 0.98360656 0.95489549\n",
      " 0.83394834 0.99445471 0.99173554 0.9952381  0.97942387 0.98339719\n",
      " 0.975      0.99159664 0.98763636 0.96590909 0.97924673 0.92972973\n",
      " 0.88888889 0.95698925 0.95337621 0.93238434 0.96363636 0.95528899\n",
      " 0.98663926]\n",
      "Support: [ 60 720 660 420 690 720 270 210 150 360 390  60 750  90  90 120 150  90\n",
      " 480 180  60 150  90 450 150 270  60 210 120 390 120  60 690  90 660  90\n",
      "  60  90 630 150 450 450 480]\n",
      "Average Precision: 0.9590364842718501\n",
      "Average Recall: 0.9447615968647313\n",
      "Average F1 Score: 0.950305600415717\n"
     ]
    }
   ],
   "source": [
    "from sklearn.metrics import precision_recall_fscore_support\n",
    "\n",
    "# Assuming you have test data predictions stored in y_pred and true labels in y_true\n",
    "y_pred = discriminator.predict(X_test)\n",
    "y_true = np.argmax(y_test, axis=1)  # Convert one-hot encoded labels to class labels\n",
    "\n",
    "# Convert predicted probabilities to class labels\n",
    "y_pred_labels = np.argmax(y_pred, axis=1)\n",
    "\n",
    "# Calculate precision, recall, f1-score, and support for each class\n",
    "precision, recall, f1_score, support = precision_recall_fscore_support(y_true, y_pred_labels)\n",
    "\n",
    "# Average precision, recall, f1-score across all classes\n",
    "avg_precision = np.mean(precision)\n",
    "avg_recall = np.mean(recall)\n",
    "avg_f1_score = np.mean(f1_score)\n",
    "\n",
    "# Print results\n",
    "print(\"Precision:\", precision)\n",
    "print(\"Recall:\", recall)\n",
    "print(\"F1 Score:\", f1_score)\n",
    "print(\"Support:\", support)\n",
    "print(\"Average Precision:\", avg_precision)\n",
    "print(\"Average Recall:\", avg_recall)\n",
    "print(\"Average F1 Score:\", avg_f1_score)\n"
   ]
  }
 ],
 "metadata": {
  "kaggle": {
   "accelerator": "gpu",
   "dataSources": [
    {
     "datasetId": 82373,
     "sourceId": 191501,
     "sourceType": "datasetVersion"
    },
    {
     "datasetId": 3820936,
     "sourceId": 6620552,
     "sourceType": "datasetVersion"
    }
   ],
   "dockerImageVersionId": 30699,
   "isGpuEnabled": true,
   "isInternetEnabled": true,
   "language": "python",
   "sourceType": "notebook"
  },
  "kernelspec": {
   "display_name": "Python 3",
   "language": "python",
   "name": "python3"
  },
  "language_info": {
   "codemirror_mode": {
    "name": "ipython",
    "version": 3
   },
   "file_extension": ".py",
   "mimetype": "text/x-python",
   "name": "python",
   "nbconvert_exporter": "python",
   "pygments_lexer": "ipython3",
   "version": "3.10.13"
  },
  "papermill": {
   "default_parameters": {},
   "duration": 14626.246702,
   "end_time": "2024-05-18T20:57:42.391355",
   "environment_variables": {},
   "exception": null,
   "input_path": "__notebook__.ipynb",
   "output_path": "__notebook__.ipynb",
   "parameters": {},
   "start_time": "2024-05-18T16:53:56.144653",
   "version": "2.5.0"
  }
 },
 "nbformat": 4,
 "nbformat_minor": 5
}
