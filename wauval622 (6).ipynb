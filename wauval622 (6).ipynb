{
 "cells": [
  {
   "cell_type": "code",
   "execution_count": 1,
   "id": "7bce27b3",
   "metadata": {
    "execution": {
     "iopub.execute_input": "2024-05-19T11:53:17.747888Z",
     "iopub.status.busy": "2024-05-19T11:53:17.747547Z",
     "iopub.status.idle": "2024-05-19T11:53:29.895118Z",
     "shell.execute_reply": "2024-05-19T11:53:29.894274Z"
    },
    "papermill": {
     "duration": 12.157601,
     "end_time": "2024-05-19T11:53:29.897440",
     "exception": false,
     "start_time": "2024-05-19T11:53:17.739839",
     "status": "completed"
    },
    "tags": []
   },
   "outputs": [
    {
     "name": "stderr",
     "output_type": "stream",
     "text": [
      "2024-05-19 11:53:19.563199: E external/local_xla/xla/stream_executor/cuda/cuda_dnn.cc:9261] Unable to register cuDNN factory: Attempting to register factory for plugin cuDNN when one has already been registered\n",
      "2024-05-19 11:53:19.563294: E external/local_xla/xla/stream_executor/cuda/cuda_fft.cc:607] Unable to register cuFFT factory: Attempting to register factory for plugin cuFFT when one has already been registered\n",
      "2024-05-19 11:53:19.705523: E external/local_xla/xla/stream_executor/cuda/cuda_blas.cc:1515] Unable to register cuBLAS factory: Attempting to register factory for plugin cuBLAS when one has already been registered\n"
     ]
    }
   ],
   "source": [
    "import tensorflow as tf\n",
    "import os\n",
    "import numpy as np\n",
    "from pathlib import Path\n",
    "from tensorflow import keras\n",
    "from tensorflow.keras import layers\n",
    "from tqdm import tqdm"
   ]
  },
  {
   "cell_type": "code",
   "execution_count": 2,
   "id": "bf65f6f4",
   "metadata": {
    "execution": {
     "iopub.execute_input": "2024-05-19T11:53:29.911630Z",
     "iopub.status.busy": "2024-05-19T11:53:29.911067Z",
     "iopub.status.idle": "2024-05-19T11:53:29.916252Z",
     "shell.execute_reply": "2024-05-19T11:53:29.915443Z"
    },
    "papermill": {
     "duration": 0.014352,
     "end_time": "2024-05-19T11:53:29.918251",
     "exception": false,
     "start_time": "2024-05-19T11:53:29.903899",
     "status": "completed"
    },
    "tags": []
   },
   "outputs": [],
   "source": [
    "import os\n",
    "# Define the path for the empty folder\n",
    "folder_path = '/kaggle/working/empty_folderf3/'\n",
    "\n",
    "# Create the empty folder\n",
    "os.makedirs(folder_path, exist_ok=True)\n",
    "save_dir = ('/kaggle/working/empty_folderf3')\n"
   ]
  },
  {
   "cell_type": "code",
   "execution_count": 3,
   "id": "946cc251",
   "metadata": {
    "execution": {
     "iopub.execute_input": "2024-05-19T11:53:29.931211Z",
     "iopub.status.busy": "2024-05-19T11:53:29.930945Z",
     "iopub.status.idle": "2024-05-19T11:53:51.903308Z",
     "shell.execute_reply": "2024-05-19T11:53:51.902567Z"
    },
    "papermill": {
     "duration": 21.981192,
     "end_time": "2024-05-19T11:53:51.905434",
     "exception": false,
     "start_time": "2024-05-19T11:53:29.924242",
     "status": "completed"
    },
    "tags": []
   },
   "outputs": [
    {
     "name": "stdout",
     "output_type": "stream",
     "text": [
      "Found 39209 files belonging to 43 classes.\n",
      "Using 31368 files for training.\n",
      "Found 39209 files belonging to 43 classes.\n",
      "Using 7841 files for validation.\n"
     ]
    }
   ],
   "source": [
    "from sklearn.model_selection import train_test_split\n",
    "\n",
    "# Split dataset into training and validation sets\n",
    "train_dir = '/kaggle/input/gtsrb-train/Train'\n",
    "train_data, val_data = train_test_split(os.listdir(train_dir), test_size=0.2, random_state=42)\n",
    "\n",
    "# Create training and validation datasets\n",
    "train_dataset = keras.preprocessing.image_dataset_from_directory(\n",
    "    directory=train_dir, \n",
    "    labels='inferred',  # Use inferred labels from directory structure\n",
    "    label_mode='categorical', \n",
    "    image_size=(48, 48), \n",
    "    batch_size=64,\n",
    "    shuffle=True,\n",
    "    validation_split=0.2,  # Percentage of data to use for validation\n",
    "    subset=\"training\",\n",
    "    seed=42  # Specify seed for reproducibility\n",
    ").map(lambda x, y: (x/255.0, y))  # Normalize the pixel values to [0, 1]\n",
    "\n",
    "val_dataset = keras.preprocessing.image_dataset_from_directory(\n",
    "    directory=train_dir, \n",
    "    labels='inferred',  # Use inferred labels from directory structure\n",
    "    label_mode='categorical', \n",
    "    image_size=(48, 48), \n",
    "    batch_size=64,\n",
    "    shuffle=True,\n",
    "    validation_split=0.2,  # Percentage of data to use for validation\n",
    "    subset=\"validation\",\n",
    "    seed=42  # Specify seed for reproducibility\n",
    ").map(lambda x, y: (x/255.0, y))  # Normalize the pixel values to [0, 1])\n"
   ]
  },
  {
   "cell_type": "code",
   "execution_count": 4,
   "id": "0c4ed790",
   "metadata": {
    "execution": {
     "iopub.execute_input": "2024-05-19T11:53:51.920029Z",
     "iopub.status.busy": "2024-05-19T11:53:51.919298Z",
     "iopub.status.idle": "2024-05-19T11:53:51.923214Z",
     "shell.execute_reply": "2024-05-19T11:53:51.922405Z"
    },
    "papermill": {
     "duration": 0.013088,
     "end_time": "2024-05-19T11:53:51.925035",
     "exception": false,
     "start_time": "2024-05-19T11:53:51.911947",
     "status": "completed"
    },
    "tags": []
   },
   "outputs": [],
   "source": [
    "#nnnnnnneeeeewwwwwwwwww   mmmmooodeeel"
   ]
  },
  {
   "cell_type": "code",
   "execution_count": 5,
   "id": "faae4b9f",
   "metadata": {
    "execution": {
     "iopub.execute_input": "2024-05-19T11:53:51.939136Z",
     "iopub.status.busy": "2024-05-19T11:53:51.938480Z",
     "iopub.status.idle": "2024-05-19T11:53:52.074457Z",
     "shell.execute_reply": "2024-05-19T11:53:52.073764Z"
    },
    "papermill": {
     "duration": 0.14527,
     "end_time": "2024-05-19T11:53:52.076593",
     "exception": false,
     "start_time": "2024-05-19T11:53:51.931323",
     "status": "completed"
    },
    "tags": []
   },
   "outputs": [],
   "source": [
    "latent_dim = 128\n",
    "\n",
    "# Encoder\n",
    "encoder = keras.Sequential([\n",
    "    layers.Input(shape=(48, 48, 3)),\n",
    "    layers.Conv2D(64, kernel_size=4, strides=2, padding=\"same\"),\n",
    "    layers.LeakyReLU(0.2),\n",
    "    layers.Conv2D(128, kernel_size=4, strides=2, padding=\"same\"),\n",
    "    layers.LeakyReLU(0.2),\n",
    "    layers.Conv2D(256, kernel_size=4, strides=2, padding=\"same\"),\n",
    "    layers.LeakyReLU(0.2),\n",
    "    layers.Conv2D(512, kernel_size=4, strides=2, padding=\"same\"),\n",
    "    layers.LeakyReLU(0.2),\n",
    "    layers.Flatten(),\n",
    "    layers.Dense(latent_dim)  # Latent representation\n",
    "])\n",
    "\n",
    "# Decoder\n",
    "decoder = keras.Sequential([\n",
    "    layers.Input(shape=(latent_dim,)),\n",
    "    layers.Dense(6*6*512),\n",
    "    layers.Reshape((6,6, 512)),\n",
    "    layers.Conv2DTranspose(256, kernel_size=4, strides=2, padding=\"same\"),\n",
    "    layers.LeakyReLU(0.2),\n",
    "    layers.Conv2DTranspose(128, kernel_size=4, strides=2, padding=\"same\"),\n",
    "    layers.LeakyReLU(0.2),\n",
    "    layers.Conv2DTranspose(64, kernel_size=4, strides=2, padding=\"same\"),\n",
    "    layers.LeakyReLU(0.2),\n",
    "    layers.Conv2DTranspose(3, kernel_size=4,  padding=\"same\", activation=\"tanh\"),\n",
    "])\n",
    "\n",
    "# Full autoencoder model\n",
    "autoencoder = keras.Sequential([\n",
    "    layers.Input(shape=(48,48, 3)),\n",
    "    encoder,\n",
    "    decoder\n",
    "])\n"
   ]
  },
  {
   "cell_type": "code",
   "execution_count": 6,
   "id": "5b2db95b",
   "metadata": {
    "execution": {
     "iopub.execute_input": "2024-05-19T11:53:52.090304Z",
     "iopub.status.busy": "2024-05-19T11:53:52.090052Z",
     "iopub.status.idle": "2024-05-19T11:53:52.094025Z",
     "shell.execute_reply": "2024-05-19T11:53:52.093159Z"
    },
    "papermill": {
     "duration": 0.01302,
     "end_time": "2024-05-19T11:53:52.095985",
     "exception": false,
     "start_time": "2024-05-19T11:53:52.082965",
     "status": "completed"
    },
    "tags": []
   },
   "outputs": [],
   "source": [
    "from tensorflow.keras import layers, models, optimizers"
   ]
  },
  {
   "cell_type": "code",
   "execution_count": 7,
   "id": "c32c5f7f",
   "metadata": {
    "execution": {
     "iopub.execute_input": "2024-05-19T11:53:52.109927Z",
     "iopub.status.busy": "2024-05-19T11:53:52.109657Z",
     "iopub.status.idle": "2024-05-19T11:53:52.221070Z",
     "shell.execute_reply": "2024-05-19T11:53:52.220337Z"
    },
    "papermill": {
     "duration": 0.12071,
     "end_time": "2024-05-19T11:53:52.223050",
     "exception": false,
     "start_time": "2024-05-19T11:53:52.102340",
     "status": "completed"
    },
    "tags": []
   },
   "outputs": [],
   "source": [
    "import tensorflow as tf\n",
    "\n",
    "def create_model():\n",
    "    inputs = tf.keras.Input(shape=(48, 48, 3))\n",
    "    \n",
    "    x = tf.keras.layers.Conv2D(250, kernel_size=3, activation='relu', padding='same')(inputs)\n",
    "    x = tf.keras.layers.MaxPooling2D(pool_size=2, padding='same')(x)  # Output shape: (24, 24, 250)\n",
    "    \n",
    "    x = tf.keras.layers.Conv2D(300, kernel_size=3, activation='relu', padding='same')(x)\n",
    "    x = tf.keras.layers.MaxPooling2D(pool_size=2, padding='same')(x)  # Output shape: (12, 12, 300)\n",
    "    \n",
    "    x = tf.keras.layers.Conv2D(350, kernel_size=3, activation='relu', padding='same')(x)\n",
    "    x = tf.keras.layers.MaxPooling2D(pool_size=2, padding='same')(x)  # Output shape: (6, 6, 350)\n",
    "    \n",
    "    x = tf.keras.layers.Conv2D(400, kernel_size=3, activation='relu', padding='same')(x)\n",
    "    x = tf.keras.layers.MaxPooling2D(pool_size=2, padding='same')(x)  # Output shape: (3, 3, 400)\n",
    "    \n",
    "    x = tf.keras.layers.Conv2D(450, kernel_size=3, activation='relu', padding='same')(x)\n",
    "    x = tf.keras.layers.MaxPooling2D(pool_size=2, padding='same')(x)  # Output shape: (2, 2, 450)\n",
    "    \n",
    "    x = tf.keras.layers.Flatten()(x)\n",
    "    \n",
    "    x = tf.keras.layers.Dense(450, activation='relu')(x)\n",
    "    x = tf.keras.layers.Dropout(0.4)(x)\n",
    "    x = tf.keras.layers.Dense(350, activation='relu')(x)\n",
    "    x = tf.keras.layers.Dropout(0.4)(x)\n",
    "    x = tf.keras.layers.Dense(250, activation='relu')(x)\n",
    "    x = tf.keras.layers.Dropout(0.4)(x)\n",
    "    x = tf.keras.layers.Dense(150, activation='relu')(x)\n",
    "    x = tf.keras.layers.Dropout(0.4)(x)\n",
    "    \n",
    "    outputs = tf.keras.layers.Dense(43, activation='softmax')(x)\n",
    "    \n",
    "    model = tf.keras.Model(inputs=inputs, outputs=outputs)\n",
    "    \n",
    "    return model\n",
    "\n",
    "# Create an instance of the model\n",
    "discriminator = create_model()\n",
    "\n",
    "\n"
   ]
  },
  {
   "cell_type": "code",
   "execution_count": 8,
   "id": "aba75210",
   "metadata": {
    "execution": {
     "iopub.execute_input": "2024-05-19T11:53:52.236951Z",
     "iopub.status.busy": "2024-05-19T11:53:52.236678Z",
     "iopub.status.idle": "2024-05-19T11:53:52.252799Z",
     "shell.execute_reply": "2024-05-19T11:53:52.251939Z"
    },
    "papermill": {
     "duration": 0.025211,
     "end_time": "2024-05-19T11:53:52.254721",
     "exception": false,
     "start_time": "2024-05-19T11:53:52.229510",
     "status": "completed"
    },
    "tags": []
   },
   "outputs": [],
   "source": [
    "# Loss functions\n",
    "loss_fn_auto = tf.keras.losses.MeanSquaredError()\n",
    "loss_fn_disc = tf.keras.losses.CategoricalCrossentropy()\n",
    "\n",
    "# Optimizers\n",
    "opt_autoencoder = tf.keras.optimizers.Adam(learning_rate=0.0001, beta_1=0.5)\n",
    "opt_disc = tf.keras.optimizers.Adam(learning_rate=0.0001, beta_1=0.5)\n",
    "\n",
    "\n",
    "# Compile the autoencoder model\n",
    "autoencoder.compile(optimizer=opt_autoencoder, loss=loss_fn_auto)\n",
    "\n",
    "# Compile the discriminator model\n",
    "discriminator.compile(optimizer=opt_disc, loss=loss_fn_disc, metrics=['accuracy'])"
   ]
  },
  {
   "cell_type": "code",
   "execution_count": 9,
   "id": "dc1782f4",
   "metadata": {
    "execution": {
     "iopub.execute_input": "2024-05-19T11:53:52.270575Z",
     "iopub.status.busy": "2024-05-19T11:53:52.269559Z",
     "iopub.status.idle": "2024-05-19T16:12:43.208776Z",
     "shell.execute_reply": "2024-05-19T16:12:43.207761Z"
    },
    "papermill": {
     "duration": 15530.949926,
     "end_time": "2024-05-19T16:12:43.210906",
     "exception": false,
     "start_time": "2024-05-19T11:53:52.260980",
     "status": "completed"
    },
    "tags": []
   },
   "outputs": [
    {
     "name": "stderr",
     "output_type": "stream",
     "text": [
      "100%|██████████| 491/491 [02:36<00:00,  3.14it/s]\n"
     ]
    },
    {
     "name": "stdout",
     "output_type": "stream",
     "text": [
      "Epoch 0, Autoencoder Loss: 0.0260771531611681, Discriminator Loss: 3.178070545196533, Discriminator Accuracy: 0.10813391208648682\n",
      "Validation - Autoencoder Loss: 0.01685945689678192, Discriminator Loss: 2.56105899810791, Discriminator Accuracy: 0.11632329225540161\n"
     ]
    },
    {
     "name": "stderr",
     "output_type": "stream",
     "text": [
      "100%|██████████| 491/491 [02:23<00:00,  3.43it/s]\n"
     ]
    },
    {
     "name": "stdout",
     "output_type": "stream",
     "text": [
      "Epoch 1, Autoencoder Loss: 0.01231600996106863, Discriminator Loss: 1.4925650358200073, Discriminator Accuracy: 0.5416879057884216\n",
      "Validation - Autoencoder Loss: 0.010455350391566753, Discriminator Loss: 1.0118328332901, Discriminator Accuracy: 0.596001923084259\n"
     ]
    },
    {
     "name": "stderr",
     "output_type": "stream",
     "text": [
      "100%|██████████| 491/491 [02:22<00:00,  3.45it/s]\n"
     ]
    },
    {
     "name": "stdout",
     "output_type": "stream",
     "text": [
      "Epoch 2, Autoencoder Loss: 0.008738884702324867, Discriminator Loss: 0.5899626612663269, Discriminator Accuracy: 0.8475050926208496\n",
      "Validation - Autoencoder Loss: 0.007700140122324228, Discriminator Loss: 0.4256548583507538, Discriminator Accuracy: 0.8032651543617249\n"
     ]
    },
    {
     "name": "stderr",
     "output_type": "stream",
     "text": [
      "100%|██████████| 491/491 [02:24<00:00,  3.40it/s]\n"
     ]
    },
    {
     "name": "stdout",
     "output_type": "stream",
     "text": [
      "Epoch 3, Autoencoder Loss: 0.008912667632102966, Discriminator Loss: 0.3545142412185669, Discriminator Accuracy: 0.9191382527351379\n",
      "Validation - Autoencoder Loss: 0.0067758746445178986, Discriminator Loss: 0.30058547854423523, Discriminator Accuracy: 0.8778178095817566\n"
     ]
    },
    {
     "name": "stderr",
     "output_type": "stream",
     "text": [
      "100%|██████████| 491/491 [02:21<00:00,  3.46it/s]\n"
     ]
    },
    {
     "name": "stdout",
     "output_type": "stream",
     "text": [
      "Epoch 4, Autoencoder Loss: 0.00621954258531332, Discriminator Loss: 0.15500539541244507, Discriminator Accuracy: 0.9817655086517334\n",
      "Validation - Autoencoder Loss: 0.006103536579757929, Discriminator Loss: 0.549828827381134, Discriminator Accuracy: 0.819794774055481\n"
     ]
    },
    {
     "name": "stderr",
     "output_type": "stream",
     "text": [
      "100%|██████████| 491/491 [02:21<00:00,  3.47it/s]\n"
     ]
    },
    {
     "name": "stdout",
     "output_type": "stream",
     "text": [
      "Epoch 5, Autoencoder Loss: 0.005550737027078867, Discriminator Loss: 0.09605640918016434, Discriminator Accuracy: 0.9925216436386108\n",
      "Validation - Autoencoder Loss: 0.005547430831938982, Discriminator Loss: 0.5636482834815979, Discriminator Accuracy: 0.8389535546302795\n"
     ]
    },
    {
     "name": "stderr",
     "output_type": "stream",
     "text": [
      "100%|██████████| 491/491 [02:21<00:00,  3.47it/s]\n"
     ]
    },
    {
     "name": "stdout",
     "output_type": "stream",
     "text": [
      "Epoch 6, Autoencoder Loss: 0.005021922755986452, Discriminator Loss: 0.06171180307865143, Discriminator Accuracy: 0.9976769089698792\n",
      "Validation - Autoencoder Loss: 0.00516454828903079, Discriminator Loss: 0.10298169404268265, Discriminator Accuracy: 0.9541412591934204\n"
     ]
    },
    {
     "name": "stderr",
     "output_type": "stream",
     "text": [
      "100%|██████████| 491/491 [02:21<00:00,  3.47it/s]\n"
     ]
    },
    {
     "name": "stdout",
     "output_type": "stream",
     "text": [
      "Epoch 7, Autoencoder Loss: 0.005032666493207216, Discriminator Loss: 0.07620591670274734, Discriminator Accuracy: 0.9926807284355164\n",
      "Validation - Autoencoder Loss: 0.004728782456368208, Discriminator Loss: 0.15524451434612274, Discriminator Accuracy: 0.9288617968559265\n"
     ]
    },
    {
     "name": "stderr",
     "output_type": "stream",
     "text": [
      "100%|██████████| 491/491 [02:22<00:00,  3.44it/s]\n"
     ]
    },
    {
     "name": "stdout",
     "output_type": "stream",
     "text": [
      "Epoch 8, Autoencoder Loss: 0.004208885133266449, Discriminator Loss: 0.03353128954768181, Discriminator Accuracy: 0.9990771412849426\n",
      "Validation - Autoencoder Loss: 0.004718853626400232, Discriminator Loss: 0.08739253878593445, Discriminator Accuracy: 0.9652084708213806\n"
     ]
    },
    {
     "name": "stderr",
     "output_type": "stream",
     "text": [
      "100%|██████████| 491/491 [03:21<00:00,  2.43it/s]\n"
     ]
    },
    {
     "name": "stdout",
     "output_type": "stream",
     "text": [
      "Epoch 9, Autoencoder Loss: 0.0040077450685203075, Discriminator Loss: 0.02672126702964306, Discriminator Accuracy: 0.999586284160614\n",
      "Validation - Autoencoder Loss: 0.004430963192135096, Discriminator Loss: 0.08287481963634491, Discriminator Accuracy: 0.9639227390289307\n"
     ]
    },
    {
     "name": "stderr",
     "output_type": "stream",
     "text": [
      "100%|██████████| 491/491 [02:24<00:00,  3.40it/s]\n"
     ]
    },
    {
     "name": "stdout",
     "output_type": "stream",
     "text": [
      "Epoch 10, Autoencoder Loss: 0.003753827651962638, Discriminator Loss: 0.027802783995866776, Discriminator Accuracy: 0.9993953704833984\n",
      "Validation - Autoencoder Loss: 0.004014395177364349, Discriminator Loss: 0.06131400540471077, Discriminator Accuracy: 0.976760745048523\n"
     ]
    },
    {
     "name": "stderr",
     "output_type": "stream",
     "text": [
      "100%|██████████| 491/491 [02:24<00:00,  3.41it/s]\n"
     ]
    },
    {
     "name": "stdout",
     "output_type": "stream",
     "text": [
      "Epoch 11, Autoencoder Loss: 0.003603981342166662, Discriminator Loss: 0.025142552331089973, Discriminator Accuracy: 0.9990771412849426\n",
      "Validation - Autoencoder Loss: 0.00352649693377316, Discriminator Loss: 0.07028956711292267, Discriminator Accuracy: 0.9772611856460571\n"
     ]
    },
    {
     "name": "stderr",
     "output_type": "stream",
     "text": [
      "100%|██████████| 491/491 [02:24<00:00,  3.41it/s]\n"
     ]
    },
    {
     "name": "stdout",
     "output_type": "stream",
     "text": [
      "Epoch 12, Autoencoder Loss: 0.0033898192923516035, Discriminator Loss: 0.02240225300192833, Discriminator Accuracy: 0.9992680549621582\n",
      "Validation - Autoencoder Loss: 0.0034928040113300085, Discriminator Loss: 0.046763017773628235, Discriminator Accuracy: 0.9837398529052734\n"
     ]
    },
    {
     "name": "stderr",
     "output_type": "stream",
     "text": [
      "100%|██████████| 491/491 [02:23<00:00,  3.41it/s]\n"
     ]
    },
    {
     "name": "stdout",
     "output_type": "stream",
     "text": [
      "Epoch 13, Autoencoder Loss: 0.003296631621196866, Discriminator Loss: 0.01738586090505123, Discriminator Accuracy: 0.9992362260818481\n",
      "Validation - Autoencoder Loss: 0.003890790743753314, Discriminator Loss: 0.10740838944911957, Discriminator Accuracy: 0.9521164298057556\n"
     ]
    },
    {
     "name": "stderr",
     "output_type": "stream",
     "text": [
      "100%|██████████| 491/491 [02:24<00:00,  3.39it/s]\n"
     ]
    },
    {
     "name": "stdout",
     "output_type": "stream",
     "text": [
      "Epoch 14, Autoencoder Loss: 0.0031612764578312635, Discriminator Loss: 0.0300887543708086, Discriminator Accuracy: 0.9987589120864868\n",
      "Validation - Autoencoder Loss: 0.003585720667615533, Discriminator Loss: 0.04026295989751816, Discriminator Accuracy: 0.985264241695404\n"
     ]
    },
    {
     "name": "stderr",
     "output_type": "stream",
     "text": [
      "100%|██████████| 491/491 [02:23<00:00,  3.41it/s]\n"
     ]
    },
    {
     "name": "stdout",
     "output_type": "stream",
     "text": [
      "Epoch 15, Autoencoder Loss: 0.002988601103425026, Discriminator Loss: 0.010569049045443535, Discriminator Accuracy: 0.9997772574424744\n",
      "Validation - Autoencoder Loss: 0.003209533402696252, Discriminator Loss: 0.044549476355314255, Discriminator Accuracy: 0.9837398529052734\n"
     ]
    },
    {
     "name": "stderr",
     "output_type": "stream",
     "text": [
      "100%|██████████| 491/491 [02:23<00:00,  3.42it/s]\n"
     ]
    },
    {
     "name": "stdout",
     "output_type": "stream",
     "text": [
      "Epoch 16, Autoencoder Loss: 0.0029673129320144653, Discriminator Loss: 0.024674739688634872, Discriminator Accuracy: 0.9984725117683411\n",
      "Validation - Autoencoder Loss: 0.0032612858340144157, Discriminator Loss: 0.04724320024251938, Discriminator Accuracy: 0.9839938879013062\n"
     ]
    },
    {
     "name": "stderr",
     "output_type": "stream",
     "text": [
      "100%|██████████| 491/491 [03:21<00:00,  2.43it/s]\n"
     ]
    },
    {
     "name": "stdout",
     "output_type": "stream",
     "text": [
      "Epoch 17, Autoencoder Loss: 0.002824756782501936, Discriminator Loss: 0.011150983162224293, Discriminator Accuracy: 0.999586284160614\n",
      "Validation - Autoencoder Loss: 0.0030785128474235535, Discriminator Loss: 0.06120605394244194, Discriminator Accuracy: 0.9766337275505066\n"
     ]
    },
    {
     "name": "stderr",
     "output_type": "stream",
     "text": [
      "100%|██████████| 491/491 [02:24<00:00,  3.40it/s]\n"
     ]
    },
    {
     "name": "stdout",
     "output_type": "stream",
     "text": [
      "Epoch 18, Autoencoder Loss: 0.0027192735578864813, Discriminator Loss: 0.016657298430800438, Discriminator Accuracy: 0.9995226860046387\n",
      "Validation - Autoencoder Loss: 0.0029795877635478973, Discriminator Loss: 0.07088395208120346, Discriminator Accuracy: 0.9753556847572327\n"
     ]
    },
    {
     "name": "stderr",
     "output_type": "stream",
     "text": [
      "100%|██████████| 491/491 [02:24<00:00,  3.39it/s]\n"
     ]
    },
    {
     "name": "stdout",
     "output_type": "stream",
     "text": [
      "Epoch 19, Autoencoder Loss: 0.002657089149579406, Discriminator Loss: 0.013259444385766983, Discriminator Accuracy: 0.9998090863227844\n",
      "Validation - Autoencoder Loss: 0.0031347298063337803, Discriminator Loss: 0.05929350480437279, Discriminator Accuracy: 0.9786662459373474\n"
     ]
    },
    {
     "name": "stderr",
     "output_type": "stream",
     "text": [
      "100%|██████████| 491/491 [02:24<00:00,  3.40it/s]\n"
     ]
    },
    {
     "name": "stdout",
     "output_type": "stream",
     "text": [
      "Epoch 20, Autoencoder Loss: 0.002615935867652297, Discriminator Loss: 0.010236133821308613, Discriminator Accuracy: 0.9996499419212341\n",
      "Validation - Autoencoder Loss: 0.003510551992803812, Discriminator Loss: 0.045739881694316864, Discriminator Accuracy: 0.981834352016449\n"
     ]
    },
    {
     "name": "stderr",
     "output_type": "stream",
     "text": [
      "100%|██████████| 491/491 [02:24<00:00,  3.40it/s]\n"
     ]
    },
    {
     "name": "stdout",
     "output_type": "stream",
     "text": [
      "Epoch 21, Autoencoder Loss: 0.0025436757132411003, Discriminator Loss: 0.010381169617176056, Discriminator Accuracy: 0.9995226860046387\n",
      "Validation - Autoencoder Loss: 0.0030298091005533934, Discriminator Loss: 0.048751700669527054, Discriminator Accuracy: 0.9837398529052734\n"
     ]
    },
    {
     "name": "stderr",
     "output_type": "stream",
     "text": [
      "100%|██████████| 491/491 [02:24<00:00,  3.39it/s]\n"
     ]
    },
    {
     "name": "stdout",
     "output_type": "stream",
     "text": [
      "Epoch 22, Autoencoder Loss: 0.0024834636133164167, Discriminator Loss: 0.011204750277101994, Discriminator Accuracy: 0.9998090863227844\n",
      "Validation - Autoencoder Loss: 0.0029975909274071455, Discriminator Loss: 0.04307440295815468, Discriminator Accuracy: 0.9851449131965637\n"
     ]
    },
    {
     "name": "stderr",
     "output_type": "stream",
     "text": [
      "100%|██████████| 491/491 [02:23<00:00,  3.41it/s]\n"
     ]
    },
    {
     "name": "stdout",
     "output_type": "stream",
     "text": [
      "Epoch 23, Autoencoder Loss: 0.0024204468354582787, Discriminator Loss: 0.012743914499878883, Discriminator Accuracy: 0.999554455280304\n",
      "Validation - Autoencoder Loss: 0.0028212799225002527, Discriminator Loss: 0.03803832456469536, Discriminator Accuracy: 0.9857723712921143\n"
     ]
    },
    {
     "name": "stderr",
     "output_type": "stream",
     "text": [
      "100%|██████████| 491/491 [02:22<00:00,  3.45it/s]\n"
     ]
    },
    {
     "name": "stdout",
     "output_type": "stream",
     "text": [
      "Epoch 24, Autoencoder Loss: 0.002384765539318323, Discriminator Loss: 0.008851734921336174, Discriminator Accuracy: 0.9998090863227844\n",
      "Validation - Autoencoder Loss: 0.0027596394065767527, Discriminator Loss: 0.04144822806119919, Discriminator Accuracy: 0.9855182766914368\n"
     ]
    },
    {
     "name": "stderr",
     "output_type": "stream",
     "text": [
      "100%|██████████| 491/491 [02:22<00:00,  3.45it/s]\n"
     ]
    },
    {
     "name": "stdout",
     "output_type": "stream",
     "text": [
      "Epoch 25, Autoencoder Loss: 0.002323252148926258, Discriminator Loss: 0.01602206751704216, Discriminator Accuracy: 0.9996817708015442\n",
      "Validation - Autoencoder Loss: 0.003219584235921502, Discriminator Loss: 0.0676058903336525, Discriminator Accuracy: 0.9739660024642944\n"
     ]
    },
    {
     "name": "stderr",
     "output_type": "stream",
     "text": [
      "100%|██████████| 491/491 [02:25<00:00,  3.38it/s]\n"
     ]
    },
    {
     "name": "stdout",
     "output_type": "stream",
     "text": [
      "Epoch 26, Autoencoder Loss: 0.0023230798542499542, Discriminator Loss: 0.00658218702301383, Discriminator Accuracy: 0.9997772574424744\n",
      "Validation - Autoencoder Loss: 0.002978661097586155, Discriminator Loss: 0.0379021093249321, Discriminator Accuracy: 0.9878048896789551\n"
     ]
    },
    {
     "name": "stderr",
     "output_type": "stream",
     "text": [
      "100%|██████████| 491/491 [02:22<00:00,  3.44it/s]\n"
     ]
    },
    {
     "name": "stdout",
     "output_type": "stream",
     "text": [
      "Epoch 27, Autoencoder Loss: 0.002227823017165065, Discriminator Loss: 0.006099758204072714, Discriminator Accuracy: 0.9998409152030945\n",
      "Validation - Autoencoder Loss: 0.0029300320893526077, Discriminator Loss: 0.10425076633691788, Discriminator Accuracy: 0.9648119807243347\n"
     ]
    },
    {
     "name": "stderr",
     "output_type": "stream",
     "text": [
      "100%|██████████| 491/491 [02:23<00:00,  3.43it/s]\n"
     ]
    },
    {
     "name": "stdout",
     "output_type": "stream",
     "text": [
      "Epoch 28, Autoencoder Loss: 0.0022165144328027964, Discriminator Loss: 0.010803702287375927, Discriminator Accuracy: 0.9996817708015442\n",
      "Validation - Autoencoder Loss: 0.0026809140108525753, Discriminator Loss: 0.0391588993370533, Discriminator Accuracy: 0.9879319071769714\n"
     ]
    },
    {
     "name": "stderr",
     "output_type": "stream",
     "text": [
      "100%|██████████| 491/491 [02:24<00:00,  3.40it/s]\n"
     ]
    },
    {
     "name": "stdout",
     "output_type": "stream",
     "text": [
      "Epoch 29, Autoencoder Loss: 0.002158550312742591, Discriminator Loss: 0.007601585704833269, Discriminator Accuracy: 0.9999045133590698\n",
      "Validation - Autoencoder Loss: 0.0027108772192150354, Discriminator Loss: 0.05818882957100868, Discriminator Accuracy: 0.9802060127258301\n"
     ]
    },
    {
     "name": "stderr",
     "output_type": "stream",
     "text": [
      "100%|██████████| 491/491 [02:23<00:00,  3.42it/s]\n"
     ]
    },
    {
     "name": "stdout",
     "output_type": "stream",
     "text": [
      "Epoch 30, Autoencoder Loss: 0.00213438062928617, Discriminator Loss: 0.004413020331412554, Discriminator Accuracy: 0.9998726844787598\n",
      "Validation - Autoencoder Loss: 0.002611975884065032, Discriminator Loss: 0.04426148161292076, Discriminator Accuracy: 0.9820883870124817\n"
     ]
    },
    {
     "name": "stderr",
     "output_type": "stream",
     "text": [
      "100%|██████████| 491/491 [02:23<00:00,  3.43it/s]\n"
     ]
    },
    {
     "name": "stdout",
     "output_type": "stream",
     "text": [
      "Epoch 31, Autoencoder Loss: 0.002098460216075182, Discriminator Loss: 0.009065735153853893, Discriminator Accuracy: 0.999586284160614\n",
      "Validation - Autoencoder Loss: 0.0029184070881456137, Discriminator Loss: 0.37000250816345215, Discriminator Accuracy: 0.9513465166091919\n"
     ]
    },
    {
     "name": "stderr",
     "output_type": "stream",
     "text": [
      "100%|██████████| 491/491 [02:22<00:00,  3.45it/s]\n"
     ]
    },
    {
     "name": "stdout",
     "output_type": "stream",
     "text": [
      "Epoch 32, Autoencoder Loss: 0.0020588585175573826, Discriminator Loss: 0.014014335349202156, Discriminator Accuracy: 0.9998409152030945\n",
      "Validation - Autoencoder Loss: 0.002719584619626403, Discriminator Loss: 0.06694461405277252, Discriminator Accuracy: 0.9770224690437317\n"
     ]
    },
    {
     "name": "stderr",
     "output_type": "stream",
     "text": [
      "100%|██████████| 491/491 [02:22<00:00,  3.44it/s]\n"
     ]
    },
    {
     "name": "stdout",
     "output_type": "stream",
     "text": [
      "Epoch 33, Autoencoder Loss: 0.0020382560323923826, Discriminator Loss: 0.0050252508372068405, Discriminator Accuracy: 0.9997772574424744\n",
      "Validation - Autoencoder Loss: 0.003663330804556608, Discriminator Loss: 0.06744911521673203, Discriminator Accuracy: 0.979301393032074\n"
     ]
    },
    {
     "name": "stderr",
     "output_type": "stream",
     "text": [
      "100%|██████████| 491/491 [02:22<00:00,  3.44it/s]\n"
     ]
    },
    {
     "name": "stdout",
     "output_type": "stream",
     "text": [
      "Epoch 34, Autoencoder Loss: 0.002025951398536563, Discriminator Loss: 0.00603002542629838, Discriminator Accuracy: 0.9997454285621643\n",
      "Validation - Autoencoder Loss: 0.0027603679336607456, Discriminator Loss: 0.03239194303750992, Discriminator Accuracy: 0.9884554147720337\n"
     ]
    },
    {
     "name": "stderr",
     "output_type": "stream",
     "text": [
      "100%|██████████| 491/491 [02:23<00:00,  3.43it/s]\n"
     ]
    },
    {
     "name": "stdout",
     "output_type": "stream",
     "text": [
      "Epoch 35, Autoencoder Loss: 0.0019530801801010966, Discriminator Loss: 0.0045150574296712875, Discriminator Accuracy: 0.9999363422393799\n",
      "Validation - Autoencoder Loss: 0.003412001533433795, Discriminator Loss: 0.06693826615810394, Discriminator Accuracy: 0.972576379776001\n"
     ]
    },
    {
     "name": "stderr",
     "output_type": "stream",
     "text": [
      "100%|██████████| 491/491 [02:22<00:00,  3.44it/s]\n"
     ]
    },
    {
     "name": "stdout",
     "output_type": "stream",
     "text": [
      "Epoch 36, Autoencoder Loss: 0.0019422683399170637, Discriminator Loss: 0.001824309234507382, Discriminator Accuracy: 1.0\n",
      "Validation - Autoencoder Loss: 0.002599154831841588, Discriminator Loss: 0.03176988288760185, Discriminator Accuracy: 0.9913617968559265\n"
     ]
    },
    {
     "name": "stderr",
     "output_type": "stream",
     "text": [
      "100%|██████████| 491/491 [02:23<00:00,  3.41it/s]\n"
     ]
    },
    {
     "name": "stdout",
     "output_type": "stream",
     "text": [
      "Epoch 37, Autoencoder Loss: 0.001915536355227232, Discriminator Loss: 0.00942907389253378, Discriminator Accuracy: 0.9996181130409241\n",
      "Validation - Autoencoder Loss: 0.002687075873836875, Discriminator Loss: 0.047634150832891464, Discriminator Accuracy: 0.981834352016449\n"
     ]
    },
    {
     "name": "stderr",
     "output_type": "stream",
     "text": [
      "100%|██████████| 491/491 [02:22<00:00,  3.45it/s]\n"
     ]
    },
    {
     "name": "stdout",
     "output_type": "stream",
     "text": [
      "Epoch 38, Autoencoder Loss: 0.0018875534879043698, Discriminator Loss: 0.00958149041980505, Discriminator Accuracy: 0.9998726844787598\n",
      "Validation - Autoencoder Loss: 0.002773028565570712, Discriminator Loss: 0.03553728759288788, Discriminator Accuracy: 0.986915647983551\n"
     ]
    },
    {
     "name": "stderr",
     "output_type": "stream",
     "text": [
      "100%|██████████| 491/491 [02:22<00:00,  3.44it/s]\n"
     ]
    },
    {
     "name": "stdout",
     "output_type": "stream",
     "text": [
      "Epoch 39, Autoencoder Loss: 0.0018711020238697529, Discriminator Loss: 0.005888539832085371, Discriminator Accuracy: 0.9999045133590698\n",
      "Validation - Autoencoder Loss: 0.0026405234821140766, Discriminator Loss: 0.03429466485977173, Discriminator Accuracy: 0.989456295967102\n"
     ]
    },
    {
     "name": "stderr",
     "output_type": "stream",
     "text": [
      "100%|██████████| 491/491 [02:22<00:00,  3.44it/s]\n"
     ]
    },
    {
     "name": "stdout",
     "output_type": "stream",
     "text": [
      "Epoch 40, Autoencoder Loss: 0.0018521734746173024, Discriminator Loss: 0.003268094267696142, Discriminator Accuracy: 0.9999045133590698\n",
      "Validation - Autoencoder Loss: 0.0026669383514672518, Discriminator Loss: 0.028079258278012276, Discriminator Accuracy: 0.9900914430618286\n"
     ]
    },
    {
     "name": "stderr",
     "output_type": "stream",
     "text": [
      "100%|██████████| 491/491 [03:21<00:00,  2.43it/s]\n"
     ]
    },
    {
     "name": "stdout",
     "output_type": "stream",
     "text": [
      "Epoch 41, Autoencoder Loss: 0.0018167223315685987, Discriminator Loss: 0.003754224395379424, Discriminator Accuracy: 0.9998726844787598\n",
      "Validation - Autoencoder Loss: 0.0026721556205302477, Discriminator Loss: 0.03775245323777199, Discriminator Accuracy: 0.9893292784690857\n"
     ]
    },
    {
     "name": "stderr",
     "output_type": "stream",
     "text": [
      "100%|██████████| 491/491 [02:21<00:00,  3.46it/s]\n"
     ]
    },
    {
     "name": "stdout",
     "output_type": "stream",
     "text": [
      "Epoch 42, Autoencoder Loss: 0.0017974479123950005, Discriminator Loss: 0.007461210712790489, Discriminator Accuracy: 0.9999045133590698\n",
      "Validation - Autoencoder Loss: 0.002647395944222808, Discriminator Loss: 0.03828783333301544, Discriminator Accuracy: 0.9865345358848572\n"
     ]
    },
    {
     "name": "stderr",
     "output_type": "stream",
     "text": [
      "100%|██████████| 491/491 [02:22<00:00,  3.44it/s]\n"
     ]
    },
    {
     "name": "stdout",
     "output_type": "stream",
     "text": [
      "Epoch 43, Autoencoder Loss: 0.001774518401362002, Discriminator Loss: 0.008403907530009747, Discriminator Accuracy: 0.9998726844787598\n",
      "Validation - Autoencoder Loss: 0.002575908089056611, Discriminator Loss: 0.036742620170116425, Discriminator Accuracy: 0.9874237775802612\n"
     ]
    },
    {
     "name": "stderr",
     "output_type": "stream",
     "text": [
      "100%|██████████| 491/491 [03:21<00:00,  2.43it/s]\n"
     ]
    },
    {
     "name": "stdout",
     "output_type": "stream",
     "text": [
      "Epoch 44, Autoencoder Loss: 0.001770833390764892, Discriminator Loss: 0.0022096079774200916, Discriminator Accuracy: 0.9999363422393799\n",
      "Validation - Autoencoder Loss: 0.00256155151873827, Discriminator Loss: 0.028481265529990196, Discriminator Accuracy: 0.991107702255249\n"
     ]
    },
    {
     "name": "stderr",
     "output_type": "stream",
     "text": [
      "100%|██████████| 491/491 [02:21<00:00,  3.46it/s]\n"
     ]
    },
    {
     "name": "stdout",
     "output_type": "stream",
     "text": [
      "Epoch 45, Autoencoder Loss: 0.001738596591167152, Discriminator Loss: 0.00599895603954792, Discriminator Accuracy: 0.9998726844787598\n",
      "Validation - Autoencoder Loss: 0.002550887642428279, Discriminator Loss: 0.03500963747501373, Discriminator Accuracy: 0.9884400367736816\n"
     ]
    },
    {
     "name": "stderr",
     "output_type": "stream",
     "text": [
      "100%|██████████| 491/491 [02:22<00:00,  3.44it/s]\n"
     ]
    },
    {
     "name": "stdout",
     "output_type": "stream",
     "text": [
      "Epoch 46, Autoencoder Loss: 0.0017162398435175419, Discriminator Loss: 0.0034518965985625982, Discriminator Accuracy: 0.9996499419212341\n",
      "Validation - Autoencoder Loss: 0.0026162087451666594, Discriminator Loss: 0.38906049728393555, Discriminator Accuracy: 0.9456300735473633\n"
     ]
    },
    {
     "name": "stderr",
     "output_type": "stream",
     "text": [
      "100%|██████████| 491/491 [02:24<00:00,  3.41it/s]\n"
     ]
    },
    {
     "name": "stdout",
     "output_type": "stream",
     "text": [
      "Epoch 47, Autoencoder Loss: 0.0016909325495362282, Discriminator Loss: 0.006233074702322483, Discriminator Accuracy: 0.9999681711196899\n",
      "Validation - Autoencoder Loss: 0.0027696602046489716, Discriminator Loss: 0.039514731615781784, Discriminator Accuracy: 0.9857877492904663\n"
     ]
    },
    {
     "name": "stderr",
     "output_type": "stream",
     "text": [
      "100%|██████████| 491/491 [02:22<00:00,  3.45it/s]\n"
     ]
    },
    {
     "name": "stdout",
     "output_type": "stream",
     "text": [
      "Epoch 48, Autoencoder Loss: 0.0016907677054405212, Discriminator Loss: 0.001641471404582262, Discriminator Accuracy: 0.9999681711196899\n",
      "Validation - Autoencoder Loss: 0.002585343085229397, Discriminator Loss: 0.03613566234707832, Discriminator Accuracy: 0.989456295967102\n"
     ]
    },
    {
     "name": "stderr",
     "output_type": "stream",
     "text": [
      "100%|██████████| 491/491 [02:22<00:00,  3.45it/s]\n"
     ]
    },
    {
     "name": "stdout",
     "output_type": "stream",
     "text": [
      "Epoch 49, Autoencoder Loss: 0.001663506613112986, Discriminator Loss: 0.00011522744898684323, Discriminator Accuracy: 1.0\n",
      "Validation - Autoencoder Loss: 0.0031097829341888428, Discriminator Loss: 0.04666219651699066, Discriminator Accuracy: 0.9870503544807434\n"
     ]
    },
    {
     "name": "stderr",
     "output_type": "stream",
     "text": [
      "100%|██████████| 491/491 [02:21<00:00,  3.46it/s]\n"
     ]
    },
    {
     "name": "stdout",
     "output_type": "stream",
     "text": [
      "Epoch 50, Autoencoder Loss: 0.0016523414524272084, Discriminator Loss: 0.009982232004404068, Discriminator Accuracy: 0.9996817708015442\n",
      "Validation - Autoencoder Loss: 0.0026007629930973053, Discriminator Loss: 0.034803606569767, Discriminator Accuracy: 0.989456295967102\n"
     ]
    },
    {
     "name": "stderr",
     "output_type": "stream",
     "text": [
      "100%|██████████| 491/491 [02:23<00:00,  3.43it/s]\n"
     ]
    },
    {
     "name": "stdout",
     "output_type": "stream",
     "text": [
      "Epoch 51, Autoencoder Loss: 0.001629465725272894, Discriminator Loss: 0.0057112243957817554, Discriminator Accuracy: 0.9997772574424744\n",
      "Validation - Autoencoder Loss: 0.0025800380390137434, Discriminator Loss: 0.03532242402434349, Discriminator Accuracy: 0.9890828728675842\n"
     ]
    },
    {
     "name": "stderr",
     "output_type": "stream",
     "text": [
      "100%|██████████| 491/491 [02:22<00:00,  3.45it/s]\n"
     ]
    },
    {
     "name": "stdout",
     "output_type": "stream",
     "text": [
      "Epoch 52, Autoencoder Loss: 0.001639011548832059, Discriminator Loss: 0.0050070094875991344, Discriminator Accuracy: 0.9997772574424744\n",
      "Validation - Autoencoder Loss: 0.0030116599518805742, Discriminator Loss: 0.04290129244327545, Discriminator Accuracy: 0.9849061965942383\n"
     ]
    },
    {
     "name": "stderr",
     "output_type": "stream",
     "text": [
      "100%|██████████| 491/491 [02:22<00:00,  3.44it/s]\n"
     ]
    },
    {
     "name": "stdout",
     "output_type": "stream",
     "text": [
      "Epoch 53, Autoencoder Loss: 0.0016033469000831246, Discriminator Loss: 0.0033918048720806837, Discriminator Accuracy: 1.0\n",
      "Validation - Autoencoder Loss: 0.0027657593600451946, Discriminator Loss: 0.033995892852544785, Discriminator Accuracy: 0.9889481663703918\n"
     ]
    },
    {
     "name": "stderr",
     "output_type": "stream",
     "text": [
      "100%|██████████| 491/491 [02:23<00:00,  3.41it/s]\n"
     ]
    },
    {
     "name": "stdout",
     "output_type": "stream",
     "text": [
      "Epoch 54, Autoencoder Loss: 0.0015911409864202142, Discriminator Loss: 0.0078396862372756, Discriminator Accuracy: 0.9996181130409241\n",
      "Validation - Autoencoder Loss: 0.0030148199293762445, Discriminator Loss: 0.04093547537922859, Discriminator Accuracy: 0.9850101470947266\n"
     ]
    },
    {
     "name": "stderr",
     "output_type": "stream",
     "text": [
      "100%|██████████| 491/491 [02:22<00:00,  3.45it/s]\n"
     ]
    },
    {
     "name": "stdout",
     "output_type": "stream",
     "text": [
      "Epoch 55, Autoencoder Loss: 0.0016230478649958968, Discriminator Loss: 0.00616602273657918, Discriminator Accuracy: 0.9996817708015442\n",
      "Validation - Autoencoder Loss: 0.0026471521705389023, Discriminator Loss: 0.03528884798288345, Discriminator Accuracy: 0.9875507950782776\n"
     ]
    },
    {
     "name": "stderr",
     "output_type": "stream",
     "text": [
      "100%|██████████| 491/491 [02:23<00:00,  3.41it/s]\n"
     ]
    },
    {
     "name": "stdout",
     "output_type": "stream",
     "text": [
      "Epoch 56, Autoencoder Loss: 0.0015658398624509573, Discriminator Loss: 0.002440952230244875, Discriminator Accuracy: 0.9999681711196899\n",
      "Validation - Autoencoder Loss: 0.002590546850115061, Discriminator Loss: 0.03121066652238369, Discriminator Accuracy: 0.9913617968559265\n"
     ]
    },
    {
     "name": "stderr",
     "output_type": "stream",
     "text": [
      "100%|██████████| 491/491 [02:22<00:00,  3.43it/s]\n"
     ]
    },
    {
     "name": "stdout",
     "output_type": "stream",
     "text": [
      "Epoch 57, Autoencoder Loss: 0.0015431108186021447, Discriminator Loss: 0.00023916676582302898, Discriminator Accuracy: 1.0\n",
      "Validation - Autoencoder Loss: 0.0026310193352401257, Discriminator Loss: 0.046905796974897385, Discriminator Accuracy: 0.9865345358848572\n"
     ]
    },
    {
     "name": "stderr",
     "output_type": "stream",
     "text": [
      "100%|██████████| 491/491 [02:22<00:00,  3.46it/s]\n"
     ]
    },
    {
     "name": "stdout",
     "output_type": "stream",
     "text": [
      "Epoch 58, Autoencoder Loss: 0.0015452286461368203, Discriminator Loss: 0.001785671804100275, Discriminator Accuracy: 0.9999681711196899\n",
      "Validation - Autoencoder Loss: 0.002679692581295967, Discriminator Loss: 0.036797892302274704, Discriminator Accuracy: 0.9893292784690857\n"
     ]
    },
    {
     "name": "stderr",
     "output_type": "stream",
     "text": [
      "100%|██████████| 491/491 [02:22<00:00,  3.44it/s]\n"
     ]
    },
    {
     "name": "stdout",
     "output_type": "stream",
     "text": [
      "Epoch 59, Autoencoder Loss: 0.0015291441231966019, Discriminator Loss: 0.007343531120568514, Discriminator Accuracy: 0.9998090863227844\n",
      "Validation - Autoencoder Loss: 0.0027261381037533283, Discriminator Loss: 0.03537290543317795, Discriminator Accuracy: 0.9881860017776489\n"
     ]
    },
    {
     "name": "stderr",
     "output_type": "stream",
     "text": [
      "100%|██████████| 491/491 [02:23<00:00,  3.41it/s]\n"
     ]
    },
    {
     "name": "stdout",
     "output_type": "stream",
     "text": [
      "Epoch 60, Autoencoder Loss: 0.0015210302080959082, Discriminator Loss: 0.004566645715385675, Discriminator Accuracy: 0.9998409152030945\n",
      "Validation - Autoencoder Loss: 0.002652101218700409, Discriminator Loss: 0.03180116415023804, Discriminator Accuracy: 0.9909806847572327\n"
     ]
    },
    {
     "name": "stderr",
     "output_type": "stream",
     "text": [
      "100%|██████████| 491/491 [02:22<00:00,  3.44it/s]\n"
     ]
    },
    {
     "name": "stdout",
     "output_type": "stream",
     "text": [
      "Epoch 61, Autoencoder Loss: 0.001516676158644259, Discriminator Loss: 0.0014695493737235665, Discriminator Accuracy: 1.0\n",
      "Validation - Autoencoder Loss: 0.002622180385515094, Discriminator Loss: 0.03075028769671917, Discriminator Accuracy: 0.9895833134651184\n"
     ]
    },
    {
     "name": "stderr",
     "output_type": "stream",
     "text": [
      "100%|██████████| 491/491 [02:22<00:00,  3.45it/s]\n"
     ]
    },
    {
     "name": "stdout",
     "output_type": "stream",
     "text": [
      "Epoch 62, Autoencoder Loss: 0.0014884494012221694, Discriminator Loss: 0.0038481790106743574, Discriminator Accuracy: 0.9999045133590698\n",
      "Validation - Autoencoder Loss: 0.0030589813832193613, Discriminator Loss: 0.02831299975514412, Discriminator Accuracy: 0.9908536672592163\n"
     ]
    },
    {
     "name": "stderr",
     "output_type": "stream",
     "text": [
      "100%|██████████| 491/491 [02:21<00:00,  3.46it/s]\n"
     ]
    },
    {
     "name": "stdout",
     "output_type": "stream",
     "text": [
      "Epoch 63, Autoencoder Loss: 0.0014920930843800306, Discriminator Loss: 0.0039198859594762325, Discriminator Accuracy: 0.9999363422393799\n",
      "Validation - Autoencoder Loss: 0.0025976516772061586, Discriminator Loss: 0.03543153032660484, Discriminator Accuracy: 0.9876778721809387\n"
     ]
    },
    {
     "name": "stderr",
     "output_type": "stream",
     "text": [
      "100%|██████████| 491/491 [02:23<00:00,  3.43it/s]\n"
     ]
    },
    {
     "name": "stdout",
     "output_type": "stream",
     "text": [
      "Epoch 64, Autoencoder Loss: 0.001477241748943925, Discriminator Loss: 0.008680393919348717, Discriminator Accuracy: 0.9997454285621643\n",
      "Validation - Autoencoder Loss: 0.0026104794815182686, Discriminator Loss: 0.03272271901369095, Discriminator Accuracy: 0.9880589246749878\n"
     ]
    },
    {
     "name": "stderr",
     "output_type": "stream",
     "text": [
      "100%|██████████| 491/491 [02:22<00:00,  3.45it/s]\n"
     ]
    },
    {
     "name": "stdout",
     "output_type": "stream",
     "text": [
      "Epoch 65, Autoencoder Loss: 0.0014663904439657927, Discriminator Loss: 0.0025104694068431854, Discriminator Accuracy: 0.9999363422393799\n",
      "Validation - Autoencoder Loss: 0.00293741375207901, Discriminator Loss: 0.1010027676820755, Discriminator Accuracy: 0.9735849499702454\n"
     ]
    },
    {
     "name": "stderr",
     "output_type": "stream",
     "text": [
      "100%|██████████| 491/491 [02:22<00:00,  3.45it/s]\n"
     ]
    },
    {
     "name": "stdout",
     "output_type": "stream",
     "text": [
      "Epoch 66, Autoencoder Loss: 0.001454437617212534, Discriminator Loss: 0.0052239359356462955, Discriminator Accuracy: 0.9999681711196899\n",
      "Validation - Autoencoder Loss: 0.0028086744714528322, Discriminator Loss: 0.03718144819140434, Discriminator Accuracy: 0.9872967600822449\n"
     ]
    },
    {
     "name": "stderr",
     "output_type": "stream",
     "text": [
      "100%|██████████| 491/491 [02:23<00:00,  3.41it/s]\n"
     ]
    },
    {
     "name": "stdout",
     "output_type": "stream",
     "text": [
      "Epoch 67, Autoencoder Loss: 0.001451778574846685, Discriminator Loss: 0.0008398013887926936, Discriminator Accuracy: 1.0\n",
      "Validation - Autoencoder Loss: 0.0026409190613776445, Discriminator Loss: 0.032701555639505386, Discriminator Accuracy: 0.9904725551605225\n"
     ]
    },
    {
     "name": "stderr",
     "output_type": "stream",
     "text": [
      "100%|██████████| 491/491 [02:23<00:00,  3.42it/s]\n"
     ]
    },
    {
     "name": "stdout",
     "output_type": "stream",
     "text": [
      "Epoch 68, Autoencoder Loss: 0.0014578723348677158, Discriminator Loss: 0.0017950002802535892, Discriminator Accuracy: 1.0\n",
      "Validation - Autoencoder Loss: 0.002575756050646305, Discriminator Loss: 0.03687111660838127, Discriminator Accuracy: 0.9895833134651184\n"
     ]
    },
    {
     "name": "stderr",
     "output_type": "stream",
     "text": [
      "100%|██████████| 491/491 [02:23<00:00,  3.43it/s]\n"
     ]
    },
    {
     "name": "stdout",
     "output_type": "stream",
     "text": [
      "Epoch 69, Autoencoder Loss: 0.0014106478774920106, Discriminator Loss: 0.002361853141337633, Discriminator Accuracy: 1.0\n",
      "Validation - Autoencoder Loss: 0.002918815705925226, Discriminator Loss: 0.03370564430952072, Discriminator Accuracy: 0.9884400367736816\n"
     ]
    },
    {
     "name": "stderr",
     "output_type": "stream",
     "text": [
      "100%|██████████| 491/491 [02:24<00:00,  3.40it/s]\n"
     ]
    },
    {
     "name": "stdout",
     "output_type": "stream",
     "text": [
      "Epoch 70, Autoencoder Loss: 0.001412867335602641, Discriminator Loss: 0.006818623747676611, Discriminator Accuracy: 0.9998090863227844\n",
      "Validation - Autoencoder Loss: 0.0027094127144664526, Discriminator Loss: 0.03292093798518181, Discriminator Accuracy: 0.989456295967102\n"
     ]
    },
    {
     "name": "stderr",
     "output_type": "stream",
     "text": [
      "100%|██████████| 491/491 [02:24<00:00,  3.41it/s]\n"
     ]
    },
    {
     "name": "stdout",
     "output_type": "stream",
     "text": [
      "Epoch 71, Autoencoder Loss: 0.0014082338893786073, Discriminator Loss: 0.002176768146455288, Discriminator Accuracy: 1.0\n",
      "Validation - Autoencoder Loss: 0.002700842684134841, Discriminator Loss: 0.03934314474463463, Discriminator Accuracy: 0.988567054271698\n"
     ]
    },
    {
     "name": "stderr",
     "output_type": "stream",
     "text": [
      "100%|██████████| 491/491 [02:23<00:00,  3.42it/s]\n"
     ]
    },
    {
     "name": "stdout",
     "output_type": "stream",
     "text": [
      "Epoch 72, Autoencoder Loss: 0.0014056687941774726, Discriminator Loss: 0.0021851176861673594, Discriminator Accuracy: 1.0\n",
      "Validation - Autoencoder Loss: 0.0026361318305134773, Discriminator Loss: 0.04281047359108925, Discriminator Accuracy: 0.9865422248840332\n"
     ]
    },
    {
     "name": "stderr",
     "output_type": "stream",
     "text": [
      "100%|██████████| 491/491 [02:24<00:00,  3.39it/s]\n"
     ]
    },
    {
     "name": "stdout",
     "output_type": "stream",
     "text": [
      "Epoch 73, Autoencoder Loss: 0.0013951014261692762, Discriminator Loss: 0.0025760456919670105, Discriminator Accuracy: 0.9999363422393799\n",
      "Validation - Autoencoder Loss: 0.0028596711345016956, Discriminator Loss: 0.03370551019906998, Discriminator Accuracy: 0.9897103905677795\n"
     ]
    },
    {
     "name": "stderr",
     "output_type": "stream",
     "text": [
      "100%|██████████| 491/491 [02:22<00:00,  3.45it/s]\n"
     ]
    },
    {
     "name": "stdout",
     "output_type": "stream",
     "text": [
      "Epoch 74, Autoencoder Loss: 0.00138682103715837, Discriminator Loss: 0.0035268699284642935, Discriminator Accuracy: 0.9999681711196899\n",
      "Validation - Autoencoder Loss: 0.0026356203015893698, Discriminator Loss: 0.034369096159935, Discriminator Accuracy: 0.9892099499702454\n"
     ]
    },
    {
     "name": "stderr",
     "output_type": "stream",
     "text": [
      "100%|██████████| 491/491 [02:23<00:00,  3.43it/s]\n"
     ]
    },
    {
     "name": "stdout",
     "output_type": "stream",
     "text": [
      "Epoch 75, Autoencoder Loss: 0.001378645421937108, Discriminator Loss: 0.0008962295250967145, Discriminator Accuracy: 1.0\n",
      "Validation - Autoencoder Loss: 0.002513354178518057, Discriminator Loss: 0.03375517949461937, Discriminator Accuracy: 0.9897180795669556\n"
     ]
    },
    {
     "name": "stderr",
     "output_type": "stream",
     "text": [
      "100%|██████████| 491/491 [02:23<00:00,  3.42it/s]\n"
     ]
    },
    {
     "name": "stdout",
     "output_type": "stream",
     "text": [
      "Epoch 76, Autoencoder Loss: 0.0013717437395825982, Discriminator Loss: 0.0018657422624528408, Discriminator Accuracy: 0.9999363422393799\n",
      "Validation - Autoencoder Loss: 0.002589368959888816, Discriminator Loss: 0.028484685346484184, Discriminator Accuracy: 0.9913617968559265\n"
     ]
    },
    {
     "name": "stderr",
     "output_type": "stream",
     "text": [
      "100%|██████████| 491/491 [02:21<00:00,  3.46it/s]\n"
     ]
    },
    {
     "name": "stdout",
     "output_type": "stream",
     "text": [
      "Epoch 77, Autoencoder Loss: 0.0013597829965874553, Discriminator Loss: 5.770066491095349e-05, Discriminator Accuracy: 1.0\n",
      "Validation - Autoencoder Loss: 0.0025969070848077536, Discriminator Loss: 0.03124864213168621, Discriminator Accuracy: 0.9914888143539429\n"
     ]
    },
    {
     "name": "stderr",
     "output_type": "stream",
     "text": [
      "100%|██████████| 491/491 [02:22<00:00,  3.44it/s]\n"
     ]
    },
    {
     "name": "stdout",
     "output_type": "stream",
     "text": [
      "Epoch 78, Autoencoder Loss: 0.0013591413153335452, Discriminator Loss: 0.005740238353610039, Discriminator Accuracy: 0.9997772574424744\n",
      "Validation - Autoencoder Loss: 0.002629851456731558, Discriminator Loss: 0.5439088344573975, Discriminator Accuracy: 0.9470351338386536\n"
     ]
    },
    {
     "name": "stderr",
     "output_type": "stream",
     "text": [
      "100%|██████████| 491/491 [02:24<00:00,  3.39it/s]\n"
     ]
    },
    {
     "name": "stdout",
     "output_type": "stream",
     "text": [
      "Epoch 79, Autoencoder Loss: 0.0013445584336295724, Discriminator Loss: 0.005381005350500345, Discriminator Accuracy: 0.9999681711196899\n",
      "Validation - Autoencoder Loss: 0.0027372371405363083, Discriminator Loss: 0.036962930113077164, Discriminator Accuracy: 0.9888211488723755\n"
     ]
    },
    {
     "name": "stderr",
     "output_type": "stream",
     "text": [
      "100%|██████████| 491/491 [02:28<00:00,  3.32it/s]\n"
     ]
    },
    {
     "name": "stdout",
     "output_type": "stream",
     "text": [
      "Epoch 80, Autoencoder Loss: 0.0013443647185340524, Discriminator Loss: 0.0006472660461440682, Discriminator Accuracy: 1.0\n",
      "Validation - Autoencoder Loss: 0.0026207182090729475, Discriminator Loss: 0.03803005814552307, Discriminator Accuracy: 0.9902185201644897\n"
     ]
    },
    {
     "name": "stderr",
     "output_type": "stream",
     "text": [
      "100%|██████████| 491/491 [02:24<00:00,  3.41it/s]\n"
     ]
    },
    {
     "name": "stdout",
     "output_type": "stream",
     "text": [
      "Epoch 81, Autoencoder Loss: 0.0013398226583376527, Discriminator Loss: 0.00034596017212606966, Discriminator Accuracy: 1.0\n",
      "Validation - Autoencoder Loss: 0.0026921401731669903, Discriminator Loss: 0.04537428915500641, Discriminator Accuracy: 0.9893369674682617\n"
     ]
    },
    {
     "name": "stderr",
     "output_type": "stream",
     "text": [
      "100%|██████████| 491/491 [02:25<00:00,  3.38it/s]\n"
     ]
    },
    {
     "name": "stdout",
     "output_type": "stream",
     "text": [
      "Epoch 82, Autoencoder Loss: 0.0013329657958820462, Discriminator Loss: 0.007509548217058182, Discriminator Accuracy: 0.9998090863227844\n",
      "Validation - Autoencoder Loss: 0.002756771631538868, Discriminator Loss: 0.03577572479844093, Discriminator Accuracy: 0.9893369674682617\n"
     ]
    },
    {
     "name": "stderr",
     "output_type": "stream",
     "text": [
      "100%|██████████| 491/491 [02:21<00:00,  3.46it/s]\n"
     ]
    },
    {
     "name": "stdout",
     "output_type": "stream",
     "text": [
      "Epoch 83, Autoencoder Loss: 0.0013347406638786197, Discriminator Loss: 0.0010012945858761668, Discriminator Accuracy: 0.9999681711196899\n",
      "Validation - Autoencoder Loss: 0.0025795528199523687, Discriminator Loss: 0.03278828784823418, Discriminator Accuracy: 0.9902185201644897\n"
     ]
    },
    {
     "name": "stderr",
     "output_type": "stream",
     "text": [
      "100%|██████████| 491/491 [02:22<00:00,  3.45it/s]\n"
     ]
    },
    {
     "name": "stdout",
     "output_type": "stream",
     "text": [
      "Epoch 84, Autoencoder Loss: 0.0012997225858271122, Discriminator Loss: 5.569458517129533e-05, Discriminator Accuracy: 1.0\n",
      "Validation - Autoencoder Loss: 0.002525579184293747, Discriminator Loss: 0.03462868556380272, Discriminator Accuracy: 0.9912424683570862\n"
     ]
    },
    {
     "name": "stderr",
     "output_type": "stream",
     "text": [
      "100%|██████████| 491/491 [02:22<00:00,  3.45it/s]\n"
     ]
    },
    {
     "name": "stdout",
     "output_type": "stream",
     "text": [
      "Epoch 85, Autoencoder Loss: 0.001321232644841075, Discriminator Loss: 0.003180673811584711, Discriminator Accuracy: 0.9999045133590698\n",
      "Validation - Autoencoder Loss: 0.0025329513009637594, Discriminator Loss: 0.03456348553299904, Discriminator Accuracy: 0.9887018203735352\n"
     ]
    },
    {
     "name": "stderr",
     "output_type": "stream",
     "text": [
      "100%|██████████| 491/491 [02:22<00:00,  3.44it/s]\n"
     ]
    },
    {
     "name": "stdout",
     "output_type": "stream",
     "text": [
      "Epoch 86, Autoencoder Loss: 0.0013041719794273376, Discriminator Loss: 0.004296260420233011, Discriminator Accuracy: 0.9999681711196899\n",
      "Validation - Autoencoder Loss: 0.0029577005188912153, Discriminator Loss: 0.03399607911705971, Discriminator Accuracy: 0.989456295967102\n"
     ]
    },
    {
     "name": "stderr",
     "output_type": "stream",
     "text": [
      "100%|██████████| 491/491 [02:22<00:00,  3.45it/s]\n"
     ]
    },
    {
     "name": "stdout",
     "output_type": "stream",
     "text": [
      "Epoch 87, Autoencoder Loss: 0.0013016482116654515, Discriminator Loss: 0.003363484051078558, Discriminator Accuracy: 0.9999045133590698\n",
      "Validation - Autoencoder Loss: 0.002641757018864155, Discriminator Loss: 0.036020033061504364, Discriminator Accuracy: 0.9886941313743591\n"
     ]
    },
    {
     "name": "stderr",
     "output_type": "stream",
     "text": [
      "100%|██████████| 491/491 [02:22<00:00,  3.44it/s]\n"
     ]
    },
    {
     "name": "stdout",
     "output_type": "stream",
     "text": [
      "Epoch 88, Autoencoder Loss: 0.0012854539090767503, Discriminator Loss: 0.0012482007732614875, Discriminator Accuracy: 0.9999681711196899\n",
      "Validation - Autoencoder Loss: 0.0025395306292921305, Discriminator Loss: 0.02815917506814003, Discriminator Accuracy: 0.9908536672592163\n"
     ]
    },
    {
     "name": "stderr",
     "output_type": "stream",
     "text": [
      "100%|██████████| 491/491 [02:21<00:00,  3.46it/s]\n"
     ]
    },
    {
     "name": "stdout",
     "output_type": "stream",
     "text": [
      "Epoch 89, Autoencoder Loss: 0.0012949383817613125, Discriminator Loss: 0.0013858580496162176, Discriminator Accuracy: 1.0\n",
      "Validation - Autoencoder Loss: 0.002730404492467642, Discriminator Loss: 0.034395474940538406, Discriminator Accuracy: 0.9889481663703918\n"
     ]
    },
    {
     "name": "stderr",
     "output_type": "stream",
     "text": [
      "100%|██████████| 491/491 [02:21<00:00,  3.46it/s]\n"
     ]
    },
    {
     "name": "stdout",
     "output_type": "stream",
     "text": [
      "Epoch 90, Autoencoder Loss: 0.0012734794290736318, Discriminator Loss: 0.0036048393230885267, Discriminator Accuracy: 0.9999681711196899\n",
      "Validation - Autoencoder Loss: 0.002660052850842476, Discriminator Loss: 0.04854434356093407, Discriminator Accuracy: 0.9861688613891602\n"
     ]
    },
    {
     "name": "stderr",
     "output_type": "stream",
     "text": [
      "100%|██████████| 491/491 [02:22<00:00,  3.45it/s]\n"
     ]
    },
    {
     "name": "stdout",
     "output_type": "stream",
     "text": [
      "Epoch 91, Autoencoder Loss: 0.0012753314804285765, Discriminator Loss: 0.002300853608176112, Discriminator Accuracy: 1.0\n",
      "Validation - Autoencoder Loss: 0.002564407652243972, Discriminator Loss: 0.034744568169116974, Discriminator Accuracy: 0.9889481663703918\n"
     ]
    },
    {
     "name": "stderr",
     "output_type": "stream",
     "text": [
      "100%|██████████| 491/491 [03:21<00:00,  2.43it/s]\n"
     ]
    },
    {
     "name": "stdout",
     "output_type": "stream",
     "text": [
      "Epoch 92, Autoencoder Loss: 0.0012660196516662836, Discriminator Loss: 0.0014403274981305003, Discriminator Accuracy: 0.9999363422393799\n",
      "Validation - Autoencoder Loss: 0.0026799263432621956, Discriminator Loss: 0.032426103949546814, Discriminator Accuracy: 0.9907266497612\n"
     ]
    },
    {
     "name": "stderr",
     "output_type": "stream",
     "text": [
      "100%|██████████| 491/491 [02:21<00:00,  3.47it/s]\n"
     ]
    },
    {
     "name": "stdout",
     "output_type": "stream",
     "text": [
      "Epoch 93, Autoencoder Loss: 0.0012680299114435911, Discriminator Loss: 0.0016373320249840617, Discriminator Accuracy: 1.0\n",
      "Validation - Autoencoder Loss: 0.002568882191553712, Discriminator Loss: 0.029470527544617653, Discriminator Accuracy: 0.9908536672592163\n"
     ]
    },
    {
     "name": "stderr",
     "output_type": "stream",
     "text": [
      "100%|██████████| 491/491 [02:21<00:00,  3.47it/s]\n"
     ]
    },
    {
     "name": "stdout",
     "output_type": "stream",
     "text": [
      "Epoch 94, Autoencoder Loss: 0.0012616817839443684, Discriminator Loss: 0.001611954066902399, Discriminator Accuracy: 0.9999681711196899\n",
      "Validation - Autoencoder Loss: 0.002575563732534647, Discriminator Loss: 0.04347999766469002, Discriminator Accuracy: 0.9867886304855347\n"
     ]
    },
    {
     "name": "stderr",
     "output_type": "stream",
     "text": [
      "100%|██████████| 491/491 [02:22<00:00,  3.46it/s]\n"
     ]
    },
    {
     "name": "stdout",
     "output_type": "stream",
     "text": [
      "Epoch 95, Autoencoder Loss: 0.0012512591201812029, Discriminator Loss: 0.002448835177347064, Discriminator Accuracy: 1.0\n",
      "Validation - Autoencoder Loss: 0.0026429002173244953, Discriminator Loss: 0.031491465866565704, Discriminator Accuracy: 0.9921239614486694\n"
     ]
    },
    {
     "name": "stderr",
     "output_type": "stream",
     "text": [
      "100%|██████████| 491/491 [02:21<00:00,  3.47it/s]\n"
     ]
    },
    {
     "name": "stdout",
     "output_type": "stream",
     "text": [
      "Epoch 96, Autoencoder Loss: 0.001243271748535335, Discriminator Loss: 0.004432630259543657, Discriminator Accuracy: 0.9999045133590698\n",
      "Validation - Autoencoder Loss: 0.0026084769051522017, Discriminator Loss: 0.05019271746277809, Discriminator Accuracy: 0.9828659892082214\n"
     ]
    },
    {
     "name": "stderr",
     "output_type": "stream",
     "text": [
      "100%|██████████| 491/491 [02:21<00:00,  3.47it/s]\n"
     ]
    },
    {
     "name": "stdout",
     "output_type": "stream",
     "text": [
      "Epoch 97, Autoencoder Loss: 0.001281533855944872, Discriminator Loss: 0.002094476716592908, Discriminator Accuracy: 0.9999363422393799\n",
      "Validation - Autoencoder Loss: 0.0025460466276854277, Discriminator Loss: 0.03135509416460991, Discriminator Accuracy: 0.9927591681480408\n"
     ]
    },
    {
     "name": "stderr",
     "output_type": "stream",
     "text": [
      "100%|██████████| 491/491 [02:21<00:00,  3.48it/s]\n"
     ]
    },
    {
     "name": "stdout",
     "output_type": "stream",
     "text": [
      "Epoch 98, Autoencoder Loss: 0.0012151170521974564, Discriminator Loss: 0.003126713912934065, Discriminator Accuracy: 0.9998726844787598\n",
      "Validation - Autoencoder Loss: 0.002918767975643277, Discriminator Loss: 0.051669709384441376, Discriminator Accuracy: 0.9848908185958862\n"
     ]
    },
    {
     "name": "stderr",
     "output_type": "stream",
     "text": [
      "100%|██████████| 491/491 [02:22<00:00,  3.45it/s]\n"
     ]
    },
    {
     "name": "stdout",
     "output_type": "stream",
     "text": [
      "Epoch 99, Autoencoder Loss: 0.0012363627320155501, Discriminator Loss: 0.0008931205957196653, Discriminator Accuracy: 1.0\n",
      "Validation - Autoencoder Loss: 0.002914655953645706, Discriminator Loss: 0.03379516303539276, Discriminator Accuracy: 0.9913617968559265\n"
     ]
    }
   ],
   "source": [
    "autoencoder_losses_epoch = []\n",
    "discriminator_losses_epoch = []\n",
    "discriminator_acc_epoch = []\n",
    "val_autoencoder_losses_epoch = []\n",
    "val_discriminator_losses_epoch = []\n",
    "val_discriminator_acc_epoch = []\n",
    "\n",
    "for epoch in range(100):\n",
    "    # Initialize epoch-wise metrics\n",
    "    epoch_autoencoder_losses = []\n",
    "    epoch_discriminator_losses = []\n",
    "    epoch_discriminator_acc = []\n",
    "    epoch_val_autoencoder_losses = []\n",
    "    epoch_val_discriminator_losses = []\n",
    "    epoch_val_discriminator_acc = []\n",
    "\n",
    "    # Training loop\n",
    "    for idx, (batch_real, batch_label) in enumerate(tqdm(train_dataset)):\n",
    "        # Training steps\n",
    "        with tf.GradientTape() as autoencoder_tape, tf.GradientTape() as disc_tape:\n",
    "            latent_representation = encoder(batch_real)\n",
    "            generated_image = decoder(latent_representation)\n",
    "            loss_autoencoder = loss_fn_auto(batch_real, generated_image)\n",
    "            \n",
    "            fake = generated_image\n",
    "            loss_disc_real = loss_fn_disc(batch_label, discriminator(batch_real))\n",
    "            loss_disc_fake = loss_fn_disc(batch_label, discriminator(fake))\n",
    "            loss_disc = (loss_disc_real + loss_disc_fake) / 2\n",
    "\n",
    "        grads_autoencoder = autoencoder_tape.gradient(loss_autoencoder, autoencoder.trainable_weights)\n",
    "        opt_autoencoder.apply_gradients(zip(grads_autoencoder, autoencoder.trainable_weights))\n",
    "\n",
    "        grads_discriminator = disc_tape.gradient(loss_disc, discriminator.trainable_weights)\n",
    "        opt_disc.apply_gradients(zip(grads_discriminator, discriminator.trainable_weights))\n",
    "\n",
    "        # Store batch-wise metrics\n",
    "        epoch_autoencoder_losses.append(loss_autoencoder.numpy())\n",
    "        epoch_discriminator_losses.append(loss_disc.numpy())\n",
    "        epoch_discriminator_acc.append(tf.reduce_mean(tf.keras.metrics.categorical_accuracy(batch_label, discriminator(fake))).numpy())\n",
    "        if idx % 200 == 0:\n",
    "            img = tf.keras.preprocessing.image.array_to_img(fake[0])\n",
    "            img.save(f\"{save_dir}/generated_img_epoch_{epoch}_batch_{idx}.png\")\n",
    "\n",
    "    # Validation loop\n",
    "    for val_batch_real, val_batch_label in val_dataset:\n",
    "        val_latent_representation = encoder(val_batch_real)\n",
    "        val_generated_image = decoder(val_latent_representation)\n",
    "        val_loss_autoencoder = loss_fn_auto(val_batch_real, val_generated_image)\n",
    "        val_loss_disc_real = loss_fn_disc(val_batch_label, discriminator(val_batch_real))\n",
    "        val_loss_disc_fake = loss_fn_disc(val_batch_label, discriminator(val_generated_image))\n",
    "        val_loss_disc = (val_loss_disc_real + val_loss_disc_fake) / 2\n",
    "\n",
    "        # Calculate accuracy\n",
    "        val_discriminator_accuracy = tf.reduce_mean(tf.keras.metrics.categorical_accuracy(val_batch_label, discriminator(val_generated_image)))\n",
    "\n",
    "        # Store validation metrics\n",
    "        epoch_val_autoencoder_losses.append(val_loss_autoencoder.numpy())\n",
    "        epoch_val_discriminator_losses.append(val_loss_disc.numpy())\n",
    "        epoch_val_discriminator_acc.append(val_discriminator_accuracy.numpy())\n",
    "\n",
    "    # Calculate epoch-wise averages and append to the lists\n",
    "    avg_autoencoder_loss = np.mean(epoch_autoencoder_losses)\n",
    "    avg_discriminator_loss = np.mean(epoch_discriminator_losses)\n",
    "    avg_discriminator_acc = np.mean(epoch_discriminator_acc)\n",
    "    avg_val_autoencoder_loss = np.mean(epoch_val_autoencoder_losses)\n",
    "    avg_val_discriminator_loss = np.mean(epoch_val_discriminator_losses)\n",
    "    avg_val_discriminator_acc = np.mean(epoch_val_discriminator_acc)\n",
    "\n",
    "    autoencoder_losses_epoch.append(avg_autoencoder_loss)\n",
    "    discriminator_losses_epoch.append(avg_discriminator_loss)\n",
    "    discriminator_acc_epoch.append(avg_discriminator_acc)\n",
    "    val_autoencoder_losses_epoch.append(avg_val_autoencoder_loss)\n",
    "    val_discriminator_losses_epoch.append(avg_val_discriminator_loss)\n",
    "    val_discriminator_acc_epoch.append(avg_val_discriminator_acc)\n",
    "\n",
    "    # Print epoch-wise metrics\n",
    "    print(f\"Epoch {epoch}, Autoencoder Loss: {avg_autoencoder_loss}, Discriminator Loss: {avg_discriminator_loss}, Discriminator Accuracy: {avg_discriminator_acc}\")\n",
    "    print(f\"Validation - Autoencoder Loss: {avg_val_autoencoder_loss}, Discriminator Loss: {avg_val_discriminator_loss}, Discriminator Accuracy: {avg_val_discriminator_acc}\")\n"
   ]
  },
  {
   "cell_type": "code",
   "execution_count": 10,
   "id": "bdc9bad6",
   "metadata": {
    "execution": {
     "iopub.execute_input": "2024-05-19T16:12:51.381585Z",
     "iopub.status.busy": "2024-05-19T16:12:51.381194Z",
     "iopub.status.idle": "2024-05-19T16:12:52.774058Z",
     "shell.execute_reply": "2024-05-19T16:12:52.773151Z"
    },
    "papermill": {
     "duration": 5.407697,
     "end_time": "2024-05-19T16:12:52.776253",
     "exception": false,
     "start_time": "2024-05-19T16:12:47.368556",
     "status": "completed"
    },
    "tags": []
   },
   "outputs": [
    {
     "data": {
      "image/png": "[encoded data removed]",
      "text/plain": [
       "<Figure size 1200x600 with 1 Axes>"
      ]
     },
     "metadata": {},
     "output_type": "display_data"
    },
    {
     "data": {
      "image/png": "[encoded data removed]",
      "text/plain": [
       "<Figure size 1200x600 with 1 Axes>"
      ]
     },
     "metadata": {},
     "output_type": "display_data"
    },
    {
     "data": {
      "image/png": "[encoded data removed]",
      "text/plain": [
       "<Figure size 1200x600 with 1 Axes>"
      ]
     },
     "metadata": {},
     "output_type": "display_data"
    }
   ],
   "source": [
    "import matplotlib.pyplot as plt\n",
    "\n",
    "# Plot autoencoder losses\n",
    "plt.figure(figsize=(12, 6))\n",
    "plt.plot(autoencoder_losses_epoch, label='Training Autoencoder Loss')\n",
    "plt.plot(val_autoencoder_losses_epoch, label='Validation Autoencoder Loss')\n",
    "plt.xlabel('Epoch')\n",
    "plt.ylabel('Loss')\n",
    "plt.title('Training and Validation Autoencoder Losses')\n",
    "plt.legend()\n",
    "plt.savefig('autoencoder_losses.png')  # Save the plot as an image\n",
    "plt.show()\n",
    "\n",
    "# Plot discriminator losses\n",
    "plt.figure(figsize=(12, 6))\n",
    "plt.plot(discriminator_losses_epoch, label='Training Discriminator Loss')\n",
    "plt.plot(val_discriminator_losses_epoch, label='Validation Discriminator Loss')\n",
    "plt.xlabel('Epoch')\n",
    "plt.ylabel('Loss')\n",
    "plt.title('Training and Validation Discriminator Losses')\n",
    "plt.legend()\n",
    "plt.savefig('discriminator_losses.png')  # Save the plot as an image\n",
    "plt.show()\n",
    "\n",
    "# Plot discriminator accuracy\n",
    "plt.figure(figsize=(12, 6))\n",
    "plt.plot(discriminator_acc_epoch, label='Training Discriminator Accuracy')\n",
    "plt.plot(val_discriminator_acc_epoch, label='Validation Discriminator Accuracy')\n",
    "plt.xlabel('Epoch')\n",
    "plt.ylabel('Accuracy')\n",
    "plt.title('Training and Validation Discriminator Accuracy')\n",
    "plt.legend()\n",
    "plt.savefig('discriminator_accuracy.png')  # Save the plot as an image\n",
    "plt.show()\n"
   ]
  },
  {
   "cell_type": "code",
   "execution_count": 11,
   "id": "d0d4c361",
   "metadata": {
    "execution": {
     "iopub.execute_input": "2024-05-19T16:13:00.788226Z",
     "iopub.status.busy": "2024-05-19T16:13:00.787878Z",
     "iopub.status.idle": "2024-05-19T16:13:01.949377Z",
     "shell.execute_reply": "2024-05-19T16:13:01.948420Z"
    },
    "papermill": {
     "duration": 5.181581,
     "end_time": "2024-05-19T16:13:01.951864",
     "exception": false,
     "start_time": "2024-05-19T16:12:56.770283",
     "status": "completed"
    },
    "tags": []
   },
   "outputs": [
    {
     "data": {
      "image/png": "[encoded data removed]",
      "text/plain": [
       "<Figure size 1200x600 with 1 Axes>"
      ]
     },
     "metadata": {},
     "output_type": "display_data"
    },
    {
     "data": {
      "image/png": "[encoded data removed]",
      "text/plain": [
       "<Figure size 1200x600 with 1 Axes>"
      ]
     },
     "metadata": {},
     "output_type": "display_data"
    },
    {
     "data": {
      "image/png": "[encoded data removed]",
      "text/plain": [
       "<Figure size 1200x600 with 1 Axes>"
      ]
     },
     "metadata": {},
     "output_type": "display_data"
    }
   ],
   "source": [
    "import matplotlib.pyplot as plt\n",
    "from matplotlib import rcParams\n",
    "\n",
    "# Set font properties\n",
    "rcParams['font.family'] = 'Times New Roman'\n",
    "rcParams['font.size'] = 12\n",
    "\n",
    "# Plot autoencoder losses\n",
    "plt.figure(figsize=(12, 6))\n",
    "plt.plot(autoencoder_losses_epoch, label='Training Autoencoder Loss')\n",
    "plt.plot(val_autoencoder_losses_epoch, label='Validation Autoencoder Loss')\n",
    "plt.xlabel('Epoch')\n",
    "plt.ylabel('Loss')\n",
    "plt.title('Training and Validation Autoencoder Losses')\n",
    "plt.legend()\n",
    "plt.savefig('autoencoder_losses12.png')  # Save the plot as an image\n",
    "plt.show()\n",
    "\n",
    "# Plot discriminator losses\n",
    "plt.figure(figsize=(12, 6))\n",
    "plt.plot(discriminator_losses_epoch, label='Training Discriminator Loss')\n",
    "plt.plot(val_discriminator_losses_epoch, label='Validation Discriminator Loss')\n",
    "plt.xlabel('Epoch')\n",
    "plt.ylabel('Loss')\n",
    "plt.title('Training and Validation Discriminator Losses')\n",
    "plt.legend()\n",
    "plt.savefig('discriminator_losses12.png')  # Save the plot as an image\n",
    "plt.show()\n",
    "\n",
    "# Plot discriminator accuracy\n",
    "plt.figure(figsize=(12, 6))\n",
    "plt.plot(discriminator_acc_epoch, label='Training Discriminator Accuracy')\n",
    "plt.plot(val_discriminator_acc_epoch, label='Validation Discriminator Accuracy')\n",
    "plt.xlabel('Epoch')\n",
    "plt.ylabel('Accuracy')\n",
    "plt.title('Training and Validation Discriminator Accuracy')\n",
    "plt.legend()\n",
    "plt.savefig('discriminator_accuracy12.png')  # Save the plot as an image\n",
    "plt.show()\n"
   ]
  },
  {
   "cell_type": "code",
   "execution_count": 12,
   "id": "24a025f8",
   "metadata": {
    "execution": {
     "iopub.execute_input": "2024-05-19T16:13:09.953573Z",
     "iopub.status.busy": "2024-05-19T16:13:09.953181Z",
     "iopub.status.idle": "2024-05-19T16:13:30.848310Z",
     "shell.execute_reply": "2024-05-19T16:13:30.847442Z"
    },
    "papermill": {
     "duration": 24.894266,
     "end_time": "2024-05-19T16:13:30.850344",
     "exception": false,
     "start_time": "2024-05-19T16:13:05.956078",
     "status": "completed"
    },
    "tags": []
   },
   "outputs": [
    {
     "name": "stdout",
     "output_type": "stream",
     "text": [
      "\u001b[1m 10/491\u001b[0m \u001b[37m━━━━━━━━━━━━━━━━━━━━\u001b[0m \u001b[1m6s\u001b[0m 13ms/step - accuracy: 1.0000 - loss: 5.2573e-06"
     ]
    },
    {
     "name": "stderr",
     "output_type": "stream",
     "text": [
      "WARNING: All log messages before absl::InitializeLog() is called are written to STDERR\n",
      "I0000 00:00:1716135193.596133      77 device_compiler.h:186] Compiled cluster using XLA!  This line is logged at most once for the lifetime of the process.\n",
      "W0000 00:00:1716135193.614067      77 graph_launch.cc:671] Fallback to op-by-op mode because memset node breaks graph update\n"
     ]
    },
    {
     "name": "stdout",
     "output_type": "stream",
     "text": [
      "\u001b[1m491/491\u001b[0m \u001b[32m━━━━━━━━━━━━━━━━━━━━\u001b[0m\u001b[37m\u001b[0m \u001b[1m21s\u001b[0m 35ms/step - accuracy: 1.0000 - loss: 2.6900e-06\n",
      "Train Result: [2.5218982955266256e-06, 1.0]\n"
     ]
    }
   ],
   "source": [
    "# Evaluate the discriminator on the train data\n",
    "result = discriminator.evaluate(train_dataset)\n",
    "\n",
    "# Print the result\n",
    "print(f'Train Result: {result}')\n"
   ]
  },
  {
   "cell_type": "code",
   "execution_count": 13,
   "id": "d0543a4b",
   "metadata": {
    "execution": {
     "iopub.execute_input": "2024-05-19T16:13:38.922103Z",
     "iopub.status.busy": "2024-05-19T16:13:38.921742Z",
     "iopub.status.idle": "2024-05-19T16:15:58.488776Z",
     "shell.execute_reply": "2024-05-19T16:15:58.487872Z"
    },
    "papermill": {
     "duration": 143.601723,
     "end_time": "2024-05-19T16:15:58.491132",
     "exception": false,
     "start_time": "2024-05-19T16:13:34.889409",
     "status": "completed"
    },
    "tags": []
   },
   "outputs": [
    {
     "name": "stdout",
     "output_type": "stream",
     "text": [
      "Found 12630 validated image filenames belonging to 43 classes.\n"
     ]
    }
   ],
   "source": [
    "from tensorflow.keras.preprocessing.image import ImageDataGenerator\n",
    "\n",
    "# Convert numerical class labels to strings\n",
    "# Define the path to the test images\n",
    "import pandas as pd\n",
    "df = pd.read_csv('/kaggle/input/gtsrb-german-traffic-sign/Test.csv')\n",
    "test_dir = '/kaggle/input/gtsrb-german-traffic-sign/'\n",
    "\n",
    "df['ClassId'] = df['ClassId'].astype(str)\n",
    "\n",
    "# Define image data generator with preprocessing steps for test data\n",
    "test_datagen = ImageDataGenerator(rescale=1./255)\n",
    "\n",
    "# Flow from dataframe to preprocess test images\n",
    "test_generator = test_datagen.flow_from_dataframe(\n",
    "    df,\n",
    "    directory=test_dir,\n",
    "    x_col='Path',\n",
    "    y_col='ClassId',\n",
    "    target_size=(48,48),\n",
    "    batch_size=len(df),\n",
    "    class_mode='categorical',  # 'categorical' returns one-hot encoded labels\n",
    "    shuffle=False  # Do not shuffle for evaluation\n",
    ")\n",
    "\n",
    "# Get preprocessed test images and labels\n",
    "X_test, y_test = next(test_generator)\n"
   ]
  },
  {
   "cell_type": "code",
   "execution_count": 14,
   "id": "3f5529d0",
   "metadata": {
    "execution": {
     "iopub.execute_input": "2024-05-19T16:16:06.471122Z",
     "iopub.status.busy": "2024-05-19T16:16:06.470337Z",
     "iopub.status.idle": "2024-05-19T16:16:06.474567Z",
     "shell.execute_reply": "2024-05-19T16:16:06.473667Z"
    },
    "papermill": {
     "duration": 3.987844,
     "end_time": "2024-05-19T16:16:06.476414",
     "exception": false,
     "start_time": "2024-05-19T16:16:02.488570",
     "status": "completed"
    },
    "tags": []
   },
   "outputs": [],
   "source": [
    "#130 epoch 93 percent"
   ]
  },
  {
   "cell_type": "code",
   "execution_count": 15,
   "id": "d6a66779",
   "metadata": {
    "execution": {
     "iopub.execute_input": "2024-05-19T16:16:14.503928Z",
     "iopub.status.busy": "2024-05-19T16:16:14.503564Z",
     "iopub.status.idle": "2024-05-19T16:16:20.710217Z",
     "shell.execute_reply": "2024-05-19T16:16:20.709167Z"
    },
    "papermill": {
     "duration": 10.199608,
     "end_time": "2024-05-19T16:16:20.712215",
     "exception": false,
     "start_time": "2024-05-19T16:16:10.512607",
     "status": "completed"
    },
    "tags": []
   },
   "outputs": [
    {
     "name": "stdout",
     "output_type": "stream",
     "text": [
      "\u001b[1m395/395\u001b[0m \u001b[32m━━━━━━━━━━━━━━━━━━━━\u001b[0m\u001b[37m\u001b[0m \u001b[1m5s\u001b[0m 9ms/step - accuracy: 0.9501 - loss: 0.3242\n",
      "Test Result: [0.31960123777389526, 0.9505146741867065]\n"
     ]
    },
    {
     "name": "stderr",
     "output_type": "stream",
     "text": [
      "W0000 00:00:1716135380.677743      75 graph_launch.cc:671] Fallback to op-by-op mode because memset node breaks graph update\n"
     ]
    }
   ],
   "source": [
    "# Evaluate the discriminator on the test data   ##100 epoch\n",
    "result = discriminator.evaluate(X_test, y_test)\n",
    "\n",
    "# Print the result\n",
    "print(f'Test Result: {result}')\n"
   ]
  },
  {
   "cell_type": "code",
   "execution_count": 16,
   "id": "152fe48d",
   "metadata": {
    "execution": {
     "iopub.execute_input": "2024-05-19T16:16:28.707833Z",
     "iopub.status.busy": "2024-05-19T16:16:28.707129Z",
     "iopub.status.idle": "2024-05-19T16:16:31.492003Z",
     "shell.execute_reply": "2024-05-19T16:16:31.491077Z"
    },
    "papermill": {
     "duration": 6.715681,
     "end_time": "2024-05-19T16:16:31.493886",
     "exception": false,
     "start_time": "2024-05-19T16:16:24.778205",
     "status": "completed"
    },
    "tags": []
   },
   "outputs": [
    {
     "name": "stdout",
     "output_type": "stream",
     "text": [
      "\u001b[1m395/395\u001b[0m \u001b[32m━━━━━━━━━━━━━━━━━━━━\u001b[0m\u001b[37m\u001b[0m \u001b[1m2s\u001b[0m 5ms/step - accuracy: 0.9501 - loss: 0.3242\n",
      "Test Result: [0.31960123777389526, 0.9505146741867065]\n"
     ]
    }
   ],
   "source": [
    "# Evaluate the discriminator on the test data   #125 epoch\n",
    "result = discriminator.evaluate(X_test, y_test)\n",
    "\n",
    "# Print the result\n",
    "print(f'Test Result: {result}')\n"
   ]
  },
  {
   "cell_type": "code",
   "execution_count": 17,
   "id": "ef24403e",
   "metadata": {
    "collapsed": true,
    "execution": {
     "iopub.execute_input": "2024-05-19T16:16:39.773388Z",
     "iopub.status.busy": "2024-05-19T16:16:39.773020Z",
     "iopub.status.idle": "2024-05-19T16:16:42.538666Z",
     "shell.execute_reply": "2024-05-19T16:16:42.537693Z"
    },
    "jupyter": {
     "outputs_hidden": true,
     "source_hidden": true
    },
    "papermill": {
     "duration": 6.812499,
     "end_time": "2024-05-19T16:16:42.540572",
     "exception": false,
     "start_time": "2024-05-19T16:16:35.728073",
     "status": "completed"
    },
    "tags": []
   },
   "outputs": [
    {
     "name": "stdout",
     "output_type": "stream",
     "text": [
      "\u001b[1m395/395\u001b[0m \u001b[32m━━━━━━━━━━━━━━━━━━━━\u001b[0m\u001b[37m\u001b[0m \u001b[1m2s\u001b[0m 5ms/step - accuracy: 0.9501 - loss: 0.3242\n",
      "Test Result: [0.31960123777389526, 0.9505146741867065]\n"
     ]
    }
   ],
   "source": [
    "# Evaluate the discriminator on the test data  ##145 epoch\n",
    "result = discriminator.evaluate(X_test, y_test)\n",
    "\n",
    "# Print the result\n",
    "print(f'Test Result: {result}')\n"
   ]
  },
  {
   "cell_type": "code",
   "execution_count": 18,
   "id": "fb82dab1",
   "metadata": {
    "execution": {
     "iopub.execute_input": "2024-05-19T16:16:50.659818Z",
     "iopub.status.busy": "2024-05-19T16:16:50.658937Z",
     "iopub.status.idle": "2024-05-19T16:16:50.740282Z",
     "shell.execute_reply": "2024-05-19T16:16:50.739422Z"
    },
    "papermill": {
     "duration": 4.184698,
     "end_time": "2024-05-19T16:16:50.742274",
     "exception": false,
     "start_time": "2024-05-19T16:16:46.557576",
     "status": "completed"
    },
    "tags": []
   },
   "outputs": [
    {
     "data": {
      "text/plain": [
       "'/kaggle/working/without_aug2.zip'"
      ]
     },
     "execution_count": 18,
     "metadata": {},
     "output_type": "execute_result"
    }
   ],
   "source": [
    "import shutil\n",
    "import os\n",
    "\n",
    "# Specify the folder path\n",
    "folder_path = '/kaggle/working/empty_folderf3'\n",
    "\n",
    "# Create a zip file\n",
    "shutil.make_archive(folder_path, 'zip', folder_path)\n",
    "\n",
    "# Move the zip file to the output directory\n",
    "output_path = '/kaggle/working/without_aug2.zip'\n",
    "shutil.move(folder_path + '.zip', output_path)\n",
    "\n",
    "# Display the download link\n",
    "output_path\n",
    "   "
   ]
  },
  {
   "cell_type": "code",
   "execution_count": 19,
   "id": "4ba87224",
   "metadata": {
    "execution": {
     "iopub.execute_input": "2024-05-19T16:16:58.993048Z",
     "iopub.status.busy": "2024-05-19T16:16:58.992702Z",
     "iopub.status.idle": "2024-05-19T16:16:59.161439Z",
     "shell.execute_reply": "2024-05-19T16:16:59.160674Z"
    },
    "papermill": {
     "duration": 4.364946,
     "end_time": "2024-05-19T16:16:59.163804",
     "exception": false,
     "start_time": "2024-05-19T16:16:54.798858",
     "status": "completed"
    },
    "tags": []
   },
   "outputs": [],
   "source": [
    "discriminator.save('d_aug_valf.h5')"
   ]
  },
  {
   "cell_type": "code",
   "execution_count": 20,
   "id": "9fcab369",
   "metadata": {
    "execution": {
     "iopub.execute_input": "2024-05-19T16:17:07.240424Z",
     "iopub.status.busy": "2024-05-19T16:17:07.239574Z",
     "iopub.status.idle": "2024-05-19T16:17:10.748669Z",
     "shell.execute_reply": "2024-05-19T16:17:10.747447Z"
    },
    "papermill": {
     "duration": 7.660261,
     "end_time": "2024-05-19T16:17:10.750643",
     "exception": false,
     "start_time": "2024-05-19T16:17:03.090382",
     "status": "completed"
    },
    "tags": []
   },
   "outputs": [
    {
     "name": "stdout",
     "output_type": "stream",
     "text": [
      "\u001b[1m395/395\u001b[0m \u001b[32m━━━━━━━━━━━━━━━━━━━━\u001b[0m\u001b[37m\u001b[0m \u001b[1m2s\u001b[0m 5ms/step\n"
     ]
    },
    {
     "name": "stderr",
     "output_type": "stream",
     "text": [
      "W0000 00:00:1716135430.488000      77 graph_launch.cc:671] Fallback to op-by-op mode because memset node breaks graph update\n"
     ]
    },
    {
     "name": "stdout",
     "output_type": "stream",
     "text": [
      "Precision: [0.84126984 0.94623656 0.98192771 0.90153173 0.97891566 0.99582173\n",
      " 0.97463768 0.93333333 0.97402597 1.         0.96501458 0.80821918\n",
      " 0.97404372 0.73170732 0.94117647 0.94871795 0.95588235 0.77\n",
      " 0.94279661 0.91005291 0.6        0.88590604 0.96629213 0.92978723\n",
      " 0.77922078 0.96350365 0.95238095 1.         0.97540984 0.99480519\n",
      " 0.98319328 1.         0.99112426 0.85858586 0.97692308 1.\n",
      " 0.98113208 0.94623656 0.95974235 1.         0.93414634 0.8407767\n",
      " 0.97546012]\n",
      "Recall: [0.88333333 0.97777778 0.98787879 0.98095238 0.94202899 0.99305556\n",
      " 0.9962963  1.         1.         0.95       0.84871795 0.98333333\n",
      " 0.95066667 1.         0.71111111 0.925      0.86666667 0.85555556\n",
      " 0.92708333 0.95555556 0.5        0.88       0.95555556 0.97111111\n",
      " 0.8        0.97777778 1.         0.9952381  0.99166667 0.98205128\n",
      " 0.975      0.96666667 0.97101449 0.94444444 0.96212121 0.94444444\n",
      " 0.86666667 0.97777778 0.94603175 0.91333333 0.85111111 0.96222222\n",
      " 0.99375   ]\n",
      "F1 Score: [0.86178862 0.96174863 0.98489426 0.9395667  0.96011817 0.99443672\n",
      " 0.98534799 0.96551724 0.98684211 0.97435897 0.90313779 0.88721805\n",
      " 0.96221323 0.84507042 0.81012658 0.93670886 0.90909091 0.81052632\n",
      " 0.93487395 0.93224932 0.54545455 0.88294314 0.96089385 0.95\n",
      " 0.78947368 0.97058824 0.97560976 0.99761337 0.98347107 0.9883871\n",
      " 0.9790795  0.98305085 0.98096633 0.8994709  0.96946565 0.97142857\n",
      " 0.92035398 0.96174863 0.95283773 0.95470383 0.89069767 0.89740933\n",
      " 0.98452012]\n",
      "Support: [ 60 720 660 420 690 720 270 210 150 360 390  60 750  90  90 120 150  90\n",
      " 480 180  60 150  90 450 150 270  60 210 120 390 120  60 690  90 660  90\n",
      "  60  90 630 150 450 450 480]\n",
      "Average Precision: 0.9295334358631078\n",
      "Average Recall: 0.9316976254468671\n",
      "Average F1 Score: 0.9287442483975263\n"
     ]
    }
   ],
   "source": [
    "from sklearn.metrics import precision_recall_fscore_support\n",
    "\n",
    "# Assuming you have test data predictions stored in y_pred and true labels in y_true\n",
    "y_pred = discriminator.predict(X_test)\n",
    "y_true = np.argmax(y_test, axis=1)  # Convert one-hot encoded labels to class labels\n",
    "\n",
    "# Convert predicted probabilities to class labels\n",
    "y_pred_labels = np.argmax(y_pred, axis=1)\n",
    "\n",
    "# Calculate precision, recall, f1-score, and support for each class\n",
    "precision, recall, f1_score, support = precision_recall_fscore_support(y_true, y_pred_labels)\n",
    "\n",
    "# Average precision, recall, f1-score across all classes\n",
    "avg_precision = np.mean(precision)\n",
    "avg_recall = np.mean(recall)\n",
    "avg_f1_score = np.mean(f1_score)\n",
    "\n",
    "# Print results\n",
    "print(\"Precision:\", precision)\n",
    "print(\"Recall:\", recall)\n",
    "print(\"F1 Score:\", f1_score)\n",
    "print(\"Support:\", support)\n",
    "print(\"Average Precision:\", avg_precision)\n",
    "print(\"Average Recall:\", avg_recall)\n",
    "print(\"Average F1 Score:\", avg_f1_score)\n"
   ]
  }
 ],
 "metadata": {
  "kaggle": {
   "accelerator": "gpu",
   "dataSources": [
    {
     "datasetId": 82373,
     "sourceId": 191501,
     "sourceType": "datasetVersion"
    },
    {
     "datasetId": 3820936,
     "sourceId": 6620552,
     "sourceType": "datasetVersion"
    }
   ],
   "dockerImageVersionId": 30699,
   "isGpuEnabled": true,
   "isInternetEnabled": true,
   "language": "python",
   "sourceType": "notebook"
  },
  "kernelspec": {
   "display_name": "Python 3",
   "language": "python",
   "name": "python3"
  },
  "language_info": {
   "codemirror_mode": {
    "name": "ipython",
    "version": 3
   },
   "file_extension": ".py",
   "mimetype": "text/x-python",
   "name": "python",
   "nbconvert_exporter": "python",
   "pygments_lexer": "ipython3",
   "version": "3.10.13"
  },
  "papermill": {
   "default_parameters": {},
   "duration": 15841.78762,
   "end_time": "2024-05-19T16:17:16.745693",
   "environment_variables": {},
   "exception": null,
   "input_path": "__notebook__.ipynb",
   "output_path": "__notebook__.ipynb",
   "parameters": {},
   "start_time": "2024-05-19T11:53:14.958073",
   "version": "2.5.0"
  }
 },
 "nbformat": 4,
 "nbformat_minor": 5
}
