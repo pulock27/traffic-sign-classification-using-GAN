{
 "cells": [
  {
   "cell_type": "code",
   "execution_count": 1,
   "id": "b02092ef",
   "metadata": {
    "execution": {
     "iopub.execute_input": "2024-05-15T07:28:43.952706Z",
     "iopub.status.busy": "2024-05-15T07:28:43.951817Z",
     "iopub.status.idle": "2024-05-15T07:28:57.077614Z",
     "shell.execute_reply": "2024-05-15T07:28:57.076749Z"
    },
    "papermill": {
     "duration": 13.136037,
     "end_time": "2024-05-15T07:28:57.079990",
     "exception": false,
     "start_time": "2024-05-15T07:28:43.943953",
     "status": "completed"
    },
    "tags": []
   },
   "outputs": [
    {
     "name": "stderr",
     "output_type": "stream",
     "text": [
      "2024-05-15 07:28:45.760138: E external/local_xla/xla/stream_executor/cuda/cuda_dnn.cc:9261] Unable to register cuDNN factory: Attempting to register factory for plugin cuDNN when one has already been registered\n",
      "2024-05-15 07:28:45.760263: E external/local_xla/xla/stream_executor/cuda/cuda_fft.cc:607] Unable to register cuFFT factory: Attempting to register factory for plugin cuFFT when one has already been registered\n",
      "2024-05-15 07:28:45.896506: E external/local_xla/xla/stream_executor/cuda/cuda_blas.cc:1515] Unable to register cuBLAS factory: Attempting to register factory for plugin cuBLAS when one has already been registered\n"
     ]
    }
   ],
   "source": [
    "import tensorflow as tf\n",
    "import os\n",
    "import numpy as np\n",
    "from pathlib import Path\n",
    "from tensorflow import keras\n",
    "from tensorflow.keras import layers\n",
    "from tqdm import tqdm"
   ]
  },
  {
   "cell_type": "code",
   "execution_count": 2,
   "id": "f6fe3463",
   "metadata": {
    "execution": {
     "iopub.execute_input": "2024-05-15T07:28:57.094112Z",
     "iopub.status.busy": "2024-05-15T07:28:57.093169Z",
     "iopub.status.idle": "2024-05-15T07:28:57.097929Z",
     "shell.execute_reply": "2024-05-15T07:28:57.097095Z"
    },
    "papermill": {
     "duration": 0.013566,
     "end_time": "2024-05-15T07:28:57.099791",
     "exception": false,
     "start_time": "2024-05-15T07:28:57.086225",
     "status": "completed"
    },
    "tags": []
   },
   "outputs": [],
   "source": [
    "import os\n",
    "# Define the path for the empty folder\n",
    "folder_path = '/kaggle/working/empty_folderf3/'\n",
    "\n",
    "# Create the empty folder\n",
    "os.makedirs(folder_path, exist_ok=True)\n",
    "save_dir = ('/kaggle/working/empty_folderf3')\n"
   ]
  },
  {
   "cell_type": "code",
   "execution_count": 3,
   "id": "b6b4aece",
   "metadata": {
    "execution": {
     "iopub.execute_input": "2024-05-15T07:28:57.113226Z",
     "iopub.status.busy": "2024-05-15T07:28:57.112397Z",
     "iopub.status.idle": "2024-05-15T07:29:13.845590Z",
     "shell.execute_reply": "2024-05-15T07:29:13.844771Z"
    },
    "papermill": {
     "duration": 16.742349,
     "end_time": "2024-05-15T07:29:13.847907",
     "exception": false,
     "start_time": "2024-05-15T07:28:57.105558",
     "status": "completed"
    },
    "tags": []
   },
   "outputs": [
    {
     "name": "stdout",
     "output_type": "stream",
     "text": [
      "Found 39209 files belonging to 43 classes.\n",
      "Using 31368 files for training.\n",
      "Found 39209 files belonging to 43 classes.\n",
      "Using 7841 files for validation.\n"
     ]
    }
   ],
   "source": [
    "from sklearn.model_selection import train_test_split\n",
    "\n",
    "# Split dataset into training and validation sets\n",
    "train_dir = '/kaggle/input/gtsrb-train/Train'\n",
    "train_data, val_data = train_test_split(os.listdir(train_dir), test_size=0.2, random_state=42)\n",
    "\n",
    "# Create training and validation datasets\n",
    "train_dataset = keras.preprocessing.image_dataset_from_directory(\n",
    "    directory=train_dir, \n",
    "    labels='inferred',  # Use inferred labels from directory structure\n",
    "    label_mode='categorical', \n",
    "    image_size=(64, 64), \n",
    "    batch_size=64,\n",
    "    shuffle=True,\n",
    "    validation_split=0.2,  # Percentage of data to use for validation\n",
    "    subset=\"training\",\n",
    "    seed=42  # Specify seed for reproducibility\n",
    ").map(lambda x, y: (x/255.0, y))  # Normalize the pixel values to [0, 1]\n",
    "\n",
    "val_dataset = keras.preprocessing.image_dataset_from_directory(\n",
    "    directory=train_dir, \n",
    "    labels='inferred',  # Use inferred labels from directory structure\n",
    "    label_mode='categorical', \n",
    "    image_size=(64, 64), \n",
    "    batch_size=64,\n",
    "    shuffle=True,\n",
    "    validation_split=0.2,  # Percentage of data to use for validation\n",
    "    subset=\"validation\",\n",
    "    seed=42  # Specify seed for reproducibility\n",
    ").map(lambda x, y: (x/255.0, y))  # Normalize the pixel values to [0, 1])\n"
   ]
  },
  {
   "cell_type": "code",
   "execution_count": 4,
   "id": "27f94ef3",
   "metadata": {
    "execution": {
     "iopub.execute_input": "2024-05-15T07:29:13.862163Z",
     "iopub.status.busy": "2024-05-15T07:29:13.861802Z",
     "iopub.status.idle": "2024-05-15T07:29:13.865714Z",
     "shell.execute_reply": "2024-05-15T07:29:13.864895Z"
    },
    "papermill": {
     "duration": 0.013397,
     "end_time": "2024-05-15T07:29:13.867789",
     "exception": false,
     "start_time": "2024-05-15T07:29:13.854392",
     "status": "completed"
    },
    "tags": []
   },
   "outputs": [],
   "source": [
    "#nnnnnnneeeeewwwwwwwwww   mmmmooodeeel"
   ]
  },
  {
   "cell_type": "code",
   "execution_count": 5,
   "id": "bd0b7e7a",
   "metadata": {
    "execution": {
     "iopub.execute_input": "2024-05-15T07:29:13.881606Z",
     "iopub.status.busy": "2024-05-15T07:29:13.881322Z",
     "iopub.status.idle": "2024-05-15T07:29:14.016861Z",
     "shell.execute_reply": "2024-05-15T07:29:14.016073Z"
    },
    "papermill": {
     "duration": 0.145069,
     "end_time": "2024-05-15T07:29:14.019212",
     "exception": false,
     "start_time": "2024-05-15T07:29:13.874143",
     "status": "completed"
    },
    "tags": []
   },
   "outputs": [],
   "source": [
    "latent_dim = 128\n",
    "\n",
    "# Encoder\n",
    "encoder = keras.Sequential([\n",
    "    layers.Input(shape=(64, 64, 3)),\n",
    "    layers.Conv2D(64, kernel_size=4, strides=2, padding=\"same\"),\n",
    "    layers.LeakyReLU(0.2),\n",
    "    layers.Conv2D(128, kernel_size=4, strides=2, padding=\"same\"),\n",
    "    layers.LeakyReLU(0.2),\n",
    "    layers.Conv2D(256, kernel_size=4, strides=2, padding=\"same\"),\n",
    "    layers.LeakyReLU(0.2),\n",
    "    layers.Conv2D(512, kernel_size=4, strides=2, padding=\"same\"),\n",
    "    layers.LeakyReLU(0.2),\n",
    "    layers.Flatten(),\n",
    "    layers.Dense(latent_dim)  # Latent representation\n",
    "])\n",
    "\n",
    "# Decoder\n",
    "decoder = keras.Sequential([\n",
    "    layers.Input(shape=(latent_dim,)),\n",
    "    layers.Dense(8*8*512),\n",
    "    layers.Reshape((8, 8, 512)),\n",
    "    layers.Conv2DTranspose(256, kernel_size=4, strides=2, padding=\"same\"),\n",
    "    layers.LeakyReLU(0.2),\n",
    "    layers.Conv2DTranspose(128, kernel_size=4, strides=2, padding=\"same\"),\n",
    "    layers.LeakyReLU(0.2),\n",
    "    layers.Conv2DTranspose(64, kernel_size=4, strides=2, padding=\"same\"),\n",
    "    layers.LeakyReLU(0.2),\n",
    "    layers.Conv2DTranspose(3, kernel_size=4,  padding=\"same\", activation=\"tanh\"),\n",
    "])\n",
    "\n",
    "# Full autoencoder model\n",
    "autoencoder = keras.Sequential([\n",
    "    layers.Input(shape=(64, 64, 3)),\n",
    "    encoder,\n",
    "    decoder\n",
    "])\n"
   ]
  },
  {
   "cell_type": "code",
   "execution_count": 6,
   "id": "7b814707",
   "metadata": {
    "execution": {
     "iopub.execute_input": "2024-05-15T07:29:14.033704Z",
     "iopub.status.busy": "2024-05-15T07:29:14.032954Z",
     "iopub.status.idle": "2024-05-15T07:29:14.037274Z",
     "shell.execute_reply": "2024-05-15T07:29:14.036401Z"
    },
    "papermill": {
     "duration": 0.013594,
     "end_time": "2024-05-15T07:29:14.039222",
     "exception": false,
     "start_time": "2024-05-15T07:29:14.025628",
     "status": "completed"
    },
    "tags": []
   },
   "outputs": [],
   "source": [
    "from tensorflow.keras import layers, models, optimizers"
   ]
  },
  {
   "cell_type": "code",
   "execution_count": 7,
   "id": "9553fb23",
   "metadata": {
    "execution": {
     "iopub.execute_input": "2024-05-15T07:29:14.053339Z",
     "iopub.status.busy": "2024-05-15T07:29:14.052719Z",
     "iopub.status.idle": "2024-05-15T07:29:14.091981Z",
     "shell.execute_reply": "2024-05-15T07:29:14.091099Z"
    },
    "papermill": {
     "duration": 0.048314,
     "end_time": "2024-05-15T07:29:14.093966",
     "exception": false,
     "start_time": "2024-05-15T07:29:14.045652",
     "status": "completed"
    },
    "tags": []
   },
   "outputs": [
    {
     "name": "stderr",
     "output_type": "stream",
     "text": [
      "/opt/conda/lib/python3.10/site-packages/keras/src/layers/convolutional/base_conv.py:99: UserWarning: Do not pass an `input_shape`/`input_dim` argument to a layer. When using Sequential models, prefer using an `Input(shape)` object as the first layer in the model instead.\n",
      "  super().__init__(\n"
     ]
    }
   ],
   "source": [
    "import tensorflow as tf\n",
    "\n",
    "class CustomModel(tf.keras.Model):\n",
    "    def __init__(self):\n",
    "        super(CustomModel, self).__init__()\n",
    "        \n",
    "        # Define layers\n",
    "        self.conv1 = tf.keras.layers.Conv2D(250, kernel_size=7, activation='relu', input_shape=(48, 48, 3))\n",
    "        self.pool1 = tf.keras.layers.MaxPooling2D(pool_size=2)\n",
    "        self.norm1 = tf.keras.layers.BatchNormalization()\n",
    "        \n",
    "        self.conv2 = tf.keras.layers.Conv2D(300, kernel_size=4, activation='relu')\n",
    "        self.pool2 = tf.keras.layers.MaxPooling2D(pool_size=2)\n",
    "        self.norm2 = tf.keras.layers.BatchNormalization()\n",
    "        \n",
    "        self.conv3 = tf.keras.layers.Conv2D(350, kernel_size=4, activation='relu')\n",
    "        self.pool3 = tf.keras.layers.MaxPooling2D(pool_size=2)\n",
    "        self.norm3 = tf.keras.layers.BatchNormalization()\n",
    "        \n",
    "        self.conv4 = tf.keras.layers.Conv2D(400, kernel_size=4, activation='relu')\n",
    "        self.pool4 = tf.keras.layers.MaxPooling2D(pool_size=2)\n",
    "        self.norm4 = tf.keras.layers.BatchNormalization()\n",
    "        \n",
    "        self.flatten = tf.keras.layers.Flatten()\n",
    "    \n",
    "        self.fc1 = tf.keras.layers.Dense(400, activation='relu')\n",
    "        self.dropout1 = tf.keras.layers.Dropout(0.5)  # Dropout layer\n",
    "        self.fc2 = tf.keras.layers.Dense(200, activation='relu')\n",
    "        self.dropout2 = tf.keras.layers.Dropout(0.5)  # Dropout layer\n",
    "        self.fc3 = tf.keras.layers.Dense(43, activation='softmax')\n",
    "    \n",
    "    def call(self, inputs):\n",
    "        # Forward pass\n",
    "        x = self.conv1(inputs)\n",
    "        x = self.pool1(x)\n",
    "        x = self.norm1(x)\n",
    "        x = self.conv2(x)\n",
    "        x = self.pool2(x)\n",
    "        x = self.norm2(x)\n",
    "        x = self.conv3(x)\n",
    "        x = self.pool3(x)\n",
    "        x = self.norm3(x)\n",
    "        x = self.conv4(x)\n",
    "        x = self.pool4(x)\n",
    "        x = self.norm4(x)\n",
    "        x = self.flatten(x)\n",
    "        x = self.fc1(x)\n",
    "        x = self.dropout1(x)  # Dropout layer\n",
    "        x = self.fc2(x)\n",
    "        x = self.dropout2(x)  # Dropout layer\n",
    "        x = self.fc3(x)\n",
    "        return x\n",
    "\n",
    "# Create an instance of the model\n",
    "discriminator = CustomModel()\n"
   ]
  },
  {
   "cell_type": "code",
   "execution_count": 8,
   "id": "c434cc59",
   "metadata": {
    "execution": {
     "iopub.execute_input": "2024-05-15T07:29:14.108354Z",
     "iopub.status.busy": "2024-05-15T07:29:14.107997Z",
     "iopub.status.idle": "2024-05-15T07:29:14.125340Z",
     "shell.execute_reply": "2024-05-15T07:29:14.124594Z"
    },
    "papermill": {
     "duration": 0.026867,
     "end_time": "2024-05-15T07:29:14.127356",
     "exception": false,
     "start_time": "2024-05-15T07:29:14.100489",
     "status": "completed"
    },
    "tags": []
   },
   "outputs": [],
   "source": [
    "# Loss functions\n",
    "loss_fn_auto = tf.keras.losses.MeanSquaredError()\n",
    "loss_fn_disc = tf.keras.losses.CategoricalCrossentropy()\n",
    "\n",
    "# Optimizers\n",
    "opt_autoencoder = tf.keras.optimizers.Adam(learning_rate=0.0001, beta_1=0.5)\n",
    "opt_disc = tf.keras.optimizers.Adam(learning_rate=0.0001, beta_1=0.5)\n",
    "\n",
    "\n",
    "# Compile the autoencoder model\n",
    "autoencoder.compile(optimizer=opt_autoencoder, loss=loss_fn_auto)\n",
    "\n",
    "# Compile the discriminator model\n",
    "discriminator.compile(optimizer=opt_disc, loss=loss_fn_disc, metrics=['accuracy'])"
   ]
  },
  {
   "cell_type": "code",
   "execution_count": 9,
   "id": "a7793cda",
   "metadata": {
    "execution": {
     "iopub.execute_input": "2024-05-15T07:29:14.141935Z",
     "iopub.status.busy": "2024-05-15T07:29:14.141627Z",
     "iopub.status.idle": "2024-05-15T12:15:50.567438Z",
     "shell.execute_reply": "2024-05-15T12:15:50.566389Z"
    },
    "papermill": {
     "duration": 17196.435599,
     "end_time": "2024-05-15T12:15:50.569527",
     "exception": false,
     "start_time": "2024-05-15T07:29:14.133928",
     "status": "completed"
    },
    "tags": []
   },
   "outputs": [
    {
     "name": "stderr",
     "output_type": "stream",
     "text": [
      "100%|██████████| 491/491 [02:52<00:00,  2.85it/s]\n"
     ]
    },
    {
     "name": "stdout",
     "output_type": "stream",
     "text": [
      "Epoch 0, Autoencoder Loss: 0.024481255561113358, Discriminator Loss: 2.669597625732422, Discriminator Accuracy: 0.2039523869752884\n",
      "Validation - Autoencoder Loss: 0.016136471182107925, Discriminator Loss: 2.0427958965301514, Discriminator Accuracy: 0.27027902007102966\n"
     ]
    },
    {
     "name": "stderr",
     "output_type": "stream",
     "text": [
      "100%|██████████| 491/491 [02:38<00:00,  3.10it/s]\n"
     ]
    },
    {
     "name": "stdout",
     "output_type": "stream",
     "text": [
      "Epoch 1, Autoencoder Loss: 0.011088287457823753, Discriminator Loss: 0.8223063945770264, Discriminator Accuracy: 0.7372390627861023\n",
      "Validation - Autoencoder Loss: 0.009588387794792652, Discriminator Loss: 0.5069132447242737, Discriminator Accuracy: 0.7495457530021667\n"
     ]
    },
    {
     "name": "stderr",
     "output_type": "stream",
     "text": [
      "100%|██████████| 491/491 [02:38<00:00,  3.10it/s]\n"
     ]
    },
    {
     "name": "stdout",
     "output_type": "stream",
     "text": [
      "Epoch 2, Autoencoder Loss: 0.007865664549171925, Discriminator Loss: 0.32106369733810425, Discriminator Accuracy: 0.9240707755088806\n",
      "Validation - Autoencoder Loss: 0.007417248096317053, Discriminator Loss: 0.307015061378479, Discriminator Accuracy: 0.8483616709709167\n"
     ]
    },
    {
     "name": "stderr",
     "output_type": "stream",
     "text": [
      "100%|██████████| 491/491 [02:39<00:00,  3.09it/s]\n"
     ]
    },
    {
     "name": "stdout",
     "output_type": "stream",
     "text": [
      "Epoch 3, Autoencoder Loss: 0.006216366775333881, Discriminator Loss: 0.14717692136764526, Discriminator Accuracy: 0.9802698493003845\n",
      "Validation - Autoencoder Loss: 0.005766676273196936, Discriminator Loss: 0.4465442895889282, Discriminator Accuracy: 0.8776907324790955\n"
     ]
    },
    {
     "name": "stderr",
     "output_type": "stream",
     "text": [
      "100%|██████████| 491/491 [02:38<00:00,  3.10it/s]\n"
     ]
    },
    {
     "name": "stdout",
     "output_type": "stream",
     "text": [
      "Epoch 4, Autoencoder Loss: 0.005703381262719631, Discriminator Loss: 0.10169612616300583, Discriminator Accuracy: 0.9877800345420837\n",
      "Validation - Autoencoder Loss: 0.005034496076405048, Discriminator Loss: 0.0983743816614151, Discriminator Accuracy: 0.9549188613891602\n"
     ]
    },
    {
     "name": "stderr",
     "output_type": "stream",
     "text": [
      "100%|██████████| 491/491 [02:38<00:00,  3.10it/s]\n"
     ]
    },
    {
     "name": "stdout",
     "output_type": "stream",
     "text": [
      "Epoch 5, Autoencoder Loss: 0.005214255303144455, Discriminator Loss: 0.0730362981557846, Discriminator Accuracy: 0.9924261569976807\n",
      "Validation - Autoencoder Loss: 0.004709362518042326, Discriminator Loss: 0.08244588971138, Discriminator Accuracy: 0.9673680067062378\n"
     ]
    },
    {
     "name": "stderr",
     "output_type": "stream",
     "text": [
      "100%|██████████| 491/491 [02:39<00:00,  3.07it/s]\n"
     ]
    },
    {
     "name": "stdout",
     "output_type": "stream",
     "text": [
      "Epoch 6, Autoencoder Loss: 0.004253106657415628, Discriminator Loss: 0.03087715245783329, Discriminator Accuracy: 0.9991089701652527\n",
      "Validation - Autoencoder Loss: 0.004251355305314064, Discriminator Loss: 0.11302614957094193, Discriminator Accuracy: 0.961135745048523\n"
     ]
    },
    {
     "name": "stderr",
     "output_type": "stream",
     "text": [
      "100%|██████████| 491/491 [02:41<00:00,  3.03it/s]\n"
     ]
    },
    {
     "name": "stdout",
     "output_type": "stream",
     "text": [
      "Epoch 7, Autoencoder Loss: 0.0039464496076107025, Discriminator Loss: 0.02672533132135868, Discriminator Accuracy: 0.9993953704833984\n",
      "Validation - Autoencoder Loss: 0.0040014018304646015, Discriminator Loss: 0.07046539336442947, Discriminator Accuracy: 0.9707902073860168\n"
     ]
    },
    {
     "name": "stderr",
     "output_type": "stream",
     "text": [
      "100%|██████████| 491/491 [02:45<00:00,  2.98it/s]\n"
     ]
    },
    {
     "name": "stdout",
     "output_type": "stream",
     "text": [
      "Epoch 8, Autoencoder Loss: 0.0036927727051079273, Discriminator Loss: 0.02077201008796692, Discriminator Accuracy: 0.9995226860046387\n",
      "Validation - Autoencoder Loss: 0.003992502111941576, Discriminator Loss: 0.1656590700149536, Discriminator Accuracy: 0.9498375654220581\n"
     ]
    },
    {
     "name": "stderr",
     "output_type": "stream",
     "text": [
      "100%|██████████| 491/491 [02:45<00:00,  2.97it/s]\n"
     ]
    },
    {
     "name": "stdout",
     "output_type": "stream",
     "text": [
      "Epoch 9, Autoencoder Loss: 0.0034773650113493204, Discriminator Loss: 0.0166265107691288, Discriminator Accuracy: 0.9995226860046387\n",
      "Validation - Autoencoder Loss: 0.003823430510237813, Discriminator Loss: 0.06569802761077881, Discriminator Accuracy: 0.9697662591934204\n"
     ]
    },
    {
     "name": "stderr",
     "output_type": "stream",
     "text": [
      "100%|██████████| 491/491 [02:42<00:00,  3.02it/s]\n"
     ]
    },
    {
     "name": "stdout",
     "output_type": "stream",
     "text": [
      "Epoch 10, Autoencoder Loss: 0.0033240218181163073, Discriminator Loss: 0.01713535189628601, Discriminator Accuracy: 0.9996499419212341\n",
      "Validation - Autoencoder Loss: 0.0033079003915190697, Discriminator Loss: 0.1246778592467308, Discriminator Accuracy: 0.9608893394470215\n"
     ]
    },
    {
     "name": "stderr",
     "output_type": "stream",
     "text": [
      "100%|██████████| 491/491 [02:44<00:00,  2.99it/s]\n"
     ]
    },
    {
     "name": "stdout",
     "output_type": "stream",
     "text": [
      "Epoch 11, Autoencoder Loss: 0.003144304035231471, Discriminator Loss: 0.018893862143158913, Discriminator Accuracy: 0.9993953704833984\n",
      "Validation - Autoencoder Loss: 0.0033423679415136576, Discriminator Loss: 0.04024369269609451, Discriminator Accuracy: 0.9823424816131592\n"
     ]
    },
    {
     "name": "stderr",
     "output_type": "stream",
     "text": [
      "100%|██████████| 491/491 [02:43<00:00,  3.00it/s]\n"
     ]
    },
    {
     "name": "stdout",
     "output_type": "stream",
     "text": [
      "Epoch 12, Autoencoder Loss: 0.0031151024159044027, Discriminator Loss: 0.01967817358672619, Discriminator Accuracy: 0.9989498257637024\n",
      "Validation - Autoencoder Loss: 0.003101534675806761, Discriminator Loss: 0.04022395610809326, Discriminator Accuracy: 0.9855182766914368\n"
     ]
    },
    {
     "name": "stderr",
     "output_type": "stream",
     "text": [
      "100%|██████████| 491/491 [02:41<00:00,  3.03it/s]\n"
     ]
    },
    {
     "name": "stdout",
     "output_type": "stream",
     "text": [
      "Epoch 13, Autoencoder Loss: 0.0028375007677823305, Discriminator Loss: 0.010815897956490517, Discriminator Accuracy: 0.9997772574424744\n",
      "Validation - Autoencoder Loss: 0.003666698932647705, Discriminator Loss: 0.038982637226581573, Discriminator Accuracy: 0.9855259656906128\n"
     ]
    },
    {
     "name": "stderr",
     "output_type": "stream",
     "text": [
      "100%|██████████| 491/491 [02:41<00:00,  3.04it/s]\n"
     ]
    },
    {
     "name": "stdout",
     "output_type": "stream",
     "text": [
      "Epoch 14, Autoencoder Loss: 0.0027855252847075462, Discriminator Loss: 0.008505216799676418, Discriminator Accuracy: 0.9998409152030945\n",
      "Validation - Autoencoder Loss: 0.0030074503738433123, Discriminator Loss: 0.035482123494148254, Discriminator Accuracy: 0.9861611723899841\n"
     ]
    },
    {
     "name": "stderr",
     "output_type": "stream",
     "text": [
      "100%|██████████| 491/491 [02:40<00:00,  3.06it/s]\n"
     ]
    },
    {
     "name": "stdout",
     "output_type": "stream",
     "text": [
      "Epoch 15, Autoencoder Loss: 0.004873090889304876, Discriminator Loss: 0.08076585084199905, Discriminator Accuracy: 0.9841522574424744\n",
      "Validation - Autoencoder Loss: 0.0033151861280202866, Discriminator Loss: 0.03551851585507393, Discriminator Accuracy: 0.9850101470947266\n"
     ]
    },
    {
     "name": "stderr",
     "output_type": "stream",
     "text": [
      "100%|██████████| 491/491 [02:41<00:00,  3.05it/s]\n"
     ]
    },
    {
     "name": "stdout",
     "output_type": "stream",
     "text": [
      "Epoch 16, Autoencoder Loss: 0.002783639822155237, Discriminator Loss: 0.00566552858799696, Discriminator Accuracy: 1.0\n",
      "Validation - Autoencoder Loss: 0.0030659702606499195, Discriminator Loss: 0.026716360822319984, Discriminator Accuracy: 0.9892022609710693\n"
     ]
    },
    {
     "name": "stderr",
     "output_type": "stream",
     "text": [
      "100%|██████████| 491/491 [02:41<00:00,  3.04it/s]\n"
     ]
    },
    {
     "name": "stdout",
     "output_type": "stream",
     "text": [
      "Epoch 17, Autoencoder Loss: 0.0025718018878251314, Discriminator Loss: 0.0029500036034733057, Discriminator Accuracy: 0.9999363422393799\n",
      "Validation - Autoencoder Loss: 0.002892105607315898, Discriminator Loss: 0.027110392227768898, Discriminator Accuracy: 0.9903532266616821\n"
     ]
    },
    {
     "name": "stderr",
     "output_type": "stream",
     "text": [
      "100%|██████████| 491/491 [02:41<00:00,  3.03it/s]\n"
     ]
    },
    {
     "name": "stdout",
     "output_type": "stream",
     "text": [
      "Epoch 18, Autoencoder Loss: 0.0025023913476616144, Discriminator Loss: 0.001727583701722324, Discriminator Accuracy: 0.9998726844787598\n",
      "Validation - Autoencoder Loss: 0.0027951982337981462, Discriminator Loss: 0.03721227869391441, Discriminator Accuracy: 0.9879319071769714\n"
     ]
    },
    {
     "name": "stderr",
     "output_type": "stream",
     "text": [
      "100%|██████████| 491/491 [02:42<00:00,  3.03it/s]\n"
     ]
    },
    {
     "name": "stdout",
     "output_type": "stream",
     "text": [
      "Epoch 19, Autoencoder Loss: 0.0024559006560593843, Discriminator Loss: 0.015406214632093906, Discriminator Accuracy: 0.9992998838424683\n",
      "Validation - Autoencoder Loss: 0.0031209918670356274, Discriminator Loss: 0.03720103204250336, Discriminator Accuracy: 0.9847561120986938\n"
     ]
    },
    {
     "name": "stderr",
     "output_type": "stream",
     "text": [
      "100%|██████████| 491/491 [02:42<00:00,  3.01it/s]\n"
     ]
    },
    {
     "name": "stdout",
     "output_type": "stream",
     "text": [
      "Epoch 20, Autoencoder Loss: 0.002422309247776866, Discriminator Loss: 0.004434764850884676, Discriminator Accuracy: 1.0\n",
      "Validation - Autoencoder Loss: 0.002806349890306592, Discriminator Loss: 0.03280032053589821, Discriminator Accuracy: 0.9883130192756653\n"
     ]
    },
    {
     "name": "stderr",
     "output_type": "stream",
     "text": [
      "100%|██████████| 491/491 [02:41<00:00,  3.03it/s]\n"
     ]
    },
    {
     "name": "stdout",
     "output_type": "stream",
     "text": [
      "Epoch 21, Autoencoder Loss: 0.00237699574790895, Discriminator Loss: 0.0033328344579786062, Discriminator Accuracy: 0.9999045133590698\n",
      "Validation - Autoencoder Loss: 0.003008647821843624, Discriminator Loss: 0.041324932128190994, Discriminator Accuracy: 0.984375\n"
     ]
    },
    {
     "name": "stderr",
     "output_type": "stream",
     "text": [
      "100%|██████████| 491/491 [02:42<00:00,  3.02it/s]\n"
     ]
    },
    {
     "name": "stdout",
     "output_type": "stream",
     "text": [
      "Epoch 22, Autoencoder Loss: 0.002333469223231077, Discriminator Loss: 0.007186452858150005, Discriminator Accuracy: 0.9996181130409241\n",
      "Validation - Autoencoder Loss: 0.0027701538056135178, Discriminator Loss: 0.031758178025484085, Discriminator Accuracy: 0.9887018203735352\n"
     ]
    },
    {
     "name": "stderr",
     "output_type": "stream",
     "text": [
      "100%|██████████| 491/491 [02:42<00:00,  3.02it/s]\n"
     ]
    },
    {
     "name": "stdout",
     "output_type": "stream",
     "text": [
      "Epoch 23, Autoencoder Loss: 0.0022744855377823114, Discriminator Loss: 0.007559835910797119, Discriminator Accuracy: 0.9997454285621643\n",
      "Validation - Autoencoder Loss: 0.002792525338009, Discriminator Loss: 0.023435352370142937, Discriminator Accuracy: 0.9907266497612\n"
     ]
    },
    {
     "name": "stderr",
     "output_type": "stream",
     "text": [
      "100%|██████████| 491/491 [02:43<00:00,  3.01it/s]\n"
     ]
    },
    {
     "name": "stdout",
     "output_type": "stream",
     "text": [
      "Epoch 24, Autoencoder Loss: 0.0022277971729636192, Discriminator Loss: 0.005855192430317402, Discriminator Accuracy: 0.9999363422393799\n",
      "Validation - Autoencoder Loss: 0.002656089374795556, Discriminator Loss: 0.026051770895719528, Discriminator Accuracy: 0.9903455376625061\n"
     ]
    },
    {
     "name": "stderr",
     "output_type": "stream",
     "text": [
      "100%|██████████| 491/491 [02:43<00:00,  3.01it/s]\n"
     ]
    },
    {
     "name": "stdout",
     "output_type": "stream",
     "text": [
      "Epoch 25, Autoencoder Loss: 0.0022124459501355886, Discriminator Loss: 0.0029272648971527815, Discriminator Accuracy: 0.9997135996818542\n",
      "Validation - Autoencoder Loss: 0.005311030428856611, Discriminator Loss: 0.11169763654470444, Discriminator Accuracy: 0.9541566371917725\n"
     ]
    },
    {
     "name": "stderr",
     "output_type": "stream",
     "text": [
      "100%|██████████| 491/491 [02:45<00:00,  2.97it/s]\n"
     ]
    },
    {
     "name": "stdout",
     "output_type": "stream",
     "text": [
      "Epoch 26, Autoencoder Loss: 0.002136891009286046, Discriminator Loss: 0.008358871564269066, Discriminator Accuracy: 0.9997135996818542\n",
      "Validation - Autoencoder Loss: 0.002784585580229759, Discriminator Loss: 0.023929664865136147, Discriminator Accuracy: 0.9916235208511353\n"
     ]
    },
    {
     "name": "stderr",
     "output_type": "stream",
     "text": [
      "100%|██████████| 491/491 [02:45<00:00,  2.97it/s]\n"
     ]
    },
    {
     "name": "stdout",
     "output_type": "stream",
     "text": [
      "Epoch 27, Autoencoder Loss: 0.002066359855234623, Discriminator Loss: 0.008100518956780434, Discriminator Accuracy: 0.9997772574424744\n",
      "Validation - Autoencoder Loss: 0.0026015317998826504, Discriminator Loss: 0.05446832254528999, Discriminator Accuracy: 0.9805716872215271\n"
     ]
    },
    {
     "name": "stderr",
     "output_type": "stream",
     "text": [
      "100%|██████████| 491/491 [02:44<00:00,  2.98it/s]\n"
     ]
    },
    {
     "name": "stdout",
     "output_type": "stream",
     "text": [
      "Epoch 28, Autoencoder Loss: 0.0020344879012554884, Discriminator Loss: 0.005285472609102726, Discriminator Accuracy: 0.9999045133590698\n",
      "Validation - Autoencoder Loss: 0.0026260041631758213, Discriminator Loss: 0.0269301924854517, Discriminator Accuracy: 0.9892022609710693\n"
     ]
    },
    {
     "name": "stderr",
     "output_type": "stream",
     "text": [
      "100%|██████████| 491/491 [02:42<00:00,  3.02it/s]\n"
     ]
    },
    {
     "name": "stdout",
     "output_type": "stream",
     "text": [
      "Epoch 29, Autoencoder Loss: 0.0020247106440365314, Discriminator Loss: 0.002481339732185006, Discriminator Accuracy: 1.0\n",
      "Validation - Autoencoder Loss: 0.0029578753747045994, Discriminator Loss: 0.021078377962112427, Discriminator Accuracy: 0.9909806847572327\n"
     ]
    },
    {
     "name": "stderr",
     "output_type": "stream",
     "text": [
      "100%|██████████| 491/491 [02:41<00:00,  3.03it/s]\n"
     ]
    },
    {
     "name": "stdout",
     "output_type": "stream",
     "text": [
      "Epoch 30, Autoencoder Loss: 0.00196990673430264, Discriminator Loss: 0.001745971734635532, Discriminator Accuracy: 1.0\n",
      "Validation - Autoencoder Loss: 0.002573860576376319, Discriminator Loss: 0.02709812857210636, Discriminator Accuracy: 0.9899644255638123\n"
     ]
    },
    {
     "name": "stderr",
     "output_type": "stream",
     "text": [
      "100%|██████████| 491/491 [02:41<00:00,  3.04it/s]\n"
     ]
    },
    {
     "name": "stdout",
     "output_type": "stream",
     "text": [
      "Epoch 31, Autoencoder Loss: 0.0018974243430420756, Discriminator Loss: 0.0076576462015509605, Discriminator Accuracy: 0.9997135996818542\n",
      "Validation - Autoencoder Loss: 0.0027521243318915367, Discriminator Loss: 0.03640254586935043, Discriminator Accuracy: 0.986026406288147\n"
     ]
    },
    {
     "name": "stderr",
     "output_type": "stream",
     "text": [
      "100%|██████████| 491/491 [02:41<00:00,  3.05it/s]\n"
     ]
    },
    {
     "name": "stdout",
     "output_type": "stream",
     "text": [
      "Epoch 32, Autoencoder Loss: 0.0018763808766379952, Discriminator Loss: 0.0033075856044888496, Discriminator Accuracy: 1.0\n",
      "Validation - Autoencoder Loss: 0.0026429370045661926, Discriminator Loss: 0.02372662164270878, Discriminator Accuracy: 0.9904725551605225\n"
     ]
    },
    {
     "name": "stderr",
     "output_type": "stream",
     "text": [
      "100%|██████████| 491/491 [02:42<00:00,  3.03it/s]\n"
     ]
    },
    {
     "name": "stdout",
     "output_type": "stream",
     "text": [
      "Epoch 33, Autoencoder Loss: 0.0018905665492638946, Discriminator Loss: 0.003319372655823827, Discriminator Accuracy: 0.9999681711196899\n",
      "Validation - Autoencoder Loss: 0.0027536824345588684, Discriminator Loss: 0.025419434532523155, Discriminator Accuracy: 0.9894639849662781\n"
     ]
    },
    {
     "name": "stderr",
     "output_type": "stream",
     "text": [
      "100%|██████████| 491/491 [02:41<00:00,  3.05it/s]\n"
     ]
    },
    {
     "name": "stdout",
     "output_type": "stream",
     "text": [
      "Epoch 34, Autoencoder Loss: 0.0017709629610180855, Discriminator Loss: 0.0007325291517190635, Discriminator Accuracy: 1.0\n",
      "Validation - Autoencoder Loss: 0.0027607441879808903, Discriminator Loss: 0.024441776797175407, Discriminator Accuracy: 0.9898450970649719\n"
     ]
    },
    {
     "name": "stderr",
     "output_type": "stream",
     "text": [
      "100%|██████████| 491/491 [02:39<00:00,  3.08it/s]\n"
     ]
    },
    {
     "name": "stdout",
     "output_type": "stream",
     "text": [
      "Epoch 35, Autoencoder Loss: 0.0017605451866984367, Discriminator Loss: 0.007124773226678371, Discriminator Accuracy: 0.9998409152030945\n",
      "Validation - Autoencoder Loss: 0.0030597851146012545, Discriminator Loss: 0.023624708876013756, Discriminator Accuracy: 0.9899644255638123\n"
     ]
    },
    {
     "name": "stderr",
     "output_type": "stream",
     "text": [
      "100%|██████████| 491/491 [02:40<00:00,  3.06it/s]\n"
     ]
    },
    {
     "name": "stdout",
     "output_type": "stream",
     "text": [
      "Epoch 36, Autoencoder Loss: 0.0017621536972001195, Discriminator Loss: 0.0006252287421375513, Discriminator Accuracy: 1.0\n",
      "Validation - Autoencoder Loss: 0.002584481844678521, Discriminator Loss: 0.020269334316253662, Discriminator Accuracy: 0.9927591681480408\n"
     ]
    },
    {
     "name": "stderr",
     "output_type": "stream",
     "text": [
      "100%|██████████| 491/491 [02:40<00:00,  3.06it/s]\n"
     ]
    },
    {
     "name": "stdout",
     "output_type": "stream",
     "text": [
      "Epoch 37, Autoencoder Loss: 0.0018765887944027781, Discriminator Loss: 0.013552776537835598, Discriminator Accuracy: 0.9987589120864868\n",
      "Validation - Autoencoder Loss: 0.0052033476531505585, Discriminator Loss: 0.41881877183914185, Discriminator Accuracy: 0.8420023322105408\n"
     ]
    },
    {
     "name": "stderr",
     "output_type": "stream",
     "text": [
      "100%|██████████| 491/491 [02:39<00:00,  3.08it/s]\n"
     ]
    },
    {
     "name": "stdout",
     "output_type": "stream",
     "text": [
      "Epoch 38, Autoencoder Loss: 0.001704439171589911, Discriminator Loss: 0.0057669831439852715, Discriminator Accuracy: 0.9998409152030945\n",
      "Validation - Autoencoder Loss: 0.0025566143449395895, Discriminator Loss: 0.02260863035917282, Discriminator Accuracy: 0.9922510385513306\n"
     ]
    },
    {
     "name": "stderr",
     "output_type": "stream",
     "text": [
      "100%|██████████| 491/491 [02:41<00:00,  3.05it/s]\n"
     ]
    },
    {
     "name": "stdout",
     "output_type": "stream",
     "text": [
      "Epoch 39, Autoencoder Loss: 0.0016308034537360072, Discriminator Loss: 0.00019642309052869678, Discriminator Accuracy: 1.0\n",
      "Validation - Autoencoder Loss: 0.002678132150322199, Discriminator Loss: 0.02489316277205944, Discriminator Accuracy: 0.9926320910453796\n"
     ]
    },
    {
     "name": "stderr",
     "output_type": "stream",
     "text": [
      "100%|██████████| 491/491 [02:39<00:00,  3.07it/s]\n"
     ]
    },
    {
     "name": "stdout",
     "output_type": "stream",
     "text": [
      "Epoch 40, Autoencoder Loss: 0.0016414356650784612, Discriminator Loss: 9.41983817028813e-05, Discriminator Accuracy: 1.0\n",
      "Validation - Autoencoder Loss: 0.0028328413609415293, Discriminator Loss: 0.02185743674635887, Discriminator Accuracy: 0.9931402206420898\n"
     ]
    },
    {
     "name": "stderr",
     "output_type": "stream",
     "text": [
      "100%|██████████| 491/491 [02:39<00:00,  3.08it/s]\n"
     ]
    },
    {
     "name": "stdout",
     "output_type": "stream",
     "text": [
      "Epoch 41, Autoencoder Loss: 0.0016222471604123712, Discriminator Loss: 0.006781985983252525, Discriminator Accuracy: 0.9996181130409241\n",
      "Validation - Autoencoder Loss: 0.002624916611239314, Discriminator Loss: 0.033797044306993484, Discriminator Accuracy: 0.9848831295967102\n"
     ]
    },
    {
     "name": "stderr",
     "output_type": "stream",
     "text": [
      "100%|██████████| 491/491 [02:39<00:00,  3.08it/s]\n"
     ]
    },
    {
     "name": "stdout",
     "output_type": "stream",
     "text": [
      "Epoch 42, Autoencoder Loss: 0.001589964609593153, Discriminator Loss: 0.002218544250354171, Discriminator Accuracy: 1.0\n",
      "Validation - Autoencoder Loss: 0.002589084906503558, Discriminator Loss: 0.02477077953517437, Discriminator Accuracy: 0.9913617968559265\n"
     ]
    },
    {
     "name": "stderr",
     "output_type": "stream",
     "text": [
      "100%|██████████| 491/491 [02:39<00:00,  3.08it/s]\n"
     ]
    },
    {
     "name": "stdout",
     "output_type": "stream",
     "text": [
      "Epoch 43, Autoencoder Loss: 0.00169702700804919, Discriminator Loss: 0.004638271871954203, Discriminator Accuracy: 0.9998726844787598\n",
      "Validation - Autoencoder Loss: 0.002563396468758583, Discriminator Loss: 0.027847502380609512, Discriminator Accuracy: 0.9904725551605225\n"
     ]
    },
    {
     "name": "stderr",
     "output_type": "stream",
     "text": [
      "100%|██████████| 491/491 [02:39<00:00,  3.08it/s]\n"
     ]
    },
    {
     "name": "stdout",
     "output_type": "stream",
     "text": [
      "Epoch 44, Autoencoder Loss: 0.001503133331425488, Discriminator Loss: 0.0037380503490567207, Discriminator Accuracy: 0.9998090863227844\n",
      "Validation - Autoencoder Loss: 0.0025446810759603977, Discriminator Loss: 0.024059809744358063, Discriminator Accuracy: 0.9917429089546204\n"
     ]
    },
    {
     "name": "stderr",
     "output_type": "stream",
     "text": [
      "100%|██████████| 491/491 [02:39<00:00,  3.08it/s]\n"
     ]
    },
    {
     "name": "stdout",
     "output_type": "stream",
     "text": [
      "Epoch 45, Autoencoder Loss: 0.0015217512845993042, Discriminator Loss: 0.00035943809780292213, Discriminator Accuracy: 1.0\n",
      "Validation - Autoencoder Loss: 0.002550391713157296, Discriminator Loss: 0.022259529680013657, Discriminator Accuracy: 0.9913617968559265\n"
     ]
    },
    {
     "name": "stderr",
     "output_type": "stream",
     "text": [
      "100%|██████████| 491/491 [02:43<00:00,  3.01it/s]\n"
     ]
    },
    {
     "name": "stdout",
     "output_type": "stream",
     "text": [
      "Epoch 46, Autoencoder Loss: 0.0015203873626887798, Discriminator Loss: 0.002295408397912979, Discriminator Accuracy: 0.9999363422393799\n",
      "Validation - Autoencoder Loss: 0.0026193077210336924, Discriminator Loss: 0.026083799079060555, Discriminator Accuracy: 0.9912347793579102\n"
     ]
    },
    {
     "name": "stderr",
     "output_type": "stream",
     "text": [
      "100%|██████████| 491/491 [02:42<00:00,  3.02it/s]\n"
     ]
    },
    {
     "name": "stdout",
     "output_type": "stream",
     "text": [
      "Epoch 47, Autoencoder Loss: 0.001497836085036397, Discriminator Loss: 0.00042639614548534155, Discriminator Accuracy: 1.0\n",
      "Validation - Autoencoder Loss: 0.002677119802683592, Discriminator Loss: 0.02427367866039276, Discriminator Accuracy: 0.9925204515457153\n"
     ]
    },
    {
     "name": "stderr",
     "output_type": "stream",
     "text": [
      "100%|██████████| 491/491 [02:41<00:00,  3.03it/s]\n"
     ]
    },
    {
     "name": "stdout",
     "output_type": "stream",
     "text": [
      "Epoch 48, Autoencoder Loss: 0.0014797990443184972, Discriminator Loss: 0.0057365503162145615, Discriminator Accuracy: 0.9998409152030945\n",
      "Validation - Autoencoder Loss: 0.0027205063961446285, Discriminator Loss: 0.032319776713848114, Discriminator Accuracy: 0.9884400367736816\n"
     ]
    },
    {
     "name": "stderr",
     "output_type": "stream",
     "text": [
      "100%|██████████| 491/491 [03:21<00:00,  2.43it/s]\n"
     ]
    },
    {
     "name": "stdout",
     "output_type": "stream",
     "text": [
      "Epoch 49, Autoencoder Loss: 0.0014677824219688773, Discriminator Loss: 0.0012460615253075957, Discriminator Accuracy: 1.0\n",
      "Validation - Autoencoder Loss: 0.0034281774424016476, Discriminator Loss: 0.03329513594508171, Discriminator Accuracy: 0.9859070777893066\n"
     ]
    },
    {
     "name": "stderr",
     "output_type": "stream",
     "text": [
      "100%|██████████| 491/491 [02:39<00:00,  3.07it/s]\n"
     ]
    },
    {
     "name": "stdout",
     "output_type": "stream",
     "text": [
      "Epoch 50, Autoencoder Loss: 0.0014490000903606415, Discriminator Loss: 0.0005977149121463299, Discriminator Accuracy: 1.0\n",
      "Validation - Autoencoder Loss: 0.0025964658707380295, Discriminator Loss: 0.022240199148654938, Discriminator Accuracy: 0.9935213327407837\n"
     ]
    },
    {
     "name": "stderr",
     "output_type": "stream",
     "text": [
      "100%|██████████| 491/491 [02:38<00:00,  3.09it/s]\n"
     ]
    },
    {
     "name": "stdout",
     "output_type": "stream",
     "text": [
      "Epoch 51, Autoencoder Loss: 0.0014253197005018592, Discriminator Loss: 0.00022847931541036814, Discriminator Accuracy: 1.0\n",
      "Validation - Autoencoder Loss: 0.0026329539250582457, Discriminator Loss: 0.0625908300280571, Discriminator Accuracy: 0.9823501706123352\n"
     ]
    },
    {
     "name": "stderr",
     "output_type": "stream",
     "text": [
      "100%|██████████| 491/491 [02:40<00:00,  3.06it/s]\n"
     ]
    },
    {
     "name": "stdout",
     "output_type": "stream",
     "text": [
      "Epoch 52, Autoencoder Loss: 0.0014208867214620113, Discriminator Loss: 0.006046529859304428, Discriminator Accuracy: 0.9999045133590698\n",
      "Validation - Autoencoder Loss: 0.002976880641654134, Discriminator Loss: 0.05522536858916283, Discriminator Accuracy: 0.9819613695144653\n"
     ]
    },
    {
     "name": "stderr",
     "output_type": "stream",
     "text": [
      "100%|██████████| 491/491 [02:38<00:00,  3.10it/s]\n"
     ]
    },
    {
     "name": "stdout",
     "output_type": "stream",
     "text": [
      "Epoch 53, Autoencoder Loss: 0.0014088042080402374, Discriminator Loss: 0.001041759504005313, Discriminator Accuracy: 1.0\n",
      "Validation - Autoencoder Loss: 0.0027356643695384264, Discriminator Loss: 0.024227339774370193, Discriminator Accuracy: 0.9927591681480408\n"
     ]
    },
    {
     "name": "stderr",
     "output_type": "stream",
     "text": [
      "100%|██████████| 491/491 [02:39<00:00,  3.08it/s]\n"
     ]
    },
    {
     "name": "stdout",
     "output_type": "stream",
     "text": [
      "Epoch 54, Autoencoder Loss: 0.001394314575009048, Discriminator Loss: 5.5202723160618916e-05, Discriminator Accuracy: 1.0\n",
      "Validation - Autoencoder Loss: 0.003428582800552249, Discriminator Loss: 0.029559198766946793, Discriminator Accuracy: 0.9902185201644897\n"
     ]
    },
    {
     "name": "stderr",
     "output_type": "stream",
     "text": [
      "100%|██████████| 491/491 [02:39<00:00,  3.09it/s]\n"
     ]
    },
    {
     "name": "stdout",
     "output_type": "stream",
     "text": [
      "Epoch 55, Autoencoder Loss: 0.0014942822745069861, Discriminator Loss: 0.006896699778735638, Discriminator Accuracy: 0.9996181130409241\n",
      "Validation - Autoencoder Loss: 0.0025981722865253687, Discriminator Loss: 0.023134909570217133, Discriminator Accuracy: 0.9939024448394775\n"
     ]
    },
    {
     "name": "stderr",
     "output_type": "stream",
     "text": [
      "100%|██████████| 491/491 [02:39<00:00,  3.07it/s]\n"
     ]
    },
    {
     "name": "stdout",
     "output_type": "stream",
     "text": [
      "Epoch 56, Autoencoder Loss: 0.0013333269162103534, Discriminator Loss: 0.00010065894457511604, Discriminator Accuracy: 1.0\n",
      "Validation - Autoencoder Loss: 0.002619450679048896, Discriminator Loss: 0.022638121619820595, Discriminator Accuracy: 0.9935213327407837\n"
     ]
    },
    {
     "name": "stderr",
     "output_type": "stream",
     "text": [
      "100%|██████████| 491/491 [02:40<00:00,  3.06it/s]\n"
     ]
    },
    {
     "name": "stdout",
     "output_type": "stream",
     "text": [
      "Epoch 57, Autoencoder Loss: 0.0013493744190782309, Discriminator Loss: 0.0036837062798440456, Discriminator Accuracy: 0.9998409152030945\n",
      "Validation - Autoencoder Loss: 0.002669223118573427, Discriminator Loss: 0.03304982930421829, Discriminator Accuracy: 0.9900914430618286\n"
     ]
    },
    {
     "name": "stderr",
     "output_type": "stream",
     "text": [
      "100%|██████████| 491/491 [02:41<00:00,  3.04it/s]\n"
     ]
    },
    {
     "name": "stdout",
     "output_type": "stream",
     "text": [
      "Epoch 58, Autoencoder Loss: 0.001340341055765748, Discriminator Loss: 0.002880875952541828, Discriminator Accuracy: 0.9998090863227844\n",
      "Validation - Autoencoder Loss: 0.0027171627152711153, Discriminator Loss: 0.09361371397972107, Discriminator Accuracy: 0.9730768203735352\n"
     ]
    },
    {
     "name": "stderr",
     "output_type": "stream",
     "text": [
      "100%|██████████| 491/491 [02:41<00:00,  3.04it/s]\n"
     ]
    },
    {
     "name": "stdout",
     "output_type": "stream",
     "text": [
      "Epoch 59, Autoencoder Loss: 0.0013383949408307672, Discriminator Loss: 0.0044396016746759415, Discriminator Accuracy: 1.0\n",
      "Validation - Autoencoder Loss: 0.0026883401442319155, Discriminator Loss: 0.024426229298114777, Discriminator Accuracy: 0.9926320910453796\n"
     ]
    },
    {
     "name": "stderr",
     "output_type": "stream",
     "text": [
      "100%|██████████| 491/491 [02:42<00:00,  3.03it/s]\n"
     ]
    },
    {
     "name": "stdout",
     "output_type": "stream",
     "text": [
      "Epoch 60, Autoencoder Loss: 0.0013212751364335418, Discriminator Loss: 0.0004747980274260044, Discriminator Accuracy: 1.0\n",
      "Validation - Autoencoder Loss: 0.002726431004703045, Discriminator Loss: 0.03506099432706833, Discriminator Accuracy: 0.9900914430618286\n"
     ]
    },
    {
     "name": "stderr",
     "output_type": "stream",
     "text": [
      "100%|██████████| 491/491 [02:40<00:00,  3.07it/s]\n"
     ]
    },
    {
     "name": "stdout",
     "output_type": "stream",
     "text": [
      "Epoch 61, Autoencoder Loss: 0.0013197701191529632, Discriminator Loss: 0.0009351077023893595, Discriminator Accuracy: 0.9999363422393799\n",
      "Validation - Autoencoder Loss: 0.002603909233585, Discriminator Loss: 0.024675196036696434, Discriminator Accuracy: 0.9935213327407837\n"
     ]
    },
    {
     "name": "stderr",
     "output_type": "stream",
     "text": [
      "100%|██████████| 491/491 [02:38<00:00,  3.09it/s]\n"
     ]
    },
    {
     "name": "stdout",
     "output_type": "stream",
     "text": [
      "Epoch 62, Autoencoder Loss: 0.0013060654746368527, Discriminator Loss: 0.0012467558262869716, Discriminator Accuracy: 0.9999681711196899\n",
      "Validation - Autoencoder Loss: 0.0025943561922758818, Discriminator Loss: 0.0304200928658247, Discriminator Accuracy: 0.9928861856460571\n"
     ]
    },
    {
     "name": "stderr",
     "output_type": "stream",
     "text": [
      "100%|██████████| 491/491 [02:45<00:00,  2.96it/s]\n"
     ]
    },
    {
     "name": "stdout",
     "output_type": "stream",
     "text": [
      "Epoch 63, Autoencoder Loss: 0.001281748409382999, Discriminator Loss: 0.0018893625820055604, Discriminator Accuracy: 1.0\n",
      "Validation - Autoencoder Loss: 0.0025780429132282734, Discriminator Loss: 0.023584216833114624, Discriminator Accuracy: 0.993267297744751\n"
     ]
    },
    {
     "name": "stderr",
     "output_type": "stream",
     "text": [
      "100%|██████████| 491/491 [02:42<00:00,  3.03it/s]\n"
     ]
    },
    {
     "name": "stdout",
     "output_type": "stream",
     "text": [
      "Epoch 64, Autoencoder Loss: 0.0012824336299672723, Discriminator Loss: 0.0011581666767597198, Discriminator Accuracy: 1.0\n",
      "Validation - Autoencoder Loss: 0.002829675329849124, Discriminator Loss: 0.027892719954252243, Discriminator Accuracy: 0.9886941313743591\n"
     ]
    },
    {
     "name": "stderr",
     "output_type": "stream",
     "text": [
      "100%|██████████| 491/491 [02:40<00:00,  3.07it/s]\n"
     ]
    },
    {
     "name": "stdout",
     "output_type": "stream",
     "text": [
      "Epoch 65, Autoencoder Loss: 0.0012771610636264086, Discriminator Loss: 0.00010895232844632119, Discriminator Accuracy: 1.0\n",
      "Validation - Autoencoder Loss: 0.002567782299593091, Discriminator Loss: 0.022479498758912086, Discriminator Accuracy: 0.9922510385513306\n"
     ]
    },
    {
     "name": "stderr",
     "output_type": "stream",
     "text": [
      "100%|██████████| 491/491 [02:39<00:00,  3.08it/s]\n"
     ]
    },
    {
     "name": "stdout",
     "output_type": "stream",
     "text": [
      "Epoch 66, Autoencoder Loss: 0.0012519594747573137, Discriminator Loss: 0.001189767848700285, Discriminator Accuracy: 1.0\n",
      "Validation - Autoencoder Loss: 0.002717836992815137, Discriminator Loss: 0.024329567328095436, Discriminator Accuracy: 0.9933943152427673\n"
     ]
    },
    {
     "name": "stderr",
     "output_type": "stream",
     "text": [
      "100%|██████████| 491/491 [02:40<00:00,  3.06it/s]\n"
     ]
    },
    {
     "name": "stdout",
     "output_type": "stream",
     "text": [
      "Epoch 67, Autoencoder Loss: 0.001263342215679586, Discriminator Loss: 0.0001218551115016453, Discriminator Accuracy: 1.0\n",
      "Validation - Autoencoder Loss: 0.0026224544271826744, Discriminator Loss: 0.023476557806134224, Discriminator Accuracy: 0.9936560392379761\n"
     ]
    },
    {
     "name": "stderr",
     "output_type": "stream",
     "text": [
      "100%|██████████| 491/491 [02:39<00:00,  3.08it/s]\n"
     ]
    },
    {
     "name": "stdout",
     "output_type": "stream",
     "text": [
      "Epoch 68, Autoencoder Loss: 0.0012548782397061586, Discriminator Loss: 0.005261395592242479, Discriminator Accuracy: 0.9999045133590698\n",
      "Validation - Autoencoder Loss: 0.0025552615988999605, Discriminator Loss: 0.059881195425987244, Discriminator Accuracy: 0.9788086414337158\n"
     ]
    },
    {
     "name": "stderr",
     "output_type": "stream",
     "text": [
      "100%|██████████| 491/491 [02:40<00:00,  3.06it/s]\n"
     ]
    },
    {
     "name": "stdout",
     "output_type": "stream",
     "text": [
      "Epoch 69, Autoencoder Loss: 0.0012250347062945366, Discriminator Loss: 0.002072980860248208, Discriminator Accuracy: 1.0\n",
      "Validation - Autoencoder Loss: 0.0026120340917259455, Discriminator Loss: 0.024330103769898415, Discriminator Accuracy: 0.9914888143539429\n"
     ]
    },
    {
     "name": "stderr",
     "output_type": "stream",
     "text": [
      "100%|██████████| 491/491 [02:40<00:00,  3.07it/s]\n"
     ]
    },
    {
     "name": "stdout",
     "output_type": "stream",
     "text": [
      "Epoch 70, Autoencoder Loss: 0.0012302843388170004, Discriminator Loss: 0.00038865828537382185, Discriminator Accuracy: 1.0\n",
      "Validation - Autoencoder Loss: 0.00259318295866251, Discriminator Loss: 0.03137487173080444, Discriminator Accuracy: 0.990734338760376\n"
     ]
    },
    {
     "name": "stderr",
     "output_type": "stream",
     "text": [
      "100%|██████████| 491/491 [02:40<00:00,  3.05it/s]\n"
     ]
    },
    {
     "name": "stdout",
     "output_type": "stream",
     "text": [
      "Epoch 71, Autoencoder Loss: 0.00122173223644495, Discriminator Loss: 9.03898398973979e-05, Discriminator Accuracy: 1.0\n",
      "Validation - Autoencoder Loss: 0.002647984307259321, Discriminator Loss: 0.024565163999795914, Discriminator Accuracy: 0.9926397800445557\n"
     ]
    },
    {
     "name": "stderr",
     "output_type": "stream",
     "text": [
      "100%|██████████| 491/491 [02:39<00:00,  3.08it/s]\n"
     ]
    },
    {
     "name": "stdout",
     "output_type": "stream",
     "text": [
      "Epoch 72, Autoencoder Loss: 0.0012068675132468343, Discriminator Loss: 7.503724191337824e-05, Discriminator Accuracy: 1.0\n",
      "Validation - Autoencoder Loss: 0.002685653045773506, Discriminator Loss: 0.03151008114218712, Discriminator Accuracy: 0.9920046329498291\n"
     ]
    },
    {
     "name": "stderr",
     "output_type": "stream",
     "text": [
      "100%|██████████| 491/491 [02:39<00:00,  3.09it/s]\n"
     ]
    },
    {
     "name": "stdout",
     "output_type": "stream",
     "text": [
      "Epoch 73, Autoencoder Loss: 0.0012215485330671072, Discriminator Loss: 0.004467144142836332, Discriminator Accuracy: 0.9998726844787598\n",
      "Validation - Autoencoder Loss: 0.002581745618954301, Discriminator Loss: 0.02891003154218197, Discriminator Accuracy: 0.9895833134651184\n"
     ]
    },
    {
     "name": "stderr",
     "output_type": "stream",
     "text": [
      "100%|██████████| 491/491 [02:37<00:00,  3.11it/s]\n"
     ]
    },
    {
     "name": "stdout",
     "output_type": "stream",
     "text": [
      "Epoch 74, Autoencoder Loss: 0.001181175117380917, Discriminator Loss: 0.0024355119094252586, Discriminator Accuracy: 1.0\n",
      "Validation - Autoencoder Loss: 0.002754125976935029, Discriminator Loss: 0.027048397809267044, Discriminator Accuracy: 0.9925127625465393\n"
     ]
    },
    {
     "name": "stderr",
     "output_type": "stream",
     "text": [
      "100%|██████████| 491/491 [02:37<00:00,  3.12it/s]\n"
     ]
    },
    {
     "name": "stdout",
     "output_type": "stream",
     "text": [
      "Epoch 75, Autoencoder Loss: 0.0011964380973950028, Discriminator Loss: 0.0005486080190166831, Discriminator Accuracy: 1.0\n",
      "Validation - Autoencoder Loss: 0.002553326543420553, Discriminator Loss: 0.025417093187570572, Discriminator Accuracy: 0.9925050735473633\n"
     ]
    },
    {
     "name": "stderr",
     "output_type": "stream",
     "text": [
      "100%|██████████| 491/491 [02:38<00:00,  3.09it/s]\n"
     ]
    },
    {
     "name": "stdout",
     "output_type": "stream",
     "text": [
      "Epoch 76, Autoencoder Loss: 0.0011780603090301156, Discriminator Loss: 0.0002638718287926167, Discriminator Accuracy: 1.0\n",
      "Validation - Autoencoder Loss: 0.00263470271602273, Discriminator Loss: 0.026174895465373993, Discriminator Accuracy: 0.9933943152427673\n"
     ]
    },
    {
     "name": "stderr",
     "output_type": "stream",
     "text": [
      "100%|██████████| 491/491 [02:38<00:00,  3.11it/s]\n"
     ]
    },
    {
     "name": "stdout",
     "output_type": "stream",
     "text": [
      "Epoch 77, Autoencoder Loss: 0.0011822438100352883, Discriminator Loss: 3.7277488445397466e-05, Discriminator Accuracy: 1.0\n",
      "Validation - Autoencoder Loss: 0.002593124518170953, Discriminator Loss: 0.03028400056064129, Discriminator Accuracy: 0.9933943152427673\n"
     ]
    },
    {
     "name": "stderr",
     "output_type": "stream",
     "text": [
      "100%|██████████| 491/491 [02:37<00:00,  3.12it/s]\n"
     ]
    },
    {
     "name": "stdout",
     "output_type": "stream",
     "text": [
      "Epoch 78, Autoencoder Loss: 0.0011676843278110027, Discriminator Loss: 7.62510580898379e-06, Discriminator Accuracy: 1.0\n",
      "Validation - Autoencoder Loss: 0.002560232300311327, Discriminator Loss: 0.02772769145667553, Discriminator Accuracy: 0.9936483502388\n"
     ]
    },
    {
     "name": "stderr",
     "output_type": "stream",
     "text": [
      "100%|██████████| 491/491 [03:21<00:00,  2.43it/s]\n"
     ]
    },
    {
     "name": "stdout",
     "output_type": "stream",
     "text": [
      "Epoch 79, Autoencoder Loss: 0.0011659265728667378, Discriminator Loss: 0.00459862919524312, Discriminator Accuracy: 0.9999045133590698\n",
      "Validation - Autoencoder Loss: 0.002752565313130617, Discriminator Loss: 0.03536854311823845, Discriminator Accuracy: 0.9893292784690857\n"
     ]
    },
    {
     "name": "stderr",
     "output_type": "stream",
     "text": [
      "100%|██████████| 491/491 [02:40<00:00,  3.06it/s]\n"
     ]
    },
    {
     "name": "stdout",
     "output_type": "stream",
     "text": [
      "Epoch 80, Autoencoder Loss: 0.0011583882151171565, Discriminator Loss: 0.001448843744583428, Discriminator Accuracy: 0.9999681711196899\n",
      "Validation - Autoencoder Loss: 0.0027830873150378466, Discriminator Loss: 0.02360577881336212, Discriminator Accuracy: 0.9942835569381714\n"
     ]
    },
    {
     "name": "stderr",
     "output_type": "stream",
     "text": [
      "100%|██████████| 491/491 [02:40<00:00,  3.06it/s]\n"
     ]
    },
    {
     "name": "stdout",
     "output_type": "stream",
     "text": [
      "Epoch 81, Autoencoder Loss: 0.0011544787557795644, Discriminator Loss: 9.709843288874254e-05, Discriminator Accuracy: 1.0\n",
      "Validation - Autoencoder Loss: 0.0028075845912098885, Discriminator Loss: 0.024432267993688583, Discriminator Accuracy: 0.9945452809333801\n"
     ]
    },
    {
     "name": "stderr",
     "output_type": "stream",
     "text": [
      "100%|██████████| 491/491 [02:39<00:00,  3.07it/s]\n"
     ]
    },
    {
     "name": "stdout",
     "output_type": "stream",
     "text": [
      "Epoch 82, Autoencoder Loss: 0.0011659205192700028, Discriminator Loss: 0.0005859611555933952, Discriminator Accuracy: 1.0\n",
      "Validation - Autoencoder Loss: 0.0026395283639431, Discriminator Loss: 0.09530959278345108, Discriminator Accuracy: 0.977649986743927\n"
     ]
    },
    {
     "name": "stderr",
     "output_type": "stream",
     "text": [
      "100%|██████████| 491/491 [02:40<00:00,  3.06it/s]\n"
     ]
    },
    {
     "name": "stdout",
     "output_type": "stream",
     "text": [
      "Epoch 83, Autoencoder Loss: 0.0011255036806687713, Discriminator Loss: 0.004624766763299704, Discriminator Accuracy: 0.9998726844787598\n",
      "Validation - Autoencoder Loss: 0.0025969422422349453, Discriminator Loss: 0.05337754637002945, Discriminator Accuracy: 0.9832317233085632\n"
     ]
    },
    {
     "name": "stderr",
     "output_type": "stream",
     "text": [
      "100%|██████████| 491/491 [02:40<00:00,  3.06it/s]\n"
     ]
    },
    {
     "name": "stdout",
     "output_type": "stream",
     "text": [
      "Epoch 84, Autoencoder Loss: 0.0011281119659543037, Discriminator Loss: 0.00031488423701375723, Discriminator Accuracy: 1.0\n",
      "Validation - Autoencoder Loss: 0.0025586197152733803, Discriminator Loss: 0.01979011483490467, Discriminator Accuracy: 0.9937754273414612\n"
     ]
    },
    {
     "name": "stderr",
     "output_type": "stream",
     "text": [
      "100%|██████████| 491/491 [02:40<00:00,  3.06it/s]\n"
     ]
    },
    {
     "name": "stdout",
     "output_type": "stream",
     "text": [
      "Epoch 85, Autoencoder Loss: 0.0011252732947468758, Discriminator Loss: 2.1545280105783604e-05, Discriminator Accuracy: 1.0\n",
      "Validation - Autoencoder Loss: 0.0030450401827692986, Discriminator Loss: 0.020510409027338028, Discriminator Accuracy: 0.9926320910453796\n"
     ]
    },
    {
     "name": "stderr",
     "output_type": "stream",
     "text": [
      "100%|██████████| 491/491 [02:40<00:00,  3.06it/s]\n"
     ]
    },
    {
     "name": "stdout",
     "output_type": "stream",
     "text": [
      "Epoch 86, Autoencoder Loss: 0.0011317976750433445, Discriminator Loss: 6.867321644676849e-05, Discriminator Accuracy: 1.0\n",
      "Validation - Autoencoder Loss: 0.00265293987467885, Discriminator Loss: 0.021415654569864273, Discriminator Accuracy: 0.993267297744751\n"
     ]
    },
    {
     "name": "stderr",
     "output_type": "stream",
     "text": [
      "100%|██████████| 491/491 [02:38<00:00,  3.10it/s]\n"
     ]
    },
    {
     "name": "stdout",
     "output_type": "stream",
     "text": [
      "Epoch 87, Autoencoder Loss: 0.0011149991769343615, Discriminator Loss: 5.177366347197676e-06, Discriminator Accuracy: 1.0\n",
      "Validation - Autoencoder Loss: 0.0027584221679717302, Discriminator Loss: 0.02115904726088047, Discriminator Accuracy: 0.9937831163406372\n"
     ]
    },
    {
     "name": "stderr",
     "output_type": "stream",
     "text": [
      "100%|██████████| 491/491 [02:38<00:00,  3.09it/s]\n"
     ]
    },
    {
     "name": "stdout",
     "output_type": "stream",
     "text": [
      "Epoch 88, Autoencoder Loss: 0.001114615355618298, Discriminator Loss: 0.0050492556765675545, Discriminator Accuracy: 0.9997135996818542\n",
      "Validation - Autoencoder Loss: 0.002551000565290451, Discriminator Loss: 0.030882088467478752, Discriminator Accuracy: 0.9908536672592163\n"
     ]
    },
    {
     "name": "stderr",
     "output_type": "stream",
     "text": [
      "100%|██████████| 491/491 [02:38<00:00,  3.09it/s]\n"
     ]
    },
    {
     "name": "stdout",
     "output_type": "stream",
     "text": [
      "Epoch 89, Autoencoder Loss: 0.0010995545890182257, Discriminator Loss: 0.0005644643097184598, Discriminator Accuracy: 1.0\n",
      "Validation - Autoencoder Loss: 0.0026323660276830196, Discriminator Loss: 0.03005261905491352, Discriminator Accuracy: 0.9930132031440735\n"
     ]
    },
    {
     "name": "stderr",
     "output_type": "stream",
     "text": [
      "100%|██████████| 491/491 [03:21<00:00,  2.43it/s]\n"
     ]
    },
    {
     "name": "stdout",
     "output_type": "stream",
     "text": [
      "Epoch 90, Autoencoder Loss: 0.00110704789403826, Discriminator Loss: 0.0014605293981730938, Discriminator Accuracy: 1.0\n",
      "Validation - Autoencoder Loss: 0.00256709405221045, Discriminator Loss: 0.02696080319583416, Discriminator Accuracy: 0.9916158318519592\n"
     ]
    },
    {
     "name": "stderr",
     "output_type": "stream",
     "text": [
      "100%|██████████| 491/491 [02:39<00:00,  3.09it/s]\n"
     ]
    },
    {
     "name": "stdout",
     "output_type": "stream",
     "text": [
      "Epoch 91, Autoencoder Loss: 0.001090375822968781, Discriminator Loss: 0.0010817252332344651, Discriminator Accuracy: 1.0\n",
      "Validation - Autoencoder Loss: 0.002562332432717085, Discriminator Loss: 0.0314062237739563, Discriminator Accuracy: 0.9926397800445557\n"
     ]
    },
    {
     "name": "stderr",
     "output_type": "stream",
     "text": [
      "100%|██████████| 491/491 [02:35<00:00,  3.16it/s]\n"
     ]
    },
    {
     "name": "stdout",
     "output_type": "stream",
     "text": [
      "Epoch 92, Autoencoder Loss: 0.001088329590857029, Discriminator Loss: 1.322851221630117e-05, Discriminator Accuracy: 1.0\n",
      "Validation - Autoencoder Loss: 0.002631903626024723, Discriminator Loss: 0.030209673568606377, Discriminator Accuracy: 0.9928861856460571\n"
     ]
    },
    {
     "name": "stderr",
     "output_type": "stream",
     "text": [
      "100%|██████████| 491/491 [02:35<00:00,  3.16it/s]\n"
     ]
    },
    {
     "name": "stdout",
     "output_type": "stream",
     "text": [
      "Epoch 93, Autoencoder Loss: 0.001090827165171504, Discriminator Loss: 5.069459348305827e-06, Discriminator Accuracy: 1.0\n",
      "Validation - Autoencoder Loss: 0.0026425409596413374, Discriminator Loss: 0.03201352059841156, Discriminator Accuracy: 0.9928861856460571\n"
     ]
    },
    {
     "name": "stderr",
     "output_type": "stream",
     "text": [
      "100%|██████████| 491/491 [02:34<00:00,  3.17it/s]\n"
     ]
    },
    {
     "name": "stdout",
     "output_type": "stream",
     "text": [
      "Epoch 94, Autoencoder Loss: 0.001076473155990243, Discriminator Loss: 4.091781192983035e-06, Discriminator Accuracy: 1.0\n",
      "Validation - Autoencoder Loss: 0.0025864848867058754, Discriminator Loss: 0.027587855234742165, Discriminator Accuracy: 0.9939024448394775\n"
     ]
    },
    {
     "name": "stderr",
     "output_type": "stream",
     "text": [
      "100%|██████████| 491/491 [02:35<00:00,  3.16it/s]\n"
     ]
    },
    {
     "name": "stdout",
     "output_type": "stream",
     "text": [
      "Epoch 95, Autoencoder Loss: 0.0010787082137539983, Discriminator Loss: 3.091184680670267e-06, Discriminator Accuracy: 1.0\n",
      "Validation - Autoencoder Loss: 0.0028784889727830887, Discriminator Loss: 0.027239808812737465, Discriminator Accuracy: 0.9937754273414612\n"
     ]
    },
    {
     "name": "stderr",
     "output_type": "stream",
     "text": [
      "100%|██████████| 491/491 [02:35<00:00,  3.16it/s]\n"
     ]
    },
    {
     "name": "stdout",
     "output_type": "stream",
     "text": [
      "Epoch 96, Autoencoder Loss: 0.0010741546284407377, Discriminator Loss: 0.004757294896990061, Discriminator Accuracy: 0.9999363422393799\n",
      "Validation - Autoencoder Loss: 0.0026941467076539993, Discriminator Loss: 0.030944302678108215, Discriminator Accuracy: 0.9920046329498291\n"
     ]
    },
    {
     "name": "stderr",
     "output_type": "stream",
     "text": [
      "100%|██████████| 491/491 [02:35<00:00,  3.16it/s]\n"
     ]
    },
    {
     "name": "stdout",
     "output_type": "stream",
     "text": [
      "Epoch 97, Autoencoder Loss: 0.0010702668223530054, Discriminator Loss: 0.0003272791800554842, Discriminator Accuracy: 1.0\n",
      "Validation - Autoencoder Loss: 0.0026247103232890368, Discriminator Loss: 0.028850780799984932, Discriminator Accuracy: 0.9914888143539429\n"
     ]
    },
    {
     "name": "stderr",
     "output_type": "stream",
     "text": [
      "100%|██████████| 491/491 [02:34<00:00,  3.18it/s]\n"
     ]
    },
    {
     "name": "stdout",
     "output_type": "stream",
     "text": [
      "Epoch 98, Autoencoder Loss: 0.001062270370312035, Discriminator Loss: 8.4306338976603e-06, Discriminator Accuracy: 1.0\n",
      "Validation - Autoencoder Loss: 0.002751540392637253, Discriminator Loss: 0.02692929096519947, Discriminator Accuracy: 0.9925050735473633\n"
     ]
    },
    {
     "name": "stderr",
     "output_type": "stream",
     "text": [
      "100%|██████████| 491/491 [02:32<00:00,  3.23it/s]\n"
     ]
    },
    {
     "name": "stdout",
     "output_type": "stream",
     "text": [
      "Epoch 99, Autoencoder Loss: 0.0010569716105237603, Discriminator Loss: 4.529418674792396e-06, Discriminator Accuracy: 1.0\n",
      "Validation - Autoencoder Loss: 0.002988541731610894, Discriminator Loss: 0.026421619579195976, Discriminator Accuracy: 0.9923780560493469\n"
     ]
    }
   ],
   "source": [
    "autoencoder_losses_epoch = []\n",
    "discriminator_losses_epoch = []\n",
    "discriminator_acc_epoch = []\n",
    "val_autoencoder_losses_epoch = []\n",
    "val_discriminator_losses_epoch = []\n",
    "val_discriminator_acc_epoch = []\n",
    "\n",
    "for epoch in range(100):\n",
    "    # Initialize epoch-wise metrics\n",
    "    epoch_autoencoder_losses = []\n",
    "    epoch_discriminator_losses = []\n",
    "    epoch_discriminator_acc = []\n",
    "    epoch_val_autoencoder_losses = []\n",
    "    epoch_val_discriminator_losses = []\n",
    "    epoch_val_discriminator_acc = []\n",
    "\n",
    "    # Training loop\n",
    "    for idx, (batch_real, batch_label) in enumerate(tqdm(train_dataset)):\n",
    "        # Training steps\n",
    "        with tf.GradientTape() as autoencoder_tape, tf.GradientTape() as disc_tape:\n",
    "            latent_representation = encoder(batch_real)\n",
    "            generated_image = decoder(latent_representation)\n",
    "            loss_autoencoder = loss_fn_auto(batch_real, generated_image)\n",
    "            \n",
    "            fake = generated_image\n",
    "            loss_disc_real = loss_fn_disc(batch_label, discriminator(batch_real))\n",
    "            loss_disc_fake = loss_fn_disc(batch_label, discriminator(fake))\n",
    "            loss_disc = (loss_disc_real + loss_disc_fake) / 2\n",
    "\n",
    "        grads_autoencoder = autoencoder_tape.gradient(loss_autoencoder, autoencoder.trainable_weights)\n",
    "        opt_autoencoder.apply_gradients(zip(grads_autoencoder, autoencoder.trainable_weights))\n",
    "\n",
    "        grads_discriminator = disc_tape.gradient(loss_disc, discriminator.trainable_weights)\n",
    "        opt_disc.apply_gradients(zip(grads_discriminator, discriminator.trainable_weights))\n",
    "\n",
    "        # Store batch-wise metrics\n",
    "        epoch_autoencoder_losses.append(loss_autoencoder.numpy())\n",
    "        epoch_discriminator_losses.append(loss_disc.numpy())\n",
    "        epoch_discriminator_acc.append(tf.reduce_mean(tf.keras.metrics.categorical_accuracy(batch_label, discriminator(fake))).numpy())\n",
    "        if idx % 200 == 0:\n",
    "            img = tf.keras.preprocessing.image.array_to_img(fake[0])\n",
    "            img.save(f\"{save_dir}/generated_img_epoch_{epoch}_batch_{idx}.png\")\n",
    "\n",
    "    # Validation loop\n",
    "    for val_batch_real, val_batch_label in val_dataset:\n",
    "        val_latent_representation = encoder(val_batch_real)\n",
    "        val_generated_image = decoder(val_latent_representation)\n",
    "        val_loss_autoencoder = loss_fn_auto(val_batch_real, val_generated_image)\n",
    "        val_loss_disc_real = loss_fn_disc(val_batch_label, discriminator(val_batch_real))\n",
    "        val_loss_disc_fake = loss_fn_disc(val_batch_label, discriminator(val_generated_image))\n",
    "        val_loss_disc = (val_loss_disc_real + val_loss_disc_fake) / 2\n",
    "\n",
    "        # Calculate accuracy\n",
    "        val_discriminator_accuracy = tf.reduce_mean(tf.keras.metrics.categorical_accuracy(val_batch_label, discriminator(val_generated_image)))\n",
    "\n",
    "        # Store validation metrics\n",
    "        epoch_val_autoencoder_losses.append(val_loss_autoencoder.numpy())\n",
    "        epoch_val_discriminator_losses.append(val_loss_disc.numpy())\n",
    "        epoch_val_discriminator_acc.append(val_discriminator_accuracy.numpy())\n",
    "\n",
    "    # Calculate epoch-wise averages and append to the lists\n",
    "    avg_autoencoder_loss = np.mean(epoch_autoencoder_losses)\n",
    "    avg_discriminator_loss = np.mean(epoch_discriminator_losses)\n",
    "    avg_discriminator_acc = np.mean(epoch_discriminator_acc)\n",
    "    avg_val_autoencoder_loss = np.mean(epoch_val_autoencoder_losses)\n",
    "    avg_val_discriminator_loss = np.mean(epoch_val_discriminator_losses)\n",
    "    avg_val_discriminator_acc = np.mean(epoch_val_discriminator_acc)\n",
    "\n",
    "    autoencoder_losses_epoch.append(avg_autoencoder_loss)\n",
    "    discriminator_losses_epoch.append(avg_discriminator_loss)\n",
    "    discriminator_acc_epoch.append(avg_discriminator_acc)\n",
    "    val_autoencoder_losses_epoch.append(avg_val_autoencoder_loss)\n",
    "    val_discriminator_losses_epoch.append(avg_val_discriminator_loss)\n",
    "    val_discriminator_acc_epoch.append(avg_val_discriminator_acc)\n",
    "\n",
    "    # Print epoch-wise metrics\n",
    "    print(f\"Epoch {epoch}, Autoencoder Loss: {avg_autoencoder_loss}, Discriminator Loss: {avg_discriminator_loss}, Discriminator Accuracy: {avg_discriminator_acc}\")\n",
    "    print(f\"Validation - Autoencoder Loss: {avg_val_autoencoder_loss}, Discriminator Loss: {avg_val_discriminator_loss}, Discriminator Accuracy: {avg_val_discriminator_acc}\")\n"
   ]
  },
  {
   "cell_type": "code",
   "execution_count": 10,
   "id": "0848d6d5",
   "metadata": {
    "execution": {
     "iopub.execute_input": "2024-05-15T12:15:58.905688Z",
     "iopub.status.busy": "2024-05-15T12:15:58.905299Z",
     "iopub.status.idle": "2024-05-15T12:16:00.110356Z",
     "shell.execute_reply": "2024-05-15T12:16:00.109483Z"
    },
    "papermill": {
     "duration": 5.346422,
     "end_time": "2024-05-15T12:16:00.112423",
     "exception": false,
     "start_time": "2024-05-15T12:15:54.766001",
     "status": "completed"
    },
    "tags": []
   },
   "outputs": [
    {
     "data": {
      "image/png": "[encoded data removed]",
      "text/plain": [
       "<Figure size 1200x600 with 1 Axes>"
      ]
     },
     "metadata": {},
     "output_type": "display_data"
    },
    {
     "data": {
      "image/png": "[encoded data removed]",
      "text/plain": [
       "<Figure size 1200x600 with 1 Axes>"
      ]
     },
     "metadata": {},
     "output_type": "display_data"
    },
    {
     "data": {
      "image/png": "[encoded data removed]",
      "text/plain": [
       "<Figure size 1200x600 with 1 Axes>"
      ]
     },
     "metadata": {},
     "output_type": "display_data"
    }
   ],
   "source": [
    "import matplotlib.pyplot as plt\n",
    "\n",
    "# Plot autoencoder losses\n",
    "plt.figure(figsize=(12, 6))\n",
    "plt.plot(autoencoder_losses_epoch, label='Training Autoencoder Loss')\n",
    "plt.plot(val_autoencoder_losses_epoch, label='Validation Autoencoder Loss')\n",
    "plt.xlabel('Epoch')\n",
    "plt.ylabel('Loss')\n",
    "plt.title('Training and Validation Autoencoder Losses')\n",
    "plt.legend()\n",
    "plt.savefig('autoencoder_losses.png')  # Save the plot as an image\n",
    "plt.show()\n",
    "\n",
    "# Plot discriminator losses\n",
    "plt.figure(figsize=(12, 6))\n",
    "plt.plot(discriminator_losses_epoch, label='Training Discriminator Loss')\n",
    "plt.plot(val_discriminator_losses_epoch, label='Validation Discriminator Loss')\n",
    "plt.xlabel('Epoch')\n",
    "plt.ylabel('Loss')\n",
    "plt.title('Training and Validation Discriminator Losses')\n",
    "plt.legend()\n",
    "plt.savefig('discriminator_losses.png')  # Save the plot as an image\n",
    "plt.show()\n",
    "\n",
    "# Plot discriminator accuracy\n",
    "plt.figure(figsize=(12, 6))\n",
    "plt.plot(discriminator_acc_epoch, label='Training Discriminator Accuracy')\n",
    "plt.plot(val_discriminator_acc_epoch, label='Validation Discriminator Accuracy')\n",
    "plt.xlabel('Epoch')\n",
    "plt.ylabel('Accuracy')\n",
    "plt.title('Training and Validation Discriminator Accuracy')\n",
    "plt.legend()\n",
    "plt.savefig('discriminator_accuracy.png')  # Save the plot as an image\n",
    "plt.show()\n"
   ]
  },
  {
   "cell_type": "code",
   "execution_count": 11,
   "id": "cf24667d",
   "metadata": {
    "execution": {
     "iopub.execute_input": "2024-05-15T12:16:08.160700Z",
     "iopub.status.busy": "2024-05-15T12:16:08.159824Z",
     "iopub.status.idle": "2024-05-15T12:16:23.211330Z",
     "shell.execute_reply": "2024-05-15T12:16:23.210307Z"
    },
    "papermill": {
     "duration": 19.075768,
     "end_time": "2024-05-15T12:16:23.213455",
     "exception": false,
     "start_time": "2024-05-15T12:16:04.137687",
     "status": "completed"
    },
    "tags": []
   },
   "outputs": [
    {
     "name": "stdout",
     "output_type": "stream",
     "text": [
      "\u001b[1m 13/491\u001b[0m \u001b[37m━━━━━━━━━━━━━━━━━━━━\u001b[0m \u001b[1m6s\u001b[0m 15ms/step - accuracy: 1.0000 - loss: 1.7811e-07"
     ]
    },
    {
     "name": "stderr",
     "output_type": "stream",
     "text": [
      "WARNING: All log messages before absl::InitializeLog() is called are written to STDERR\n",
      "I0000 00:00:1715775371.955749      75 device_compiler.h:186] Compiled cluster using XLA!  This line is logged at most once for the lifetime of the process.\n"
     ]
    },
    {
     "name": "stdout",
     "output_type": "stream",
     "text": [
      "\u001b[1m491/491\u001b[0m \u001b[32m━━━━━━━━━━━━━━━━━━━━\u001b[0m\u001b[37m\u001b[0m \u001b[1m15s\u001b[0m 23ms/step - accuracy: 1.0000 - loss: 7.9961e-07\n",
      "Train Result: [9.305199455411639e-07, 1.0]\n"
     ]
    }
   ],
   "source": [
    "# Evaluate the discriminator on the train data\n",
    "result = discriminator.evaluate(train_dataset)\n",
    "\n",
    "# Print the result\n",
    "print(f'Train Result: {result}')\n"
   ]
  },
  {
   "cell_type": "code",
   "execution_count": 12,
   "id": "fc306ee0",
   "metadata": {
    "execution": {
     "iopub.execute_input": "2024-05-15T12:16:31.367152Z",
     "iopub.status.busy": "2024-05-15T12:16:31.366455Z",
     "iopub.status.idle": "2024-05-15T12:17:43.340478Z",
     "shell.execute_reply": "2024-05-15T12:17:43.339629Z"
    },
    "papermill": {
     "duration": 76.094659,
     "end_time": "2024-05-15T12:17:43.342746",
     "exception": false,
     "start_time": "2024-05-15T12:16:27.248087",
     "status": "completed"
    },
    "tags": []
   },
   "outputs": [
    {
     "name": "stdout",
     "output_type": "stream",
     "text": [
      "Found 12630 validated image filenames belonging to 43 classes.\n"
     ]
    }
   ],
   "source": [
    "from tensorflow.keras.preprocessing.image import ImageDataGenerator\n",
    "\n",
    "# Convert numerical class labels to strings\n",
    "# Define the path to the test images\n",
    "import pandas as pd\n",
    "df = pd.read_csv('/kaggle/input/gtsrb-german-traffic-sign/Test.csv')\n",
    "test_dir = '/kaggle/input/gtsrb-german-traffic-sign/'\n",
    "\n",
    "df['ClassId'] = df['ClassId'].astype(str)\n",
    "\n",
    "# Define image data generator with preprocessing steps for test data\n",
    "test_datagen = ImageDataGenerator(rescale=1./255)\n",
    "\n",
    "# Flow from dataframe to preprocess test images\n",
    "test_generator = test_datagen.flow_from_dataframe(\n",
    "    df,\n",
    "    directory=test_dir,\n",
    "    x_col='Path',\n",
    "    y_col='ClassId',\n",
    "    target_size=(64, 64),\n",
    "    batch_size=len(df),\n",
    "    class_mode='categorical',  # 'categorical' returns one-hot encoded labels\n",
    "    shuffle=False  # Do not shuffle for evaluation\n",
    ")\n",
    "\n",
    "# Get preprocessed test images and labels\n",
    "X_test, y_test = next(test_generator)\n"
   ]
  },
  {
   "cell_type": "code",
   "execution_count": 13,
   "id": "af2c28c5",
   "metadata": {
    "execution": {
     "iopub.execute_input": "2024-05-15T12:17:51.481603Z",
     "iopub.status.busy": "2024-05-15T12:17:51.480685Z",
     "iopub.status.idle": "2024-05-15T12:17:51.484923Z",
     "shell.execute_reply": "2024-05-15T12:17:51.484054Z"
    },
    "papermill": {
     "duration": 4.051533,
     "end_time": "2024-05-15T12:17:51.486888",
     "exception": false,
     "start_time": "2024-05-15T12:17:47.435355",
     "status": "completed"
    },
    "tags": []
   },
   "outputs": [],
   "source": [
    "#130 epoch 93 percent"
   ]
  },
  {
   "cell_type": "code",
   "execution_count": 14,
   "id": "106be07a",
   "metadata": {
    "execution": {
     "iopub.execute_input": "2024-05-15T12:17:59.530424Z",
     "iopub.status.busy": "2024-05-15T12:17:59.529767Z",
     "iopub.status.idle": "2024-05-15T12:18:07.495227Z",
     "shell.execute_reply": "2024-05-15T12:18:07.494117Z"
    },
    "papermill": {
     "duration": 12.119873,
     "end_time": "2024-05-15T12:18:07.497410",
     "exception": false,
     "start_time": "2024-05-15T12:17:55.377537",
     "status": "completed"
    },
    "tags": []
   },
   "outputs": [
    {
     "name": "stdout",
     "output_type": "stream",
     "text": [
      "\u001b[1m395/395\u001b[0m \u001b[32m━━━━━━━━━━━━━━━━━━━━\u001b[0m\u001b[37m\u001b[0m \u001b[1m7s\u001b[0m 12ms/step - accuracy: 0.9653 - loss: 0.2398\n",
      "Test Result: [0.2639833092689514, 0.9645289182662964]\n"
     ]
    }
   ],
   "source": [
    "# Evaluate the discriminator on the test data   ##100 epoch\n",
    "result = discriminator.evaluate(X_test, y_test)\n",
    "\n",
    "# Print the result\n",
    "print(f'Test Result: {result}')\n"
   ]
  },
  {
   "cell_type": "code",
   "execution_count": 15,
   "id": "b00fb19e",
   "metadata": {
    "execution": {
     "iopub.execute_input": "2024-05-15T12:18:15.637740Z",
     "iopub.status.busy": "2024-05-15T12:18:15.636782Z",
     "iopub.status.idle": "2024-05-15T12:18:20.110587Z",
     "shell.execute_reply": "2024-05-15T12:18:20.109591Z"
    },
    "papermill": {
     "duration": 8.535875,
     "end_time": "2024-05-15T12:18:20.112633",
     "exception": false,
     "start_time": "2024-05-15T12:18:11.576758",
     "status": "completed"
    },
    "tags": []
   },
   "outputs": [
    {
     "name": "stdout",
     "output_type": "stream",
     "text": [
      "\u001b[1m395/395\u001b[0m \u001b[32m━━━━━━━━━━━━━━━━━━━━\u001b[0m\u001b[37m\u001b[0m \u001b[1m3s\u001b[0m 8ms/step - accuracy: 0.9653 - loss: 0.2398\n",
      "Test Result: [0.2639833092689514, 0.9645289182662964]\n"
     ]
    }
   ],
   "source": [
    "# Evaluate the discriminator on the test data   #125 epoch\n",
    "result = discriminator.evaluate(X_test, y_test)\n",
    "\n",
    "# Print the result\n",
    "print(f'Test Result: {result}')\n"
   ]
  },
  {
   "cell_type": "code",
   "execution_count": 16,
   "id": "e1fbf178",
   "metadata": {
    "collapsed": true,
    "execution": {
     "iopub.execute_input": "2024-05-15T12:18:28.173974Z",
     "iopub.status.busy": "2024-05-15T12:18:28.173278Z",
     "iopub.status.idle": "2024-05-15T12:18:32.591552Z",
     "shell.execute_reply": "2024-05-15T12:18:32.590605Z"
    },
    "jupyter": {
     "outputs_hidden": true,
     "source_hidden": true
    },
    "papermill": {
     "duration": 8.570509,
     "end_time": "2024-05-15T12:18:32.593554",
     "exception": false,
     "start_time": "2024-05-15T12:18:24.023045",
     "status": "completed"
    },
    "tags": []
   },
   "outputs": [
    {
     "name": "stdout",
     "output_type": "stream",
     "text": [
      "\u001b[1m395/395\u001b[0m \u001b[32m━━━━━━━━━━━━━━━━━━━━\u001b[0m\u001b[37m\u001b[0m \u001b[1m3s\u001b[0m 7ms/step - accuracy: 0.9653 - loss: 0.2398\n",
      "Test Result: [0.2639833092689514, 0.9645289182662964]\n"
     ]
    }
   ],
   "source": [
    "# Evaluate the discriminator on the test data  ##145 epoch\n",
    "result = discriminator.evaluate(X_test, y_test)\n",
    "\n",
    "# Print the result\n",
    "print(f'Test Result: {result}')\n"
   ]
  },
  {
   "cell_type": "code",
   "execution_count": 17,
   "id": "e4aa27fb",
   "metadata": {
    "execution": {
     "iopub.execute_input": "2024-05-15T12:18:40.571452Z",
     "iopub.status.busy": "2024-05-15T12:18:40.571100Z",
     "iopub.status.idle": "2024-05-15T12:18:40.669059Z",
     "shell.execute_reply": "2024-05-15T12:18:40.668194Z"
    },
    "papermill": {
     "duration": 4.030662,
     "end_time": "2024-05-15T12:18:40.670970",
     "exception": false,
     "start_time": "2024-05-15T12:18:36.640308",
     "status": "completed"
    },
    "tags": []
   },
   "outputs": [
    {
     "data": {
      "text/plain": [
       "'/kaggle/working/without_aug2.zip'"
      ]
     },
     "execution_count": 17,
     "metadata": {},
     "output_type": "execute_result"
    }
   ],
   "source": [
    "import shutil\n",
    "import os\n",
    "\n",
    "# Specify the folder path\n",
    "folder_path = '/kaggle/working/empty_folderf3'\n",
    "\n",
    "# Create a zip file\n",
    "shutil.make_archive(folder_path, 'zip', folder_path)\n",
    "\n",
    "# Move the zip file to the output directory\n",
    "output_path = '/kaggle/working/without_aug2.zip'\n",
    "shutil.move(folder_path + '.zip', output_path)\n",
    "\n",
    "# Display the download link\n",
    "output_path\n",
    "   "
   ]
  },
  {
   "cell_type": "code",
   "execution_count": 18,
   "id": "e24f644b",
   "metadata": {
    "execution": {
     "iopub.execute_input": "2024-05-15T12:18:48.973093Z",
     "iopub.status.busy": "2024-05-15T12:18:48.972249Z",
     "iopub.status.idle": "2024-05-15T12:18:49.141108Z",
     "shell.execute_reply": "2024-05-15T12:18:49.140166Z"
    },
    "papermill": {
     "duration": 4.300093,
     "end_time": "2024-05-15T12:18:49.143454",
     "exception": false,
     "start_time": "2024-05-15T12:18:44.843361",
     "status": "completed"
    },
    "tags": []
   },
   "outputs": [],
   "source": [
    "discriminator.save('d_aug_valf.h5')"
   ]
  },
  {
   "cell_type": "code",
   "execution_count": 19,
   "id": "485767f1",
   "metadata": {
    "execution": {
     "iopub.execute_input": "2024-05-15T12:18:57.229369Z",
     "iopub.status.busy": "2024-05-15T12:18:57.229007Z",
     "iopub.status.idle": "2024-05-15T12:19:02.360478Z",
     "shell.execute_reply": "2024-05-15T12:19:02.359375Z"
    },
    "papermill": {
     "duration": 9.310656,
     "end_time": "2024-05-15T12:19:02.362723",
     "exception": false,
     "start_time": "2024-05-15T12:18:53.052067",
     "status": "completed"
    },
    "tags": []
   },
   "outputs": [
    {
     "name": "stdout",
     "output_type": "stream",
     "text": [
      "\u001b[1m395/395\u001b[0m \u001b[32m━━━━━━━━━━━━━━━━━━━━\u001b[0m\u001b[37m\u001b[0m \u001b[1m3s\u001b[0m 7ms/step\n",
      "Precision: [1.         0.95733333 0.99546142 0.96495327 0.93013699 0.99307479\n",
      " 0.98892989 0.90869565 1.         1.         0.98776758 0.98333333\n",
      " 0.96753247 0.85714286 0.93650794 0.84172662 0.94771242 0.88421053\n",
      " 0.95841996 0.921875   0.56363636 0.91304348 0.96666667 0.96035242\n",
      " 0.91791045 0.9676259  0.96610169 0.98591549 0.99173554 0.99739583\n",
      " 0.975      0.96774194 0.99851632 0.96629213 0.98924731 0.91666667\n",
      " 0.63888889 1.         0.97118644 1.         0.97945205 0.9612069\n",
      " 0.97357724]\n",
      "Recall: [0.98333333 0.99722222 0.9969697  0.98333333 0.98405797 0.99583333\n",
      " 0.99259259 0.9952381  0.99333333 0.98888889 0.82820513 0.98333333\n",
      " 0.99333333 1.         0.65555556 0.975      0.96666667 0.93333333\n",
      " 0.96041667 0.98333333 0.51666667 0.98       0.96666667 0.96888889\n",
      " 0.82       0.9962963  0.95       1.         1.         0.98205128\n",
      " 0.975      1.         0.97536232 0.95555556 0.97575758 0.97777778\n",
      " 0.76666667 0.71111111 0.90952381 0.85333333 0.95333333 0.99111111\n",
      " 0.99791667]\n",
      "F1 Score: [0.99159664 0.97687075 0.99621499 0.9740566  0.95633803 0.99445215\n",
      " 0.99075786 0.95       0.99665552 0.99441341 0.90097629 0.98333333\n",
      " 0.98026316 0.92307692 0.77124183 0.9034749  0.95709571 0.90810811\n",
      " 0.95941727 0.9516129  0.53913043 0.94533762 0.96666667 0.96460177\n",
      " 0.86619718 0.98175182 0.95798319 0.9929078  0.99585062 0.98966408\n",
      " 0.975      0.98360656 0.98680352 0.96089385 0.98245614 0.94623656\n",
      " 0.6969697  0.83116883 0.93934426 0.92086331 0.96621622 0.97592998\n",
      " 0.98559671]\n",
      "Support: [ 60 720 660 420 690 720 270 210 150 360 390  60 750  90  90 120 150  90\n",
      " 480 180  60 150  90 450 150 270  60 210 120 390 120  60 690  90 660  90\n",
      "  60  90 630 150 450 450 480]\n",
      "Average Precision: 0.9440226458070399\n",
      "Average Recall: 0.9398371909519533\n",
      "Average F1 Score: 0.9397937954454995\n"
     ]
    }
   ],
   "source": [
    "from sklearn.metrics import precision_recall_fscore_support\n",
    "\n",
    "# Assuming you have test data predictions stored in y_pred and true labels in y_true\n",
    "y_pred = discriminator.predict(X_test)\n",
    "y_true = np.argmax(y_test, axis=1)  # Convert one-hot encoded labels to class labels\n",
    "\n",
    "# Convert predicted probabilities to class labels\n",
    "y_pred_labels = np.argmax(y_pred, axis=1)\n",
    "\n",
    "# Calculate precision, recall, f1-score, and support for each class\n",
    "precision, recall, f1_score, support = precision_recall_fscore_support(y_true, y_pred_labels)\n",
    "\n",
    "# Average precision, recall, f1-score across all classes\n",
    "avg_precision = np.mean(precision)\n",
    "avg_recall = np.mean(recall)\n",
    "avg_f1_score = np.mean(f1_score)\n",
    "\n",
    "# Print results\n",
    "print(\"Precision:\", precision)\n",
    "print(\"Recall:\", recall)\n",
    "print(\"F1 Score:\", f1_score)\n",
    "print(\"Support:\", support)\n",
    "print(\"Average Precision:\", avg_precision)\n",
    "print(\"Average Recall:\", avg_recall)\n",
    "print(\"Average F1 Score:\", avg_f1_score)\n"
   ]
  }
 ],
 "metadata": {
  "kaggle": {
   "accelerator": "gpu",
   "dataSources": [
    {
     "datasetId": 82373,
     "sourceId": 191501,
     "sourceType": "datasetVersion"
    },
    {
     "datasetId": 3820936,
     "sourceId": 6620552,
     "sourceType": "datasetVersion"
    }
   ],
   "dockerImageVersionId": 30699,
   "isGpuEnabled": true,
   "isInternetEnabled": true,
   "language": "python",
   "sourceType": "notebook"
  },
  "kernelspec": {
   "display_name": "Python 3",
   "language": "python",
   "name": "python3"
  },
  "language_info": {
   "codemirror_mode": {
    "name": "ipython",
    "version": 3
   },
   "file_extension": ".py",
   "mimetype": "text/x-python",
   "name": "python",
   "nbconvert_exporter": "python",
   "pygments_lexer": "ipython3",
   "version": "3.10.13"
  },
  "papermill": {
   "default_parameters": {},
   "duration": 17427.3353,
   "end_time": "2024-05-15T12:19:08.382764",
   "environment_variables": {},
   "exception": null,
   "input_path": "__notebook__.ipynb",
   "output_path": "__notebook__.ipynb",
   "parameters": {},
   "start_time": "2024-05-15T07:28:41.047464",
   "version": "2.5.0"
  }
 },
 "nbformat": 4,
 "nbformat_minor": 5
}
