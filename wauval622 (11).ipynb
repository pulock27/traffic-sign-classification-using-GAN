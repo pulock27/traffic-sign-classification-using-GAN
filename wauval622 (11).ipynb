{
 "cells": [
  {
   "cell_type": "code",
   "execution_count": 1,
   "id": "bf8868e2",
   "metadata": {
    "execution": {
     "iopub.execute_input": "2024-05-15T19:03:59.881142Z",
     "iopub.status.busy": "2024-05-15T19:03:59.880396Z",
     "iopub.status.idle": "2024-05-15T19:04:12.280577Z",
     "shell.execute_reply": "2024-05-15T19:04:12.279780Z"
    },
    "papermill": {
     "duration": 12.410515,
     "end_time": "2024-05-15T19:04:12.282848",
     "exception": false,
     "start_time": "2024-05-15T19:03:59.872333",
     "status": "completed"
    },
    "tags": []
   },
   "outputs": [
    {
     "name": "stderr",
     "output_type": "stream",
     "text": [
      "2024-05-15 19:04:01.580999: E external/local_xla/xla/stream_executor/cuda/cuda_dnn.cc:9261] Unable to register cuDNN factory: Attempting to register factory for plugin cuDNN when one has already been registered\n",
      "2024-05-15 19:04:01.581109: E external/local_xla/xla/stream_executor/cuda/cuda_fft.cc:607] Unable to register cuFFT factory: Attempting to register factory for plugin cuFFT when one has already been registered\n",
      "2024-05-15 19:04:01.717403: E external/local_xla/xla/stream_executor/cuda/cuda_blas.cc:1515] Unable to register cuBLAS factory: Attempting to register factory for plugin cuBLAS when one has already been registered\n"
     ]
    }
   ],
   "source": [
    "import tensorflow as tf\n",
    "import os\n",
    "import numpy as np\n",
    "from pathlib import Path\n",
    "from tensorflow import keras\n",
    "from tensorflow.keras import layers\n",
    "from tqdm import tqdm"
   ]
  },
  {
   "cell_type": "code",
   "execution_count": 2,
   "id": "7b26c749",
   "metadata": {
    "execution": {
     "iopub.execute_input": "2024-05-15T19:04:12.297238Z",
     "iopub.status.busy": "2024-05-15T19:04:12.296209Z",
     "iopub.status.idle": "2024-05-15T19:04:12.301006Z",
     "shell.execute_reply": "2024-05-15T19:04:12.300336Z"
    },
    "papermill": {
     "duration": 0.01367,
     "end_time": "2024-05-15T19:04:12.302899",
     "exception": false,
     "start_time": "2024-05-15T19:04:12.289229",
     "status": "completed"
    },
    "tags": []
   },
   "outputs": [],
   "source": [
    "import os\n",
    "# Define the path for the empty folder\n",
    "folder_path = '/kaggle/working/empty_folderf3/'\n",
    "\n",
    "# Create the empty folder\n",
    "os.makedirs(folder_path, exist_ok=True)\n",
    "save_dir = ('/kaggle/working/empty_folderf3')\n"
   ]
  },
  {
   "cell_type": "code",
   "execution_count": 3,
   "id": "4ea52b5b",
   "metadata": {
    "execution": {
     "iopub.execute_input": "2024-05-15T19:04:12.316160Z",
     "iopub.status.busy": "2024-05-15T19:04:12.315898Z",
     "iopub.status.idle": "2024-05-15T19:04:37.191167Z",
     "shell.execute_reply": "2024-05-15T19:04:37.190381Z"
    },
    "papermill": {
     "duration": 24.884722,
     "end_time": "2024-05-15T19:04:37.193529",
     "exception": false,
     "start_time": "2024-05-15T19:04:12.308807",
     "status": "completed"
    },
    "tags": []
   },
   "outputs": [
    {
     "name": "stdout",
     "output_type": "stream",
     "text": [
      "Found 39209 files belonging to 43 classes.\n",
      "Using 31368 files for training.\n",
      "Found 39209 files belonging to 43 classes.\n",
      "Using 7841 files for validation.\n"
     ]
    }
   ],
   "source": [
    "from sklearn.model_selection import train_test_split\n",
    "\n",
    "# Split dataset into training and validation sets\n",
    "train_dir = '/kaggle/input/gtsrb-train/Train'\n",
    "train_data, val_data = train_test_split(os.listdir(train_dir), test_size=0.2, random_state=42)\n",
    "\n",
    "# Create training and validation datasets\n",
    "train_dataset = keras.preprocessing.image_dataset_from_directory(\n",
    "    directory=train_dir, \n",
    "    labels='inferred',  # Use inferred labels from directory structure\n",
    "    label_mode='categorical', \n",
    "    image_size=(64, 64), \n",
    "    batch_size=64,\n",
    "    shuffle=True,\n",
    "    validation_split=0.2,  # Percentage of data to use for validation\n",
    "    subset=\"training\",\n",
    "    seed=42  # Specify seed for reproducibility\n",
    ").map(lambda x, y: (x/255.0, y))  # Normalize the pixel values to [0, 1]\n",
    "\n",
    "val_dataset = keras.preprocessing.image_dataset_from_directory(\n",
    "    directory=train_dir, \n",
    "    labels='inferred',  # Use inferred labels from directory structure\n",
    "    label_mode='categorical', \n",
    "    image_size=(64, 64), \n",
    "    batch_size=64,\n",
    "    shuffle=True,\n",
    "    validation_split=0.2,  # Percentage of data to use for validation\n",
    "    subset=\"validation\",\n",
    "    seed=42  # Specify seed for reproducibility\n",
    ").map(lambda x, y: (x/255.0, y))  # Normalize the pixel values to [0, 1])\n"
   ]
  },
  {
   "cell_type": "code",
   "execution_count": 4,
   "id": "15ace4d9",
   "metadata": {
    "execution": {
     "iopub.execute_input": "2024-05-15T19:04:37.207811Z",
     "iopub.status.busy": "2024-05-15T19:04:37.207527Z",
     "iopub.status.idle": "2024-05-15T19:04:37.211290Z",
     "shell.execute_reply": "2024-05-15T19:04:37.210426Z"
    },
    "papermill": {
     "duration": 0.013044,
     "end_time": "2024-05-15T19:04:37.213206",
     "exception": false,
     "start_time": "2024-05-15T19:04:37.200162",
     "status": "completed"
    },
    "tags": []
   },
   "outputs": [],
   "source": [
    "#nnnnnnneeeeewwwwwwwwww   mmmmooodeeel"
   ]
  },
  {
   "cell_type": "code",
   "execution_count": 5,
   "id": "36d10dc6",
   "metadata": {
    "execution": {
     "iopub.execute_input": "2024-05-15T19:04:37.226883Z",
     "iopub.status.busy": "2024-05-15T19:04:37.226602Z",
     "iopub.status.idle": "2024-05-15T19:04:37.363089Z",
     "shell.execute_reply": "2024-05-15T19:04:37.362096Z"
    },
    "papermill": {
     "duration": 0.145965,
     "end_time": "2024-05-15T19:04:37.365425",
     "exception": false,
     "start_time": "2024-05-15T19:04:37.219460",
     "status": "completed"
    },
    "tags": []
   },
   "outputs": [],
   "source": [
    "latent_dim = 128\n",
    "\n",
    "# Encoder\n",
    "encoder = keras.Sequential([\n",
    "    layers.Input(shape=(64, 64, 3)),\n",
    "    layers.Conv2D(64, kernel_size=4, strides=2, padding=\"same\"),\n",
    "    layers.LeakyReLU(0.2),\n",
    "    layers.Conv2D(128, kernel_size=4, strides=2, padding=\"same\"),\n",
    "    layers.LeakyReLU(0.2),\n",
    "    layers.Conv2D(256, kernel_size=4, strides=2, padding=\"same\"),\n",
    "    layers.LeakyReLU(0.2),\n",
    "    layers.Conv2D(512, kernel_size=4, strides=2, padding=\"same\"),\n",
    "    layers.LeakyReLU(0.2),\n",
    "    layers.Flatten(),\n",
    "    layers.Dense(latent_dim)  # Latent representation\n",
    "])\n",
    "\n",
    "# Decoder\n",
    "decoder = keras.Sequential([\n",
    "    layers.Input(shape=(latent_dim,)),\n",
    "    layers.Dense(8*8*512),\n",
    "    layers.Reshape((8, 8, 512)),\n",
    "    layers.Conv2DTranspose(256, kernel_size=4, strides=2, padding=\"same\"),\n",
    "    layers.LeakyReLU(0.2),\n",
    "    layers.Conv2DTranspose(128, kernel_size=4, strides=2, padding=\"same\"),\n",
    "    layers.LeakyReLU(0.2),\n",
    "    layers.Conv2DTranspose(64, kernel_size=4, strides=2, padding=\"same\"),\n",
    "    layers.LeakyReLU(0.2),\n",
    "    layers.Conv2DTranspose(3, kernel_size=4,  padding=\"same\", activation=\"tanh\"),\n",
    "])\n",
    "\n",
    "# Full autoencoder model\n",
    "autoencoder = keras.Sequential([\n",
    "    layers.Input(shape=(64, 64, 3)),\n",
    "    encoder,\n",
    "    decoder\n",
    "])\n"
   ]
  },
  {
   "cell_type": "code",
   "execution_count": 6,
   "id": "3b21844b",
   "metadata": {
    "execution": {
     "iopub.execute_input": "2024-05-15T19:04:37.379542Z",
     "iopub.status.busy": "2024-05-15T19:04:37.379241Z",
     "iopub.status.idle": "2024-05-15T19:04:37.383233Z",
     "shell.execute_reply": "2024-05-15T19:04:37.382375Z"
    },
    "papermill": {
     "duration": 0.013109,
     "end_time": "2024-05-15T19:04:37.385148",
     "exception": false,
     "start_time": "2024-05-15T19:04:37.372039",
     "status": "completed"
    },
    "tags": []
   },
   "outputs": [],
   "source": [
    "from tensorflow.keras import layers, models, optimizers"
   ]
  },
  {
   "cell_type": "code",
   "execution_count": 7,
   "id": "3eafb450",
   "metadata": {
    "execution": {
     "iopub.execute_input": "2024-05-15T19:04:37.398792Z",
     "iopub.status.busy": "2024-05-15T19:04:37.398507Z",
     "iopub.status.idle": "2024-05-15T19:04:37.436991Z",
     "shell.execute_reply": "2024-05-15T19:04:37.435787Z"
    },
    "papermill": {
     "duration": 0.047504,
     "end_time": "2024-05-15T19:04:37.439004",
     "exception": false,
     "start_time": "2024-05-15T19:04:37.391500",
     "status": "completed"
    },
    "tags": []
   },
   "outputs": [
    {
     "name": "stderr",
     "output_type": "stream",
     "text": [
      "/opt/conda/lib/python3.10/site-packages/keras/src/layers/convolutional/base_conv.py:99: UserWarning: Do not pass an `input_shape`/`input_dim` argument to a layer. When using Sequential models, prefer using an `Input(shape)` object as the first layer in the model instead.\n",
      "  super().__init__(\n"
     ]
    }
   ],
   "source": [
    "import tensorflow as tf\n",
    "\n",
    "class CustomModel(tf.keras.Model):\n",
    "    def __init__(self):\n",
    "        super(CustomModel, self).__init__()\n",
    "        \n",
    "        # Define layers\n",
    "        self.conv1 = tf.keras.layers.Conv2D(200, kernel_size=7, activation='relu', input_shape=(48, 48, 3))\n",
    "        self.pool1 = tf.keras.layers.MaxPooling2D(pool_size=2)\n",
    "        self.norm1 = tf.keras.layers.BatchNormalization()\n",
    "        \n",
    "        self.conv2 = tf.keras.layers.Conv2D(250, kernel_size=4, activation='relu')\n",
    "        self.pool2 = tf.keras.layers.MaxPooling2D(pool_size=2)\n",
    "        self.norm2 = tf.keras.layers.BatchNormalization()\n",
    "        \n",
    "        self.conv3 = tf.keras.layers.Conv2D(300, kernel_size=4, activation='relu')\n",
    "        self.pool3 = tf.keras.layers.MaxPooling2D(pool_size=2)\n",
    "        self.norm3 = tf.keras.layers.BatchNormalization()\n",
    "        \n",
    "        self.conv4 = tf.keras.layers.Conv2D(350, kernel_size=4, activation='relu')\n",
    "        self.pool4 = tf.keras.layers.MaxPooling2D(pool_size=2)\n",
    "        self.norm4 = tf.keras.layers.BatchNormalization()\n",
    "        \n",
    "        self.flatten = tf.keras.layers.Flatten()\n",
    "    \n",
    "        self.fc1 = tf.keras.layers.Dense(400, activation='relu')\n",
    "        self.dropout1 = tf.keras.layers.Dropout(0.5)  # Dropout layer\n",
    "        self.fc2 = tf.keras.layers.Dense(200, activation='relu')\n",
    "        self.dropout2 = tf.keras.layers.Dropout(0.5)  # Dropout layer\n",
    "        self.fc3 = tf.keras.layers.Dense(43, activation='softmax')\n",
    "    \n",
    "    def call(self, inputs):\n",
    "        # Forward pass\n",
    "        x = self.conv1(inputs)\n",
    "        x = self.pool1(x)\n",
    "        x = self.norm1(x)\n",
    "        x = self.conv2(x)\n",
    "        x = self.pool2(x)\n",
    "        x = self.norm2(x)\n",
    "        x = self.conv3(x)\n",
    "        x = self.pool3(x)\n",
    "        x = self.norm3(x)\n",
    "        x = self.conv4(x)\n",
    "        x = self.pool4(x)\n",
    "        x = self.norm4(x)\n",
    "        x = self.flatten(x)\n",
    "        x = self.fc1(x)\n",
    "        x = self.dropout1(x)  # Dropout layer\n",
    "        x = self.fc2(x)\n",
    "        x = self.dropout2(x)  # Dropout layer\n",
    "        x = self.fc3(x)\n",
    "        return x\n",
    "\n",
    "# Create an instance of the model\n",
    "discriminator = CustomModel()\n"
   ]
  },
  {
   "cell_type": "code",
   "execution_count": 8,
   "id": "85e1dc93",
   "metadata": {
    "execution": {
     "iopub.execute_input": "2024-05-15T19:04:37.452869Z",
     "iopub.status.busy": "2024-05-15T19:04:37.452589Z",
     "iopub.status.idle": "2024-05-15T19:04:37.468583Z",
     "shell.execute_reply": "2024-05-15T19:04:37.467703Z"
    },
    "papermill": {
     "duration": 0.025178,
     "end_time": "2024-05-15T19:04:37.470532",
     "exception": false,
     "start_time": "2024-05-15T19:04:37.445354",
     "status": "completed"
    },
    "tags": []
   },
   "outputs": [],
   "source": [
    "# Loss functions\n",
    "loss_fn_auto = tf.keras.losses.MeanSquaredError()\n",
    "loss_fn_disc = tf.keras.losses.CategoricalCrossentropy()\n",
    "\n",
    "# Optimizers\n",
    "opt_autoencoder = tf.keras.optimizers.Adam(learning_rate=0.0001, beta_1=0.5)\n",
    "opt_disc = tf.keras.optimizers.Adam(learning_rate=0.0001, beta_1=0.5)\n",
    "\n",
    "\n",
    "# Compile the autoencoder model\n",
    "autoencoder.compile(optimizer=opt_autoencoder, loss=loss_fn_auto)\n",
    "\n",
    "# Compile the discriminator model\n",
    "discriminator.compile(optimizer=opt_disc, loss=loss_fn_disc, metrics=['accuracy'])"
   ]
  },
  {
   "cell_type": "code",
   "execution_count": 9,
   "id": "80c9b803",
   "metadata": {
    "execution": {
     "iopub.execute_input": "2024-05-15T19:04:37.484655Z",
     "iopub.status.busy": "2024-05-15T19:04:37.484226Z",
     "iopub.status.idle": "2024-05-15T23:36:13.666443Z",
     "shell.execute_reply": "2024-05-15T23:36:13.665239Z"
    },
    "papermill": {
     "duration": 16296.191987,
     "end_time": "2024-05-15T23:36:13.668834",
     "exception": false,
     "start_time": "2024-05-15T19:04:37.476847",
     "status": "completed"
    },
    "tags": []
   },
   "outputs": [
    {
     "name": "stderr",
     "output_type": "stream",
     "text": [
      "100%|██████████| 491/491 [02:46<00:00,  2.95it/s]\n"
     ]
    },
    {
     "name": "stdout",
     "output_type": "stream",
     "text": [
      "Epoch 0, Autoencoder Loss: 0.02587384730577469, Discriminator Loss: 2.7780115604400635, Discriminator Accuracy: 0.17540733516216278\n",
      "Validation - Autoencoder Loss: 0.016367606818675995, Discriminator Loss: 1.965476393699646, Discriminator Accuracy: 0.2470320612192154\n"
     ]
    },
    {
     "name": "stderr",
     "output_type": "stream",
     "text": [
      "100%|██████████| 491/491 [02:32<00:00,  3.22it/s]\n"
     ]
    },
    {
     "name": "stdout",
     "output_type": "stream",
     "text": [
      "Epoch 1, Autoencoder Loss: 0.011818567290902138, Discriminator Loss: 0.9836716055870056, Discriminator Accuracy: 0.6728933453559875\n",
      "Validation - Autoencoder Loss: 0.010381934233009815, Discriminator Loss: 0.62022465467453, Discriminator Accuracy: 0.7015120983123779\n"
     ]
    },
    {
     "name": "stderr",
     "output_type": "stream",
     "text": [
      "100%|██████████| 491/491 [02:33<00:00,  3.21it/s]\n"
     ]
    },
    {
     "name": "stdout",
     "output_type": "stream",
     "text": [
      "Epoch 2, Autoencoder Loss: 0.008220653049647808, Discriminator Loss: 0.3855338394641876, Discriminator Accuracy: 0.8998854160308838\n",
      "Validation - Autoencoder Loss: 0.007939926348626614, Discriminator Loss: 0.3468013107776642, Discriminator Accuracy: 0.8401045799255371\n"
     ]
    },
    {
     "name": "stderr",
     "output_type": "stream",
     "text": [
      "100%|██████████| 491/491 [02:33<00:00,  3.20it/s]\n"
     ]
    },
    {
     "name": "stdout",
     "output_type": "stream",
     "text": [
      "Epoch 3, Autoencoder Loss: 0.006408078595995903, Discriminator Loss: 0.18513859808444977, Discriminator Accuracy: 0.9687818288803101\n",
      "Validation - Autoencoder Loss: 0.006309385411441326, Discriminator Loss: 0.22258764505386353, Discriminator Accuracy: 0.9010801911354065\n"
     ]
    },
    {
     "name": "stderr",
     "output_type": "stream",
     "text": [
      "100%|██████████| 491/491 [02:31<00:00,  3.24it/s]\n"
     ]
    },
    {
     "name": "stdout",
     "output_type": "stream",
     "text": [
      "Epoch 4, Autoencoder Loss: 0.0054043130949139595, Discriminator Loss: 0.1052110493183136, Discriminator Accuracy: 0.9886074066162109\n",
      "Validation - Autoencoder Loss: 0.005161989945918322, Discriminator Loss: 0.14359937608242035, Discriminator Accuracy: 0.9335773587226868\n"
     ]
    },
    {
     "name": "stderr",
     "output_type": "stream",
     "text": [
      "100%|██████████| 491/491 [03:21<00:00,  2.43it/s]\n"
     ]
    },
    {
     "name": "stdout",
     "output_type": "stream",
     "text": [
      "Epoch 5, Autoencoder Loss: 0.004804820753633976, Discriminator Loss: 0.06617532670497894, Discriminator Accuracy: 0.9950993061065674\n",
      "Validation - Autoencoder Loss: 0.004554413724690676, Discriminator Loss: 0.07921908050775528, Discriminator Accuracy: 0.9641922116279602\n"
     ]
    },
    {
     "name": "stderr",
     "output_type": "stream",
     "text": [
      "100%|██████████| 491/491 [02:30<00:00,  3.26it/s]\n"
     ]
    },
    {
     "name": "stdout",
     "output_type": "stream",
     "text": [
      "Epoch 6, Autoencoder Loss: 0.004291136749088764, Discriminator Loss: 0.045707691460847855, Discriminator Accuracy: 0.9978042244911194\n",
      "Validation - Autoencoder Loss: 0.004567219875752926, Discriminator Loss: 0.07131937146186829, Discriminator Accuracy: 0.9698932766914368\n"
     ]
    },
    {
     "name": "stderr",
     "output_type": "stream",
     "text": [
      "100%|██████████| 491/491 [02:30<00:00,  3.26it/s]\n"
     ]
    },
    {
     "name": "stdout",
     "output_type": "stream",
     "text": [
      "Epoch 7, Autoencoder Loss: 0.003911903593689203, Discriminator Loss: 0.03196382150053978, Discriminator Accuracy: 0.9991089701652527\n",
      "Validation - Autoencoder Loss: 0.005032040644437075, Discriminator Loss: 0.12973493337631226, Discriminator Accuracy: 0.9491946697235107\n"
     ]
    },
    {
     "name": "stderr",
     "output_type": "stream",
     "text": [
      "100%|██████████| 491/491 [02:30<00:00,  3.27it/s]\n"
     ]
    },
    {
     "name": "stdout",
     "output_type": "stream",
     "text": [
      "Epoch 8, Autoencoder Loss: 0.0036683189682662487, Discriminator Loss: 0.026024777442216873, Discriminator Accuracy: 0.9993635416030884\n",
      "Validation - Autoencoder Loss: 0.004080361686646938, Discriminator Loss: 0.0529312863945961, Discriminator Accuracy: 0.9771418571472168\n"
     ]
    },
    {
     "name": "stderr",
     "output_type": "stream",
     "text": [
      "100%|██████████| 491/491 [02:30<00:00,  3.26it/s]\n"
     ]
    },
    {
     "name": "stdout",
     "output_type": "stream",
     "text": [
      "Epoch 9, Autoencoder Loss: 0.0034693030174821615, Discriminator Loss: 0.02053234353661537, Discriminator Accuracy: 0.9992680549621582\n",
      "Validation - Autoencoder Loss: 0.006131085101515055, Discriminator Loss: 0.07176131755113602, Discriminator Accuracy: 0.9709095358848572\n"
     ]
    },
    {
     "name": "stderr",
     "output_type": "stream",
     "text": [
      "100%|██████████| 491/491 [02:30<00:00,  3.26it/s]\n"
     ]
    },
    {
     "name": "stdout",
     "output_type": "stream",
     "text": [
      "Epoch 10, Autoencoder Loss: 0.0033136652782559395, Discriminator Loss: 0.0248886626213789, Discriminator Accuracy: 0.9991726279258728\n",
      "Validation - Autoencoder Loss: 0.003283676691353321, Discriminator Loss: 0.053513627499341965, Discriminator Accuracy: 0.9765143394470215\n"
     ]
    },
    {
     "name": "stderr",
     "output_type": "stream",
     "text": [
      "100%|██████████| 491/491 [02:30<00:00,  3.26it/s]\n"
     ]
    },
    {
     "name": "stdout",
     "output_type": "stream",
     "text": [
      "Epoch 11, Autoencoder Loss: 0.0031019970774650574, Discriminator Loss: 0.013685024343430996, Discriminator Accuracy: 0.9993317127227783\n",
      "Validation - Autoencoder Loss: 0.003128843614831567, Discriminator Loss: 0.039862435311079025, Discriminator Accuracy: 0.9861688613891602\n"
     ]
    },
    {
     "name": "stderr",
     "output_type": "stream",
     "text": [
      "100%|██████████| 491/491 [02:30<00:00,  3.26it/s]\n"
     ]
    },
    {
     "name": "stdout",
     "output_type": "stream",
     "text": [
      "Epoch 12, Autoencoder Loss: 0.0029506906867027283, Discriminator Loss: 0.01528147142380476, Discriminator Accuracy: 0.9995226860046387\n",
      "Validation - Autoencoder Loss: 0.003520854050293565, Discriminator Loss: 0.046625766903162, Discriminator Accuracy: 0.9822154641151428\n"
     ]
    },
    {
     "name": "stderr",
     "output_type": "stream",
     "text": [
      "100%|██████████| 491/491 [02:32<00:00,  3.22it/s]\n"
     ]
    },
    {
     "name": "stdout",
     "output_type": "stream",
     "text": [
      "Epoch 13, Autoencoder Loss: 0.0041833557188510895, Discriminator Loss: 0.07418452948331833, Discriminator Accuracy: 0.9860934615135193\n",
      "Validation - Autoencoder Loss: 0.0034868561197072268, Discriminator Loss: 0.05256763473153114, Discriminator Accuracy: 0.9800635576248169\n"
     ]
    },
    {
     "name": "stderr",
     "output_type": "stream",
     "text": [
      "100%|██████████| 491/491 [02:31<00:00,  3.23it/s]\n"
     ]
    },
    {
     "name": "stdout",
     "output_type": "stream",
     "text": [
      "Epoch 14, Autoencoder Loss: 0.002808165969327092, Discriminator Loss: 0.00826866552233696, Discriminator Accuracy: 0.9999045133590698\n",
      "Validation - Autoencoder Loss: 0.0029856967739760876, Discriminator Loss: 0.031915150582790375, Discriminator Accuracy: 0.9894639849662781\n"
     ]
    },
    {
     "name": "stderr",
     "output_type": "stream",
     "text": [
      "100%|██████████| 491/491 [02:30<00:00,  3.26it/s]\n"
     ]
    },
    {
     "name": "stdout",
     "output_type": "stream",
     "text": [
      "Epoch 15, Autoencoder Loss: 0.002699617063626647, Discriminator Loss: 0.004643743392080069, Discriminator Accuracy: 0.9999681711196899\n",
      "Validation - Autoencoder Loss: 0.003020340343937278, Discriminator Loss: 0.02985316514968872, Discriminator Accuracy: 0.9908613562583923\n"
     ]
    },
    {
     "name": "stderr",
     "output_type": "stream",
     "text": [
      "100%|██████████| 491/491 [02:31<00:00,  3.25it/s]\n"
     ]
    },
    {
     "name": "stdout",
     "output_type": "stream",
     "text": [
      "Epoch 16, Autoencoder Loss: 0.0026435551699250937, Discriminator Loss: 0.011439647525548935, Discriminator Accuracy: 0.9996499419212341\n",
      "Validation - Autoencoder Loss: 0.004483149386942387, Discriminator Loss: 0.0699734315276146, Discriminator Accuracy: 0.9707825183868408\n"
     ]
    },
    {
     "name": "stderr",
     "output_type": "stream",
     "text": [
      "100%|██████████| 491/491 [02:32<00:00,  3.22it/s]\n"
     ]
    },
    {
     "name": "stdout",
     "output_type": "stream",
     "text": [
      "Epoch 17, Autoencoder Loss: 0.0026786294765770435, Discriminator Loss: 0.032004278153181076, Discriminator Accuracy: 0.9976133108139038\n",
      "Validation - Autoencoder Loss: 0.0028386078774929047, Discriminator Loss: 0.08049029111862183, Discriminator Accuracy: 0.9771418571472168\n"
     ]
    },
    {
     "name": "stderr",
     "output_type": "stream",
     "text": [
      "100%|██████████| 491/491 [02:31<00:00,  3.23it/s]\n"
     ]
    },
    {
     "name": "stdout",
     "output_type": "stream",
     "text": [
      "Epoch 18, Autoencoder Loss: 0.0024783501867204905, Discriminator Loss: 0.00584091991186142, Discriminator Accuracy: 0.9999681711196899\n",
      "Validation - Autoencoder Loss: 0.0027951367665082216, Discriminator Loss: 0.029736731201410294, Discriminator Accuracy: 0.9913617968559265\n"
     ]
    },
    {
     "name": "stderr",
     "output_type": "stream",
     "text": [
      "100%|██████████| 491/491 [02:31<00:00,  3.23it/s]\n"
     ]
    },
    {
     "name": "stdout",
     "output_type": "stream",
     "text": [
      "Epoch 19, Autoencoder Loss: 0.0024089450016617775, Discriminator Loss: 0.010181562043726444, Discriminator Accuracy: 0.9996181130409241\n",
      "Validation - Autoencoder Loss: 0.002895255107432604, Discriminator Loss: 0.084737628698349, Discriminator Accuracy: 0.9672333002090454\n"
     ]
    },
    {
     "name": "stderr",
     "output_type": "stream",
     "text": [
      "100%|██████████| 491/491 [02:32<00:00,  3.21it/s]\n"
     ]
    },
    {
     "name": "stdout",
     "output_type": "stream",
     "text": [
      "Epoch 20, Autoencoder Loss: 0.0023863448295742273, Discriminator Loss: 0.006010284647345543, Discriminator Accuracy: 1.0\n",
      "Validation - Autoencoder Loss: 0.003064375603571534, Discriminator Loss: 0.04017513245344162, Discriminator Accuracy: 0.9855259656906128\n"
     ]
    },
    {
     "name": "stderr",
     "output_type": "stream",
     "text": [
      "100%|██████████| 491/491 [02:32<00:00,  3.23it/s]\n"
     ]
    },
    {
     "name": "stdout",
     "output_type": "stream",
     "text": [
      "Epoch 21, Autoencoder Loss: 0.0023112224880605936, Discriminator Loss: 0.007349580060690641, Discriminator Accuracy: 0.9998726844787598\n",
      "Validation - Autoencoder Loss: 0.0027229986153542995, Discriminator Loss: 0.036184944212436676, Discriminator Accuracy: 0.988567054271698\n"
     ]
    },
    {
     "name": "stderr",
     "output_type": "stream",
     "text": [
      "100%|██████████| 491/491 [02:32<00:00,  3.23it/s]\n"
     ]
    },
    {
     "name": "stdout",
     "output_type": "stream",
     "text": [
      "Epoch 22, Autoencoder Loss: 0.002246451796963811, Discriminator Loss: 0.0028994204476475716, Discriminator Accuracy: 0.9999363422393799\n",
      "Validation - Autoencoder Loss: 0.0027999146841466427, Discriminator Loss: 0.034189220517873764, Discriminator Accuracy: 0.9895833134651184\n"
     ]
    },
    {
     "name": "stderr",
     "output_type": "stream",
     "text": [
      "100%|██████████| 491/491 [02:36<00:00,  3.14it/s]\n"
     ]
    },
    {
     "name": "stdout",
     "output_type": "stream",
     "text": [
      "Epoch 23, Autoencoder Loss: 0.002185023622587323, Discriminator Loss: 0.00501572759822011, Discriminator Accuracy: 0.9998090863227844\n",
      "Validation - Autoencoder Loss: 0.003094862215220928, Discriminator Loss: 0.03772468864917755, Discriminator Accuracy: 0.9879319071769714\n"
     ]
    },
    {
     "name": "stderr",
     "output_type": "stream",
     "text": [
      "100%|██████████| 491/491 [02:31<00:00,  3.24it/s]\n"
     ]
    },
    {
     "name": "stdout",
     "output_type": "stream",
     "text": [
      "Epoch 24, Autoencoder Loss: 0.0021353005431592464, Discriminator Loss: 0.01048835925757885, Discriminator Accuracy: 0.9999045133590698\n",
      "Validation - Autoencoder Loss: 0.0027018850669264793, Discriminator Loss: 0.025563877075910568, Discriminator Accuracy: 0.9903455376625061\n"
     ]
    },
    {
     "name": "stderr",
     "output_type": "stream",
     "text": [
      "100%|██████████| 491/491 [02:32<00:00,  3.22it/s]\n"
     ]
    },
    {
     "name": "stdout",
     "output_type": "stream",
     "text": [
      "Epoch 25, Autoencoder Loss: 0.002080306876450777, Discriminator Loss: 0.004710571840405464, Discriminator Accuracy: 0.9998726844787598\n",
      "Validation - Autoencoder Loss: 0.0027947253547608852, Discriminator Loss: 0.02599739097058773, Discriminator Accuracy: 0.9907266497612\n"
     ]
    },
    {
     "name": "stderr",
     "output_type": "stream",
     "text": [
      "100%|██████████| 491/491 [02:34<00:00,  3.17it/s]\n"
     ]
    },
    {
     "name": "stdout",
     "output_type": "stream",
     "text": [
      "Epoch 26, Autoencoder Loss: 0.0020543052814900875, Discriminator Loss: 0.006960004568099976, Discriminator Accuracy: 0.9997454285621643\n",
      "Validation - Autoencoder Loss: 0.0028412677347660065, Discriminator Loss: 0.0272153839468956, Discriminator Accuracy: 0.9903532266616821\n"
     ]
    },
    {
     "name": "stderr",
     "output_type": "stream",
     "text": [
      "100%|██████████| 491/491 [02:31<00:00,  3.24it/s]\n"
     ]
    },
    {
     "name": "stdout",
     "output_type": "stream",
     "text": [
      "Epoch 27, Autoencoder Loss: 0.0019897245801985264, Discriminator Loss: 0.0023207860067486763, Discriminator Accuracy: 0.9999681711196899\n",
      "Validation - Autoencoder Loss: 0.0026171097997576, Discriminator Loss: 0.02668963372707367, Discriminator Accuracy: 0.9894639849662781\n"
     ]
    },
    {
     "name": "stderr",
     "output_type": "stream",
     "text": [
      "100%|██████████| 491/491 [02:30<00:00,  3.25it/s]\n"
     ]
    },
    {
     "name": "stdout",
     "output_type": "stream",
     "text": [
      "Epoch 28, Autoencoder Loss: 0.0019507957622408867, Discriminator Loss: 0.006494414526969194, Discriminator Accuracy: 0.9998726844787598\n",
      "Validation - Autoencoder Loss: 0.002678634598851204, Discriminator Loss: 0.021258501335978508, Discriminator Accuracy: 0.9921239614486694\n"
     ]
    },
    {
     "name": "stderr",
     "output_type": "stream",
     "text": [
      "100%|██████████| 491/491 [02:30<00:00,  3.26it/s]\n"
     ]
    },
    {
     "name": "stdout",
     "output_type": "stream",
     "text": [
      "Epoch 29, Autoencoder Loss: 0.0019120706710964441, Discriminator Loss: 0.0035763103514909744, Discriminator Accuracy: 0.9999363422393799\n",
      "Validation - Autoencoder Loss: 0.0026549133472144604, Discriminator Loss: 0.03921974077820778, Discriminator Accuracy: 0.9832471013069153\n"
     ]
    },
    {
     "name": "stderr",
     "output_type": "stream",
     "text": [
      "100%|██████████| 491/491 [02:31<00:00,  3.25it/s]\n"
     ]
    },
    {
     "name": "stdout",
     "output_type": "stream",
     "text": [
      "Epoch 30, Autoencoder Loss: 0.0018875572131946683, Discriminator Loss: 0.0049665942788124084, Discriminator Accuracy: 0.9998726844787598\n",
      "Validation - Autoencoder Loss: 0.0025905987713485956, Discriminator Loss: 0.020560814067721367, Discriminator Accuracy: 0.9918699264526367\n"
     ]
    },
    {
     "name": "stderr",
     "output_type": "stream",
     "text": [
      "100%|██████████| 491/491 [02:30<00:00,  3.26it/s]\n"
     ]
    },
    {
     "name": "stdout",
     "output_type": "stream",
     "text": [
      "Epoch 31, Autoencoder Loss: 0.0018335755448788404, Discriminator Loss: 0.005900986958295107, Discriminator Accuracy: 0.9998090863227844\n",
      "Validation - Autoencoder Loss: 0.002957009943202138, Discriminator Loss: 0.029336199164390564, Discriminator Accuracy: 0.9866616129875183\n"
     ]
    },
    {
     "name": "stderr",
     "output_type": "stream",
     "text": [
      "100%|██████████| 491/491 [02:30<00:00,  3.27it/s]\n"
     ]
    },
    {
     "name": "stdout",
     "output_type": "stream",
     "text": [
      "Epoch 32, Autoencoder Loss: 0.0017990566557273269, Discriminator Loss: 0.004006367642432451, Discriminator Accuracy: 0.9998090863227844\n",
      "Validation - Autoencoder Loss: 0.0028860110323876143, Discriminator Loss: 0.03668660297989845, Discriminator Accuracy: 0.9856453537940979\n"
     ]
    },
    {
     "name": "stderr",
     "output_type": "stream",
     "text": [
      "100%|██████████| 491/491 [02:30<00:00,  3.26it/s]\n"
     ]
    },
    {
     "name": "stdout",
     "output_type": "stream",
     "text": [
      "Epoch 33, Autoencoder Loss: 0.0018307664431631565, Discriminator Loss: 0.006431290879845619, Discriminator Accuracy: 0.9998409152030945\n",
      "Validation - Autoencoder Loss: 0.002641466911882162, Discriminator Loss: 0.020960040390491486, Discriminator Accuracy: 0.9914965033531189\n"
     ]
    },
    {
     "name": "stderr",
     "output_type": "stream",
     "text": [
      "100%|██████████| 491/491 [02:30<00:00,  3.27it/s]\n"
     ]
    },
    {
     "name": "stdout",
     "output_type": "stream",
     "text": [
      "Epoch 34, Autoencoder Loss: 0.0017149768536910415, Discriminator Loss: 0.0009183241054415703, Discriminator Accuracy: 0.9999681711196899\n",
      "Validation - Autoencoder Loss: 0.00288149481639266, Discriminator Loss: 0.024619536474347115, Discriminator Accuracy: 0.991115391254425\n"
     ]
    },
    {
     "name": "stderr",
     "output_type": "stream",
     "text": [
      "100%|██████████| 491/491 [02:30<00:00,  3.27it/s]\n"
     ]
    },
    {
     "name": "stdout",
     "output_type": "stream",
     "text": [
      "Epoch 35, Autoencoder Loss: 0.0017164935125038028, Discriminator Loss: 0.0023212325759232044, Discriminator Accuracy: 0.9999045133590698\n",
      "Validation - Autoencoder Loss: 0.0027720904909074306, Discriminator Loss: 0.025447240099310875, Discriminator Accuracy: 0.9919969439506531\n"
     ]
    },
    {
     "name": "stderr",
     "output_type": "stream",
     "text": [
      "100%|██████████| 491/491 [02:30<00:00,  3.26it/s]\n"
     ]
    },
    {
     "name": "stdout",
     "output_type": "stream",
     "text": [
      "Epoch 36, Autoencoder Loss: 0.0016802792670205235, Discriminator Loss: 0.0002911958727054298, Discriminator Accuracy: 1.0\n",
      "Validation - Autoencoder Loss: 0.002585546812042594, Discriminator Loss: 0.02470942959189415, Discriminator Accuracy: 0.9936560392379761\n"
     ]
    },
    {
     "name": "stderr",
     "output_type": "stream",
     "text": [
      "100%|██████████| 491/491 [02:30<00:00,  3.25it/s]\n"
     ]
    },
    {
     "name": "stdout",
     "output_type": "stream",
     "text": [
      "Epoch 37, Autoencoder Loss: 0.0017551863566040993, Discriminator Loss: 0.014263376593589783, Discriminator Accuracy: 0.9991726279258728\n",
      "Validation - Autoencoder Loss: 0.003913918975740671, Discriminator Loss: 0.13376745581626892, Discriminator Accuracy: 0.9383969306945801\n"
     ]
    },
    {
     "name": "stderr",
     "output_type": "stream",
     "text": [
      "100%|██████████| 491/491 [02:30<00:00,  3.27it/s]\n"
     ]
    },
    {
     "name": "stdout",
     "output_type": "stream",
     "text": [
      "Epoch 38, Autoencoder Loss: 0.0016173963667824864, Discriminator Loss: 0.0020605972968041897, Discriminator Accuracy: 1.0\n",
      "Validation - Autoencoder Loss: 0.0027180619072169065, Discriminator Loss: 0.027556687593460083, Discriminator Accuracy: 0.9918699264526367\n"
     ]
    },
    {
     "name": "stderr",
     "output_type": "stream",
     "text": [
      "100%|██████████| 491/491 [03:21<00:00,  2.43it/s]\n"
     ]
    },
    {
     "name": "stdout",
     "output_type": "stream",
     "text": [
      "Epoch 39, Autoencoder Loss: 0.0015901719452813268, Discriminator Loss: 0.0026818581391125917, Discriminator Accuracy: 0.9998090863227844\n",
      "Validation - Autoencoder Loss: 0.002726674312725663, Discriminator Loss: 0.032441508024930954, Discriminator Accuracy: 0.9886941313743591\n"
     ]
    },
    {
     "name": "stderr",
     "output_type": "stream",
     "text": [
      "100%|██████████| 491/491 [02:30<00:00,  3.26it/s]\n"
     ]
    },
    {
     "name": "stdout",
     "output_type": "stream",
     "text": [
      "Epoch 40, Autoencoder Loss: 0.0015992933185771108, Discriminator Loss: 0.000994821428321302, Discriminator Accuracy: 1.0\n",
      "Validation - Autoencoder Loss: 0.0026888290885835886, Discriminator Loss: 0.025809159502387047, Discriminator Accuracy: 0.9921239614486694\n"
     ]
    },
    {
     "name": "stderr",
     "output_type": "stream",
     "text": [
      "100%|██████████| 491/491 [02:30<00:00,  3.27it/s]\n"
     ]
    },
    {
     "name": "stdout",
     "output_type": "stream",
     "text": [
      "Epoch 41, Autoencoder Loss: 0.0015992135740816593, Discriminator Loss: 0.002026359550654888, Discriminator Accuracy: 0.9999045133590698\n",
      "Validation - Autoencoder Loss: 0.0026418196503072977, Discriminator Loss: 0.027748953551054, Discriminator Accuracy: 0.9909806847572327\n"
     ]
    },
    {
     "name": "stderr",
     "output_type": "stream",
     "text": [
      "100%|██████████| 491/491 [02:30<00:00,  3.26it/s]\n"
     ]
    },
    {
     "name": "stdout",
     "output_type": "stream",
     "text": [
      "Epoch 42, Autoencoder Loss: 0.0015297698555514216, Discriminator Loss: 0.0020817662589251995, Discriminator Accuracy: 0.9999681711196899\n",
      "Validation - Autoencoder Loss: 0.0026265045162290335, Discriminator Loss: 0.04685083404183388, Discriminator Accuracy: 0.9856530427932739\n"
     ]
    },
    {
     "name": "stderr",
     "output_type": "stream",
     "text": [
      "100%|██████████| 491/491 [02:30<00:00,  3.26it/s]\n"
     ]
    },
    {
     "name": "stdout",
     "output_type": "stream",
     "text": [
      "Epoch 43, Autoencoder Loss: 0.0015488823410123587, Discriminator Loss: 0.0034113931469619274, Discriminator Accuracy: 0.9999363422393799\n",
      "Validation - Autoencoder Loss: 0.0025796827394515276, Discriminator Loss: 0.03505227714776993, Discriminator Accuracy: 0.9898374080657959\n"
     ]
    },
    {
     "name": "stderr",
     "output_type": "stream",
     "text": [
      "100%|██████████| 491/491 [02:30<00:00,  3.25it/s]\n"
     ]
    },
    {
     "name": "stdout",
     "output_type": "stream",
     "text": [
      "Epoch 44, Autoencoder Loss: 0.0015016243560239673, Discriminator Loss: 0.0020953910425305367, Discriminator Accuracy: 0.9999363422393799\n",
      "Validation - Autoencoder Loss: 0.0026144348084926605, Discriminator Loss: 0.022842571139335632, Discriminator Accuracy: 0.9925050735473633\n"
     ]
    },
    {
     "name": "stderr",
     "output_type": "stream",
     "text": [
      "100%|██████████| 491/491 [02:30<00:00,  3.27it/s]\n"
     ]
    },
    {
     "name": "stdout",
     "output_type": "stream",
     "text": [
      "Epoch 45, Autoencoder Loss: 0.0014894723426550627, Discriminator Loss: 0.00020874181063845754, Discriminator Accuracy: 0.9999681711196899\n",
      "Validation - Autoencoder Loss: 0.0025811190716922283, Discriminator Loss: 0.02349412627518177, Discriminator Accuracy: 0.9914888143539429\n"
     ]
    },
    {
     "name": "stderr",
     "output_type": "stream",
     "text": [
      "100%|██████████| 491/491 [02:32<00:00,  3.22it/s]\n"
     ]
    },
    {
     "name": "stdout",
     "output_type": "stream",
     "text": [
      "Epoch 46, Autoencoder Loss: 0.0014968805480748415, Discriminator Loss: 0.008799451403319836, Discriminator Accuracy: 0.9997135996818542\n",
      "Validation - Autoencoder Loss: 0.0026681500021368265, Discriminator Loss: 0.0353492833673954, Discriminator Accuracy: 0.9865345358848572\n"
     ]
    },
    {
     "name": "stderr",
     "output_type": "stream",
     "text": [
      "100%|██████████| 491/491 [02:30<00:00,  3.25it/s]\n"
     ]
    },
    {
     "name": "stdout",
     "output_type": "stream",
     "text": [
      "Epoch 47, Autoencoder Loss: 0.0014641218585893512, Discriminator Loss: 0.0014298770111054182, Discriminator Accuracy: 1.0\n",
      "Validation - Autoencoder Loss: 0.0027466430328786373, Discriminator Loss: 0.0261977706104517, Discriminator Accuracy: 0.991115391254425\n"
     ]
    },
    {
     "name": "stderr",
     "output_type": "stream",
     "text": [
      "100%|██████████| 491/491 [02:30<00:00,  3.26it/s]\n"
     ]
    },
    {
     "name": "stdout",
     "output_type": "stream",
     "text": [
      "Epoch 48, Autoencoder Loss: 0.0014373240992426872, Discriminator Loss: 0.0011213921243324876, Discriminator Accuracy: 0.9999363422393799\n",
      "Validation - Autoencoder Loss: 0.002654649782925844, Discriminator Loss: 0.020855100825428963, Discriminator Accuracy: 0.9928938746452332\n"
     ]
    },
    {
     "name": "stderr",
     "output_type": "stream",
     "text": [
      "100%|██████████| 491/491 [02:30<00:00,  3.27it/s]\n"
     ]
    },
    {
     "name": "stdout",
     "output_type": "stream",
     "text": [
      "Epoch 49, Autoencoder Loss: 0.0014372407458722591, Discriminator Loss: 0.0001600107061676681, Discriminator Accuracy: 1.0\n",
      "Validation - Autoencoder Loss: 0.0026352968998253345, Discriminator Loss: 0.021911079064011574, Discriminator Accuracy: 0.9923780560493469\n"
     ]
    },
    {
     "name": "stderr",
     "output_type": "stream",
     "text": [
      "100%|██████████| 491/491 [02:30<00:00,  3.26it/s]\n"
     ]
    },
    {
     "name": "stdout",
     "output_type": "stream",
     "text": [
      "Epoch 50, Autoencoder Loss: 0.0014242635807022452, Discriminator Loss: 0.00443187914788723, Discriminator Accuracy: 0.9998090863227844\n",
      "Validation - Autoencoder Loss: 0.00262657948769629, Discriminator Loss: 0.02262434922158718, Discriminator Accuracy: 0.9918776154518127\n"
     ]
    },
    {
     "name": "stderr",
     "output_type": "stream",
     "text": [
      "100%|██████████| 491/491 [02:30<00:00,  3.25it/s]\n"
     ]
    },
    {
     "name": "stdout",
     "output_type": "stream",
     "text": [
      "Epoch 51, Autoencoder Loss: 0.001423796289600432, Discriminator Loss: 0.0007915279711596668, Discriminator Accuracy: 1.0\n",
      "Validation - Autoencoder Loss: 0.0026106860022991896, Discriminator Loss: 0.026012994349002838, Discriminator Accuracy: 0.9920046329498291\n"
     ]
    },
    {
     "name": "stderr",
     "output_type": "stream",
     "text": [
      "100%|██████████| 491/491 [02:30<00:00,  3.26it/s]\n"
     ]
    },
    {
     "name": "stdout",
     "output_type": "stream",
     "text": [
      "Epoch 52, Autoencoder Loss: 0.0013784292386844754, Discriminator Loss: 0.0006636363104917109, Discriminator Accuracy: 0.9999681711196899\n",
      "Validation - Autoencoder Loss: 0.002777896821498871, Discriminator Loss: 0.03142905980348587, Discriminator Accuracy: 0.9892176389694214\n"
     ]
    },
    {
     "name": "stderr",
     "output_type": "stream",
     "text": [
      "100%|██████████| 491/491 [02:30<00:00,  3.26it/s]\n"
     ]
    },
    {
     "name": "stdout",
     "output_type": "stream",
     "text": [
      "Epoch 53, Autoencoder Loss: 0.0013935811584815383, Discriminator Loss: 0.0021442812867462635, Discriminator Accuracy: 1.0\n",
      "Validation - Autoencoder Loss: 0.0028304588049650192, Discriminator Loss: 0.021384334191679955, Discriminator Accuracy: 0.9928861856460571\n"
     ]
    },
    {
     "name": "stderr",
     "output_type": "stream",
     "text": [
      "100%|██████████| 491/491 [02:30<00:00,  3.27it/s]\n"
     ]
    },
    {
     "name": "stdout",
     "output_type": "stream",
     "text": [
      "Epoch 54, Autoencoder Loss: 0.0013595693744719028, Discriminator Loss: 0.0026428732089698315, Discriminator Accuracy: 0.9999681711196899\n",
      "Validation - Autoencoder Loss: 0.0047880480997264385, Discriminator Loss: 0.03243406116962433, Discriminator Accuracy: 0.9886941313743591\n"
     ]
    },
    {
     "name": "stderr",
     "output_type": "stream",
     "text": [
      "100%|██████████| 491/491 [02:30<00:00,  3.27it/s]\n"
     ]
    },
    {
     "name": "stdout",
     "output_type": "stream",
     "text": [
      "Epoch 55, Autoencoder Loss: 0.001512089278548956, Discriminator Loss: 0.011836777441203594, Discriminator Accuracy: 0.9990771412849426\n",
      "Validation - Autoencoder Loss: 0.0026413958985358477, Discriminator Loss: 0.02971358224749565, Discriminator Accuracy: 0.9909806847572327\n"
     ]
    },
    {
     "name": "stderr",
     "output_type": "stream",
     "text": [
      "100%|██████████| 491/491 [02:31<00:00,  3.24it/s]\n"
     ]
    },
    {
     "name": "stdout",
     "output_type": "stream",
     "text": [
      "Epoch 56, Autoencoder Loss: 0.001314120483584702, Discriminator Loss: 0.00016522337682545185, Discriminator Accuracy: 1.0\n",
      "Validation - Autoencoder Loss: 0.0026258493307977915, Discriminator Loss: 0.02067035622894764, Discriminator Accuracy: 0.9939024448394775\n"
     ]
    },
    {
     "name": "stderr",
     "output_type": "stream",
     "text": [
      "100%|██████████| 491/491 [02:31<00:00,  3.25it/s]\n"
     ]
    },
    {
     "name": "stdout",
     "output_type": "stream",
     "text": [
      "Epoch 57, Autoencoder Loss: 0.00132634153123945, Discriminator Loss: 3.9816244679968804e-05, Discriminator Accuracy: 1.0\n",
      "Validation - Autoencoder Loss: 0.002626921283081174, Discriminator Loss: 0.020263805985450745, Discriminator Accuracy: 0.9947916865348816\n"
     ]
    },
    {
     "name": "stderr",
     "output_type": "stream",
     "text": [
      "100%|██████████| 491/491 [02:30<00:00,  3.26it/s]\n"
     ]
    },
    {
     "name": "stdout",
     "output_type": "stream",
     "text": [
      "Epoch 58, Autoencoder Loss: 0.001325115212239325, Discriminator Loss: 4.7287612687796354e-05, Discriminator Accuracy: 1.0\n",
      "Validation - Autoencoder Loss: 0.002703918842598796, Discriminator Loss: 0.0235169418156147, Discriminator Accuracy: 0.9933943152427673\n"
     ]
    },
    {
     "name": "stderr",
     "output_type": "stream",
     "text": [
      "100%|██████████| 491/491 [02:31<00:00,  3.25it/s]\n"
     ]
    },
    {
     "name": "stdout",
     "output_type": "stream",
     "text": [
      "Epoch 59, Autoencoder Loss: 0.0013289627386257052, Discriminator Loss: 0.007887382991611958, Discriminator Accuracy: 0.9996817708015442\n",
      "Validation - Autoencoder Loss: 0.0026920957025140524, Discriminator Loss: 0.023549022153019905, Discriminator Accuracy: 0.9905995726585388\n"
     ]
    },
    {
     "name": "stderr",
     "output_type": "stream",
     "text": [
      "100%|██████████| 491/491 [02:30<00:00,  3.27it/s]\n"
     ]
    },
    {
     "name": "stdout",
     "output_type": "stream",
     "text": [
      "Epoch 60, Autoencoder Loss: 0.001302147633396089, Discriminator Loss: 0.00041441290522925556, Discriminator Accuracy: 1.0\n",
      "Validation - Autoencoder Loss: 0.002704784506931901, Discriminator Loss: 0.023492468520998955, Discriminator Accuracy: 0.9922587275505066\n"
     ]
    },
    {
     "name": "stderr",
     "output_type": "stream",
     "text": [
      "100%|██████████| 491/491 [02:30<00:00,  3.26it/s]\n"
     ]
    },
    {
     "name": "stdout",
     "output_type": "stream",
     "text": [
      "Epoch 61, Autoencoder Loss: 0.0012929915683344007, Discriminator Loss: 3.51552153006196e-05, Discriminator Accuracy: 1.0\n",
      "Validation - Autoencoder Loss: 0.002732120221480727, Discriminator Loss: 0.02123219706118107, Discriminator Accuracy: 0.993274986743927\n"
     ]
    },
    {
     "name": "stderr",
     "output_type": "stream",
     "text": [
      "100%|██████████| 491/491 [02:30<00:00,  3.26it/s]\n"
     ]
    },
    {
     "name": "stdout",
     "output_type": "stream",
     "text": [
      "Epoch 62, Autoencoder Loss: 0.0013287917245179415, Discriminator Loss: 0.003955814056098461, Discriminator Accuracy: 0.9998726844787598\n",
      "Validation - Autoencoder Loss: 0.0026560036931186914, Discriminator Loss: 0.022601544857025146, Discriminator Accuracy: 0.9917429089546204\n"
     ]
    },
    {
     "name": "stderr",
     "output_type": "stream",
     "text": [
      "100%|██████████| 491/491 [02:31<00:00,  3.25it/s]\n"
     ]
    },
    {
     "name": "stdout",
     "output_type": "stream",
     "text": [
      "Epoch 63, Autoencoder Loss: 0.0012553457636386156, Discriminator Loss: 0.0018845121376216412, Discriminator Accuracy: 0.9999363422393799\n",
      "Validation - Autoencoder Loss: 0.0026068012230098248, Discriminator Loss: 0.024105671793222427, Discriminator Accuracy: 0.9913694858551025\n"
     ]
    },
    {
     "name": "stderr",
     "output_type": "stream",
     "text": [
      "100%|██████████| 491/491 [02:30<00:00,  3.26it/s]\n"
     ]
    },
    {
     "name": "stdout",
     "output_type": "stream",
     "text": [
      "Epoch 64, Autoencoder Loss: 0.0012588129611685872, Discriminator Loss: 0.0006796565721742809, Discriminator Accuracy: 1.0\n",
      "Validation - Autoencoder Loss: 0.002597277518361807, Discriminator Loss: 0.02021344192326069, Discriminator Accuracy: 0.993274986743927\n"
     ]
    },
    {
     "name": "stderr",
     "output_type": "stream",
     "text": [
      "100%|██████████| 491/491 [02:30<00:00,  3.26it/s]\n"
     ]
    },
    {
     "name": "stdout",
     "output_type": "stream",
     "text": [
      "Epoch 65, Autoencoder Loss: 0.0012630947167053819, Discriminator Loss: 0.0001484943350078538, Discriminator Accuracy: 1.0\n",
      "Validation - Autoencoder Loss: 0.00297837913967669, Discriminator Loss: 0.023010602220892906, Discriminator Accuracy: 0.9925050735473633\n"
     ]
    },
    {
     "name": "stderr",
     "output_type": "stream",
     "text": [
      "100%|██████████| 491/491 [02:30<00:00,  3.26it/s]\n"
     ]
    },
    {
     "name": "stdout",
     "output_type": "stream",
     "text": [
      "Epoch 66, Autoencoder Loss: 0.0012545627541840076, Discriminator Loss: 0.001859538722783327, Discriminator Accuracy: 0.9998726844787598\n",
      "Validation - Autoencoder Loss: 0.002639275975525379, Discriminator Loss: 0.02657359652221203, Discriminator Accuracy: 0.993267297744751\n"
     ]
    },
    {
     "name": "stderr",
     "output_type": "stream",
     "text": [
      "100%|██████████| 491/491 [02:32<00:00,  3.22it/s]\n"
     ]
    },
    {
     "name": "stdout",
     "output_type": "stream",
     "text": [
      "Epoch 67, Autoencoder Loss: 0.001228746259585023, Discriminator Loss: 0.00014793103036936373, Discriminator Accuracy: 1.0\n",
      "Validation - Autoencoder Loss: 0.002717646537348628, Discriminator Loss: 0.02381744794547558, Discriminator Accuracy: 0.9935213327407837\n"
     ]
    },
    {
     "name": "stderr",
     "output_type": "stream",
     "text": [
      "100%|██████████| 491/491 [02:32<00:00,  3.21it/s]\n"
     ]
    },
    {
     "name": "stdout",
     "output_type": "stream",
     "text": [
      "Epoch 68, Autoencoder Loss: 0.0012472637463361025, Discriminator Loss: 3.662007293314673e-05, Discriminator Accuracy: 1.0\n",
      "Validation - Autoencoder Loss: 0.0026216283440589905, Discriminator Loss: 0.02478172443807125, Discriminator Accuracy: 0.9945375919342041\n"
     ]
    },
    {
     "name": "stderr",
     "output_type": "stream",
     "text": [
      "100%|██████████| 491/491 [02:32<00:00,  3.22it/s]\n"
     ]
    },
    {
     "name": "stdout",
     "output_type": "stream",
     "text": [
      "Epoch 69, Autoencoder Loss: 0.0012320687528699636, Discriminator Loss: 0.007009041029959917, Discriminator Accuracy: 0.9996499419212341\n",
      "Validation - Autoencoder Loss: 0.0026249466463923454, Discriminator Loss: 0.025772318243980408, Discriminator Accuracy: 0.9925050735473633\n"
     ]
    },
    {
     "name": "stderr",
     "output_type": "stream",
     "text": [
      "100%|██████████| 491/491 [02:32<00:00,  3.21it/s]\n"
     ]
    },
    {
     "name": "stdout",
     "output_type": "stream",
     "text": [
      "Epoch 70, Autoencoder Loss: 0.0012157786404713988, Discriminator Loss: 0.0012475113617256284, Discriminator Accuracy: 1.0\n",
      "Validation - Autoencoder Loss: 0.0026597087271511555, Discriminator Loss: 0.019560616463422775, Discriminator Accuracy: 0.9935213327407837\n"
     ]
    },
    {
     "name": "stderr",
     "output_type": "stream",
     "text": [
      "100%|██████████| 491/491 [02:33<00:00,  3.21it/s]\n"
     ]
    },
    {
     "name": "stdout",
     "output_type": "stream",
     "text": [
      "Epoch 71, Autoencoder Loss: 0.0012103996705263853, Discriminator Loss: 0.0009526818175800145, Discriminator Accuracy: 1.0\n",
      "Validation - Autoencoder Loss: 0.0028062944766134024, Discriminator Loss: 0.027108989655971527, Discriminator Accuracy: 0.9919969439506531\n"
     ]
    },
    {
     "name": "stderr",
     "output_type": "stream",
     "text": [
      "100%|██████████| 491/491 [02:33<00:00,  3.20it/s]\n"
     ]
    },
    {
     "name": "stdout",
     "output_type": "stream",
     "text": [
      "Epoch 72, Autoencoder Loss: 0.0011997317196801305, Discriminator Loss: 0.00017994710651692003, Discriminator Accuracy: 1.0\n",
      "Validation - Autoencoder Loss: 0.0026434201281517744, Discriminator Loss: 0.021250704303383827, Discriminator Accuracy: 0.9942835569381714\n"
     ]
    },
    {
     "name": "stderr",
     "output_type": "stream",
     "text": [
      "100%|██████████| 491/491 [02:32<00:00,  3.22it/s]\n"
     ]
    },
    {
     "name": "stdout",
     "output_type": "stream",
     "text": [
      "Epoch 73, Autoencoder Loss: 0.0012022905284538865, Discriminator Loss: 3.283907790319063e-05, Discriminator Accuracy: 1.0\n",
      "Validation - Autoencoder Loss: 0.00260657025501132, Discriminator Loss: 0.020711062476038933, Discriminator Accuracy: 0.9933943152427673\n"
     ]
    },
    {
     "name": "stderr",
     "output_type": "stream",
     "text": [
      "100%|██████████| 491/491 [02:30<00:00,  3.26it/s]\n"
     ]
    },
    {
     "name": "stdout",
     "output_type": "stream",
     "text": [
      "Epoch 74, Autoencoder Loss: 0.0011903451522812247, Discriminator Loss: 1.135779621108668e-05, Discriminator Accuracy: 1.0\n",
      "Validation - Autoencoder Loss: 0.002622674684971571, Discriminator Loss: 0.020428374409675598, Discriminator Accuracy: 0.9942835569381714\n"
     ]
    },
    {
     "name": "stderr",
     "output_type": "stream",
     "text": [
      "100%|██████████| 491/491 [03:21<00:00,  2.43it/s]\n"
     ]
    },
    {
     "name": "stdout",
     "output_type": "stream",
     "text": [
      "Epoch 75, Autoencoder Loss: 0.001181691070087254, Discriminator Loss: 1.9713048459379934e-05, Discriminator Accuracy: 1.0\n",
      "Validation - Autoencoder Loss: 0.0025966460816562176, Discriminator Loss: 0.019882217049598694, Discriminator Accuracy: 0.9947916865348816\n"
     ]
    },
    {
     "name": "stderr",
     "output_type": "stream",
     "text": [
      "100%|██████████| 491/491 [02:30<00:00,  3.26it/s]\n"
     ]
    },
    {
     "name": "stdout",
     "output_type": "stream",
     "text": [
      "Epoch 76, Autoencoder Loss: 0.0011740861227735877, Discriminator Loss: 3.2811205983307445e-06, Discriminator Accuracy: 1.0\n",
      "Validation - Autoencoder Loss: 0.0026709341909736395, Discriminator Loss: 0.02122599259018898, Discriminator Accuracy: 0.9944105744361877\n"
     ]
    },
    {
     "name": "stderr",
     "output_type": "stream",
     "text": [
      "100%|██████████| 491/491 [02:30<00:00,  3.27it/s]\n"
     ]
    },
    {
     "name": "stdout",
     "output_type": "stream",
     "text": [
      "Epoch 77, Autoencoder Loss: 0.001175355981104076, Discriminator Loss: 7.002272468525916e-06, Discriminator Accuracy: 1.0\n",
      "Validation - Autoencoder Loss: 0.002628467744216323, Discriminator Loss: 0.021304992958903313, Discriminator Accuracy: 0.9940294623374939\n"
     ]
    },
    {
     "name": "stderr",
     "output_type": "stream",
     "text": [
      "100%|██████████| 491/491 [02:30<00:00,  3.27it/s]\n"
     ]
    },
    {
     "name": "stdout",
     "output_type": "stream",
     "text": [
      "Epoch 78, Autoencoder Loss: 0.0011591948568820953, Discriminator Loss: 0.008056124672293663, Discriminator Accuracy: 0.999554455280304\n",
      "Validation - Autoencoder Loss: 0.0027799936942756176, Discriminator Loss: 0.02710113115608692, Discriminator Accuracy: 0.9900914430618286\n"
     ]
    },
    {
     "name": "stderr",
     "output_type": "stream",
     "text": [
      "100%|██████████| 491/491 [02:30<00:00,  3.26it/s]\n"
     ]
    },
    {
     "name": "stdout",
     "output_type": "stream",
     "text": [
      "Epoch 79, Autoencoder Loss: 0.001157275284640491, Discriminator Loss: 0.0006243649986572564, Discriminator Accuracy: 1.0\n",
      "Validation - Autoencoder Loss: 0.002700882963836193, Discriminator Loss: 0.028690466657280922, Discriminator Accuracy: 0.9903455376625061\n"
     ]
    },
    {
     "name": "stderr",
     "output_type": "stream",
     "text": [
      "100%|██████████| 491/491 [02:30<00:00,  3.27it/s]\n"
     ]
    },
    {
     "name": "stdout",
     "output_type": "stream",
     "text": [
      "Epoch 80, Autoencoder Loss: 0.0011573656229302287, Discriminator Loss: 0.00045759009663015604, Discriminator Accuracy: 1.0\n",
      "Validation - Autoencoder Loss: 0.003606759011745453, Discriminator Loss: 0.03597541153430939, Discriminator Accuracy: 0.9876932501792908\n"
     ]
    },
    {
     "name": "stderr",
     "output_type": "stream",
     "text": [
      "100%|██████████| 491/491 [02:30<00:00,  3.25it/s]\n"
     ]
    },
    {
     "name": "stdout",
     "output_type": "stream",
     "text": [
      "Epoch 81, Autoencoder Loss: 0.0011553970398381352, Discriminator Loss: 0.0015183318173512816, Discriminator Accuracy: 1.0\n",
      "Validation - Autoencoder Loss: 0.002747331280261278, Discriminator Loss: 0.040701974183321, Discriminator Accuracy: 0.9855259656906128\n"
     ]
    },
    {
     "name": "stderr",
     "output_type": "stream",
     "text": [
      "100%|██████████| 491/491 [02:31<00:00,  3.25it/s]\n"
     ]
    },
    {
     "name": "stdout",
     "output_type": "stream",
     "text": [
      "Epoch 82, Autoencoder Loss: 0.0011352567235007882, Discriminator Loss: 0.00213538552634418, Discriminator Accuracy: 1.0\n",
      "Validation - Autoencoder Loss: 0.0028994798194617033, Discriminator Loss: 0.02585618384182453, Discriminator Accuracy: 0.9927591681480408\n"
     ]
    },
    {
     "name": "stderr",
     "output_type": "stream",
     "text": [
      "100%|██████████| 491/491 [02:30<00:00,  3.26it/s]\n"
     ]
    },
    {
     "name": "stdout",
     "output_type": "stream",
     "text": [
      "Epoch 83, Autoencoder Loss: 0.0011318627512082458, Discriminator Loss: 4.5854380005039275e-05, Discriminator Accuracy: 1.0\n",
      "Validation - Autoencoder Loss: 0.0026765798684209585, Discriminator Loss: 0.025843361392617226, Discriminator Accuracy: 0.9930132031440735\n"
     ]
    },
    {
     "name": "stderr",
     "output_type": "stream",
     "text": [
      "100%|██████████| 491/491 [02:30<00:00,  3.26it/s]\n"
     ]
    },
    {
     "name": "stdout",
     "output_type": "stream",
     "text": [
      "Epoch 84, Autoencoder Loss: 0.0011238022707402706, Discriminator Loss: 3.084807758568786e-05, Discriminator Accuracy: 1.0\n",
      "Validation - Autoencoder Loss: 0.0026748827658593655, Discriminator Loss: 0.026928603649139404, Discriminator Accuracy: 0.9927591681480408\n"
     ]
    },
    {
     "name": "stderr",
     "output_type": "stream",
     "text": [
      "100%|██████████| 491/491 [02:31<00:00,  3.25it/s]\n"
     ]
    },
    {
     "name": "stdout",
     "output_type": "stream",
     "text": [
      "Epoch 85, Autoencoder Loss: 0.0011197259882465005, Discriminator Loss: 4.106309461349156e-06, Discriminator Accuracy: 1.0\n",
      "Validation - Autoencoder Loss: 0.002703899284824729, Discriminator Loss: 0.025534674525260925, Discriminator Accuracy: 0.992385745048523\n"
     ]
    },
    {
     "name": "stderr",
     "output_type": "stream",
     "text": [
      "100%|██████████| 491/491 [02:30<00:00,  3.26it/s]\n"
     ]
    },
    {
     "name": "stdout",
     "output_type": "stream",
     "text": [
      "Epoch 86, Autoencoder Loss: 0.001122974674217403, Discriminator Loss: 1.1717624147422612e-05, Discriminator Accuracy: 1.0\n",
      "Validation - Autoencoder Loss: 0.0027239746414124966, Discriminator Loss: 0.02522360160946846, Discriminator Accuracy: 0.9926320910453796\n"
     ]
    },
    {
     "name": "stderr",
     "output_type": "stream",
     "text": [
      "100%|██████████| 491/491 [02:30<00:00,  3.26it/s]\n"
     ]
    },
    {
     "name": "stdout",
     "output_type": "stream",
     "text": [
      "Epoch 87, Autoencoder Loss: 0.001115914317779243, Discriminator Loss: 0.004972158465534449, Discriminator Accuracy: 0.999586284160614\n",
      "Validation - Autoencoder Loss: 0.002670285990461707, Discriminator Loss: 0.03175203874707222, Discriminator Accuracy: 0.9893292784690857\n"
     ]
    },
    {
     "name": "stderr",
     "output_type": "stream",
     "text": [
      "100%|██████████| 491/491 [02:30<00:00,  3.26it/s]\n"
     ]
    },
    {
     "name": "stdout",
     "output_type": "stream",
     "text": [
      "Epoch 88, Autoencoder Loss: 0.0011110759805887938, Discriminator Loss: 0.0008583293529227376, Discriminator Accuracy: 1.0\n",
      "Validation - Autoencoder Loss: 0.0025880178436636925, Discriminator Loss: 0.030530394986271858, Discriminator Accuracy: 0.991107702255249\n"
     ]
    },
    {
     "name": "stderr",
     "output_type": "stream",
     "text": [
      "100%|██████████| 491/491 [02:32<00:00,  3.22it/s]\n"
     ]
    },
    {
     "name": "stdout",
     "output_type": "stream",
     "text": [
      "Epoch 89, Autoencoder Loss: 0.0011026794090867043, Discriminator Loss: 0.00021994122653268278, Discriminator Accuracy: 1.0\n",
      "Validation - Autoencoder Loss: 0.002802087925374508, Discriminator Loss: 0.03128134086728096, Discriminator Accuracy: 0.9902262091636658\n"
     ]
    },
    {
     "name": "stderr",
     "output_type": "stream",
     "text": [
      "100%|██████████| 491/491 [02:30<00:00,  3.25it/s]\n"
     ]
    },
    {
     "name": "stdout",
     "output_type": "stream",
     "text": [
      "Epoch 90, Autoencoder Loss: 0.0010950160212814808, Discriminator Loss: 1.4518448551825713e-05, Discriminator Accuracy: 1.0\n",
      "Validation - Autoencoder Loss: 0.0027246351819485426, Discriminator Loss: 0.02728949673473835, Discriminator Accuracy: 0.9928861856460571\n"
     ]
    },
    {
     "name": "stderr",
     "output_type": "stream",
     "text": [
      "100%|██████████| 491/491 [02:31<00:00,  3.23it/s]\n"
     ]
    },
    {
     "name": "stdout",
     "output_type": "stream",
     "text": [
      "Epoch 91, Autoencoder Loss: 0.0010897056199610233, Discriminator Loss: 8.42992085381411e-06, Discriminator Accuracy: 1.0\n",
      "Validation - Autoencoder Loss: 0.002601282438263297, Discriminator Loss: 0.02876240387558937, Discriminator Accuracy: 0.9926320910453796\n"
     ]
    },
    {
     "name": "stderr",
     "output_type": "stream",
     "text": [
      "100%|██████████| 491/491 [02:31<00:00,  3.24it/s]\n"
     ]
    },
    {
     "name": "stdout",
     "output_type": "stream",
     "text": [
      "Epoch 92, Autoencoder Loss: 0.0010860695037990808, Discriminator Loss: 6.3562979448761325e-06, Discriminator Accuracy: 1.0\n",
      "Validation - Autoencoder Loss: 0.002741280710324645, Discriminator Loss: 0.027368294075131416, Discriminator Accuracy: 0.992385745048523\n"
     ]
    },
    {
     "name": "stderr",
     "output_type": "stream",
     "text": [
      "100%|██████████| 491/491 [02:33<00:00,  3.20it/s]\n"
     ]
    },
    {
     "name": "stdout",
     "output_type": "stream",
     "text": [
      "Epoch 93, Autoencoder Loss: 0.0010843622731044888, Discriminator Loss: 7.369080321950605e-06, Discriminator Accuracy: 1.0\n",
      "Validation - Autoencoder Loss: 0.0027280787471681833, Discriminator Loss: 0.028752479702234268, Discriminator Accuracy: 0.9925050735473633\n"
     ]
    },
    {
     "name": "stderr",
     "output_type": "stream",
     "text": [
      "100%|██████████| 491/491 [02:31<00:00,  3.24it/s]\n"
     ]
    },
    {
     "name": "stdout",
     "output_type": "stream",
     "text": [
      "Epoch 94, Autoencoder Loss: 0.0010921999346464872, Discriminator Loss: 0.0062516531907022, Discriminator Accuracy: 0.9999045133590698\n",
      "Validation - Autoencoder Loss: 0.002650954993441701, Discriminator Loss: 0.0433310829102993, Discriminator Accuracy: 0.9846367835998535\n"
     ]
    },
    {
     "name": "stderr",
     "output_type": "stream",
     "text": [
      "100%|██████████| 491/491 [02:31<00:00,  3.23it/s]\n"
     ]
    },
    {
     "name": "stdout",
     "output_type": "stream",
     "text": [
      "Epoch 95, Autoencoder Loss: 0.001063255942426622, Discriminator Loss: 0.0018198456382378936, Discriminator Accuracy: 1.0\n",
      "Validation - Autoencoder Loss: 0.0026819875929504633, Discriminator Loss: 0.02679590694606304, Discriminator Accuracy: 0.9918699264526367\n"
     ]
    },
    {
     "name": "stderr",
     "output_type": "stream",
     "text": [
      "100%|██████████| 491/491 [02:31<00:00,  3.24it/s]\n"
     ]
    },
    {
     "name": "stdout",
     "output_type": "stream",
     "text": [
      "Epoch 96, Autoencoder Loss: 0.0010720040882006288, Discriminator Loss: 6.579117325600237e-05, Discriminator Accuracy: 1.0\n",
      "Validation - Autoencoder Loss: 0.0027091740630567074, Discriminator Loss: 0.028925249353051186, Discriminator Accuracy: 0.9925127625465393\n"
     ]
    },
    {
     "name": "stderr",
     "output_type": "stream",
     "text": [
      "100%|██████████| 491/491 [02:31<00:00,  3.24it/s]\n"
     ]
    },
    {
     "name": "stdout",
     "output_type": "stream",
     "text": [
      "Epoch 97, Autoencoder Loss: 0.0010642989072948694, Discriminator Loss: 5.351516665541567e-05, Discriminator Accuracy: 1.0\n",
      "Validation - Autoencoder Loss: 0.002623121254146099, Discriminator Loss: 0.02703709714114666, Discriminator Accuracy: 0.9928938746452332\n"
     ]
    },
    {
     "name": "stderr",
     "output_type": "stream",
     "text": [
      "100%|██████████| 491/491 [02:31<00:00,  3.24it/s]\n"
     ]
    },
    {
     "name": "stdout",
     "output_type": "stream",
     "text": [
      "Epoch 98, Autoencoder Loss: 0.0010594530031085014, Discriminator Loss: 0.0010354571277275681, Discriminator Accuracy: 1.0\n",
      "Validation - Autoencoder Loss: 0.002664449391886592, Discriminator Loss: 0.027611197903752327, Discriminator Accuracy: 0.9921239614486694\n"
     ]
    },
    {
     "name": "stderr",
     "output_type": "stream",
     "text": [
      "100%|██████████| 491/491 [02:31<00:00,  3.24it/s]\n"
     ]
    },
    {
     "name": "stdout",
     "output_type": "stream",
     "text": [
      "Epoch 99, Autoencoder Loss: 0.001055004890076816, Discriminator Loss: 2.984675666084513e-05, Discriminator Accuracy: 1.0\n",
      "Validation - Autoencoder Loss: 0.0031211981549859047, Discriminator Loss: 0.029677802696824074, Discriminator Accuracy: 0.9923780560493469\n"
     ]
    }
   ],
   "source": [
    "autoencoder_losses_epoch = []\n",
    "discriminator_losses_epoch = []\n",
    "discriminator_acc_epoch = []\n",
    "val_autoencoder_losses_epoch = []\n",
    "val_discriminator_losses_epoch = []\n",
    "val_discriminator_acc_epoch = []\n",
    "\n",
    "for epoch in range(100):\n",
    "    # Initialize epoch-wise metrics\n",
    "    epoch_autoencoder_losses = []\n",
    "    epoch_discriminator_losses = []\n",
    "    epoch_discriminator_acc = []\n",
    "    epoch_val_autoencoder_losses = []\n",
    "    epoch_val_discriminator_losses = []\n",
    "    epoch_val_discriminator_acc = []\n",
    "\n",
    "    # Training loop\n",
    "    for idx, (batch_real, batch_label) in enumerate(tqdm(train_dataset)):\n",
    "        # Training steps\n",
    "        with tf.GradientTape() as autoencoder_tape, tf.GradientTape() as disc_tape:\n",
    "            latent_representation = encoder(batch_real)\n",
    "            generated_image = decoder(latent_representation)\n",
    "            loss_autoencoder = loss_fn_auto(batch_real, generated_image)\n",
    "            \n",
    "            fake = generated_image\n",
    "            loss_disc_real = loss_fn_disc(batch_label, discriminator(batch_real))\n",
    "            loss_disc_fake = loss_fn_disc(batch_label, discriminator(fake))\n",
    "            loss_disc = (loss_disc_real + loss_disc_fake) / 2\n",
    "\n",
    "        grads_autoencoder = autoencoder_tape.gradient(loss_autoencoder, autoencoder.trainable_weights)\n",
    "        opt_autoencoder.apply_gradients(zip(grads_autoencoder, autoencoder.trainable_weights))\n",
    "\n",
    "        grads_discriminator = disc_tape.gradient(loss_disc, discriminator.trainable_weights)\n",
    "        opt_disc.apply_gradients(zip(grads_discriminator, discriminator.trainable_weights))\n",
    "\n",
    "        # Store batch-wise metrics\n",
    "        epoch_autoencoder_losses.append(loss_autoencoder.numpy())\n",
    "        epoch_discriminator_losses.append(loss_disc.numpy())\n",
    "        epoch_discriminator_acc.append(tf.reduce_mean(tf.keras.metrics.categorical_accuracy(batch_label, discriminator(fake))).numpy())\n",
    "        if idx % 200 == 0:\n",
    "            img = tf.keras.preprocessing.image.array_to_img(fake[0])\n",
    "            img.save(f\"{save_dir}/generated_img_epoch_{epoch}_batch_{idx}.png\")\n",
    "\n",
    "    # Validation loop\n",
    "    for val_batch_real, val_batch_label in val_dataset:\n",
    "        val_latent_representation = encoder(val_batch_real)\n",
    "        val_generated_image = decoder(val_latent_representation)\n",
    "        val_loss_autoencoder = loss_fn_auto(val_batch_real, val_generated_image)\n",
    "        val_loss_disc_real = loss_fn_disc(val_batch_label, discriminator(val_batch_real))\n",
    "        val_loss_disc_fake = loss_fn_disc(val_batch_label, discriminator(val_generated_image))\n",
    "        val_loss_disc = (val_loss_disc_real + val_loss_disc_fake) / 2\n",
    "\n",
    "        # Calculate accuracy\n",
    "        val_discriminator_accuracy = tf.reduce_mean(tf.keras.metrics.categorical_accuracy(val_batch_label, discriminator(val_generated_image)))\n",
    "\n",
    "        # Store validation metrics\n",
    "        epoch_val_autoencoder_losses.append(val_loss_autoencoder.numpy())\n",
    "        epoch_val_discriminator_losses.append(val_loss_disc.numpy())\n",
    "        epoch_val_discriminator_acc.append(val_discriminator_accuracy.numpy())\n",
    "\n",
    "    # Calculate epoch-wise averages and append to the lists\n",
    "    avg_autoencoder_loss = np.mean(epoch_autoencoder_losses)\n",
    "    avg_discriminator_loss = np.mean(epoch_discriminator_losses)\n",
    "    avg_discriminator_acc = np.mean(epoch_discriminator_acc)\n",
    "    avg_val_autoencoder_loss = np.mean(epoch_val_autoencoder_losses)\n",
    "    avg_val_discriminator_loss = np.mean(epoch_val_discriminator_losses)\n",
    "    avg_val_discriminator_acc = np.mean(epoch_val_discriminator_acc)\n",
    "\n",
    "    autoencoder_losses_epoch.append(avg_autoencoder_loss)\n",
    "    discriminator_losses_epoch.append(avg_discriminator_loss)\n",
    "    discriminator_acc_epoch.append(avg_discriminator_acc)\n",
    "    val_autoencoder_losses_epoch.append(avg_val_autoencoder_loss)\n",
    "    val_discriminator_losses_epoch.append(avg_val_discriminator_loss)\n",
    "    val_discriminator_acc_epoch.append(avg_val_discriminator_acc)\n",
    "\n",
    "    # Print epoch-wise metrics\n",
    "    print(f\"Epoch {epoch}, Autoencoder Loss: {avg_autoencoder_loss}, Discriminator Loss: {avg_discriminator_loss}, Discriminator Accuracy: {avg_discriminator_acc}\")\n",
    "    print(f\"Validation - Autoencoder Loss: {avg_val_autoencoder_loss}, Discriminator Loss: {avg_val_discriminator_loss}, Discriminator Accuracy: {avg_val_discriminator_acc}\")\n"
   ]
  },
  {
   "cell_type": "code",
   "execution_count": 10,
   "id": "eed5a4be",
   "metadata": {
    "execution": {
     "iopub.execute_input": "2024-05-15T23:36:21.645867Z",
     "iopub.status.busy": "2024-05-15T23:36:21.645512Z",
     "iopub.status.idle": "2024-05-15T23:36:22.854624Z",
     "shell.execute_reply": "2024-05-15T23:36:22.853709Z"
    },
    "papermill": {
     "duration": 5.136655,
     "end_time": "2024-05-15T23:36:22.856634",
     "exception": false,
     "start_time": "2024-05-15T23:36:17.719979",
     "status": "completed"
    },
    "tags": []
   },
   "outputs": [
    {
     "data": {
      "image/png": "[encoded data removed]",
      "text/plain": [
       "<Figure size 1200x600 with 1 Axes>"
      ]
     },
     "metadata": {},
     "output_type": "display_data"
    },
    {
     "data": {
      "image/png": "[encoded data removed]",
      "text/plain": [
       "<Figure size 1200x600 with 1 Axes>"
      ]
     },
     "metadata": {},
     "output_type": "display_data"
    },
    {
     "data": {
      "image/png": "[encoded data removed]",
      "text/plain": [
       "<Figure size 1200x600 with 1 Axes>"
      ]
     },
     "metadata": {},
     "output_type": "display_data"
    }
   ],
   "source": [
    "import matplotlib.pyplot as plt\n",
    "\n",
    "# Plot autoencoder losses\n",
    "plt.figure(figsize=(12, 6))\n",
    "plt.plot(autoencoder_losses_epoch, label='Training Autoencoder Loss')\n",
    "plt.plot(val_autoencoder_losses_epoch, label='Validation Autoencoder Loss')\n",
    "plt.xlabel('Epoch')\n",
    "plt.ylabel('Loss')\n",
    "plt.title('Training and Validation Autoencoder Losses')\n",
    "plt.legend()\n",
    "plt.savefig('autoencoder_losses.png')  # Save the plot as an image\n",
    "plt.show()\n",
    "\n",
    "# Plot discriminator losses\n",
    "plt.figure(figsize=(12, 6))\n",
    "plt.plot(discriminator_losses_epoch, label='Training Discriminator Loss')\n",
    "plt.plot(val_discriminator_losses_epoch, label='Validation Discriminator Loss')\n",
    "plt.xlabel('Epoch')\n",
    "plt.ylabel('Loss')\n",
    "plt.title('Training and Validation Discriminator Losses')\n",
    "plt.legend()\n",
    "plt.savefig('discriminator_losses.png')  # Save the plot as an image\n",
    "plt.show()\n",
    "\n",
    "# Plot discriminator accuracy\n",
    "plt.figure(figsize=(12, 6))\n",
    "plt.plot(discriminator_acc_epoch, label='Training Discriminator Accuracy')\n",
    "plt.plot(val_discriminator_acc_epoch, label='Validation Discriminator Accuracy')\n",
    "plt.xlabel('Epoch')\n",
    "plt.ylabel('Accuracy')\n",
    "plt.title('Training and Validation Discriminator Accuracy')\n",
    "plt.legend()\n",
    "plt.savefig('discriminator_accuracy.png')  # Save the plot as an image\n",
    "plt.show()\n"
   ]
  },
  {
   "cell_type": "code",
   "execution_count": 11,
   "id": "4ed94c36",
   "metadata": {
    "execution": {
     "iopub.execute_input": "2024-05-15T23:36:31.042640Z",
     "iopub.status.busy": "2024-05-15T23:36:31.042226Z",
     "iopub.status.idle": "2024-05-15T23:36:32.280966Z",
     "shell.execute_reply": "2024-05-15T23:36:32.280101Z"
    },
    "papermill": {
     "duration": 5.280272,
     "end_time": "2024-05-15T23:36:32.283286",
     "exception": false,
     "start_time": "2024-05-15T23:36:27.003014",
     "status": "completed"
    },
    "tags": []
   },
   "outputs": [
    {
     "data": {
      "image/png": "[encoded data removed]",
      "text/plain": [
       "<Figure size 1200x600 with 1 Axes>"
      ]
     },
     "metadata": {},
     "output_type": "display_data"
    },
    {
     "data": {
      "image/png": "[encoded data removed]",
      "text/plain": [
       "<Figure size 1200x600 with 1 Axes>"
      ]
     },
     "metadata": {},
     "output_type": "display_data"
    },
    {
     "data": {
      "image/png": "[encoded data removed]",
      "text/plain": [
       "<Figure size 1200x600 with 1 Axes>"
      ]
     },
     "metadata": {},
     "output_type": "display_data"
    }
   ],
   "source": [
    "import matplotlib.pyplot as plt\n",
    "from matplotlib import rcParams\n",
    "\n",
    "# Set font properties\n",
    "rcParams['font.family'] = 'Times New Roman'\n",
    "rcParams['font.size'] = 12\n",
    "\n",
    "# Plot autoencoder losses\n",
    "plt.figure(figsize=(12, 6))\n",
    "plt.plot(autoencoder_losses_epoch, label='Training Autoencoder Loss')\n",
    "plt.plot(val_autoencoder_losses_epoch, label='Validation Autoencoder Loss')\n",
    "plt.xlabel('Epoch')\n",
    "plt.ylabel('Loss')\n",
    "plt.title('Training and Validation Autoencoder Losses')\n",
    "plt.legend()\n",
    "plt.savefig('autoencoder_losses12.png')  # Save the plot as an image\n",
    "plt.show()\n",
    "\n",
    "# Plot discriminator losses\n",
    "plt.figure(figsize=(12, 6))\n",
    "plt.plot(discriminator_losses_epoch, label='Training Discriminator Loss')\n",
    "plt.plot(val_discriminator_losses_epoch, label='Validation Discriminator Loss')\n",
    "plt.xlabel('Epoch')\n",
    "plt.ylabel('Loss')\n",
    "plt.title('Training and Validation Discriminator Losses')\n",
    "plt.legend()\n",
    "plt.savefig('discriminator_losses12.png')  # Save the plot as an image\n",
    "plt.show()\n",
    "\n",
    "# Plot discriminator accuracy\n",
    "plt.figure(figsize=(12, 6))\n",
    "plt.plot(discriminator_acc_epoch, label='Training Discriminator Accuracy')\n",
    "plt.plot(val_discriminator_acc_epoch, label='Validation Discriminator Accuracy')\n",
    "plt.xlabel('Epoch')\n",
    "plt.ylabel('Accuracy')\n",
    "plt.title('Training and Validation Discriminator Accuracy')\n",
    "plt.legend()\n",
    "plt.savefig('discriminator_accuracy12.png')  # Save the plot as an image\n",
    "plt.show()\n"
   ]
  },
  {
   "cell_type": "code",
   "execution_count": 12,
   "id": "4c0ac192",
   "metadata": {
    "execution": {
     "iopub.execute_input": "2024-05-15T23:36:40.281740Z",
     "iopub.status.busy": "2024-05-15T23:36:40.281359Z",
     "iopub.status.idle": "2024-05-15T23:36:54.415046Z",
     "shell.execute_reply": "2024-05-15T23:36:54.414083Z"
    },
    "papermill": {
     "duration": 18.138755,
     "end_time": "2024-05-15T23:36:54.416953",
     "exception": false,
     "start_time": "2024-05-15T23:36:36.278198",
     "status": "completed"
    },
    "tags": []
   },
   "outputs": [
    {
     "name": "stdout",
     "output_type": "stream",
     "text": [
      "\u001b[1m 12/491\u001b[0m \u001b[37m━━━━━━━━━━━━━━━━━━━━\u001b[0m \u001b[1m5s\u001b[0m 11ms/step - accuracy: 1.0000 - loss: 8.2337e-06"
     ]
    },
    {
     "name": "stderr",
     "output_type": "stream",
     "text": [
      "WARNING: All log messages before absl::InitializeLog() is called are written to STDERR\n",
      "I0000 00:00:1715816203.504539      73 device_compiler.h:186] Compiled cluster using XLA!  This line is logged at most once for the lifetime of the process.\n"
     ]
    },
    {
     "name": "stdout",
     "output_type": "stream",
     "text": [
      "\u001b[1m491/491\u001b[0m \u001b[32m━━━━━━━━━━━━━━━━━━━━\u001b[0m\u001b[37m\u001b[0m \u001b[1m14s\u001b[0m 22ms/step - accuracy: 1.0000 - loss: 2.6592e-06\n",
      "Train Result: [1.924619027704466e-06, 1.0]\n"
     ]
    }
   ],
   "source": [
    "# Evaluate the discriminator on the train data\n",
    "result = discriminator.evaluate(train_dataset)\n",
    "\n",
    "# Print the result\n",
    "print(f'Train Result: {result}')\n"
   ]
  },
  {
   "cell_type": "code",
   "execution_count": 13,
   "id": "ff7c9553",
   "metadata": {
    "execution": {
     "iopub.execute_input": "2024-05-15T23:37:02.592601Z",
     "iopub.status.busy": "2024-05-15T23:37:02.592203Z",
     "iopub.status.idle": "2024-05-15T23:38:29.052146Z",
     "shell.execute_reply": "2024-05-15T23:38:29.051232Z"
    },
    "papermill": {
     "duration": 90.522959,
     "end_time": "2024-05-15T23:38:29.054558",
     "exception": false,
     "start_time": "2024-05-15T23:36:58.531599",
     "status": "completed"
    },
    "tags": []
   },
   "outputs": [
    {
     "name": "stdout",
     "output_type": "stream",
     "text": [
      "Found 12630 validated image filenames belonging to 43 classes.\n"
     ]
    }
   ],
   "source": [
    "from tensorflow.keras.preprocessing.image import ImageDataGenerator\n",
    "\n",
    "# Convert numerical class labels to strings\n",
    "# Define the path to the test images\n",
    "import pandas as pd\n",
    "df = pd.read_csv('/kaggle/input/gtsrb-german-traffic-sign/Test.csv')\n",
    "test_dir = '/kaggle/input/gtsrb-german-traffic-sign/'\n",
    "\n",
    "df['ClassId'] = df['ClassId'].astype(str)\n",
    "\n",
    "# Define image data generator with preprocessing steps for test data\n",
    "test_datagen = ImageDataGenerator(rescale=1./255)\n",
    "\n",
    "# Flow from dataframe to preprocess test images\n",
    "test_generator = test_datagen.flow_from_dataframe(\n",
    "    df,\n",
    "    directory=test_dir,\n",
    "    x_col='Path',\n",
    "    y_col='ClassId',\n",
    "    target_size=(64, 64),\n",
    "    batch_size=len(df),\n",
    "    class_mode='categorical',  # 'categorical' returns one-hot encoded labels\n",
    "    shuffle=False  # Do not shuffle for evaluation\n",
    ")\n",
    "\n",
    "# Get preprocessed test images and labels\n",
    "X_test, y_test = next(test_generator)\n"
   ]
  },
  {
   "cell_type": "code",
   "execution_count": 14,
   "id": "356f6b4a",
   "metadata": {
    "execution": {
     "iopub.execute_input": "2024-05-15T23:38:37.211990Z",
     "iopub.status.busy": "2024-05-15T23:38:37.211624Z",
     "iopub.status.idle": "2024-05-15T23:38:37.215930Z",
     "shell.execute_reply": "2024-05-15T23:38:37.215159Z"
    },
    "papermill": {
     "duration": 4.03655,
     "end_time": "2024-05-15T23:38:37.217723",
     "exception": false,
     "start_time": "2024-05-15T23:38:33.181173",
     "status": "completed"
    },
    "tags": []
   },
   "outputs": [],
   "source": [
    "#130 epoch 93 percent"
   ]
  },
  {
   "cell_type": "code",
   "execution_count": 15,
   "id": "2a1057a6",
   "metadata": {
    "execution": {
     "iopub.execute_input": "2024-05-15T23:38:45.279438Z",
     "iopub.status.busy": "2024-05-15T23:38:45.279080Z",
     "iopub.status.idle": "2024-05-15T23:38:52.126840Z",
     "shell.execute_reply": "2024-05-15T23:38:52.125760Z"
    },
    "papermill": {
     "duration": 10.863417,
     "end_time": "2024-05-15T23:38:52.129034",
     "exception": false,
     "start_time": "2024-05-15T23:38:41.265617",
     "status": "completed"
    },
    "tags": []
   },
   "outputs": [
    {
     "name": "stdout",
     "output_type": "stream",
     "text": [
      "\u001b[1m395/395\u001b[0m \u001b[32m━━━━━━━━━━━━━━━━━━━━\u001b[0m\u001b[37m\u001b[0m \u001b[1m5s\u001b[0m 10ms/step - accuracy: 0.9619 - loss: 0.2507\n",
      "Test Result: [0.26946014165878296, 0.9632620811462402]\n"
     ]
    }
   ],
   "source": [
    "# Evaluate the discriminator on the test data   ##100 epoch\n",
    "result = discriminator.evaluate(X_test, y_test)\n",
    "\n",
    "# Print the result\n",
    "print(f'Test Result: {result}')\n"
   ]
  },
  {
   "cell_type": "code",
   "execution_count": 16,
   "id": "61730e62",
   "metadata": {
    "execution": {
     "iopub.execute_input": "2024-05-15T23:39:00.262425Z",
     "iopub.status.busy": "2024-05-15T23:39:00.261532Z",
     "iopub.status.idle": "2024-05-15T23:39:04.339356Z",
     "shell.execute_reply": "2024-05-15T23:39:04.338336Z"
    },
    "papermill": {
     "duration": 8.127432,
     "end_time": "2024-05-15T23:39:04.341315",
     "exception": false,
     "start_time": "2024-05-15T23:38:56.213883",
     "status": "completed"
    },
    "tags": []
   },
   "outputs": [
    {
     "name": "stdout",
     "output_type": "stream",
     "text": [
      "\u001b[1m395/395\u001b[0m \u001b[32m━━━━━━━━━━━━━━━━━━━━\u001b[0m\u001b[37m\u001b[0m \u001b[1m3s\u001b[0m 7ms/step - accuracy: 0.9619 - loss: 0.2507\n",
      "Test Result: [0.26946014165878296, 0.9632620811462402]\n"
     ]
    }
   ],
   "source": [
    "# Evaluate the discriminator on the test data   #125 epoch\n",
    "result = discriminator.evaluate(X_test, y_test)\n",
    "\n",
    "# Print the result\n",
    "print(f'Test Result: {result}')\n"
   ]
  },
  {
   "cell_type": "code",
   "execution_count": 17,
   "id": "b55c0988",
   "metadata": {
    "collapsed": true,
    "execution": {
     "iopub.execute_input": "2024-05-15T23:39:12.457323Z",
     "iopub.status.busy": "2024-05-15T23:39:12.456464Z",
     "iopub.status.idle": "2024-05-15T23:39:16.416849Z",
     "shell.execute_reply": "2024-05-15T23:39:16.415861Z"
    },
    "jupyter": {
     "outputs_hidden": true,
     "source_hidden": true
    },
    "papermill": {
     "duration": 8.02986,
     "end_time": "2024-05-15T23:39:16.418885",
     "exception": false,
     "start_time": "2024-05-15T23:39:08.389025",
     "status": "completed"
    },
    "tags": []
   },
   "outputs": [
    {
     "name": "stdout",
     "output_type": "stream",
     "text": [
      "\u001b[1m395/395\u001b[0m \u001b[32m━━━━━━━━━━━━━━━━━━━━\u001b[0m\u001b[37m\u001b[0m \u001b[1m3s\u001b[0m 6ms/step - accuracy: 0.9619 - loss: 0.2507\n",
      "Test Result: [0.26946014165878296, 0.9632620811462402]\n"
     ]
    }
   ],
   "source": [
    "# Evaluate the discriminator on the test data  ##145 epoch\n",
    "result = discriminator.evaluate(X_test, y_test)\n",
    "\n",
    "# Print the result\n",
    "print(f'Test Result: {result}')\n"
   ]
  },
  {
   "cell_type": "code",
   "execution_count": 18,
   "id": "d9a11a55",
   "metadata": {
    "execution": {
     "iopub.execute_input": "2024-05-15T23:39:24.550117Z",
     "iopub.status.busy": "2024-05-15T23:39:24.549753Z",
     "iopub.status.idle": "2024-05-15T23:39:24.648270Z",
     "shell.execute_reply": "2024-05-15T23:39:24.647360Z"
    },
    "papermill": {
     "duration": 4.137253,
     "end_time": "2024-05-15T23:39:24.650334",
     "exception": false,
     "start_time": "2024-05-15T23:39:20.513081",
     "status": "completed"
    },
    "tags": []
   },
   "outputs": [
    {
     "data": {
      "text/plain": [
       "'/kaggle/working/without_aug2.zip'"
      ]
     },
     "execution_count": 18,
     "metadata": {},
     "output_type": "execute_result"
    }
   ],
   "source": [
    "import shutil\n",
    "import os\n",
    "\n",
    "# Specify the folder path\n",
    "folder_path = '/kaggle/working/empty_folderf3'\n",
    "\n",
    "# Create a zip file\n",
    "shutil.make_archive(folder_path, 'zip', folder_path)\n",
    "\n",
    "# Move the zip file to the output directory\n",
    "output_path = '/kaggle/working/without_aug2.zip'\n",
    "shutil.move(folder_path + '.zip', output_path)\n",
    "\n",
    "# Display the download link\n",
    "output_path\n",
    "   "
   ]
  },
  {
   "cell_type": "code",
   "execution_count": 19,
   "id": "00e81ca4",
   "metadata": {
    "execution": {
     "iopub.execute_input": "2024-05-15T23:39:32.796780Z",
     "iopub.status.busy": "2024-05-15T23:39:32.796407Z",
     "iopub.status.idle": "2024-05-15T23:39:32.939516Z",
     "shell.execute_reply": "2024-05-15T23:39:32.938702Z"
    },
    "papermill": {
     "duration": 4.190153,
     "end_time": "2024-05-15T23:39:32.941863",
     "exception": false,
     "start_time": "2024-05-15T23:39:28.751710",
     "status": "completed"
    },
    "tags": []
   },
   "outputs": [],
   "source": [
    "discriminator.save('d_aug_valf.h5')"
   ]
  },
  {
   "cell_type": "code",
   "execution_count": 20,
   "id": "4574bb35",
   "metadata": {
    "execution": {
     "iopub.execute_input": "2024-05-15T23:39:41.116033Z",
     "iopub.status.busy": "2024-05-15T23:39:41.115684Z",
     "iopub.status.idle": "2024-05-15T23:39:45.775939Z",
     "shell.execute_reply": "2024-05-15T23:39:45.774712Z"
    },
    "papermill": {
     "duration": 8.727941,
     "end_time": "2024-05-15T23:39:45.778012",
     "exception": false,
     "start_time": "2024-05-15T23:39:37.050071",
     "status": "completed"
    },
    "tags": []
   },
   "outputs": [
    {
     "name": "stdout",
     "output_type": "stream",
     "text": [
      "\u001b[1m395/395\u001b[0m \u001b[32m━━━━━━━━━━━━━━━━━━━━\u001b[0m\u001b[37m\u001b[0m \u001b[1m3s\u001b[0m 6ms/step\n",
      "Precision: [0.95238095 0.93350717 0.99389313 0.98812352 0.98953662 0.98762036\n",
      " 0.91525424 0.98122066 1.         1.         1.         0.89230769\n",
      " 0.96740548 0.81081081 0.84722222 0.92561983 0.96753247 0.98837209\n",
      " 0.94791667 0.79710145 0.75       0.92993631 0.86138614 0.96724891\n",
      " 0.96666667 0.98523985 0.98360656 1.         1.         0.99740933\n",
      " 1.         0.96774194 0.9870317  1.         0.98613251 0.76851852\n",
      " 0.75862069 0.98717949 0.95609756 1.         0.99031477 0.9127789\n",
      " 0.96774194]\n",
      "Recall: [1.         0.99444444 0.98636364 0.99047619 0.95942029 0.99722222\n",
      " 1.         0.9952381  1.         0.91388889 0.88974359 0.96666667\n",
      " 0.98933333 1.         0.67777778 0.93333333 0.99333333 0.94444444\n",
      " 0.94791667 0.91666667 0.5        0.97333333 0.96666667 0.98444444\n",
      " 0.77333333 0.98888889 1.         1.         0.98333333 0.98717949\n",
      " 1.         1.         0.99275362 0.95555556 0.96969697 0.92222222\n",
      " 0.73333333 0.85555556 0.93333333 0.91333333 0.90888889 1.\n",
      " 1.        ]\n",
      "F1 Score: [0.97560976 0.96301278 0.99011407 0.98929845 0.97424577 0.99239806\n",
      " 0.95575221 0.98817967 1.         0.95500726 0.94165536 0.928\n",
      " 0.97824654 0.89552239 0.75308642 0.92946058 0.98026316 0.96590909\n",
      " 0.94791667 0.85271318 0.6        0.95114007 0.91099476 0.97577093\n",
      " 0.85925926 0.987061   0.99173554 1.         0.99159664 0.99226804\n",
      " 1.         0.98360656 0.98988439 0.97727273 0.97784568 0.83838384\n",
      " 0.74576271 0.91666667 0.94457831 0.95470383 0.94785632 0.95440085\n",
      " 0.98360656]\n",
      "Support: [ 60 720 660 420 690 720 270 210 150 360 390  60 750  90  90 120 150  90\n",
      " 480 180  60 150  90 450 150 270  60 210 120 390 120  60 690  90 660  90\n",
      "  60  90 630 150 450 450 480]\n",
      "Average Precision: 0.9444064447472389\n",
      "Average Recall: 0.9404214391102662\n",
      "Average F1 Score: 0.9402508391648732\n"
     ]
    }
   ],
   "source": [
    "from sklearn.metrics import precision_recall_fscore_support\n",
    "\n",
    "# Assuming you have test data predictions stored in y_pred and true labels in y_true\n",
    "y_pred = discriminator.predict(X_test)\n",
    "y_true = np.argmax(y_test, axis=1)  # Convert one-hot encoded labels to class labels\n",
    "\n",
    "# Convert predicted probabilities to class labels\n",
    "y_pred_labels = np.argmax(y_pred, axis=1)\n",
    "\n",
    "# Calculate precision, recall, f1-score, and support for each class\n",
    "precision, recall, f1_score, support = precision_recall_fscore_support(y_true, y_pred_labels)\n",
    "\n",
    "# Average precision, recall, f1-score across all classes\n",
    "avg_precision = np.mean(precision)\n",
    "avg_recall = np.mean(recall)\n",
    "avg_f1_score = np.mean(f1_score)\n",
    "\n",
    "# Print results\n",
    "print(\"Precision:\", precision)\n",
    "print(\"Recall:\", recall)\n",
    "print(\"F1 Score:\", f1_score)\n",
    "print(\"Support:\", support)\n",
    "print(\"Average Precision:\", avg_precision)\n",
    "print(\"Average Recall:\", avg_recall)\n",
    "print(\"Average F1 Score:\", avg_f1_score)\n"
   ]
  }
 ],
 "metadata": {
  "kaggle": {
   "accelerator": "gpu",
   "dataSources": [
    {
     "datasetId": 82373,
     "sourceId": 191501,
     "sourceType": "datasetVersion"
    },
    {
     "datasetId": 3820936,
     "sourceId": 6620552,
     "sourceType": "datasetVersion"
    }
   ],
   "dockerImageVersionId": 30699,
   "isGpuEnabled": true,
   "isInternetEnabled": true,
   "language": "python",
   "sourceType": "notebook"
  },
  "kernelspec": {
   "display_name": "Python 3",
   "language": "python",
   "name": "python3"
  },
  "language_info": {
   "codemirror_mode": {
    "name": "ipython",
    "version": 3
   },
   "file_extension": ".py",
   "mimetype": "text/x-python",
   "name": "python",
   "nbconvert_exporter": "python",
   "pygments_lexer": "ipython3",
   "version": "3.10.13"
  },
  "papermill": {
   "default_parameters": {},
   "duration": 16555.128707,
   "end_time": "2024-05-15T23:39:52.325609",
   "environment_variables": {},
   "exception": null,
   "input_path": "__notebook__.ipynb",
   "output_path": "__notebook__.ipynb",
   "parameters": {},
   "start_time": "2024-05-15T19:03:57.196902",
   "version": "2.5.0"
  }
 },
 "nbformat": 4,
 "nbformat_minor": 5
}
