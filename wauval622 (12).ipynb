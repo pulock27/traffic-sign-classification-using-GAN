{
 "cells": [
  {
   "cell_type": "code",
   "execution_count": 1,
   "id": "2e1e5be4",
   "metadata": {
    "execution": {
     "iopub.execute_input": "2024-05-15T13:08:40.178095Z",
     "iopub.status.busy": "2024-05-15T13:08:40.177768Z",
     "iopub.status.idle": "2024-05-15T13:08:52.744755Z",
     "shell.execute_reply": "2024-05-15T13:08:52.743955Z"
    },
    "papermill": {
     "duration": 12.577397,
     "end_time": "2024-05-15T13:08:52.747076",
     "exception": false,
     "start_time": "2024-05-15T13:08:40.169679",
     "status": "completed"
    },
    "tags": []
   },
   "outputs": [
    {
     "name": "stderr",
     "output_type": "stream",
     "text": [
      "2024-05-15 13:08:41.958559: E external/local_xla/xla/stream_executor/cuda/cuda_dnn.cc:9261] Unable to register cuDNN factory: Attempting to register factory for plugin cuDNN when one has already been registered\n",
      "2024-05-15 13:08:41.958663: E external/local_xla/xla/stream_executor/cuda/cuda_fft.cc:607] Unable to register cuFFT factory: Attempting to register factory for plugin cuFFT when one has already been registered\n",
      "2024-05-15 13:08:42.094458: E external/local_xla/xla/stream_executor/cuda/cuda_blas.cc:1515] Unable to register cuBLAS factory: Attempting to register factory for plugin cuBLAS when one has already been registered\n"
     ]
    }
   ],
   "source": [
    "import tensorflow as tf\n",
    "import os\n",
    "import numpy as np\n",
    "from pathlib import Path\n",
    "from tensorflow import keras\n",
    "from tensorflow.keras import layers\n",
    "from tqdm import tqdm"
   ]
  },
  {
   "cell_type": "code",
   "execution_count": 2,
   "id": "54b46a09",
   "metadata": {
    "execution": {
     "iopub.execute_input": "2024-05-15T13:08:52.761770Z",
     "iopub.status.busy": "2024-05-15T13:08:52.760772Z",
     "iopub.status.idle": "2024-05-15T13:08:52.765790Z",
     "shell.execute_reply": "2024-05-15T13:08:52.765049Z"
    },
    "papermill": {
     "duration": 0.014013,
     "end_time": "2024-05-15T13:08:52.767660",
     "exception": false,
     "start_time": "2024-05-15T13:08:52.753647",
     "status": "completed"
    },
    "tags": []
   },
   "outputs": [],
   "source": [
    "import os\n",
    "# Define the path for the empty folder\n",
    "folder_path = '/kaggle/working/empty_folderf3/'\n",
    "\n",
    "# Create the empty folder\n",
    "os.makedirs(folder_path, exist_ok=True)\n",
    "save_dir = ('/kaggle/working/empty_folderf3')\n"
   ]
  },
  {
   "cell_type": "code",
   "execution_count": 3,
   "id": "5e37138f",
   "metadata": {
    "execution": {
     "iopub.execute_input": "2024-05-15T13:08:52.780891Z",
     "iopub.status.busy": "2024-05-15T13:08:52.780618Z",
     "iopub.status.idle": "2024-05-15T13:09:16.156344Z",
     "shell.execute_reply": "2024-05-15T13:09:16.155518Z"
    },
    "papermill": {
     "duration": 23.384947,
     "end_time": "2024-05-15T13:09:16.158703",
     "exception": false,
     "start_time": "2024-05-15T13:08:52.773756",
     "status": "completed"
    },
    "tags": []
   },
   "outputs": [
    {
     "name": "stdout",
     "output_type": "stream",
     "text": [
      "Found 39209 files belonging to 43 classes.\n",
      "Using 31368 files for training.\n",
      "Found 39209 files belonging to 43 classes.\n",
      "Using 7841 files for validation.\n"
     ]
    }
   ],
   "source": [
    "from sklearn.model_selection import train_test_split\n",
    "\n",
    "# Split dataset into training and validation sets\n",
    "train_dir = '/kaggle/input/gtsrb-train/Train'\n",
    "train_data, val_data = train_test_split(os.listdir(train_dir), test_size=0.2, random_state=42)\n",
    "\n",
    "# Create training and validation datasets\n",
    "train_dataset = keras.preprocessing.image_dataset_from_directory(\n",
    "    directory=train_dir, \n",
    "    labels='inferred',  # Use inferred labels from directory structure\n",
    "    label_mode='categorical', \n",
    "    image_size=(64, 64), \n",
    "    batch_size=64,\n",
    "    shuffle=True,\n",
    "    validation_split=0.2,  # Percentage of data to use for validation\n",
    "    subset=\"training\",\n",
    "    seed=42  # Specify seed for reproducibility\n",
    ").map(lambda x, y: (x/255.0, y))  # Normalize the pixel values to [0, 1]\n",
    "\n",
    "val_dataset = keras.preprocessing.image_dataset_from_directory(\n",
    "    directory=train_dir, \n",
    "    labels='inferred',  # Use inferred labels from directory structure\n",
    "    label_mode='categorical', \n",
    "    image_size=(64, 64), \n",
    "    batch_size=64,\n",
    "    shuffle=True,\n",
    "    validation_split=0.2,  # Percentage of data to use for validation\n",
    "    subset=\"validation\",\n",
    "    seed=42  # Specify seed for reproducibility\n",
    ").map(lambda x, y: (x/255.0, y))  # Normalize the pixel values to [0, 1])\n"
   ]
  },
  {
   "cell_type": "code",
   "execution_count": 4,
   "id": "1d5f0ef8",
   "metadata": {
    "execution": {
     "iopub.execute_input": "2024-05-15T13:09:16.174389Z",
     "iopub.status.busy": "2024-05-15T13:09:16.173651Z",
     "iopub.status.idle": "2024-05-15T13:09:16.177550Z",
     "shell.execute_reply": "2024-05-15T13:09:16.176718Z"
    },
    "papermill": {
     "duration": 0.013573,
     "end_time": "2024-05-15T13:09:16.179471",
     "exception": false,
     "start_time": "2024-05-15T13:09:16.165898",
     "status": "completed"
    },
    "tags": []
   },
   "outputs": [],
   "source": [
    "#nnnnnnneeeeewwwwwwwwww   mmmmooodeeel"
   ]
  },
  {
   "cell_type": "code",
   "execution_count": 5,
   "id": "2dc5924e",
   "metadata": {
    "execution": {
     "iopub.execute_input": "2024-05-15T13:09:16.194875Z",
     "iopub.status.busy": "2024-05-15T13:09:16.194170Z",
     "iopub.status.idle": "2024-05-15T13:09:16.331621Z",
     "shell.execute_reply": "2024-05-15T13:09:16.330827Z"
    },
    "papermill": {
     "duration": 0.147953,
     "end_time": "2024-05-15T13:09:16.334172",
     "exception": false,
     "start_time": "2024-05-15T13:09:16.186219",
     "status": "completed"
    },
    "tags": []
   },
   "outputs": [],
   "source": [
    "latent_dim = 128\n",
    "\n",
    "# Encoder\n",
    "encoder = keras.Sequential([\n",
    "    layers.Input(shape=(64, 64, 3)),\n",
    "    layers.Conv2D(64, kernel_size=4, strides=2, padding=\"same\"),\n",
    "    layers.LeakyReLU(0.2),\n",
    "    layers.Conv2D(128, kernel_size=4, strides=2, padding=\"same\"),\n",
    "    layers.LeakyReLU(0.2),\n",
    "    layers.Conv2D(256, kernel_size=4, strides=2, padding=\"same\"),\n",
    "    layers.LeakyReLU(0.2),\n",
    "    layers.Conv2D(512, kernel_size=4, strides=2, padding=\"same\"),\n",
    "    layers.LeakyReLU(0.2),\n",
    "    layers.Flatten(),\n",
    "    layers.Dense(latent_dim)  # Latent representation\n",
    "])\n",
    "\n",
    "# Decoder\n",
    "decoder = keras.Sequential([\n",
    "    layers.Input(shape=(latent_dim,)),\n",
    "    layers.Dense(8*8*512),\n",
    "    layers.Reshape((8, 8, 512)),\n",
    "    layers.Conv2DTranspose(256, kernel_size=4, strides=2, padding=\"same\"),\n",
    "    layers.LeakyReLU(0.2),\n",
    "    layers.Conv2DTranspose(128, kernel_size=4, strides=2, padding=\"same\"),\n",
    "    layers.LeakyReLU(0.2),\n",
    "    layers.Conv2DTranspose(64, kernel_size=4, strides=2, padding=\"same\"),\n",
    "    layers.LeakyReLU(0.2),\n",
    "    layers.Conv2DTranspose(3, kernel_size=4,  padding=\"same\", activation=\"tanh\"),\n",
    "])\n",
    "\n",
    "# Full autoencoder model\n",
    "autoencoder = keras.Sequential([\n",
    "    layers.Input(shape=(64, 64, 3)),\n",
    "    encoder,\n",
    "    decoder\n",
    "])\n"
   ]
  },
  {
   "cell_type": "code",
   "execution_count": 6,
   "id": "488405ed",
   "metadata": {
    "execution": {
     "iopub.execute_input": "2024-05-15T13:09:16.348738Z",
     "iopub.status.busy": "2024-05-15T13:09:16.348431Z",
     "iopub.status.idle": "2024-05-15T13:09:16.352536Z",
     "shell.execute_reply": "2024-05-15T13:09:16.351781Z"
    },
    "papermill": {
     "duration": 0.013515,
     "end_time": "2024-05-15T13:09:16.354431",
     "exception": false,
     "start_time": "2024-05-15T13:09:16.340916",
     "status": "completed"
    },
    "tags": []
   },
   "outputs": [],
   "source": [
    "from tensorflow.keras import layers, models, optimizers"
   ]
  },
  {
   "cell_type": "code",
   "execution_count": 7,
   "id": "228157c5",
   "metadata": {
    "execution": {
     "iopub.execute_input": "2024-05-15T13:09:16.368732Z",
     "iopub.status.busy": "2024-05-15T13:09:16.368419Z",
     "iopub.status.idle": "2024-05-15T13:09:16.409962Z",
     "shell.execute_reply": "2024-05-15T13:09:16.409029Z"
    },
    "papermill": {
     "duration": 0.051013,
     "end_time": "2024-05-15T13:09:16.411960",
     "exception": false,
     "start_time": "2024-05-15T13:09:16.360947",
     "status": "completed"
    },
    "tags": []
   },
   "outputs": [
    {
     "name": "stderr",
     "output_type": "stream",
     "text": [
      "/opt/conda/lib/python3.10/site-packages/keras/src/layers/convolutional/base_conv.py:99: UserWarning: Do not pass an `input_shape`/`input_dim` argument to a layer. When using Sequential models, prefer using an `Input(shape)` object as the first layer in the model instead.\n",
      "  super().__init__(\n"
     ]
    }
   ],
   "source": [
    "import tensorflow as tf\n",
    "\n",
    "class CustomModel(tf.keras.Model):\n",
    "    def __init__(self):\n",
    "        super(CustomModel, self).__init__()\n",
    "        \n",
    "        # Define layers\n",
    "        self.conv1 = tf.keras.layers.Conv2D(250, kernel_size=7, activation='relu', input_shape=(48, 48, 3))\n",
    "        self.pool1 = tf.keras.layers.MaxPooling2D(pool_size=2)\n",
    "        self.norm1 = tf.keras.layers.BatchNormalization()\n",
    "        \n",
    "        self.conv2 = tf.keras.layers.Conv2D(300, kernel_size=4, activation='relu')\n",
    "        self.pool2 = tf.keras.layers.MaxPooling2D(pool_size=2)\n",
    "        self.norm2 = tf.keras.layers.BatchNormalization()\n",
    "        \n",
    "        self.conv3 = tf.keras.layers.Conv2D(350, kernel_size=4, activation='relu')\n",
    "        self.pool3 = tf.keras.layers.MaxPooling2D(pool_size=2)\n",
    "        self.norm3 = tf.keras.layers.BatchNormalization()\n",
    "        \n",
    "        self.conv4 = tf.keras.layers.Conv2D(400, kernel_size=4, activation='relu')\n",
    "        self.pool4 = tf.keras.layers.MaxPooling2D(pool_size=2)\n",
    "        self.norm4 = tf.keras.layers.BatchNormalization()\n",
    "        \n",
    "        self.flatten = tf.keras.layers.Flatten()\n",
    "    \n",
    "        self.fc1 = tf.keras.layers.Dense(400, activation='relu')\n",
    "        self.dropout1 = tf.keras.layers.Dropout(0.5)  # Dropout layer\n",
    "        self.fc2 = tf.keras.layers.Dense(200, activation='relu')\n",
    "        self.dropout2 = tf.keras.layers.Dropout(0.25)  # Dropout layer\n",
    "        self.fc3 = tf.keras.layers.Dense(43, activation='softmax')\n",
    "    \n",
    "    def call(self, inputs):\n",
    "        # Forward pass\n",
    "        x = self.conv1(inputs)\n",
    "        x = self.pool1(x)\n",
    "        x = self.norm1(x)\n",
    "        x = self.conv2(x)\n",
    "        x = self.pool2(x)\n",
    "        x = self.norm2(x)\n",
    "        x = self.conv3(x)\n",
    "        x = self.pool3(x)\n",
    "        x = self.norm3(x)\n",
    "        x = self.conv4(x)\n",
    "        x = self.pool4(x)\n",
    "        x = self.norm4(x)\n",
    "        x = self.flatten(x)\n",
    "        x = self.fc1(x)\n",
    "        x = self.dropout1(x)  # Dropout layer\n",
    "        x = self.fc2(x)\n",
    "        x = self.dropout2(x)  # Dropout layer\n",
    "        x = self.fc3(x)\n",
    "        return x\n",
    "\n",
    "# Create an instance of the model\n",
    "discriminator = CustomModel()\n"
   ]
  },
  {
   "cell_type": "code",
   "execution_count": 8,
   "id": "510c0a2e",
   "metadata": {
    "execution": {
     "iopub.execute_input": "2024-05-15T13:09:16.426971Z",
     "iopub.status.busy": "2024-05-15T13:09:16.426322Z",
     "iopub.status.idle": "2024-05-15T13:09:16.443683Z",
     "shell.execute_reply": "2024-05-15T13:09:16.442826Z"
    },
    "papermill": {
     "duration": 0.02696,
     "end_time": "2024-05-15T13:09:16.445628",
     "exception": false,
     "start_time": "2024-05-15T13:09:16.418668",
     "status": "completed"
    },
    "tags": []
   },
   "outputs": [],
   "source": [
    "# Loss functions\n",
    "loss_fn_auto = tf.keras.losses.MeanSquaredError()\n",
    "loss_fn_disc = tf.keras.losses.CategoricalCrossentropy()\n",
    "\n",
    "# Optimizers\n",
    "opt_autoencoder = tf.keras.optimizers.Adam(learning_rate=0.0001, beta_1=0.5)\n",
    "opt_disc = tf.keras.optimizers.Adam(learning_rate=0.0001, beta_1=0.5)\n",
    "\n",
    "\n",
    "# Compile the autoencoder model\n",
    "autoencoder.compile(optimizer=opt_autoencoder, loss=loss_fn_auto)\n",
    "\n",
    "# Compile the discriminator model\n",
    "discriminator.compile(optimizer=opt_disc, loss=loss_fn_disc, metrics=['accuracy'])"
   ]
  },
  {
   "cell_type": "code",
   "execution_count": 9,
   "id": "3287bd87",
   "metadata": {
    "execution": {
     "iopub.execute_input": "2024-05-15T13:09:16.460205Z",
     "iopub.status.busy": "2024-05-15T13:09:16.459917Z",
     "iopub.status.idle": "2024-05-15T17:47:17.864797Z",
     "shell.execute_reply": "2024-05-15T17:47:17.863542Z"
    },
    "papermill": {
     "duration": 16681.414759,
     "end_time": "2024-05-15T17:47:17.866887",
     "exception": false,
     "start_time": "2024-05-15T13:09:16.452128",
     "status": "completed"
    },
    "tags": []
   },
   "outputs": [
    {
     "name": "stderr",
     "output_type": "stream",
     "text": [
      "100%|██████████| 491/491 [02:53<00:00,  2.83it/s]\n"
     ]
    },
    {
     "name": "stdout",
     "output_type": "stream",
     "text": [
      "Epoch 0, Autoencoder Loss: 0.02458610013127327, Discriminator Loss: 2.710495948791504, Discriminator Accuracy: 0.178016796708107\n",
      "Validation - Autoencoder Loss: 0.01686677522957325, Discriminator Loss: 1.8508998155593872, Discriminator Accuracy: 0.3015059232711792\n"
     ]
    },
    {
     "name": "stderr",
     "output_type": "stream",
     "text": [
      "100%|██████████| 491/491 [02:35<00:00,  3.16it/s]\n"
     ]
    },
    {
     "name": "stdout",
     "output_type": "stream",
     "text": [
      "Epoch 1, Autoencoder Loss: 0.01172975730150938, Discriminator Loss: 0.9184957146644592, Discriminator Accuracy: 0.6963785886764526\n",
      "Validation - Autoencoder Loss: 0.009562941268086433, Discriminator Loss: 0.5478211045265198, Discriminator Accuracy: 0.7345482707023621\n"
     ]
    },
    {
     "name": "stderr",
     "output_type": "stream",
     "text": [
      "100%|██████████| 491/491 [02:37<00:00,  3.11it/s]\n"
     ]
    },
    {
     "name": "stdout",
     "output_type": "stream",
     "text": [
      "Epoch 2, Autoencoder Loss: 0.008055201731622219, Discriminator Loss: 0.32759714126586914, Discriminator Accuracy: 0.9203475117683411\n",
      "Validation - Autoencoder Loss: 0.00750613072887063, Discriminator Loss: 0.28693631291389465, Discriminator Accuracy: 0.8604220151901245\n"
     ]
    },
    {
     "name": "stderr",
     "output_type": "stream",
     "text": [
      "100%|██████████| 491/491 [02:38<00:00,  3.11it/s]\n"
     ]
    },
    {
     "name": "stdout",
     "output_type": "stream",
     "text": [
      "Epoch 3, Autoencoder Loss: 0.0064698196947574615, Discriminator Loss: 0.15316243469715118, Discriminator Accuracy: 0.9771512150764465\n",
      "Validation - Autoencoder Loss: 0.0059995343908667564, Discriminator Loss: 0.2665494978427887, Discriminator Accuracy: 0.9045023322105408\n"
     ]
    },
    {
     "name": "stderr",
     "output_type": "stream",
     "text": [
      "100%|██████████| 491/491 [02:38<00:00,  3.10it/s]\n"
     ]
    },
    {
     "name": "stdout",
     "output_type": "stream",
     "text": [
      "Epoch 4, Autoencoder Loss: 0.005379173904657364, Discriminator Loss: 0.082490935921669, Discriminator Accuracy: 0.9936672449111938\n",
      "Validation - Autoencoder Loss: 0.00509137287735939, Discriminator Loss: 0.09456222504377365, Discriminator Accuracy: 0.9561814665794373\n"
     ]
    },
    {
     "name": "stderr",
     "output_type": "stream",
     "text": [
      "100%|██████████| 491/491 [02:37<00:00,  3.12it/s]\n"
     ]
    },
    {
     "name": "stdout",
     "output_type": "stream",
     "text": [
      "Epoch 5, Autoencoder Loss: 0.0062394822016358376, Discriminator Loss: 0.1542145162820816, Discriminator Accuracy: 0.9768329858779907\n",
      "Validation - Autoencoder Loss: 0.004950961098074913, Discriminator Loss: 0.07693600654602051, Discriminator Accuracy: 0.9672486782073975\n"
     ]
    },
    {
     "name": "stderr",
     "output_type": "stream",
     "text": [
      "100%|██████████| 491/491 [02:38<00:00,  3.10it/s]\n"
     ]
    },
    {
     "name": "stdout",
     "output_type": "stream",
     "text": [
      "Epoch 6, Autoencoder Loss: 0.004465492442250252, Discriminator Loss: 0.03863931819796562, Discriminator Accuracy: 0.9983451962471008\n",
      "Validation - Autoencoder Loss: 0.00434876699000597, Discriminator Loss: 0.12636904418468475, Discriminator Accuracy: 0.9526322484016418\n"
     ]
    },
    {
     "name": "stderr",
     "output_type": "stream",
     "text": [
      "100%|██████████| 491/491 [02:38<00:00,  3.09it/s]\n"
     ]
    },
    {
     "name": "stdout",
     "output_type": "stream",
     "text": [
      "Epoch 7, Autoencoder Loss: 0.004088531713932753, Discriminator Loss: 0.025964489206671715, Discriminator Accuracy: 0.9993317127227783\n",
      "Validation - Autoencoder Loss: 0.004465772304683924, Discriminator Loss: 0.06841599196195602, Discriminator Accuracy: 0.9691311120986938\n"
     ]
    },
    {
     "name": "stderr",
     "output_type": "stream",
     "text": [
      "100%|██████████| 491/491 [02:37<00:00,  3.11it/s]\n"
     ]
    },
    {
     "name": "stdout",
     "output_type": "stream",
     "text": [
      "Epoch 8, Autoencoder Loss: 0.003823831444606185, Discriminator Loss: 0.019083872437477112, Discriminator Accuracy: 0.999586284160614\n",
      "Validation - Autoencoder Loss: 0.004800808150321245, Discriminator Loss: 0.0473562590777874, Discriminator Accuracy: 0.9829853177070618\n"
     ]
    },
    {
     "name": "stderr",
     "output_type": "stream",
     "text": [
      "100%|██████████| 491/491 [02:35<00:00,  3.16it/s]\n"
     ]
    },
    {
     "name": "stdout",
     "output_type": "stream",
     "text": [
      "Epoch 9, Autoencoder Loss: 0.003624388249590993, Discriminator Loss: 0.017493898048996925, Discriminator Accuracy: 0.9992998838424683\n",
      "Validation - Autoencoder Loss: 0.0051510147750377655, Discriminator Loss: 0.04643384739756584, Discriminator Accuracy: 0.9822154641151428\n"
     ]
    },
    {
     "name": "stderr",
     "output_type": "stream",
     "text": [
      "100%|██████████| 491/491 [02:36<00:00,  3.14it/s]\n"
     ]
    },
    {
     "name": "stdout",
     "output_type": "stream",
     "text": [
      "Epoch 10, Autoencoder Loss: 0.003422338981181383, Discriminator Loss: 0.01578119955956936, Discriminator Accuracy: 0.9995226860046387\n",
      "Validation - Autoencoder Loss: 0.0033827077131718397, Discriminator Loss: 0.04231935739517212, Discriminator Accuracy: 0.9820961356163025\n"
     ]
    },
    {
     "name": "stderr",
     "output_type": "stream",
     "text": [
      "100%|██████████| 491/491 [02:37<00:00,  3.13it/s]\n"
     ]
    },
    {
     "name": "stdout",
     "output_type": "stream",
     "text": [
      "Epoch 11, Autoencoder Loss: 0.003694236744195223, Discriminator Loss: 0.02874101884663105, Discriminator Accuracy: 0.9968177080154419\n",
      "Validation - Autoencoder Loss: 0.003295712638646364, Discriminator Loss: 0.05062023550271988, Discriminator Accuracy: 0.9800558686256409\n"
     ]
    },
    {
     "name": "stderr",
     "output_type": "stream",
     "text": [
      "100%|██████████| 491/491 [02:35<00:00,  3.15it/s]\n"
     ]
    },
    {
     "name": "stdout",
     "output_type": "stream",
     "text": [
      "Epoch 12, Autoencoder Loss: 0.003098414046689868, Discriminator Loss: 0.010491885244846344, Discriminator Accuracy: 0.9998726844787598\n",
      "Validation - Autoencoder Loss: 0.0033985613845288754, Discriminator Loss: 0.04692365601658821, Discriminator Accuracy: 0.9828506112098694\n"
     ]
    },
    {
     "name": "stderr",
     "output_type": "stream",
     "text": [
      "100%|██████████| 491/491 [02:35<00:00,  3.17it/s]\n"
     ]
    },
    {
     "name": "stdout",
     "output_type": "stream",
     "text": [
      "Epoch 13, Autoencoder Loss: 0.0029941576067358255, Discriminator Loss: 0.010580810718238354, Discriminator Accuracy: 0.9997135996818542\n",
      "Validation - Autoencoder Loss: 0.0031974962912499905, Discriminator Loss: 0.058279071003198624, Discriminator Accuracy: 0.9780310392379761\n"
     ]
    },
    {
     "name": "stderr",
     "output_type": "stream",
     "text": [
      "100%|██████████| 491/491 [02:34<00:00,  3.17it/s]\n"
     ]
    },
    {
     "name": "stdout",
     "output_type": "stream",
     "text": [
      "Epoch 14, Autoencoder Loss: 0.0029063145630061626, Discriminator Loss: 0.012118215672671795, Discriminator Accuracy: 0.9997454285621643\n",
      "Validation - Autoencoder Loss: 0.003072666237130761, Discriminator Loss: 0.036981526762247086, Discriminator Accuracy: 0.9902338981628418\n"
     ]
    },
    {
     "name": "stderr",
     "output_type": "stream",
     "text": [
      "100%|██████████| 491/491 [02:34<00:00,  3.19it/s]\n"
     ]
    },
    {
     "name": "stdout",
     "output_type": "stream",
     "text": [
      "Epoch 15, Autoencoder Loss: 0.0027903886511921883, Discriminator Loss: 0.008286810480058193, Discriminator Accuracy: 0.9997772574424744\n",
      "Validation - Autoencoder Loss: 0.0041652400977909565, Discriminator Loss: 0.05094815418124199, Discriminator Accuracy: 0.9806987643241882\n"
     ]
    },
    {
     "name": "stderr",
     "output_type": "stream",
     "text": [
      "100%|██████████| 491/491 [02:37<00:00,  3.12it/s]\n"
     ]
    },
    {
     "name": "stdout",
     "output_type": "stream",
     "text": [
      "Epoch 16, Autoencoder Loss: 0.002728142775595188, Discriminator Loss: 0.012980595231056213, Discriminator Accuracy: 0.9997454285621643\n",
      "Validation - Autoencoder Loss: 0.0031691440381109715, Discriminator Loss: 0.03757317364215851, Discriminator Accuracy: 0.9836205244064331\n"
     ]
    },
    {
     "name": "stderr",
     "output_type": "stream",
     "text": [
      "100%|██████████| 491/491 [02:34<00:00,  3.18it/s]\n"
     ]
    },
    {
     "name": "stdout",
     "output_type": "stream",
     "text": [
      "Epoch 17, Autoencoder Loss: 0.002686450956389308, Discriminator Loss: 0.013749092817306519, Discriminator Accuracy: 0.9992680549621582\n",
      "Validation - Autoencoder Loss: 0.002850305289030075, Discriminator Loss: 0.025797514244914055, Discriminator Accuracy: 0.9894639849662781\n"
     ]
    },
    {
     "name": "stderr",
     "output_type": "stream",
     "text": [
      "100%|██████████| 491/491 [02:35<00:00,  3.15it/s]\n"
     ]
    },
    {
     "name": "stdout",
     "output_type": "stream",
     "text": [
      "Epoch 18, Autoencoder Loss: 0.002508952049538493, Discriminator Loss: 0.002313746837899089, Discriminator Accuracy: 1.0\n",
      "Validation - Autoencoder Loss: 0.0028604604303836823, Discriminator Loss: 0.03086794726550579, Discriminator Accuracy: 0.9883130192756653\n"
     ]
    },
    {
     "name": "stderr",
     "output_type": "stream",
     "text": [
      "100%|██████████| 491/491 [02:34<00:00,  3.17it/s]\n"
     ]
    },
    {
     "name": "stdout",
     "output_type": "stream",
     "text": [
      "Epoch 19, Autoencoder Loss: 0.0024554880801588297, Discriminator Loss: 0.00784916803240776, Discriminator Accuracy: 0.9997135996818542\n",
      "Validation - Autoencoder Loss: 0.0036753665190190077, Discriminator Loss: 0.0501054972410202, Discriminator Accuracy: 0.9805639982223511\n"
     ]
    },
    {
     "name": "stderr",
     "output_type": "stream",
     "text": [
      "100%|██████████| 491/491 [02:36<00:00,  3.14it/s]\n"
     ]
    },
    {
     "name": "stdout",
     "output_type": "stream",
     "text": [
      "Epoch 20, Autoencoder Loss: 0.0024121026508510113, Discriminator Loss: 0.00530108530074358, Discriminator Accuracy: 0.9998726844787598\n",
      "Validation - Autoencoder Loss: 0.004118653014302254, Discriminator Loss: 0.05008307099342346, Discriminator Accuracy: 0.9767530560493469\n"
     ]
    },
    {
     "name": "stderr",
     "output_type": "stream",
     "text": [
      "100%|██████████| 491/491 [02:34<00:00,  3.17it/s]\n"
     ]
    },
    {
     "name": "stdout",
     "output_type": "stream",
     "text": [
      "Epoch 21, Autoencoder Loss: 0.0023105721920728683, Discriminator Loss: 0.009438510984182358, Discriminator Accuracy: 0.9996817708015442\n",
      "Validation - Autoencoder Loss: 0.0028172337915748358, Discriminator Loss: 0.035211555659770966, Discriminator Accuracy: 0.9884400367736816\n"
     ]
    },
    {
     "name": "stderr",
     "output_type": "stream",
     "text": [
      "100%|██████████| 491/491 [02:37<00:00,  3.11it/s]\n"
     ]
    },
    {
     "name": "stdout",
     "output_type": "stream",
     "text": [
      "Epoch 22, Autoencoder Loss: 0.0022773416712880135, Discriminator Loss: 0.0029480864759534597, Discriminator Accuracy: 0.9999681711196899\n",
      "Validation - Autoencoder Loss: 0.0030049546621739864, Discriminator Loss: 0.11483724415302277, Discriminator Accuracy: 0.9766260385513306\n"
     ]
    },
    {
     "name": "stderr",
     "output_type": "stream",
     "text": [
      "100%|██████████| 491/491 [02:38<00:00,  3.10it/s]\n"
     ]
    },
    {
     "name": "stdout",
     "output_type": "stream",
     "text": [
      "Epoch 23, Autoencoder Loss: 0.002183253411203623, Discriminator Loss: 0.007477628067135811, Discriminator Accuracy: 0.9998409152030945\n",
      "Validation - Autoencoder Loss: 0.0027234184090048075, Discriminator Loss: 0.03765671327710152, Discriminator Accuracy: 0.9880589246749878\n"
     ]
    },
    {
     "name": "stderr",
     "output_type": "stream",
     "text": [
      "100%|██████████| 491/491 [02:35<00:00,  3.16it/s]\n"
     ]
    },
    {
     "name": "stdout",
     "output_type": "stream",
     "text": [
      "Epoch 24, Autoencoder Loss: 0.002145696897059679, Discriminator Loss: 0.007615531329065561, Discriminator Accuracy: 0.999554455280304\n",
      "Validation - Autoencoder Loss: 0.002661621430888772, Discriminator Loss: 0.7108976244926453, Discriminator Accuracy: 0.8448124527931213\n"
     ]
    },
    {
     "name": "stderr",
     "output_type": "stream",
     "text": [
      "100%|██████████| 491/491 [02:34<00:00,  3.17it/s]\n"
     ]
    },
    {
     "name": "stdout",
     "output_type": "stream",
     "text": [
      "Epoch 25, Autoencoder Loss: 0.0021141895558685064, Discriminator Loss: 0.010467316955327988, Discriminator Accuracy: 0.9998409152030945\n",
      "Validation - Autoencoder Loss: 0.0036673222202807665, Discriminator Loss: 0.04824149236083031, Discriminator Accuracy: 0.9782851338386536\n"
     ]
    },
    {
     "name": "stderr",
     "output_type": "stream",
     "text": [
      "100%|██████████| 491/491 [02:34<00:00,  3.18it/s]\n"
     ]
    },
    {
     "name": "stdout",
     "output_type": "stream",
     "text": [
      "Epoch 26, Autoencoder Loss: 0.002072657225653529, Discriminator Loss: 0.002788507379591465, Discriminator Accuracy: 0.9999363422393799\n",
      "Validation - Autoencoder Loss: 0.002675949363037944, Discriminator Loss: 0.03383950889110565, Discriminator Accuracy: 0.9899644255638123\n"
     ]
    },
    {
     "name": "stderr",
     "output_type": "stream",
     "text": [
      "100%|██████████| 491/491 [02:36<00:00,  3.14it/s]\n"
     ]
    },
    {
     "name": "stdout",
     "output_type": "stream",
     "text": [
      "Epoch 27, Autoencoder Loss: 0.0019880488980561495, Discriminator Loss: 0.0032301193568855524, Discriminator Accuracy: 0.9999681711196899\n",
      "Validation - Autoencoder Loss: 0.002718850737437606, Discriminator Loss: 0.029323941096663475, Discriminator Accuracy: 0.9914888143539429\n"
     ]
    },
    {
     "name": "stderr",
     "output_type": "stream",
     "text": [
      "100%|██████████| 491/491 [02:35<00:00,  3.16it/s]\n"
     ]
    },
    {
     "name": "stdout",
     "output_type": "stream",
     "text": [
      "Epoch 28, Autoencoder Loss: 0.0019567180424928665, Discriminator Loss: 0.009356178343296051, Discriminator Accuracy: 0.9994590282440186\n",
      "Validation - Autoencoder Loss: 0.0028351591899991035, Discriminator Loss: 0.18836839497089386, Discriminator Accuracy: 0.9664711356163025\n"
     ]
    },
    {
     "name": "stderr",
     "output_type": "stream",
     "text": [
      "100%|██████████| 491/491 [02:35<00:00,  3.17it/s]\n"
     ]
    },
    {
     "name": "stdout",
     "output_type": "stream",
     "text": [
      "Epoch 29, Autoencoder Loss: 0.0019283813890069723, Discriminator Loss: 0.005380651447921991, Discriminator Accuracy: 0.9998090863227844\n",
      "Validation - Autoencoder Loss: 0.002859514206647873, Discriminator Loss: 0.02580629289150238, Discriminator Accuracy: 0.9912347793579102\n"
     ]
    },
    {
     "name": "stderr",
     "output_type": "stream",
     "text": [
      "100%|██████████| 491/491 [02:35<00:00,  3.15it/s]\n"
     ]
    },
    {
     "name": "stdout",
     "output_type": "stream",
     "text": [
      "Epoch 30, Autoencoder Loss: 0.001910522347316146, Discriminator Loss: 0.004281311761587858, Discriminator Accuracy: 0.9997772574424744\n",
      "Validation - Autoencoder Loss: 0.0025522527284920216, Discriminator Loss: 0.030051225796341896, Discriminator Accuracy: 0.9898374080657959\n"
     ]
    },
    {
     "name": "stderr",
     "output_type": "stream",
     "text": [
      "100%|██████████| 491/491 [02:35<00:00,  3.17it/s]\n"
     ]
    },
    {
     "name": "stdout",
     "output_type": "stream",
     "text": [
      "Epoch 31, Autoencoder Loss: 0.0018188819522038102, Discriminator Loss: 0.0023209741339087486, Discriminator Accuracy: 1.0\n",
      "Validation - Autoencoder Loss: 0.002651178976520896, Discriminator Loss: 0.030478760600090027, Discriminator Accuracy: 0.991107702255249\n"
     ]
    },
    {
     "name": "stderr",
     "output_type": "stream",
     "text": [
      "100%|██████████| 491/491 [02:35<00:00,  3.16it/s]\n"
     ]
    },
    {
     "name": "stdout",
     "output_type": "stream",
     "text": [
      "Epoch 32, Autoencoder Loss: 0.0018072202801704407, Discriminator Loss: 0.003590431297197938, Discriminator Accuracy: 1.0\n",
      "Validation - Autoencoder Loss: 0.0027774989139288664, Discriminator Loss: 0.04875679686665535, Discriminator Accuracy: 0.9832317233085632\n"
     ]
    },
    {
     "name": "stderr",
     "output_type": "stream",
     "text": [
      "100%|██████████| 491/491 [02:35<00:00,  3.16it/s]\n"
     ]
    },
    {
     "name": "stdout",
     "output_type": "stream",
     "text": [
      "Epoch 33, Autoencoder Loss: 0.0017861035885289311, Discriminator Loss: 0.005443055182695389, Discriminator Accuracy: 0.9999363422393799\n",
      "Validation - Autoencoder Loss: 0.0029188115149736404, Discriminator Loss: 0.023627551272511482, Discriminator Accuracy: 0.991107702255249\n"
     ]
    },
    {
     "name": "stderr",
     "output_type": "stream",
     "text": [
      "100%|██████████| 491/491 [02:34<00:00,  3.17it/s]\n"
     ]
    },
    {
     "name": "stdout",
     "output_type": "stream",
     "text": [
      "Epoch 34, Autoencoder Loss: 0.0017376795876771212, Discriminator Loss: 0.0006112753180786967, Discriminator Accuracy: 0.9999681711196899\n",
      "Validation - Autoencoder Loss: 0.0028301910497248173, Discriminator Loss: 0.023528939113020897, Discriminator Accuracy: 0.9925050735473633\n"
     ]
    },
    {
     "name": "stderr",
     "output_type": "stream",
     "text": [
      "100%|██████████| 491/491 [02:34<00:00,  3.17it/s]\n"
     ]
    },
    {
     "name": "stdout",
     "output_type": "stream",
     "text": [
      "Epoch 35, Autoencoder Loss: 0.0017109453910961747, Discriminator Loss: 6.263799878070131e-05, Discriminator Accuracy: 1.0\n",
      "Validation - Autoencoder Loss: 0.0027900340501219034, Discriminator Loss: 0.02371053211390972, Discriminator Accuracy: 0.9930132031440735\n"
     ]
    },
    {
     "name": "stderr",
     "output_type": "stream",
     "text": [
      "100%|██████████| 491/491 [02:34<00:00,  3.19it/s]\n"
     ]
    },
    {
     "name": "stdout",
     "output_type": "stream",
     "text": [
      "Epoch 36, Autoencoder Loss: 0.001697274623438716, Discriminator Loss: 0.00920457486063242, Discriminator Accuracy: 0.9996181130409241\n",
      "Validation - Autoencoder Loss: 0.0026371278800070286, Discriminator Loss: 0.03928951174020767, Discriminator Accuracy: 0.9866693019866943\n"
     ]
    },
    {
     "name": "stderr",
     "output_type": "stream",
     "text": [
      "100%|██████████| 491/491 [02:34<00:00,  3.18it/s]\n"
     ]
    },
    {
     "name": "stdout",
     "output_type": "stream",
     "text": [
      "Epoch 37, Autoencoder Loss: 0.0026846143882721663, Discriminator Loss: 0.024542374536395073, Discriminator Accuracy: 0.9950674772262573\n",
      "Validation - Autoencoder Loss: 0.013810782693326473, Discriminator Loss: 1.0531657934188843, Discriminator Accuracy: 0.5599477887153625\n"
     ]
    },
    {
     "name": "stderr",
     "output_type": "stream",
     "text": [
      "100%|██████████| 491/491 [02:32<00:00,  3.22it/s]\n"
     ]
    },
    {
     "name": "stdout",
     "output_type": "stream",
     "text": [
      "Epoch 38, Autoencoder Loss: 0.0024869912303984165, Discriminator Loss: 0.0186064001172781, Discriminator Accuracy: 0.9981542825698853\n",
      "Validation - Autoencoder Loss: 0.0027286489494144917, Discriminator Loss: 0.023827088996767998, Discriminator Accuracy: 0.9918699264526367\n"
     ]
    },
    {
     "name": "stderr",
     "output_type": "stream",
     "text": [
      "100%|██████████| 491/491 [02:32<00:00,  3.22it/s]\n"
     ]
    },
    {
     "name": "stdout",
     "output_type": "stream",
     "text": [
      "Epoch 39, Autoencoder Loss: 0.0016946052201092243, Discriminator Loss: 0.00043935238500125706, Discriminator Accuracy: 1.0\n",
      "Validation - Autoencoder Loss: 0.0027229110710322857, Discriminator Loss: 0.023294590413570404, Discriminator Accuracy: 0.9937754273414612\n"
     ]
    },
    {
     "name": "stderr",
     "output_type": "stream",
     "text": [
      "100%|██████████| 491/491 [02:32<00:00,  3.21it/s]\n"
     ]
    },
    {
     "name": "stdout",
     "output_type": "stream",
     "text": [
      "Epoch 40, Autoencoder Loss: 0.0016074333107098937, Discriminator Loss: 0.0004073258023709059, Discriminator Accuracy: 1.0\n",
      "Validation - Autoencoder Loss: 0.002601366024464369, Discriminator Loss: 0.0215622466057539, Discriminator Accuracy: 0.9937754273414612\n"
     ]
    },
    {
     "name": "stderr",
     "output_type": "stream",
     "text": [
      "100%|██████████| 491/491 [02:32<00:00,  3.21it/s]\n"
     ]
    },
    {
     "name": "stdout",
     "output_type": "stream",
     "text": [
      "Epoch 41, Autoencoder Loss: 0.0015761262038722634, Discriminator Loss: 8.099249680526555e-05, Discriminator Accuracy: 1.0\n",
      "Validation - Autoencoder Loss: 0.0026510704774409533, Discriminator Loss: 0.022099409252405167, Discriminator Accuracy: 0.9942835569381714\n"
     ]
    },
    {
     "name": "stderr",
     "output_type": "stream",
     "text": [
      "100%|██████████| 491/491 [02:32<00:00,  3.21it/s]\n"
     ]
    },
    {
     "name": "stdout",
     "output_type": "stream",
     "text": [
      "Epoch 42, Autoencoder Loss: 0.0015559244202449918, Discriminator Loss: 2.616206074890215e-05, Discriminator Accuracy: 1.0\n",
      "Validation - Autoencoder Loss: 0.0026205244939774275, Discriminator Loss: 0.023289762437343597, Discriminator Accuracy: 0.9937754273414612\n"
     ]
    },
    {
     "name": "stderr",
     "output_type": "stream",
     "text": [
      "100%|██████████| 491/491 [02:33<00:00,  3.21it/s]\n"
     ]
    },
    {
     "name": "stdout",
     "output_type": "stream",
     "text": [
      "Epoch 43, Autoencoder Loss: 0.0015599944163113832, Discriminator Loss: 0.006693651899695396, Discriminator Accuracy: 0.9996499419212341\n",
      "Validation - Autoencoder Loss: 0.0026661702431738377, Discriminator Loss: 0.037175197154283524, Discriminator Accuracy: 0.9862881898880005\n"
     ]
    },
    {
     "name": "stderr",
     "output_type": "stream",
     "text": [
      "100%|██████████| 491/491 [02:34<00:00,  3.17it/s]\n"
     ]
    },
    {
     "name": "stdout",
     "output_type": "stream",
     "text": [
      "Epoch 44, Autoencoder Loss: 0.001541173318400979, Discriminator Loss: 0.001137558720074594, Discriminator Accuracy: 1.0\n",
      "Validation - Autoencoder Loss: 0.0025368023198097944, Discriminator Loss: 0.023333296179771423, Discriminator Accuracy: 0.9928861856460571\n"
     ]
    },
    {
     "name": "stderr",
     "output_type": "stream",
     "text": [
      "100%|██████████| 491/491 [02:35<00:00,  3.16it/s]\n"
     ]
    },
    {
     "name": "stdout",
     "output_type": "stream",
     "text": [
      "Epoch 45, Autoencoder Loss: 0.0015331630129367113, Discriminator Loss: 0.0022057730238884687, Discriminator Accuracy: 0.9999681711196899\n",
      "Validation - Autoencoder Loss: 0.0025812729727476835, Discriminator Loss: 0.02288917824625969, Discriminator Accuracy: 0.9927591681480408\n"
     ]
    },
    {
     "name": "stderr",
     "output_type": "stream",
     "text": [
      "100%|██████████| 491/491 [02:35<00:00,  3.16it/s]\n"
     ]
    },
    {
     "name": "stdout",
     "output_type": "stream",
     "text": [
      "Epoch 46, Autoencoder Loss: 0.001517905038781464, Discriminator Loss: 0.0010118552017956972, Discriminator Accuracy: 1.0\n",
      "Validation - Autoencoder Loss: 0.002745372010394931, Discriminator Loss: 0.02148624323308468, Discriminator Accuracy: 0.9928861856460571\n"
     ]
    },
    {
     "name": "stderr",
     "output_type": "stream",
     "text": [
      "100%|██████████| 491/491 [02:34<00:00,  3.17it/s]\n"
     ]
    },
    {
     "name": "stdout",
     "output_type": "stream",
     "text": [
      "Epoch 47, Autoencoder Loss: 0.0015160607872530818, Discriminator Loss: 0.0007345724734477699, Discriminator Accuracy: 1.0\n",
      "Validation - Autoencoder Loss: 0.0026217992417514324, Discriminator Loss: 0.0233086459338665, Discriminator Accuracy: 0.9922664165496826\n"
     ]
    },
    {
     "name": "stderr",
     "output_type": "stream",
     "text": [
      "100%|██████████| 491/491 [02:33<00:00,  3.20it/s]\n"
     ]
    },
    {
     "name": "stdout",
     "output_type": "stream",
     "text": [
      "Epoch 48, Autoencoder Loss: 0.001490153488703072, Discriminator Loss: 0.00010162561375182122, Discriminator Accuracy: 1.0\n",
      "Validation - Autoencoder Loss: 0.002627672627568245, Discriminator Loss: 0.025213759392499924, Discriminator Accuracy: 0.9927591681480408\n"
     ]
    },
    {
     "name": "stderr",
     "output_type": "stream",
     "text": [
      "100%|██████████| 491/491 [02:35<00:00,  3.15it/s]\n"
     ]
    },
    {
     "name": "stdout",
     "output_type": "stream",
     "text": [
      "Epoch 49, Autoencoder Loss: 0.001477520214393735, Discriminator Loss: 0.010957111604511738, Discriminator Accuracy: 0.9997135996818542\n",
      "Validation - Autoencoder Loss: 0.002892296062782407, Discriminator Loss: 0.03802117332816124, Discriminator Accuracy: 0.9861611723899841\n"
     ]
    },
    {
     "name": "stderr",
     "output_type": "stream",
     "text": [
      "100%|██████████| 491/491 [02:34<00:00,  3.18it/s]\n"
     ]
    },
    {
     "name": "stdout",
     "output_type": "stream",
     "text": [
      "Epoch 50, Autoencoder Loss: 0.0014702037442475557, Discriminator Loss: 0.0014499810058623552, Discriminator Accuracy: 1.0\n",
      "Validation - Autoencoder Loss: 0.0026085595600306988, Discriminator Loss: 0.02345387078821659, Discriminator Accuracy: 0.9922510385513306\n"
     ]
    },
    {
     "name": "stderr",
     "output_type": "stream",
     "text": [
      "100%|██████████| 491/491 [02:35<00:00,  3.16it/s]\n"
     ]
    },
    {
     "name": "stdout",
     "output_type": "stream",
     "text": [
      "Epoch 51, Autoencoder Loss: 0.0014478482771664858, Discriminator Loss: 0.0005435544881038368, Discriminator Accuracy: 1.0\n",
      "Validation - Autoencoder Loss: 0.0026465689297765493, Discriminator Loss: 0.02438862808048725, Discriminator Accuracy: 0.9927668571472168\n"
     ]
    },
    {
     "name": "stderr",
     "output_type": "stream",
     "text": [
      "100%|██████████| 491/491 [02:35<00:00,  3.15it/s]\n"
     ]
    },
    {
     "name": "stdout",
     "output_type": "stream",
     "text": [
      "Epoch 52, Autoencoder Loss: 0.0014397408813238144, Discriminator Loss: 0.00025637171347625554, Discriminator Accuracy: 1.0\n",
      "Validation - Autoencoder Loss: 0.0030464634764939547, Discriminator Loss: 0.029984718188643456, Discriminator Accuracy: 0.9895910024642944\n"
     ]
    },
    {
     "name": "stderr",
     "output_type": "stream",
     "text": [
      "100%|██████████| 491/491 [02:34<00:00,  3.19it/s]\n"
     ]
    },
    {
     "name": "stdout",
     "output_type": "stream",
     "text": [
      "Epoch 53, Autoencoder Loss: 0.001422595465555787, Discriminator Loss: 0.005135823506861925, Discriminator Accuracy: 0.9998409152030945\n",
      "Validation - Autoencoder Loss: 0.0028025724459439516, Discriminator Loss: 0.059112612158060074, Discriminator Accuracy: 0.9777693152427673\n"
     ]
    },
    {
     "name": "stderr",
     "output_type": "stream",
     "text": [
      "100%|██████████| 491/491 [02:34<00:00,  3.18it/s]\n"
     ]
    },
    {
     "name": "stdout",
     "output_type": "stream",
     "text": [
      "Epoch 54, Autoencoder Loss: 0.0014119029510766268, Discriminator Loss: 0.0030423388816416264, Discriminator Accuracy: 0.9999363422393799\n",
      "Validation - Autoencoder Loss: 0.004775587003678083, Discriminator Loss: 0.05162461847066879, Discriminator Accuracy: 0.980952799320221\n"
     ]
    },
    {
     "name": "stderr",
     "output_type": "stream",
     "text": [
      "100%|██████████| 491/491 [02:35<00:00,  3.15it/s]\n"
     ]
    },
    {
     "name": "stdout",
     "output_type": "stream",
     "text": [
      "Epoch 55, Autoencoder Loss: 0.0020174728706479073, Discriminator Loss: 0.019665151834487915, Discriminator Accuracy: 0.9970404505729675\n",
      "Validation - Autoencoder Loss: 0.002628572750836611, Discriminator Loss: 0.02422669343650341, Discriminator Accuracy: 0.9925050735473633\n"
     ]
    },
    {
     "name": "stderr",
     "output_type": "stream",
     "text": [
      "100%|██████████| 491/491 [02:33<00:00,  3.19it/s]\n"
     ]
    },
    {
     "name": "stdout",
     "output_type": "stream",
     "text": [
      "Epoch 56, Autoencoder Loss: 0.0013536411570385098, Discriminator Loss: 5.937164678471163e-05, Discriminator Accuracy: 1.0\n",
      "Validation - Autoencoder Loss: 0.0026163437869399786, Discriminator Loss: 0.022232918068766594, Discriminator Accuracy: 0.9936560392379761\n"
     ]
    },
    {
     "name": "stderr",
     "output_type": "stream",
     "text": [
      "100%|██████████| 491/491 [02:36<00:00,  3.14it/s]\n"
     ]
    },
    {
     "name": "stdout",
     "output_type": "stream",
     "text": [
      "Epoch 57, Autoencoder Loss: 0.0013369601219892502, Discriminator Loss: 3.107286829617806e-05, Discriminator Accuracy: 1.0\n",
      "Validation - Autoencoder Loss: 0.00267559546045959, Discriminator Loss: 0.022515656426548958, Discriminator Accuracy: 0.9935213327407837\n"
     ]
    },
    {
     "name": "stderr",
     "output_type": "stream",
     "text": [
      "100%|██████████| 491/491 [02:39<00:00,  3.09it/s]\n"
     ]
    },
    {
     "name": "stdout",
     "output_type": "stream",
     "text": [
      "Epoch 58, Autoencoder Loss: 0.0013555045006796718, Discriminator Loss: 9.035191033035517e-05, Discriminator Accuracy: 1.0\n",
      "Validation - Autoencoder Loss: 0.0029042046517133713, Discriminator Loss: 0.024597318843007088, Discriminator Accuracy: 0.9930132031440735\n"
     ]
    },
    {
     "name": "stderr",
     "output_type": "stream",
     "text": [
      "100%|██████████| 491/491 [02:37<00:00,  3.13it/s]\n"
     ]
    },
    {
     "name": "stdout",
     "output_type": "stream",
     "text": [
      "Epoch 59, Autoencoder Loss: 0.0013553581666201353, Discriminator Loss: 1.4708174603583757e-05, Discriminator Accuracy: 1.0\n",
      "Validation - Autoencoder Loss: 0.00263594975695014, Discriminator Loss: 0.02370069921016693, Discriminator Accuracy: 0.9939024448394775\n"
     ]
    },
    {
     "name": "stderr",
     "output_type": "stream",
     "text": [
      "100%|██████████| 491/491 [02:38<00:00,  3.10it/s]\n"
     ]
    },
    {
     "name": "stdout",
     "output_type": "stream",
     "text": [
      "Epoch 60, Autoencoder Loss: 0.001338297501206398, Discriminator Loss: 7.663933502044529e-06, Discriminator Accuracy: 1.0\n",
      "Validation - Autoencoder Loss: 0.0026565741281956434, Discriminator Loss: 0.024787437170743942, Discriminator Accuracy: 0.9944105744361877\n"
     ]
    },
    {
     "name": "stderr",
     "output_type": "stream",
     "text": [
      "100%|██████████| 491/491 [02:37<00:00,  3.12it/s]\n"
     ]
    },
    {
     "name": "stdout",
     "output_type": "stream",
     "text": [
      "Epoch 61, Autoencoder Loss: 0.0013340461300686002, Discriminator Loss: 5.4495058066095226e-06, Discriminator Accuracy: 1.0\n",
      "Validation - Autoencoder Loss: 0.002674833172932267, Discriminator Loss: 0.02528412640094757, Discriminator Accuracy: 0.9940294623374939\n"
     ]
    },
    {
     "name": "stderr",
     "output_type": "stream",
     "text": [
      "100%|██████████| 491/491 [02:39<00:00,  3.09it/s]\n"
     ]
    },
    {
     "name": "stdout",
     "output_type": "stream",
     "text": [
      "Epoch 62, Autoencoder Loss: 0.0013339585857465863, Discriminator Loss: 0.009589715860784054, Discriminator Accuracy: 0.999586284160614\n",
      "Validation - Autoencoder Loss: 0.002718545263633132, Discriminator Loss: 0.04072682559490204, Discriminator Accuracy: 0.9862805008888245\n"
     ]
    },
    {
     "name": "stderr",
     "output_type": "stream",
     "text": [
      "100%|██████████| 491/491 [02:37<00:00,  3.12it/s]\n"
     ]
    },
    {
     "name": "stdout",
     "output_type": "stream",
     "text": [
      "Epoch 63, Autoencoder Loss: 0.0013052922440692782, Discriminator Loss: 0.0010695481905713677, Discriminator Accuracy: 1.0\n",
      "Validation - Autoencoder Loss: 0.0026428080163896084, Discriminator Loss: 0.020507361739873886, Discriminator Accuracy: 0.9931402206420898\n"
     ]
    },
    {
     "name": "stderr",
     "output_type": "stream",
     "text": [
      "100%|██████████| 491/491 [02:38<00:00,  3.09it/s]\n"
     ]
    },
    {
     "name": "stdout",
     "output_type": "stream",
     "text": [
      "Epoch 64, Autoencoder Loss: 0.0013012572890147567, Discriminator Loss: 2.061441045952961e-05, Discriminator Accuracy: 1.0\n",
      "Validation - Autoencoder Loss: 0.0026524169370532036, Discriminator Loss: 0.01965061016380787, Discriminator Accuracy: 0.9939024448394775\n"
     ]
    },
    {
     "name": "stderr",
     "output_type": "stream",
     "text": [
      "100%|██████████| 491/491 [02:39<00:00,  3.08it/s]\n"
     ]
    },
    {
     "name": "stdout",
     "output_type": "stream",
     "text": [
      "Epoch 65, Autoencoder Loss: 0.0012924297479912639, Discriminator Loss: 0.00021454691886901855, Discriminator Accuracy: 1.0\n",
      "Validation - Autoencoder Loss: 0.0028035289142280817, Discriminator Loss: 0.03416837751865387, Discriminator Accuracy: 0.9881860017776489\n"
     ]
    },
    {
     "name": "stderr",
     "output_type": "stream",
     "text": [
      "100%|██████████| 491/491 [02:37<00:00,  3.12it/s]\n"
     ]
    },
    {
     "name": "stdout",
     "output_type": "stream",
     "text": [
      "Epoch 66, Autoencoder Loss: 0.0012846658937633038, Discriminator Loss: 0.0051774620078504086, Discriminator Accuracy: 0.9999363422393799\n",
      "Validation - Autoencoder Loss: 0.0025847475044429302, Discriminator Loss: 0.02380521595478058, Discriminator Accuracy: 0.9904802441596985\n"
     ]
    },
    {
     "name": "stderr",
     "output_type": "stream",
     "text": [
      "100%|██████████| 491/491 [02:36<00:00,  3.14it/s]\n"
     ]
    },
    {
     "name": "stdout",
     "output_type": "stream",
     "text": [
      "Epoch 67, Autoencoder Loss: 0.0012784259160980582, Discriminator Loss: 0.0016692249337211251, Discriminator Accuracy: 1.0\n",
      "Validation - Autoencoder Loss: 0.0026943436823785305, Discriminator Loss: 0.024967631325125694, Discriminator Accuracy: 0.9909883737564087\n"
     ]
    },
    {
     "name": "stderr",
     "output_type": "stream",
     "text": [
      "100%|██████████| 491/491 [02:36<00:00,  3.14it/s]\n"
     ]
    },
    {
     "name": "stdout",
     "output_type": "stream",
     "text": [
      "Epoch 68, Autoencoder Loss: 0.0012675144243985415, Discriminator Loss: 0.0004763818287756294, Discriminator Accuracy: 1.0\n",
      "Validation - Autoencoder Loss: 0.002674177521839738, Discriminator Loss: 0.02311297506093979, Discriminator Accuracy: 0.9927591681480408\n"
     ]
    },
    {
     "name": "stderr",
     "output_type": "stream",
     "text": [
      "100%|██████████| 491/491 [02:36<00:00,  3.15it/s]\n"
     ]
    },
    {
     "name": "stdout",
     "output_type": "stream",
     "text": [
      "Epoch 69, Autoencoder Loss: 0.001262347912415862, Discriminator Loss: 0.0009068396175280213, Discriminator Accuracy: 1.0\n",
      "Validation - Autoencoder Loss: 0.00258257775567472, Discriminator Loss: 0.024781400337815285, Discriminator Accuracy: 0.9917429089546204\n"
     ]
    },
    {
     "name": "stderr",
     "output_type": "stream",
     "text": [
      "100%|██████████| 491/491 [02:41<00:00,  3.03it/s]\n"
     ]
    },
    {
     "name": "stdout",
     "output_type": "stream",
     "text": [
      "Epoch 70, Autoencoder Loss: 0.0012413900112733245, Discriminator Loss: 5.675757347489707e-05, Discriminator Accuracy: 1.0\n",
      "Validation - Autoencoder Loss: 0.002642993349581957, Discriminator Loss: 0.022036237642169, Discriminator Accuracy: 0.9931402206420898\n"
     ]
    },
    {
     "name": "stderr",
     "output_type": "stream",
     "text": [
      "100%|██████████| 491/491 [03:21<00:00,  2.43it/s]\n"
     ]
    },
    {
     "name": "stdout",
     "output_type": "stream",
     "text": [
      "Epoch 71, Autoencoder Loss: 0.0012362527195364237, Discriminator Loss: 6.376975761668291e-06, Discriminator Accuracy: 1.0\n",
      "Validation - Autoencoder Loss: 0.0028787918854504824, Discriminator Loss: 0.021562349051237106, Discriminator Accuracy: 0.9935213327407837\n"
     ]
    },
    {
     "name": "stderr",
     "output_type": "stream",
     "text": [
      "100%|██████████| 491/491 [02:46<00:00,  2.96it/s]\n"
     ]
    },
    {
     "name": "stdout",
     "output_type": "stream",
     "text": [
      "Epoch 72, Autoencoder Loss: 0.0012320316163823009, Discriminator Loss: 0.004931123927235603, Discriminator Accuracy: 0.9999045133590698\n",
      "Validation - Autoencoder Loss: 0.0026806192472577095, Discriminator Loss: 0.02562856301665306, Discriminator Accuracy: 0.9901068210601807\n"
     ]
    },
    {
     "name": "stderr",
     "output_type": "stream",
     "text": [
      "100%|██████████| 491/491 [02:42<00:00,  3.03it/s]\n"
     ]
    },
    {
     "name": "stdout",
     "output_type": "stream",
     "text": [
      "Epoch 73, Autoencoder Loss: 0.0012508120853453875, Discriminator Loss: 0.001654445193707943, Discriminator Accuracy: 1.0\n",
      "Validation - Autoencoder Loss: 0.0026421924121677876, Discriminator Loss: 0.028086429461836815, Discriminator Accuracy: 0.9895833134651184\n"
     ]
    },
    {
     "name": "stderr",
     "output_type": "stream",
     "text": [
      "100%|██████████| 491/491 [02:37<00:00,  3.12it/s]\n"
     ]
    },
    {
     "name": "stdout",
     "output_type": "stream",
     "text": [
      "Epoch 74, Autoencoder Loss: 0.0012006203178316355, Discriminator Loss: 0.0008881186950020492, Discriminator Accuracy: 0.9999681711196899\n",
      "Validation - Autoencoder Loss: 0.0026073423214256763, Discriminator Loss: 0.0275118388235569, Discriminator Accuracy: 0.9913617968559265\n"
     ]
    },
    {
     "name": "stderr",
     "output_type": "stream",
     "text": [
      "100%|██████████| 491/491 [02:40<00:00,  3.07it/s]\n"
     ]
    },
    {
     "name": "stdout",
     "output_type": "stream",
     "text": [
      "Epoch 75, Autoencoder Loss: 0.0012040414148941636, Discriminator Loss: 0.0027403817512094975, Discriminator Accuracy: 0.9999045133590698\n",
      "Validation - Autoencoder Loss: 0.0025505523663014174, Discriminator Loss: 0.03680339455604553, Discriminator Accuracy: 0.9888288378715515\n"
     ]
    },
    {
     "name": "stderr",
     "output_type": "stream",
     "text": [
      "100%|██████████| 491/491 [02:39<00:00,  3.08it/s]\n"
     ]
    },
    {
     "name": "stdout",
     "output_type": "stream",
     "text": [
      "Epoch 76, Autoencoder Loss: 0.0012025964679196477, Discriminator Loss: 0.0007066859980113804, Discriminator Accuracy: 1.0\n",
      "Validation - Autoencoder Loss: 0.002643173560500145, Discriminator Loss: 0.027280235663056374, Discriminator Accuracy: 0.9925050735473633\n"
     ]
    },
    {
     "name": "stderr",
     "output_type": "stream",
     "text": [
      "100%|██████████| 491/491 [02:37<00:00,  3.12it/s]\n"
     ]
    },
    {
     "name": "stdout",
     "output_type": "stream",
     "text": [
      "Epoch 77, Autoencoder Loss: 0.0011918989475816488, Discriminator Loss: 1.2025546311633661e-05, Discriminator Accuracy: 1.0\n",
      "Validation - Autoencoder Loss: 0.002548846183344722, Discriminator Loss: 0.026492085307836533, Discriminator Accuracy: 0.9933943152427673\n"
     ]
    },
    {
     "name": "stderr",
     "output_type": "stream",
     "text": [
      "100%|██████████| 491/491 [02:37<00:00,  3.12it/s]\n"
     ]
    },
    {
     "name": "stdout",
     "output_type": "stream",
     "text": [
      "Epoch 78, Autoencoder Loss: 0.00118698098231107, Discriminator Loss: 5.834847797814291e-06, Discriminator Accuracy: 1.0\n",
      "Validation - Autoencoder Loss: 0.0025971687864512205, Discriminator Loss: 0.026762163266539574, Discriminator Accuracy: 0.9931402206420898\n"
     ]
    },
    {
     "name": "stderr",
     "output_type": "stream",
     "text": [
      "100%|██████████| 491/491 [02:37<00:00,  3.12it/s]\n"
     ]
    },
    {
     "name": "stdout",
     "output_type": "stream",
     "text": [
      "Epoch 79, Autoencoder Loss: 0.001179198268800974, Discriminator Loss: 4.12572308050585e-06, Discriminator Accuracy: 1.0\n",
      "Validation - Autoencoder Loss: 0.0027257974725216627, Discriminator Loss: 0.026853865012526512, Discriminator Accuracy: 0.9930132031440735\n"
     ]
    },
    {
     "name": "stderr",
     "output_type": "stream",
     "text": [
      "100%|██████████| 491/491 [02:36<00:00,  3.15it/s]\n"
     ]
    },
    {
     "name": "stdout",
     "output_type": "stream",
     "text": [
      "Epoch 80, Autoencoder Loss: 0.0011772930156439543, Discriminator Loss: 6.926497007953003e-06, Discriminator Accuracy: 1.0\n",
      "Validation - Autoencoder Loss: 0.002720521530136466, Discriminator Loss: 0.02839060127735138, Discriminator Accuracy: 0.9928861856460571\n"
     ]
    },
    {
     "name": "stderr",
     "output_type": "stream",
     "text": [
      "100%|██████████| 491/491 [02:35<00:00,  3.16it/s]\n"
     ]
    },
    {
     "name": "stdout",
     "output_type": "stream",
     "text": [
      "Epoch 81, Autoencoder Loss: 0.001168289571069181, Discriminator Loss: 0.006434741895645857, Discriminator Accuracy: 0.9997135996818542\n",
      "Validation - Autoencoder Loss: 0.002729262923821807, Discriminator Loss: 0.1239924505352974, Discriminator Accuracy: 0.9691541790962219\n"
     ]
    },
    {
     "name": "stderr",
     "output_type": "stream",
     "text": [
      "100%|██████████| 491/491 [02:35<00:00,  3.16it/s]\n"
     ]
    },
    {
     "name": "stdout",
     "output_type": "stream",
     "text": [
      "Epoch 82, Autoencoder Loss: 0.0011577747063711286, Discriminator Loss: 0.003368254052475095, Discriminator Accuracy: 0.9998726844787598\n",
      "Validation - Autoencoder Loss: 0.002717221388593316, Discriminator Loss: 0.0284475926309824, Discriminator Accuracy: 0.9907266497612\n"
     ]
    },
    {
     "name": "stderr",
     "output_type": "stream",
     "text": [
      "100%|██████████| 491/491 [02:35<00:00,  3.16it/s]\n"
     ]
    },
    {
     "name": "stdout",
     "output_type": "stream",
     "text": [
      "Epoch 83, Autoencoder Loss: 0.0011475766077637672, Discriminator Loss: 6.860985740786418e-05, Discriminator Accuracy: 1.0\n",
      "Validation - Autoencoder Loss: 0.002618925180286169, Discriminator Loss: 0.02828027680516243, Discriminator Accuracy: 0.9919969439506531\n"
     ]
    },
    {
     "name": "stderr",
     "output_type": "stream",
     "text": [
      "100%|██████████| 491/491 [02:35<00:00,  3.16it/s]\n"
     ]
    },
    {
     "name": "stdout",
     "output_type": "stream",
     "text": [
      "Epoch 84, Autoencoder Loss: 0.0011492884950712323, Discriminator Loss: 1.0623765774653293e-05, Discriminator Accuracy: 1.0\n",
      "Validation - Autoencoder Loss: 0.0026098820380866528, Discriminator Loss: 0.02505326271057129, Discriminator Accuracy: 0.9928861856460571\n"
     ]
    },
    {
     "name": "stderr",
     "output_type": "stream",
     "text": [
      "100%|██████████| 491/491 [02:35<00:00,  3.17it/s]\n"
     ]
    },
    {
     "name": "stdout",
     "output_type": "stream",
     "text": [
      "Epoch 85, Autoencoder Loss: 0.0011429113801568747, Discriminator Loss: 6.098102858231869e-06, Discriminator Accuracy: 1.0\n",
      "Validation - Autoencoder Loss: 0.0026938270311802626, Discriminator Loss: 0.027107924222946167, Discriminator Accuracy: 0.9913694858551025\n"
     ]
    },
    {
     "name": "stderr",
     "output_type": "stream",
     "text": [
      "100%|██████████| 491/491 [02:33<00:00,  3.19it/s]\n"
     ]
    },
    {
     "name": "stdout",
     "output_type": "stream",
     "text": [
      "Epoch 86, Autoencoder Loss: 0.0011424865806475282, Discriminator Loss: 0.001617614645510912, Discriminator Accuracy: 0.9999681711196899\n",
      "Validation - Autoencoder Loss: 0.002762656193226576, Discriminator Loss: 0.03248579427599907, Discriminator Accuracy: 0.9912347793579102\n"
     ]
    },
    {
     "name": "stderr",
     "output_type": "stream",
     "text": [
      "100%|██████████| 491/491 [02:33<00:00,  3.20it/s]\n"
     ]
    },
    {
     "name": "stdout",
     "output_type": "stream",
     "text": [
      "Epoch 87, Autoencoder Loss: 0.0011306857923045754, Discriminator Loss: 0.00046444477629847825, Discriminator Accuracy: 1.0\n",
      "Validation - Autoencoder Loss: 0.002712438814342022, Discriminator Loss: 0.030502600595355034, Discriminator Accuracy: 0.9919969439506531\n"
     ]
    },
    {
     "name": "stderr",
     "output_type": "stream",
     "text": [
      "100%|██████████| 491/491 [02:33<00:00,  3.20it/s]\n"
     ]
    },
    {
     "name": "stdout",
     "output_type": "stream",
     "text": [
      "Epoch 88, Autoencoder Loss: 0.0011221743188798428, Discriminator Loss: 0.003354218089953065, Discriminator Accuracy: 0.9999363422393799\n",
      "Validation - Autoencoder Loss: 0.0025833083782345057, Discriminator Loss: 0.026318788528442383, Discriminator Accuracy: 0.9922510385513306\n"
     ]
    },
    {
     "name": "stderr",
     "output_type": "stream",
     "text": [
      "100%|██████████| 491/491 [02:33<00:00,  3.21it/s]\n"
     ]
    },
    {
     "name": "stdout",
     "output_type": "stream",
     "text": [
      "Epoch 89, Autoencoder Loss: 0.001116815721616149, Discriminator Loss: 0.0011428890284150839, Discriminator Accuracy: 0.9999681711196899\n",
      "Validation - Autoencoder Loss: 0.0026058729272335768, Discriminator Loss: 0.030927211046218872, Discriminator Accuracy: 0.9917429089546204\n"
     ]
    },
    {
     "name": "stderr",
     "output_type": "stream",
     "text": [
      "100%|██████████| 491/491 [02:32<00:00,  3.21it/s]\n"
     ]
    },
    {
     "name": "stdout",
     "output_type": "stream",
     "text": [
      "Epoch 90, Autoencoder Loss: 0.001114994753152132, Discriminator Loss: 0.0004829083336517215, Discriminator Accuracy: 1.0\n",
      "Validation - Autoencoder Loss: 0.002686265856027603, Discriminator Loss: 0.031235359609127045, Discriminator Accuracy: 0.9906072616577148\n"
     ]
    },
    {
     "name": "stderr",
     "output_type": "stream",
     "text": [
      "100%|██████████| 491/491 [02:32<00:00,  3.21it/s]\n"
     ]
    },
    {
     "name": "stdout",
     "output_type": "stream",
     "text": [
      "Epoch 91, Autoencoder Loss: 0.001108681783080101, Discriminator Loss: 0.00032469487632624805, Discriminator Accuracy: 1.0\n",
      "Validation - Autoencoder Loss: 0.0025932169519364834, Discriminator Loss: 0.02871888503432274, Discriminator Accuracy: 0.9914888143539429\n"
     ]
    },
    {
     "name": "stderr",
     "output_type": "stream",
     "text": [
      "100%|██████████| 491/491 [02:32<00:00,  3.21it/s]\n"
     ]
    },
    {
     "name": "stdout",
     "output_type": "stream",
     "text": [
      "Epoch 92, Autoencoder Loss: 0.0011027808068320155, Discriminator Loss: 2.341326035093516e-05, Discriminator Accuracy: 1.0\n",
      "Validation - Autoencoder Loss: 0.002699565142393112, Discriminator Loss: 0.0250823013484478, Discriminator Accuracy: 0.993267297744751\n"
     ]
    },
    {
     "name": "stderr",
     "output_type": "stream",
     "text": [
      "100%|██████████| 491/491 [02:33<00:00,  3.19it/s]\n"
     ]
    },
    {
     "name": "stdout",
     "output_type": "stream",
     "text": [
      "Epoch 93, Autoencoder Loss: 0.0010970864677801728, Discriminator Loss: 2.6891154902841663e-06, Discriminator Accuracy: 1.0\n",
      "Validation - Autoencoder Loss: 0.0026713083498179913, Discriminator Loss: 0.027787039056420326, Discriminator Accuracy: 0.9927591681480408\n"
     ]
    },
    {
     "name": "stderr",
     "output_type": "stream",
     "text": [
      "100%|██████████| 491/491 [02:32<00:00,  3.21it/s]\n"
     ]
    },
    {
     "name": "stdout",
     "output_type": "stream",
     "text": [
      "Epoch 94, Autoencoder Loss: 0.001092460355721414, Discriminator Loss: 0.008205011487007141, Discriminator Accuracy: 0.9997772574424744\n",
      "Validation - Autoencoder Loss: 0.0025635166093707085, Discriminator Loss: 0.02488372102379799, Discriminator Accuracy: 0.9925127625465393\n"
     ]
    },
    {
     "name": "stderr",
     "output_type": "stream",
     "text": [
      "100%|██████████| 491/491 [02:33<00:00,  3.21it/s]\n"
     ]
    },
    {
     "name": "stdout",
     "output_type": "stream",
     "text": [
      "Epoch 95, Autoencoder Loss: 0.0010911449790000916, Discriminator Loss: 4.982070458936505e-05, Discriminator Accuracy: 1.0\n",
      "Validation - Autoencoder Loss: 0.00275003956630826, Discriminator Loss: 0.025132985785603523, Discriminator Accuracy: 0.9922510385513306\n"
     ]
    },
    {
     "name": "stderr",
     "output_type": "stream",
     "text": [
      "100%|██████████| 491/491 [02:33<00:00,  3.21it/s]\n"
     ]
    },
    {
     "name": "stdout",
     "output_type": "stream",
     "text": [
      "Epoch 96, Autoencoder Loss: 0.0010857915040105581, Discriminator Loss: 0.00031547193066217005, Discriminator Accuracy: 1.0\n",
      "Validation - Autoencoder Loss: 0.00266268034465611, Discriminator Loss: 0.025932831689715385, Discriminator Accuracy: 0.9930208921432495\n"
     ]
    },
    {
     "name": "stderr",
     "output_type": "stream",
     "text": [
      "100%|██████████| 491/491 [02:34<00:00,  3.17it/s]\n"
     ]
    },
    {
     "name": "stdout",
     "output_type": "stream",
     "text": [
      "Epoch 97, Autoencoder Loss: 0.0010783161269500852, Discriminator Loss: 1.6320896975230426e-05, Discriminator Accuracy: 1.0\n",
      "Validation - Autoencoder Loss: 0.0027234188746660948, Discriminator Loss: 0.030099378898739815, Discriminator Accuracy: 0.9900914430618286\n"
     ]
    },
    {
     "name": "stderr",
     "output_type": "stream",
     "text": [
      "100%|██████████| 491/491 [02:33<00:00,  3.20it/s]\n"
     ]
    },
    {
     "name": "stdout",
     "output_type": "stream",
     "text": [
      "Epoch 98, Autoencoder Loss: 0.0010754745453596115, Discriminator Loss: 0.00040712239569984376, Discriminator Accuracy: 1.0\n",
      "Validation - Autoencoder Loss: 0.002767532831057906, Discriminator Loss: 0.03049496002495289, Discriminator Accuracy: 0.9914888143539429\n"
     ]
    },
    {
     "name": "stderr",
     "output_type": "stream",
     "text": [
      "100%|██████████| 491/491 [02:32<00:00,  3.22it/s]\n"
     ]
    },
    {
     "name": "stdout",
     "output_type": "stream",
     "text": [
      "Epoch 99, Autoencoder Loss: 0.0010733949020504951, Discriminator Loss: 0.0008492537308484316, Discriminator Accuracy: 1.0\n",
      "Validation - Autoencoder Loss: 0.0027880300767719746, Discriminator Loss: 0.022431479766964912, Discriminator Accuracy: 0.9926320910453796\n"
     ]
    }
   ],
   "source": [
    "autoencoder_losses_epoch = []\n",
    "discriminator_losses_epoch = []\n",
    "discriminator_acc_epoch = []\n",
    "val_autoencoder_losses_epoch = []\n",
    "val_discriminator_losses_epoch = []\n",
    "val_discriminator_acc_epoch = []\n",
    "\n",
    "for epoch in range(100):\n",
    "    # Initialize epoch-wise metrics\n",
    "    epoch_autoencoder_losses = []\n",
    "    epoch_discriminator_losses = []\n",
    "    epoch_discriminator_acc = []\n",
    "    epoch_val_autoencoder_losses = []\n",
    "    epoch_val_discriminator_losses = []\n",
    "    epoch_val_discriminator_acc = []\n",
    "\n",
    "    # Training loop\n",
    "    for idx, (batch_real, batch_label) in enumerate(tqdm(train_dataset)):\n",
    "        # Training steps\n",
    "        with tf.GradientTape() as autoencoder_tape, tf.GradientTape() as disc_tape:\n",
    "            latent_representation = encoder(batch_real)\n",
    "            generated_image = decoder(latent_representation)\n",
    "            loss_autoencoder = loss_fn_auto(batch_real, generated_image)\n",
    "            \n",
    "            fake = generated_image\n",
    "            loss_disc_real = loss_fn_disc(batch_label, discriminator(batch_real))\n",
    "            loss_disc_fake = loss_fn_disc(batch_label, discriminator(fake))\n",
    "            loss_disc = (loss_disc_real + loss_disc_fake) / 2\n",
    "\n",
    "        grads_autoencoder = autoencoder_tape.gradient(loss_autoencoder, autoencoder.trainable_weights)\n",
    "        opt_autoencoder.apply_gradients(zip(grads_autoencoder, autoencoder.trainable_weights))\n",
    "\n",
    "        grads_discriminator = disc_tape.gradient(loss_disc, discriminator.trainable_weights)\n",
    "        opt_disc.apply_gradients(zip(grads_discriminator, discriminator.trainable_weights))\n",
    "\n",
    "        # Store batch-wise metrics\n",
    "        epoch_autoencoder_losses.append(loss_autoencoder.numpy())\n",
    "        epoch_discriminator_losses.append(loss_disc.numpy())\n",
    "        epoch_discriminator_acc.append(tf.reduce_mean(tf.keras.metrics.categorical_accuracy(batch_label, discriminator(fake))).numpy())\n",
    "        if idx % 200 == 0:\n",
    "            img = tf.keras.preprocessing.image.array_to_img(fake[0])\n",
    "            img.save(f\"{save_dir}/generated_img_epoch_{epoch}_batch_{idx}.png\")\n",
    "\n",
    "    # Validation loop\n",
    "    for val_batch_real, val_batch_label in val_dataset:\n",
    "        val_latent_representation = encoder(val_batch_real)\n",
    "        val_generated_image = decoder(val_latent_representation)\n",
    "        val_loss_autoencoder = loss_fn_auto(val_batch_real, val_generated_image)\n",
    "        val_loss_disc_real = loss_fn_disc(val_batch_label, discriminator(val_batch_real))\n",
    "        val_loss_disc_fake = loss_fn_disc(val_batch_label, discriminator(val_generated_image))\n",
    "        val_loss_disc = (val_loss_disc_real + val_loss_disc_fake) / 2\n",
    "\n",
    "        # Calculate accuracy\n",
    "        val_discriminator_accuracy = tf.reduce_mean(tf.keras.metrics.categorical_accuracy(val_batch_label, discriminator(val_generated_image)))\n",
    "\n",
    "        # Store validation metrics\n",
    "        epoch_val_autoencoder_losses.append(val_loss_autoencoder.numpy())\n",
    "        epoch_val_discriminator_losses.append(val_loss_disc.numpy())\n",
    "        epoch_val_discriminator_acc.append(val_discriminator_accuracy.numpy())\n",
    "\n",
    "    # Calculate epoch-wise averages and append to the lists\n",
    "    avg_autoencoder_loss = np.mean(epoch_autoencoder_losses)\n",
    "    avg_discriminator_loss = np.mean(epoch_discriminator_losses)\n",
    "    avg_discriminator_acc = np.mean(epoch_discriminator_acc)\n",
    "    avg_val_autoencoder_loss = np.mean(epoch_val_autoencoder_losses)\n",
    "    avg_val_discriminator_loss = np.mean(epoch_val_discriminator_losses)\n",
    "    avg_val_discriminator_acc = np.mean(epoch_val_discriminator_acc)\n",
    "\n",
    "    autoencoder_losses_epoch.append(avg_autoencoder_loss)\n",
    "    discriminator_losses_epoch.append(avg_discriminator_loss)\n",
    "    discriminator_acc_epoch.append(avg_discriminator_acc)\n",
    "    val_autoencoder_losses_epoch.append(avg_val_autoencoder_loss)\n",
    "    val_discriminator_losses_epoch.append(avg_val_discriminator_loss)\n",
    "    val_discriminator_acc_epoch.append(avg_val_discriminator_acc)\n",
    "\n",
    "    # Print epoch-wise metrics\n",
    "    print(f\"Epoch {epoch}, Autoencoder Loss: {avg_autoencoder_loss}, Discriminator Loss: {avg_discriminator_loss}, Discriminator Accuracy: {avg_discriminator_acc}\")\n",
    "    print(f\"Validation - Autoencoder Loss: {avg_val_autoencoder_loss}, Discriminator Loss: {avg_val_discriminator_loss}, Discriminator Accuracy: {avg_val_discriminator_acc}\")\n"
   ]
  },
  {
   "cell_type": "code",
   "execution_count": 10,
   "id": "6d245a2e",
   "metadata": {
    "execution": {
     "iopub.execute_input": "2024-05-15T17:47:25.937146Z",
     "iopub.status.busy": "2024-05-15T17:47:25.936766Z",
     "iopub.status.idle": "2024-05-15T17:47:27.296580Z",
     "shell.execute_reply": "2024-05-15T17:47:27.295667Z"
    },
    "papermill": {
     "duration": 5.418246,
     "end_time": "2024-05-15T17:47:27.298879",
     "exception": false,
     "start_time": "2024-05-15T17:47:21.880633",
     "status": "completed"
    },
    "tags": []
   },
   "outputs": [
    {
     "data": {
      "image/png": "[encoded data removed]",
      "text/plain": [
       "<Figure size 1200x600 with 1 Axes>"
      ]
     },
     "metadata": {},
     "output_type": "display_data"
    },
    {
     "data": {
      "image/png": "[encoded data removed]",
      "text/plain": [
       "<Figure size 1200x600 with 1 Axes>"
      ]
     },
     "metadata": {},
     "output_type": "display_data"
    },
    {
     "data": {
      "image/png": "[encoded data removed]",
      "text/plain": [
       "<Figure size 1200x600 with 1 Axes>"
      ]
     },
     "metadata": {},
     "output_type": "display_data"
    }
   ],
   "source": [
    "import matplotlib.pyplot as plt\n",
    "\n",
    "# Plot autoencoder losses\n",
    "plt.figure(figsize=(12, 6))\n",
    "plt.plot(autoencoder_losses_epoch, label='Training Autoencoder Loss')\n",
    "plt.plot(val_autoencoder_losses_epoch, label='Validation Autoencoder Loss')\n",
    "plt.xlabel('Epoch')\n",
    "plt.ylabel('Loss')\n",
    "plt.title('Training and Validation Autoencoder Losses')\n",
    "plt.legend()\n",
    "plt.savefig('autoencoder_losses.png')  # Save the plot as an image\n",
    "plt.show()\n",
    "\n",
    "# Plot discriminator losses\n",
    "plt.figure(figsize=(12, 6))\n",
    "plt.plot(discriminator_losses_epoch, label='Training Discriminator Loss')\n",
    "plt.plot(val_discriminator_losses_epoch, label='Validation Discriminator Loss')\n",
    "plt.xlabel('Epoch')\n",
    "plt.ylabel('Loss')\n",
    "plt.title('Training and Validation Discriminator Losses')\n",
    "plt.legend()\n",
    "plt.savefig('discriminator_losses.png')  # Save the plot as an image\n",
    "plt.show()\n",
    "\n",
    "# Plot discriminator accuracy\n",
    "plt.figure(figsize=(12, 6))\n",
    "plt.plot(discriminator_acc_epoch, label='Training Discriminator Accuracy')\n",
    "plt.plot(val_discriminator_acc_epoch, label='Validation Discriminator Accuracy')\n",
    "plt.xlabel('Epoch')\n",
    "plt.ylabel('Accuracy')\n",
    "plt.title('Training and Validation Discriminator Accuracy')\n",
    "plt.legend()\n",
    "plt.savefig('discriminator_accuracy.png')  # Save the plot as an image\n",
    "plt.show()\n"
   ]
  },
  {
   "cell_type": "code",
   "execution_count": 11,
   "id": "ff3c3091",
   "metadata": {
    "execution": {
     "iopub.execute_input": "2024-05-15T17:47:35.474584Z",
     "iopub.status.busy": "2024-05-15T17:47:35.474227Z",
     "iopub.status.idle": "2024-05-15T17:47:36.835632Z",
     "shell.execute_reply": "2024-05-15T17:47:36.834770Z"
    },
    "papermill": {
     "duration": 5.636631,
     "end_time": "2024-05-15T17:47:36.837695",
     "exception": false,
     "start_time": "2024-05-15T17:47:31.201064",
     "status": "completed"
    },
    "tags": []
   },
   "outputs": [
    {
     "data": {
      "image/png": "[encoded data removed]",
      "text/plain": [
       "<Figure size 1200x600 with 1 Axes>"
      ]
     },
     "metadata": {},
     "output_type": "display_data"
    },
    {
     "data": {
      "image/png": "[encoded data removed]",
      "text/plain": [
       "<Figure size 1200x600 with 1 Axes>"
      ]
     },
     "metadata": {},
     "output_type": "display_data"
    },
    {
     "data": {
      "image/png": "[encoded data removed]",
      "text/plain": [
       "<Figure size 1200x600 with 1 Axes>"
      ]
     },
     "metadata": {},
     "output_type": "display_data"
    }
   ],
   "source": [
    "import matplotlib.pyplot as plt\n",
    "from matplotlib import rcParams\n",
    "\n",
    "# Set font properties\n",
    "rcParams['font.family'] = 'Times New Roman'\n",
    "rcParams['font.size'] = 12\n",
    "\n",
    "# Plot autoencoder losses\n",
    "plt.figure(figsize=(12, 6))\n",
    "plt.plot(autoencoder_losses_epoch, label='Training Autoencoder Loss')\n",
    "plt.plot(val_autoencoder_losses_epoch, label='Validation Autoencoder Loss')\n",
    "plt.xlabel('Epoch')\n",
    "plt.ylabel('Loss')\n",
    "plt.title('Training and Validation Autoencoder Losses')\n",
    "plt.legend()\n",
    "plt.savefig('autoencoder_losses12.png')  # Save the plot as an image\n",
    "plt.show()\n",
    "\n",
    "# Plot discriminator losses\n",
    "plt.figure(figsize=(12, 6))\n",
    "plt.plot(discriminator_losses_epoch, label='Training Discriminator Loss')\n",
    "plt.plot(val_discriminator_losses_epoch, label='Validation Discriminator Loss')\n",
    "plt.xlabel('Epoch')\n",
    "plt.ylabel('Loss')\n",
    "plt.title('Training and Validation Discriminator Losses')\n",
    "plt.legend()\n",
    "plt.savefig('discriminator_losses12.png')  # Save the plot as an image\n",
    "plt.show()\n",
    "\n",
    "# Plot discriminator accuracy\n",
    "plt.figure(figsize=(12, 6))\n",
    "plt.plot(discriminator_acc_epoch, label='Training Discriminator Accuracy')\n",
    "plt.plot(val_discriminator_acc_epoch, label='Validation Discriminator Accuracy')\n",
    "plt.xlabel('Epoch')\n",
    "plt.ylabel('Accuracy')\n",
    "plt.title('Training and Validation Discriminator Accuracy')\n",
    "plt.legend()\n",
    "plt.savefig('discriminator_accuracy12.png')  # Save the plot as an image\n",
    "plt.show()\n"
   ]
  },
  {
   "cell_type": "code",
   "execution_count": 12,
   "id": "5cd9975c",
   "metadata": {
    "execution": {
     "iopub.execute_input": "2024-05-15T17:47:44.899780Z",
     "iopub.status.busy": "2024-05-15T17:47:44.898932Z",
     "iopub.status.idle": "2024-05-15T17:48:03.948327Z",
     "shell.execute_reply": "2024-05-15T17:48:03.947395Z"
    },
    "papermill": {
     "duration": 23.071984,
     "end_time": "2024-05-15T17:48:03.950364",
     "exception": false,
     "start_time": "2024-05-15T17:47:40.878380",
     "status": "completed"
    },
    "tags": []
   },
   "outputs": [
    {
     "name": "stdout",
     "output_type": "stream",
     "text": [
      "\u001b[1m 12/491\u001b[0m \u001b[37m━━━━━━━━━━━━━━━━━━━━\u001b[0m \u001b[1m6s\u001b[0m 15ms/step - accuracy: 1.0000 - loss: 1.3531e-06"
     ]
    },
    {
     "name": "stderr",
     "output_type": "stream",
     "text": [
      "WARNING: All log messages before absl::InitializeLog() is called are written to STDERR\n",
      "I0000 00:00:1715795268.800471      75 device_compiler.h:186] Compiled cluster using XLA!  This line is logged at most once for the lifetime of the process.\n"
     ]
    },
    {
     "name": "stdout",
     "output_type": "stream",
     "text": [
      "\u001b[1m491/491\u001b[0m \u001b[32m━━━━━━━━━━━━━━━━━━━━\u001b[0m\u001b[37m\u001b[0m \u001b[1m19s\u001b[0m 31ms/step - accuracy: 1.0000 - loss: 2.7789e-06\n",
      "Train Result: [2.931065637312713e-06, 1.0]\n"
     ]
    }
   ],
   "source": [
    "# Evaluate the discriminator on the train data\n",
    "result = discriminator.evaluate(train_dataset)\n",
    "\n",
    "# Print the result\n",
    "print(f'Train Result: {result}')\n"
   ]
  },
  {
   "cell_type": "code",
   "execution_count": 13,
   "id": "00d20a85",
   "metadata": {
    "execution": {
     "iopub.execute_input": "2024-05-15T17:48:12.235607Z",
     "iopub.status.busy": "2024-05-15T17:48:12.234906Z",
     "iopub.status.idle": "2024-05-15T17:50:43.126423Z",
     "shell.execute_reply": "2024-05-15T17:50:43.125558Z"
    },
    "papermill": {
     "duration": 154.983069,
     "end_time": "2024-05-15T17:50:43.128774",
     "exception": false,
     "start_time": "2024-05-15T17:48:08.145705",
     "status": "completed"
    },
    "tags": []
   },
   "outputs": [
    {
     "name": "stdout",
     "output_type": "stream",
     "text": [
      "Found 12630 validated image filenames belonging to 43 classes.\n"
     ]
    }
   ],
   "source": [
    "from tensorflow.keras.preprocessing.image import ImageDataGenerator\n",
    "\n",
    "# Convert numerical class labels to strings\n",
    "# Define the path to the test images\n",
    "import pandas as pd\n",
    "df = pd.read_csv('/kaggle/input/gtsrb-german-traffic-sign/Test.csv')\n",
    "test_dir = '/kaggle/input/gtsrb-german-traffic-sign/'\n",
    "\n",
    "df['ClassId'] = df['ClassId'].astype(str)\n",
    "\n",
    "# Define image data generator with preprocessing steps for test data\n",
    "test_datagen = ImageDataGenerator(rescale=1./255)\n",
    "\n",
    "# Flow from dataframe to preprocess test images\n",
    "test_generator = test_datagen.flow_from_dataframe(\n",
    "    df,\n",
    "    directory=test_dir,\n",
    "    x_col='Path',\n",
    "    y_col='ClassId',\n",
    "    target_size=(64, 64),\n",
    "    batch_size=len(df),\n",
    "    class_mode='categorical',  # 'categorical' returns one-hot encoded labels\n",
    "    shuffle=False  # Do not shuffle for evaluation\n",
    ")\n",
    "\n",
    "# Get preprocessed test images and labels\n",
    "X_test, y_test = next(test_generator)\n"
   ]
  },
  {
   "cell_type": "code",
   "execution_count": 14,
   "id": "9a9ab71b",
   "metadata": {
    "execution": {
     "iopub.execute_input": "2024-05-15T17:50:51.146801Z",
     "iopub.status.busy": "2024-05-15T17:50:51.146449Z",
     "iopub.status.idle": "2024-05-15T17:50:51.150609Z",
     "shell.execute_reply": "2024-05-15T17:50:51.149722Z"
    },
    "papermill": {
     "duration": 3.919002,
     "end_time": "2024-05-15T17:50:51.152629",
     "exception": false,
     "start_time": "2024-05-15T17:50:47.233627",
     "status": "completed"
    },
    "tags": []
   },
   "outputs": [],
   "source": [
    "#130 epoch 93 percent"
   ]
  },
  {
   "cell_type": "code",
   "execution_count": 15,
   "id": "8053b5e7",
   "metadata": {
    "execution": {
     "iopub.execute_input": "2024-05-15T17:50:59.349549Z",
     "iopub.status.busy": "2024-05-15T17:50:59.349187Z",
     "iopub.status.idle": "2024-05-15T17:51:07.374485Z",
     "shell.execute_reply": "2024-05-15T17:51:07.373413Z"
    },
    "papermill": {
     "duration": 12.0806,
     "end_time": "2024-05-15T17:51:07.376586",
     "exception": false,
     "start_time": "2024-05-15T17:50:55.295986",
     "status": "completed"
    },
    "tags": []
   },
   "outputs": [
    {
     "name": "stdout",
     "output_type": "stream",
     "text": [
      "\u001b[1m395/395\u001b[0m \u001b[32m━━━━━━━━━━━━━━━━━━━━\u001b[0m\u001b[37m\u001b[0m \u001b[1m7s\u001b[0m 12ms/step - accuracy: 0.9673 - loss: 0.2128\n",
      "Test Result: [0.22016431391239166, 0.966825008392334]\n"
     ]
    }
   ],
   "source": [
    "# Evaluate the discriminator on the test data   ##100 epoch\n",
    "result = discriminator.evaluate(X_test, y_test)\n",
    "\n",
    "# Print the result\n",
    "print(f'Test Result: {result}')\n"
   ]
  },
  {
   "cell_type": "code",
   "execution_count": 16,
   "id": "414a3244",
   "metadata": {
    "execution": {
     "iopub.execute_input": "2024-05-15T17:51:15.521152Z",
     "iopub.status.busy": "2024-05-15T17:51:15.520770Z",
     "iopub.status.idle": "2024-05-15T17:51:19.955813Z",
     "shell.execute_reply": "2024-05-15T17:51:19.954876Z"
    },
    "papermill": {
     "duration": 8.637801,
     "end_time": "2024-05-15T17:51:19.957774",
     "exception": false,
     "start_time": "2024-05-15T17:51:11.319973",
     "status": "completed"
    },
    "tags": []
   },
   "outputs": [
    {
     "name": "stdout",
     "output_type": "stream",
     "text": [
      "\u001b[1m395/395\u001b[0m \u001b[32m━━━━━━━━━━━━━━━━━━━━\u001b[0m\u001b[37m\u001b[0m \u001b[1m3s\u001b[0m 7ms/step - accuracy: 0.9673 - loss: 0.2128\n",
      "Test Result: [0.22016431391239166, 0.966825008392334]\n"
     ]
    }
   ],
   "source": [
    "# Evaluate the discriminator on the test data   #125 epoch\n",
    "result = discriminator.evaluate(X_test, y_test)\n",
    "\n",
    "# Print the result\n",
    "print(f'Test Result: {result}')\n"
   ]
  },
  {
   "cell_type": "code",
   "execution_count": 17,
   "id": "31b3ee64",
   "metadata": {
    "collapsed": true,
    "execution": {
     "iopub.execute_input": "2024-05-15T17:51:28.113358Z",
     "iopub.status.busy": "2024-05-15T17:51:28.112978Z",
     "iopub.status.idle": "2024-05-15T17:51:32.522213Z",
     "shell.execute_reply": "2024-05-15T17:51:32.521256Z"
    },
    "jupyter": {
     "outputs_hidden": true,
     "source_hidden": true
    },
    "papermill": {
     "duration": 8.480968,
     "end_time": "2024-05-15T17:51:32.524171",
     "exception": false,
     "start_time": "2024-05-15T17:51:24.043203",
     "status": "completed"
    },
    "tags": []
   },
   "outputs": [
    {
     "name": "stdout",
     "output_type": "stream",
     "text": [
      "\u001b[1m395/395\u001b[0m \u001b[32m━━━━━━━━━━━━━━━━━━━━\u001b[0m\u001b[37m\u001b[0m \u001b[1m3s\u001b[0m 7ms/step - accuracy: 0.9673 - loss: 0.2128\n",
      "Test Result: [0.22016431391239166, 0.966825008392334]\n"
     ]
    }
   ],
   "source": [
    "# Evaluate the discriminator on the test data  ##145 epoch\n",
    "result = discriminator.evaluate(X_test, y_test)\n",
    "\n",
    "# Print the result\n",
    "print(f'Test Result: {result}')\n"
   ]
  },
  {
   "cell_type": "code",
   "execution_count": 18,
   "id": "c01a64ea",
   "metadata": {
    "execution": {
     "iopub.execute_input": "2024-05-15T17:51:40.624363Z",
     "iopub.status.busy": "2024-05-15T17:51:40.623952Z",
     "iopub.status.idle": "2024-05-15T17:51:40.723602Z",
     "shell.execute_reply": "2024-05-15T17:51:40.722639Z"
    },
    "papermill": {
     "duration": 4.097239,
     "end_time": "2024-05-15T17:51:40.725584",
     "exception": false,
     "start_time": "2024-05-15T17:51:36.628345",
     "status": "completed"
    },
    "tags": []
   },
   "outputs": [
    {
     "data": {
      "text/plain": [
       "'/kaggle/working/without_aug2.zip'"
      ]
     },
     "execution_count": 18,
     "metadata": {},
     "output_type": "execute_result"
    }
   ],
   "source": [
    "import shutil\n",
    "import os\n",
    "\n",
    "# Specify the folder path\n",
    "folder_path = '/kaggle/working/empty_folderf3'\n",
    "\n",
    "# Create a zip file\n",
    "shutil.make_archive(folder_path, 'zip', folder_path)\n",
    "\n",
    "# Move the zip file to the output directory\n",
    "output_path = '/kaggle/working/without_aug2.zip'\n",
    "shutil.move(folder_path + '.zip', output_path)\n",
    "\n",
    "# Display the download link\n",
    "output_path\n",
    "   "
   ]
  },
  {
   "cell_type": "code",
   "execution_count": 19,
   "id": "58c34b88",
   "metadata": {
    "execution": {
     "iopub.execute_input": "2024-05-15T17:51:49.131720Z",
     "iopub.status.busy": "2024-05-15T17:51:49.131380Z",
     "iopub.status.idle": "2024-05-15T17:51:49.303325Z",
     "shell.execute_reply": "2024-05-15T17:51:49.302461Z"
    },
    "papermill": {
     "duration": 4.287541,
     "end_time": "2024-05-15T17:51:49.305619",
     "exception": false,
     "start_time": "2024-05-15T17:51:45.018078",
     "status": "completed"
    },
    "tags": []
   },
   "outputs": [],
   "source": [
    "discriminator.save('d_aug_valf.h5')"
   ]
  },
  {
   "cell_type": "code",
   "execution_count": 20,
   "id": "526ca649",
   "metadata": {
    "execution": {
     "iopub.execute_input": "2024-05-15T17:51:57.476500Z",
     "iopub.status.busy": "2024-05-15T17:51:57.476135Z",
     "iopub.status.idle": "2024-05-15T17:52:02.600706Z",
     "shell.execute_reply": "2024-05-15T17:52:02.599777Z"
    },
    "papermill": {
     "duration": 9.209957,
     "end_time": "2024-05-15T17:52:02.603073",
     "exception": false,
     "start_time": "2024-05-15T17:51:53.393116",
     "status": "completed"
    },
    "tags": []
   },
   "outputs": [
    {
     "name": "stdout",
     "output_type": "stream",
     "text": [
      "\u001b[1m395/395\u001b[0m \u001b[32m━━━━━━━━━━━━━━━━━━━━\u001b[0m\u001b[37m\u001b[0m \u001b[1m3s\u001b[0m 7ms/step\n",
      "Precision: [1.         0.9484127  0.9984544  0.9587156  0.98104956 0.99582754\n",
      " 1.         0.99526066 1.         1.         0.95041322 0.9375\n",
      " 0.97631579 0.89795918 0.98275862 0.94166667 0.96103896 0.98823529\n",
      " 0.91897233 0.78787879 0.52631579 0.98675497 0.97802198 0.97968397\n",
      " 0.95934959 0.99628253 0.81081081 0.99526066 0.99166667 0.99230769\n",
      " 0.98305085 0.92307692 0.98569385 1.         0.99843994 0.79310345\n",
      " 1.         1.         0.9480315  1.         0.95936795 0.9394572\n",
      " 0.96969697]\n",
      "Recall: [1.         0.99583333 0.97878788 0.9952381  0.97536232 0.99444444\n",
      " 0.99259259 1.         1.         0.96111111 0.88461538 1.\n",
      " 0.98933333 0.97777778 0.63333333 0.94166667 0.98666667 0.93333333\n",
      " 0.96875    0.86666667 0.5        0.99333333 0.98888889 0.96444444\n",
      " 0.78666667 0.99259259 1.         1.         0.99166667 0.99230769\n",
      " 0.96666667 1.         0.99855072 0.95555556 0.96969697 0.76666667\n",
      " 0.76666667 1.         0.95555556 0.88       0.94444444 1.\n",
      " 1.        ]\n",
      "F1 Score: [1.         0.97154472 0.98852334 0.97663551 0.97819767 0.99513551\n",
      " 0.99628253 0.9976247  1.         0.98016997 0.91633466 0.96774194\n",
      " 0.98278146 0.93617021 0.77027027 0.94166667 0.97368421 0.96\n",
      " 0.94320487 0.82539683 0.51282051 0.99003322 0.98342541 0.97200448\n",
      " 0.86446886 0.99443414 0.89552239 0.9976247  0.99166667 0.99230769\n",
      " 0.97478992 0.96       0.99208063 0.97727273 0.98385857 0.77966102\n",
      " 0.86792453 1.         0.95177866 0.93617021 0.9518477  0.96878364\n",
      " 0.98461538]\n",
      "Support: [ 60 720 660 420 690 720 270 210 150 360 390  60 750  90  90 120 150  90\n",
      " 480 180  60 150  90 450 150 270  60 210 120 390 120  60 690  90 660  90\n",
      "  60  90 630 150 450 450 480]\n",
      "Average Precision: 0.9520193628752806\n",
      "Average Recall: 0.9416096853844579\n",
      "Average F1 Score: 0.9447547937269751\n"
     ]
    }
   ],
   "source": [
    "from sklearn.metrics import precision_recall_fscore_support\n",
    "\n",
    "# Assuming you have test data predictions stored in y_pred and true labels in y_true\n",
    "y_pred = discriminator.predict(X_test)\n",
    "y_true = np.argmax(y_test, axis=1)  # Convert one-hot encoded labels to class labels\n",
    "\n",
    "# Convert predicted probabilities to class labels\n",
    "y_pred_labels = np.argmax(y_pred, axis=1)\n",
    "\n",
    "# Calculate precision, recall, f1-score, and support for each class\n",
    "precision, recall, f1_score, support = precision_recall_fscore_support(y_true, y_pred_labels)\n",
    "\n",
    "# Average precision, recall, f1-score across all classes\n",
    "avg_precision = np.mean(precision)\n",
    "avg_recall = np.mean(recall)\n",
    "avg_f1_score = np.mean(f1_score)\n",
    "\n",
    "# Print results\n",
    "print(\"Precision:\", precision)\n",
    "print(\"Recall:\", recall)\n",
    "print(\"F1 Score:\", f1_score)\n",
    "print(\"Support:\", support)\n",
    "print(\"Average Precision:\", avg_precision)\n",
    "print(\"Average Recall:\", avg_recall)\n",
    "print(\"Average F1 Score:\", avg_f1_score)\n"
   ]
  }
 ],
 "metadata": {
  "kaggle": {
   "accelerator": "gpu",
   "dataSources": [
    {
     "datasetId": 82373,
     "sourceId": 191501,
     "sourceType": "datasetVersion"
    },
    {
     "datasetId": 3820936,
     "sourceId": 6620552,
     "sourceType": "datasetVersion"
    }
   ],
   "dockerImageVersionId": 30699,
   "isGpuEnabled": true,
   "isInternetEnabled": true,
   "language": "python",
   "sourceType": "notebook"
  },
  "kernelspec": {
   "display_name": "Python 3",
   "language": "python",
   "name": "python3"
  },
  "language_info": {
   "codemirror_mode": {
    "name": "ipython",
    "version": 3
   },
   "file_extension": ".py",
   "mimetype": "text/x-python",
   "name": "python",
   "nbconvert_exporter": "python",
   "pygments_lexer": "ipython3",
   "version": "3.10.13"
  },
  "papermill": {
   "default_parameters": {},
   "duration": 17011.168272,
   "end_time": "2024-05-15T17:52:08.570615",
   "environment_variables": {},
   "exception": null,
   "input_path": "__notebook__.ipynb",
   "output_path": "__notebook__.ipynb",
   "parameters": {},
   "start_time": "2024-05-15T13:08:37.402343",
   "version": "2.5.0"
  }
 },
 "nbformat": 4,
 "nbformat_minor": 5
}
